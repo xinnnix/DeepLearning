{
 "cells": [
  {
   "cell_type": "code",
   "execution_count": 1,
   "id": "f8e7008d-a715-41f0-b7bb-1b6ed1d820d4",
   "metadata": {},
   "outputs": [],
   "source": [
    "a = 5"
   ]
  },
  {
   "cell_type": "code",
   "execution_count": 2,
   "id": "116d30cc-82bc-4a77-8007-ca675e4a0da0",
   "metadata": {},
   "outputs": [
    {
     "data": {
      "text/plain": [
       "5"
      ]
     },
     "execution_count": 2,
     "metadata": {},
     "output_type": "execute_result"
    }
   ],
   "source": [
    "a"
   ]
  },
  {
   "cell_type": "code",
   "execution_count": 3,
   "id": "3579c6a4-7bf5-41db-a684-8c251dc103b0",
   "metadata": {},
   "outputs": [],
   "source": [
    "from numpy.random import randn\n",
    "data = {i : randn() for i in range(7)}"
   ]
  },
  {
   "cell_type": "code",
   "execution_count": 4,
   "id": "39b31a56-642a-4d8e-bcdc-40671b53761c",
   "metadata": {},
   "outputs": [
    {
     "name": "stdout",
     "output_type": "stream",
     "text": [
      "{0: -0.6633745054460561, 1: -0.048400670500929374, 2: -0.14852421262169985, 3: -0.7108252452542848, 4: -0.271249784999779, 5: -0.4368521352621574, 6: 0.6723823619068223}\n"
     ]
    }
   ],
   "source": [
    "print (data)"
   ]
  },
  {
   "cell_type": "code",
   "execution_count": 6,
   "id": "3b3809a2-94f4-417b-a2d3-6dc031591f40",
   "metadata": {},
   "outputs": [
    {
     "data": {
      "text/plain": [
       "{0: -0.6633745054460561,\n",
       " 1: -0.048400670500929374,\n",
       " 2: -0.14852421262169985,\n",
       " 3: -0.7108252452542848,\n",
       " 4: -0.271249784999779,\n",
       " 5: -0.4368521352621574,\n",
       " 6: 0.6723823619068223}"
      ]
     },
     "execution_count": 6,
     "metadata": {},
     "output_type": "execute_result"
    }
   ],
   "source": [
    "data"
   ]
  },
  {
   "cell_type": "code",
   "execution_count": 5,
   "id": "3411b672-1c51-4763-99aa-41f0e328e3da",
   "metadata": {},
   "outputs": [
    {
     "name": "stdout",
     "output_type": "stream",
     "text": [
      "Sun Nov  6 14:24:35 2022       \n",
      "+-----------------------------------------------------------------------------+\n",
      "| NVIDIA-SMI 522.30       Driver Version: 522.30       CUDA Version: 11.8     |\n",
      "|-------------------------------+----------------------+----------------------+\n",
      "| GPU  Name            TCC/WDDM | Bus-Id        Disp.A | Volatile Uncorr. ECC |\n",
      "| Fan  Temp  Perf  Pwr:Usage/Cap|         Memory-Usage | GPU-Util  Compute M. |\n",
      "|                               |                      |               MIG M. |\n",
      "|===============================+======================+======================|\n",
      "|   0  NVIDIA GeForce ... WDDM  | 00000000:01:00.0  On |                  Off |\n",
      "|  0%   35C    P8    14W / 480W |    854MiB / 24564MiB |      3%      Default |\n",
      "|                               |                      |                  N/A |\n",
      "+-------------------------------+----------------------+----------------------+\n",
      "                                                                               \n",
      "+-----------------------------------------------------------------------------+\n",
      "| Processes:                                                                  |\n",
      "|  GPU   GI   CI        PID   Type   Process name                  GPU Memory |\n",
      "|        ID   ID                                                   Usage      |\n",
      "|=============================================================================|\n",
      "|    0   N/A  N/A       812    C+G   ...e\\PhoneExperienceHost.exe    N/A      |\n",
      "|    0   N/A  N/A      2572    C+G   ...y\\ShellExperienceHost.exe    N/A      |\n",
      "|    0   N/A  N/A      2720    C+G   ...418.35\\msedgewebview2.exe    N/A      |\n",
      "|    0   N/A  N/A      7696    C+G   ...me\\Application\\chrome.exe    N/A      |\n",
      "|    0   N/A  N/A      7892    C+G   C:\\Windows\\explorer.exe         N/A      |\n",
      "|    0   N/A  N/A      9816    C+G   ...n1h2txyewy\\SearchHost.exe    N/A      |\n",
      "|    0   N/A  N/A      9856    C+G   ...artMenuExperienceHost.exe    N/A      |\n",
      "|    0   N/A  N/A     11220    C+G   ...2txyewy\\TextInputHost.exe    N/A      |\n",
      "|    0   N/A  N/A     11852    C+G   ...ge\\Application\\msedge.exe    N/A      |\n",
      "+-----------------------------------------------------------------------------+\n"
     ]
    }
   ],
   "source": [
    "!nvidia-smi"
   ]
  },
  {
   "cell_type": "code",
   "execution_count": 7,
   "id": "6fd7b7f4-df16-4b11-b101-5d0c9e074496",
   "metadata": {},
   "outputs": [],
   "source": [
    "an_apple = 27"
   ]
  },
  {
   "cell_type": "code",
   "execution_count": 8,
   "id": "6ed6ac5e-5972-421f-8064-88300d744b5a",
   "metadata": {},
   "outputs": [],
   "source": [
    "an_example = 42"
   ]
  },
  {
   "cell_type": "code",
   "execution_count": 9,
   "id": "dfe5b03a-7571-4e08-82f8-cdb48a86290c",
   "metadata": {},
   "outputs": [
    {
     "data": {
      "text/plain": [
       "42"
      ]
     },
     "execution_count": 9,
     "metadata": {},
     "output_type": "execute_result"
    }
   ],
   "source": [
    "an_apple\n",
    "an_example"
   ]
  },
  {
   "cell_type": "code",
   "execution_count": 10,
   "id": "0a14c556-3d41-420c-a31a-b839c7b628b2",
   "metadata": {},
   "outputs": [],
   "source": [
    "b = [1, 2, 3]"
   ]
  },
  {
   "cell_type": "code",
   "execution_count": 11,
   "id": "319fb874-488f-4c8a-99d3-0f3e158ef355",
   "metadata": {},
   "outputs": [
    {
     "data": {
      "text/plain": [
       "<function list.pop(index=-1, /)>"
      ]
     },
     "execution_count": 11,
     "metadata": {},
     "output_type": "execute_result"
    }
   ],
   "source": [
    "b.pop"
   ]
  },
  {
   "cell_type": "code",
   "execution_count": 12,
   "id": "30c9a42f-3557-4b56-b2d7-4d2e23fe1a9d",
   "metadata": {},
   "outputs": [
    {
     "data": {
      "text/plain": [
       "[1, 2, 3]"
      ]
     },
     "execution_count": 12,
     "metadata": {},
     "output_type": "execute_result"
    }
   ],
   "source": [
    "b"
   ]
  },
  {
   "cell_type": "code",
   "execution_count": 13,
   "id": "2c73d1e8-80c6-4514-b4c4-43c38cb2fb73",
   "metadata": {},
   "outputs": [
    {
     "data": {
      "text/plain": [
       "3"
      ]
     },
     "execution_count": 13,
     "metadata": {},
     "output_type": "execute_result"
    }
   ],
   "source": [
    "b.pop()"
   ]
  },
  {
   "cell_type": "code",
   "execution_count": 14,
   "id": "6eb901cb-498c-42c8-b891-1da697ea1ada",
   "metadata": {},
   "outputs": [
    {
     "data": {
      "text/plain": [
       "[1, 2]"
      ]
     },
     "execution_count": 14,
     "metadata": {},
     "output_type": "execute_result"
    }
   ],
   "source": [
    "b"
   ]
  },
  {
   "cell_type": "code",
   "execution_count": 16,
   "id": "83e2c8c4-a246-4ff2-bc71-028e3419b3e3",
   "metadata": {},
   "outputs": [],
   "source": [
    "import datetime"
   ]
  },
  {
   "cell_type": "code",
   "execution_count": 17,
   "id": "142e51fe-6a17-4bcb-9e07-8f86157fd3d1",
   "metadata": {},
   "outputs": [
    {
     "data": {
      "text/plain": [
       "datetime.date"
      ]
     },
     "execution_count": 17,
     "metadata": {},
     "output_type": "execute_result"
    }
   ],
   "source": [
    "datetime.date"
   ]
  },
  {
   "cell_type": "code",
   "execution_count": 18,
   "id": "16bba505-8612-4db0-919f-5fa64027efd1",
   "metadata": {},
   "outputs": [
    {
     "data": {
      "text/plain": [
       "datetime.tzinfo"
      ]
     },
     "execution_count": 18,
     "metadata": {},
     "output_type": "execute_result"
    }
   ],
   "source": [
    "datetime.tzinfo"
   ]
  },
  {
   "cell_type": "code",
   "execution_count": 19,
   "id": "3e91b299-a82d-4274-97e7-69a9b74e32df",
   "metadata": {},
   "outputs": [
    {
     "data": {
      "text/plain": [
       "\u001b[1;31mType:\u001b[0m        list\n",
       "\u001b[1;31mString form:\u001b[0m [1, 2]\n",
       "\u001b[1;31mLength:\u001b[0m      2\n",
       "\u001b[1;31mDocstring:\u001b[0m  \n",
       "Built-in mutable sequence.\n",
       "\n",
       "If no argument is given, the constructor creates a new empty list.\n",
       "The argument must be an iterable if specified.\n"
      ]
     },
     "metadata": {},
     "output_type": "display_data"
    }
   ],
   "source": [
    "b?"
   ]
  },
  {
   "cell_type": "code",
   "execution_count": 20,
   "id": "6374e615-20b4-4fc2-921c-8e5a743cbaeb",
   "metadata": {},
   "outputs": [],
   "source": [
    "def add_numbers(a, b):\n",
    "    \"\"\"\n",
    "    Add two numbers together\n",
    "    \n",
    "    Returns\n",
    "    -------\n",
    "    the_sum : type of arguments\n",
    "    \"\"\"\n",
    "    return a + b"
   ]
  },
  {
   "cell_type": "code",
   "execution_count": 21,
   "id": "fdb6ca42-9fb7-4434-a56d-4f69001a7abd",
   "metadata": {},
   "outputs": [
    {
     "data": {
      "text/plain": [
       "\u001b[1;31mSignature:\u001b[0m \u001b[0madd_numbers\u001b[0m\u001b[1;33m(\u001b[0m\u001b[0ma\u001b[0m\u001b[1;33m,\u001b[0m \u001b[0mb\u001b[0m\u001b[1;33m)\u001b[0m\u001b[1;33m\u001b[0m\u001b[1;33m\u001b[0m\u001b[0m\n",
       "\u001b[1;31mDocstring:\u001b[0m\n",
       "Add two numbers together\n",
       "\n",
       "Returns\n",
       "-------\n",
       "the_sum : type of arguments\n",
       "\u001b[1;31mFile:\u001b[0m      c:\\users\\admin\\appdata\\local\\temp\\ipykernel_408\\4226101940.py\n",
       "\u001b[1;31mType:\u001b[0m      function\n"
      ]
     },
     "metadata": {},
     "output_type": "display_data"
    }
   ],
   "source": [
    "add_numbers?"
   ]
  },
  {
   "cell_type": "code",
   "execution_count": 22,
   "id": "c86a07e5-16bb-4b6e-bdcc-1d29e565b6b1",
   "metadata": {},
   "outputs": [
    {
     "data": {
      "text/plain": [
       "\u001b[1;31mSignature:\u001b[0m \u001b[0madd_numbers\u001b[0m\u001b[1;33m(\u001b[0m\u001b[0ma\u001b[0m\u001b[1;33m,\u001b[0m \u001b[0mb\u001b[0m\u001b[1;33m)\u001b[0m\u001b[1;33m\u001b[0m\u001b[1;33m\u001b[0m\u001b[0m\n",
       "\u001b[1;31mSource:\u001b[0m   \n",
       "\u001b[1;32mdef\u001b[0m \u001b[0madd_numbers\u001b[0m\u001b[1;33m(\u001b[0m\u001b[0ma\u001b[0m\u001b[1;33m,\u001b[0m \u001b[0mb\u001b[0m\u001b[1;33m)\u001b[0m\u001b[1;33m:\u001b[0m\u001b[1;33m\n",
       "\u001b[0m    \u001b[1;34m\"\"\"\n",
       "    Add two numbers together\n",
       "    \n",
       "    Returns\n",
       "    -------\n",
       "    the_sum : type of arguments\n",
       "    \"\"\"\u001b[0m\u001b[1;33m\n",
       "\u001b[0m    \u001b[1;32mreturn\u001b[0m \u001b[0ma\u001b[0m \u001b[1;33m+\u001b[0m \u001b[0mb\u001b[0m\u001b[1;33m\u001b[0m\u001b[1;33m\u001b[0m\u001b[0m\n",
       "\u001b[1;31mFile:\u001b[0m      c:\\users\\admin\\appdata\\local\\temp\\ipykernel_408\\4226101940.py\n",
       "\u001b[1;31mType:\u001b[0m      function\n"
      ]
     },
     "metadata": {},
     "output_type": "display_data"
    }
   ],
   "source": [
    "add_numbers??"
   ]
  },
  {
   "cell_type": "code",
   "execution_count": 24,
   "id": "9aad750e-6b0b-430e-a87a-e15e126a1636",
   "metadata": {},
   "outputs": [],
   "source": [
    "import numpy as np"
   ]
  },
  {
   "cell_type": "code",
   "execution_count": 25,
   "id": "fb3cf886-ee6a-42bb-b95a-b9fcdd8223fd",
   "metadata": {},
   "outputs": [
    {
     "data": {
      "text/plain": [
       "np.__loader__\n",
       "np.load\n",
       "np.loads\n",
       "np.loadtxt"
      ]
     },
     "metadata": {},
     "output_type": "display_data"
    }
   ],
   "source": [
    "np.*load*?"
   ]
  },
  {
   "cell_type": "code",
   "execution_count": 26,
   "id": "1dfffc2a-67d4-4ef2-8fbe-5100b4b00dee",
   "metadata": {},
   "outputs": [
    {
     "name": "stdout",
     "output_type": "stream",
     "text": [
      "811 ns ± 1.58 ns per loop (mean ± std. dev. of 7 runs, 1000000 loops each)\n"
     ]
    }
   ],
   "source": [
    "%timeit np.dot(a,a)"
   ]
  },
  {
   "cell_type": "code",
   "execution_count": 27,
   "id": "9d867537-4dd3-43c7-9c4e-dd9331a2e3f5",
   "metadata": {},
   "outputs": [],
   "source": [
    "a = np.random.randn(100,100)"
   ]
  },
  {
   "cell_type": "code",
   "execution_count": 28,
   "id": "9c837ad7-fa68-419a-9530-3b18c6141b99",
   "metadata": {},
   "outputs": [
    {
     "name": "stdout",
     "output_type": "stream",
     "text": [
      "39.6 µs ± 1.12 µs per loop (mean ± std. dev. of 7 runs, 10000 loops each)\n"
     ]
    }
   ],
   "source": [
    "%timeit np.dot(a,a)"
   ]
  },
  {
   "cell_type": "code",
   "execution_count": 29,
   "id": "82ee4e0d-cb81-4e0c-9597-f64c90315a58",
   "metadata": {},
   "outputs": [
    {
     "data": {
      "text/plain": [
       "\u001b[1;31mDocstring:\u001b[0m\n",
       "Resets the namespace by removing all names defined by the user, if\n",
       "called without arguments, or by removing some types of objects, such\n",
       "as everything currently in IPython's In[] and Out[] containers (see\n",
       "the parameters for details).\n",
       "\n",
       "Parameters\n",
       "----------\n",
       "-f : force reset without asking for confirmation.\n",
       "\n",
       "-s : 'Soft' reset: Only clears your namespace, leaving history intact.\n",
       "    References to objects may be kept. By default (without this option),\n",
       "    we do a 'hard' reset, giving you a new session and removing all\n",
       "    references to objects from the current session.\n",
       "\n",
       "--aggressive: Try to aggressively remove modules from sys.modules ; this\n",
       "    may allow you to reimport Python modules that have been updated and\n",
       "    pick up changes, but can have unattended consequences.\n",
       "\n",
       "in : reset input history\n",
       "\n",
       "out : reset output history\n",
       "\n",
       "dhist : reset directory history\n",
       "\n",
       "array : reset only variables that are NumPy arrays\n",
       "\n",
       "See Also\n",
       "--------\n",
       "reset_selective : invoked as ``%reset_selective``\n",
       "\n",
       "Examples\n",
       "--------\n",
       "::\n",
       "\n",
       "  In [6]: a = 1\n",
       "\n",
       "  In [7]: a\n",
       "  Out[7]: 1\n",
       "\n",
       "  In [8]: 'a' in get_ipython().user_ns\n",
       "  Out[8]: True\n",
       "\n",
       "  In [9]: %reset -f\n",
       "\n",
       "  In [1]: 'a' in get_ipython().user_ns\n",
       "  Out[1]: False\n",
       "\n",
       "  In [2]: %reset -f in\n",
       "  Flushing input history\n",
       "\n",
       "  In [3]: %reset -f dhist in\n",
       "  Flushing directory history\n",
       "  Flushing input history\n",
       "\n",
       "Notes\n",
       "-----\n",
       "Calling this magic from clients that do not implement standard input,\n",
       "such as the ipython notebook interface, will reset the namespace\n",
       "without confirmation.\n",
       "\u001b[1;31mFile:\u001b[0m      c:\\users\\admin\\anaconda3\\lib\\site-packages\\ipython\\core\\magics\\namespace.py\n"
      ]
     },
     "metadata": {},
     "output_type": "display_data"
    }
   ],
   "source": [
    "%reset?"
   ]
  },
  {
   "cell_type": "code",
   "execution_count": 30,
   "id": "096bd75a-fc03-4756-aa7c-7072b82196cc",
   "metadata": {},
   "outputs": [
    {
     "name": "stdout",
     "output_type": "stream",
     "text": [
      "Wall time: 1e+03 µs\n"
     ]
    },
    {
     "data": {
      "text/plain": [
       "array([[ -0.99279494,  -9.68256379,   5.46224797, ...,  20.32771733,\n",
       "         -4.51537652,   2.28211119],\n",
       "       [ -5.60428106,   9.82577548,  -0.9220251 , ..., -10.37328226,\n",
       "         -0.506345  , -18.78124213],\n",
       "       [ -3.04333007,  -8.73474178,   0.20051403, ...,   7.85289819,\n",
       "         -4.71474544, -24.48788876],\n",
       "       ...,\n",
       "       [  4.42301282,   6.9769541 ,   1.93997372, ...,  11.52776058,\n",
       "          6.85809531,  -7.69288209],\n",
       "       [  5.69098839,   9.77684268,  -0.4145686 , ...,   1.97809615,\n",
       "         10.42374513,   9.88429942],\n",
       "       [-11.61253989, -15.65866108,   1.37393249, ...,   3.14254777,\n",
       "         -5.2540709 ,   7.16406064]])"
      ]
     },
     "execution_count": 30,
     "metadata": {},
     "output_type": "execute_result"
    }
   ],
   "source": [
    "%time np.dot(a,a)"
   ]
  },
  {
   "cell_type": "code",
   "execution_count": null,
   "id": "7ce1db9f-b87c-45c6-932e-6fefc5ac59a5",
   "metadata": {},
   "outputs": [],
   "source": []
  }
 ],
 "metadata": {
  "kernelspec": {
   "display_name": "Python 3 (ipykernel)",
   "language": "python",
   "name": "python3"
  },
  "language_info": {
   "codemirror_mode": {
    "name": "ipython",
    "version": 3
   },
   "file_extension": ".py",
   "mimetype": "text/x-python",
   "name": "python",
   "nbconvert_exporter": "python",
   "pygments_lexer": "ipython3",
   "version": "3.9.13"
  }
 },
 "nbformat": 4,
 "nbformat_minor": 5
}
