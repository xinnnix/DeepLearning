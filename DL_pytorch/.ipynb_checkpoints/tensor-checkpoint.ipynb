{
 "cells": [
  {
   "cell_type": "code",
   "execution_count": 1,
   "id": "a557db81-9269-4071-b4db-af7a9aaacba6",
   "metadata": {},
   "outputs": [],
   "source": [
    "a = [1.0, 2.0, 1.0]"
   ]
  },
  {
   "cell_type": "code",
   "execution_count": 2,
   "id": "521c863e-c690-4903-b064-19f941fdd6f3",
   "metadata": {},
   "outputs": [
    {
     "data": {
      "text/plain": [
       "1.0"
      ]
     },
     "execution_count": 2,
     "metadata": {},
     "output_type": "execute_result"
    }
   ],
   "source": [
    "a[0]"
   ]
  },
  {
   "cell_type": "code",
   "execution_count": 3,
   "id": "55d1bd8d-ccdb-469a-ba08-460a0471be22",
   "metadata": {},
   "outputs": [
    {
     "data": {
      "text/plain": [
       "1.0"
      ]
     },
     "execution_count": 3,
     "metadata": {},
     "output_type": "execute_result"
    }
   ],
   "source": [
    "a[2]"
   ]
  },
  {
   "cell_type": "code",
   "execution_count": 4,
   "id": "daa47535-78a3-45c2-bd21-655a27035337",
   "metadata": {},
   "outputs": [],
   "source": [
    "a[2] = 3.0"
   ]
  },
  {
   "cell_type": "code",
   "execution_count": 5,
   "id": "87b60192-b2f4-4a63-a4c7-4d0bfba46934",
   "metadata": {},
   "outputs": [
    {
     "data": {
      "text/plain": [
       "[1.0, 2.0, 3.0]"
      ]
     },
     "execution_count": 5,
     "metadata": {},
     "output_type": "execute_result"
    }
   ],
   "source": [
    "a"
   ]
  },
  {
   "cell_type": "code",
   "execution_count": 6,
   "id": "0f8b6aaa-e7b0-42ff-a260-8c70ce1f32f7",
   "metadata": {},
   "outputs": [],
   "source": [
    "import torch"
   ]
  },
  {
   "cell_type": "code",
   "execution_count": 7,
   "id": "8d918ee6-8cf9-4eff-8c40-bff7da137b1d",
   "metadata": {},
   "outputs": [],
   "source": [
    "a = torch.ones(3)"
   ]
  },
  {
   "cell_type": "code",
   "execution_count": 8,
   "id": "7db0a768-6778-49b9-9649-170c2cd37676",
   "metadata": {},
   "outputs": [
    {
     "data": {
      "text/plain": [
       "tensor([1., 1., 1.])"
      ]
     },
     "execution_count": 8,
     "metadata": {},
     "output_type": "execute_result"
    }
   ],
   "source": [
    "a"
   ]
  },
  {
   "cell_type": "code",
   "execution_count": 9,
   "id": "4faf4ce5-209a-471e-9874-479998bcfe60",
   "metadata": {},
   "outputs": [
    {
     "data": {
      "text/plain": [
       "tensor(1.)"
      ]
     },
     "execution_count": 9,
     "metadata": {},
     "output_type": "execute_result"
    }
   ],
   "source": [
    "a[1]"
   ]
  },
  {
   "cell_type": "code",
   "execution_count": 10,
   "id": "23ff2a7f-770e-4c15-9139-4dc634b7c29a",
   "metadata": {},
   "outputs": [
    {
     "data": {
      "text/plain": [
       "1.0"
      ]
     },
     "execution_count": 10,
     "metadata": {},
     "output_type": "execute_result"
    }
   ],
   "source": [
    "float(a[1])"
   ]
  },
  {
   "cell_type": "code",
   "execution_count": 11,
   "id": "c296285e-5664-4e04-a9ab-189851d20b44",
   "metadata": {},
   "outputs": [],
   "source": [
    "a[2] = 2.0"
   ]
  },
  {
   "cell_type": "code",
   "execution_count": 12,
   "id": "dc48c769-eafc-40ce-8a1f-305172cf57f5",
   "metadata": {},
   "outputs": [
    {
     "data": {
      "text/plain": [
       "tensor([1., 1., 2.])"
      ]
     },
     "execution_count": 12,
     "metadata": {},
     "output_type": "execute_result"
    }
   ],
   "source": [
    "a"
   ]
  },
  {
   "cell_type": "code",
   "execution_count": 13,
   "id": "ce2cd4b2-8167-400f-9f18-76f5a20a6c79",
   "metadata": {},
   "outputs": [],
   "source": [
    "points = torch.zeros(6)"
   ]
  },
  {
   "cell_type": "code",
   "execution_count": 14,
   "id": "50bfc8af-f3a0-4f71-85f5-40ed489a6b63",
   "metadata": {},
   "outputs": [],
   "source": [
    "points[0] = 4.0\n",
    "points[1] = 1.0\n",
    "points[2] = 5.0\n",
    "points[3] = 3.0\n",
    "points[4] = 2.0\n",
    "points[5] = 1.0"
   ]
  },
  {
   "cell_type": "code",
   "execution_count": 15,
   "id": "be3133fb-6530-49b1-8ed9-599991ce5ef5",
   "metadata": {},
   "outputs": [
    {
     "data": {
      "text/plain": [
       "tensor([4., 1., 5., 3., 2., 1.])"
      ]
     },
     "execution_count": 15,
     "metadata": {},
     "output_type": "execute_result"
    }
   ],
   "source": [
    "points"
   ]
  },
  {
   "cell_type": "code",
   "execution_count": 16,
   "id": "8f6f7367-8b76-4507-9498-6f7b1808fbdb",
   "metadata": {},
   "outputs": [],
   "source": [
    "points = torch.tensor([4.0, 1.0, 5.0, 3.0, 2.0, 1.0])"
   ]
  },
  {
   "cell_type": "code",
   "execution_count": 17,
   "id": "ba74fae5-5084-4e29-b88b-89fc7ecb5c41",
   "metadata": {},
   "outputs": [
    {
     "data": {
      "text/plain": [
       "tensor([4., 1., 5., 3., 2., 1.])"
      ]
     },
     "execution_count": 17,
     "metadata": {},
     "output_type": "execute_result"
    }
   ],
   "source": [
    "points"
   ]
  },
  {
   "cell_type": "code",
   "execution_count": 18,
   "id": "96be598e-6653-49dc-a0eb-1c4191ddc2f0",
   "metadata": {},
   "outputs": [
    {
     "data": {
      "text/plain": [
       "(4.0, 1.0)"
      ]
     },
     "execution_count": 18,
     "metadata": {},
     "output_type": "execute_result"
    }
   ],
   "source": [
    "float(points[0]), float(points[1])"
   ]
  },
  {
   "cell_type": "code",
   "execution_count": 19,
   "id": "11dd51bf-0822-4589-bafd-92ba9f18cb71",
   "metadata": {},
   "outputs": [],
   "source": [
    "points = torch.tensor([[4.0, 1.0], [5.0, 3.0], [2.0, 1.0]])"
   ]
  },
  {
   "cell_type": "code",
   "execution_count": 20,
   "id": "cd13517b-dfc0-455c-b7db-aeb4d1a70357",
   "metadata": {},
   "outputs": [
    {
     "data": {
      "text/plain": [
       "tensor([[4., 1.],\n",
       "        [5., 3.],\n",
       "        [2., 1.]])"
      ]
     },
     "execution_count": 20,
     "metadata": {},
     "output_type": "execute_result"
    }
   ],
   "source": [
    "points"
   ]
  },
  {
   "cell_type": "code",
   "execution_count": 21,
   "id": "891c54f8-f488-4490-9d87-a779c50c0297",
   "metadata": {},
   "outputs": [
    {
     "data": {
      "text/plain": [
       "torch.Size([3, 2])"
      ]
     },
     "execution_count": 21,
     "metadata": {},
     "output_type": "execute_result"
    }
   ],
   "source": [
    "points.shape"
   ]
  },
  {
   "cell_type": "code",
   "execution_count": 22,
   "id": "a141a411-1ec8-4ae1-9a2a-35146124b4cb",
   "metadata": {},
   "outputs": [],
   "source": [
    "points = torch.zeros(3, 2)"
   ]
  },
  {
   "cell_type": "code",
   "execution_count": 23,
   "id": "a08314d9-408e-46b2-a061-9500b15a81f8",
   "metadata": {},
   "outputs": [
    {
     "data": {
      "text/plain": [
       "tensor([[0., 0.],\n",
       "        [0., 0.],\n",
       "        [0., 0.]])"
      ]
     },
     "execution_count": 23,
     "metadata": {},
     "output_type": "execute_result"
    }
   ],
   "source": [
    "points"
   ]
  },
  {
   "cell_type": "code",
   "execution_count": 24,
   "id": "2b93d9aa-91b9-41bf-b294-a10fbbd6d565",
   "metadata": {},
   "outputs": [],
   "source": [
    "points = torch.tensor([[4.0, 1.0], [5.0, 3.0], [2.0, 1.0]])"
   ]
  },
  {
   "cell_type": "code",
   "execution_count": 25,
   "id": "99819556-0b91-4aef-b640-5cc7a0eb21d8",
   "metadata": {},
   "outputs": [
    {
     "data": {
      "text/plain": [
       "tensor(1.)"
      ]
     },
     "execution_count": 25,
     "metadata": {},
     "output_type": "execute_result"
    }
   ],
   "source": [
    "points[0, 1]"
   ]
  },
  {
   "cell_type": "code",
   "execution_count": 26,
   "id": "4d9240c5-f0c1-4fda-8a01-2816a756339b",
   "metadata": {},
   "outputs": [
    {
     "data": {
      "text/plain": [
       "tensor([4., 1.])"
      ]
     },
     "execution_count": 26,
     "metadata": {},
     "output_type": "execute_result"
    }
   ],
   "source": [
    "points[0]"
   ]
  },
  {
   "cell_type": "code",
   "execution_count": 27,
   "id": "fe08ca63-67fb-40d2-81ce-fca3eea33725",
   "metadata": {},
   "outputs": [
    {
     "data": {
      "text/plain": [
       "tensor([[5., 3.],\n",
       "        [2., 1.]])"
      ]
     },
     "execution_count": 27,
     "metadata": {},
     "output_type": "execute_result"
    }
   ],
   "source": [
    "points[1:]"
   ]
  },
  {
   "cell_type": "code",
   "execution_count": 28,
   "id": "43a3e0fe-1f21-401f-931c-12862a60375a",
   "metadata": {},
   "outputs": [
    {
     "data": {
      "text/plain": [
       "tensor([[5., 3.],\n",
       "        [2., 1.]])"
      ]
     },
     "execution_count": 28,
     "metadata": {},
     "output_type": "execute_result"
    }
   ],
   "source": [
    "points[1:, :]"
   ]
  },
  {
   "cell_type": "code",
   "execution_count": 29,
   "id": "84f14b7c-1feb-4519-bd10-754fcc712d46",
   "metadata": {},
   "outputs": [
    {
     "data": {
      "text/plain": [
       "tensor([[[4., 1.],\n",
       "         [5., 3.],\n",
       "         [2., 1.]]])"
      ]
     },
     "execution_count": 29,
     "metadata": {},
     "output_type": "execute_result"
    }
   ],
   "source": [
    "points[None]"
   ]
  },
  {
   "cell_type": "code",
   "execution_count": 30,
   "id": "ea41a4bf-c0c8-4536-9b7e-96bc1327a30e",
   "metadata": {},
   "outputs": [],
   "source": [
    "img_t = torch.randn(3, 5, 5) # shape [channels, rows, columns]"
   ]
  },
  {
   "cell_type": "code",
   "execution_count": 31,
   "id": "3ed0c7a5-3867-40b2-945a-967187c9f126",
   "metadata": {},
   "outputs": [],
   "source": [
    "weights = torch.tensor([0.2126, 0.7152, 0.0722])"
   ]
  },
  {
   "cell_type": "code",
   "execution_count": 32,
   "id": "e5e59c97-7a8e-4645-aa5d-fd1755027d8c",
   "metadata": {},
   "outputs": [],
   "source": [
    "batch_t = torch.randn(2, 3, 5, 5) # shape [batch, channels, rows, columns]"
   ]
  },
  {
   "cell_type": "code",
   "execution_count": 35,
   "id": "226f95c8-c3e7-4695-8327-c3d3f42c5493",
   "metadata": {},
   "outputs": [],
   "source": [
    "img_gray_naive = img_t.mean(-3)"
   ]
  },
  {
   "cell_type": "code",
   "execution_count": 36,
   "id": "a1e5e784-6c8c-4c52-8ecb-e6b72e944ecb",
   "metadata": {},
   "outputs": [],
   "source": [
    "batch_gray_naive = batch_t.mean(-3)"
   ]
  },
  {
   "cell_type": "code",
   "execution_count": 37,
   "id": "63c2ed36-ff18-45bb-8f67-aff3e044ee2d",
   "metadata": {},
   "outputs": [
    {
     "data": {
      "text/plain": [
       "(torch.Size([5, 5]), torch.Size([2, 5, 5]))"
      ]
     },
     "execution_count": 37,
     "metadata": {},
     "output_type": "execute_result"
    }
   ],
   "source": [
    "img_gray_naive.shape, batch_gray_naive.shape"
   ]
  },
  {
   "cell_type": "code",
   "execution_count": 42,
   "id": "7270dc02-cd18-4f95-a909-39dc71e4fb69",
   "metadata": {},
   "outputs": [],
   "source": [
    "unsqueezed_weights = weights.unsqueeze(-1).unsqueeze(-1)"
   ]
  },
  {
   "cell_type": "code",
   "execution_count": 43,
   "id": "c205d595-b517-4fce-8135-15d2d1449dd7",
   "metadata": {},
   "outputs": [
    {
     "data": {
      "text/plain": [
       "tensor([[[0.2126]],\n",
       "\n",
       "        [[0.7152]],\n",
       "\n",
       "        [[0.0722]]])"
      ]
     },
     "execution_count": 43,
     "metadata": {},
     "output_type": "execute_result"
    }
   ],
   "source": [
    "unsqueezed_weights"
   ]
  },
  {
   "cell_type": "code",
   "execution_count": 44,
   "id": "b592ce57-39bc-4018-b951-b7f993c31e45",
   "metadata": {},
   "outputs": [],
   "source": [
    "img_weights = (img_t * unsqueezed_weights)"
   ]
  },
  {
   "cell_type": "code",
   "execution_count": 45,
   "id": "e248e6e1-43d0-4964-9cc4-82cb551943c9",
   "metadata": {},
   "outputs": [],
   "source": [
    "batch_weights = (batch_t * unsqueezed_weights)"
   ]
  },
  {
   "cell_type": "code",
   "execution_count": 46,
   "id": "19f8172c-e200-4404-a00a-e20cbb72a7b9",
   "metadata": {},
   "outputs": [],
   "source": [
    "img_gray_weighted = img_weights.sum(-3)"
   ]
  },
  {
   "cell_type": "code",
   "execution_count": 47,
   "id": "99aafb97-49e6-42d4-9917-d93d2942b689",
   "metadata": {},
   "outputs": [],
   "source": [
    "batch_gray_weighted = batch_weights.sum(-3)"
   ]
  },
  {
   "cell_type": "code",
   "execution_count": 48,
   "id": "9a26261a-6d44-4a33-aef8-298389db6edf",
   "metadata": {},
   "outputs": [
    {
     "data": {
      "text/plain": [
       "(torch.Size([2, 3, 5, 5]), torch.Size([2, 3, 5, 5]), torch.Size([3, 1, 1]))"
      ]
     },
     "execution_count": 48,
     "metadata": {},
     "output_type": "execute_result"
    }
   ],
   "source": [
    "batch_weights.shape, batch_t.shape, unsqueezed_weights.shape"
   ]
  },
  {
   "cell_type": "code",
   "execution_count": 49,
   "id": "dc38768c-f836-4581-ac54-faa713c9a0ae",
   "metadata": {},
   "outputs": [],
   "source": [
    "img_gray_weighted_fancy = torch.einsum('...chw, c->...hw', img_t, weights)"
   ]
  },
  {
   "cell_type": "code",
   "execution_count": 50,
   "id": "83804156-a626-474f-bd1a-b43e67046d01",
   "metadata": {},
   "outputs": [],
   "source": [
    "batch_gray_weighted_fancy = torch.einsum('...chw, c->...hw', batch_t, weights)"
   ]
  },
  {
   "cell_type": "code",
   "execution_count": 51,
   "id": "12a6300b-8f80-48fa-a2fe-2871b2a72d86",
   "metadata": {},
   "outputs": [
    {
     "data": {
      "text/plain": [
       "torch.Size([2, 5, 5])"
      ]
     },
     "execution_count": 51,
     "metadata": {},
     "output_type": "execute_result"
    }
   ],
   "source": [
    "batch_gray_weighted_fancy.shape"
   ]
  },
  {
   "cell_type": "code",
   "execution_count": 52,
   "id": "07bb4629-0287-42eb-ac7f-8fe9ff3ba925",
   "metadata": {},
   "outputs": [
    {
     "name": "stderr",
     "output_type": "stream",
     "text": [
      "C:\\Users\\admin\\AppData\\Local\\Temp\\ipykernel_7128\\1901091524.py:1: UserWarning: Named tensors and all their associated APIs are an experimental feature and subject to change. Please do not use them for anything important until they are released as stable. (Triggered internally at C:\\cb\\pytorch_1000000000000\\work\\c10/core/TensorImpl.h:1761.)\n",
      "  weights_named = torch.tensor([0.2126, 0.7152, 0.0722], names=['channels'])\n"
     ]
    }
   ],
   "source": [
    "weights_named = torch.tensor([0.2126, 0.7152, 0.0722], names=['channels'])"
   ]
  },
  {
   "cell_type": "code",
   "execution_count": 53,
   "id": "fbeadd49-6904-4588-aa23-e285f44da5d3",
   "metadata": {},
   "outputs": [
    {
     "data": {
      "text/plain": [
       "tensor([0.2126, 0.7152, 0.0722], names=('channels',))"
      ]
     },
     "execution_count": 53,
     "metadata": {},
     "output_type": "execute_result"
    }
   ],
   "source": [
    "weights_named"
   ]
  },
  {
   "cell_type": "code",
   "execution_count": 61,
   "id": "5941cac3-355d-4a6b-a200-4f9778145ad4",
   "metadata": {},
   "outputs": [],
   "source": [
    "img_named = img_t.refine_names(..., 'channels', 'rows', 'columns')"
   ]
  },
  {
   "cell_type": "code",
   "execution_count": 62,
   "id": "705a16a6-e174-445f-a718-7f673135ef27",
   "metadata": {},
   "outputs": [
    {
     "name": "stdout",
     "output_type": "stream",
     "text": [
      "img named: torch.Size([3, 5, 5]) ('channels', 'rows', 'columns')\n"
     ]
    }
   ],
   "source": [
    "print('img named:', img_named.shape, img_named.names)"
   ]
  },
  {
   "cell_type": "code",
   "execution_count": 58,
   "id": "9a898201-ed54-407f-a3de-c471fa7a133c",
   "metadata": {},
   "outputs": [],
   "source": [
    "img_named = img_named.rename(..., None, 'a', 'b')"
   ]
  },
  {
   "cell_type": "code",
   "execution_count": 59,
   "id": "ca9de7e8-a4d3-47e0-b6bf-155445d3b9a5",
   "metadata": {},
   "outputs": [
    {
     "name": "stdout",
     "output_type": "stream",
     "text": [
      "img named: torch.Size([3, 5, 5]) (None, 'a', 'b')\n"
     ]
    }
   ],
   "source": [
    "print('img named:', img_named.shape, img_named.names)"
   ]
  },
  {
   "cell_type": "code",
   "execution_count": 63,
   "id": "28862b28-3da1-4dab-98ca-550718e688b8",
   "metadata": {},
   "outputs": [],
   "source": [
    "weights_aligned = weights_named.align_as(img_named)"
   ]
  },
  {
   "cell_type": "code",
   "execution_count": 64,
   "id": "9227ffa9-0b2a-454c-b6d3-6f97dad17bcb",
   "metadata": {},
   "outputs": [
    {
     "data": {
      "text/plain": [
       "(torch.Size([3, 1, 1]), ('channels', 'rows', 'columns'))"
      ]
     },
     "execution_count": 64,
     "metadata": {},
     "output_type": "execute_result"
    }
   ],
   "source": [
    "weights_aligned.shape, weights_aligned.names"
   ]
  },
  {
   "cell_type": "code",
   "execution_count": 65,
   "id": "9a4327bb-740d-47d5-9aeb-e13906aa6e3a",
   "metadata": {},
   "outputs": [],
   "source": [
    "gray_named = (img_named * weights_aligned).sum('channels')"
   ]
  },
  {
   "cell_type": "code",
   "execution_count": 66,
   "id": "39086ab4-0c23-4702-80db-15c76e5b917c",
   "metadata": {},
   "outputs": [
    {
     "data": {
      "text/plain": [
       "(torch.Size([5, 5]), ('rows', 'columns'))"
      ]
     },
     "execution_count": 66,
     "metadata": {},
     "output_type": "execute_result"
    }
   ],
   "source": [
    "gray_named.shape, gray_named.names"
   ]
  },
  {
   "cell_type": "code",
   "execution_count": 67,
   "id": "3e0f84ae-2f81-4795-a427-ef24977b02bf",
   "metadata": {},
   "outputs": [
    {
     "ename": "RuntimeError",
     "evalue": "Error when attempting to broadcast dims ['channels', 'rows', 'columns'] and dims ['channels']: dim 'columns' and dim 'channels' are at the same position from the right but do not match.",
     "output_type": "error",
     "traceback": [
      "\u001b[1;31m---------------------------------------------------------------------------\u001b[0m",
      "\u001b[1;31mRuntimeError\u001b[0m                              Traceback (most recent call last)",
      "Cell \u001b[1;32mIn[67], line 1\u001b[0m\n\u001b[1;32m----> 1\u001b[0m gray_named \u001b[38;5;241m=\u001b[39m (\u001b[43mimg_named\u001b[49m\u001b[43m[\u001b[49m\u001b[38;5;241;43m.\u001b[39;49m\u001b[38;5;241;43m.\u001b[39;49m\u001b[38;5;241;43m.\u001b[39;49m\u001b[43m,\u001b[49m\u001b[43m \u001b[49m\u001b[43m:\u001b[49m\u001b[38;5;241;43m3\u001b[39;49m\u001b[43m]\u001b[49m\u001b[43m \u001b[49m\u001b[38;5;241;43m*\u001b[39;49m\u001b[43m \u001b[49m\u001b[43mweights_named\u001b[49m)\u001b[38;5;241m.\u001b[39msum(\u001b[38;5;124m'\u001b[39m\u001b[38;5;124mchannels\u001b[39m\u001b[38;5;124m'\u001b[39m)\n",
      "\u001b[1;31mRuntimeError\u001b[0m: Error when attempting to broadcast dims ['channels', 'rows', 'columns'] and dims ['channels']: dim 'columns' and dim 'channels' are at the same position from the right but do not match."
     ]
    }
   ],
   "source": [
    "gray_named = (img_named[..., :3] * weights_named).sum('channels')"
   ]
  },
  {
   "cell_type": "code",
   "execution_count": 68,
   "id": "cbc48a13-dda8-40bb-8d87-f19c6da79ed2",
   "metadata": {},
   "outputs": [],
   "source": [
    "gray_plain = gray_named.rename(None)"
   ]
  },
  {
   "cell_type": "code",
   "execution_count": 69,
   "id": "e5b93b71-b1a4-42ef-bc3f-9369ab56a6b2",
   "metadata": {},
   "outputs": [
    {
     "data": {
      "text/plain": [
       "(torch.Size([5, 5]), (None, None))"
      ]
     },
     "execution_count": 69,
     "metadata": {},
     "output_type": "execute_result"
    }
   ],
   "source": [
    "gray_plain.shape, gray_plain.names"
   ]
  },
  {
   "cell_type": "code",
   "execution_count": 70,
   "id": "be335be9-dd76-4e70-8058-29d77f03cda7",
   "metadata": {},
   "outputs": [],
   "source": [
    "double_points = torch.ones(10, 2, dtype=torch.double)"
   ]
  },
  {
   "cell_type": "code",
   "execution_count": 71,
   "id": "e4e2f0a4-1ef1-478e-9d55-c8164a040800",
   "metadata": {},
   "outputs": [
    {
     "data": {
      "text/plain": [
       "tensor([[1., 1.],\n",
       "        [1., 1.],\n",
       "        [1., 1.],\n",
       "        [1., 1.],\n",
       "        [1., 1.],\n",
       "        [1., 1.],\n",
       "        [1., 1.],\n",
       "        [1., 1.],\n",
       "        [1., 1.],\n",
       "        [1., 1.]], dtype=torch.float64)"
      ]
     },
     "execution_count": 71,
     "metadata": {},
     "output_type": "execute_result"
    }
   ],
   "source": [
    "double_points"
   ]
  },
  {
   "cell_type": "code",
   "execution_count": 72,
   "id": "50d474f9-6bbc-44c2-bbca-6254ef3bb6e9",
   "metadata": {},
   "outputs": [],
   "source": [
    "short_points = torch.tensor([[1, 2], [3, 4]], dtype= torch.short)"
   ]
  },
  {
   "cell_type": "code",
   "execution_count": 73,
   "id": "2d70aa41-2b11-478b-8610-c1ff711882a0",
   "metadata": {},
   "outputs": [
    {
     "data": {
      "text/plain": [
       "torch.int16"
      ]
     },
     "execution_count": 73,
     "metadata": {},
     "output_type": "execute_result"
    }
   ],
   "source": [
    "short_points.dtype"
   ]
  },
  {
   "cell_type": "code",
   "execution_count": 74,
   "id": "91d92bf4-d65a-41cb-9436-779a0cf1359b",
   "metadata": {},
   "outputs": [],
   "source": [
    "double_points = torch.zeros(10, 2).double()"
   ]
  },
  {
   "cell_type": "code",
   "execution_count": 75,
   "id": "d6b4ece8-816b-4426-9d7c-2112cdfec21b",
   "metadata": {},
   "outputs": [],
   "source": [
    "double_points = torch.zeros(10, 2).to(torch.double)"
   ]
  },
  {
   "cell_type": "code",
   "execution_count": 76,
   "id": "b4ad8f1c-6088-4e5c-b510-6ec1a3bbe20a",
   "metadata": {},
   "outputs": [],
   "source": [
    "points_64 = torch.rand(5, dtype=torch.double)"
   ]
  },
  {
   "cell_type": "code",
   "execution_count": 77,
   "id": "d5c50899-e8c5-416a-9915-873cf4336b6b",
   "metadata": {},
   "outputs": [],
   "source": [
    "points_short = points_64.to(torch.short)"
   ]
  },
  {
   "cell_type": "code",
   "execution_count": 78,
   "id": "5dd7c2f7-824b-4d20-aa13-85606524db70",
   "metadata": {},
   "outputs": [
    {
     "data": {
      "text/plain": [
       "tensor([0., 0., 0., 0., 0.], dtype=torch.float64)"
      ]
     },
     "execution_count": 78,
     "metadata": {},
     "output_type": "execute_result"
    }
   ],
   "source": [
    "points_short * points_64"
   ]
  },
  {
   "cell_type": "code",
   "execution_count": 79,
   "id": "b7fc494e-ca50-4aa1-a1e4-d9206ffe5b5f",
   "metadata": {},
   "outputs": [
    {
     "data": {
      "text/plain": [
       "tensor([0, 0, 0, 0, 0], dtype=torch.int16)"
      ]
     },
     "execution_count": 79,
     "metadata": {},
     "output_type": "execute_result"
    }
   ],
   "source": [
    "points_short"
   ]
  },
  {
   "cell_type": "code",
   "execution_count": 80,
   "id": "cd74bee6-9a57-4f12-8455-d28978a2a907",
   "metadata": {},
   "outputs": [],
   "source": [
    "a = torch.ones(3,2)"
   ]
  },
  {
   "cell_type": "code",
   "execution_count": 81,
   "id": "c5a0b8cd-15c5-4b28-9d55-54315eab92e1",
   "metadata": {},
   "outputs": [
    {
     "data": {
      "text/plain": [
       "tensor([[1., 1.],\n",
       "        [1., 1.],\n",
       "        [1., 1.]])"
      ]
     },
     "execution_count": 81,
     "metadata": {},
     "output_type": "execute_result"
    }
   ],
   "source": [
    "a"
   ]
  },
  {
   "cell_type": "code",
   "execution_count": 82,
   "id": "28e39ced-b61d-44ed-b8ac-84bf4f66248a",
   "metadata": {},
   "outputs": [],
   "source": [
    "a_t = torch.transpose(a, 0, 1)"
   ]
  },
  {
   "cell_type": "code",
   "execution_count": 83,
   "id": "216ad007-695b-472b-af42-4d8e0d4ef327",
   "metadata": {},
   "outputs": [
    {
     "data": {
      "text/plain": [
       "tensor([[1., 1., 1.],\n",
       "        [1., 1., 1.]])"
      ]
     },
     "execution_count": 83,
     "metadata": {},
     "output_type": "execute_result"
    }
   ],
   "source": [
    "a_t"
   ]
  },
  {
   "cell_type": "code",
   "execution_count": 84,
   "id": "3cd40ce4-572d-4eb4-8d07-b94e27db4e62",
   "metadata": {},
   "outputs": [
    {
     "data": {
      "text/plain": [
       "(torch.Size([3, 2]), torch.Size([2, 3]))"
      ]
     },
     "execution_count": 84,
     "metadata": {},
     "output_type": "execute_result"
    }
   ],
   "source": [
    "a.shape, a_t.shape"
   ]
  },
  {
   "cell_type": "code",
   "execution_count": 85,
   "id": "f822509c-7251-46fe-b4a5-c181c086a997",
   "metadata": {},
   "outputs": [],
   "source": [
    "a = torch.ones(3, 2)"
   ]
  },
  {
   "cell_type": "code",
   "execution_count": 86,
   "id": "3cc2b5f0-96c4-4f81-bdac-ef5530726486",
   "metadata": {},
   "outputs": [],
   "source": [
    "a_t = a.transpose(0, 1)"
   ]
  },
  {
   "cell_type": "code",
   "execution_count": 87,
   "id": "e694702e-1a6e-4afd-a6b0-2e03f686b84a",
   "metadata": {},
   "outputs": [
    {
     "data": {
      "text/plain": [
       "(torch.Size([3, 2]), torch.Size([2, 3]))"
      ]
     },
     "execution_count": 87,
     "metadata": {},
     "output_type": "execute_result"
    }
   ],
   "source": [
    "a.shape, a_t.shape"
   ]
  },
  {
   "cell_type": "code",
   "execution_count": 88,
   "id": "f8a3f01e-5d99-4782-ae43-c2cd3c1aaf4e",
   "metadata": {},
   "outputs": [],
   "source": [
    "points = torch.tensor([[4.0, 1.0], [5.0, 3.0], [2.0, 1.0]])"
   ]
  },
  {
   "cell_type": "code",
   "execution_count": 89,
   "id": "14d334c5-baed-499d-a76f-9fc278c7c869",
   "metadata": {},
   "outputs": [
    {
     "data": {
      "text/plain": [
       " 4.0\n",
       " 1.0\n",
       " 5.0\n",
       " 3.0\n",
       " 2.0\n",
       " 1.0\n",
       "[torch.storage.TypedStorage(dtype=torch.float32, device=cpu) of size 6]"
      ]
     },
     "execution_count": 89,
     "metadata": {},
     "output_type": "execute_result"
    }
   ],
   "source": [
    "points.storage()"
   ]
  },
  {
   "cell_type": "code",
   "execution_count": 90,
   "id": "e1169921-fb90-4431-82fc-8a6593a136ba",
   "metadata": {},
   "outputs": [],
   "source": [
    "points_storage = points.storage()"
   ]
  },
  {
   "cell_type": "code",
   "execution_count": 91,
   "id": "4c4ad9db-c404-434c-9170-f1af32cdefba",
   "metadata": {},
   "outputs": [
    {
     "data": {
      "text/plain": [
       "4.0"
      ]
     },
     "execution_count": 91,
     "metadata": {},
     "output_type": "execute_result"
    }
   ],
   "source": [
    "points_storage[0]"
   ]
  },
  {
   "cell_type": "code",
   "execution_count": 92,
   "id": "b9a30d2a-2bf1-4026-976d-63455998f2b3",
   "metadata": {},
   "outputs": [
    {
     "data": {
      "text/plain": [
       "1.0"
      ]
     },
     "execution_count": 92,
     "metadata": {},
     "output_type": "execute_result"
    }
   ],
   "source": [
    "points.storage()[1]"
   ]
  },
  {
   "cell_type": "code",
   "execution_count": 93,
   "id": "b73c8d36-635b-48ad-97a1-6bfc08592839",
   "metadata": {},
   "outputs": [],
   "source": [
    "points = torch.tensor([[4.0, 1.0], [5.0, 3.0], [2.0, 1.0]])"
   ]
  },
  {
   "cell_type": "code",
   "execution_count": 94,
   "id": "29ae5f1c-0cff-46a9-af86-ea2286a71703",
   "metadata": {},
   "outputs": [],
   "source": [
    "points_storage = points.storage()"
   ]
  },
  {
   "cell_type": "code",
   "execution_count": 95,
   "id": "9834495f-43b8-482e-ac92-0cd5831c7cd0",
   "metadata": {},
   "outputs": [],
   "source": [
    "points_storage[0] = 2.0"
   ]
  },
  {
   "cell_type": "code",
   "execution_count": 96,
   "id": "a57dcc86-d248-4831-88d9-83e2f55ae234",
   "metadata": {},
   "outputs": [
    {
     "data": {
      "text/plain": [
       "tensor([[2., 1.],\n",
       "        [5., 3.],\n",
       "        [2., 1.]])"
      ]
     },
     "execution_count": 96,
     "metadata": {},
     "output_type": "execute_result"
    }
   ],
   "source": [
    "points"
   ]
  },
  {
   "cell_type": "code",
   "execution_count": 97,
   "id": "cb2e9487-55fe-4ef0-8a28-2652f9df4fb1",
   "metadata": {},
   "outputs": [],
   "source": [
    "a = torch.ones(3, 2)"
   ]
  },
  {
   "cell_type": "code",
   "execution_count": 98,
   "id": "d3063101-12fc-4fa2-9b81-78413224ab4d",
   "metadata": {},
   "outputs": [
    {
     "data": {
      "text/plain": [
       "tensor([[0., 0.],\n",
       "        [0., 0.],\n",
       "        [0., 0.]])"
      ]
     },
     "execution_count": 98,
     "metadata": {},
     "output_type": "execute_result"
    }
   ],
   "source": [
    "a.zero_()"
   ]
  },
  {
   "cell_type": "code",
   "execution_count": 99,
   "id": "dbb0aa70-40c4-42c7-9224-9dba792948e2",
   "metadata": {},
   "outputs": [
    {
     "data": {
      "text/plain": [
       "tensor([[0., 0.],\n",
       "        [0., 0.],\n",
       "        [0., 0.]])"
      ]
     },
     "execution_count": 99,
     "metadata": {},
     "output_type": "execute_result"
    }
   ],
   "source": [
    "a"
   ]
  },
  {
   "cell_type": "code",
   "execution_count": 2,
   "id": "7a4c6c8c-06e9-4ebe-8cf7-1599399b4120",
   "metadata": {},
   "outputs": [],
   "source": [
    "import torch\n",
    "\n",
    "points = torch.tensor([[4.0, 1.0], [5.0, 3.0], [2.0, 1.0]])"
   ]
  },
  {
   "cell_type": "code",
   "execution_count": 3,
   "id": "53ffeb49-4c2e-4182-af07-4f13719b002f",
   "metadata": {},
   "outputs": [],
   "source": [
    "second_point = points[1]"
   ]
  },
  {
   "cell_type": "code",
   "execution_count": 4,
   "id": "85de04aa-a110-4e3e-9728-9d507b4b9677",
   "metadata": {},
   "outputs": [
    {
     "data": {
      "text/plain": [
       "2"
      ]
     },
     "execution_count": 4,
     "metadata": {},
     "output_type": "execute_result"
    }
   ],
   "source": [
    "second_point.storage_offset()"
   ]
  },
  {
   "cell_type": "code",
   "execution_count": 5,
   "id": "907d0053-4ff2-44bf-bf5c-525b38cd9b96",
   "metadata": {},
   "outputs": [
    {
     "data": {
      "text/plain": [
       "torch.Size([2])"
      ]
     },
     "execution_count": 5,
     "metadata": {},
     "output_type": "execute_result"
    }
   ],
   "source": [
    "second_point.size()"
   ]
  },
  {
   "cell_type": "code",
   "execution_count": 6,
   "id": "6eeb32c1-08f1-4e22-8123-c027463f1580",
   "metadata": {},
   "outputs": [
    {
     "data": {
      "text/plain": [
       "torch.Size([2])"
      ]
     },
     "execution_count": 6,
     "metadata": {},
     "output_type": "execute_result"
    }
   ],
   "source": [
    "second_point.shape"
   ]
  },
  {
   "cell_type": "code",
   "execution_count": 7,
   "id": "eb296202-fcca-40e8-b950-275d65ed8df9",
   "metadata": {},
   "outputs": [
    {
     "data": {
      "text/plain": [
       "(2, 1)"
      ]
     },
     "execution_count": 7,
     "metadata": {},
     "output_type": "execute_result"
    }
   ],
   "source": [
    "points.stride()"
   ]
  },
  {
   "cell_type": "code",
   "execution_count": 2,
   "id": "c113a6b5-1120-4a96-b6ae-5f550c7a0651",
   "metadata": {},
   "outputs": [],
   "source": [
    "import torch\n",
    "\n",
    "points = torch.tensor([[4.0, 1.0], [5.0, 3.0], [2.0, 1.0]])"
   ]
  },
  {
   "cell_type": "code",
   "execution_count": 3,
   "id": "1a903346-6c34-479b-82bd-9da2ae4efa96",
   "metadata": {},
   "outputs": [
    {
     "data": {
      "text/plain": [
       "True"
      ]
     },
     "execution_count": 3,
     "metadata": {},
     "output_type": "execute_result"
    }
   ],
   "source": [
    "points.is_contiguous()"
   ]
  },
  {
   "cell_type": "code",
   "execution_count": 4,
   "id": "dd8d20e6-77ce-4f1c-a1f7-a2d8058cb9b4",
   "metadata": {},
   "outputs": [],
   "source": [
    "points_t = points.t()"
   ]
  },
  {
   "cell_type": "code",
   "execution_count": 5,
   "id": "1242ff9a-62fb-4a03-b41b-53bf5a4e1d02",
   "metadata": {},
   "outputs": [
    {
     "data": {
      "text/plain": [
       "False"
      ]
     },
     "execution_count": 5,
     "metadata": {},
     "output_type": "execute_result"
    }
   ],
   "source": [
    "points_t.is_contiguous()"
   ]
  },
  {
   "cell_type": "code",
   "execution_count": 6,
   "id": "ee1ca958-b699-42bc-a995-8799e6aa36bc",
   "metadata": {},
   "outputs": [],
   "source": [
    "points = torch.tensor([[4.0, 1.0], [5.0, 3.0], [2.0, 1.0]])"
   ]
  },
  {
   "cell_type": "code",
   "execution_count": 7,
   "id": "0803637c-1718-4685-9181-47754564b09a",
   "metadata": {},
   "outputs": [],
   "source": [
    "points_t = points.t()"
   ]
  },
  {
   "cell_type": "code",
   "execution_count": 8,
   "id": "e3863e5e-db9c-4194-9efa-e3d9e1bd5132",
   "metadata": {},
   "outputs": [
    {
     "data": {
      "text/plain": [
       "tensor([[4., 5., 2.],\n",
       "        [1., 3., 1.]])"
      ]
     },
     "execution_count": 8,
     "metadata": {},
     "output_type": "execute_result"
    }
   ],
   "source": [
    "points_t"
   ]
  },
  {
   "cell_type": "code",
   "execution_count": 9,
   "id": "43802a8f-0710-4ba9-a15a-c88eb5539e7b",
   "metadata": {},
   "outputs": [
    {
     "data": {
      "text/plain": [
       " 4.0\n",
       " 1.0\n",
       " 5.0\n",
       " 3.0\n",
       " 2.0\n",
       " 1.0\n",
       "[torch.storage.TypedStorage(dtype=torch.float32, device=cpu) of size 6]"
      ]
     },
     "execution_count": 9,
     "metadata": {},
     "output_type": "execute_result"
    }
   ],
   "source": [
    "points_t.storage()"
   ]
  },
  {
   "cell_type": "code",
   "execution_count": 10,
   "id": "2ad12fa8-d967-49d3-8763-034f63eecd21",
   "metadata": {},
   "outputs": [
    {
     "data": {
      "text/plain": [
       "(1, 2)"
      ]
     },
     "execution_count": 10,
     "metadata": {},
     "output_type": "execute_result"
    }
   ],
   "source": [
    "points_t.stride()"
   ]
  },
  {
   "cell_type": "code",
   "execution_count": 11,
   "id": "3df3577d-7844-4a54-aab3-4ec73d30db01",
   "metadata": {},
   "outputs": [],
   "source": [
    "points_t_cont = points_t.contiguous()"
   ]
  },
  {
   "cell_type": "code",
   "execution_count": 12,
   "id": "27d1e374-8fee-47bb-be21-20788bd563ff",
   "metadata": {},
   "outputs": [
    {
     "data": {
      "text/plain": [
       "tensor([[4., 5., 2.],\n",
       "        [1., 3., 1.]])"
      ]
     },
     "execution_count": 12,
     "metadata": {},
     "output_type": "execute_result"
    }
   ],
   "source": [
    "points_t_cont"
   ]
  },
  {
   "cell_type": "code",
   "execution_count": 13,
   "id": "638b9bd1-a5df-4c6f-875b-81acc6ace179",
   "metadata": {},
   "outputs": [
    {
     "data": {
      "text/plain": [
       "(3, 1)"
      ]
     },
     "execution_count": 13,
     "metadata": {},
     "output_type": "execute_result"
    }
   ],
   "source": [
    "points_t_cont.stride()"
   ]
  },
  {
   "cell_type": "code",
   "execution_count": 14,
   "id": "f6181527-f9c4-4203-93e1-9e85a55492c2",
   "metadata": {},
   "outputs": [
    {
     "data": {
      "text/plain": [
       " 4.0\n",
       " 5.0\n",
       " 2.0\n",
       " 1.0\n",
       " 3.0\n",
       " 1.0\n",
       "[torch.storage.TypedStorage(dtype=torch.float32, device=cpu) of size 6]"
      ]
     },
     "execution_count": 14,
     "metadata": {},
     "output_type": "execute_result"
    }
   ],
   "source": [
    "points_t_cont.storage()"
   ]
  },
  {
   "cell_type": "code",
   "execution_count": 15,
   "id": "c4969c1a-49b3-4b92-8f36-34838357ab7e",
   "metadata": {},
   "outputs": [],
   "source": [
    "points_gpu = torch.tensor([[4.0, 1.0], [5.0, 3.0], [2.0, 1.0]], device='cuda')"
   ]
  },
  {
   "cell_type": "code",
   "execution_count": 16,
   "id": "75772f42-e1c1-4360-80b5-88fbe78b4360",
   "metadata": {},
   "outputs": [
    {
     "data": {
      "text/plain": [
       "tensor([[4., 1.],\n",
       "        [5., 3.],\n",
       "        [2., 1.]], device='cuda:0')"
      ]
     },
     "execution_count": 16,
     "metadata": {},
     "output_type": "execute_result"
    }
   ],
   "source": [
    "points_gpu"
   ]
  },
  {
   "cell_type": "code",
   "execution_count": 17,
   "id": "a0ee4109-445c-4a24-8ab3-e822488cce61",
   "metadata": {},
   "outputs": [],
   "source": [
    "points_gpu = points.to(device='cuda')"
   ]
  },
  {
   "cell_type": "code",
   "execution_count": 18,
   "id": "848cf820-bed4-4f96-867f-c41687d59fcc",
   "metadata": {},
   "outputs": [
    {
     "data": {
      "text/plain": [
       "tensor([[4., 1.],\n",
       "        [5., 3.],\n",
       "        [2., 1.]], device='cuda:0')"
      ]
     },
     "execution_count": 18,
     "metadata": {},
     "output_type": "execute_result"
    }
   ],
   "source": [
    "points_gpu"
   ]
  },
  {
   "cell_type": "code",
   "execution_count": 19,
   "id": "70c832c6-6923-4b9e-b989-e57136536a21",
   "metadata": {},
   "outputs": [],
   "source": [
    "points = 2 * points"
   ]
  },
  {
   "cell_type": "code",
   "execution_count": 20,
   "id": "5f3597b3-6601-4abe-90d9-b8c0500103dc",
   "metadata": {},
   "outputs": [],
   "source": [
    "points_gpu = 2 * points.to(device='cuda')"
   ]
  },
  {
   "cell_type": "code",
   "execution_count": 21,
   "id": "ed3a6080-dc47-4f41-9d4e-781e3ece5d74",
   "metadata": {},
   "outputs": [],
   "source": [
    "points_gpu = points_gpu + 4"
   ]
  },
  {
   "cell_type": "code",
   "execution_count": 22,
   "id": "4030b0ab-3afd-4765-a3c8-ad973f574c7b",
   "metadata": {},
   "outputs": [],
   "source": [
    "points_cpu = points_gpu.to(device='cpu')"
   ]
  },
  {
   "cell_type": "code",
   "execution_count": 23,
   "id": "f3caf832-1852-4498-bdb9-f094172c0d5b",
   "metadata": {},
   "outputs": [
    {
     "data": {
      "text/plain": [
       "tensor([[20.,  8.],\n",
       "        [24., 16.],\n",
       "        [12.,  8.]])"
      ]
     },
     "execution_count": 23,
     "metadata": {},
     "output_type": "execute_result"
    }
   ],
   "source": [
    "points_cpu"
   ]
  },
  {
   "cell_type": "code",
   "execution_count": 24,
   "id": "39d1ff6b-19ed-4cbd-87f6-f862dc2e6a41",
   "metadata": {},
   "outputs": [],
   "source": [
    "points_gpu = points.cuda()"
   ]
  },
  {
   "cell_type": "code",
   "execution_count": 26,
   "id": "f57db7cd-7709-4427-8456-9dddda74ca1c",
   "metadata": {},
   "outputs": [],
   "source": [
    "points = torch.ones(3, 4)"
   ]
  },
  {
   "cell_type": "code",
   "execution_count": 27,
   "id": "fd2ae3b8-914f-4e58-885a-703e1790fb37",
   "metadata": {},
   "outputs": [],
   "source": [
    "points_np = points.numpy()"
   ]
  },
  {
   "cell_type": "code",
   "execution_count": 28,
   "id": "47f50ac3-1b00-4006-b65a-f18a523f1371",
   "metadata": {},
   "outputs": [
    {
     "data": {
      "text/plain": [
       "array([[1., 1., 1., 1.],\n",
       "       [1., 1., 1., 1.],\n",
       "       [1., 1., 1., 1.]], dtype=float32)"
      ]
     },
     "execution_count": 28,
     "metadata": {},
     "output_type": "execute_result"
    }
   ],
   "source": [
    "points_np"
   ]
  },
  {
   "cell_type": "code",
   "execution_count": 29,
   "id": "7c45bb5b-6051-4b50-991e-3f3e6885598e",
   "metadata": {},
   "outputs": [],
   "source": [
    "import numpy as np"
   ]
  },
  {
   "cell_type": "code",
   "execution_count": 30,
   "id": "f82a2c48-190f-4fcc-85cc-f87e5f790dc1",
   "metadata": {},
   "outputs": [],
   "source": [
    "points = torch.from_numpy(points_np)"
   ]
  },
  {
   "cell_type": "code",
   "execution_count": 31,
   "id": "3d2f69ea-a20a-4285-8695-ceaaa5fab0ae",
   "metadata": {},
   "outputs": [
    {
     "data": {
      "text/plain": [
       "tensor([[1., 1., 1., 1.],\n",
       "        [1., 1., 1., 1.],\n",
       "        [1., 1., 1., 1.]])"
      ]
     },
     "execution_count": 31,
     "metadata": {},
     "output_type": "execute_result"
    }
   ],
   "source": [
    "points"
   ]
  },
  {
   "cell_type": "code",
   "execution_count": 34,
   "id": "0cdc1d6a-0ca0-4c21-a95f-0e56c834a9c9",
   "metadata": {},
   "outputs": [
    {
     "data": {
      "text/plain": [
       "torch.float32"
      ]
     },
     "execution_count": 34,
     "metadata": {},
     "output_type": "execute_result"
    }
   ],
   "source": [
    "points.dtype"
   ]
  },
  {
   "cell_type": "code",
   "execution_count": 35,
   "id": "e089f12e-97d1-482d-9941-3393ab982ea7",
   "metadata": {},
   "outputs": [],
   "source": [
    "torch.save(points, 'ourpoints.t')"
   ]
  },
  {
   "cell_type": "code",
   "execution_count": 36,
   "id": "1897e11d-aed2-4de0-85b8-c28716cdf48b",
   "metadata": {},
   "outputs": [],
   "source": [
    "with open('ourpoints.t', 'wb') as f:\n",
    "    torch.save(points, f)"
   ]
  },
  {
   "cell_type": "code",
   "execution_count": 37,
   "id": "fac9e7c3-c7f5-43af-804f-b2bc6c27bac2",
   "metadata": {},
   "outputs": [],
   "source": [
    "points = torch.load('ourpoints.t')"
   ]
  },
  {
   "cell_type": "code",
   "execution_count": 38,
   "id": "88ef713e-754f-481b-ac77-85ab95b28043",
   "metadata": {},
   "outputs": [],
   "source": [
    "with open('ourpoints.t', 'rb') as f:\n",
    "    points = torch.load(f)"
   ]
  },
  {
   "cell_type": "code",
   "execution_count": 39,
   "id": "251633e5-57d4-46d4-948c-9912b21b057a",
   "metadata": {},
   "outputs": [
    {
     "data": {
      "text/plain": [
       "tensor([[1., 1., 1., 1.],\n",
       "        [1., 1., 1., 1.],\n",
       "        [1., 1., 1., 1.]])"
      ]
     },
     "execution_count": 39,
     "metadata": {},
     "output_type": "execute_result"
    }
   ],
   "source": [
    "points"
   ]
  },
  {
   "cell_type": "code",
   "execution_count": 41,
   "id": "3911f369-0297-4676-a48a-76f86f5cb118",
   "metadata": {},
   "outputs": [],
   "source": [
    "import h5py"
   ]
  },
  {
   "cell_type": "code",
   "execution_count": 42,
   "id": "b18677af-3183-4257-bafb-36db4587b3aa",
   "metadata": {},
   "outputs": [],
   "source": [
    "f = h5py.File('ourpoints.hdf5', 'w')\n",
    "dset = f.create_dataset('coords', data=points.numpy())\n",
    "f.close()"
   ]
  },
  {
   "cell_type": "code",
   "execution_count": 43,
   "id": "041362b2-bc34-4f4d-8c6e-af6e66ebc001",
   "metadata": {},
   "outputs": [],
   "source": [
    "f = h5py.File('ourpoints.hdf5', 'r')"
   ]
  },
  {
   "cell_type": "code",
   "execution_count": 44,
   "id": "36b0e674-b9eb-494f-a72c-f50c5ef66e9a",
   "metadata": {},
   "outputs": [],
   "source": [
    "dset = f['coords']"
   ]
  },
  {
   "cell_type": "code",
   "execution_count": 45,
   "id": "6f81ab86-3d8d-459e-9c87-746ce0958c21",
   "metadata": {},
   "outputs": [],
   "source": [
    "last_points = dset[-2:]"
   ]
  },
  {
   "cell_type": "code",
   "execution_count": 46,
   "id": "7ba554bb-5c4b-4da6-9e50-f4d56ad9d632",
   "metadata": {},
   "outputs": [
    {
     "data": {
      "text/plain": [
       "array([[1., 1., 1., 1.],\n",
       "       [1., 1., 1., 1.]], dtype=float32)"
      ]
     },
     "execution_count": 46,
     "metadata": {},
     "output_type": "execute_result"
    }
   ],
   "source": [
    "last_points"
   ]
  },
  {
   "cell_type": "code",
   "execution_count": 47,
   "id": "34d6be3f-5f28-4b4e-89f3-2c736faf1bb2",
   "metadata": {},
   "outputs": [],
   "source": [
    "last_points = torch.from_numpy(dset[-2:])"
   ]
  },
  {
   "cell_type": "code",
   "execution_count": 48,
   "id": "d7078bb6-37d4-4d82-8f1a-8a8b7d16e8e4",
   "metadata": {},
   "outputs": [],
   "source": [
    "f.close()"
   ]
  },
  {
   "cell_type": "code",
   "execution_count": 49,
   "id": "58d55297-9beb-4dd4-98e7-2aa91ac7f79d",
   "metadata": {},
   "outputs": [
    {
     "data": {
      "text/plain": [
       "tensor([[1., 1., 1., 1.],\n",
       "        [1., 1., 1., 1.]])"
      ]
     },
     "execution_count": 49,
     "metadata": {},
     "output_type": "execute_result"
    }
   ],
   "source": [
    "last_points"
   ]
  },
  {
   "cell_type": "code",
   "execution_count": 50,
   "id": "a4f7f9db-a815-46e5-b8b5-8f2823bce32f",
   "metadata": {},
   "outputs": [],
   "source": [
    "a = torch.tensor(list(range(9)))"
   ]
  },
  {
   "cell_type": "code",
   "execution_count": 51,
   "id": "1bd36a3b-ab55-49cd-bd2f-53b2631ff96e",
   "metadata": {},
   "outputs": [
    {
     "data": {
      "text/plain": [
       "torch.Size([9])"
      ]
     },
     "execution_count": 51,
     "metadata": {},
     "output_type": "execute_result"
    }
   ],
   "source": [
    "a.shape"
   ]
  },
  {
   "cell_type": "code",
   "execution_count": 53,
   "id": "a9db0e9f-b4bb-4573-b022-ec7b0c911831",
   "metadata": {},
   "outputs": [
    {
     "data": {
      "text/plain": [
       "(1,)"
      ]
     },
     "execution_count": 53,
     "metadata": {},
     "output_type": "execute_result"
    }
   ],
   "source": [
    "a.stride()"
   ]
  },
  {
   "cell_type": "code",
   "execution_count": 55,
   "id": "d1d0f78b-8899-43b5-8d6f-4422a12044cc",
   "metadata": {},
   "outputs": [
    {
     "data": {
      "text/plain": [
       "0"
      ]
     },
     "execution_count": 55,
     "metadata": {},
     "output_type": "execute_result"
    }
   ],
   "source": [
    "a.storage_offset()"
   ]
  },
  {
   "cell_type": "code",
   "execution_count": 57,
   "id": "36a9d2fc-db54-446b-880d-e198c3ac7227",
   "metadata": {},
   "outputs": [
    {
     "data": {
      "text/plain": [
       " 0\n",
       " 1\n",
       " 2\n",
       " 3\n",
       " 4\n",
       " 5\n",
       " 6\n",
       " 7\n",
       " 8\n",
       "[torch.storage.TypedStorage(dtype=torch.int64, device=cpu) of size 9]"
      ]
     },
     "execution_count": 57,
     "metadata": {},
     "output_type": "execute_result"
    }
   ],
   "source": [
    "a.storage()"
   ]
  },
  {
   "cell_type": "code",
   "execution_count": 58,
   "id": "5c5d0b69-76b8-451c-95a9-b10a753d00a4",
   "metadata": {},
   "outputs": [],
   "source": [
    "b = a.view(3,3)"
   ]
  },
  {
   "cell_type": "code",
   "execution_count": 59,
   "id": "b35d944e-5ec9-47d5-a030-47f7dbdfe1e0",
   "metadata": {},
   "outputs": [
    {
     "data": {
      "text/plain": [
       "tensor([[0, 1, 2],\n",
       "        [3, 4, 5],\n",
       "        [6, 7, 8]])"
      ]
     },
     "execution_count": 59,
     "metadata": {},
     "output_type": "execute_result"
    }
   ],
   "source": [
    "b"
   ]
  },
  {
   "cell_type": "code",
   "execution_count": 60,
   "id": "dab4f2bf-e40f-4ea4-a1bb-4021f8401e17",
   "metadata": {},
   "outputs": [
    {
     "data": {
      "text/plain": [
       "True"
      ]
     },
     "execution_count": 60,
     "metadata": {},
     "output_type": "execute_result"
    }
   ],
   "source": [
    "id(a.storage()) == id(b.storage())"
   ]
  },
  {
   "cell_type": "code",
   "execution_count": null,
   "id": "16d4f7bc-0b4d-4068-82f5-e13fad40b61d",
   "metadata": {},
   "outputs": [],
   "source": []
  }
 ],
 "metadata": {
  "kernelspec": {
   "display_name": "Python 3 (ipykernel)",
   "language": "python",
   "name": "python3"
  },
  "language_info": {
   "codemirror_mode": {
    "name": "ipython",
    "version": 3
   },
   "file_extension": ".py",
   "mimetype": "text/x-python",
   "name": "python",
   "nbconvert_exporter": "python",
   "pygments_lexer": "ipython3",
   "version": "3.9.16"
  }
 },
 "nbformat": 4,
 "nbformat_minor": 5
}
