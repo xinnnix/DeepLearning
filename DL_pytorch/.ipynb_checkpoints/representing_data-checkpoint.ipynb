{
 "cells": [
  {
   "cell_type": "code",
   "execution_count": 1,
   "id": "43ee4513-e48c-4da8-a6e8-121ecce9a6f8",
   "metadata": {},
   "outputs": [],
   "source": [
    "import imageio"
   ]
  },
  {
   "cell_type": "code",
   "execution_count": 2,
   "id": "fefbe2ac-1fc9-49fb-92e0-e65a3c0bb2f1",
   "metadata": {},
   "outputs": [
    {
     "name": "stderr",
     "output_type": "stream",
     "text": [
      "C:\\Users\\admin\\AppData\\Local\\Temp\\ipykernel_17092\\2941834469.py:1: DeprecationWarning: Starting with ImageIO v3 the behavior of this function will switch to that of iio.v3.imread. To keep the current behavior (and make this warning dissapear) use `import imageio.v2 as imageio` or call `imageio.v2.imread` directly.\n",
      "  img_arr = imageio.imread('bobby.jpg')\n"
     ]
    }
   ],
   "source": [
    "img_arr = imageio.imread('bobby.jpg')"
   ]
  },
  {
   "cell_type": "code",
   "execution_count": 3,
   "id": "b64f56a9-b834-41ac-b23a-f640c29efce5",
   "metadata": {},
   "outputs": [
    {
     "data": {
      "text/plain": [
       "(720, 1280, 3)"
      ]
     },
     "execution_count": 3,
     "metadata": {},
     "output_type": "execute_result"
    }
   ],
   "source": [
    "img_arr.shape"
   ]
  },
  {
   "cell_type": "code",
   "execution_count": 4,
   "id": "0f67662c-019d-4f38-8e8b-d9fa49c5ff11",
   "metadata": {},
   "outputs": [],
   "source": [
    "import torch"
   ]
  },
  {
   "cell_type": "code",
   "execution_count": 5,
   "id": "e0c6fb27-3918-4c58-a6f2-d602f672fe03",
   "metadata": {},
   "outputs": [],
   "source": [
    "img = torch.from_numpy(img_arr)"
   ]
  },
  {
   "cell_type": "code",
   "execution_count": 6,
   "id": "c7b13555-e642-42eb-9b5d-146401cee370",
   "metadata": {},
   "outputs": [],
   "source": [
    "out = img.permute(2, 0 , 1)"
   ]
  },
  {
   "cell_type": "code",
   "execution_count": 7,
   "id": "04cdd154-622c-4ca3-9236-0ea9bd934e33",
   "metadata": {},
   "outputs": [
    {
     "data": {
      "text/plain": [
       "torch.Size([3, 720, 1280])"
      ]
     },
     "execution_count": 7,
     "metadata": {},
     "output_type": "execute_result"
    }
   ],
   "source": [
    "out.shape"
   ]
  },
  {
   "cell_type": "code",
   "execution_count": 8,
   "id": "5c5ac7cc-ec13-4d68-936b-0e7cb71e88e4",
   "metadata": {},
   "outputs": [],
   "source": [
    "batch_size = 3"
   ]
  },
  {
   "cell_type": "code",
   "execution_count": 9,
   "id": "214275ee-eb84-4a33-8221-e8a27198cd0b",
   "metadata": {},
   "outputs": [],
   "source": [
    "batch = torch.zeros(batch_size, 3, 256, 256, dtype=torch.uint8)"
   ]
  },
  {
   "cell_type": "code",
   "execution_count": 10,
   "id": "175b56fa-039b-402a-be20-2ac085022904",
   "metadata": {},
   "outputs": [],
   "source": [
    "import os"
   ]
  },
  {
   "cell_type": "code",
   "execution_count": 17,
   "id": "9144bcdf-7777-41af-9baa-831a2f0830f3",
   "metadata": {},
   "outputs": [],
   "source": [
    "data_dir ='.'"
   ]
  },
  {
   "cell_type": "code",
   "execution_count": 18,
   "id": "05ad3643-dd42-4eca-ac15-95dae074969d",
   "metadata": {},
   "outputs": [],
   "source": [
    "filenames = [name for name in os.listdir(data_dir)\n",
    "             if os.path.splitext(name)[-1] == '.png']"
   ]
  },
  {
   "cell_type": "code",
   "execution_count": 19,
   "id": "ac1fef93-1b14-47e2-9a33-0868d10b4e1e",
   "metadata": {},
   "outputs": [
    {
     "data": {
      "text/plain": [
       "['cat1.png', 'cat2.png', 'cat3.png']"
      ]
     },
     "execution_count": 19,
     "metadata": {},
     "output_type": "execute_result"
    }
   ],
   "source": [
    "filenames"
   ]
  },
  {
   "cell_type": "code",
   "execution_count": 20,
   "id": "a14f81b3-d851-4e9f-b01a-424ca32e483c",
   "metadata": {},
   "outputs": [
    {
     "name": "stderr",
     "output_type": "stream",
     "text": [
      "C:\\Users\\admin\\AppData\\Local\\Temp\\ipykernel_17092\\4177784309.py:2: DeprecationWarning: Starting with ImageIO v3 the behavior of this function will switch to that of iio.v3.imread. To keep the current behavior (and make this warning dissapear) use `import imageio.v2 as imageio` or call `imageio.v2.imread` directly.\n",
      "  img_arr = imageio.imread(os.path.join(data_dir, filename))\n"
     ]
    }
   ],
   "source": [
    "for i, filename in enumerate(filenames):\n",
    "    img_arr = imageio.imread(os.path.join(data_dir, filename))\n",
    "    img_t = torch.from_numpy(img_arr)\n",
    "    img_t = img_t.permute(2, 0, 1)\n",
    "    img_t = img_t[:3]\n",
    "    batch[i] = img_t"
   ]
  },
  {
   "cell_type": "code",
   "execution_count": 22,
   "id": "b2bfc0bd-9ee5-43bf-ba61-32811a7f52ad",
   "metadata": {},
   "outputs": [
    {
     "data": {
      "text/plain": [
       "torch.Size([3, 3, 256, 256])"
      ]
     },
     "execution_count": 22,
     "metadata": {},
     "output_type": "execute_result"
    }
   ],
   "source": [
    "batch.shape"
   ]
  },
  {
   "cell_type": "code",
   "execution_count": 23,
   "id": "ac37c2bb-4d5e-4414-a22c-a9682f4ddddf",
   "metadata": {},
   "outputs": [],
   "source": [
    "batch = batch.float()"
   ]
  },
  {
   "cell_type": "code",
   "execution_count": 24,
   "id": "a5b5f995-bf8e-4d46-99f8-50eb5df9f285",
   "metadata": {},
   "outputs": [],
   "source": [
    "batch /= 255.0"
   ]
  },
  {
   "cell_type": "code",
   "execution_count": 25,
   "id": "39ad483f-eee7-40f1-9d47-f7e9b5e5b965",
   "metadata": {},
   "outputs": [],
   "source": [
    "n_channels = batch.shape[1]"
   ]
  },
  {
   "cell_type": "code",
   "execution_count": 26,
   "id": "ce624659-119e-4219-82fa-a127926e9e01",
   "metadata": {},
   "outputs": [],
   "source": [
    "for c in range(n_channels):\n",
    "    mean = torch.mean(batch[:, c])\n",
    "    std = torch.std(batch[:, c])\n",
    "    batch[:, c] = (batch[:, c] - mean) / std"
   ]
  },
  {
   "cell_type": "code",
   "execution_count": 27,
   "id": "521014c9-b200-4bdb-9c85-a648b131bec0",
   "metadata": {},
   "outputs": [],
   "source": [
    "import imageio"
   ]
  },
  {
   "cell_type": "code",
   "execution_count": 28,
   "id": "f87c3bf3-9b42-4f94-af10-f901aac56216",
   "metadata": {},
   "outputs": [
    {
     "name": "stdout",
     "output_type": "stream",
     "text": [
      "Reading DICOM (examining files): 1/99 files (1.0%99/99 files (100.0%)\n",
      "  Found 1 correct series.\n",
      "Reading DICOM (loading data): 99/99  (100.0%)\n"
     ]
    },
    {
     "data": {
      "text/plain": [
       "(99, 512, 512)"
      ]
     },
     "execution_count": 28,
     "metadata": {},
     "output_type": "execute_result"
    }
   ],
   "source": [
    "dir_path = '2-LUNG 3.0  B70f-04083/'\n",
    "vol_arr = imageio.volread(dir_path, 'DICOM')\n",
    "vol_arr.shape"
   ]
  },
  {
   "cell_type": "code",
   "execution_count": 29,
   "id": "be3550d5-f7b4-427e-aec0-2638fbbf555f",
   "metadata": {},
   "outputs": [
    {
     "data": {
      "text/plain": [
       "torch.Size([1, 99, 512, 512])"
      ]
     },
     "execution_count": 29,
     "metadata": {},
     "output_type": "execute_result"
    }
   ],
   "source": [
    "vol = torch.from_numpy(vol_arr).float()\n",
    "vol = torch.unsqueeze(vol, 0)\n",
    "vol.shape"
   ]
  },
  {
   "cell_type": "code",
   "execution_count": null,
   "id": "548907f8-c1bb-4670-b4e0-0c76679501f1",
   "metadata": {},
   "outputs": [],
   "source": []
  }
 ],
 "metadata": {
  "kernelspec": {
   "display_name": "Python 3 (ipykernel)",
   "language": "python",
   "name": "python3"
  },
  "language_info": {
   "codemirror_mode": {
    "name": "ipython",
    "version": 3
   },
   "file_extension": ".py",
   "mimetype": "text/x-python",
   "name": "python",
   "nbconvert_exporter": "python",
   "pygments_lexer": "ipython3",
   "version": "3.9.16"
  }
 },
 "nbformat": 4,
 "nbformat_minor": 5
}
