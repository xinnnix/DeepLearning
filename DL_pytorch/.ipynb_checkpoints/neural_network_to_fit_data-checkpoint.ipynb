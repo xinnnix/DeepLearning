{
 "cells": [
  {
   "cell_type": "code",
   "execution_count": 1,
   "id": "2700c2a3-f175-44d1-812e-35c0bf8e9494",
   "metadata": {},
   "outputs": [],
   "source": [
    "import torch"
   ]
  },
  {
   "cell_type": "code",
   "execution_count": 36,
   "id": "1361d67b-1374-4946-b928-1ca2bd8dc58e",
   "metadata": {},
   "outputs": [],
   "source": [
    "import torch.optim as optim"
   ]
  },
  {
   "cell_type": "code",
   "execution_count": 2,
   "id": "f392a2c9-4cf9-4844-aabc-0b81d2d5d0ce",
   "metadata": {},
   "outputs": [],
   "source": [
    "import math"
   ]
  },
  {
   "cell_type": "code",
   "execution_count": 3,
   "id": "d944107b-be29-43ee-a62b-b692989cdac7",
   "metadata": {},
   "outputs": [
    {
     "data": {
      "text/plain": [
       "-0.9757431300314515"
      ]
     },
     "execution_count": 3,
     "metadata": {},
     "output_type": "execute_result"
    }
   ],
   "source": [
    "math.tanh(-2.2)"
   ]
  },
  {
   "cell_type": "code",
   "execution_count": 4,
   "id": "2ac01926-e507-4887-8d98-4cd12ef09d08",
   "metadata": {},
   "outputs": [
    {
     "data": {
      "text/plain": [
       "0.09966799462495582"
      ]
     },
     "execution_count": 4,
     "metadata": {},
     "output_type": "execute_result"
    }
   ],
   "source": [
    "math.tanh(0.1)"
   ]
  },
  {
   "cell_type": "code",
   "execution_count": 5,
   "id": "5f55cf37-b97a-41f4-a4ea-746f5ae46fd2",
   "metadata": {},
   "outputs": [
    {
     "data": {
      "text/plain": [
       "0.9866142981514303"
      ]
     },
     "execution_count": 5,
     "metadata": {},
     "output_type": "execute_result"
    }
   ],
   "source": [
    "math.tanh(2.5)"
   ]
  },
  {
   "cell_type": "code",
   "execution_count": 6,
   "id": "f187cae5-e6f1-4311-b863-1a156285b05d",
   "metadata": {},
   "outputs": [],
   "source": [
    "import torch.nn as nn"
   ]
  },
  {
   "cell_type": "code",
   "execution_count": 8,
   "id": "bb73c355-04a5-47b2-8be8-8bfe265f4108",
   "metadata": {},
   "outputs": [],
   "source": [
    "t_c = [0.5, 14.0, 15.0, 28.0, 11.0, 8.0, 3.0, -4.0, 6.0, 13.0, 21.0]\n",
    "t_u = [35.7, 55.9, 58.2, 81.9, 56.3, 48.9, 33.9, 21.8, 48.2, 60.4, 68.4]\n",
    "t_c = torch.tensor(t_c)\n",
    "t_u = torch.tensor(t_u)\n",
    "t_un = t_u * 0.1"
   ]
  },
  {
   "cell_type": "code",
   "execution_count": 9,
   "id": "32f5f312-2ed8-477f-951c-99450284dd3b",
   "metadata": {},
   "outputs": [],
   "source": [
    "n_samples = t_u.shape[0]"
   ]
  },
  {
   "cell_type": "code",
   "execution_count": 10,
   "id": "7c7ce866-9bfc-4026-bf71-9f6676d96214",
   "metadata": {},
   "outputs": [],
   "source": [
    "n_val = int(0.2 * n_samples)"
   ]
  },
  {
   "cell_type": "code",
   "execution_count": 11,
   "id": "efb84cfa-054c-4d79-9068-c940f6fa0500",
   "metadata": {},
   "outputs": [],
   "source": [
    "shuffled_indices = torch.randperm(n_samples)"
   ]
  },
  {
   "cell_type": "code",
   "execution_count": 12,
   "id": "36736297-7333-49a1-8ede-17d8347a172f",
   "metadata": {},
   "outputs": [],
   "source": [
    "train_indices = shuffled_indices[:-n_val]\n",
    "val_indices = shuffled_indices[-n_val:]"
   ]
  },
  {
   "cell_type": "code",
   "execution_count": 13,
   "id": "5be785df-4117-4458-bd30-340601d21211",
   "metadata": {},
   "outputs": [
    {
     "data": {
      "text/plain": [
       "(tensor([10,  6,  9,  1,  4,  2,  0,  8,  5]), tensor([3, 7]))"
      ]
     },
     "execution_count": 13,
     "metadata": {},
     "output_type": "execute_result"
    }
   ],
   "source": [
    "train_indices, val_indices"
   ]
  },
  {
   "cell_type": "code",
   "execution_count": 14,
   "id": "5e171118-4a6e-42ab-b95e-e4ef3d7de3e8",
   "metadata": {},
   "outputs": [],
   "source": [
    "train_t_u = t_u[train_indices]\n",
    "train_t_c = t_c[train_indices]"
   ]
  },
  {
   "cell_type": "code",
   "execution_count": 15,
   "id": "51b3ee6d-c420-482d-bca4-8330d564c8b1",
   "metadata": {},
   "outputs": [],
   "source": [
    "val_t_u = t_u[val_indices]\n",
    "val_t_c = t_c[val_indices]"
   ]
  },
  {
   "cell_type": "code",
   "execution_count": 16,
   "id": "658410fd-b3d5-453a-8d56-56a9e941a445",
   "metadata": {},
   "outputs": [],
   "source": [
    "train_t_un = 0.1 * train_t_u\n",
    "val_t_un = 0.1 * val_t_u"
   ]
  },
  {
   "cell_type": "code",
   "execution_count": 21,
   "id": "873dd57a-5bfc-47b3-823a-090be9c9ceee",
   "metadata": {},
   "outputs": [
    {
     "data": {
      "text/plain": [
       "tensor([8.1900, 2.1800])"
      ]
     },
     "execution_count": 21,
     "metadata": {},
     "output_type": "execute_result"
    }
   ],
   "source": [
    "val_t_un"
   ]
  },
  {
   "cell_type": "code",
   "execution_count": 22,
   "id": "8ab9b3a2-414d-4bd1-bcd8-dca6a4ed17b5",
   "metadata": {},
   "outputs": [
    {
     "data": {
      "text/plain": [
       "tensor([[8.1900],\n",
       "        [2.1800]])"
      ]
     },
     "execution_count": 22,
     "metadata": {},
     "output_type": "execute_result"
    }
   ],
   "source": [
    "val_t_un.unsqueeze(1)"
   ]
  },
  {
   "cell_type": "code",
   "execution_count": 19,
   "id": "66287b58-124c-4551-9ee1-f7c56f3e2541",
   "metadata": {},
   "outputs": [],
   "source": [
    "linear_model = nn.Linear(1, 1)"
   ]
  },
  {
   "cell_type": "code",
   "execution_count": 23,
   "id": "7c225cb2-66d4-4c7e-8e70-a2f95cdc765e",
   "metadata": {},
   "outputs": [
    {
     "data": {
      "text/plain": [
       "tensor([[-1.5896],\n",
       "        [-0.1577]], grad_fn=<AddmmBackward0>)"
      ]
     },
     "execution_count": 23,
     "metadata": {},
     "output_type": "execute_result"
    }
   ],
   "source": [
    "linear_model(val_t_un.unsqueeze(1))"
   ]
  },
  {
   "cell_type": "code",
   "execution_count": 24,
   "id": "ae879f28-9643-4493-90f6-886dc8b1e9dd",
   "metadata": {},
   "outputs": [
    {
     "data": {
      "text/plain": [
       "Parameter containing:\n",
       "tensor([[-0.2382]], requires_grad=True)"
      ]
     },
     "execution_count": 24,
     "metadata": {},
     "output_type": "execute_result"
    }
   ],
   "source": [
    "linear_model.weight"
   ]
  },
  {
   "cell_type": "code",
   "execution_count": 25,
   "id": "72174cbb-b961-43ef-b95d-034a54dca65c",
   "metadata": {},
   "outputs": [
    {
     "data": {
      "text/plain": [
       "Parameter containing:\n",
       "tensor([0.3617], requires_grad=True)"
      ]
     },
     "execution_count": 25,
     "metadata": {},
     "output_type": "execute_result"
    }
   ],
   "source": [
    "linear_model.bias"
   ]
  },
  {
   "cell_type": "code",
   "execution_count": 26,
   "id": "b925308f-5e55-4906-8418-9e381a9597ea",
   "metadata": {},
   "outputs": [],
   "source": [
    "x = torch.ones(1)"
   ]
  },
  {
   "cell_type": "code",
   "execution_count": 27,
   "id": "7c96bef8-661a-4b32-9caa-b5a086f8ab1e",
   "metadata": {},
   "outputs": [
    {
     "data": {
      "text/plain": [
       "tensor([1.])"
      ]
     },
     "execution_count": 27,
     "metadata": {},
     "output_type": "execute_result"
    }
   ],
   "source": [
    "x"
   ]
  },
  {
   "cell_type": "code",
   "execution_count": 28,
   "id": "dfe20bf4-bb9a-4097-b2fe-6b134deb5a21",
   "metadata": {},
   "outputs": [
    {
     "data": {
      "text/plain": [
       "tensor([0.1234], grad_fn=<AddBackward0>)"
      ]
     },
     "execution_count": 28,
     "metadata": {},
     "output_type": "execute_result"
    }
   ],
   "source": [
    "linear_model(x)"
   ]
  },
  {
   "cell_type": "code",
   "execution_count": 29,
   "id": "64bd2957-d248-4a05-9b72-a024c0189645",
   "metadata": {},
   "outputs": [],
   "source": [
    "x = torch.ones(10, 1)"
   ]
  },
  {
   "cell_type": "code",
   "execution_count": 30,
   "id": "1acbbd38-cf3b-404e-af41-b16f3f809903",
   "metadata": {},
   "outputs": [
    {
     "data": {
      "text/plain": [
       "tensor([[0.1234],\n",
       "        [0.1234],\n",
       "        [0.1234],\n",
       "        [0.1234],\n",
       "        [0.1234],\n",
       "        [0.1234],\n",
       "        [0.1234],\n",
       "        [0.1234],\n",
       "        [0.1234],\n",
       "        [0.1234]], grad_fn=<AddmmBackward0>)"
      ]
     },
     "execution_count": 30,
     "metadata": {},
     "output_type": "execute_result"
    }
   ],
   "source": [
    "linear_model(x)"
   ]
  },
  {
   "cell_type": "code",
   "execution_count": 32,
   "id": "ec456a5e-72a4-4757-97f4-0ec753132331",
   "metadata": {},
   "outputs": [
    {
     "name": "stderr",
     "output_type": "stream",
     "text": [
      "C:\\Users\\admin\\AppData\\Local\\Temp\\ipykernel_1960\\2809175398.py:1: UserWarning: To copy construct from a tensor, it is recommended to use sourceTensor.clone().detach() or sourceTensor.clone().detach().requires_grad_(True), rather than torch.tensor(sourceTensor).\n",
      "  t_c = torch.tensor(t_c).unsqueeze(1)\n",
      "C:\\Users\\admin\\AppData\\Local\\Temp\\ipykernel_1960\\2809175398.py:2: UserWarning: To copy construct from a tensor, it is recommended to use sourceTensor.clone().detach() or sourceTensor.clone().detach().requires_grad_(True), rather than torch.tensor(sourceTensor).\n",
      "  t_u = torch.tensor(t_u).unsqueeze(1)\n"
     ]
    }
   ],
   "source": [
    "t_c = torch.tensor(t_c).unsqueeze(1)\n",
    "t_u = torch.tensor(t_u).unsqueeze(1)"
   ]
  },
  {
   "cell_type": "code",
   "execution_count": 34,
   "id": "dfe5fa81-e845-4673-afbf-04153c55e423",
   "metadata": {},
   "outputs": [
    {
     "data": {
      "text/plain": [
       "torch.Size([11, 1])"
      ]
     },
     "execution_count": 34,
     "metadata": {},
     "output_type": "execute_result"
    }
   ],
   "source": [
    "t_u.shape"
   ]
  },
  {
   "cell_type": "code",
   "execution_count": 35,
   "id": "a0d88e24-fb46-4f96-a4dd-2cd87bdb3e81",
   "metadata": {},
   "outputs": [],
   "source": [
    "linear_model = nn.Linear(1, 1)"
   ]
  },
  {
   "cell_type": "code",
   "execution_count": 37,
   "id": "7a32cf37-d876-445f-937b-0173f3210eff",
   "metadata": {},
   "outputs": [],
   "source": [
    "optimizer = optim.SGD(linear_model.parameters(), lr=1e-2)"
   ]
  },
  {
   "cell_type": "code",
   "execution_count": 38,
   "id": "6081ed23-06fd-450a-8b5c-5df615b27ec6",
   "metadata": {},
   "outputs": [
    {
     "data": {
      "text/plain": [
       "<generator object Module.parameters at 0x0000019F8DC27F90>"
      ]
     },
     "execution_count": 38,
     "metadata": {},
     "output_type": "execute_result"
    }
   ],
   "source": [
    "linear_model.parameters()"
   ]
  },
  {
   "cell_type": "code",
   "execution_count": 39,
   "id": "2845c28d-cde0-4a89-bef3-898346b41a8d",
   "metadata": {},
   "outputs": [
    {
     "data": {
      "text/plain": [
       "[Parameter containing:\n",
       " tensor([[-0.9177]], requires_grad=True),\n",
       " Parameter containing:\n",
       " tensor([-0.0557], requires_grad=True)]"
      ]
     },
     "execution_count": 39,
     "metadata": {},
     "output_type": "execute_result"
    }
   ],
   "source": [
    "list(linear_model.parameters())"
   ]
  },
  {
   "cell_type": "code",
   "execution_count": 40,
   "id": "57d54c94-a697-41f1-a5e6-050001bca20e",
   "metadata": {},
   "outputs": [],
   "source": [
    "def training_loop(n_epochs, optimizer, model, loss_fn, t_u_train, t_u_val, t_c_train, t_c_val):\n",
    "    for epoch in range(1, n_epochs+1):\n",
    "        t_p_train = model(t_u_train)\n",
    "        loss_train = loss_fn(t_p_train, t_c_train)\n",
    "        \n",
    "        t_p_val = model(t_u_val)\n",
    "        loss_val = loss_fn(t_p_val, t_c_val)\n",
    "        \n",
    "        optimizer.zero_grad()\n",
    "        loss_train.backward()\n",
    "        optimizer.step()\n",
    "        \n",
    "        if epoch==1 or epoch%1000==0:\n",
    "            print(f'Epoch {epoch}, Training loss {loss_train.item():.4f},'\n",
    "                  f'Validation loss {loss_val.item():.4f}')"
   ]
  },
  {
   "cell_type": "code",
   "execution_count": 41,
   "id": "350648fb-cc5d-4ac9-baf5-be73651d5bc0",
   "metadata": {},
   "outputs": [],
   "source": [
    "linear_model = nn.Linear(1, 1)\n",
    "optimizer = optim.SGD(linear_model.parameters(), lr=1e-2)"
   ]
  },
  {
   "cell_type": "code",
   "execution_count": 43,
   "id": "c9db6a22-f623-40fc-80f7-04d1935a10ef",
   "metadata": {},
   "outputs": [
    {
     "data": {
      "text/plain": [
       "(tensor([ 3,  1,  4,  8,  5,  0,  6, 10,  9]), tensor([7, 2]))"
      ]
     },
     "execution_count": 43,
     "metadata": {},
     "output_type": "execute_result"
    }
   ],
   "source": [
    "n_samples = t_u.shape[0]\n",
    "n_val = int(0.2 * n_samples)\n",
    "\n",
    "shuffled_indices = torch.randperm(n_samples)\n",
    "\n",
    "train_indices = shuffled_indices[:-n_val]\n",
    "val_indices = shuffled_indices[-n_val:]\n",
    "\n",
    "train_indices, val_indices"
   ]
  },
  {
   "cell_type": "code",
   "execution_count": 44,
   "id": "cac265bd-840b-446a-bbb7-baa28a3f49fc",
   "metadata": {},
   "outputs": [],
   "source": [
    "t_u_train = t_u[train_indices]\n",
    "t_c_train = t_c[train_indices]\n",
    "\n",
    "t_u_val = t_u[val_indices]\n",
    "t_c_val = t_c[val_indices]\n",
    "\n",
    "t_un_train = 0.1 * t_u_train\n",
    "t_un_val = 0.1 * t_u_val"
   ]
  },
  {
   "cell_type": "code",
   "execution_count": 45,
   "id": "5ab571b1-962c-4180-a9de-bf63a1148dcc",
   "metadata": {},
   "outputs": [
    {
     "name": "stdout",
     "output_type": "stream",
     "text": [
      "Epoch 1, Training loss 242.9760,Validation loss 142.9904\n",
      "Epoch 1000, Training loss 5.0634,Validation loss 1.1984\n",
      "Epoch 2000, Training loss 3.0616,Validation loss 2.2377\n",
      "Epoch 3000, Training loss 2.8977,Validation loss 3.7728\n"
     ]
    }
   ],
   "source": [
    "training_loop(\n",
    "    n_epochs=3000,\n",
    "    optimizer=optimizer,\n",
    "    model = linear_model,\n",
    "    loss_fn=nn.MSELoss(),\n",
    "    t_u_train=t_un_train,\n",
    "    t_u_val = t_un_val,\n",
    "    t_c_train = t_c_train,\n",
    "    t_c_val = t_c_val)"
   ]
  },
  {
   "cell_type": "code",
   "execution_count": 46,
   "id": "3acd9aed-337c-4038-af1c-2d35306119e5",
   "metadata": {},
   "outputs": [
    {
     "name": "stdout",
     "output_type": "stream",
     "text": [
      "\n",
      "Parameter containing:\n",
      "tensor([[5.5481]], requires_grad=True)\n",
      "Parameter containing:\n",
      "tensor([-18.5408], requires_grad=True)\n"
     ]
    }
   ],
   "source": [
    "print()\n",
    "print(linear_model.weight)\n",
    "print(linear_model.bias)"
   ]
  },
  {
   "cell_type": "code",
   "execution_count": 47,
   "id": "d42a6cda-ee54-486e-a9bd-f89267ad46e5",
   "metadata": {},
   "outputs": [],
   "source": [
    "seq_model = nn.Sequential(\n",
    "    nn.Linear(1, 13),\n",
    "    nn.Tanh(),\n",
    "    nn.Linear(13, 1))"
   ]
  },
  {
   "cell_type": "code",
   "execution_count": 48,
   "id": "b0ac085c-9f23-46aa-a3a3-a25198ea98d8",
   "metadata": {},
   "outputs": [
    {
     "data": {
      "text/plain": [
       "Sequential(\n",
       "  (0): Linear(in_features=1, out_features=13, bias=True)\n",
       "  (1): Tanh()\n",
       "  (2): Linear(in_features=13, out_features=1, bias=True)\n",
       ")"
      ]
     },
     "execution_count": 48,
     "metadata": {},
     "output_type": "execute_result"
    }
   ],
   "source": [
    "seq_model"
   ]
  },
  {
   "cell_type": "code",
   "execution_count": 49,
   "id": "99086512-f656-4ce2-aea4-3267cae5463f",
   "metadata": {},
   "outputs": [
    {
     "data": {
      "text/plain": [
       "[torch.Size([13, 1]), torch.Size([13]), torch.Size([1, 13]), torch.Size([1])]"
      ]
     },
     "execution_count": 49,
     "metadata": {},
     "output_type": "execute_result"
    }
   ],
   "source": [
    "[param.shape for param in seq_model.parameters()]"
   ]
  },
  {
   "cell_type": "code",
   "execution_count": 50,
   "id": "7ae3e340-6b45-419e-add7-3f7309b77566",
   "metadata": {},
   "outputs": [
    {
     "name": "stdout",
     "output_type": "stream",
     "text": [
      "0.weight torch.Size([13, 1])\n",
      "0.bias torch.Size([13])\n",
      "2.weight torch.Size([1, 13])\n",
      "2.bias torch.Size([1])\n"
     ]
    }
   ],
   "source": [
    "for name, param in seq_model.named_parameters():\n",
    "    print(name, param.shape)"
   ]
  },
  {
   "cell_type": "code",
   "execution_count": 51,
   "id": "e08a3464-e57e-4a02-ab67-f944df910ed2",
   "metadata": {},
   "outputs": [],
   "source": [
    "from collections import OrderedDict"
   ]
  },
  {
   "cell_type": "code",
   "execution_count": 52,
   "id": "1551caad-0873-45e0-9800-332aafbd6e23",
   "metadata": {},
   "outputs": [],
   "source": [
    "seq_model = nn.Sequential(OrderedDict([\n",
    "    ('hidden_linear', nn.Linear(1, 8)),\n",
    "    ('hidden_activation', nn.Tanh()),\n",
    "    ('output_linear', nn.Linear(8, 1))\n",
    "]))"
   ]
  },
  {
   "cell_type": "code",
   "execution_count": 53,
   "id": "3ea147de-6ac7-43f0-b491-258a5426420e",
   "metadata": {},
   "outputs": [
    {
     "name": "stdout",
     "output_type": "stream",
     "text": [
      "hidden_linear.weight torch.Size([8, 1])\n",
      "hidden_linear.bias torch.Size([8])\n",
      "output_linear.weight torch.Size([1, 8])\n",
      "output_linear.bias torch.Size([1])\n"
     ]
    }
   ],
   "source": [
    "for name, param in seq_model.named_parameters():\n",
    "    print(name, param.shape)"
   ]
  },
  {
   "cell_type": "code",
   "execution_count": 54,
   "id": "91a4ab2e-b1e8-408f-b34a-437d85f5af78",
   "metadata": {},
   "outputs": [
    {
     "data": {
      "text/plain": [
       "Sequential(\n",
       "  (hidden_linear): Linear(in_features=1, out_features=8, bias=True)\n",
       "  (hidden_activation): Tanh()\n",
       "  (output_linear): Linear(in_features=8, out_features=1, bias=True)\n",
       ")"
      ]
     },
     "execution_count": 54,
     "metadata": {},
     "output_type": "execute_result"
    }
   ],
   "source": [
    "seq_model"
   ]
  },
  {
   "cell_type": "code",
   "execution_count": 55,
   "id": "d54fa93e-d585-4fdf-b106-2ec334a6095b",
   "metadata": {},
   "outputs": [
    {
     "data": {
      "text/plain": [
       "Parameter containing:\n",
       "tensor([-0.0994], requires_grad=True)"
      ]
     },
     "execution_count": 55,
     "metadata": {},
     "output_type": "execute_result"
    }
   ],
   "source": [
    "seq_model.output_linear.bias"
   ]
  },
  {
   "cell_type": "code",
   "execution_count": 56,
   "id": "afbfbf2c-d990-4c57-ae0b-7954c089fb3e",
   "metadata": {},
   "outputs": [],
   "source": [
    "optimizer = optim.SGD(seq_model.parameters(), lr=1e-3)"
   ]
  },
  {
   "cell_type": "code",
   "execution_count": 57,
   "id": "d28ce963-a70e-4dd0-a9b3-a19ae677c05d",
   "metadata": {},
   "outputs": [
    {
     "name": "stdout",
     "output_type": "stream",
     "text": [
      "Epoch 1, Training loss 200.2667,Validation loss 119.3241\n",
      "Epoch 1000, Training loss 6.2681,Validation loss 2.5414\n",
      "Epoch 2000, Training loss 3.5746,Validation loss 5.2729\n",
      "Epoch 3000, Training loss 2.2364,Validation loss 5.2834\n",
      "Epoch 4000, Training loss 1.8900,Validation loss 5.2665\n",
      "Epoch 5000, Training loss 1.8102,Validation loss 5.3788\n"
     ]
    }
   ],
   "source": [
    "training_loop(\n",
    "    n_epochs=5000,\n",
    "    optimizer=optimizer,\n",
    "    model=seq_model,\n",
    "    loss_fn=nn.MSELoss(),\n",
    "    t_u_train=t_un_train,\n",
    "    t_u_val = t_un_val,\n",
    "    t_c_train=t_c_train,\n",
    "    t_c_val=t_c_val)"
   ]
  },
  {
   "cell_type": "code",
   "execution_count": 59,
   "id": "680670cf-9b6d-4cec-948a-d42f5d4635d2",
   "metadata": {},
   "outputs": [
    {
     "name": "stdout",
     "output_type": "stream",
     "text": [
      "output tensor([[-1.5596],\n",
      "        [13.3948]], grad_fn=<AddmmBackward0>)\n",
      "answer tensor([[-4.],\n",
      "        [15.]])\n",
      "hidden tensor([[-6.5370e+00],\n",
      "        [-2.2795e-01],\n",
      "        [ 6.5016e+00],\n",
      "        [ 1.8959e-03],\n",
      "        [ 9.1364e+00],\n",
      "        [ 2.4352e-02],\n",
      "        [ 2.6312e-01],\n",
      "        [-8.7813e+00]])\n"
     ]
    }
   ],
   "source": [
    "print('output', seq_model(t_un_val))\n",
    "print('answer', t_c_val)\n",
    "print('hidden', seq_model.hidden_linear.weight.grad)"
   ]
  },
  {
   "cell_type": "code",
   "execution_count": 60,
   "id": "5e7e82a8-1afe-4a29-b5fd-791fb46f2f86",
   "metadata": {},
   "outputs": [],
   "source": [
    "from matplotlib import pyplot as plt"
   ]
  },
  {
   "cell_type": "code",
   "execution_count": 61,
   "id": "23c04bc2-8712-4b75-bed3-9eed8db27558",
   "metadata": {},
   "outputs": [],
   "source": [
    "t_range = torch.arange(20., 90.).unsqueeze(1)"
   ]
  },
  {
   "cell_type": "code",
   "execution_count": 62,
   "id": "0fd35859-50fe-4393-8874-4088a7bfe94a",
   "metadata": {},
   "outputs": [
    {
     "data": {
      "text/plain": [
       "<Figure size 3840x2880 with 0 Axes>"
      ]
     },
     "metadata": {},
     "output_type": "display_data"
    }
   ],
   "source": [
    "fig = plt.figure(dpi=600)"
   ]
  },
  {
   "cell_type": "code",
   "execution_count": 63,
   "id": "0204dc88-a9cc-4afa-91c0-740025771717",
   "metadata": {},
   "outputs": [
    {
     "data": {
      "text/plain": [
       "[<matplotlib.lines.Line2D at 0x19f97512a30>]"
      ]
     },
     "execution_count": 63,
     "metadata": {},
     "output_type": "execute_result"
    },
    {
     "data": {
      "image/png": "[encoded data removed]",
      "text/plain": [
       "<Figure size 640x480 with 1 Axes>"
      ]
     },
     "metadata": {},
     "output_type": "display_data"
    }
   ],
   "source": [
    "plt.xlabel('Fahenheit')\n",
    "plt.ylabel('Celsius')\n",
    "plt.plot(t_u.numpy(), t_c.numpy(), 'o')\n",
    "plt.plot(t_range.numpy(), seq_model(0.1*t_range).detach().numpy(), 'c-')\n",
    "plt.plot(t_u.numpy(), seq_model(0.1 * t_u).detach().numpy(), 'kx')"
   ]
  },
  {
   "cell_type": "code",
   "execution_count": null,
   "id": "2c1d96e8-02ef-4875-965d-ad9d1a968c14",
   "metadata": {},
   "outputs": [],
   "source": []
  }
 ],
 "metadata": {
  "kernelspec": {
   "display_name": "Python 3 (ipykernel)",
   "language": "python",
   "name": "python3"
  },
  "language_info": {
   "codemirror_mode": {
    "name": "ipython",
    "version": 3
   },
   "file_extension": ".py",
   "mimetype": "text/x-python",
   "name": "python",
   "nbconvert_exporter": "python",
   "pygments_lexer": "ipython3",
   "version": "3.9.16"
  }
 },
 "nbformat": 4,
 "nbformat_minor": 5
}
