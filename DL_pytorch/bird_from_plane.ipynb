{
 "cells": [
  {
   "cell_type": "code",
   "execution_count": 1,
   "id": "73f0d3b8-8c44-4be4-a35f-9d4335ba37a4",
   "metadata": {},
   "outputs": [],
   "source": [
    "from torchvision import datasets"
   ]
  },
  {
   "cell_type": "code",
   "execution_count": 2,
   "id": "3b16017d-53f4-472e-a563-29bd663dac48",
   "metadata": {},
   "outputs": [
    {
     "name": "stdout",
     "output_type": "stream",
     "text": [
      "Downloading https://www.cs.toronto.edu/~kriz/cifar-10-python.tar.gz to ./cifar10\\cifar-10-python.tar.gz\n"
     ]
    },
    {
     "name": "stderr",
     "output_type": "stream",
     "text": [
      "100.0%\n"
     ]
    },
    {
     "name": "stdout",
     "output_type": "stream",
     "text": [
      "Extracting ./cifar10\\cifar-10-python.tar.gz to ./cifar10\n",
      "Files already downloaded and verified\n"
     ]
    }
   ],
   "source": [
    "data_path = './cifar10'\n",
    "cifar10 = datasets.CIFAR10(data_path, train=True, download=True)\n",
    "cifar10_val = datasets.CIFAR10(data_path, train=False, download=True)"
   ]
  },
  {
   "cell_type": "code",
   "execution_count": 3,
   "id": "f68ce892-2cdc-421d-ac78-a9b6eee976c3",
   "metadata": {},
   "outputs": [
    {
     "data": {
      "text/plain": [
       "(torchvision.datasets.cifar.CIFAR10,\n",
       " torchvision.datasets.vision.VisionDataset,\n",
       " torch.utils.data.dataset.Dataset,\n",
       " typing.Generic,\n",
       " object)"
      ]
     },
     "execution_count": 3,
     "metadata": {},
     "output_type": "execute_result"
    }
   ],
   "source": [
    "type(cifar10).__mro__"
   ]
  },
  {
   "cell_type": "code",
   "execution_count": 4,
   "id": "88a7ac60-46a5-47a5-8357-f1f85a501870",
   "metadata": {},
   "outputs": [
    {
     "data": {
      "text/plain": [
       "50000"
      ]
     },
     "execution_count": 4,
     "metadata": {},
     "output_type": "execute_result"
    }
   ],
   "source": [
    "len(cifar10)"
   ]
  },
  {
   "cell_type": "code",
   "execution_count": 5,
   "id": "e93c8bad-d2fd-4061-be38-4c902887dbd7",
   "metadata": {},
   "outputs": [
    {
     "data": {
      "text/plain": [
       "10000"
      ]
     },
     "execution_count": 5,
     "metadata": {},
     "output_type": "execute_result"
    }
   ],
   "source": [
    "len(cifar10_val)"
   ]
  },
  {
   "cell_type": "code",
   "execution_count": 6,
   "id": "1d6c404b-43c8-4eea-8ada-1861f8cb7910",
   "metadata": {},
   "outputs": [],
   "source": [
    "img, label = cifar10[99]"
   ]
  },
  {
   "cell_type": "code",
   "execution_count": 11,
   "id": "051288d0-176b-42c8-a5db-4754484fcfa4",
   "metadata": {},
   "outputs": [
    {
     "data": {
      "text/plain": [
       "(<PIL.Image.Image image mode=RGB size=32x32>, 1)"
      ]
     },
     "execution_count": 11,
     "metadata": {},
     "output_type": "execute_result"
    }
   ],
   "source": [
    "img, label"
   ]
  },
  {
   "cell_type": "code",
   "execution_count": 10,
   "id": "36ce6a7c-c1a1-4025-9841-d9f1a82a6874",
   "metadata": {},
   "outputs": [
    {
     "data": {
      "image/png": "[encoded data removed]",
      "text/plain": [
       "<Figure size 640x480 with 1 Axes>"
      ]
     },
     "metadata": {},
     "output_type": "display_data"
    }
   ],
   "source": [
    "import matplotlib.pyplot as plt\n",
    "plt.imshow(img)\n",
    "plt.show()"
   ]
  },
  {
   "cell_type": "code",
   "execution_count": 12,
   "id": "e9775384-d9c5-40fd-9374-9f546c2c5cba",
   "metadata": {},
   "outputs": [],
   "source": [
    "from torchvision import transforms"
   ]
  },
  {
   "cell_type": "code",
   "execution_count": 13,
   "id": "90cc59d6-08bb-4c4f-8fd2-92a783379157",
   "metadata": {},
   "outputs": [
    {
     "data": {
      "text/plain": [
       "['AugMix',\n",
       " 'AutoAugment',\n",
       " 'AutoAugmentPolicy',\n",
       " 'CenterCrop',\n",
       " 'ColorJitter',\n",
       " 'Compose',\n",
       " 'ConvertImageDtype',\n",
       " 'ElasticTransform',\n",
       " 'FiveCrop',\n",
       " 'GaussianBlur',\n",
       " 'Grayscale',\n",
       " 'InterpolationMode',\n",
       " 'Lambda',\n",
       " 'LinearTransformation',\n",
       " 'Normalize',\n",
       " 'PILToTensor',\n",
       " 'Pad',\n",
       " 'RandAugment',\n",
       " 'RandomAdjustSharpness',\n",
       " 'RandomAffine',\n",
       " 'RandomApply',\n",
       " 'RandomAutocontrast',\n",
       " 'RandomChoice',\n",
       " 'RandomCrop',\n",
       " 'RandomEqualize',\n",
       " 'RandomErasing',\n",
       " 'RandomGrayscale',\n",
       " 'RandomHorizontalFlip',\n",
       " 'RandomInvert',\n",
       " 'RandomOrder',\n",
       " 'RandomPerspective',\n",
       " 'RandomPosterize',\n",
       " 'RandomResizedCrop',\n",
       " 'RandomRotation',\n",
       " 'RandomSolarize',\n",
       " 'RandomVerticalFlip',\n",
       " 'Resize',\n",
       " 'TenCrop',\n",
       " 'ToPILImage',\n",
       " 'ToTensor',\n",
       " 'TrivialAugmentWide',\n",
       " '__builtins__',\n",
       " '__cached__',\n",
       " '__doc__',\n",
       " '__file__',\n",
       " '__loader__',\n",
       " '__name__',\n",
       " '__package__',\n",
       " '__path__',\n",
       " '__spec__',\n",
       " '_pil_constants',\n",
       " '_presets',\n",
       " 'autoaugment',\n",
       " 'functional',\n",
       " 'functional_pil',\n",
       " 'functional_tensor',\n",
       " 'transforms']"
      ]
     },
     "execution_count": 13,
     "metadata": {},
     "output_type": "execute_result"
    }
   ],
   "source": [
    "dir(transforms)"
   ]
  },
  {
   "cell_type": "code",
   "execution_count": 14,
   "id": "6b3ade81-8065-4e8e-8d36-cc72980c96fa",
   "metadata": {},
   "outputs": [],
   "source": [
    "to_tensor = transforms.ToTensor()"
   ]
  },
  {
   "cell_type": "code",
   "execution_count": 16,
   "id": "56a32262-71e9-4427-87ec-5cf951be5994",
   "metadata": {},
   "outputs": [
    {
     "data": {
      "text/plain": [
       "torch.Size([3, 32, 32])"
      ]
     },
     "execution_count": 16,
     "metadata": {},
     "output_type": "execute_result"
    }
   ],
   "source": [
    "img_t = to_tensor(img)\n",
    "img_t.shape"
   ]
  },
  {
   "cell_type": "code",
   "execution_count": 17,
   "id": "926c951b-a2cd-437a-8d4b-6c39942344b4",
   "metadata": {},
   "outputs": [],
   "source": [
    "tensor_cifar10 = datasets.CIFAR10(data_path, train=True, download=False, transform=transforms.ToTensor())"
   ]
  },
  {
   "cell_type": "code",
   "execution_count": 18,
   "id": "34927b43-c7db-486e-aae0-ceb145ed61b5",
   "metadata": {},
   "outputs": [],
   "source": [
    "img_t, _ = tensor_cifar10[99]"
   ]
  },
  {
   "cell_type": "code",
   "execution_count": 19,
   "id": "a0af77cb-c9c1-4218-97f1-5633c1295000",
   "metadata": {},
   "outputs": [
    {
     "data": {
      "text/plain": [
       "torch.Tensor"
      ]
     },
     "execution_count": 19,
     "metadata": {},
     "output_type": "execute_result"
    }
   ],
   "source": [
    "type(img_t)"
   ]
  },
  {
   "cell_type": "code",
   "execution_count": 20,
   "id": "916a47e1-c3ad-4fe8-8fc6-6f0045f528ac",
   "metadata": {},
   "outputs": [
    {
     "data": {
      "text/plain": [
       "(torch.Size([3, 32, 32]), torch.float32)"
      ]
     },
     "execution_count": 20,
     "metadata": {},
     "output_type": "execute_result"
    }
   ],
   "source": [
    "img_t.shape, img_t.dtype"
   ]
  },
  {
   "cell_type": "code",
   "execution_count": 21,
   "id": "842984b2-7970-4bee-b454-ad79c874330a",
   "metadata": {},
   "outputs": [
    {
     "data": {
      "text/plain": [
       "(tensor(0.), tensor(1.))"
      ]
     },
     "execution_count": 21,
     "metadata": {},
     "output_type": "execute_result"
    }
   ],
   "source": [
    "img_t.min(), img_t.max()"
   ]
  },
  {
   "cell_type": "code",
   "execution_count": 23,
   "id": "ad6a4c29-2f7c-4ff7-8484-9b4b9d516d64",
   "metadata": {},
   "outputs": [
    {
     "data": {
      "image/png": "[encoded data removed]",
      "text/plain": [
       "<Figure size 640x480 with 1 Axes>"
      ]
     },
     "metadata": {},
     "output_type": "display_data"
    }
   ],
   "source": [
    "plt.imshow(img_t.permute(1, 2, 0))\n",
    "plt.show()"
   ]
  },
  {
   "cell_type": "code",
   "execution_count": 25,
   "id": "e6fc9da8-57a2-42e2-b80f-67ce5bdb41be",
   "metadata": {},
   "outputs": [
    {
     "data": {
      "text/plain": [
       "torch.Size([3, 32, 32, 50000])"
      ]
     },
     "execution_count": 25,
     "metadata": {},
     "output_type": "execute_result"
    }
   ],
   "source": [
    "import torch\n",
    "\n",
    "imgs = torch.stack([img_t for img_t, _ in tensor_cifar10], dim=3)\n",
    "imgs.shape"
   ]
  },
  {
   "cell_type": "code",
   "execution_count": 26,
   "id": "61487979-59d5-423a-b2dc-cb4f207bf95a",
   "metadata": {},
   "outputs": [
    {
     "data": {
      "text/plain": [
       "tensor([0.4914, 0.4822, 0.4465])"
      ]
     },
     "execution_count": 26,
     "metadata": {},
     "output_type": "execute_result"
    }
   ],
   "source": [
    "imgs.view(3, -1).mean(dim=1)"
   ]
  },
  {
   "cell_type": "code",
   "execution_count": 28,
   "id": "6f58166d-682e-446c-a361-cc47d0474a1c",
   "metadata": {},
   "outputs": [
    {
     "data": {
      "text/plain": [
       "torch.Size([3, 51200000])"
      ]
     },
     "execution_count": 28,
     "metadata": {},
     "output_type": "execute_result"
    }
   ],
   "source": [
    "imgs.view(3, -1).shape"
   ]
  },
  {
   "cell_type": "code",
   "execution_count": 29,
   "id": "8ea030b2-d700-4e2c-a1b5-0d4e70074b7f",
   "metadata": {},
   "outputs": [
    {
     "data": {
      "text/plain": [
       "tensor([0.2470, 0.2435, 0.2616])"
      ]
     },
     "execution_count": 29,
     "metadata": {},
     "output_type": "execute_result"
    }
   ],
   "source": [
    "imgs.view(3, -1).std(dim=1)"
   ]
  },
  {
   "cell_type": "code",
   "execution_count": 30,
   "id": "4e933a25-e443-458a-80f8-55fc97a32205",
   "metadata": {},
   "outputs": [
    {
     "data": {
      "text/plain": [
       "Normalize(mean=(0.4914, 0.4822, 0.4465), std=(0.247, 0.2435, 0.2616))"
      ]
     },
     "execution_count": 30,
     "metadata": {},
     "output_type": "execute_result"
    }
   ],
   "source": [
    "transforms.Normalize((0.4914, 0.4822, 0.4465), (0.2470, 0.2435, 0.2616))"
   ]
  },
  {
   "cell_type": "code",
   "execution_count": 55,
   "id": "27e34edf-46cb-4569-900d-d3b5a3e2ea5d",
   "metadata": {},
   "outputs": [],
   "source": [
    "cifar10 = datasets.CIFAR10(\n",
    "    data_path, train=True, download=False,\n",
    "    transform=transforms.Compose([\n",
    "        transforms.ToTensor(),\n",
    "        transforms.Normalize((0.4914, 0.4822, 0.4465), (0.2470, 0.2435, 0.2616))\n",
    "    ]))"
   ]
  },
  {
   "cell_type": "code",
   "execution_count": 85,
   "id": "90f08148-892b-4c47-b163-5ca5b2f2524a",
   "metadata": {},
   "outputs": [],
   "source": [
    "cifar10_val = datasets.CIFAR10(\n",
    "    data_path, train=False, download=False,\n",
    "    transform=transforms.Compose([\n",
    "        transforms.ToTensor(),\n",
    "        transforms.Normalize((0.4914, 0.4822, 0.4465), (0.2470, 0.2435, 0.2616))\n",
    "    ]))"
   ]
  },
  {
   "cell_type": "code",
   "execution_count": 32,
   "id": "012a229e-a529-4a06-b345-e16a2f001da7",
   "metadata": {},
   "outputs": [],
   "source": [
    "img_t, _ = transformed_cifar10[99]"
   ]
  },
  {
   "cell_type": "code",
   "execution_count": 33,
   "id": "30e40b12-89ee-475e-97b4-9d25a25dd1dc",
   "metadata": {},
   "outputs": [
    {
     "name": "stderr",
     "output_type": "stream",
     "text": [
      "Clipping input data to the valid range for imshow with RGB data ([0..1] for floats or [0..255] for integers).\n"
     ]
    },
    {
     "data": {
      "image/png": "[encoded data removed]",
      "text/plain": [
       "<Figure size 640x480 with 1 Axes>"
      ]
     },
     "metadata": {},
     "output_type": "display_data"
    }
   ],
   "source": [
    "plt.imshow(img_t.permute(1, 2, 0))\n",
    "plt.show()"
   ]
  },
  {
   "cell_type": "code",
   "execution_count": 86,
   "id": "abe23cda-31d9-49ec-b351-a95475a1dd08",
   "metadata": {},
   "outputs": [],
   "source": [
    "label_map = {0: 0, 2: 1}\n",
    "class_names = ['airplane', 'bird']\n",
    "cifar2 = [(img, label_map[label])\n",
    "          for img, label in cifar10\n",
    "          if label in [0, 2]]\n",
    "cifar2_val = [(img, label_map[label])\n",
    "              for img, label in cifar10_val\n",
    "              if label in [0, 2]]"
   ]
  },
  {
   "cell_type": "code",
   "execution_count": 87,
   "id": "47383ec5-db0f-49c3-9e2a-dae824fd5546",
   "metadata": {},
   "outputs": [
    {
     "data": {
      "text/plain": [
       "(10000, 2000)"
      ]
     },
     "execution_count": 87,
     "metadata": {},
     "output_type": "execute_result"
    }
   ],
   "source": [
    "len(cifar2), len(cifar2_val)"
   ]
  },
  {
   "cell_type": "code",
   "execution_count": 58,
   "id": "56bd4819-01d4-4b5b-991c-ff2777a74033",
   "metadata": {},
   "outputs": [],
   "source": [
    "import torch.nn as nn"
   ]
  },
  {
   "cell_type": "code",
   "execution_count": 59,
   "id": "b899b4ea-867b-4cdd-9930-391a75b1c38d",
   "metadata": {},
   "outputs": [],
   "source": [
    "n_out = 2\n",
    "\n",
    "model = nn.Sequential(\n",
    "    nn.Linear(\n",
    "        3072,\n",
    "        512,\n",
    "    ),\n",
    "    nn.Tanh(),\n",
    "    nn.Linear(\n",
    "        512,\n",
    "        n_out,\n",
    "    ),\n",
    ")"
   ]
  },
  {
   "cell_type": "code",
   "execution_count": 60,
   "id": "3bdfa113-c973-4e26-8988-7920a6751a63",
   "metadata": {},
   "outputs": [],
   "source": [
    "def softmax(x):\n",
    "    return torch.exp(x) / torch.exp(x).sum()"
   ]
  },
  {
   "cell_type": "code",
   "execution_count": 61,
   "id": "5e62a004-00aa-4062-aef6-48da2f14cee6",
   "metadata": {},
   "outputs": [],
   "source": [
    "x = torch.tensor([1.0, 2.0, 3.0])"
   ]
  },
  {
   "cell_type": "code",
   "execution_count": 62,
   "id": "5353e316-34e1-4084-b611-93160b47bcf4",
   "metadata": {},
   "outputs": [
    {
     "data": {
      "text/plain": [
       "tensor([0.0900, 0.2447, 0.6652])"
      ]
     },
     "execution_count": 62,
     "metadata": {},
     "output_type": "execute_result"
    }
   ],
   "source": [
    "softmax(x)"
   ]
  },
  {
   "cell_type": "code",
   "execution_count": 63,
   "id": "cb5371cb-ce2f-4314-bfed-a54fa8f18d85",
   "metadata": {},
   "outputs": [
    {
     "data": {
      "text/plain": [
       "tensor(1.)"
      ]
     },
     "execution_count": 63,
     "metadata": {},
     "output_type": "execute_result"
    }
   ],
   "source": [
    "softmax(x).sum()"
   ]
  },
  {
   "cell_type": "code",
   "execution_count": 64,
   "id": "01ac6fa7-dbdb-42ec-bdf2-33efacee03b0",
   "metadata": {},
   "outputs": [],
   "source": [
    "softmax = nn.Softmax(dim=1)"
   ]
  },
  {
   "cell_type": "code",
   "execution_count": 65,
   "id": "12f65a0d-ec46-404a-aa82-bf1ff63e486d",
   "metadata": {},
   "outputs": [],
   "source": [
    "x = torch.tensor([[1.0, 2.0, 3.0],\n",
    "                  [1.0, 2.0, 3.0]])"
   ]
  },
  {
   "cell_type": "code",
   "execution_count": 66,
   "id": "b09686d3-6c20-4336-a88b-dabba2ae96dc",
   "metadata": {},
   "outputs": [
    {
     "data": {
      "text/plain": [
       "tensor([[0.0900, 0.2447, 0.6652],\n",
       "        [0.0900, 0.2447, 0.6652]])"
      ]
     },
     "execution_count": 66,
     "metadata": {},
     "output_type": "execute_result"
    }
   ],
   "source": [
    "softmax(x)"
   ]
  },
  {
   "cell_type": "code",
   "execution_count": 67,
   "id": "f02deaa6-349c-4fa7-9203-9a8918b6a93c",
   "metadata": {},
   "outputs": [],
   "source": [
    "model = nn.Sequential(\n",
    "    nn.Linear(3072, 512),\n",
    "    nn.Tanh(),\n",
    "    nn.Linear(512, 2), \n",
    "    nn.Softmax(dim=1))"
   ]
  },
  {
   "cell_type": "code",
   "execution_count": 68,
   "id": "f1ba3c3a-035d-4799-a1af-ef41e6215b11",
   "metadata": {},
   "outputs": [],
   "source": [
    "img, _ = cifar2[0]"
   ]
  },
  {
   "cell_type": "code",
   "execution_count": 69,
   "id": "22a34911-6bc6-44dc-a523-73ea2acab884",
   "metadata": {},
   "outputs": [
    {
     "name": "stderr",
     "output_type": "stream",
     "text": [
      "Clipping input data to the valid range for imshow with RGB data ([0..1] for floats or [0..255] for integers).\n"
     ]
    },
    {
     "data": {
      "image/png": "[encoded data removed]",
      "text/plain": [
       "<Figure size 640x480 with 1 Axes>"
      ]
     },
     "metadata": {},
     "output_type": "display_data"
    }
   ],
   "source": [
    "plt.imshow(img.permute(1, 2, 0))\n",
    "plt.show()"
   ]
  },
  {
   "cell_type": "code",
   "execution_count": 70,
   "id": "bfc1b62c-2206-4ab1-84ca-5d53ed703c77",
   "metadata": {},
   "outputs": [],
   "source": [
    "img_batch = img.view(-1).unsqueeze(0)"
   ]
  },
  {
   "cell_type": "code",
   "execution_count": 71,
   "id": "e1477ee4-2e97-43de-914f-cf401684a077",
   "metadata": {},
   "outputs": [],
   "source": [
    "out = model(img_batch)"
   ]
  },
  {
   "cell_type": "code",
   "execution_count": 72,
   "id": "7f52009e-0d4b-45ab-b03c-43006d3ce60d",
   "metadata": {},
   "outputs": [
    {
     "data": {
      "text/plain": [
       "tensor([[0.4220, 0.5780]], grad_fn=<SoftmaxBackward0>)"
      ]
     },
     "execution_count": 72,
     "metadata": {},
     "output_type": "execute_result"
    }
   ],
   "source": [
    "out"
   ]
  },
  {
   "cell_type": "code",
   "execution_count": 73,
   "id": "a621b50e-c7b7-441c-a4f1-95f517a80cf1",
   "metadata": {},
   "outputs": [],
   "source": [
    "_, index = torch.max(out, dim=1)"
   ]
  },
  {
   "cell_type": "code",
   "execution_count": 74,
   "id": "3147a3f0-32e5-406f-b1dd-5c900612e5d2",
   "metadata": {},
   "outputs": [
    {
     "data": {
      "text/plain": [
       "tensor([1])"
      ]
     },
     "execution_count": 74,
     "metadata": {},
     "output_type": "execute_result"
    }
   ],
   "source": [
    "index"
   ]
  },
  {
   "cell_type": "code",
   "execution_count": 75,
   "id": "8f0af55f-24cc-416e-a312-138199579f62",
   "metadata": {},
   "outputs": [],
   "source": [
    "model = nn.Sequential(\n",
    "    nn.Linear(3072, 512),\n",
    "    nn.Tanh(),\n",
    "    nn.Linear(512, 2),\n",
    "    nn.LogSoftmax(dim=1))"
   ]
  },
  {
   "cell_type": "code",
   "execution_count": 76,
   "id": "230bc585-dc7f-49af-b95b-505d22783da2",
   "metadata": {},
   "outputs": [],
   "source": [
    "loss = nn.NLLLoss()"
   ]
  },
  {
   "cell_type": "code",
   "execution_count": 77,
   "id": "62eebb39-fcf6-4780-80df-164ee78c8ba8",
   "metadata": {},
   "outputs": [],
   "source": [
    "img, label = cifar2[0]"
   ]
  },
  {
   "cell_type": "code",
   "execution_count": 78,
   "id": "9e9f5c5d-b440-45a9-a3ae-c7eb763d6028",
   "metadata": {},
   "outputs": [],
   "source": [
    "out = model(img.view(-1).unsqueeze(0))"
   ]
  },
  {
   "cell_type": "code",
   "execution_count": 79,
   "id": "25e1b27c-a7bc-48fe-9a4e-bb6ca11b72e4",
   "metadata": {},
   "outputs": [
    {
     "data": {
      "text/plain": [
       "tensor(0.5887, grad_fn=<NllLossBackward0>)"
      ]
     },
     "execution_count": 79,
     "metadata": {},
     "output_type": "execute_result"
    }
   ],
   "source": [
    "loss(out, torch.tensor([label]))"
   ]
  },
  {
   "cell_type": "code",
   "execution_count": 80,
   "id": "8291d9fd-54c8-474a-bbbb-c75670fa3898",
   "metadata": {
    "scrolled": true,
    "tags": []
   },
   "outputs": [
    {
     "name": "stdout",
     "output_type": "stream",
     "text": [
      "Epoch: 0, Loss: 4.712916\n",
      "Epoch: 1, Loss: 5.549569\n",
      "Epoch: 2, Loss: 9.669329\n",
      "Epoch: 3, Loss: 10.560519\n",
      "Epoch: 4, Loss: 6.846306\n",
      "Epoch: 5, Loss: 10.102454\n",
      "Epoch: 6, Loss: 1.626199\n",
      "Epoch: 7, Loss: 14.197753\n",
      "Epoch: 8, Loss: 13.099645\n",
      "Epoch: 9, Loss: 11.991920\n",
      "Epoch: 10, Loss: 5.752840\n",
      "Epoch: 11, Loss: 10.433274\n",
      "Epoch: 12, Loss: 6.333731\n",
      "Epoch: 13, Loss: 7.082466\n",
      "Epoch: 14, Loss: 18.114891\n",
      "Epoch: 15, Loss: 5.707235\n",
      "Epoch: 16, Loss: 7.575773\n",
      "Epoch: 17, Loss: 3.959499\n",
      "Epoch: 18, Loss: 9.898849\n",
      "Epoch: 19, Loss: 13.063622\n",
      "Epoch: 20, Loss: 6.090706\n",
      "Epoch: 21, Loss: 6.692701\n",
      "Epoch: 22, Loss: 8.242575\n",
      "Epoch: 23, Loss: 1.045886\n",
      "Epoch: 24, Loss: 6.925960\n",
      "Epoch: 25, Loss: 8.753065\n",
      "Epoch: 26, Loss: 14.071212\n",
      "Epoch: 27, Loss: 10.542834\n",
      "Epoch: 28, Loss: 7.016723\n"
     ]
    },
    {
     "ename": "KeyboardInterrupt",
     "evalue": "",
     "output_type": "error",
     "traceback": [
      "\u001b[1;31m---------------------------------------------------------------------------\u001b[0m",
      "\u001b[1;31mKeyboardInterrupt\u001b[0m                         Traceback (most recent call last)",
      "Cell \u001b[1;32mIn[80], line 25\u001b[0m\n\u001b[0;32m     22\u001b[0m     loss \u001b[38;5;241m=\u001b[39m loss_fn(out, torch\u001b[38;5;241m.\u001b[39mtensor([label]))\n\u001b[0;32m     24\u001b[0m     optimizer\u001b[38;5;241m.\u001b[39mzero_grad()\n\u001b[1;32m---> 25\u001b[0m     \u001b[43mloss\u001b[49m\u001b[38;5;241;43m.\u001b[39;49m\u001b[43mbackward\u001b[49m\u001b[43m(\u001b[49m\u001b[43m)\u001b[49m\n\u001b[0;32m     26\u001b[0m     optimizer\u001b[38;5;241m.\u001b[39mstep()\n\u001b[0;32m     28\u001b[0m \u001b[38;5;28mprint\u001b[39m(\u001b[38;5;124m'\u001b[39m\u001b[38;5;124mEpoch: \u001b[39m\u001b[38;5;132;01m%d\u001b[39;00m\u001b[38;5;124m, Loss: \u001b[39m\u001b[38;5;132;01m%f\u001b[39;00m\u001b[38;5;124m'\u001b[39m \u001b[38;5;241m%\u001b[39m (epoch, \u001b[38;5;28mfloat\u001b[39m(loss)))\n",
      "File \u001b[1;32m~\\anaconda3\\envs\\torch\\lib\\site-packages\\torch\\_tensor.py:488\u001b[0m, in \u001b[0;36mTensor.backward\u001b[1;34m(self, gradient, retain_graph, create_graph, inputs)\u001b[0m\n\u001b[0;32m    478\u001b[0m \u001b[38;5;28;01mif\u001b[39;00m has_torch_function_unary(\u001b[38;5;28mself\u001b[39m):\n\u001b[0;32m    479\u001b[0m     \u001b[38;5;28;01mreturn\u001b[39;00m handle_torch_function(\n\u001b[0;32m    480\u001b[0m         Tensor\u001b[38;5;241m.\u001b[39mbackward,\n\u001b[0;32m    481\u001b[0m         (\u001b[38;5;28mself\u001b[39m,),\n\u001b[1;32m   (...)\u001b[0m\n\u001b[0;32m    486\u001b[0m         inputs\u001b[38;5;241m=\u001b[39minputs,\n\u001b[0;32m    487\u001b[0m     )\n\u001b[1;32m--> 488\u001b[0m \u001b[43mtorch\u001b[49m\u001b[38;5;241;43m.\u001b[39;49m\u001b[43mautograd\u001b[49m\u001b[38;5;241;43m.\u001b[39;49m\u001b[43mbackward\u001b[49m\u001b[43m(\u001b[49m\n\u001b[0;32m    489\u001b[0m \u001b[43m    \u001b[49m\u001b[38;5;28;43mself\u001b[39;49m\u001b[43m,\u001b[49m\u001b[43m \u001b[49m\u001b[43mgradient\u001b[49m\u001b[43m,\u001b[49m\u001b[43m \u001b[49m\u001b[43mretain_graph\u001b[49m\u001b[43m,\u001b[49m\u001b[43m \u001b[49m\u001b[43mcreate_graph\u001b[49m\u001b[43m,\u001b[49m\u001b[43m \u001b[49m\u001b[43minputs\u001b[49m\u001b[38;5;241;43m=\u001b[39;49m\u001b[43minputs\u001b[49m\n\u001b[0;32m    490\u001b[0m \u001b[43m\u001b[49m\u001b[43m)\u001b[49m\n",
      "File \u001b[1;32m~\\anaconda3\\envs\\torch\\lib\\site-packages\\torch\\autograd\\__init__.py:197\u001b[0m, in \u001b[0;36mbackward\u001b[1;34m(tensors, grad_tensors, retain_graph, create_graph, grad_variables, inputs)\u001b[0m\n\u001b[0;32m    192\u001b[0m     retain_graph \u001b[38;5;241m=\u001b[39m create_graph\n\u001b[0;32m    194\u001b[0m \u001b[38;5;66;03m# The reason we repeat same the comment below is that\u001b[39;00m\n\u001b[0;32m    195\u001b[0m \u001b[38;5;66;03m# some Python versions print out the first line of a multi-line function\u001b[39;00m\n\u001b[0;32m    196\u001b[0m \u001b[38;5;66;03m# calls in the traceback and some print out the last line\u001b[39;00m\n\u001b[1;32m--> 197\u001b[0m \u001b[43mVariable\u001b[49m\u001b[38;5;241;43m.\u001b[39;49m\u001b[43m_execution_engine\u001b[49m\u001b[38;5;241;43m.\u001b[39;49m\u001b[43mrun_backward\u001b[49m\u001b[43m(\u001b[49m\u001b[43m  \u001b[49m\u001b[38;5;66;43;03m# Calls into the C++ engine to run the backward pass\u001b[39;49;00m\n\u001b[0;32m    198\u001b[0m \u001b[43m    \u001b[49m\u001b[43mtensors\u001b[49m\u001b[43m,\u001b[49m\u001b[43m \u001b[49m\u001b[43mgrad_tensors_\u001b[49m\u001b[43m,\u001b[49m\u001b[43m \u001b[49m\u001b[43mretain_graph\u001b[49m\u001b[43m,\u001b[49m\u001b[43m \u001b[49m\u001b[43mcreate_graph\u001b[49m\u001b[43m,\u001b[49m\u001b[43m \u001b[49m\u001b[43minputs\u001b[49m\u001b[43m,\u001b[49m\n\u001b[0;32m    199\u001b[0m \u001b[43m    \u001b[49m\u001b[43mallow_unreachable\u001b[49m\u001b[38;5;241;43m=\u001b[39;49m\u001b[38;5;28;43;01mTrue\u001b[39;49;00m\u001b[43m,\u001b[49m\u001b[43m \u001b[49m\u001b[43maccumulate_grad\u001b[49m\u001b[38;5;241;43m=\u001b[39;49m\u001b[38;5;28;43;01mTrue\u001b[39;49;00m\u001b[43m)\u001b[49m\n",
      "\u001b[1;31mKeyboardInterrupt\u001b[0m: "
     ]
    }
   ],
   "source": [
    "import torch\n",
    "import torch.nn as nn\n",
    "import torch.optim as optim\n",
    "\n",
    "model = nn.Sequential(\n",
    "    nn.Linear(3072, 512),\n",
    "    nn.Tanh(),\n",
    "    nn.Linear(512, 2),\n",
    "    nn.LogSoftmax(dim=1))\n",
    "\n",
    "learning_rate = 1e-2\n",
    "\n",
    "optimizer = optim.SGD(model.parameters(), lr=learning_rate)\n",
    "\n",
    "loss_fn = nn.NLLLoss()\n",
    "\n",
    "n_epochs = 100\n",
    "\n",
    "for epoch in range(n_epochs):\n",
    "    for img, label in cifar2:\n",
    "        out = model(img.view(-1).unsqueeze(0))\n",
    "        loss = loss_fn(out, torch.tensor([label]))\n",
    "        \n",
    "        optimizer.zero_grad()\n",
    "        loss.backward()\n",
    "        optimizer.step()\n",
    "        \n",
    "    print('Epoch: %d, Loss: %f' % (epoch, float(loss)))"
   ]
  },
  {
   "cell_type": "code",
   "execution_count": 91,
   "id": "789b14fa-102f-4be8-8d23-0f78004f2abc",
   "metadata": {},
   "outputs": [],
   "source": [
    "train_loader = torch.utils.data.DataLoader(cifar2, batch_size=64, shuffle=True)"
   ]
  },
  {
   "cell_type": "code",
   "execution_count": 92,
   "id": "fa01816f-2cfb-4763-8484-3e40ca8dcfe0",
   "metadata": {
    "scrolled": true,
    "tags": []
   },
   "outputs": [
    {
     "name": "stdout",
     "output_type": "stream",
     "text": [
      "Epoch: 0, Loss: 0.649675\n",
      "Epoch: 1, Loss: 0.465488\n",
      "Epoch: 2, Loss: 0.471359\n",
      "Epoch: 3, Loss: 0.334909\n",
      "Epoch: 4, Loss: 0.468058\n",
      "Epoch: 5, Loss: 0.474353\n",
      "Epoch: 6, Loss: 0.439331\n",
      "Epoch: 7, Loss: 0.196262\n",
      "Epoch: 8, Loss: 0.362707\n",
      "Epoch: 9, Loss: 0.336133\n",
      "Epoch: 10, Loss: 0.477162\n",
      "Epoch: 11, Loss: 0.264155\n",
      "Epoch: 12, Loss: 0.259002\n",
      "Epoch: 13, Loss: 0.430233\n",
      "Epoch: 14, Loss: 0.600920\n",
      "Epoch: 15, Loss: 0.198574\n",
      "Epoch: 16, Loss: 0.247181\n",
      "Epoch: 17, Loss: 0.373001\n",
      "Epoch: 18, Loss: 0.157314\n",
      "Epoch: 19, Loss: 0.286725\n",
      "Epoch: 20, Loss: 0.158645\n",
      "Epoch: 21, Loss: 0.318113\n",
      "Epoch: 22, Loss: 0.151363\n",
      "Epoch: 23, Loss: 0.256338\n",
      "Epoch: 24, Loss: 0.094018\n",
      "Epoch: 25, Loss: 0.418886\n",
      "Epoch: 26, Loss: 0.212320\n",
      "Epoch: 27, Loss: 0.372854\n",
      "Epoch: 28, Loss: 0.211276\n",
      "Epoch: 29, Loss: 0.370276\n",
      "Epoch: 30, Loss: 0.228509\n",
      "Epoch: 31, Loss: 0.416424\n",
      "Epoch: 32, Loss: 0.200411\n",
      "Epoch: 33, Loss: 0.182858\n",
      "Epoch: 34, Loss: 0.565200\n",
      "Epoch: 35, Loss: 0.195929\n",
      "Epoch: 36, Loss: 0.182093\n",
      "Epoch: 37, Loss: 0.285116\n",
      "Epoch: 38, Loss: 0.091585\n",
      "Epoch: 39, Loss: 0.120028\n",
      "Epoch: 40, Loss: 0.146331\n",
      "Epoch: 41, Loss: 0.184927\n",
      "Epoch: 42, Loss: 0.201602\n",
      "Epoch: 43, Loss: 0.124842\n",
      "Epoch: 44, Loss: 0.066350\n",
      "Epoch: 45, Loss: 0.093852\n",
      "Epoch: 46, Loss: 0.045163\n",
      "Epoch: 47, Loss: 0.152655\n",
      "Epoch: 48, Loss: 0.057714\n",
      "Epoch: 49, Loss: 0.046827\n",
      "Epoch: 50, Loss: 0.229608\n",
      "Epoch: 51, Loss: 0.051349\n",
      "Epoch: 52, Loss: 0.022582\n",
      "Epoch: 53, Loss: 0.063659\n",
      "Epoch: 54, Loss: 0.047094\n",
      "Epoch: 55, Loss: 0.173111\n",
      "Epoch: 56, Loss: 0.030562\n",
      "Epoch: 57, Loss: 0.034371\n",
      "Epoch: 58, Loss: 0.025559\n",
      "Epoch: 59, Loss: 0.085245\n",
      "Epoch: 60, Loss: 0.039772\n",
      "Epoch: 61, Loss: 0.045513\n",
      "Epoch: 62, Loss: 0.047166\n",
      "Epoch: 63, Loss: 0.057154\n",
      "Epoch: 64, Loss: 0.048478\n",
      "Epoch: 65, Loss: 0.042918\n",
      "Epoch: 66, Loss: 0.008127\n",
      "Epoch: 67, Loss: 0.043213\n",
      "Epoch: 68, Loss: 0.052598\n",
      "Epoch: 69, Loss: 0.066103\n",
      "Epoch: 70, Loss: 0.023737\n",
      "Epoch: 71, Loss: 0.252452\n",
      "Epoch: 72, Loss: 0.028778\n",
      "Epoch: 73, Loss: 0.027798\n",
      "Epoch: 74, Loss: 0.011511\n",
      "Epoch: 75, Loss: 0.036538\n",
      "Epoch: 76, Loss: 0.032086\n",
      "Epoch: 77, Loss: 0.032014\n",
      "Epoch: 78, Loss: 0.012868\n",
      "Epoch: 79, Loss: 0.014643\n",
      "Epoch: 80, Loss: 0.036832\n",
      "Epoch: 81, Loss: 0.014322\n",
      "Epoch: 82, Loss: 0.020302\n",
      "Epoch: 83, Loss: 0.019389\n",
      "Epoch: 84, Loss: 0.021128\n",
      "Epoch: 85, Loss: 0.026280\n",
      "Epoch: 86, Loss: 0.034948\n",
      "Epoch: 87, Loss: 0.009016\n",
      "Epoch: 88, Loss: 0.010146\n",
      "Epoch: 89, Loss: 0.024061\n",
      "Epoch: 90, Loss: 0.011980\n",
      "Epoch: 91, Loss: 0.051568\n",
      "Epoch: 92, Loss: 0.022464\n",
      "Epoch: 93, Loss: 0.013797\n",
      "Epoch: 94, Loss: 0.020608\n",
      "Epoch: 95, Loss: 0.012219\n",
      "Epoch: 96, Loss: 0.030917\n",
      "Epoch: 97, Loss: 0.014500\n",
      "Epoch: 98, Loss: 0.015017\n",
      "Epoch: 99, Loss: 0.012882\n"
     ]
    }
   ],
   "source": [
    "import torch\n",
    "import torch.nn as nn\n",
    "\n",
    "train_loader = torch.utils.data.DataLoader(cifar2, batch_size=64, shuffle=True)\n",
    "\n",
    "model = nn.Sequential(\n",
    "    nn.Linear(3072, 512),\n",
    "    nn.Tanh(),\n",
    "    nn.Linear(512, 2),\n",
    "    nn.LogSoftmax(dim=1))\n",
    "\n",
    "learning_rate = 1e-2\n",
    "\n",
    "optimizer = optim.SGD(model.parameters(), lr=learning_rate)\n",
    "\n",
    "loss_fn = nn.NLLLoss()\n",
    "\n",
    "n_epochs = 100\n",
    "\n",
    "for epoch in range(n_epochs):\n",
    "    for imgs, labels in train_loader:\n",
    "        batch_size = imgs.shape[0]\n",
    "        outputs = model(imgs.view(batch_size, -1))\n",
    "        loss = loss_fn(outputs, labels)\n",
    "        \n",
    "        optimizer.zero_grad()\n",
    "        loss.backward()\n",
    "        optimizer.step()\n",
    "        \n",
    "    print('Epoch: %d, Loss: %f' % (epoch, float(loss)))"
   ]
  },
  {
   "cell_type": "code",
   "execution_count": 93,
   "id": "e4dc6ece-95ff-410d-adc1-c64f8a50d72c",
   "metadata": {},
   "outputs": [
    {
     "name": "stdout",
     "output_type": "stream",
     "text": [
      "Accuracy: 0.822000\n"
     ]
    }
   ],
   "source": [
    "val_loader = torch.utils.data.DataLoader(cifar2_val, batch_size=64, shuffle=False)\n",
    "\n",
    "correct = 0\n",
    "total = 0\n",
    "\n",
    "with torch.no_grad():\n",
    "    for imgs, labels in val_loader:\n",
    "        batch_size = imgs.shape[0]\n",
    "        outputs = model(imgs.view(batch_size, -1))\n",
    "        _, predicted = torch.max(outputs, dim=1)\n",
    "        total += labels.shape[0]\n",
    "        correct += int((predicted == labels).sum())\n",
    "        \n",
    "    print('Accuracy: %f' % (correct/total))"
   ]
  },
  {
   "cell_type": "code",
   "execution_count": null,
   "id": "011ef81a-9c17-48b6-982b-a4d4c82b05e4",
   "metadata": {},
   "outputs": [],
   "source": [
    "model = nn.Sequential(\n",
    "    nn.Linear(3072, 1024),\n",
    "    nn.Tanh(),\n",
    "    nn.Linear(1024, 512),\n",
    "    nn.Tanh(),\n",
    "    nn.Linear(512, 128),\n",
    "    nn.Tanh(),\n",
    "    nn.Linear(128, 2),\n",
    "    nn.LogSoftmax(dim=1))"
   ]
  },
  {
   "cell_type": "code",
   "execution_count": null,
   "id": "3b3bcf40-a46b-41ae-98ff-4396f4da59fe",
   "metadata": {},
   "outputs": [],
   "source": [
    "model = nn.Sequential(\n",
    "    nn.Linear(3072, 1024),\n",
    "    nn.Tanh(),\n",
    "    nn.Linear(1024, 512),\n",
    "    nn.Tanh(),\n",
    "    nn.Linear(512, 128),\n",
    "    nn.Tanh(),\n",
    "    nn.Linear(128, 2))\n",
    "\n",
    "loss_fn = nn.CrossEntropyLoss()"
   ]
  },
  {
   "cell_type": "code",
   "execution_count": 94,
   "id": "6b5bd222-4cbf-4c15-af0e-a5daad882577",
   "metadata": {},
   "outputs": [
    {
     "data": {
      "text/plain": [
       "(1574402, [1572864, 512, 1024, 2])"
      ]
     },
     "execution_count": 94,
     "metadata": {},
     "output_type": "execute_result"
    }
   ],
   "source": [
    "numel_list = [p.numel() for p in model.parameters()]\n",
    "sum(numel_list), numel_list"
   ]
  },
  {
   "cell_type": "code",
   "execution_count": 95,
   "id": "2c29ebe3-60e3-41bf-b7b8-5ecca5621f72",
   "metadata": {},
   "outputs": [
    {
     "data": {
      "text/plain": [
       "(1574402, [1572864, 512, 1024, 2])"
      ]
     },
     "execution_count": 95,
     "metadata": {},
     "output_type": "execute_result"
    }
   ],
   "source": [
    "numel_list = [p.numel() for p in model.parameters() if p.requires_grad==True]\n",
    "sum(numel_list), numel_list"
   ]
  },
  {
   "cell_type": "code",
   "execution_count": 96,
   "id": "f2b080e9-7441-4568-b270-fceec0b57baf",
   "metadata": {},
   "outputs": [
    {
     "data": {
      "text/plain": [
       "(torch.Size([1024, 3072]), torch.Size([1024]))"
      ]
     },
     "execution_count": 96,
     "metadata": {},
     "output_type": "execute_result"
    }
   ],
   "source": [
    "linear = nn.Linear(3072, 1024)\n",
    "linear.weight.shape, linear.bias.shape"
   ]
  },
  {
   "cell_type": "code",
   "execution_count": null,
   "id": "ff13cc23-f837-43e5-8d6c-b9a40e62d346",
   "metadata": {},
   "outputs": [],
   "source": []
  }
 ],
 "metadata": {
  "kernelspec": {
   "display_name": "Python 3 (ipykernel)",
   "language": "python",
   "name": "python3"
  },
  "language_info": {
   "codemirror_mode": {
    "name": "ipython",
    "version": 3
   },
   "file_extension": ".py",
   "mimetype": "text/x-python",
   "name": "python",
   "nbconvert_exporter": "python",
   "pygments_lexer": "ipython3",
   "version": "3.9.16"
  }
 },
 "nbformat": 4,
 "nbformat_minor": 5
}
