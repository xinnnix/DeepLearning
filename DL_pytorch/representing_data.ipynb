{
 "cells": [
  {
   "cell_type": "code",
   "execution_count": 1,
   "id": "43ee4513-e48c-4da8-a6e8-121ecce9a6f8",
   "metadata": {},
   "outputs": [],
   "source": [
    "import imageio"
   ]
  },
  {
   "cell_type": "code",
   "execution_count": 2,
   "id": "fefbe2ac-1fc9-49fb-92e0-e65a3c0bb2f1",
   "metadata": {},
   "outputs": [
    {
     "name": "stderr",
     "output_type": "stream",
     "text": [
      "C:\\Users\\admin\\AppData\\Local\\Temp\\ipykernel_17092\\2941834469.py:1: DeprecationWarning: Starting with ImageIO v3 the behavior of this function will switch to that of iio.v3.imread. To keep the current behavior (and make this warning dissapear) use `import imageio.v2 as imageio` or call `imageio.v2.imread` directly.\n",
      "  img_arr = imageio.imread('bobby.jpg')\n"
     ]
    }
   ],
   "source": [
    "img_arr = imageio.imread('bobby.jpg')"
   ]
  },
  {
   "cell_type": "code",
   "execution_count": 3,
   "id": "b64f56a9-b834-41ac-b23a-f640c29efce5",
   "metadata": {},
   "outputs": [
    {
     "data": {
      "text/plain": [
       "(720, 1280, 3)"
      ]
     },
     "execution_count": 3,
     "metadata": {},
     "output_type": "execute_result"
    }
   ],
   "source": [
    "img_arr.shape"
   ]
  },
  {
   "cell_type": "code",
   "execution_count": 4,
   "id": "0f67662c-019d-4f38-8e8b-d9fa49c5ff11",
   "metadata": {},
   "outputs": [],
   "source": [
    "import torch"
   ]
  },
  {
   "cell_type": "code",
   "execution_count": 5,
   "id": "e0c6fb27-3918-4c58-a6f2-d602f672fe03",
   "metadata": {},
   "outputs": [],
   "source": [
    "img = torch.from_numpy(img_arr)"
   ]
  },
  {
   "cell_type": "code",
   "execution_count": 6,
   "id": "c7b13555-e642-42eb-9b5d-146401cee370",
   "metadata": {},
   "outputs": [],
   "source": [
    "out = img.permute(2, 0 , 1)"
   ]
  },
  {
   "cell_type": "code",
   "execution_count": 7,
   "id": "04cdd154-622c-4ca3-9236-0ea9bd934e33",
   "metadata": {},
   "outputs": [
    {
     "data": {
      "text/plain": [
       "torch.Size([3, 720, 1280])"
      ]
     },
     "execution_count": 7,
     "metadata": {},
     "output_type": "execute_result"
    }
   ],
   "source": [
    "out.shape"
   ]
  },
  {
   "cell_type": "code",
   "execution_count": 8,
   "id": "5c5ac7cc-ec13-4d68-936b-0e7cb71e88e4",
   "metadata": {},
   "outputs": [],
   "source": [
    "batch_size = 3"
   ]
  },
  {
   "cell_type": "code",
   "execution_count": 9,
   "id": "214275ee-eb84-4a33-8221-e8a27198cd0b",
   "metadata": {},
   "outputs": [],
   "source": [
    "batch = torch.zeros(batch_size, 3, 256, 256, dtype=torch.uint8)"
   ]
  },
  {
   "cell_type": "code",
   "execution_count": 10,
   "id": "175b56fa-039b-402a-be20-2ac085022904",
   "metadata": {},
   "outputs": [],
   "source": [
    "import os"
   ]
  },
  {
   "cell_type": "code",
   "execution_count": 17,
   "id": "9144bcdf-7777-41af-9baa-831a2f0830f3",
   "metadata": {},
   "outputs": [],
   "source": [
    "data_dir ='.'"
   ]
  },
  {
   "cell_type": "code",
   "execution_count": 18,
   "id": "05ad3643-dd42-4eca-ac15-95dae074969d",
   "metadata": {},
   "outputs": [],
   "source": [
    "filenames = [name for name in os.listdir(data_dir)\n",
    "             if os.path.splitext(name)[-1] == '.png']"
   ]
  },
  {
   "cell_type": "code",
   "execution_count": 19,
   "id": "ac1fef93-1b14-47e2-9a33-0868d10b4e1e",
   "metadata": {},
   "outputs": [
    {
     "data": {
      "text/plain": [
       "['cat1.png', 'cat2.png', 'cat3.png']"
      ]
     },
     "execution_count": 19,
     "metadata": {},
     "output_type": "execute_result"
    }
   ],
   "source": [
    "filenames"
   ]
  },
  {
   "cell_type": "code",
   "execution_count": 20,
   "id": "a14f81b3-d851-4e9f-b01a-424ca32e483c",
   "metadata": {},
   "outputs": [
    {
     "name": "stderr",
     "output_type": "stream",
     "text": [
      "C:\\Users\\admin\\AppData\\Local\\Temp\\ipykernel_17092\\4177784309.py:2: DeprecationWarning: Starting with ImageIO v3 the behavior of this function will switch to that of iio.v3.imread. To keep the current behavior (and make this warning dissapear) use `import imageio.v2 as imageio` or call `imageio.v2.imread` directly.\n",
      "  img_arr = imageio.imread(os.path.join(data_dir, filename))\n"
     ]
    }
   ],
   "source": [
    "for i, filename in enumerate(filenames):\n",
    "    img_arr = imageio.imread(os.path.join(data_dir, filename))\n",
    "    img_t = torch.from_numpy(img_arr)\n",
    "    img_t = img_t.permute(2, 0, 1)\n",
    "    img_t = img_t[:3]\n",
    "    batch[i] = img_t"
   ]
  },
  {
   "cell_type": "code",
   "execution_count": 22,
   "id": "b2bfc0bd-9ee5-43bf-ba61-32811a7f52ad",
   "metadata": {},
   "outputs": [
    {
     "data": {
      "text/plain": [
       "torch.Size([3, 3, 256, 256])"
      ]
     },
     "execution_count": 22,
     "metadata": {},
     "output_type": "execute_result"
    }
   ],
   "source": [
    "batch.shape"
   ]
  },
  {
   "cell_type": "code",
   "execution_count": 23,
   "id": "ac37c2bb-4d5e-4414-a22c-a9682f4ddddf",
   "metadata": {},
   "outputs": [],
   "source": [
    "batch = batch.float()"
   ]
  },
  {
   "cell_type": "code",
   "execution_count": 24,
   "id": "a5b5f995-bf8e-4d46-99f8-50eb5df9f285",
   "metadata": {},
   "outputs": [],
   "source": [
    "batch /= 255.0"
   ]
  },
  {
   "cell_type": "code",
   "execution_count": 25,
   "id": "39ad483f-eee7-40f1-9d47-f7e9b5e5b965",
   "metadata": {},
   "outputs": [],
   "source": [
    "n_channels = batch.shape[1]"
   ]
  },
  {
   "cell_type": "code",
   "execution_count": 26,
   "id": "ce624659-119e-4219-82fa-a127926e9e01",
   "metadata": {},
   "outputs": [],
   "source": [
    "for c in range(n_channels):\n",
    "    mean = torch.mean(batch[:, c])\n",
    "    std = torch.std(batch[:, c])\n",
    "    batch[:, c] = (batch[:, c] - mean) / std"
   ]
  },
  {
   "cell_type": "code",
   "execution_count": 27,
   "id": "521014c9-b200-4bdb-9c85-a648b131bec0",
   "metadata": {},
   "outputs": [],
   "source": [
    "import imageio"
   ]
  },
  {
   "cell_type": "code",
   "execution_count": 28,
   "id": "f87c3bf3-9b42-4f94-af10-f901aac56216",
   "metadata": {},
   "outputs": [
    {
     "name": "stdout",
     "output_type": "stream",
     "text": [
      "Reading DICOM (examining files): 1/99 files (1.0%99/99 files (100.0%)\n",
      "  Found 1 correct series.\n",
      "Reading DICOM (loading data): 99/99  (100.0%)\n"
     ]
    },
    {
     "data": {
      "text/plain": [
       "(99, 512, 512)"
      ]
     },
     "execution_count": 28,
     "metadata": {},
     "output_type": "execute_result"
    }
   ],
   "source": [
    "dir_path = '2-LUNG 3.0  B70f-04083/'\n",
    "vol_arr = imageio.volread(dir_path, 'DICOM')\n",
    "vol_arr.shape"
   ]
  },
  {
   "cell_type": "code",
   "execution_count": 29,
   "id": "be3550d5-f7b4-427e-aec0-2638fbbf555f",
   "metadata": {},
   "outputs": [
    {
     "data": {
      "text/plain": [
       "torch.Size([1, 99, 512, 512])"
      ]
     },
     "execution_count": 29,
     "metadata": {},
     "output_type": "execute_result"
    }
   ],
   "source": [
    "vol = torch.from_numpy(vol_arr).float()\n",
    "vol = torch.unsqueeze(vol, 0)\n",
    "vol.shape"
   ]
  },
  {
   "cell_type": "code",
   "execution_count": 9,
   "id": "548907f8-c1bb-4670-b4e0-0c76679501f1",
   "metadata": {},
   "outputs": [],
   "source": [
    "import csv\n",
    "import numpy as np\n",
    "import torch"
   ]
  },
  {
   "cell_type": "code",
   "execution_count": 2,
   "id": "15855ea9-c0ed-44f4-861b-976a8de4f29b",
   "metadata": {},
   "outputs": [],
   "source": [
    "wine_path = 'winequality-white.csv'"
   ]
  },
  {
   "cell_type": "code",
   "execution_count": 4,
   "id": "51191a54-9080-45b3-bcdc-c3947ba86efc",
   "metadata": {},
   "outputs": [],
   "source": [
    "wineq_numpy = np.loadtxt(wine_path, dtype=np.float32, delimiter=';', skiprows=1)"
   ]
  },
  {
   "cell_type": "code",
   "execution_count": 5,
   "id": "8c59d297-a0b6-4a18-b2c4-d981c4bbeb0a",
   "metadata": {},
   "outputs": [
    {
     "data": {
      "text/plain": [
       "array([[ 7.  ,  0.27,  0.36, ...,  0.45,  8.8 ,  6.  ],\n",
       "       [ 6.3 ,  0.3 ,  0.34, ...,  0.49,  9.5 ,  6.  ],\n",
       "       [ 8.1 ,  0.28,  0.4 , ...,  0.44, 10.1 ,  6.  ],\n",
       "       ...,\n",
       "       [ 6.5 ,  0.24,  0.19, ...,  0.46,  9.4 ,  6.  ],\n",
       "       [ 5.5 ,  0.29,  0.3 , ...,  0.38, 12.8 ,  7.  ],\n",
       "       [ 6.  ,  0.21,  0.38, ...,  0.32, 11.8 ,  6.  ]], dtype=float32)"
      ]
     },
     "execution_count": 5,
     "metadata": {},
     "output_type": "execute_result"
    }
   ],
   "source": [
    "wineq_numpy"
   ]
  },
  {
   "cell_type": "code",
   "execution_count": 7,
   "id": "26bb2108-4fc8-4390-b3ea-d8057f8d8f89",
   "metadata": {},
   "outputs": [],
   "source": [
    "col_list = next(csv.reader(open(wine_path), delimiter=';'))"
   ]
  },
  {
   "cell_type": "code",
   "execution_count": 8,
   "id": "b9ff75e6-3229-4090-bfc3-aaca73e6be27",
   "metadata": {},
   "outputs": [
    {
     "data": {
      "text/plain": [
       "((4898, 12),\n",
       " ['fixed acidity',\n",
       "  'volatile acidity',\n",
       "  'citric acid',\n",
       "  'residual sugar',\n",
       "  'chlorides',\n",
       "  'free sulfur dioxide',\n",
       "  'total sulfur dioxide',\n",
       "  'density',\n",
       "  'pH',\n",
       "  'sulphates',\n",
       "  'alcohol',\n",
       "  'quality'])"
      ]
     },
     "execution_count": 8,
     "metadata": {},
     "output_type": "execute_result"
    }
   ],
   "source": [
    "wineq_numpy.shape, col_list"
   ]
  },
  {
   "cell_type": "code",
   "execution_count": 10,
   "id": "ac01f40d-eb2b-4135-8a9c-66396975a9fe",
   "metadata": {},
   "outputs": [],
   "source": [
    "wineq = torch.from_numpy(wineq_numpy)"
   ]
  },
  {
   "cell_type": "code",
   "execution_count": 11,
   "id": "447de14b-7abd-47b3-a20f-269d4b13c6b2",
   "metadata": {},
   "outputs": [
    {
     "data": {
      "text/plain": [
       "torch.Size([4898, 12])"
      ]
     },
     "execution_count": 11,
     "metadata": {},
     "output_type": "execute_result"
    }
   ],
   "source": [
    "wineq.shape"
   ]
  },
  {
   "cell_type": "code",
   "execution_count": 12,
   "id": "d66bd170-5647-40f3-adc9-d275f350fce5",
   "metadata": {},
   "outputs": [
    {
     "data": {
      "text/plain": [
       "torch.float32"
      ]
     },
     "execution_count": 12,
     "metadata": {},
     "output_type": "execute_result"
    }
   ],
   "source": [
    "wineq.dtype"
   ]
  },
  {
   "cell_type": "code",
   "execution_count": 13,
   "id": "816b8ff5-ac8c-4060-9d64-b07d64c0b503",
   "metadata": {},
   "outputs": [],
   "source": [
    "data = wineq[:, :-1]"
   ]
  },
  {
   "cell_type": "code",
   "execution_count": 14,
   "id": "4b9562c4-0050-44b8-b7e1-c6ab754ca0cf",
   "metadata": {},
   "outputs": [
    {
     "data": {
      "text/plain": [
       "(tensor([[ 7.0000,  0.2700,  0.3600,  ...,  3.0000,  0.4500,  8.8000],\n",
       "         [ 6.3000,  0.3000,  0.3400,  ...,  3.3000,  0.4900,  9.5000],\n",
       "         [ 8.1000,  0.2800,  0.4000,  ...,  3.2600,  0.4400, 10.1000],\n",
       "         ...,\n",
       "         [ 6.5000,  0.2400,  0.1900,  ...,  2.9900,  0.4600,  9.4000],\n",
       "         [ 5.5000,  0.2900,  0.3000,  ...,  3.3400,  0.3800, 12.8000],\n",
       "         [ 6.0000,  0.2100,  0.3800,  ...,  3.2600,  0.3200, 11.8000]]),\n",
       " torch.Size([4898, 11]))"
      ]
     },
     "execution_count": 14,
     "metadata": {},
     "output_type": "execute_result"
    }
   ],
   "source": [
    "data, data.shape"
   ]
  },
  {
   "cell_type": "code",
   "execution_count": 15,
   "id": "31ea11e8-ae99-4645-9849-7b431f3795bb",
   "metadata": {},
   "outputs": [],
   "source": [
    "target = wineq[:, -1]"
   ]
  },
  {
   "cell_type": "code",
   "execution_count": 16,
   "id": "3edfd837-7c45-4c0c-89d7-b14151bd31a1",
   "metadata": {},
   "outputs": [
    {
     "data": {
      "text/plain": [
       "(tensor([6., 6., 6.,  ..., 6., 7., 6.]), torch.Size([4898]))"
      ]
     },
     "execution_count": 16,
     "metadata": {},
     "output_type": "execute_result"
    }
   ],
   "source": [
    "target, target.shape"
   ]
  },
  {
   "cell_type": "code",
   "execution_count": 17,
   "id": "a5bdd837-9d3e-4ca7-91d5-b39b51fce342",
   "metadata": {},
   "outputs": [],
   "source": [
    "target = wineq[:, -1].long()"
   ]
  },
  {
   "cell_type": "code",
   "execution_count": 18,
   "id": "14a63886-2185-40eb-9861-9dea2c66c946",
   "metadata": {},
   "outputs": [
    {
     "data": {
      "text/plain": [
       "tensor([6, 6, 6,  ..., 6, 7, 6])"
      ]
     },
     "execution_count": 18,
     "metadata": {},
     "output_type": "execute_result"
    }
   ],
   "source": [
    "target"
   ]
  },
  {
   "cell_type": "code",
   "execution_count": 19,
   "id": "d49d4ef3-038c-4d0a-bba8-bcbe221450d1",
   "metadata": {},
   "outputs": [],
   "source": [
    "target_onehot = torch.zeros(target.shape[0], 10)"
   ]
  },
  {
   "cell_type": "code",
   "execution_count": 20,
   "id": "b18ec3c2-67f4-4ea7-8a64-0771cd9c40d1",
   "metadata": {},
   "outputs": [
    {
     "data": {
      "text/plain": [
       "tensor([[0., 0., 0.,  ..., 0., 0., 0.],\n",
       "        [0., 0., 0.,  ..., 0., 0., 0.],\n",
       "        [0., 0., 0.,  ..., 0., 0., 0.],\n",
       "        ...,\n",
       "        [0., 0., 0.,  ..., 0., 0., 0.],\n",
       "        [0., 0., 0.,  ..., 1., 0., 0.],\n",
       "        [0., 0., 0.,  ..., 0., 0., 0.]])"
      ]
     },
     "execution_count": 20,
     "metadata": {},
     "output_type": "execute_result"
    }
   ],
   "source": [
    "target_onehot.scatter_(1, target.unsqueeze(1), 1.0)"
   ]
  },
  {
   "cell_type": "code",
   "execution_count": 21,
   "id": "b506eb9a-ac90-4758-9da6-a32fa1768471",
   "metadata": {},
   "outputs": [],
   "source": [
    "data_mean = torch.mean(data, dim=0)"
   ]
  },
  {
   "cell_type": "code",
   "execution_count": 22,
   "id": "e86e9588-f422-4c3a-8946-55ab7b6518ed",
   "metadata": {},
   "outputs": [
    {
     "data": {
      "text/plain": [
       "tensor([6.8548e+00, 2.7824e-01, 3.3419e-01, 6.3914e+00, 4.5772e-02, 3.5308e+01,\n",
       "        1.3836e+02, 9.9403e-01, 3.1883e+00, 4.8985e-01, 1.0514e+01])"
      ]
     },
     "execution_count": 22,
     "metadata": {},
     "output_type": "execute_result"
    }
   ],
   "source": [
    "data_mean"
   ]
  },
  {
   "cell_type": "code",
   "execution_count": 23,
   "id": "75ec77a8-0ab6-40da-857f-173dd3052fd5",
   "metadata": {},
   "outputs": [],
   "source": [
    "data_var = torch.var(data, dim=0)"
   ]
  },
  {
   "cell_type": "code",
   "execution_count": 24,
   "id": "bbbc3ad4-395b-4991-80b8-929599cd49ed",
   "metadata": {},
   "outputs": [
    {
     "data": {
      "text/plain": [
       "tensor([7.1211e-01, 1.0160e-02, 1.4646e-02, 2.5726e+01, 4.7733e-04, 2.8924e+02,\n",
       "        1.8061e+03, 8.9455e-06, 2.2801e-02, 1.3025e-02, 1.5144e+00])"
      ]
     },
     "execution_count": 24,
     "metadata": {},
     "output_type": "execute_result"
    }
   ],
   "source": [
    "data_var"
   ]
  },
  {
   "cell_type": "code",
   "execution_count": 25,
   "id": "41c69d06-7965-486b-b171-54fbe062a133",
   "metadata": {},
   "outputs": [],
   "source": [
    "data_normalized = (data - data_mean) / torch.sqrt(data_var)"
   ]
  },
  {
   "cell_type": "code",
   "execution_count": 26,
   "id": "84c36d95-d8c0-4abc-8d3e-52161c1c1222",
   "metadata": {},
   "outputs": [
    {
     "data": {
      "text/plain": [
       "tensor([[ 1.7208e-01, -8.1761e-02,  2.1326e-01,  ..., -1.2468e+00,\n",
       "         -3.4915e-01, -1.3930e+00],\n",
       "        [-6.5743e-01,  2.1587e-01,  4.7996e-02,  ...,  7.3995e-01,\n",
       "          1.3422e-03, -8.2419e-01],\n",
       "        [ 1.4756e+00,  1.7450e-02,  5.4378e-01,  ...,  4.7505e-01,\n",
       "         -4.3677e-01, -3.3663e-01],\n",
       "        ...,\n",
       "        [-4.2043e-01, -3.7940e-01, -1.1915e+00,  ..., -1.3130e+00,\n",
       "         -2.6153e-01, -9.0545e-01],\n",
       "        [-1.6054e+00,  1.1666e-01, -2.8253e-01,  ...,  1.0049e+00,\n",
       "         -9.6251e-01,  1.8574e+00],\n",
       "        [-1.0129e+00, -6.7703e-01,  3.7852e-01,  ...,  4.7505e-01,\n",
       "         -1.4882e+00,  1.0448e+00]])"
      ]
     },
     "execution_count": 26,
     "metadata": {},
     "output_type": "execute_result"
    }
   ],
   "source": [
    "data_normalized"
   ]
  },
  {
   "cell_type": "code",
   "execution_count": 27,
   "id": "0d81d107-4101-4386-8e12-8431c6166c49",
   "metadata": {},
   "outputs": [],
   "source": [
    "bad_indexes = target <= 3"
   ]
  },
  {
   "cell_type": "code",
   "execution_count": 28,
   "id": "53d744ea-5850-46e5-8bec-8b92b230b6e6",
   "metadata": {},
   "outputs": [
    {
     "data": {
      "text/plain": [
       "(torch.Size([4898]), torch.bool, tensor(20))"
      ]
     },
     "execution_count": 28,
     "metadata": {},
     "output_type": "execute_result"
    }
   ],
   "source": [
    "bad_indexes.shape, bad_indexes.dtype, bad_indexes.sum()"
   ]
  },
  {
   "cell_type": "code",
   "execution_count": 29,
   "id": "e79565c2-bceb-4f0f-b29a-3b1ca29ff4e0",
   "metadata": {},
   "outputs": [],
   "source": [
    "bad_data = data[bad_indexes]"
   ]
  },
  {
   "cell_type": "code",
   "execution_count": 30,
   "id": "d01af18c-b7b7-4e75-9c9d-96bf1d940ec8",
   "metadata": {},
   "outputs": [
    {
     "data": {
      "text/plain": [
       "torch.Size([20, 11])"
      ]
     },
     "execution_count": 30,
     "metadata": {},
     "output_type": "execute_result"
    }
   ],
   "source": [
    "bad_data.shape"
   ]
  },
  {
   "cell_type": "code",
   "execution_count": 31,
   "id": "af17c306-d02b-4ec0-a081-51433c59e39d",
   "metadata": {},
   "outputs": [],
   "source": [
    "bad_data = data[target <= 3]"
   ]
  },
  {
   "cell_type": "code",
   "execution_count": 32,
   "id": "8ee4c97c-5dbd-4ef0-a2d2-e093ef809ecf",
   "metadata": {},
   "outputs": [],
   "source": [
    "mid_data = data[(target > 3) & (target < 7)]"
   ]
  },
  {
   "cell_type": "code",
   "execution_count": 33,
   "id": "092dc563-c855-42eb-ad23-1f4c8b423cd6",
   "metadata": {},
   "outputs": [],
   "source": [
    "good_data = data[target >= 7]"
   ]
  },
  {
   "cell_type": "code",
   "execution_count": 34,
   "id": "baf51f39-c3be-495c-84dc-e8a0e8a6901c",
   "metadata": {},
   "outputs": [],
   "source": [
    "bad_mean = torch.mean(bad_data, dim=0)"
   ]
  },
  {
   "cell_type": "code",
   "execution_count": 35,
   "id": "c1bad124-1732-499e-bf4a-871efa866c54",
   "metadata": {},
   "outputs": [],
   "source": [
    "mid_mean = torch.mean(mid_data, dim=0)"
   ]
  },
  {
   "cell_type": "code",
   "execution_count": 36,
   "id": "b26ebc23-e8f7-4dca-8d1c-649c659527a2",
   "metadata": {},
   "outputs": [],
   "source": [
    "good_mean = torch.mean(good_data, dim=0)"
   ]
  },
  {
   "cell_type": "code",
   "execution_count": 38,
   "id": "24a508a8-7ed7-461f-a30d-831b1e8af10b",
   "metadata": {},
   "outputs": [
    {
     "name": "stdout",
     "output_type": "stream",
     "text": [
      " 0 fixed acidity          7.60   6.89   6.73\n",
      " 1 volatile acidity       0.33   0.28   0.27\n",
      " 2 citric acid            0.34   0.34   0.33\n",
      " 3 residual sugar         6.39   6.71   5.26\n",
      " 4 chlorides              0.05   0.05   0.04\n",
      " 5 free sulfur dioxide   53.33  35.42  34.55\n",
      " 6 total sulfur dioxide 170.60 141.83 125.25\n",
      " 7 density                0.99   0.99   0.99\n",
      " 8 pH                     3.19   3.18   3.22\n",
      " 9 sulphates              0.47   0.49   0.50\n",
      "10 alcohol               10.34  10.26  11.42\n"
     ]
    }
   ],
   "source": [
    "for i, args in enumerate(zip(col_list, bad_mean, mid_mean, good_mean)):\n",
    "    print('{:2} {:20} {:6.2f} {:6.2f} {:6.2f}'.format(i, *args))"
   ]
  },
  {
   "cell_type": "code",
   "execution_count": 39,
   "id": "b7bf33b6-698a-4938-a78d-a75e79d2a1a8",
   "metadata": {},
   "outputs": [],
   "source": [
    "total_sulfur_threshold = 141.83"
   ]
  },
  {
   "cell_type": "code",
   "execution_count": 40,
   "id": "39d6c8e7-c5d8-4320-b8c0-1438b4f3fa63",
   "metadata": {},
   "outputs": [],
   "source": [
    "total_sulfur_data = data[:, 6]"
   ]
  },
  {
   "cell_type": "code",
   "execution_count": 41,
   "id": "1459f780-3d8d-420b-b1b7-74c70b7c11b3",
   "metadata": {},
   "outputs": [],
   "source": [
    "predicted_indexes = torch.lt(total_sulfur_data, total_sulfur_threshold)"
   ]
  },
  {
   "cell_type": "code",
   "execution_count": 42,
   "id": "c0a95a51-9f74-4eab-9c2a-9d0e30773ed4",
   "metadata": {},
   "outputs": [
    {
     "data": {
      "text/plain": [
       "(torch.Size([4898]), torch.bool, tensor(2727))"
      ]
     },
     "execution_count": 42,
     "metadata": {},
     "output_type": "execute_result"
    }
   ],
   "source": [
    "predicted_indexes.shape, predicted_indexes.dtype, predicted_indexes.sum()"
   ]
  },
  {
   "cell_type": "code",
   "execution_count": 43,
   "id": "885d0aeb-d53d-4d2a-95e5-4060bd349084",
   "metadata": {},
   "outputs": [],
   "source": [
    "actual_indexes = target > 5"
   ]
  },
  {
   "cell_type": "code",
   "execution_count": 44,
   "id": "d738bb6b-2bf6-4c40-b3a2-4bdadf7b89c2",
   "metadata": {},
   "outputs": [
    {
     "data": {
      "text/plain": [
       "(torch.Size([4898]), torch.bool, tensor(3258))"
      ]
     },
     "execution_count": 44,
     "metadata": {},
     "output_type": "execute_result"
    }
   ],
   "source": [
    "actual_indexes.shape, actual_indexes.dtype, actual_indexes.sum()"
   ]
  },
  {
   "cell_type": "code",
   "execution_count": 45,
   "id": "2087f1c7-e38c-419a-83cd-40b12ad3541b",
   "metadata": {},
   "outputs": [],
   "source": [
    "n_matches = torch.sum(actual_indexes & predicted_indexes).item()"
   ]
  },
  {
   "cell_type": "code",
   "execution_count": 46,
   "id": "23799eb5-7b5d-46af-bd23-9665138d215a",
   "metadata": {},
   "outputs": [],
   "source": [
    "n_predicted = torch.sum(predicted_indexes).item()"
   ]
  },
  {
   "cell_type": "code",
   "execution_count": 47,
   "id": "04b41478-4219-43d2-a205-1394813007a5",
   "metadata": {},
   "outputs": [],
   "source": [
    "n_actual = torch.sum(actual_indexes).item()"
   ]
  },
  {
   "cell_type": "code",
   "execution_count": 48,
   "id": "9dc2c3f9-09cf-4e47-b893-cd34eaa4cb1e",
   "metadata": {},
   "outputs": [
    {
     "data": {
      "text/plain": [
       "(2018, 0.74000733406674, 0.6193984039287906)"
      ]
     },
     "execution_count": 48,
     "metadata": {},
     "output_type": "execute_result"
    }
   ],
   "source": [
    "n_matches, n_matches/n_predicted, n_matches/n_actual"
   ]
  },
  {
   "cell_type": "code",
   "execution_count": 49,
   "id": "d560c52b-93a1-4167-bab6-460a255e2092",
   "metadata": {},
   "outputs": [],
   "source": [
    "bikes_numpy = np.loadtxt('bike-sharing-dataset/hour-fixed.csv', dtype=np.float32, delimiter=',', skiprows=1,\n",
    "                         converters={1: lambda x: float(x[8:10])})"
   ]
  },
  {
   "cell_type": "code",
   "execution_count": 50,
   "id": "322b76ed-6e62-4a8f-a0e1-a03a8a75ea71",
   "metadata": {},
   "outputs": [],
   "source": [
    "bikes = torch.from_numpy(bikes_numpy)"
   ]
  },
  {
   "cell_type": "code",
   "execution_count": 51,
   "id": "380b13dc-60b1-4315-b30e-84f162453e71",
   "metadata": {},
   "outputs": [
    {
     "data": {
      "text/plain": [
       "tensor([[1.0000e+00, 1.0000e+00, 1.0000e+00,  ..., 3.0000e+00, 1.3000e+01,\n",
       "         1.6000e+01],\n",
       "        [2.0000e+00, 1.0000e+00, 1.0000e+00,  ..., 8.0000e+00, 3.2000e+01,\n",
       "         4.0000e+01],\n",
       "        [3.0000e+00, 1.0000e+00, 1.0000e+00,  ..., 5.0000e+00, 2.7000e+01,\n",
       "         3.2000e+01],\n",
       "        ...,\n",
       "        [1.7377e+04, 3.1000e+01, 1.0000e+00,  ..., 7.0000e+00, 8.3000e+01,\n",
       "         9.0000e+01],\n",
       "        [1.7378e+04, 3.1000e+01, 1.0000e+00,  ..., 1.3000e+01, 4.8000e+01,\n",
       "         6.1000e+01],\n",
       "        [1.7379e+04, 3.1000e+01, 1.0000e+00,  ..., 1.2000e+01, 3.7000e+01,\n",
       "         4.9000e+01]])"
      ]
     },
     "execution_count": 51,
     "metadata": {},
     "output_type": "execute_result"
    }
   ],
   "source": [
    "bikes"
   ]
  },
  {
   "cell_type": "code",
   "execution_count": 52,
   "id": "5cfab1f1-b84e-488e-8970-20a41efc8878",
   "metadata": {},
   "outputs": [
    {
     "data": {
      "text/plain": [
       "(torch.Size([17520, 17]), (17, 1))"
      ]
     },
     "execution_count": 52,
     "metadata": {},
     "output_type": "execute_result"
    }
   ],
   "source": [
    "bikes.shape, bikes.stride()"
   ]
  },
  {
   "cell_type": "code",
   "execution_count": 53,
   "id": "67b90d2f-7fa9-4056-8c78-d34dac8fcfa8",
   "metadata": {},
   "outputs": [
    {
     "data": {
      "text/plain": [
       "(torch.Size([730, 24, 17]), (408, 17, 1))"
      ]
     },
     "execution_count": 53,
     "metadata": {},
     "output_type": "execute_result"
    }
   ],
   "source": [
    "daily_bikes = bikes.view(-1, 24, bikes.shape[1])\n",
    "daily_bikes.shape, daily_bikes.stride()"
   ]
  },
  {
   "cell_type": "code",
   "execution_count": 54,
   "id": "ab6e5c41-44ac-4102-8411-253edc5d1c9a",
   "metadata": {},
   "outputs": [
    {
     "data": {
      "text/plain": [
       "(torch.Size([730, 17, 24]), (408, 1, 17))"
      ]
     },
     "execution_count": 54,
     "metadata": {},
     "output_type": "execute_result"
    }
   ],
   "source": [
    "daily_bikes = daily_bikes.transpose(1, 2)\n",
    "daily_bikes.shape, daily_bikes.stride()"
   ]
  },
  {
   "cell_type": "code",
   "execution_count": 55,
   "id": "2eb71c8e-d33c-401b-98a5-dddd13177534",
   "metadata": {},
   "outputs": [],
   "source": [
    "first_day = bikes[:24].long()"
   ]
  },
  {
   "cell_type": "code",
   "execution_count": 56,
   "id": "8f5ba815-9d0d-4d8b-a9d4-4d4fe1221c4a",
   "metadata": {},
   "outputs": [],
   "source": [
    "weather_onehot = torch.zeros(first_day.shape[0], 4)"
   ]
  },
  {
   "cell_type": "code",
   "execution_count": 57,
   "id": "14a79d38-2625-493a-a005-db6260381ec0",
   "metadata": {},
   "outputs": [
    {
     "data": {
      "text/plain": [
       "tensor([1, 1, 1, 1, 1, 2, 1, 1, 1, 1, 1, 1, 1, 2, 2, 2, 2, 2, 3, 3, 2, 2, 2, 2])"
      ]
     },
     "execution_count": 57,
     "metadata": {},
     "output_type": "execute_result"
    }
   ],
   "source": [
    "first_day[:, 9]"
   ]
  },
  {
   "cell_type": "code",
   "execution_count": 58,
   "id": "d4b0fc11-2fb1-47c0-b683-c5e0a5576f0c",
   "metadata": {},
   "outputs": [
    {
     "data": {
      "text/plain": [
       "tensor([[1., 0., 0., 0.],\n",
       "        [1., 0., 0., 0.],\n",
       "        [1., 0., 0., 0.],\n",
       "        [1., 0., 0., 0.],\n",
       "        [1., 0., 0., 0.],\n",
       "        [0., 1., 0., 0.],\n",
       "        [1., 0., 0., 0.],\n",
       "        [1., 0., 0., 0.],\n",
       "        [1., 0., 0., 0.],\n",
       "        [1., 0., 0., 0.],\n",
       "        [1., 0., 0., 0.],\n",
       "        [1., 0., 0., 0.],\n",
       "        [1., 0., 0., 0.],\n",
       "        [0., 1., 0., 0.],\n",
       "        [0., 1., 0., 0.],\n",
       "        [0., 1., 0., 0.],\n",
       "        [0., 1., 0., 0.],\n",
       "        [0., 1., 0., 0.],\n",
       "        [0., 0., 1., 0.],\n",
       "        [0., 0., 1., 0.],\n",
       "        [0., 1., 0., 0.],\n",
       "        [0., 1., 0., 0.],\n",
       "        [0., 1., 0., 0.],\n",
       "        [0., 1., 0., 0.]])"
      ]
     },
     "execution_count": 58,
     "metadata": {},
     "output_type": "execute_result"
    }
   ],
   "source": [
    "weather_onehot.scatter_(dim=1, index=first_day[:,9].unsqueeze(1).long() -1, value=1.0)"
   ]
  },
  {
   "cell_type": "code",
   "execution_count": 59,
   "id": "5ae21f25-1fb0-41b4-99d9-8fc99c5c6b85",
   "metadata": {},
   "outputs": [
    {
     "data": {
      "text/plain": [
       "tensor([[ 1.0000,  1.0000,  1.0000,  0.0000,  1.0000,  0.0000,  0.0000,  6.0000,\n",
       "          0.0000,  1.0000,  0.2400,  0.2879,  0.8100,  0.0000,  3.0000, 13.0000,\n",
       "         16.0000,  1.0000,  0.0000,  0.0000,  0.0000]])"
      ]
     },
     "execution_count": 59,
     "metadata": {},
     "output_type": "execute_result"
    }
   ],
   "source": [
    "torch.cat((bikes[:24], weather_onehot), 1)[:1]"
   ]
  },
  {
   "cell_type": "code",
   "execution_count": 61,
   "id": "c0a40d22-9723-47b7-a27c-42359232bd5e",
   "metadata": {},
   "outputs": [],
   "source": [
    "daily_weather_onehot = torch.zeros(daily_bikes.shape[0], 4, daily_bikes.shape[2])"
   ]
  },
  {
   "cell_type": "code",
   "execution_count": 62,
   "id": "93f4c5e0-5935-40ed-9d85-a8a49c2ccf1d",
   "metadata": {},
   "outputs": [
    {
     "data": {
      "text/plain": [
       "torch.Size([730, 4, 24])"
      ]
     },
     "execution_count": 62,
     "metadata": {},
     "output_type": "execute_result"
    }
   ],
   "source": [
    "daily_weather_onehot.shape"
   ]
  },
  {
   "cell_type": "code",
   "execution_count": 63,
   "id": "6349eea1-21f5-4653-830f-93238309ebff",
   "metadata": {},
   "outputs": [
    {
     "data": {
      "text/plain": [
       "tensor([[[1., 1., 1.,  ..., 0., 0., 0.],\n",
       "         [0., 0., 0.,  ..., 1., 1., 1.],\n",
       "         [0., 0., 0.,  ..., 0., 0., 0.],\n",
       "         [0., 0., 0.,  ..., 0., 0., 0.]],\n",
       "\n",
       "        [[0., 0., 0.,  ..., 1., 1., 1.],\n",
       "         [1., 1., 1.,  ..., 0., 0., 0.],\n",
       "         [0., 0., 0.,  ..., 0., 0., 0.],\n",
       "         [0., 0., 0.,  ..., 0., 0., 0.]],\n",
       "\n",
       "        [[1., 1., 1.,  ..., 1., 1., 1.],\n",
       "         [0., 0., 0.,  ..., 0., 0., 0.],\n",
       "         [0., 0., 0.,  ..., 0., 0., 0.],\n",
       "         [0., 0., 0.,  ..., 0., 0., 0.]],\n",
       "\n",
       "        ...,\n",
       "\n",
       "        [[0., 0., 0.,  ..., 0., 0., 0.],\n",
       "         [1., 1., 1.,  ..., 1., 1., 1.],\n",
       "         [0., 0., 0.,  ..., 0., 0., 0.],\n",
       "         [0., 0., 0.,  ..., 0., 0., 0.]],\n",
       "\n",
       "        [[0., 0., 0.,  ..., 1., 1., 1.],\n",
       "         [1., 1., 1.,  ..., 0., 0., 0.],\n",
       "         [0., 0., 0.,  ..., 0., 0., 0.],\n",
       "         [0., 0., 0.,  ..., 0., 0., 0.]],\n",
       "\n",
       "        [[1., 1., 1.,  ..., 1., 1., 1.],\n",
       "         [0., 0., 0.,  ..., 0., 0., 0.],\n",
       "         [0., 0., 0.,  ..., 0., 0., 0.],\n",
       "         [0., 0., 0.,  ..., 0., 0., 0.]]])"
      ]
     },
     "execution_count": 63,
     "metadata": {},
     "output_type": "execute_result"
    }
   ],
   "source": [
    "daily_weather_onehot.scatter_(1, daily_bikes[:, 9, :].long().unsqueeze(1) -1, 1.0)"
   ]
  },
  {
   "cell_type": "code",
   "execution_count": 64,
   "id": "22846f68-8f47-4e40-a849-ca6a25d29f72",
   "metadata": {},
   "outputs": [
    {
     "data": {
      "text/plain": [
       "torch.Size([730, 4, 24])"
      ]
     },
     "execution_count": 64,
     "metadata": {},
     "output_type": "execute_result"
    }
   ],
   "source": [
    "daily_weather_onehot.shape"
   ]
  },
  {
   "cell_type": "code",
   "execution_count": 65,
   "id": "48329ee2-2c80-46c0-82bb-0afa08741604",
   "metadata": {},
   "outputs": [],
   "source": [
    "daily_bikes = torch.cat((daily_bikes, daily_weather_onehot), dim=1)"
   ]
  },
  {
   "cell_type": "code",
   "execution_count": 66,
   "id": "4b0fafc7-fb6c-401e-a9ea-516255306ad5",
   "metadata": {},
   "outputs": [],
   "source": [
    "daily_bikes[:, 9, :] = (daily_bikes[:, 9, :] - 1.0)/3.0"
   ]
  },
  {
   "cell_type": "code",
   "execution_count": 67,
   "id": "009b807b-5735-499b-a464-2bebf4279aa8",
   "metadata": {},
   "outputs": [],
   "source": [
    "temp = daily_bikes[:, 10, :]"
   ]
  },
  {
   "cell_type": "code",
   "execution_count": 68,
   "id": "e16b687d-d981-4cc0-a1e8-4e0dd01bd0d3",
   "metadata": {},
   "outputs": [],
   "source": [
    "temp_min = torch.min(temp)"
   ]
  },
  {
   "cell_type": "code",
   "execution_count": 69,
   "id": "28cb3e83-1470-4d32-8ccc-ffa61694c6df",
   "metadata": {},
   "outputs": [],
   "source": [
    "temp_max = torch.max(temp)"
   ]
  },
  {
   "cell_type": "code",
   "execution_count": 70,
   "id": "3c879dde-0748-443e-8361-9638e525db5c",
   "metadata": {},
   "outputs": [],
   "source": [
    "daily_bikes[:, 10, :] = ((daily_bikes[:, 10, :] - temp_min)/(temp_max-temp_min))"
   ]
  },
  {
   "cell_type": "code",
   "execution_count": 71,
   "id": "64e464f6-9b98-4e12-8c5b-aa31efb63f63",
   "metadata": {},
   "outputs": [],
   "source": [
    "temp = daily_bikes[:, 10, :]"
   ]
  },
  {
   "cell_type": "code",
   "execution_count": 73,
   "id": "181311c4-7d87-4be6-a141-22ce915be0f3",
   "metadata": {},
   "outputs": [],
   "source": [
    "daily_bikes[:, 10, :] = ((daily_bikes[:, 10, :] - torch.mean(temp))/torch.std(temp))"
   ]
  },
  {
   "cell_type": "code",
   "execution_count": 74,
   "id": "24072fc3-7645-4872-b509-941197564269",
   "metadata": {},
   "outputs": [],
   "source": [
    "with open('1342-0.txt', encoding='utf8') as f:\n",
    "    text = f.read()"
   ]
  },
  {
   "cell_type": "code",
   "execution_count": 76,
   "id": "ab03fa7f-2665-48f9-9772-a92e80fcca47",
   "metadata": {},
   "outputs": [],
   "source": [
    "lines = text.split('\\n')"
   ]
  },
  {
   "cell_type": "code",
   "execution_count": 77,
   "id": "77a415c2-df6b-4b58-a49d-530a1d8a8f24",
   "metadata": {},
   "outputs": [],
   "source": [
    "line = lines[200]"
   ]
  },
  {
   "cell_type": "code",
   "execution_count": 78,
   "id": "8009693f-0c41-46da-a70a-71ff5b2d60f9",
   "metadata": {},
   "outputs": [
    {
     "data": {
      "text/plain": [
       "'“Impossible, Mr. Bennet, impossible, when I am not acquainted with him'"
      ]
     },
     "execution_count": 78,
     "metadata": {},
     "output_type": "execute_result"
    }
   ],
   "source": [
    "line"
   ]
  },
  {
   "cell_type": "code",
   "execution_count": 79,
   "id": "8d5c89f1-6c51-4117-9614-e1ca5d1ff55e",
   "metadata": {},
   "outputs": [],
   "source": [
    "letter_t = torch.zeros(len(line), 128)"
   ]
  },
  {
   "cell_type": "code",
   "execution_count": 80,
   "id": "e61cc3db-630e-4849-8362-521026ac1abe",
   "metadata": {},
   "outputs": [
    {
     "data": {
      "text/plain": [
       "torch.Size([70, 128])"
      ]
     },
     "execution_count": 80,
     "metadata": {},
     "output_type": "execute_result"
    }
   ],
   "source": [
    "letter_t.shape"
   ]
  },
  {
   "cell_type": "code",
   "execution_count": 81,
   "id": "5f6424d2-2a5a-417a-a9f4-935aff86e67a",
   "metadata": {},
   "outputs": [],
   "source": [
    "for i, letter in enumerate(line.lower().strip()):\n",
    "    letter_index = ord(letter) if ord(letter) < 128 else 0\n",
    "    letter_t[i][letter_index] = 1"
   ]
  },
  {
   "cell_type": "code",
   "execution_count": 83,
   "id": "8ed178f6-63f2-4433-91c8-868bddf24a38",
   "metadata": {},
   "outputs": [],
   "source": [
    "def clean_words(input_str):\n",
    "    punctuation = '.,:;\"!?\"\"_-'\n",
    "    word_list = input_str.lower().replace('\\n', ' ').split()\n",
    "    word_list = [word.strip(punctuation) for word in word_list]\n",
    "    return word_list"
   ]
  },
  {
   "cell_type": "code",
   "execution_count": 84,
   "id": "e93e1703-7b1a-4596-8bc7-9b85ca1d8288",
   "metadata": {},
   "outputs": [],
   "source": [
    "words_in_line = clean_words(line)"
   ]
  },
  {
   "cell_type": "code",
   "execution_count": 85,
   "id": "462367da-0296-454d-99e1-6597e3caf620",
   "metadata": {},
   "outputs": [
    {
     "data": {
      "text/plain": [
       "('“Impossible, Mr. Bennet, impossible, when I am not acquainted with him',\n",
       " ['“impossible',\n",
       "  'mr',\n",
       "  'bennet',\n",
       "  'impossible',\n",
       "  'when',\n",
       "  'i',\n",
       "  'am',\n",
       "  'not',\n",
       "  'acquainted',\n",
       "  'with',\n",
       "  'him'])"
      ]
     },
     "execution_count": 85,
     "metadata": {},
     "output_type": "execute_result"
    }
   ],
   "source": [
    "line, words_in_line"
   ]
  },
  {
   "cell_type": "code",
   "execution_count": 86,
   "id": "3028d24b-b014-4b33-a2f2-0231404c8631",
   "metadata": {},
   "outputs": [],
   "source": [
    "word_list = sorted(set(clean_words(text)))"
   ]
  },
  {
   "cell_type": "code",
   "execution_count": 87,
   "id": "800fcb9a-2cbd-48a2-b166-fae09e48ff09",
   "metadata": {},
   "outputs": [],
   "source": [
    "word2index_dict = {word: i for (i, word) in enumerate(word_list)}"
   ]
  },
  {
   "cell_type": "code",
   "execution_count": 88,
   "id": "3a9418ba-0149-49d5-b85c-9798025ef771",
   "metadata": {},
   "outputs": [
    {
     "data": {
      "text/plain": [
       "(8484, 3828)"
      ]
     },
     "execution_count": 88,
     "metadata": {},
     "output_type": "execute_result"
    }
   ],
   "source": [
    "len(word2index_dict), word2index_dict['impossible']"
   ]
  },
  {
   "cell_type": "code",
   "execution_count": 89,
   "id": "192096f7-6330-4b64-a9b6-2aaa8cbf0516",
   "metadata": {},
   "outputs": [],
   "source": [
    "word_t = torch.zeros(len(words_in_line), len(word2index_dict))"
   ]
  },
  {
   "cell_type": "code",
   "execution_count": 90,
   "id": "c51cd3d7-b493-4267-a466-93fbcea96384",
   "metadata": {},
   "outputs": [
    {
     "name": "stdout",
     "output_type": "stream",
     "text": [
      " 0 8324 “impossible\n",
      " 1 4905 mr\n",
      " 2  891 bennet\n",
      " 3 3828 impossible\n",
      " 4 8017 when\n",
      " 5 3740 i\n",
      " 6  445 am\n",
      " 7 5054 not\n",
      " 8  247 acquainted\n",
      " 9 8094 with\n",
      "10 3619 him\n"
     ]
    }
   ],
   "source": [
    "for i, word in enumerate(words_in_line):\n",
    "    word_index = word2index_dict[word]\n",
    "    word_t[i][word_index] = 1\n",
    "    print('{:2} {:4} {}'.format(i, word_index, word))"
   ]
  },
  {
   "cell_type": "code",
   "execution_count": 91,
   "id": "6c791035-9971-4681-ad6c-9bec4a111551",
   "metadata": {},
   "outputs": [
    {
     "name": "stdout",
     "output_type": "stream",
     "text": [
      "torch.Size([11, 8484])\n"
     ]
    }
   ],
   "source": [
    "print(word_t.shape)"
   ]
  },
  {
   "cell_type": "code",
   "execution_count": null,
   "id": "113b3e4e-3a88-4b45-a1aa-980ad1123304",
   "metadata": {},
   "outputs": [],
   "source": []
  }
 ],
 "metadata": {
  "kernelspec": {
   "display_name": "Python 3 (ipykernel)",
   "language": "python",
   "name": "python3"
  },
  "language_info": {
   "codemirror_mode": {
    "name": "ipython",
    "version": 3
   },
   "file_extension": ".py",
   "mimetype": "text/x-python",
   "name": "python",
   "nbconvert_exporter": "python",
   "pygments_lexer": "ipython3",
   "version": "3.9.16"
  }
 },
 "nbformat": 4,
 "nbformat_minor": 5
}
