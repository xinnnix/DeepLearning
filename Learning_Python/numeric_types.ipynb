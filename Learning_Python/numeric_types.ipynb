{
 "cells": [
  {
   "cell_type": "code",
   "execution_count": 1,
   "id": "b242792e-4f91-40de-9ea8-0dcf961095f8",
   "metadata": {},
   "outputs": [
    {
     "data": {
      "text/plain": [
       "'\\nInterger and floating-point objects\\nComplex number objects\\nDecimal: fixed-precision objects\\nFraction: rational number objects\\nSets: collections with numeric operations\\nBooleans: true and false\\nBuilt-in functions and modules: round, math, random, etc\\nExpressions; unlimited integer precision; bitwise operations; hex, octal, and binary formats\\nThrid-party extensions: vectors, libraries, visualization, plotting, etc\\n'"
      ]
     },
     "execution_count": 1,
     "metadata": {},
     "output_type": "execute_result"
    }
   ],
   "source": [
    "'''\n",
    "Interger and floating-point objects\n",
    "Complex number objects\n",
    "Decimal: fixed-precision objects\n",
    "Fraction: rational number objects\n",
    "Sets: collections with numeric operations\n",
    "Booleans: true and false\n",
    "Built-in functions and modules: round, math, random, etc\n",
    "Expressions; unlimited integer precision; bitwise operations; hex, octal, and binary formats\n",
    "Thrid-party extensions: vectors, libraries, visualization, plotting, etc\n",
    "'''"
   ]
  },
  {
   "cell_type": "code",
   "execution_count": 1,
   "id": "6444f9c1-ebba-4f2a-892d-704f61ed78be",
   "metadata": {},
   "outputs": [
    {
     "data": {
      "text/plain": [
       "43.14"
      ]
     },
     "execution_count": 1,
     "metadata": {},
     "output_type": "execute_result"
    }
   ],
   "source": [
    "40 + 3.14"
   ]
  },
  {
   "cell_type": "code",
   "execution_count": 2,
   "id": "10f7667f-277e-4f99-ae3b-7fcf23cadfad",
   "metadata": {},
   "outputs": [
    {
     "data": {
      "text/plain": [
       "3"
      ]
     },
     "execution_count": 2,
     "metadata": {},
     "output_type": "execute_result"
    }
   ],
   "source": [
    "int(3.1415)"
   ]
  },
  {
   "cell_type": "code",
   "execution_count": 3,
   "id": "c26b9a48-6cf3-432d-9067-f1ef421c83d6",
   "metadata": {},
   "outputs": [
    {
     "data": {
      "text/plain": [
       "3.0"
      ]
     },
     "execution_count": 3,
     "metadata": {},
     "output_type": "execute_result"
    }
   ],
   "source": [
    "float(3)"
   ]
  },
  {
   "cell_type": "code",
   "execution_count": 4,
   "id": "ee809728-6ee8-4f43-a431-bb261626abd3",
   "metadata": {},
   "outputs": [],
   "source": [
    "a = 3"
   ]
  },
  {
   "cell_type": "code",
   "execution_count": 5,
   "id": "c833a656-b66c-493c-90ed-bfce66bd67b5",
   "metadata": {},
   "outputs": [],
   "source": [
    "b = 4"
   ]
  },
  {
   "cell_type": "code",
   "execution_count": 6,
   "id": "044c690f-83c2-4dd3-8526-c2c35ab076a8",
   "metadata": {},
   "outputs": [
    {
     "data": {
      "text/plain": [
       "(4, 2)"
      ]
     },
     "execution_count": 6,
     "metadata": {},
     "output_type": "execute_result"
    }
   ],
   "source": [
    "a + 1, a - 1"
   ]
  },
  {
   "cell_type": "code",
   "execution_count": 7,
   "id": "6c19d68f-22f6-4255-9f91-5c44195d16e8",
   "metadata": {},
   "outputs": [
    {
     "data": {
      "text/plain": [
       "(12, 2.0)"
      ]
     },
     "execution_count": 7,
     "metadata": {},
     "output_type": "execute_result"
    }
   ],
   "source": [
    "b * 3, b /2 "
   ]
  },
  {
   "cell_type": "code",
   "execution_count": 8,
   "id": "a8f4f8c9-4bd4-4ec0-a70a-deb407df7c58",
   "metadata": {},
   "outputs": [
    {
     "data": {
      "text/plain": [
       "(1, 16)"
      ]
     },
     "execution_count": 8,
     "metadata": {},
     "output_type": "execute_result"
    }
   ],
   "source": [
    "a % 2, b ** 2"
   ]
  },
  {
   "cell_type": "code",
   "execution_count": 9,
   "id": "4b1c7c01-957f-4e47-90a3-7156589efdc3",
   "metadata": {},
   "outputs": [
    {
     "data": {
      "text/plain": [
       "(6.0, 8.0)"
      ]
     },
     "execution_count": 9,
     "metadata": {},
     "output_type": "execute_result"
    }
   ],
   "source": [
    "2 + 4.0, 2.0 * b"
   ]
  },
  {
   "cell_type": "code",
   "execution_count": 10,
   "id": "87c23030-ee5f-4882-9374-5bcec870c25f",
   "metadata": {},
   "outputs": [
    {
     "data": {
      "text/plain": [
       "5.0"
      ]
     },
     "execution_count": 10,
     "metadata": {},
     "output_type": "execute_result"
    }
   ],
   "source": [
    "b / 2 + a"
   ]
  },
  {
   "cell_type": "code",
   "execution_count": 11,
   "id": "e27ed31f-bba2-4220-8b9d-39c04c60e15a",
   "metadata": {},
   "outputs": [
    {
     "data": {
      "text/plain": [
       "0.8"
      ]
     },
     "execution_count": 11,
     "metadata": {},
     "output_type": "execute_result"
    }
   ],
   "source": [
    "b / (2.0 + a)"
   ]
  },
  {
   "cell_type": "code",
   "execution_count": 12,
   "id": "513490d4-d6cf-4571-ac0c-be5b21915ff6",
   "metadata": {},
   "outputs": [],
   "source": [
    "num = 1 / 3.0"
   ]
  },
  {
   "cell_type": "code",
   "execution_count": 13,
   "id": "aafb7ea3-1700-4aca-a526-5e09bfb30fc1",
   "metadata": {},
   "outputs": [
    {
     "data": {
      "text/plain": [
       "0.3333333333333333"
      ]
     },
     "execution_count": 13,
     "metadata": {},
     "output_type": "execute_result"
    }
   ],
   "source": [
    "num"
   ]
  },
  {
   "cell_type": "code",
   "execution_count": 14,
   "id": "faceceea-d5d8-4799-9268-3028572db34b",
   "metadata": {},
   "outputs": [
    {
     "name": "stdout",
     "output_type": "stream",
     "text": [
      "0.3333333333333333\n"
     ]
    }
   ],
   "source": [
    "print(num)"
   ]
  },
  {
   "cell_type": "code",
   "execution_count": 15,
   "id": "c900fbaf-5186-484c-b00e-76fb0b7fd513",
   "metadata": {},
   "outputs": [
    {
     "data": {
      "text/plain": [
       "'3.333333e-01'"
      ]
     },
     "execution_count": 15,
     "metadata": {},
     "output_type": "execute_result"
    }
   ],
   "source": [
    "'%e' % num"
   ]
  },
  {
   "cell_type": "code",
   "execution_count": 18,
   "id": "1f57daa2-f8e5-4ea1-905a-7eee54233600",
   "metadata": {},
   "outputs": [
    {
     "data": {
      "text/plain": [
       "'0.33'"
      ]
     },
     "execution_count": 18,
     "metadata": {},
     "output_type": "execute_result"
    }
   ],
   "source": [
    "'{0:4.2f}'.format(num)"
   ]
  },
  {
   "cell_type": "code",
   "execution_count": 17,
   "id": "61748c5b-8d21-4464-a1b8-f210d5aea9f1",
   "metadata": {},
   "outputs": [
    {
     "data": {
      "text/plain": [
       "'0.33'"
      ]
     },
     "execution_count": 17,
     "metadata": {},
     "output_type": "execute_result"
    }
   ],
   "source": [
    "'%4.2f' % num"
   ]
  },
  {
   "cell_type": "code",
   "execution_count": 19,
   "id": "22d689be-a663-4102-9333-6bd07e95b910",
   "metadata": {},
   "outputs": [
    {
     "data": {
      "text/plain": [
       "\"'spam'\""
      ]
     },
     "execution_count": 19,
     "metadata": {},
     "output_type": "execute_result"
    }
   ],
   "source": [
    "repr('spam')"
   ]
  },
  {
   "cell_type": "code",
   "execution_count": 20,
   "id": "4bebd4b3-06a0-4c30-af9f-2c69316330a7",
   "metadata": {},
   "outputs": [
    {
     "data": {
      "text/plain": [
       "'spam'"
      ]
     },
     "execution_count": 20,
     "metadata": {},
     "output_type": "execute_result"
    }
   ],
   "source": [
    "str('spam')"
   ]
  },
  {
   "cell_type": "code",
   "execution_count": 21,
   "id": "199caaf7-b7dd-46ea-9b23-4f02f51f7adb",
   "metadata": {},
   "outputs": [
    {
     "data": {
      "text/plain": [
       "True"
      ]
     },
     "execution_count": 21,
     "metadata": {},
     "output_type": "execute_result"
    }
   ],
   "source": [
    "1<2"
   ]
  },
  {
   "cell_type": "code",
   "execution_count": 22,
   "id": "f46f89ed-46df-47f4-b5e1-ea9e8b8c4d77",
   "metadata": {},
   "outputs": [
    {
     "data": {
      "text/plain": [
       "True"
      ]
     },
     "execution_count": 22,
     "metadata": {},
     "output_type": "execute_result"
    }
   ],
   "source": [
    "2.0 >= 1"
   ]
  },
  {
   "cell_type": "code",
   "execution_count": 23,
   "id": "eaabd1b8-f67e-474c-af81-e3b013ba85aa",
   "metadata": {},
   "outputs": [
    {
     "data": {
      "text/plain": [
       "True"
      ]
     },
     "execution_count": 23,
     "metadata": {},
     "output_type": "execute_result"
    }
   ],
   "source": [
    "2.0 == 2.0"
   ]
  },
  {
   "cell_type": "code",
   "execution_count": 24,
   "id": "9a89ef63-7819-4ed7-a1bf-04b6d2116d94",
   "metadata": {},
   "outputs": [
    {
     "data": {
      "text/plain": [
       "False"
      ]
     },
     "execution_count": 24,
     "metadata": {},
     "output_type": "execute_result"
    }
   ],
   "source": [
    "2.0 != 2.0"
   ]
  },
  {
   "cell_type": "code",
   "execution_count": 25,
   "id": "fe8995d9-0f27-4411-9633-5ac91bab7c31",
   "metadata": {},
   "outputs": [],
   "source": [
    "X = 2\n",
    "Y = 4\n",
    "Z = 6"
   ]
  },
  {
   "cell_type": "code",
   "execution_count": 26,
   "id": "75d61db2-ae17-4157-aa20-57527626208d",
   "metadata": {},
   "outputs": [
    {
     "data": {
      "text/plain": [
       "True"
      ]
     },
     "execution_count": 26,
     "metadata": {},
     "output_type": "execute_result"
    }
   ],
   "source": [
    "X < Y < Z"
   ]
  },
  {
   "cell_type": "code",
   "execution_count": 27,
   "id": "76543edc-4c1a-4fa1-8a1f-c647ad785eb6",
   "metadata": {},
   "outputs": [
    {
     "data": {
      "text/plain": [
       "True"
      ]
     },
     "execution_count": 27,
     "metadata": {},
     "output_type": "execute_result"
    }
   ],
   "source": [
    "X<Y and Y<Z"
   ]
  },
  {
   "cell_type": "code",
   "execution_count": 28,
   "id": "d19d74dd-5063-46d3-aafe-927d09ad69fb",
   "metadata": {},
   "outputs": [
    {
     "data": {
      "text/plain": [
       "False"
      ]
     },
     "execution_count": 28,
     "metadata": {},
     "output_type": "execute_result"
    }
   ],
   "source": [
    "X<Y>Z"
   ]
  },
  {
   "cell_type": "code",
   "execution_count": 29,
   "id": "73f1861c-d8d1-4dc4-9f97-1df43e25460f",
   "metadata": {},
   "outputs": [
    {
     "data": {
      "text/plain": [
       "False"
      ]
     },
     "execution_count": 29,
     "metadata": {},
     "output_type": "execute_result"
    }
   ],
   "source": [
    "X<Y and Y>Z"
   ]
  },
  {
   "cell_type": "code",
   "execution_count": 30,
   "id": "98f70e8d-a85d-452c-ae06-de6f80eb2a79",
   "metadata": {},
   "outputs": [
    {
     "data": {
      "text/plain": [
       "True"
      ]
     },
     "execution_count": 30,
     "metadata": {},
     "output_type": "execute_result"
    }
   ],
   "source": [
    "1 < 2 < 3.0 < 4"
   ]
  },
  {
   "cell_type": "code",
   "execution_count": 31,
   "id": "985ec71c-d210-4de1-a29c-cad1cec066eb",
   "metadata": {},
   "outputs": [
    {
     "data": {
      "text/plain": [
       "False"
      ]
     },
     "execution_count": 31,
     "metadata": {},
     "output_type": "execute_result"
    }
   ],
   "source": [
    "1 > 2> 3.0 >4"
   ]
  },
  {
   "cell_type": "code",
   "execution_count": 32,
   "id": "3aa45ac4-69e2-4d48-9837-cd61b4ed1229",
   "metadata": {},
   "outputs": [
    {
     "data": {
      "text/plain": [
       "False"
      ]
     },
     "execution_count": 32,
     "metadata": {},
     "output_type": "execute_result"
    }
   ],
   "source": [
    "1 == 2 < 3"
   ]
  },
  {
   "cell_type": "code",
   "execution_count": 33,
   "id": "b2ebca65-947f-499c-807b-0e2b8785dc15",
   "metadata": {},
   "outputs": [
    {
     "data": {
      "text/plain": [
       "False"
      ]
     },
     "execution_count": 33,
     "metadata": {},
     "output_type": "execute_result"
    }
   ],
   "source": [
    "1.1 + 2.2 == 3.3"
   ]
  },
  {
   "cell_type": "code",
   "execution_count": 34,
   "id": "4b19ec64-a5e1-4211-8c1b-ed749a5c7031",
   "metadata": {},
   "outputs": [
    {
     "data": {
      "text/plain": [
       "3.3000000000000003"
      ]
     },
     "execution_count": 34,
     "metadata": {},
     "output_type": "execute_result"
    }
   ],
   "source": [
    "1.1 + 2.2"
   ]
  },
  {
   "cell_type": "code",
   "execution_count": 35,
   "id": "9de2fa29-38a2-4f2f-bc63-7e4279231295",
   "metadata": {},
   "outputs": [
    {
     "data": {
      "text/plain": [
       "True"
      ]
     },
     "execution_count": 35,
     "metadata": {},
     "output_type": "execute_result"
    }
   ],
   "source": [
    "int(1.1 + 2.2) == int(3.3)"
   ]
  },
  {
   "cell_type": "code",
   "execution_count": 36,
   "id": "2fa04198-bd3d-49cf-bab8-2366cfbc5e11",
   "metadata": {},
   "outputs": [
    {
     "data": {
      "text/plain": [
       "2.5"
      ]
     },
     "execution_count": 36,
     "metadata": {},
     "output_type": "execute_result"
    }
   ],
   "source": [
    "10 /4"
   ]
  },
  {
   "cell_type": "code",
   "execution_count": 37,
   "id": "268647d6-2dda-4d46-9216-b0e6bb1af538",
   "metadata": {},
   "outputs": [
    {
     "data": {
      "text/plain": [
       "2.5"
      ]
     },
     "execution_count": 37,
     "metadata": {},
     "output_type": "execute_result"
    }
   ],
   "source": [
    "10 / 4.0"
   ]
  },
  {
   "cell_type": "code",
   "execution_count": 38,
   "id": "4ed6a2b2-b31a-45b1-8412-d4c73bc64019",
   "metadata": {},
   "outputs": [
    {
     "data": {
      "text/plain": [
       "2"
      ]
     },
     "execution_count": 38,
     "metadata": {},
     "output_type": "execute_result"
    }
   ],
   "source": [
    "10 //4"
   ]
  },
  {
   "cell_type": "code",
   "execution_count": 39,
   "id": "0fe15164-1a93-4c63-9c9a-ccfea35557b7",
   "metadata": {},
   "outputs": [
    {
     "data": {
      "text/plain": [
       "2.0"
      ]
     },
     "execution_count": 39,
     "metadata": {},
     "output_type": "execute_result"
    }
   ],
   "source": [
    "10 // 4.0"
   ]
  },
  {
   "cell_type": "code",
   "execution_count": 40,
   "id": "cd5157cb-0194-450a-ae71-a609e3050d91",
   "metadata": {},
   "outputs": [],
   "source": [
    "import math"
   ]
  },
  {
   "cell_type": "code",
   "execution_count": 41,
   "id": "ef3afd1d-f3e3-4a91-9408-ef84d29c26fe",
   "metadata": {},
   "outputs": [
    {
     "data": {
      "text/plain": [
       "2"
      ]
     },
     "execution_count": 41,
     "metadata": {},
     "output_type": "execute_result"
    }
   ],
   "source": [
    "math.floor(2.5)"
   ]
  },
  {
   "cell_type": "code",
   "execution_count": 42,
   "id": "2314ce38-27ff-4b35-90c6-759d4754e30e",
   "metadata": {},
   "outputs": [
    {
     "data": {
      "text/plain": [
       "-3"
      ]
     },
     "execution_count": 42,
     "metadata": {},
     "output_type": "execute_result"
    }
   ],
   "source": [
    "math.floor(-2.5)"
   ]
  },
  {
   "cell_type": "code",
   "execution_count": 43,
   "id": "e58cca78-dc9e-44d6-949a-b789bb96f23b",
   "metadata": {},
   "outputs": [
    {
     "data": {
      "text/plain": [
       "2"
      ]
     },
     "execution_count": 43,
     "metadata": {},
     "output_type": "execute_result"
    }
   ],
   "source": [
    "math.trunc(2.5)"
   ]
  },
  {
   "cell_type": "code",
   "execution_count": 44,
   "id": "5b673581-e90d-470d-a045-c55675443510",
   "metadata": {},
   "outputs": [
    {
     "data": {
      "text/plain": [
       "-2"
      ]
     },
     "execution_count": 44,
     "metadata": {},
     "output_type": "execute_result"
    }
   ],
   "source": [
    "math.trunc(-2.5)"
   ]
  },
  {
   "cell_type": "code",
   "execution_count": 45,
   "id": "624cb8ea-c97e-4698-ad77-b1075659ba46",
   "metadata": {},
   "outputs": [
    {
     "data": {
      "text/plain": [
       "(2.5, -2.5)"
      ]
     },
     "execution_count": 45,
     "metadata": {},
     "output_type": "execute_result"
    }
   ],
   "source": [
    "5/2, 5/-2"
   ]
  },
  {
   "cell_type": "code",
   "execution_count": 46,
   "id": "e1c67358-ce22-4b26-af1d-145d8b89d56e",
   "metadata": {},
   "outputs": [
    {
     "data": {
      "text/plain": [
       "(2, -3)"
      ]
     },
     "execution_count": 46,
     "metadata": {},
     "output_type": "execute_result"
    }
   ],
   "source": [
    "5//2, 5//-2"
   ]
  },
  {
   "cell_type": "code",
   "execution_count": 47,
   "id": "a7dbbbb2-0d2d-4ee9-bb6f-5b42942f206f",
   "metadata": {},
   "outputs": [
    {
     "data": {
      "text/plain": [
       "(2.5, -2.5)"
      ]
     },
     "execution_count": 47,
     "metadata": {},
     "output_type": "execute_result"
    }
   ],
   "source": [
    "5/ 2.0, 5/ -2.0"
   ]
  },
  {
   "cell_type": "code",
   "execution_count": 49,
   "id": "b0177887-945d-49b7-b27d-1c25d1dd846f",
   "metadata": {},
   "outputs": [
    {
     "data": {
      "text/plain": [
       "-2.5"
      ]
     },
     "execution_count": 49,
     "metadata": {},
     "output_type": "execute_result"
    }
   ],
   "source": [
    "5/-2"
   ]
  },
  {
   "cell_type": "code",
   "execution_count": 50,
   "id": "3f65a28d-2742-4aa9-b3fc-96979a8009bf",
   "metadata": {},
   "outputs": [
    {
     "data": {
      "text/plain": [
       "-3"
      ]
     },
     "execution_count": 50,
     "metadata": {},
     "output_type": "execute_result"
    }
   ],
   "source": [
    "5//-2"
   ]
  },
  {
   "cell_type": "code",
   "execution_count": 51,
   "id": "583abb73-9966-4d77-9ba8-8348ae392f4d",
   "metadata": {},
   "outputs": [
    {
     "data": {
      "text/plain": [
       "-2"
      ]
     },
     "execution_count": 51,
     "metadata": {},
     "output_type": "execute_result"
    }
   ],
   "source": [
    "math.trunc(5/-2)"
   ]
  },
  {
   "cell_type": "code",
   "execution_count": 52,
   "id": "8baefb03-9692-47e8-97d2-6f1f9dc8c96d",
   "metadata": {},
   "outputs": [
    {
     "data": {
      "text/plain": [
       "1000000000000000000000000000000"
      ]
     },
     "execution_count": 52,
     "metadata": {},
     "output_type": "execute_result"
    }
   ],
   "source": [
    "999999999999999999999999999999 + 1"
   ]
  },
  {
   "cell_type": "code",
   "execution_count": 53,
   "id": "7d1afa97-9e04-43aa-9b04-7e2a09b8982b",
   "metadata": {},
   "outputs": [
    {
     "data": {
      "text/plain": [
       "1606938044258990275541962092341162602522202993782792835301376"
      ]
     },
     "execution_count": 53,
     "metadata": {},
     "output_type": "execute_result"
    }
   ],
   "source": [
    "2 ** 200"
   ]
  },
  {
   "cell_type": "code",
   "execution_count": 54,
   "id": "4563d4fa-63ab-44b2-87b3-6284c27ef3ed",
   "metadata": {},
   "outputs": [
    {
     "data": {
      "text/plain": [
       "(-1+0j)"
      ]
     },
     "execution_count": 54,
     "metadata": {},
     "output_type": "execute_result"
    }
   ],
   "source": [
    "1j * 1J"
   ]
  },
  {
   "cell_type": "code",
   "execution_count": 55,
   "id": "99fa544c-02de-483d-9dc5-452f80f81812",
   "metadata": {},
   "outputs": [
    {
     "data": {
      "text/plain": [
       "(2+3j)"
      ]
     },
     "execution_count": 55,
     "metadata": {},
     "output_type": "execute_result"
    }
   ],
   "source": [
    "2 + 1j * 3"
   ]
  },
  {
   "cell_type": "code",
   "execution_count": 56,
   "id": "46e27d8c-f368-4096-a5b1-e69fbe63814f",
   "metadata": {},
   "outputs": [
    {
     "data": {
      "text/plain": [
       "(6+3j)"
      ]
     },
     "execution_count": 56,
     "metadata": {},
     "output_type": "execute_result"
    }
   ],
   "source": [
    "(2 + 1j) * 3"
   ]
  },
  {
   "cell_type": "code",
   "execution_count": 57,
   "id": "09c88752-413e-4d85-8b5d-54b81e685ad0",
   "metadata": {},
   "outputs": [
    {
     "data": {
      "text/plain": [
       "(1, 16, 255)"
      ]
     },
     "execution_count": 57,
     "metadata": {},
     "output_type": "execute_result"
    }
   ],
   "source": [
    "0o1, 0o20, 0o377"
   ]
  },
  {
   "cell_type": "code",
   "execution_count": 59,
   "id": "babc29c7-6071-495a-b92c-07eff962c8da",
   "metadata": {},
   "outputs": [
    {
     "data": {
      "text/plain": [
       "(1, 16, 255)"
      ]
     },
     "execution_count": 59,
     "metadata": {},
     "output_type": "execute_result"
    }
   ],
   "source": [
    "0x01, 0x10, 0xFF"
   ]
  },
  {
   "cell_type": "code",
   "execution_count": 60,
   "id": "6280e156-9266-4dc2-84e6-b4cfaec473d7",
   "metadata": {},
   "outputs": [
    {
     "data": {
      "text/plain": [
       "(1, 16, 255)"
      ]
     },
     "execution_count": 60,
     "metadata": {},
     "output_type": "execute_result"
    }
   ],
   "source": [
    "0b1, 0b10000, 0b11111111"
   ]
  },
  {
   "cell_type": "code",
   "execution_count": 61,
   "id": "87ea1e9e-67d1-461f-8fc7-dfb0d5bd023d",
   "metadata": {},
   "outputs": [],
   "source": [
    "x = 1"
   ]
  },
  {
   "cell_type": "code",
   "execution_count": 62,
   "id": "aee35221-57d1-4024-86da-a5f948b62e09",
   "metadata": {},
   "outputs": [
    {
     "data": {
      "text/plain": [
       "4"
      ]
     },
     "execution_count": 62,
     "metadata": {},
     "output_type": "execute_result"
    }
   ],
   "source": [
    "x << 2"
   ]
  },
  {
   "cell_type": "code",
   "execution_count": 63,
   "id": "c420f877-64c5-4bde-9ab5-7b9c971f542d",
   "metadata": {},
   "outputs": [
    {
     "data": {
      "text/plain": [
       "3"
      ]
     },
     "execution_count": 63,
     "metadata": {},
     "output_type": "execute_result"
    }
   ],
   "source": [
    "x | 2"
   ]
  },
  {
   "cell_type": "code",
   "execution_count": 64,
   "id": "92466e9a-4970-4b05-9069-46d1d2f45a7f",
   "metadata": {},
   "outputs": [
    {
     "data": {
      "text/plain": [
       "1"
      ]
     },
     "execution_count": 64,
     "metadata": {},
     "output_type": "execute_result"
    }
   ],
   "source": [
    "x & 1"
   ]
  },
  {
   "cell_type": "code",
   "execution_count": 65,
   "id": "c08437fa-5959-4dbc-91ee-d7768e5e5233",
   "metadata": {},
   "outputs": [],
   "source": [
    "import math"
   ]
  },
  {
   "cell_type": "code",
   "execution_count": 66,
   "id": "f19531d8-33db-4d1d-9a1d-7942f665774b",
   "metadata": {},
   "outputs": [
    {
     "data": {
      "text/plain": [
       "3.141592653589793"
      ]
     },
     "execution_count": 66,
     "metadata": {},
     "output_type": "execute_result"
    }
   ],
   "source": [
    "math.pi"
   ]
  },
  {
   "cell_type": "code",
   "execution_count": 68,
   "id": "c9aae6c9-19f5-4757-8ce6-60d8e2baa366",
   "metadata": {},
   "outputs": [
    {
     "data": {
      "text/plain": [
       "2.718281828459045"
      ]
     },
     "execution_count": 68,
     "metadata": {},
     "output_type": "execute_result"
    }
   ],
   "source": [
    "math.e"
   ]
  },
  {
   "cell_type": "code",
   "execution_count": 69,
   "id": "651be58b-d507-4575-a7af-718780a50579",
   "metadata": {},
   "outputs": [
    {
     "data": {
      "text/plain": [
       "0.03489949670250097"
      ]
     },
     "execution_count": 69,
     "metadata": {},
     "output_type": "execute_result"
    }
   ],
   "source": [
    "math.sin(2*math.pi / 180)"
   ]
  },
  {
   "cell_type": "code",
   "execution_count": 70,
   "id": "1663f29a-b1d1-4c11-a5da-9cac1bde7c0e",
   "metadata": {},
   "outputs": [
    {
     "data": {
      "text/plain": [
       "(12.0, 1.4142135623730951)"
      ]
     },
     "execution_count": 70,
     "metadata": {},
     "output_type": "execute_result"
    }
   ],
   "source": [
    "math.sqrt(144), math.sqrt(2)"
   ]
  },
  {
   "cell_type": "code",
   "execution_count": 71,
   "id": "5bec3661-a7b9-4c96-b7b1-5ff62a15016d",
   "metadata": {},
   "outputs": [
    {
     "data": {
      "text/plain": [
       "16"
      ]
     },
     "execution_count": 71,
     "metadata": {},
     "output_type": "execute_result"
    }
   ],
   "source": [
    "pow(2, 4)"
   ]
  },
  {
   "cell_type": "code",
   "execution_count": 72,
   "id": "5a30a07d-74b5-494f-806d-263c9e89ba97",
   "metadata": {},
   "outputs": [
    {
     "data": {
      "text/plain": [
       "16"
      ]
     },
     "execution_count": 72,
     "metadata": {},
     "output_type": "execute_result"
    }
   ],
   "source": [
    "2 **4"
   ]
  },
  {
   "cell_type": "code",
   "execution_count": 73,
   "id": "2602526f-b23d-4855-be7e-95f2eb7d3183",
   "metadata": {},
   "outputs": [
    {
     "data": {
      "text/plain": [
       "16.0"
      ]
     },
     "execution_count": 73,
     "metadata": {},
     "output_type": "execute_result"
    }
   ],
   "source": [
    "2.0**4.0"
   ]
  },
  {
   "cell_type": "code",
   "execution_count": 74,
   "id": "59eedbdb-6e12-454e-9f27-9c1f9b103549",
   "metadata": {},
   "outputs": [
    {
     "data": {
      "text/plain": [
       "42.0"
      ]
     },
     "execution_count": 74,
     "metadata": {},
     "output_type": "execute_result"
    }
   ],
   "source": [
    "abs(-42.0)"
   ]
  },
  {
   "cell_type": "code",
   "execution_count": 75,
   "id": "25f547ed-a9e9-4f95-88a2-5f43cf2ef7ec",
   "metadata": {},
   "outputs": [
    {
     "data": {
      "text/plain": [
       "10"
      ]
     },
     "execution_count": 75,
     "metadata": {},
     "output_type": "execute_result"
    }
   ],
   "source": [
    "sum((1,2,3,4))"
   ]
  },
  {
   "cell_type": "code",
   "execution_count": 77,
   "id": "85d02418-27a5-4965-971d-16eafe5432d8",
   "metadata": {},
   "outputs": [
    {
     "data": {
      "text/plain": [
       "1"
      ]
     },
     "execution_count": 77,
     "metadata": {},
     "output_type": "execute_result"
    }
   ],
   "source": [
    "min(3,1,3,4)"
   ]
  },
  {
   "cell_type": "code",
   "execution_count": 78,
   "id": "c7263b5a-36c3-484a-b8d0-f6e549fb0ba4",
   "metadata": {},
   "outputs": [
    {
     "data": {
      "text/plain": [
       "4"
      ]
     },
     "execution_count": 78,
     "metadata": {},
     "output_type": "execute_result"
    }
   ],
   "source": [
    "max(3,1,3,4)"
   ]
  },
  {
   "cell_type": "code",
   "execution_count": 79,
   "id": "ef9566fe-92f1-4f48-8b6a-fb316de13f40",
   "metadata": {},
   "outputs": [
    {
     "data": {
      "text/plain": [
       "2"
      ]
     },
     "execution_count": 79,
     "metadata": {},
     "output_type": "execute_result"
    }
   ],
   "source": [
    "math.floor(2.567)"
   ]
  },
  {
   "cell_type": "code",
   "execution_count": 80,
   "id": "f9302fee-ceb2-4dfd-8209-cb70b902c63e",
   "metadata": {},
   "outputs": [
    {
     "data": {
      "text/plain": [
       "-3"
      ]
     },
     "execution_count": 80,
     "metadata": {},
     "output_type": "execute_result"
    }
   ],
   "source": [
    "math.floor(-2.567)"
   ]
  },
  {
   "cell_type": "code",
   "execution_count": 81,
   "id": "be80ca2f-7c79-4404-bc29-54d52a636c4f",
   "metadata": {},
   "outputs": [
    {
     "data": {
      "text/plain": [
       "'2.6'"
      ]
     },
     "execution_count": 81,
     "metadata": {},
     "output_type": "execute_result"
    }
   ],
   "source": [
    "'%.1f' % 2.567"
   ]
  },
  {
   "cell_type": "code",
   "execution_count": 82,
   "id": "1d28cab2-bd79-4403-bc2b-dec8207ef72f",
   "metadata": {},
   "outputs": [
    {
     "data": {
      "text/plain": [
       "'2.57'"
      ]
     },
     "execution_count": 82,
     "metadata": {},
     "output_type": "execute_result"
    }
   ],
   "source": [
    "'{0:.2f}'.format(2.567)"
   ]
  },
  {
   "cell_type": "code",
   "execution_count": 83,
   "id": "e98aa092-ed41-47c5-8f93-a59972b5526f",
   "metadata": {},
   "outputs": [
    {
     "data": {
      "text/plain": [
       "(0.3333333333333333, 0.33, '0.33')"
      ]
     },
     "execution_count": 83,
     "metadata": {},
     "output_type": "execute_result"
    }
   ],
   "source": [
    "(1/3.0), round(1/3.0,2), ('%.2f'%(1/3.0))"
   ]
  },
  {
   "cell_type": "code",
   "execution_count": 84,
   "id": "5eeb5d70-4659-4354-b18e-a2ac537c2cd3",
   "metadata": {},
   "outputs": [
    {
     "data": {
      "text/plain": [
       "12.0"
      ]
     },
     "execution_count": 84,
     "metadata": {},
     "output_type": "execute_result"
    }
   ],
   "source": [
    "import math\n",
    "math.sqrt(144)"
   ]
  },
  {
   "cell_type": "code",
   "execution_count": 87,
   "id": "49ecc34f-5206-4a5d-90a2-649f70829289",
   "metadata": {},
   "outputs": [
    {
     "data": {
      "text/plain": [
       "12.0"
      ]
     },
     "execution_count": 87,
     "metadata": {},
     "output_type": "execute_result"
    }
   ],
   "source": [
    "144 ** 0.5"
   ]
  },
  {
   "cell_type": "code",
   "execution_count": 88,
   "id": "26003c87-76dd-4230-b4f5-cd14cd2383ca",
   "metadata": {},
   "outputs": [
    {
     "data": {
      "text/plain": [
       "12.0"
      ]
     },
     "execution_count": 88,
     "metadata": {},
     "output_type": "execute_result"
    }
   ],
   "source": [
    "pow(144, .5)"
   ]
  },
  {
   "cell_type": "code",
   "execution_count": 89,
   "id": "c05a0f34-14cf-4fb8-bcfb-e74c508a5ada",
   "metadata": {},
   "outputs": [
    {
     "data": {
      "text/plain": [
       "35136.41828644462"
      ]
     },
     "execution_count": 89,
     "metadata": {},
     "output_type": "execute_result"
    }
   ],
   "source": [
    "math.sqrt(1234567890)"
   ]
  },
  {
   "cell_type": "code",
   "execution_count": 90,
   "id": "aa8da9cb-e591-4181-9e21-408976b42e48",
   "metadata": {},
   "outputs": [],
   "source": [
    "import random"
   ]
  },
  {
   "cell_type": "code",
   "execution_count": 91,
   "id": "cafea699-97cd-4272-a8fa-686015e29522",
   "metadata": {},
   "outputs": [
    {
     "data": {
      "text/plain": [
       "0.8536839739612512"
      ]
     },
     "execution_count": 91,
     "metadata": {},
     "output_type": "execute_result"
    }
   ],
   "source": [
    "random.random()"
   ]
  },
  {
   "cell_type": "code",
   "execution_count": 92,
   "id": "37a3931f-16a4-4285-b96b-409594a88f4f",
   "metadata": {},
   "outputs": [
    {
     "data": {
      "text/plain": [
       "0.3307796308908709"
      ]
     },
     "execution_count": 92,
     "metadata": {},
     "output_type": "execute_result"
    }
   ],
   "source": [
    "random.random()"
   ]
  },
  {
   "cell_type": "code",
   "execution_count": 93,
   "id": "79288228-c135-4b75-a0d2-d5926037f388",
   "metadata": {},
   "outputs": [
    {
     "data": {
      "text/plain": [
       "2"
      ]
     },
     "execution_count": 93,
     "metadata": {},
     "output_type": "execute_result"
    }
   ],
   "source": [
    "random.randint(1,10)"
   ]
  },
  {
   "cell_type": "code",
   "execution_count": 94,
   "id": "f5adf972-36d0-46a0-a103-8576ff2ebba5",
   "metadata": {},
   "outputs": [
    {
     "data": {
      "text/plain": [
       "3"
      ]
     },
     "execution_count": 94,
     "metadata": {},
     "output_type": "execute_result"
    }
   ],
   "source": [
    "random.randint(1,10)"
   ]
  },
  {
   "cell_type": "code",
   "execution_count": 95,
   "id": "93b3d85f-7cbe-49a2-b71c-3de0a57edca7",
   "metadata": {},
   "outputs": [
    {
     "data": {
      "text/plain": [
       "'meaning of life'"
      ]
     },
     "execution_count": 95,
     "metadata": {},
     "output_type": "execute_result"
    }
   ],
   "source": [
    "random.choice(['life of brian', 'holy grail', 'meaning of life'])"
   ]
  },
  {
   "cell_type": "code",
   "execution_count": 96,
   "id": "2afa8669-6d7b-4962-abb3-06aa5bf7c8dd",
   "metadata": {},
   "outputs": [
    {
     "data": {
      "text/plain": [
       "'holy grail'"
      ]
     },
     "execution_count": 96,
     "metadata": {},
     "output_type": "execute_result"
    }
   ],
   "source": [
    "random.choice(['life of brian', 'holy grail', 'meaning of life'])"
   ]
  },
  {
   "cell_type": "code",
   "execution_count": 97,
   "id": "45fd34df-bba9-49f0-80b9-5bf7487b87dc",
   "metadata": {},
   "outputs": [],
   "source": [
    "suits = ['hearts', 'clubs', 'diamonds', 'spades']"
   ]
  },
  {
   "cell_type": "code",
   "execution_count": 98,
   "id": "d4aa317f-c4d1-4214-95c5-acbe115d72a9",
   "metadata": {},
   "outputs": [],
   "source": [
    "random.shuffle(suits)"
   ]
  },
  {
   "cell_type": "code",
   "execution_count": 99,
   "id": "799b21c9-31bc-43b6-a193-5e6c92267792",
   "metadata": {},
   "outputs": [
    {
     "data": {
      "text/plain": [
       "['spades', 'clubs', 'hearts', 'diamonds']"
      ]
     },
     "execution_count": 99,
     "metadata": {},
     "output_type": "execute_result"
    }
   ],
   "source": [
    "suits"
   ]
  },
  {
   "cell_type": "code",
   "execution_count": 100,
   "id": "78124903-734d-47c6-9f65-8643ba4565be",
   "metadata": {},
   "outputs": [],
   "source": [
    "random.shuffle(suits)"
   ]
  },
  {
   "cell_type": "code",
   "execution_count": 101,
   "id": "24b9f9d3-79ee-4e5a-802b-b46639e2f05e",
   "metadata": {},
   "outputs": [
    {
     "data": {
      "text/plain": [
       "['clubs', 'diamonds', 'spades', 'hearts']"
      ]
     },
     "execution_count": 101,
     "metadata": {},
     "output_type": "execute_result"
    }
   ],
   "source": [
    "suits"
   ]
  },
  {
   "cell_type": "code",
   "execution_count": 102,
   "id": "0261e9b2-55df-4187-a7f1-2860b038ef50",
   "metadata": {},
   "outputs": [
    {
     "data": {
      "text/plain": [
       "5.551115123125783e-17"
      ]
     },
     "execution_count": 102,
     "metadata": {},
     "output_type": "execute_result"
    }
   ],
   "source": [
    "0.1 + 0.1 + 0.1 - 0.3"
   ]
  },
  {
   "cell_type": "code",
   "execution_count": 103,
   "id": "9abbf6fa-94c2-4a9c-a1e8-bc6aa98a428f",
   "metadata": {},
   "outputs": [
    {
     "name": "stdout",
     "output_type": "stream",
     "text": [
      "5.551115123125783e-17\n"
     ]
    }
   ],
   "source": [
    "print(0.1 + 0.1 + 0.1 - 0.3)"
   ]
  },
  {
   "cell_type": "code",
   "execution_count": 105,
   "id": "93a33420-98ce-4797-ab6f-888920f404cb",
   "metadata": {},
   "outputs": [],
   "source": [
    "from decimal import Decimal"
   ]
  },
  {
   "cell_type": "code",
   "execution_count": 106,
   "id": "39f9e2a4-c4ac-47e9-bc57-5ead09b4ef9a",
   "metadata": {},
   "outputs": [
    {
     "data": {
      "text/plain": [
       "Decimal('0.0')"
      ]
     },
     "execution_count": 106,
     "metadata": {},
     "output_type": "execute_result"
    }
   ],
   "source": [
    "Decimal('0.1') + Decimal('0.1') + Decimal('0.1') - Decimal('0.3')"
   ]
  },
  {
   "cell_type": "code",
   "execution_count": 107,
   "id": "218b58df-573c-4e5c-ad5a-d5ca8e0de4c8",
   "metadata": {},
   "outputs": [
    {
     "data": {
      "text/plain": [
       "Decimal('0.00')"
      ]
     },
     "execution_count": 107,
     "metadata": {},
     "output_type": "execute_result"
    }
   ],
   "source": [
    "Decimal('0.1') + Decimal('0.10') + Decimal('0.1') - Decimal('0.3')"
   ]
  },
  {
   "cell_type": "code",
   "execution_count": 108,
   "id": "90018520-b668-4db2-bb63-98a6bac5c220",
   "metadata": {},
   "outputs": [
    {
     "data": {
      "text/plain": [
       "Decimal('2.775557561565156540423631668E-17')"
      ]
     },
     "execution_count": 108,
     "metadata": {},
     "output_type": "execute_result"
    }
   ],
   "source": [
    "Decimal(0.1) + Decimal(0.1) + Decimal(0.1) - Decimal(0.3)"
   ]
  },
  {
   "cell_type": "code",
   "execution_count": 109,
   "id": "f1fe2786-5347-4423-b739-0b20575ef738",
   "metadata": {},
   "outputs": [],
   "source": [
    "import decimal"
   ]
  },
  {
   "cell_type": "code",
   "execution_count": 110,
   "id": "80322197-717b-437d-9919-83af06c8a3d1",
   "metadata": {},
   "outputs": [
    {
     "data": {
      "text/plain": [
       "Decimal('0.1428571428571428571428571429')"
      ]
     },
     "execution_count": 110,
     "metadata": {},
     "output_type": "execute_result"
    }
   ],
   "source": [
    "decimal.Decimal(1) / decimal.Decimal(7)"
   ]
  },
  {
   "cell_type": "code",
   "execution_count": 111,
   "id": "ef25d0d6-76d1-4c4d-a235-74fc2c067c5e",
   "metadata": {},
   "outputs": [],
   "source": [
    "decimal.getcontext().prec = 4"
   ]
  },
  {
   "cell_type": "code",
   "execution_count": 112,
   "id": "9f3903c2-8427-43eb-a827-3c657b731afa",
   "metadata": {},
   "outputs": [
    {
     "data": {
      "text/plain": [
       "Decimal('0.1429')"
      ]
     },
     "execution_count": 112,
     "metadata": {},
     "output_type": "execute_result"
    }
   ],
   "source": [
    "decimal.Decimal(1) / decimal.Decimal(7)"
   ]
  },
  {
   "cell_type": "code",
   "execution_count": 113,
   "id": "320a1577-bd9f-41d1-86cc-7a3276689b03",
   "metadata": {},
   "outputs": [
    {
     "data": {
      "text/plain": [
       "Decimal('1.110E-17')"
      ]
     },
     "execution_count": 113,
     "metadata": {},
     "output_type": "execute_result"
    }
   ],
   "source": [
    "Decimal(0.1) + Decimal(0.1) + Decimal(0.1) - Decimal(0.3)"
   ]
  },
  {
   "cell_type": "code",
   "execution_count": 118,
   "id": "5b3bb015-b567-4352-8d4d-8f89d677c68a",
   "metadata": {},
   "outputs": [
    {
     "data": {
      "text/plain": [
       "2000.33"
      ]
     },
     "execution_count": 118,
     "metadata": {},
     "output_type": "execute_result"
    }
   ],
   "source": [
    "1999 + 1.33 # This has more digits in memory than displayed in 3.3"
   ]
  },
  {
   "cell_type": "code",
   "execution_count": 115,
   "id": "f91b3d6d-b3eb-421b-951f-364cf91f1e3b",
   "metadata": {},
   "outputs": [],
   "source": [
    "decimal.getcontext().prec = 2"
   ]
  },
  {
   "cell_type": "code",
   "execution_count": 116,
   "id": "05a62d1b-a4ec-4fd5-a5af-eb9ccd5f9465",
   "metadata": {},
   "outputs": [],
   "source": [
    "pay = decimal.Decimal(str(1999 + 1.33))"
   ]
  },
  {
   "cell_type": "code",
   "execution_count": 117,
   "id": "72e90d46-4aaa-4b12-a17a-2f3efe5f2df2",
   "metadata": {},
   "outputs": [
    {
     "data": {
      "text/plain": [
       "Decimal('2000.33')"
      ]
     },
     "execution_count": 117,
     "metadata": {},
     "output_type": "execute_result"
    }
   ],
   "source": [
    "pay"
   ]
  },
  {
   "cell_type": "code",
   "execution_count": 119,
   "id": "d4adc7fc-0e61-47da-963b-8b8ed1d5962d",
   "metadata": {},
   "outputs": [],
   "source": [
    "import decimal"
   ]
  },
  {
   "cell_type": "code",
   "execution_count": 120,
   "id": "905ada11-22fe-4c41-b8b1-7c85cc43ef68",
   "metadata": {},
   "outputs": [
    {
     "data": {
      "text/plain": [
       "Decimal('0.33')"
      ]
     },
     "execution_count": 120,
     "metadata": {},
     "output_type": "execute_result"
    }
   ],
   "source": [
    "decimal.Decimal('1.00') / decimal.Decimal('3.00')"
   ]
  },
  {
   "cell_type": "code",
   "execution_count": 122,
   "id": "a49968e0-24f2-4456-a72a-d965530393f5",
   "metadata": {},
   "outputs": [
    {
     "name": "stdout",
     "output_type": "stream",
     "text": [
      "0.3333333333\n"
     ]
    }
   ],
   "source": [
    "with decimal.localcontext() as ctx:\n",
    "    ctx.prec = 10\n",
    "    print(decimal.Decimal('1.00') / decimal.Decimal('3.00'))"
   ]
  },
  {
   "cell_type": "code",
   "execution_count": 123,
   "id": "5b967c27-83b3-46e5-a1b8-0d9b9e78ad29",
   "metadata": {},
   "outputs": [],
   "source": [
    "from fractions import Fraction"
   ]
  },
  {
   "cell_type": "code",
   "execution_count": 124,
   "id": "6c71e140-9a9e-44f7-92d7-f10e105b6342",
   "metadata": {},
   "outputs": [],
   "source": [
    "x = Fraction(1, 3)"
   ]
  },
  {
   "cell_type": "code",
   "execution_count": 125,
   "id": "2afed2c6-3149-4756-bb93-3eec982ff2c4",
   "metadata": {},
   "outputs": [],
   "source": [
    "y = Fraction(4, 6)"
   ]
  },
  {
   "cell_type": "code",
   "execution_count": 126,
   "id": "9d7a35ba-c307-4bd8-9161-1881461cea02",
   "metadata": {},
   "outputs": [
    {
     "data": {
      "text/plain": [
       "Fraction(1, 3)"
      ]
     },
     "execution_count": 126,
     "metadata": {},
     "output_type": "execute_result"
    }
   ],
   "source": [
    "x"
   ]
  },
  {
   "cell_type": "code",
   "execution_count": 127,
   "id": "b91b6244-5a18-4191-9e24-10b2c9d49884",
   "metadata": {},
   "outputs": [
    {
     "data": {
      "text/plain": [
       "Fraction(2, 3)"
      ]
     },
     "execution_count": 127,
     "metadata": {},
     "output_type": "execute_result"
    }
   ],
   "source": [
    "y "
   ]
  },
  {
   "cell_type": "code",
   "execution_count": 128,
   "id": "a61afa32-fe16-45fe-9cae-ccec12ed57ab",
   "metadata": {},
   "outputs": [
    {
     "name": "stdout",
     "output_type": "stream",
     "text": [
      "2/3\n"
     ]
    }
   ],
   "source": [
    "print(y)"
   ]
  },
  {
   "cell_type": "code",
   "execution_count": 129,
   "id": "c3658bc8-9502-4028-974c-b649311938eb",
   "metadata": {},
   "outputs": [
    {
     "data": {
      "text/plain": [
       "Fraction(1, 1)"
      ]
     },
     "execution_count": 129,
     "metadata": {},
     "output_type": "execute_result"
    }
   ],
   "source": [
    "x + y"
   ]
  },
  {
   "cell_type": "code",
   "execution_count": 130,
   "id": "1b4e322c-63d7-4cb4-8e52-8f5c4476bc0b",
   "metadata": {},
   "outputs": [
    {
     "data": {
      "text/plain": [
       "Fraction(-1, 3)"
      ]
     },
     "execution_count": 130,
     "metadata": {},
     "output_type": "execute_result"
    }
   ],
   "source": [
    "x - y"
   ]
  },
  {
   "cell_type": "code",
   "execution_count": 131,
   "id": "a92297fe-6287-4d1d-93a0-c9897307f9d2",
   "metadata": {},
   "outputs": [
    {
     "data": {
      "text/plain": [
       "Fraction(2, 9)"
      ]
     },
     "execution_count": 131,
     "metadata": {},
     "output_type": "execute_result"
    }
   ],
   "source": [
    "x * y"
   ]
  },
  {
   "cell_type": "code",
   "execution_count": 132,
   "id": "92f82371-78b2-47c8-b1c5-2aec0e772f6a",
   "metadata": {},
   "outputs": [
    {
     "data": {
      "text/plain": [
       "Fraction(1, 4)"
      ]
     },
     "execution_count": 132,
     "metadata": {},
     "output_type": "execute_result"
    }
   ],
   "source": [
    "Fraction('.25')"
   ]
  },
  {
   "cell_type": "code",
   "execution_count": 133,
   "id": "9b0e0d52-e052-4012-ab9b-e8c033a3bd91",
   "metadata": {},
   "outputs": [
    {
     "data": {
      "text/plain": [
       "Fraction(5, 4)"
      ]
     },
     "execution_count": 133,
     "metadata": {},
     "output_type": "execute_result"
    }
   ],
   "source": [
    "Fraction('1.25')"
   ]
  },
  {
   "cell_type": "code",
   "execution_count": 134,
   "id": "f8b39d8e-a9da-4c93-aff2-8a189f017cb4",
   "metadata": {},
   "outputs": [
    {
     "data": {
      "text/plain": [
       "Fraction(3, 2)"
      ]
     },
     "execution_count": 134,
     "metadata": {},
     "output_type": "execute_result"
    }
   ],
   "source": [
    "Fraction('.25') + Fraction('1.25')"
   ]
  },
  {
   "cell_type": "code",
   "execution_count": 135,
   "id": "c2a76305-cbf9-47e6-8d44-fead6b11fffa",
   "metadata": {},
   "outputs": [],
   "source": [
    "a = 1/ 3.0"
   ]
  },
  {
   "cell_type": "code",
   "execution_count": 136,
   "id": "0ae45602-08b4-471d-9bad-70ace52ec86f",
   "metadata": {},
   "outputs": [],
   "source": [
    "b = 4/6.0"
   ]
  },
  {
   "cell_type": "code",
   "execution_count": 137,
   "id": "3cd967d3-da01-430a-9c18-ddc21e449a02",
   "metadata": {},
   "outputs": [
    {
     "data": {
      "text/plain": [
       "0.3333333333333333"
      ]
     },
     "execution_count": 137,
     "metadata": {},
     "output_type": "execute_result"
    }
   ],
   "source": [
    "a "
   ]
  },
  {
   "cell_type": "code",
   "execution_count": 138,
   "id": "26133032-e2bc-4d0e-84a9-e93ca189e77d",
   "metadata": {},
   "outputs": [
    {
     "data": {
      "text/plain": [
       "0.6666666666666666"
      ]
     },
     "execution_count": 138,
     "metadata": {},
     "output_type": "execute_result"
    }
   ],
   "source": [
    "b"
   ]
  },
  {
   "cell_type": "code",
   "execution_count": 139,
   "id": "da8eea6e-968a-4410-a81c-4255fb74aeac",
   "metadata": {},
   "outputs": [
    {
     "data": {
      "text/plain": [
       "1.0"
      ]
     },
     "execution_count": 139,
     "metadata": {},
     "output_type": "execute_result"
    }
   ],
   "source": [
    "a + b"
   ]
  },
  {
   "cell_type": "code",
   "execution_count": 140,
   "id": "fa7f51ac-bf8b-4f68-ab72-9f6f2e25fb1f",
   "metadata": {},
   "outputs": [
    {
     "data": {
      "text/plain": [
       "-0.3333333333333333"
      ]
     },
     "execution_count": 140,
     "metadata": {},
     "output_type": "execute_result"
    }
   ],
   "source": [
    "a - b"
   ]
  },
  {
   "cell_type": "code",
   "execution_count": 141,
   "id": "cffea985-deea-41df-8c12-4ac26f394a09",
   "metadata": {},
   "outputs": [
    {
     "data": {
      "text/plain": [
       "0.2222222222222222"
      ]
     },
     "execution_count": 141,
     "metadata": {},
     "output_type": "execute_result"
    }
   ],
   "source": [
    "a * b"
   ]
  },
  {
   "cell_type": "code",
   "execution_count": 142,
   "id": "177d3888-bca6-48e5-8bdf-5873c0962e5f",
   "metadata": {},
   "outputs": [
    {
     "data": {
      "text/plain": [
       "5.551115123125783e-17"
      ]
     },
     "execution_count": 142,
     "metadata": {},
     "output_type": "execute_result"
    }
   ],
   "source": [
    "0.1 + 0.1 + 0.1 - 0.3"
   ]
  },
  {
   "cell_type": "code",
   "execution_count": 143,
   "id": "cc87dbcc-c520-4e06-a750-8b7df5519bd1",
   "metadata": {},
   "outputs": [
    {
     "data": {
      "text/plain": [
       "Fraction(0, 1)"
      ]
     },
     "execution_count": 143,
     "metadata": {},
     "output_type": "execute_result"
    }
   ],
   "source": [
    "from fractions import Fraction\n",
    "Fraction(1,10) + Fraction(1,10) + Fraction(1,10) - Fraction(3, 10)"
   ]
  },
  {
   "cell_type": "code",
   "execution_count": 144,
   "id": "75df072a-c1a7-4cd1-afd8-dc9633aa6590",
   "metadata": {},
   "outputs": [
    {
     "data": {
      "text/plain": [
       "Decimal('0.0')"
      ]
     },
     "execution_count": 144,
     "metadata": {},
     "output_type": "execute_result"
    }
   ],
   "source": [
    "from decimal import Decimal\n",
    "Decimal('0.1') + Decimal('0.1') + Decimal('0.1') - Decimal('0.3')"
   ]
  },
  {
   "cell_type": "code",
   "execution_count": 145,
   "id": "2ada8253-aae8-49b8-bee4-c5a395c35b08",
   "metadata": {},
   "outputs": [
    {
     "data": {
      "text/plain": [
       "(5, 2)"
      ]
     },
     "execution_count": 145,
     "metadata": {},
     "output_type": "execute_result"
    }
   ],
   "source": [
    "(2.5).as_integer_ratio()"
   ]
  },
  {
   "cell_type": "code",
   "execution_count": 146,
   "id": "7410db3a-6196-4cc5-a744-cd11c17378f9",
   "metadata": {},
   "outputs": [],
   "source": [
    "f = 2.5\n",
    "z = Fraction(*f.as_integer_ratio())"
   ]
  },
  {
   "cell_type": "code",
   "execution_count": 147,
   "id": "259d28d2-6d96-415f-b313-8dd120d21207",
   "metadata": {},
   "outputs": [
    {
     "data": {
      "text/plain": [
       "Fraction(5, 2)"
      ]
     },
     "execution_count": 147,
     "metadata": {},
     "output_type": "execute_result"
    }
   ],
   "source": [
    "z"
   ]
  },
  {
   "cell_type": "code",
   "execution_count": 148,
   "id": "aa1ed1aa-5b4a-487e-9e2f-d79a50fab6bc",
   "metadata": {},
   "outputs": [
    {
     "data": {
      "text/plain": [
       "Fraction(1, 3)"
      ]
     },
     "execution_count": 148,
     "metadata": {},
     "output_type": "execute_result"
    }
   ],
   "source": [
    "x"
   ]
  },
  {
   "cell_type": "code",
   "execution_count": 149,
   "id": "c422a32b-c1a5-4a18-b8dd-cd050740ae3c",
   "metadata": {},
   "outputs": [
    {
     "data": {
      "text/plain": [
       "Fraction(17, 6)"
      ]
     },
     "execution_count": 149,
     "metadata": {},
     "output_type": "execute_result"
    }
   ],
   "source": [
    "x + z"
   ]
  },
  {
   "cell_type": "code",
   "execution_count": 150,
   "id": "7a7f5cbc-9b1d-49ef-8ce4-cdef5cb86521",
   "metadata": {},
   "outputs": [
    {
     "data": {
      "text/plain": [
       "0.3333333333333333"
      ]
     },
     "execution_count": 150,
     "metadata": {},
     "output_type": "execute_result"
    }
   ],
   "source": [
    "float(x)"
   ]
  },
  {
   "cell_type": "code",
   "execution_count": 151,
   "id": "40247061-eb9b-47a5-8789-65ecf8c750b7",
   "metadata": {},
   "outputs": [
    {
     "data": {
      "text/plain": [
       "2.5"
      ]
     },
     "execution_count": 151,
     "metadata": {},
     "output_type": "execute_result"
    }
   ],
   "source": [
    "float(z)"
   ]
  },
  {
   "cell_type": "code",
   "execution_count": 152,
   "id": "f05379e4-57d8-49f0-bb55-d742b837bdb5",
   "metadata": {},
   "outputs": [
    {
     "data": {
      "text/plain": [
       "2.8333333333333335"
      ]
     },
     "execution_count": 152,
     "metadata": {},
     "output_type": "execute_result"
    }
   ],
   "source": [
    "float(x+z)"
   ]
  },
  {
   "cell_type": "code",
   "execution_count": 153,
   "id": "833b8835-07be-451b-8a8b-bfe13a37689a",
   "metadata": {},
   "outputs": [
    {
     "data": {
      "text/plain": [
       "2.8333333333333335"
      ]
     },
     "execution_count": 153,
     "metadata": {},
     "output_type": "execute_result"
    }
   ],
   "source": [
    "17 / 6"
   ]
  },
  {
   "cell_type": "code",
   "execution_count": 154,
   "id": "f3f94ec2-8507-44f5-a569-894e9957aa8c",
   "metadata": {},
   "outputs": [
    {
     "data": {
      "text/plain": [
       "Fraction(7, 4)"
      ]
     },
     "execution_count": 154,
     "metadata": {},
     "output_type": "execute_result"
    }
   ],
   "source": [
    "Fraction.from_float(1.75)"
   ]
  },
  {
   "cell_type": "code",
   "execution_count": 155,
   "id": "1426ed5e-019f-4b5f-9c77-d654f7d50869",
   "metadata": {},
   "outputs": [
    {
     "data": {
      "text/plain": [
       "Fraction(7, 4)"
      ]
     },
     "execution_count": 155,
     "metadata": {},
     "output_type": "execute_result"
    }
   ],
   "source": [
    "Fraction(*(1.75).as_integer_ratio())"
   ]
  },
  {
   "cell_type": "code",
   "execution_count": 156,
   "id": "a118693a-662d-4eaa-98f4-355e21a02189",
   "metadata": {},
   "outputs": [
    {
     "data": {
      "text/plain": [
       "Fraction(1, 3)"
      ]
     },
     "execution_count": 156,
     "metadata": {},
     "output_type": "execute_result"
    }
   ],
   "source": [
    "x"
   ]
  },
  {
   "cell_type": "code",
   "execution_count": 157,
   "id": "881983ea-ad5e-4930-a369-976f7de25ecd",
   "metadata": {},
   "outputs": [
    {
     "data": {
      "text/plain": [
       "Fraction(7, 3)"
      ]
     },
     "execution_count": 157,
     "metadata": {},
     "output_type": "execute_result"
    }
   ],
   "source": [
    "x + 2"
   ]
  },
  {
   "cell_type": "code",
   "execution_count": 158,
   "id": "5f7d22ee-ca7d-4ac6-a566-346bd2d98ee0",
   "metadata": {},
   "outputs": [
    {
     "data": {
      "text/plain": [
       "2.3333333333333335"
      ]
     },
     "execution_count": 158,
     "metadata": {},
     "output_type": "execute_result"
    }
   ],
   "source": [
    "x + 2.0"
   ]
  },
  {
   "cell_type": "code",
   "execution_count": 159,
   "id": "2474d08a-e3ad-4812-9ef8-054df0fc4e58",
   "metadata": {},
   "outputs": [
    {
     "data": {
      "text/plain": [
       "0.6666666666666666"
      ]
     },
     "execution_count": 159,
     "metadata": {},
     "output_type": "execute_result"
    }
   ],
   "source": [
    "x + (1./3)"
   ]
  },
  {
   "cell_type": "code",
   "execution_count": 160,
   "id": "f73844ea-88a8-4c73-b38f-1a768604ca07",
   "metadata": {},
   "outputs": [
    {
     "data": {
      "text/plain": [
       "1.6666666666666665"
      ]
     },
     "execution_count": 160,
     "metadata": {},
     "output_type": "execute_result"
    }
   ],
   "source": [
    "x + (4./3)"
   ]
  },
  {
   "cell_type": "code",
   "execution_count": 161,
   "id": "6a057b97-dfdc-4457-95b2-8383ca5c4935",
   "metadata": {},
   "outputs": [
    {
     "data": {
      "text/plain": [
       "Fraction(5, 3)"
      ]
     },
     "execution_count": 161,
     "metadata": {},
     "output_type": "execute_result"
    }
   ],
   "source": [
    "x + Fraction(4,3)"
   ]
  },
  {
   "cell_type": "code",
   "execution_count": 162,
   "id": "8998242c-f325-47cd-a7ab-be5fdb5a5d86",
   "metadata": {},
   "outputs": [
    {
     "data": {
      "text/plain": [
       "1.3333333333333333"
      ]
     },
     "execution_count": 162,
     "metadata": {},
     "output_type": "execute_result"
    }
   ],
   "source": [
    "4.0 / 3"
   ]
  },
  {
   "cell_type": "code",
   "execution_count": 163,
   "id": "45fca8a4-90fe-4100-b4b5-fa25de8060a6",
   "metadata": {},
   "outputs": [
    {
     "data": {
      "text/plain": [
       "(6004799503160661, 4503599627370496)"
      ]
     },
     "execution_count": 163,
     "metadata": {},
     "output_type": "execute_result"
    }
   ],
   "source": [
    "(4.0 /3).as_integer_ratio()"
   ]
  },
  {
   "cell_type": "code",
   "execution_count": 164,
   "id": "ae21e9fc-d336-42b2-9014-706619685127",
   "metadata": {},
   "outputs": [
    {
     "data": {
      "text/plain": [
       "Fraction(1, 3)"
      ]
     },
     "execution_count": 164,
     "metadata": {},
     "output_type": "execute_result"
    }
   ],
   "source": [
    "x "
   ]
  },
  {
   "cell_type": "code",
   "execution_count": 165,
   "id": "24e37ef2-6150-4cd5-b240-28659e809d8d",
   "metadata": {},
   "outputs": [],
   "source": [
    "a = x + Fraction(*(4./3).as_integer_ratio())"
   ]
  },
  {
   "cell_type": "code",
   "execution_count": 166,
   "id": "2eb15213-57a6-4ec0-aa91-9f1c53b38938",
   "metadata": {},
   "outputs": [
    {
     "data": {
      "text/plain": [
       "Fraction(22517998136852479, 13510798882111488)"
      ]
     },
     "execution_count": 166,
     "metadata": {},
     "output_type": "execute_result"
    }
   ],
   "source": [
    "a"
   ]
  },
  {
   "cell_type": "code",
   "execution_count": 168,
   "id": "cac62f1c-f14d-43ee-b7c1-c8d3aff0880b",
   "metadata": {},
   "outputs": [
    {
     "data": {
      "text/plain": [
       "1.6666666666666667"
      ]
     },
     "execution_count": 168,
     "metadata": {},
     "output_type": "execute_result"
    }
   ],
   "source": [
    "22517998136852479 / 13510798882111488."
   ]
  },
  {
   "cell_type": "code",
   "execution_count": 169,
   "id": "14154d51-f2ad-4fec-afbc-e87c0ed19daa",
   "metadata": {},
   "outputs": [
    {
     "data": {
      "text/plain": [
       "Fraction(22517998136852479, 13510798882111488)"
      ]
     },
     "execution_count": 169,
     "metadata": {},
     "output_type": "execute_result"
    }
   ],
   "source": [
    "a"
   ]
  },
  {
   "cell_type": "code",
   "execution_count": 170,
   "id": "50110e52-1d0e-4b68-99f4-c6029c1cae55",
   "metadata": {},
   "outputs": [
    {
     "data": {
      "text/plain": [
       "Fraction(5, 3)"
      ]
     },
     "execution_count": 170,
     "metadata": {},
     "output_type": "execute_result"
    }
   ],
   "source": [
    "a.limit_denominator(10)"
   ]
  },
  {
   "cell_type": "code",
   "execution_count": 1,
   "id": "6786b477-7aea-4a92-befb-877dbeda1c65",
   "metadata": {},
   "outputs": [],
   "source": [
    "x = set('abcde')\n",
    "y = set('bdxyz')"
   ]
  },
  {
   "cell_type": "code",
   "execution_count": 2,
   "id": "4a7f8ae0-2bc1-4e01-8a47-0070215aaed4",
   "metadata": {},
   "outputs": [
    {
     "data": {
      "text/plain": [
       "{'a', 'b', 'c', 'd', 'e'}"
      ]
     },
     "execution_count": 2,
     "metadata": {},
     "output_type": "execute_result"
    }
   ],
   "source": [
    "x "
   ]
  },
  {
   "cell_type": "code",
   "execution_count": 3,
   "id": "33c53564-4309-4922-9b1f-3a107c8c49dd",
   "metadata": {},
   "outputs": [
    {
     "data": {
      "text/plain": [
       "{'a', 'c', 'e'}"
      ]
     },
     "execution_count": 3,
     "metadata": {},
     "output_type": "execute_result"
    }
   ],
   "source": [
    "x - y"
   ]
  },
  {
   "cell_type": "code",
   "execution_count": 4,
   "id": "a6390df0-6d22-4d61-8aa2-89d973b08ead",
   "metadata": {},
   "outputs": [
    {
     "data": {
      "text/plain": [
       "{'a', 'b', 'c', 'd', 'e', 'x', 'y', 'z'}"
      ]
     },
     "execution_count": 4,
     "metadata": {},
     "output_type": "execute_result"
    }
   ],
   "source": [
    "x | y"
   ]
  },
  {
   "cell_type": "code",
   "execution_count": 5,
   "id": "1d4183b7-e097-4112-870d-5c5dab427a6d",
   "metadata": {},
   "outputs": [
    {
     "data": {
      "text/plain": [
       "{'b', 'd'}"
      ]
     },
     "execution_count": 5,
     "metadata": {},
     "output_type": "execute_result"
    }
   ],
   "source": [
    "x & y "
   ]
  },
  {
   "cell_type": "code",
   "execution_count": 6,
   "id": "fb4fcdac-7432-4c73-b7ee-6c14e7187fe1",
   "metadata": {},
   "outputs": [
    {
     "data": {
      "text/plain": [
       "{'a', 'c', 'e', 'x', 'y', 'z'}"
      ]
     },
     "execution_count": 6,
     "metadata": {},
     "output_type": "execute_result"
    }
   ],
   "source": [
    "x ^ y"
   ]
  },
  {
   "cell_type": "code",
   "execution_count": 7,
   "id": "1660296d-5f63-4f2a-ae88-b21877760567",
   "metadata": {},
   "outputs": [
    {
     "data": {
      "text/plain": [
       "(False, False)"
      ]
     },
     "execution_count": 7,
     "metadata": {},
     "output_type": "execute_result"
    }
   ],
   "source": [
    "x > y , x < y"
   ]
  },
  {
   "cell_type": "code",
   "execution_count": 8,
   "id": "163f3bad-be1b-49a1-834e-c5c73fa4ec8e",
   "metadata": {},
   "outputs": [
    {
     "data": {
      "text/plain": [
       "True"
      ]
     },
     "execution_count": 8,
     "metadata": {},
     "output_type": "execute_result"
    }
   ],
   "source": [
    "'e' in x"
   ]
  },
  {
   "cell_type": "code",
   "execution_count": 9,
   "id": "90a753c5-802e-4d3c-abd4-d16e95c4c35a",
   "metadata": {},
   "outputs": [
    {
     "data": {
      "text/plain": [
       "(True, True)"
      ]
     },
     "execution_count": 9,
     "metadata": {},
     "output_type": "execute_result"
    }
   ],
   "source": [
    "'e' in 'Camelot', 22 in [11, 22, 33]"
   ]
  },
  {
   "cell_type": "code",
   "execution_count": 10,
   "id": "9db98dc3-6633-45ae-931e-f45c4f00e782",
   "metadata": {},
   "outputs": [
    {
     "data": {
      "text/plain": [
       "['__and__',\n",
       " '__class__',\n",
       " '__class_getitem__',\n",
       " '__contains__',\n",
       " '__delattr__',\n",
       " '__dir__',\n",
       " '__doc__',\n",
       " '__eq__',\n",
       " '__format__',\n",
       " '__ge__',\n",
       " '__getattribute__',\n",
       " '__gt__',\n",
       " '__hash__',\n",
       " '__iand__',\n",
       " '__init__',\n",
       " '__init_subclass__',\n",
       " '__ior__',\n",
       " '__isub__',\n",
       " '__iter__',\n",
       " '__ixor__',\n",
       " '__le__',\n",
       " '__len__',\n",
       " '__lt__',\n",
       " '__ne__',\n",
       " '__new__',\n",
       " '__or__',\n",
       " '__rand__',\n",
       " '__reduce__',\n",
       " '__reduce_ex__',\n",
       " '__repr__',\n",
       " '__ror__',\n",
       " '__rsub__',\n",
       " '__rxor__',\n",
       " '__setattr__',\n",
       " '__sizeof__',\n",
       " '__str__',\n",
       " '__sub__',\n",
       " '__subclasshook__',\n",
       " '__xor__',\n",
       " 'add',\n",
       " 'clear',\n",
       " 'copy',\n",
       " 'difference',\n",
       " 'difference_update',\n",
       " 'discard',\n",
       " 'intersection',\n",
       " 'intersection_update',\n",
       " 'isdisjoint',\n",
       " 'issubset',\n",
       " 'issuperset',\n",
       " 'pop',\n",
       " 'remove',\n",
       " 'symmetric_difference',\n",
       " 'symmetric_difference_update',\n",
       " 'union',\n",
       " 'update']"
      ]
     },
     "execution_count": 10,
     "metadata": {},
     "output_type": "execute_result"
    }
   ],
   "source": [
    "dir(x)"
   ]
  },
  {
   "cell_type": "code",
   "execution_count": 11,
   "id": "f3e21a33-990a-448b-9195-186d8790831b",
   "metadata": {},
   "outputs": [],
   "source": [
    "z = x.intersection(y)"
   ]
  },
  {
   "cell_type": "code",
   "execution_count": 12,
   "id": "d445650f-4b7b-4c6e-a405-7e41e45c51c5",
   "metadata": {},
   "outputs": [
    {
     "data": {
      "text/plain": [
       "{'b', 'd'}"
      ]
     },
     "execution_count": 12,
     "metadata": {},
     "output_type": "execute_result"
    }
   ],
   "source": [
    "z"
   ]
  },
  {
   "cell_type": "code",
   "execution_count": 13,
   "id": "2dabd5d5-d185-4ac5-a459-5e48ba7c4d74",
   "metadata": {},
   "outputs": [],
   "source": [
    "z.add('spam')"
   ]
  },
  {
   "cell_type": "code",
   "execution_count": 14,
   "id": "d1861f76-c2b3-477f-9630-3515e05c74b3",
   "metadata": {},
   "outputs": [
    {
     "data": {
      "text/plain": [
       "{'b', 'd', 'spam'}"
      ]
     },
     "execution_count": 14,
     "metadata": {},
     "output_type": "execute_result"
    }
   ],
   "source": [
    "z"
   ]
  },
  {
   "cell_type": "code",
   "execution_count": 15,
   "id": "bcd66896-56a9-495f-ad37-42a4a76330ad",
   "metadata": {},
   "outputs": [],
   "source": [
    "z.update(set(['x', 'y']))"
   ]
  },
  {
   "cell_type": "code",
   "execution_count": 16,
   "id": "88a1e639-ceb1-4a73-8bcd-9b01a134a1ef",
   "metadata": {},
   "outputs": [
    {
     "data": {
      "text/plain": [
       "{'b', 'd', 'spam', 'x', 'y'}"
      ]
     },
     "execution_count": 16,
     "metadata": {},
     "output_type": "execute_result"
    }
   ],
   "source": [
    "z"
   ]
  },
  {
   "cell_type": "code",
   "execution_count": 17,
   "id": "760f3352-feb9-4433-8f07-a8723aa254c3",
   "metadata": {},
   "outputs": [],
   "source": [
    "z.remove('b')"
   ]
  },
  {
   "cell_type": "code",
   "execution_count": 18,
   "id": "0010ffea-aeda-4efa-ba59-df468c4c98a1",
   "metadata": {},
   "outputs": [
    {
     "data": {
      "text/plain": [
       "{'d', 'spam', 'x', 'y'}"
      ]
     },
     "execution_count": 18,
     "metadata": {},
     "output_type": "execute_result"
    }
   ],
   "source": [
    "z"
   ]
  },
  {
   "cell_type": "code",
   "execution_count": 19,
   "id": "fa203692-a394-431c-81ee-4daaab26c2b0",
   "metadata": {},
   "outputs": [
    {
     "name": "stdout",
     "output_type": "stream",
     "text": [
      "bbb\n",
      "ccc\n",
      "aaa\n"
     ]
    }
   ],
   "source": [
    "for item in set('abc'): print(item * 3)"
   ]
  },
  {
   "cell_type": "code",
   "execution_count": 20,
   "id": "ab06a3f0-34eb-4a22-bcbe-e14071359f5f",
   "metadata": {},
   "outputs": [],
   "source": [
    "S = set([1, 2, 3])"
   ]
  },
  {
   "cell_type": "code",
   "execution_count": 22,
   "id": "11f13fbf-bef0-4921-b74f-56e4b10fbe03",
   "metadata": {},
   "outputs": [
    {
     "data": {
      "text/plain": [
       "{1, 2, 3, 4}"
      ]
     },
     "execution_count": 22,
     "metadata": {},
     "output_type": "execute_result"
    }
   ],
   "source": [
    "S | set([3, 4])"
   ]
  },
  {
   "cell_type": "code",
   "execution_count": 23,
   "id": "89b5a3a2-44ec-43be-a078-d8fb7553511a",
   "metadata": {},
   "outputs": [
    {
     "data": {
      "text/plain": [
       "{1, 2, 3, 4}"
      ]
     },
     "execution_count": 23,
     "metadata": {},
     "output_type": "execute_result"
    }
   ],
   "source": [
    "S.union([3, 4])"
   ]
  },
  {
   "cell_type": "code",
   "execution_count": 24,
   "id": "b3d2e364-8307-479c-91ef-9c1cc2e1829a",
   "metadata": {},
   "outputs": [
    {
     "data": {
      "text/plain": [
       "{1, 3}"
      ]
     },
     "execution_count": 24,
     "metadata": {},
     "output_type": "execute_result"
    }
   ],
   "source": [
    "S.intersection((1, 3, 5))"
   ]
  },
  {
   "cell_type": "code",
   "execution_count": 25,
   "id": "8738e04b-57de-48cb-81ef-9a453dfeb355",
   "metadata": {},
   "outputs": [
    {
     "data": {
      "text/plain": [
       "True"
      ]
     },
     "execution_count": 25,
     "metadata": {},
     "output_type": "execute_result"
    }
   ],
   "source": [
    "S.issubset(range(-5, 5))"
   ]
  },
  {
   "cell_type": "code",
   "execution_count": 26,
   "id": "d8e0ce00-1fb3-4a26-96f7-8647a5766c0e",
   "metadata": {},
   "outputs": [
    {
     "data": {
      "text/plain": [
       "{1, 2, 3, 4}"
      ]
     },
     "execution_count": 26,
     "metadata": {},
     "output_type": "execute_result"
    }
   ],
   "source": [
    "set([1, 2, 3, 4])"
   ]
  },
  {
   "cell_type": "code",
   "execution_count": 27,
   "id": "8f73af88-02e7-4be0-96e4-befcd9c9ee4f",
   "metadata": {},
   "outputs": [
    {
     "data": {
      "text/plain": [
       "{'a', 'm', 'p', 's'}"
      ]
     },
     "execution_count": 27,
     "metadata": {},
     "output_type": "execute_result"
    }
   ],
   "source": [
    "set('spam')"
   ]
  },
  {
   "cell_type": "code",
   "execution_count": 28,
   "id": "b27a9e54-095c-406b-a676-b41477790c1b",
   "metadata": {},
   "outputs": [
    {
     "data": {
      "text/plain": [
       "{1, 2, 3, 4}"
      ]
     },
     "execution_count": 28,
     "metadata": {},
     "output_type": "execute_result"
    }
   ],
   "source": [
    "{1, 2, 3, 4}"
   ]
  },
  {
   "cell_type": "code",
   "execution_count": 29,
   "id": "ca8fbd28-8883-43a4-8ccc-9065abf0b1e8",
   "metadata": {},
   "outputs": [],
   "source": [
    "S = {'s', 'p', 'a', 'm'}"
   ]
  },
  {
   "cell_type": "code",
   "execution_count": 30,
   "id": "d7815532-1655-4d94-9f1c-2d05471055d4",
   "metadata": {},
   "outputs": [
    {
     "data": {
      "text/plain": [
       "{'a', 'm', 'p', 's'}"
      ]
     },
     "execution_count": 30,
     "metadata": {},
     "output_type": "execute_result"
    }
   ],
   "source": [
    "S"
   ]
  },
  {
   "cell_type": "code",
   "execution_count": 31,
   "id": "83109fcf-caf9-4a42-adf4-9fb94cbf147b",
   "metadata": {},
   "outputs": [],
   "source": [
    "S.add('alot')"
   ]
  },
  {
   "cell_type": "code",
   "execution_count": 32,
   "id": "9ae0e889-fd09-41bf-9efd-5c2f17a41aab",
   "metadata": {},
   "outputs": [
    {
     "data": {
      "text/plain": [
       "{'a', 'alot', 'm', 'p', 's'}"
      ]
     },
     "execution_count": 32,
     "metadata": {},
     "output_type": "execute_result"
    }
   ],
   "source": [
    "S"
   ]
  },
  {
   "cell_type": "code",
   "execution_count": 33,
   "id": "4a62a628-bac2-430b-9d8f-b70e70f23914",
   "metadata": {},
   "outputs": [],
   "source": [
    "S1 = {1, 2, 3, 4}"
   ]
  },
  {
   "cell_type": "code",
   "execution_count": 34,
   "id": "1d2317f0-7b6e-4b02-b131-fd2622731c48",
   "metadata": {},
   "outputs": [
    {
     "data": {
      "text/plain": [
       "{1, 3}"
      ]
     },
     "execution_count": 34,
     "metadata": {},
     "output_type": "execute_result"
    }
   ],
   "source": [
    "S1 & {1, 3}"
   ]
  },
  {
   "cell_type": "code",
   "execution_count": 35,
   "id": "1459af5a-e45b-4f43-969e-aa22c5c2ae3a",
   "metadata": {},
   "outputs": [
    {
     "data": {
      "text/plain": [
       "{1, 2, 3, 4, 5, 6}"
      ]
     },
     "execution_count": 35,
     "metadata": {},
     "output_type": "execute_result"
    }
   ],
   "source": [
    "{1, 5, 3, 6} | S1"
   ]
  },
  {
   "cell_type": "code",
   "execution_count": 36,
   "id": "6dfeb347-d153-4df4-8a15-0f58dfb48477",
   "metadata": {},
   "outputs": [
    {
     "data": {
      "text/plain": [
       "{2}"
      ]
     },
     "execution_count": 36,
     "metadata": {},
     "output_type": "execute_result"
    }
   ],
   "source": [
    "S1 - {1, 3, 4}"
   ]
  },
  {
   "cell_type": "code",
   "execution_count": 37,
   "id": "9bb85172-444f-4298-9127-5a73353fda32",
   "metadata": {},
   "outputs": [
    {
     "data": {
      "text/plain": [
       "True"
      ]
     },
     "execution_count": 37,
     "metadata": {},
     "output_type": "execute_result"
    }
   ],
   "source": [
    "S1 > {1, 3}"
   ]
  },
  {
   "cell_type": "code",
   "execution_count": 38,
   "id": "ccb27620-5abe-4b78-b875-c90cb36e35e7",
   "metadata": {},
   "outputs": [
    {
     "data": {
      "text/plain": [
       "set()"
      ]
     },
     "execution_count": 38,
     "metadata": {},
     "output_type": "execute_result"
    }
   ],
   "source": [
    "S1 - {1, 2, 3, 4}"
   ]
  },
  {
   "cell_type": "code",
   "execution_count": 39,
   "id": "f21880f1-8577-4db5-929f-0fcecb4fee91",
   "metadata": {},
   "outputs": [
    {
     "data": {
      "text/plain": [
       "dict"
      ]
     },
     "execution_count": 39,
     "metadata": {},
     "output_type": "execute_result"
    }
   ],
   "source": [
    "type({})"
   ]
  },
  {
   "cell_type": "code",
   "execution_count": 40,
   "id": "e3f1db39-9e43-4cf7-b11b-2c4b107dbcee",
   "metadata": {},
   "outputs": [],
   "source": [
    "S = set()"
   ]
  },
  {
   "cell_type": "code",
   "execution_count": 41,
   "id": "7c6e537a-df27-48ce-b842-216bafdea322",
   "metadata": {},
   "outputs": [],
   "source": [
    "S.add(1.23)"
   ]
  },
  {
   "cell_type": "code",
   "execution_count": 42,
   "id": "609b9e09-aee6-4d7b-98e1-7314dc9c3cef",
   "metadata": {},
   "outputs": [
    {
     "data": {
      "text/plain": [
       "{1.23}"
      ]
     },
     "execution_count": 42,
     "metadata": {},
     "output_type": "execute_result"
    }
   ],
   "source": [
    "S"
   ]
  },
  {
   "cell_type": "code",
   "execution_count": 43,
   "id": "8689bbfa-7031-40d5-b9f1-a51e083af9b1",
   "metadata": {},
   "outputs": [
    {
     "data": {
      "text/plain": [
       "{1, 4, 9, 16}"
      ]
     },
     "execution_count": 43,
     "metadata": {},
     "output_type": "execute_result"
    }
   ],
   "source": [
    "{x **2 for x in [1, 2, 3, 4]}"
   ]
  },
  {
   "cell_type": "code",
   "execution_count": 44,
   "id": "255bd084-6747-4599-93ae-558ff9fc264c",
   "metadata": {},
   "outputs": [
    {
     "data": {
      "text/plain": [
       "{'a', 'm', 'p', 's'}"
      ]
     },
     "execution_count": 44,
     "metadata": {},
     "output_type": "execute_result"
    }
   ],
   "source": [
    "{x for x in 'spam'}"
   ]
  },
  {
   "cell_type": "code",
   "execution_count": 45,
   "id": "e0a8ec29-b69b-4d93-a1ae-f468281533d6",
   "metadata": {},
   "outputs": [
    {
     "data": {
      "text/plain": [
       "{'aaaa', 'mmmm', 'pppp', 'ssss'}"
      ]
     },
     "execution_count": 45,
     "metadata": {},
     "output_type": "execute_result"
    }
   ],
   "source": [
    "{c * 4 for c in 'spam'}"
   ]
  },
  {
   "cell_type": "code",
   "execution_count": 46,
   "id": "e4547c69-a90b-406a-9237-4303946ece01",
   "metadata": {},
   "outputs": [
    {
     "data": {
      "text/plain": [
       "{1.23, 'mmmm', 'xxxx'}"
      ]
     },
     "execution_count": 46,
     "metadata": {},
     "output_type": "execute_result"
    }
   ],
   "source": [
    "S | {'mmmm', 'xxxx'}"
   ]
  },
  {
   "cell_type": "code",
   "execution_count": 47,
   "id": "dd96993c-f828-4a5f-9870-e64a7a7c5d3d",
   "metadata": {},
   "outputs": [],
   "source": [
    "L = [1, 2, 1, 3, 2, 4, 5]"
   ]
  },
  {
   "cell_type": "code",
   "execution_count": 48,
   "id": "c8f1a330-5d16-4a01-a4c7-ec5132f0408f",
   "metadata": {},
   "outputs": [
    {
     "data": {
      "text/plain": [
       "{1, 2, 3, 4, 5}"
      ]
     },
     "execution_count": 48,
     "metadata": {},
     "output_type": "execute_result"
    }
   ],
   "source": [
    "set(L)"
   ]
  },
  {
   "cell_type": "code",
   "execution_count": 49,
   "id": "88a3b587-7be0-43e6-847c-89aca78c8ae0",
   "metadata": {},
   "outputs": [],
   "source": [
    "L = list(set(L))"
   ]
  },
  {
   "cell_type": "code",
   "execution_count": 50,
   "id": "9cce3065-8e4a-43f6-8c93-fe75f8bfe10d",
   "metadata": {},
   "outputs": [
    {
     "data": {
      "text/plain": [
       "[1, 2, 3, 4, 5]"
      ]
     },
     "execution_count": 50,
     "metadata": {},
     "output_type": "execute_result"
    }
   ],
   "source": [
    "L"
   ]
  },
  {
   "cell_type": "code",
   "execution_count": 51,
   "id": "56d72099-ffc7-4070-b410-b79262395c4b",
   "metadata": {},
   "outputs": [
    {
     "data": {
      "text/plain": [
       "['dd', 'yy', 'aa', 'xx', 'cc']"
      ]
     },
     "execution_count": 51,
     "metadata": {},
     "output_type": "execute_result"
    }
   ],
   "source": [
    "list(set(['yy', 'cc', 'aa', 'xx', 'dd', 'aa']))"
   ]
  },
  {
   "cell_type": "code",
   "execution_count": 52,
   "id": "683ba3d8-a10f-484c-a222-b428d7fa328f",
   "metadata": {},
   "outputs": [
    {
     "data": {
      "text/plain": [
       "{3, 7}"
      ]
     },
     "execution_count": 52,
     "metadata": {},
     "output_type": "execute_result"
    }
   ],
   "source": [
    "set([1, 3, 5, 7]) - set([1, 2, 4, 5, 6])"
   ]
  },
  {
   "cell_type": "code",
   "execution_count": 53,
   "id": "af7f1b2d-92a7-4263-bc4c-d74aa8cf5195",
   "metadata": {},
   "outputs": [
    {
     "data": {
      "text/plain": [
       "{'b', 'c', 'd', 'e', 'f', 'g'}"
      ]
     },
     "execution_count": 53,
     "metadata": {},
     "output_type": "execute_result"
    }
   ],
   "source": [
    "set('abcdefg') - set(['h', 'a', 'm'])"
   ]
  },
  {
   "cell_type": "code",
   "execution_count": 54,
   "id": "395cc8e7-2150-480e-8bd4-816460c8ae25",
   "metadata": {},
   "outputs": [
    {
     "data": {
      "text/plain": [
       "{'__getnewargs__'}"
      ]
     },
     "execution_count": 54,
     "metadata": {},
     "output_type": "execute_result"
    }
   ],
   "source": [
    "set(dir(bytes)) - set(dir(bytearray))"
   ]
  },
  {
   "cell_type": "code",
   "execution_count": 55,
   "id": "5701354c-4ce9-4ef3-b3e3-2995abc9f0a1",
   "metadata": {},
   "outputs": [
    {
     "data": {
      "text/plain": [
       "{'__alloc__',\n",
       " '__delitem__',\n",
       " '__iadd__',\n",
       " '__imul__',\n",
       " '__setitem__',\n",
       " 'append',\n",
       " 'clear',\n",
       " 'copy',\n",
       " 'extend',\n",
       " 'insert',\n",
       " 'pop',\n",
       " 'remove',\n",
       " 'reverse'}"
      ]
     },
     "execution_count": 55,
     "metadata": {},
     "output_type": "execute_result"
    }
   ],
   "source": [
    "set(dir(bytearray)) - set(dir(bytes))"
   ]
  },
  {
   "cell_type": "code",
   "execution_count": 56,
   "id": "ddf7b7f0-4fa9-47e7-aa13-451f3bfa2c64",
   "metadata": {},
   "outputs": [],
   "source": [
    "L1, L2 = [1,3,5,2,4], [2,5,3,4,1]"
   ]
  },
  {
   "cell_type": "code",
   "execution_count": 57,
   "id": "fc195957-04ad-4044-a82a-dba204a23ca2",
   "metadata": {},
   "outputs": [
    {
     "data": {
      "text/plain": [
       "False"
      ]
     },
     "execution_count": 57,
     "metadata": {},
     "output_type": "execute_result"
    }
   ],
   "source": [
    "L1 == L2"
   ]
  },
  {
   "cell_type": "code",
   "execution_count": 58,
   "id": "13bed39a-e983-4058-b6bb-88bac32cf659",
   "metadata": {},
   "outputs": [
    {
     "data": {
      "text/plain": [
       "True"
      ]
     },
     "execution_count": 58,
     "metadata": {},
     "output_type": "execute_result"
    }
   ],
   "source": [
    "set(L1) == set(L2)"
   ]
  },
  {
   "cell_type": "code",
   "execution_count": 59,
   "id": "1330bba4-7807-43eb-8bfc-fa628dea42e1",
   "metadata": {},
   "outputs": [
    {
     "data": {
      "text/plain": [
       "True"
      ]
     },
     "execution_count": 59,
     "metadata": {},
     "output_type": "execute_result"
    }
   ],
   "source": [
    "sorted(L1) == sorted(L2)"
   ]
  },
  {
   "cell_type": "code",
   "execution_count": 60,
   "id": "9a12050d-e119-43ff-94c3-70375d528ca9",
   "metadata": {},
   "outputs": [],
   "source": [
    "engineers = {'bob', 'sue', 'ann', 'vic'}\n",
    "managers = {'tom', 'sue'}"
   ]
  },
  {
   "cell_type": "code",
   "execution_count": 61,
   "id": "14c2e28c-ed8e-44ef-a34c-e6bc58a753d1",
   "metadata": {},
   "outputs": [
    {
     "data": {
      "text/plain": [
       "True"
      ]
     },
     "execution_count": 61,
     "metadata": {},
     "output_type": "execute_result"
    }
   ],
   "source": [
    "'bob' in engineers"
   ]
  },
  {
   "cell_type": "code",
   "execution_count": 62,
   "id": "cbfaef3b-45c7-49d6-a50d-3c9775c70f9a",
   "metadata": {},
   "outputs": [
    {
     "data": {
      "text/plain": [
       "{'sue'}"
      ]
     },
     "execution_count": 62,
     "metadata": {},
     "output_type": "execute_result"
    }
   ],
   "source": [
    "engineers & managers"
   ]
  },
  {
   "cell_type": "code",
   "execution_count": 63,
   "id": "2f9c502b-d6b6-43e4-83de-85799921ce78",
   "metadata": {},
   "outputs": [
    {
     "data": {
      "text/plain": [
       "{'ann', 'bob', 'sue', 'tom', 'vic'}"
      ]
     },
     "execution_count": 63,
     "metadata": {},
     "output_type": "execute_result"
    }
   ],
   "source": [
    "engineers | managers"
   ]
  },
  {
   "cell_type": "code",
   "execution_count": 64,
   "id": "3b382c05-9513-4e55-bd4f-650cbed5f77d",
   "metadata": {},
   "outputs": [
    {
     "data": {
      "text/plain": [
       "{'ann', 'bob', 'vic'}"
      ]
     },
     "execution_count": 64,
     "metadata": {},
     "output_type": "execute_result"
    }
   ],
   "source": [
    "engineers - managers"
   ]
  },
  {
   "cell_type": "code",
   "execution_count": 65,
   "id": "d9fd33d6-d5ce-43be-97de-252c8a865ff5",
   "metadata": {},
   "outputs": [
    {
     "data": {
      "text/plain": [
       "{'tom'}"
      ]
     },
     "execution_count": 65,
     "metadata": {},
     "output_type": "execute_result"
    }
   ],
   "source": [
    "managers - engineers"
   ]
  },
  {
   "cell_type": "code",
   "execution_count": 66,
   "id": "be26646c-e7dc-401d-b2d3-c990ebd26c91",
   "metadata": {},
   "outputs": [
    {
     "data": {
      "text/plain": [
       "False"
      ]
     },
     "execution_count": 66,
     "metadata": {},
     "output_type": "execute_result"
    }
   ],
   "source": [
    "engineers > managers"
   ]
  },
  {
   "cell_type": "code",
   "execution_count": 67,
   "id": "02c41357-b688-4f6b-a1ac-1aa4b636de32",
   "metadata": {},
   "outputs": [
    {
     "data": {
      "text/plain": [
       "True"
      ]
     },
     "execution_count": 67,
     "metadata": {},
     "output_type": "execute_result"
    }
   ],
   "source": [
    "{'bob', 'sue'} < engineers"
   ]
  },
  {
   "cell_type": "code",
   "execution_count": 69,
   "id": "b67ac1ca-b746-460b-8979-3d650cbabeeb",
   "metadata": {},
   "outputs": [
    {
     "data": {
      "text/plain": [
       "True"
      ]
     },
     "execution_count": 69,
     "metadata": {},
     "output_type": "execute_result"
    }
   ],
   "source": [
    "(managers | engineers) > managers"
   ]
  },
  {
   "cell_type": "code",
   "execution_count": 70,
   "id": "e9fb29f1-15d6-4a12-b606-baf829a10ba9",
   "metadata": {},
   "outputs": [
    {
     "data": {
      "text/plain": [
       "{'ann', 'bob', 'tom', 'vic'}"
      ]
     },
     "execution_count": 70,
     "metadata": {},
     "output_type": "execute_result"
    }
   ],
   "source": [
    "managers ^ engineers"
   ]
  },
  {
   "cell_type": "code",
   "execution_count": 71,
   "id": "6d60c92d-b9d1-477f-9712-81284940405e",
   "metadata": {},
   "outputs": [
    {
     "data": {
      "text/plain": [
       "{'sue'}"
      ]
     },
     "execution_count": 71,
     "metadata": {},
     "output_type": "execute_result"
    }
   ],
   "source": [
    "(managers | engineers) - (managers ^ engineers)"
   ]
  },
  {
   "cell_type": "code",
   "execution_count": 72,
   "id": "5ae48c4f-14f7-440e-81fb-0d7f7ee4bbcd",
   "metadata": {},
   "outputs": [
    {
     "data": {
      "text/plain": [
       "bool"
      ]
     },
     "execution_count": 72,
     "metadata": {},
     "output_type": "execute_result"
    }
   ],
   "source": [
    "type(True)"
   ]
  },
  {
   "cell_type": "code",
   "execution_count": 73,
   "id": "0e68050f-d1be-4be3-8ec6-bf42d35c107b",
   "metadata": {},
   "outputs": [
    {
     "data": {
      "text/plain": [
       "True"
      ]
     },
     "execution_count": 73,
     "metadata": {},
     "output_type": "execute_result"
    }
   ],
   "source": [
    "isinstance(True, int)"
   ]
  },
  {
   "cell_type": "code",
   "execution_count": 74,
   "id": "1fc059f9-014c-4202-b0a0-86e59eaec033",
   "metadata": {},
   "outputs": [
    {
     "name": "stdout",
     "output_type": "stream",
     "text": [
      "Help on built-in function isinstance in module builtins:\n",
      "\n",
      "isinstance(obj, class_or_tuple, /)\n",
      "    Return whether an object is an instance of a class or of a subclass thereof.\n",
      "    \n",
      "    A tuple, as in ``isinstance(x, (A, B, ...))``, may be given as the target to\n",
      "    check against. This is equivalent to ``isinstance(x, A) or isinstance(x, B)\n",
      "    or ...`` etc.\n",
      "\n"
     ]
    }
   ],
   "source": [
    "help(isinstance)"
   ]
  },
  {
   "cell_type": "code",
   "execution_count": 75,
   "id": "30ce36b0-170b-4b7a-b6b6-28c8478d8ae2",
   "metadata": {},
   "outputs": [
    {
     "data": {
      "text/plain": [
       "True"
      ]
     },
     "execution_count": 75,
     "metadata": {},
     "output_type": "execute_result"
    }
   ],
   "source": [
    "True == 1"
   ]
  },
  {
   "cell_type": "code",
   "execution_count": 76,
   "id": "ab48f639-9d64-4281-94b0-7bb280333f05",
   "metadata": {},
   "outputs": [
    {
     "name": "stderr",
     "output_type": "stream",
     "text": [
      "<>:1: SyntaxWarning: \"is\" with a literal. Did you mean \"==\"?\n",
      "<>:1: SyntaxWarning: \"is\" with a literal. Did you mean \"==\"?\n",
      "C:\\Users\\admin\\AppData\\Local\\Temp\\ipykernel_19356\\812578685.py:1: SyntaxWarning: \"is\" with a literal. Did you mean \"==\"?\n",
      "  True is 1\n"
     ]
    },
    {
     "data": {
      "text/plain": [
       "False"
      ]
     },
     "execution_count": 76,
     "metadata": {},
     "output_type": "execute_result"
    }
   ],
   "source": [
    "True is 1"
   ]
  },
  {
   "cell_type": "code",
   "execution_count": 77,
   "id": "2caf5a4f-feec-405c-a860-7479b279fba3",
   "metadata": {},
   "outputs": [
    {
     "data": {
      "text/plain": [
       "True"
      ]
     },
     "execution_count": 77,
     "metadata": {},
     "output_type": "execute_result"
    }
   ],
   "source": [
    "True or False"
   ]
  },
  {
   "cell_type": "code",
   "execution_count": 78,
   "id": "ddd2775a-d691-47eb-8b41-9cceebe5096e",
   "metadata": {},
   "outputs": [
    {
     "data": {
      "text/plain": [
       "5"
      ]
     },
     "execution_count": 78,
     "metadata": {},
     "output_type": "execute_result"
    }
   ],
   "source": [
    "True + 4"
   ]
  },
  {
   "cell_type": "code",
   "execution_count": null,
   "id": "1dd25a84-286b-48a2-b0ff-12bc1e03a979",
   "metadata": {},
   "outputs": [],
   "source": []
  }
 ],
 "metadata": {
  "kernelspec": {
   "display_name": "Python 3 (ipykernel)",
   "language": "python",
   "name": "python3"
  },
  "language_info": {
   "codemirror_mode": {
    "name": "ipython",
    "version": 3
   },
   "file_extension": ".py",
   "mimetype": "text/x-python",
   "name": "python",
   "nbconvert_exporter": "python",
   "pygments_lexer": "ipython3",
   "version": "3.9.13"
  }
 },
 "nbformat": 4,
 "nbformat_minor": 5
}
