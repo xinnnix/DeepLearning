{
 "cells": [
  {
   "cell_type": "code",
   "execution_count": 1,
   "id": "0229e99c-7602-4ca9-9eeb-c9459fe9f6a7",
   "metadata": {},
   "outputs": [],
   "source": [
    "def mysum(L):\n",
    "    if not L:\n",
    "        return 0\n",
    "    else:\n",
    "        return L[0] + mysum(L[1:])"
   ]
  },
  {
   "cell_type": "code",
   "execution_count": 2,
   "id": "e19ad3cd-799c-4a5a-a026-285b2e87482b",
   "metadata": {},
   "outputs": [
    {
     "data": {
      "text/plain": [
       "15"
      ]
     },
     "execution_count": 2,
     "metadata": {},
     "output_type": "execute_result"
    }
   ],
   "source": [
    "mysum([1, 2, 3, 4, 5])"
   ]
  },
  {
   "cell_type": "code",
   "execution_count": 1,
   "id": "1c940895-b197-4ba6-af91-79f764590c7d",
   "metadata": {},
   "outputs": [],
   "source": [
    "def mysum(L):\n",
    "    print(L)\n",
    "    if not L:\n",
    "        return 0\n",
    "    else:\n",
    "        return L[0] + mysum(L[1:])"
   ]
  },
  {
   "cell_type": "code",
   "execution_count": 2,
   "id": "2ac0fbbd-760f-443f-bb94-6f12f4ee6a10",
   "metadata": {},
   "outputs": [
    {
     "name": "stdout",
     "output_type": "stream",
     "text": [
      "[1, 2, 3, 4, 5]\n",
      "[2, 3, 4, 5]\n",
      "[3, 4, 5]\n",
      "[4, 5]\n",
      "[5]\n",
      "[]\n"
     ]
    },
    {
     "data": {
      "text/plain": [
       "15"
      ]
     },
     "execution_count": 2,
     "metadata": {},
     "output_type": "execute_result"
    }
   ],
   "source": [
    "mysum([1, 2, 3, 4, 5])"
   ]
  },
  {
   "cell_type": "code",
   "execution_count": 4,
   "id": "adad9ee2-4c0a-4794-845a-85f1d493001a",
   "metadata": {},
   "outputs": [],
   "source": [
    "def mysum(L):\n",
    "    return 0 if not L else L[0] + mysum(L[1:])"
   ]
  },
  {
   "cell_type": "code",
   "execution_count": 5,
   "id": "6301f8da-4476-4484-9da2-000160b694c2",
   "metadata": {},
   "outputs": [],
   "source": [
    "def mysum(L):\n",
    "    return L[0] if len(L)==1 else L[0] + mysum(L[1:])"
   ]
  },
  {
   "cell_type": "code",
   "execution_count": 6,
   "id": "e236b843-8345-4c97-a410-ea57d93e30ea",
   "metadata": {},
   "outputs": [],
   "source": [
    "def mysum(L):\n",
    "    first, *rest = L\n",
    "    return first if not rest else first + mysum(rest)"
   ]
  },
  {
   "cell_type": "code",
   "execution_count": 7,
   "id": "1e7af8c8-3850-47e6-aae9-aa9360b694d3",
   "metadata": {},
   "outputs": [],
   "source": [
    "def mysum(L):\n",
    "    if not L: return 0\n",
    "    return nonempty(L)\n",
    "\n",
    "def nonempty(L):\n",
    "    return L[0] + mysum(L[1:])"
   ]
  },
  {
   "cell_type": "code",
   "execution_count": 9,
   "id": "5e6b4195-8ef6-4847-8894-38de2f7785ee",
   "metadata": {},
   "outputs": [
    {
     "data": {
      "text/plain": [
       "11.0"
      ]
     },
     "execution_count": 9,
     "metadata": {},
     "output_type": "execute_result"
    }
   ],
   "source": [
    "mysum([1.1, 2.2, 3.3, 4.4])"
   ]
  },
  {
   "cell_type": "code",
   "execution_count": 10,
   "id": "8c0f752a-7629-45d5-ae1c-4cbe3fdd6ec8",
   "metadata": {},
   "outputs": [],
   "source": [
    "L = [1, 2, 3, 4 ,5]"
   ]
  },
  {
   "cell_type": "code",
   "execution_count": 11,
   "id": "010e1b90-befe-444c-9dc0-db959721e9c5",
   "metadata": {},
   "outputs": [],
   "source": [
    "sum = 0"
   ]
  },
  {
   "cell_type": "code",
   "execution_count": 12,
   "id": "76c4a773-d823-45ab-8215-a3e9b63c6f68",
   "metadata": {},
   "outputs": [],
   "source": [
    "while L:\n",
    "    sum += L[0]\n",
    "    L = L[1:]"
   ]
  },
  {
   "cell_type": "code",
   "execution_count": 13,
   "id": "83ed0738-deea-43ba-a770-cee5edeb2fb2",
   "metadata": {},
   "outputs": [
    {
     "data": {
      "text/plain": [
       "15"
      ]
     },
     "execution_count": 13,
     "metadata": {},
     "output_type": "execute_result"
    }
   ],
   "source": [
    "sum"
   ]
  },
  {
   "cell_type": "code",
   "execution_count": 14,
   "id": "37468f72-2559-42ad-9572-8c4af7588650",
   "metadata": {},
   "outputs": [],
   "source": [
    "L = [1, 2, 3, 4, 5]"
   ]
  },
  {
   "cell_type": "code",
   "execution_count": 15,
   "id": "b611b418-713b-4ff5-9b1f-51d6da682923",
   "metadata": {},
   "outputs": [],
   "source": [
    "sum = 0"
   ]
  },
  {
   "cell_type": "code",
   "execution_count": 16,
   "id": "b27e5692-9ef1-48b9-ae17-d03d2992c220",
   "metadata": {},
   "outputs": [],
   "source": [
    "for x in L: sum += x"
   ]
  },
  {
   "cell_type": "code",
   "execution_count": 17,
   "id": "230cc12b-303d-491e-8602-59dc848c3799",
   "metadata": {},
   "outputs": [
    {
     "data": {
      "text/plain": [
       "15"
      ]
     },
     "execution_count": 17,
     "metadata": {},
     "output_type": "execute_result"
    }
   ],
   "source": [
    "sum"
   ]
  },
  {
   "cell_type": "code",
   "execution_count": 18,
   "id": "44fd6ddf-428d-476f-afb8-406f75a0cab7",
   "metadata": {},
   "outputs": [],
   "source": [
    "def sumtree(L):\n",
    "    tot = 0\n",
    "    for x in L:\n",
    "        if not isinstance(x, list):\n",
    "            tot += x\n",
    "        else:\n",
    "            tot += sumtree(x)\n",
    "    return tot"
   ]
  },
  {
   "cell_type": "code",
   "execution_count": 19,
   "id": "d59753d7-73a3-432a-9ce3-6faf2cdbeafe",
   "metadata": {},
   "outputs": [],
   "source": [
    "L = [1, [2, [3, 4], 5], 6, [7, 8]]"
   ]
  },
  {
   "cell_type": "code",
   "execution_count": 20,
   "id": "3ea786ae-4d84-4971-8ba6-3bb687c4087f",
   "metadata": {},
   "outputs": [
    {
     "name": "stdout",
     "output_type": "stream",
     "text": [
      "36\n"
     ]
    }
   ],
   "source": [
    "print(sumtree(L))"
   ]
  },
  {
   "cell_type": "code",
   "execution_count": 21,
   "id": "3b4608c1-2cd4-47c7-9e77-6d3ecaf8a203",
   "metadata": {},
   "outputs": [],
   "source": [
    "def sumtree(L):\n",
    "    tot = 0\n",
    "    items = list(L)\n",
    "    while items:\n",
    "        front = items.pop(0)\n",
    "        if not isinstance(front, list):\n",
    "            tot += front\n",
    "        else:\n",
    "            items.extend(front)\n",
    "    return tot"
   ]
  },
  {
   "cell_type": "code",
   "execution_count": 22,
   "id": "671a1bf4-b2a2-4b7e-bb0a-8ba77167cad4",
   "metadata": {},
   "outputs": [],
   "source": [
    "def sumtree(L):\n",
    "    tot = 0\n",
    "    items = list(L)\n",
    "    while items:\n",
    "        front = items.pop(0)\n",
    "        if not isinstance(front, list):\n",
    "            tot += front\n",
    "        else:\n",
    "            items[:0] = front\n",
    "    return tot"
   ]
  },
  {
   "cell_type": "code",
   "execution_count": null,
   "id": "349262c4-d683-48ac-b1d0-251929bf0757",
   "metadata": {},
   "outputs": [],
   "source": [
    "if state not in visited:\n",
    "    visited.add(state)\n",
    "    ...proceed..."
   ]
  },
  {
   "cell_type": "code",
   "execution_count": null,
   "id": "2e64ea05-18e7-4b8e-adfb-72fe0a0ae1b0",
   "metadata": {},
   "outputs": [],
   "source": [
    "visited.add(front)\n",
    "...proceed...\n",
    "items.extend([x for x in front if x not in visited])"
   ]
  },
  {
   "cell_type": "code",
   "execution_count": 23,
   "id": "03f91395-27e9-4f4c-8915-d479b76d03d6",
   "metadata": {},
   "outputs": [],
   "source": [
    "import sys"
   ]
  },
  {
   "cell_type": "code",
   "execution_count": 24,
   "id": "8d538fa4-8fdd-4465-b2ff-214b61aba3de",
   "metadata": {},
   "outputs": [
    {
     "data": {
      "text/plain": [
       "3000"
      ]
     },
     "execution_count": 24,
     "metadata": {},
     "output_type": "execute_result"
    }
   ],
   "source": [
    "sys.getrecursionlimit()"
   ]
  },
  {
   "cell_type": "code",
   "execution_count": 25,
   "id": "7cad856b-63c6-4876-82a7-fa2051250fdd",
   "metadata": {},
   "outputs": [
    {
     "name": "stdout",
     "output_type": "stream",
     "text": [
      "Help on built-in function isinstance in module builtins:\n",
      "\n",
      "isinstance(obj, class_or_tuple, /)\n",
      "    Return whether an object is an instance of a class or of a subclass thereof.\n",
      "    \n",
      "    A tuple, as in ``isinstance(x, (A, B, ...))``, may be given as the target to\n",
      "    check against. This is equivalent to ``isinstance(x, A) or isinstance(x, B)\n",
      "    or ...`` etc.\n",
      "\n"
     ]
    }
   ],
   "source": [
    "help(isinstance)"
   ]
  },
  {
   "cell_type": "code",
   "execution_count": 26,
   "id": "0881ad60-9fee-42e6-a316-e00c09ff8930",
   "metadata": {},
   "outputs": [],
   "source": [
    "def echo(message):\n",
    "    print(message)"
   ]
  },
  {
   "cell_type": "code",
   "execution_count": 27,
   "id": "d21eb944-3641-483a-ac7c-4aaadb18decf",
   "metadata": {},
   "outputs": [
    {
     "name": "stdout",
     "output_type": "stream",
     "text": [
      "Direct call\n"
     ]
    }
   ],
   "source": [
    "echo('Direct call')"
   ]
  },
  {
   "cell_type": "code",
   "execution_count": 28,
   "id": "18ca9de6-ea40-4945-8128-1dac7e517d26",
   "metadata": {},
   "outputs": [],
   "source": [
    "x = echo"
   ]
  },
  {
   "cell_type": "code",
   "execution_count": 29,
   "id": "2adad39b-863e-44d9-a92a-399ae5b95fb2",
   "metadata": {},
   "outputs": [
    {
     "name": "stdout",
     "output_type": "stream",
     "text": [
      "Indirect call\n"
     ]
    }
   ],
   "source": [
    "x('Indirect call')"
   ]
  },
  {
   "cell_type": "code",
   "execution_count": 30,
   "id": "df70a4e2-eb22-406e-8767-ef32948270a6",
   "metadata": {},
   "outputs": [],
   "source": [
    "def indirect(func, arg):\n",
    "    func(arg)"
   ]
  },
  {
   "cell_type": "code",
   "execution_count": 31,
   "id": "03f96ee8-3829-4543-a285-6eed1fc07477",
   "metadata": {},
   "outputs": [
    {
     "name": "stdout",
     "output_type": "stream",
     "text": [
      "Argument call!\n"
     ]
    }
   ],
   "source": [
    "indirect(echo, 'Argument call!')"
   ]
  },
  {
   "cell_type": "code",
   "execution_count": 32,
   "id": "4b0d6a78-a734-4bc3-9870-31bcd1e47aff",
   "metadata": {},
   "outputs": [],
   "source": [
    "schedule = [(echo, 'Spam!'), (echo, 'Ham!')]"
   ]
  },
  {
   "cell_type": "code",
   "execution_count": 33,
   "id": "0b88b5ba-647f-435e-a6e3-a5921a535894",
   "metadata": {},
   "outputs": [
    {
     "name": "stdout",
     "output_type": "stream",
     "text": [
      "Spam!\n",
      "Ham!\n"
     ]
    }
   ],
   "source": [
    "for (func, arg) in schedule:\n",
    "    func(arg)"
   ]
  },
  {
   "cell_type": "code",
   "execution_count": 34,
   "id": "f647f4e7-d81d-4207-9313-17e48e8062d8",
   "metadata": {},
   "outputs": [],
   "source": [
    "def make(label):\n",
    "    def echo(message):\n",
    "        print(label + ':' + message)\n",
    "    return echo"
   ]
  },
  {
   "cell_type": "code",
   "execution_count": 35,
   "id": "984c81bc-da7e-46b0-b154-772739c689a9",
   "metadata": {},
   "outputs": [],
   "source": [
    "F = make('Spam')"
   ]
  },
  {
   "cell_type": "code",
   "execution_count": 36,
   "id": "5260f957-b1e8-491a-b8e9-1e1cff669cce",
   "metadata": {},
   "outputs": [
    {
     "name": "stdout",
     "output_type": "stream",
     "text": [
      "Spam:Ham\n"
     ]
    }
   ],
   "source": [
    "F('Ham')"
   ]
  },
  {
   "cell_type": "code",
   "execution_count": 37,
   "id": "7774a73f-8c4a-4a20-ba24-29de9a29df1a",
   "metadata": {},
   "outputs": [
    {
     "name": "stdout",
     "output_type": "stream",
     "text": [
      "Spam:Eggs\n"
     ]
    }
   ],
   "source": [
    "F('Eggs')"
   ]
  },
  {
   "cell_type": "code",
   "execution_count": 38,
   "id": "4f9b5207-3673-4119-bad4-2ad1c27b5874",
   "metadata": {},
   "outputs": [],
   "source": [
    "def func(a):\n",
    "    b = 'spam'\n",
    "    return b * a"
   ]
  },
  {
   "cell_type": "code",
   "execution_count": 39,
   "id": "03da597a-f894-4d2c-81f6-86106ef3d345",
   "metadata": {},
   "outputs": [
    {
     "data": {
      "text/plain": [
       "'spamspamspamspamspamspamspamspam'"
      ]
     },
     "execution_count": 39,
     "metadata": {},
     "output_type": "execute_result"
    }
   ],
   "source": [
    "func(8)"
   ]
  },
  {
   "cell_type": "code",
   "execution_count": 40,
   "id": "7aa2142b-107c-41d1-ab1e-abd7cfaa21bd",
   "metadata": {},
   "outputs": [
    {
     "data": {
      "text/plain": [
       "'func'"
      ]
     },
     "execution_count": 40,
     "metadata": {},
     "output_type": "execute_result"
    }
   ],
   "source": [
    "func.__name__"
   ]
  },
  {
   "cell_type": "code",
   "execution_count": 41,
   "id": "aa2b3bbf-377a-407f-ac27-6ed02fcb0c70",
   "metadata": {},
   "outputs": [
    {
     "data": {
      "text/plain": [
       "['__annotations__',\n",
       " '__call__',\n",
       " '__class__',\n",
       " '__closure__',\n",
       " '__code__',\n",
       " '__defaults__',\n",
       " '__delattr__',\n",
       " '__dict__',\n",
       " '__dir__',\n",
       " '__doc__',\n",
       " '__eq__',\n",
       " '__format__',\n",
       " '__ge__',\n",
       " '__get__',\n",
       " '__getattribute__',\n",
       " '__globals__',\n",
       " '__gt__',\n",
       " '__hash__',\n",
       " '__init__',\n",
       " '__init_subclass__',\n",
       " '__kwdefaults__',\n",
       " '__le__',\n",
       " '__lt__',\n",
       " '__module__',\n",
       " '__name__',\n",
       " '__ne__',\n",
       " '__new__',\n",
       " '__qualname__',\n",
       " '__reduce__',\n",
       " '__reduce_ex__',\n",
       " '__repr__',\n",
       " '__setattr__',\n",
       " '__sizeof__',\n",
       " '__str__',\n",
       " '__subclasshook__']"
      ]
     },
     "execution_count": 41,
     "metadata": {},
     "output_type": "execute_result"
    }
   ],
   "source": [
    "dir(func)"
   ]
  },
  {
   "cell_type": "code",
   "execution_count": 42,
   "id": "05c7f487-1aa4-4d84-b7d3-05437dad97a3",
   "metadata": {},
   "outputs": [
    {
     "data": {
      "text/plain": [
       "<code object func at 0x000001A685F183A0, file \"C:\\Users\\admin\\AppData\\Local\\Temp\\ipykernel_7604\\2301207932.py\", line 1>"
      ]
     },
     "execution_count": 42,
     "metadata": {},
     "output_type": "execute_result"
    }
   ],
   "source": [
    "func.__code__"
   ]
  },
  {
   "cell_type": "code",
   "execution_count": 43,
   "id": "f0597cf7-f350-4636-825c-9b7250486e4f",
   "metadata": {},
   "outputs": [
    {
     "data": {
      "text/plain": [
       "['__class__',\n",
       " '__delattr__',\n",
       " '__dir__',\n",
       " '__doc__',\n",
       " '__eq__',\n",
       " '__format__',\n",
       " '__ge__',\n",
       " '__getattribute__',\n",
       " '__gt__',\n",
       " '__hash__',\n",
       " '__init__',\n",
       " '__init_subclass__',\n",
       " '__le__',\n",
       " '__lt__',\n",
       " '__ne__',\n",
       " '__new__',\n",
       " '__reduce__',\n",
       " '__reduce_ex__',\n",
       " '__repr__',\n",
       " '__setattr__',\n",
       " '__sizeof__',\n",
       " '__str__',\n",
       " '__subclasshook__',\n",
       " 'co_argcount',\n",
       " 'co_cellvars',\n",
       " 'co_code',\n",
       " 'co_consts',\n",
       " 'co_filename',\n",
       " 'co_firstlineno',\n",
       " 'co_flags',\n",
       " 'co_freevars',\n",
       " 'co_kwonlyargcount',\n",
       " 'co_lnotab',\n",
       " 'co_name',\n",
       " 'co_names',\n",
       " 'co_nlocals',\n",
       " 'co_posonlyargcount',\n",
       " 'co_stacksize',\n",
       " 'co_varnames',\n",
       " 'replace']"
      ]
     },
     "execution_count": 43,
     "metadata": {},
     "output_type": "execute_result"
    }
   ],
   "source": [
    "dir(func.__code__)"
   ]
  },
  {
   "cell_type": "code",
   "execution_count": 44,
   "id": "73cd1301-fbd2-4af7-b1af-40b90c8ebef0",
   "metadata": {},
   "outputs": [
    {
     "data": {
      "text/plain": [
       "('a', 'b')"
      ]
     },
     "execution_count": 44,
     "metadata": {},
     "output_type": "execute_result"
    }
   ],
   "source": [
    "func.__code__.co_varnames"
   ]
  },
  {
   "cell_type": "code",
   "execution_count": 45,
   "id": "8d8ca1ec-29d3-4b8d-83fc-bd96f03ef7a7",
   "metadata": {},
   "outputs": [
    {
     "data": {
      "text/plain": [
       "1"
      ]
     },
     "execution_count": 45,
     "metadata": {},
     "output_type": "execute_result"
    }
   ],
   "source": [
    "func.__code__.co_argcount"
   ]
  },
  {
   "cell_type": "code",
   "execution_count": 46,
   "id": "50a61ffe-cf4d-47ee-877f-a5e8c28b6c89",
   "metadata": {},
   "outputs": [
    {
     "data": {
      "text/plain": [
       "<function __main__.func(a)>"
      ]
     },
     "execution_count": 46,
     "metadata": {},
     "output_type": "execute_result"
    }
   ],
   "source": [
    "func"
   ]
  },
  {
   "cell_type": "code",
   "execution_count": 47,
   "id": "ecd7a24b-8756-4672-ac84-d91cd22f55ff",
   "metadata": {},
   "outputs": [],
   "source": [
    "func.count = 0"
   ]
  },
  {
   "cell_type": "code",
   "execution_count": 48,
   "id": "352552a6-51cb-4359-a1a9-425831e5563c",
   "metadata": {},
   "outputs": [],
   "source": [
    "func.count += 1"
   ]
  },
  {
   "cell_type": "code",
   "execution_count": 49,
   "id": "01749855-dc91-44e7-bbe1-7c3fc1d1a8ef",
   "metadata": {},
   "outputs": [
    {
     "data": {
      "text/plain": [
       "1"
      ]
     },
     "execution_count": 49,
     "metadata": {},
     "output_type": "execute_result"
    }
   ],
   "source": [
    "func.count"
   ]
  },
  {
   "cell_type": "code",
   "execution_count": 50,
   "id": "4b8b6cf5-128d-4c3c-a5f0-2f22425b3442",
   "metadata": {},
   "outputs": [],
   "source": [
    "func.handles = 'Button-Press'"
   ]
  },
  {
   "cell_type": "code",
   "execution_count": 51,
   "id": "0f6eb2eb-098c-47be-8b9a-a3bf39ed5591",
   "metadata": {},
   "outputs": [
    {
     "data": {
      "text/plain": [
       "'Button-Press'"
      ]
     },
     "execution_count": 51,
     "metadata": {},
     "output_type": "execute_result"
    }
   ],
   "source": [
    "func.handles"
   ]
  },
  {
   "cell_type": "code",
   "execution_count": 52,
   "id": "0550d0f8-4822-4c93-b50d-0e78cb7e7a9e",
   "metadata": {},
   "outputs": [
    {
     "data": {
      "text/plain": [
       "['__annotations__',\n",
       " '__call__',\n",
       " '__class__',\n",
       " '__closure__',\n",
       " '__code__',\n",
       " '__defaults__',\n",
       " '__delattr__',\n",
       " '__dict__',\n",
       " '__dir__',\n",
       " '__doc__',\n",
       " '__eq__',\n",
       " '__format__',\n",
       " '__ge__',\n",
       " '__get__',\n",
       " '__getattribute__',\n",
       " '__globals__',\n",
       " '__gt__',\n",
       " '__hash__',\n",
       " '__init__',\n",
       " '__init_subclass__',\n",
       " '__kwdefaults__',\n",
       " '__le__',\n",
       " '__lt__',\n",
       " '__module__',\n",
       " '__name__',\n",
       " '__ne__',\n",
       " '__new__',\n",
       " '__qualname__',\n",
       " '__reduce__',\n",
       " '__reduce_ex__',\n",
       " '__repr__',\n",
       " '__setattr__',\n",
       " '__sizeof__',\n",
       " '__str__',\n",
       " '__subclasshook__',\n",
       " 'count',\n",
       " 'handles']"
      ]
     },
     "execution_count": 52,
     "metadata": {},
     "output_type": "execute_result"
    }
   ],
   "source": [
    "dir(func)"
   ]
  },
  {
   "cell_type": "code",
   "execution_count": 53,
   "id": "95115477-6e00-49b6-b940-6c1460ec6904",
   "metadata": {},
   "outputs": [],
   "source": [
    "def func(a, b, c):\n",
    "    return a+b+c"
   ]
  },
  {
   "cell_type": "code",
   "execution_count": 54,
   "id": "32bf7e5c-5bc6-42ae-9e5c-75edb61ea60d",
   "metadata": {},
   "outputs": [
    {
     "data": {
      "text/plain": [
       "6"
      ]
     },
     "execution_count": 54,
     "metadata": {},
     "output_type": "execute_result"
    }
   ],
   "source": [
    "func(1, 2, 3)"
   ]
  },
  {
   "cell_type": "code",
   "execution_count": 55,
   "id": "0ca00975-4842-4022-aee9-25f71f069c51",
   "metadata": {},
   "outputs": [],
   "source": [
    "def func(a:'spam', b:(1,10), c:float) -> int:\n",
    "    return a + b + c"
   ]
  },
  {
   "cell_type": "code",
   "execution_count": 56,
   "id": "5aee6b8b-217c-447a-91d0-4221ac244192",
   "metadata": {},
   "outputs": [
    {
     "data": {
      "text/plain": [
       "6"
      ]
     },
     "execution_count": 56,
     "metadata": {},
     "output_type": "execute_result"
    }
   ],
   "source": [
    "func(1,2,3)"
   ]
  },
  {
   "cell_type": "code",
   "execution_count": 57,
   "id": "268347c0-ae15-43f8-962a-d1272ac8922b",
   "metadata": {},
   "outputs": [
    {
     "data": {
      "text/plain": [
       "{'a': 'spam', 'b': (1, 10), 'c': float, 'return': int}"
      ]
     },
     "execution_count": 57,
     "metadata": {},
     "output_type": "execute_result"
    }
   ],
   "source": [
    "func.__annotations__"
   ]
  },
  {
   "cell_type": "code",
   "execution_count": 58,
   "id": "e11522d8-8259-4578-8e06-46e556af6d2f",
   "metadata": {},
   "outputs": [],
   "source": [
    "def func(a:'spam', b, c:99):\n",
    "    return a+b+c"
   ]
  },
  {
   "cell_type": "code",
   "execution_count": 59,
   "id": "db14725d-47c8-4458-826c-961c2fac6ff2",
   "metadata": {},
   "outputs": [
    {
     "data": {
      "text/plain": [
       "6"
      ]
     },
     "execution_count": 59,
     "metadata": {},
     "output_type": "execute_result"
    }
   ],
   "source": [
    "func(1,2,3)"
   ]
  },
  {
   "cell_type": "code",
   "execution_count": 60,
   "id": "32456e9b-cc4f-46ee-8995-0d32c9b0ee4e",
   "metadata": {},
   "outputs": [
    {
     "data": {
      "text/plain": [
       "{'a': 'spam', 'c': 99}"
      ]
     },
     "execution_count": 60,
     "metadata": {},
     "output_type": "execute_result"
    }
   ],
   "source": [
    "func.__annotations__"
   ]
  },
  {
   "cell_type": "code",
   "execution_count": 61,
   "id": "88a69c54-964e-4b24-aa11-ca011f5c4062",
   "metadata": {},
   "outputs": [
    {
     "name": "stdout",
     "output_type": "stream",
     "text": [
      "a => spam\n",
      "c => 99\n"
     ]
    }
   ],
   "source": [
    "for arg in func.__annotations__:\n",
    "    print(arg, '=>', func.__annotations__[arg])"
   ]
  },
  {
   "cell_type": "code",
   "execution_count": 63,
   "id": "1db58780-02a2-4434-be54-38c8b7d4ef12",
   "metadata": {},
   "outputs": [],
   "source": [
    "def func(a:'spam'=4, b:(1,10)=5, c:float=6) -> int:\n",
    "    return a+b+c"
   ]
  },
  {
   "cell_type": "code",
   "execution_count": 64,
   "id": "5b612693-b79d-44b8-9a0e-929938f76fb6",
   "metadata": {},
   "outputs": [
    {
     "data": {
      "text/plain": [
       "6"
      ]
     },
     "execution_count": 64,
     "metadata": {},
     "output_type": "execute_result"
    }
   ],
   "source": [
    "func(1, 2, 3)"
   ]
  },
  {
   "cell_type": "code",
   "execution_count": 65,
   "id": "5ba0ab9d-8f89-44a6-8691-41c095bc3d2a",
   "metadata": {},
   "outputs": [
    {
     "data": {
      "text/plain": [
       "15"
      ]
     },
     "execution_count": 65,
     "metadata": {},
     "output_type": "execute_result"
    }
   ],
   "source": [
    "func()"
   ]
  },
  {
   "cell_type": "code",
   "execution_count": 66,
   "id": "077e7cae-9eea-43ac-b246-a0389e25b7ea",
   "metadata": {},
   "outputs": [
    {
     "data": {
      "text/plain": [
       "16"
      ]
     },
     "execution_count": 66,
     "metadata": {},
     "output_type": "execute_result"
    }
   ],
   "source": [
    "func(1, c=10)"
   ]
  },
  {
   "cell_type": "code",
   "execution_count": 67,
   "id": "961b908a-f60f-4057-ab80-66c1c21629ca",
   "metadata": {},
   "outputs": [
    {
     "data": {
      "text/plain": [
       "{'a': 'spam', 'b': (1, 10), 'c': float, 'return': int}"
      ]
     },
     "execution_count": 67,
     "metadata": {},
     "output_type": "execute_result"
    }
   ],
   "source": [
    "func.__annotations__"
   ]
  },
  {
   "cell_type": "code",
   "execution_count": 68,
   "id": "5a8ff461-5c74-4e31-9aff-3620ae4ec1c3",
   "metadata": {},
   "outputs": [],
   "source": [
    "def func(x, y, z): return x + y + z"
   ]
  },
  {
   "cell_type": "code",
   "execution_count": 69,
   "id": "dd6cf2f8-9e08-4af0-9533-c76c8cd266ac",
   "metadata": {},
   "outputs": [
    {
     "data": {
      "text/plain": [
       "9"
      ]
     },
     "execution_count": 69,
     "metadata": {},
     "output_type": "execute_result"
    }
   ],
   "source": [
    "func(2, 3, 4)"
   ]
  },
  {
   "cell_type": "code",
   "execution_count": 70,
   "id": "02a7ec33-6268-4dd1-a49e-8a0364657a5c",
   "metadata": {},
   "outputs": [],
   "source": [
    "f = lambda x, y, z: x + y + z"
   ]
  },
  {
   "cell_type": "code",
   "execution_count": 71,
   "id": "f5c92ac2-1e9f-4291-b89a-65297b72d559",
   "metadata": {},
   "outputs": [
    {
     "data": {
      "text/plain": [
       "9"
      ]
     },
     "execution_count": 71,
     "metadata": {},
     "output_type": "execute_result"
    }
   ],
   "source": [
    "f(2, 3, 4)"
   ]
  },
  {
   "cell_type": "code",
   "execution_count": 73,
   "id": "dc7ee6b9-09a7-4e9c-9b97-94a1c3a86937",
   "metadata": {},
   "outputs": [],
   "source": [
    "x = (lambda a='fee', b='fie', c='foe': a+ b+ c)"
   ]
  },
  {
   "cell_type": "code",
   "execution_count": 74,
   "id": "be383ce6-47fc-403c-8c0d-d91e73774d7d",
   "metadata": {},
   "outputs": [
    {
     "data": {
      "text/plain": [
       "'weefiefoe'"
      ]
     },
     "execution_count": 74,
     "metadata": {},
     "output_type": "execute_result"
    }
   ],
   "source": [
    "x('wee')"
   ]
  },
  {
   "cell_type": "code",
   "execution_count": 75,
   "id": "ed18251a-cc61-4476-a040-899593e66659",
   "metadata": {},
   "outputs": [
    {
     "data": {
      "text/plain": [
       "<function __main__.<lambda>(a='fee', b='fie', c='foe')>"
      ]
     },
     "execution_count": 75,
     "metadata": {},
     "output_type": "execute_result"
    }
   ],
   "source": [
    "x"
   ]
  },
  {
   "cell_type": "code",
   "execution_count": 76,
   "id": "7ec92112-7caf-4863-8e73-6801ca6a9994",
   "metadata": {},
   "outputs": [],
   "source": [
    "def knights():\n",
    "    title = 'Sir'\n",
    "    action = (lambda x: title + ' ' + x)\n",
    "    return action"
   ]
  },
  {
   "cell_type": "code",
   "execution_count": 77,
   "id": "ca1182f0-5d5c-4dc9-87f9-bacdf046d13e",
   "metadata": {},
   "outputs": [],
   "source": [
    "act = knights()"
   ]
  },
  {
   "cell_type": "code",
   "execution_count": 78,
   "id": "62f8e98e-de58-40db-be90-4334ddc43dee",
   "metadata": {},
   "outputs": [],
   "source": [
    "msg = act('robin')"
   ]
  },
  {
   "cell_type": "code",
   "execution_count": 79,
   "id": "6aee75f5-6b07-4573-a78b-751f65f38cd9",
   "metadata": {},
   "outputs": [
    {
     "data": {
      "text/plain": [
       "'Sir robin'"
      ]
     },
     "execution_count": 79,
     "metadata": {},
     "output_type": "execute_result"
    }
   ],
   "source": [
    "msg"
   ]
  },
  {
   "cell_type": "code",
   "execution_count": 80,
   "id": "87823eb0-313f-46f6-83b7-3b8c29294c2f",
   "metadata": {},
   "outputs": [],
   "source": [
    "L = [lambda x: x**2,\n",
    "     lambda x: x**3,\n",
    "     lambda x: x**4]"
   ]
  },
  {
   "cell_type": "code",
   "execution_count": 81,
   "id": "88e1f14c-3259-4528-82c8-6b7dc6a5a70d",
   "metadata": {},
   "outputs": [
    {
     "name": "stdout",
     "output_type": "stream",
     "text": [
      "4\n",
      "8\n",
      "16\n"
     ]
    }
   ],
   "source": [
    "for f in L:\n",
    "    print(f(2))"
   ]
  },
  {
   "cell_type": "code",
   "execution_count": 82,
   "id": "778948fd-f4b0-4f27-bc71-7de4bd7a9062",
   "metadata": {},
   "outputs": [
    {
     "name": "stdout",
     "output_type": "stream",
     "text": [
      "9\n"
     ]
    }
   ],
   "source": [
    "print(L[0](3))"
   ]
  },
  {
   "cell_type": "code",
   "execution_count": 83,
   "id": "97cdea00-753f-48ac-8b8f-b4b9acee7c33",
   "metadata": {},
   "outputs": [],
   "source": [
    "def f1(x): return x**2"
   ]
  },
  {
   "cell_type": "code",
   "execution_count": 84,
   "id": "b2ecad20-0ed5-475e-b3f9-bb0501a8cb6c",
   "metadata": {},
   "outputs": [],
   "source": [
    "def f2(x): return x**3"
   ]
  },
  {
   "cell_type": "code",
   "execution_count": 85,
   "id": "1ce23015-efc0-4b56-b718-de73cb04c87a",
   "metadata": {},
   "outputs": [],
   "source": [
    "def f3(x): return x**4"
   ]
  },
  {
   "cell_type": "code",
   "execution_count": 86,
   "id": "893a1df8-8095-4d22-b717-bb830b406e11",
   "metadata": {},
   "outputs": [],
   "source": [
    "L = [f1, f2, f3]"
   ]
  },
  {
   "cell_type": "code",
   "execution_count": 87,
   "id": "2070031d-0a81-46c5-bf25-4404916e77ee",
   "metadata": {},
   "outputs": [
    {
     "name": "stdout",
     "output_type": "stream",
     "text": [
      "4\n",
      "8\n",
      "16\n"
     ]
    }
   ],
   "source": [
    "for f in L:\n",
    "    print(f(2))"
   ]
  },
  {
   "cell_type": "code",
   "execution_count": 88,
   "id": "bf0d5c9b-2ece-4223-90f7-03d9e714ae16",
   "metadata": {},
   "outputs": [
    {
     "name": "stdout",
     "output_type": "stream",
     "text": [
      "9\n"
     ]
    }
   ],
   "source": [
    "print(L[0](3))"
   ]
  },
  {
   "cell_type": "code",
   "execution_count": 89,
   "id": "f5be4d3d-a022-460e-98d8-dd56c700b9a5",
   "metadata": {},
   "outputs": [],
   "source": [
    "key = 'got'"
   ]
  },
  {
   "cell_type": "code",
   "execution_count": 90,
   "id": "a8b99a1f-5de2-4401-9264-3fdc12a963bc",
   "metadata": {},
   "outputs": [
    {
     "data": {
      "text/plain": [
       "8"
      ]
     },
     "execution_count": 90,
     "metadata": {},
     "output_type": "execute_result"
    }
   ],
   "source": [
    "{'already': (lambda: 2+2),\n",
    " 'got': (lambda: 2*4),\n",
    " 'one': (lambda: 2**6)}[key]()"
   ]
  },
  {
   "cell_type": "code",
   "execution_count": 91,
   "id": "97762881-4512-4e06-b60e-a36ace643af8",
   "metadata": {},
   "outputs": [],
   "source": [
    "lower = (lambda x, y: x if x<y else y)"
   ]
  },
  {
   "cell_type": "code",
   "execution_count": 92,
   "id": "365e3eff-763c-4f5d-b155-b04f0b1d4a92",
   "metadata": {},
   "outputs": [
    {
     "data": {
      "text/plain": [
       "'aa'"
      ]
     },
     "execution_count": 92,
     "metadata": {},
     "output_type": "execute_result"
    }
   ],
   "source": [
    "lower('bb', 'aa')"
   ]
  },
  {
   "cell_type": "code",
   "execution_count": 93,
   "id": "7a00a27a-e3bd-45d2-90a5-5b5a1f2f9c6b",
   "metadata": {},
   "outputs": [
    {
     "data": {
      "text/plain": [
       "'aa'"
      ]
     },
     "execution_count": 93,
     "metadata": {},
     "output_type": "execute_result"
    }
   ],
   "source": [
    "lower('aa', 'bb')"
   ]
  },
  {
   "cell_type": "code",
   "execution_count": 94,
   "id": "2eddf569-cfe8-428a-96bb-a42b358e2c2d",
   "metadata": {},
   "outputs": [],
   "source": [
    "import sys"
   ]
  },
  {
   "cell_type": "code",
   "execution_count": 95,
   "id": "c91572cc-5d8d-466d-a926-0dbffbd6a4aa",
   "metadata": {},
   "outputs": [],
   "source": [
    "showall = lambda x: list(map(sys.stdout.write, x))"
   ]
  },
  {
   "cell_type": "code",
   "execution_count": 96,
   "id": "e66156e5-f3e8-4353-becb-7789e743fa49",
   "metadata": {},
   "outputs": [
    {
     "name": "stdout",
     "output_type": "stream",
     "text": [
      "spam\n",
      "toast\n",
      "eggs\n"
     ]
    }
   ],
   "source": [
    "t = showall(['spam\\n', 'toast\\n', 'eggs\\n'])"
   ]
  },
  {
   "cell_type": "code",
   "execution_count": 97,
   "id": "da88bdc0-d3d1-4acb-91f2-264b43fd0996",
   "metadata": {},
   "outputs": [],
   "source": [
    "def action(x):\n",
    "    return (lambda y: x+y)"
   ]
  },
  {
   "cell_type": "code",
   "execution_count": 99,
   "id": "914188c4-d80a-43c0-a916-86e7b94e0b21",
   "metadata": {},
   "outputs": [],
   "source": [
    "act = action(99)"
   ]
  },
  {
   "cell_type": "code",
   "execution_count": 100,
   "id": "77e6bfaa-be24-462f-9690-3f42e83a32e2",
   "metadata": {},
   "outputs": [
    {
     "data": {
      "text/plain": [
       "<function __main__.action.<locals>.<lambda>(y)>"
      ]
     },
     "execution_count": 100,
     "metadata": {},
     "output_type": "execute_result"
    }
   ],
   "source": [
    "act"
   ]
  },
  {
   "cell_type": "code",
   "execution_count": 101,
   "id": "e0ca74d1-dc62-4a11-8992-e1c2479568b0",
   "metadata": {},
   "outputs": [
    {
     "data": {
      "text/plain": [
       "101"
      ]
     },
     "execution_count": 101,
     "metadata": {},
     "output_type": "execute_result"
    }
   ],
   "source": [
    "act(2)"
   ]
  },
  {
   "cell_type": "code",
   "execution_count": 102,
   "id": "3bb394ff-c7d7-4712-8484-65ec18fba1e2",
   "metadata": {},
   "outputs": [],
   "source": [
    "action = (lambda x: (lambda y: x+y))"
   ]
  },
  {
   "cell_type": "code",
   "execution_count": 103,
   "id": "a43aec36-8d85-4db2-a3c8-540d4e9833e5",
   "metadata": {},
   "outputs": [],
   "source": [
    "act = action(99)"
   ]
  },
  {
   "cell_type": "code",
   "execution_count": 104,
   "id": "a1b520e9-b09b-42e6-8c15-4c57d67ff293",
   "metadata": {},
   "outputs": [
    {
     "data": {
      "text/plain": [
       "102"
      ]
     },
     "execution_count": 104,
     "metadata": {},
     "output_type": "execute_result"
    }
   ],
   "source": [
    "act(3)"
   ]
  },
  {
   "cell_type": "code",
   "execution_count": 105,
   "id": "7fc113c6-0adb-4ca4-bad3-6494344b98a2",
   "metadata": {},
   "outputs": [
    {
     "data": {
      "text/plain": [
       "103"
      ]
     },
     "execution_count": 105,
     "metadata": {},
     "output_type": "execute_result"
    }
   ],
   "source": [
    "((lambda x: (lambda y: x+y))(99))(4)"
   ]
  },
  {
   "cell_type": "code",
   "execution_count": 106,
   "id": "7f46a326-4464-4f61-948e-221854bbfa3b",
   "metadata": {},
   "outputs": [],
   "source": [
    "counters = [1, 2, 3, 4]"
   ]
  },
  {
   "cell_type": "code",
   "execution_count": 107,
   "id": "a94f0700-e21d-4ed9-b9af-64ba434d43ec",
   "metadata": {},
   "outputs": [],
   "source": [
    "updated = []"
   ]
  },
  {
   "cell_type": "code",
   "execution_count": 108,
   "id": "1bd39fb6-2261-4ed6-a48f-4aa48a568ffa",
   "metadata": {},
   "outputs": [],
   "source": [
    "for x in counters:\n",
    "    updated.append(x +10)"
   ]
  },
  {
   "cell_type": "code",
   "execution_count": 109,
   "id": "3ff1441d-d663-4952-a09c-d69e5eb02e21",
   "metadata": {},
   "outputs": [
    {
     "data": {
      "text/plain": [
       "[11, 12, 13, 14]"
      ]
     },
     "execution_count": 109,
     "metadata": {},
     "output_type": "execute_result"
    }
   ],
   "source": [
    "updated"
   ]
  },
  {
   "cell_type": "code",
   "execution_count": 110,
   "id": "fbb62e07-b8ec-44f4-8190-1841f449f2a5",
   "metadata": {},
   "outputs": [],
   "source": [
    "def inc(x): return x+10"
   ]
  },
  {
   "cell_type": "code",
   "execution_count": 111,
   "id": "fb5eb0aa-1b95-42e9-8827-7a34ad638c42",
   "metadata": {},
   "outputs": [
    {
     "data": {
      "text/plain": [
       "[11, 12, 13, 14]"
      ]
     },
     "execution_count": 111,
     "metadata": {},
     "output_type": "execute_result"
    }
   ],
   "source": [
    "list(map(inc, counters))"
   ]
  },
  {
   "cell_type": "code",
   "execution_count": 112,
   "id": "99450f8d-165d-4d92-a10c-138c8d42a0d5",
   "metadata": {},
   "outputs": [
    {
     "data": {
      "text/plain": [
       "[4, 5, 6, 7]"
      ]
     },
     "execution_count": 112,
     "metadata": {},
     "output_type": "execute_result"
    }
   ],
   "source": [
    "list(map((lambda x: x+3), counters))"
   ]
  },
  {
   "cell_type": "code",
   "execution_count": 113,
   "id": "8c7b03dd-cf1a-489b-b14f-e05a0c7e84aa",
   "metadata": {},
   "outputs": [],
   "source": [
    "def mymap(func, seq):\n",
    "    res = []\n",
    "    for x in seq: res.append(func(x))\n",
    "    return res"
   ]
  },
  {
   "cell_type": "code",
   "execution_count": 114,
   "id": "3fb59d22-0ba3-4128-b74e-e111765a42f6",
   "metadata": {},
   "outputs": [
    {
     "data": {
      "text/plain": [
       "[11, 12, 13]"
      ]
     },
     "execution_count": 114,
     "metadata": {},
     "output_type": "execute_result"
    }
   ],
   "source": [
    "list(map(inc, [1, 2, 3]))"
   ]
  },
  {
   "cell_type": "code",
   "execution_count": 115,
   "id": "56f2f47f-07e3-43d4-b369-3f2232424acc",
   "metadata": {},
   "outputs": [
    {
     "data": {
      "text/plain": [
       "81"
      ]
     },
     "execution_count": 115,
     "metadata": {},
     "output_type": "execute_result"
    }
   ],
   "source": [
    "pow(3, 4)"
   ]
  },
  {
   "cell_type": "code",
   "execution_count": 116,
   "id": "901b88ca-876d-47cc-905c-5e52049b59ce",
   "metadata": {},
   "outputs": [
    {
     "name": "stdout",
     "output_type": "stream",
     "text": [
      "Help on built-in function pow in module builtins:\n",
      "\n",
      "pow(base, exp, mod=None)\n",
      "    Equivalent to base**exp with 2 arguments or base**exp % mod with 3 arguments\n",
      "    \n",
      "    Some types, such as ints, are able to use a more efficient algorithm when\n",
      "    invoked using the three argument form.\n",
      "\n"
     ]
    }
   ],
   "source": [
    "help(pow)"
   ]
  },
  {
   "cell_type": "code",
   "execution_count": 117,
   "id": "7aee33e8-df0c-41dd-881b-b04213b3be82",
   "metadata": {},
   "outputs": [
    {
     "data": {
      "text/plain": [
       "[1, 8, 81]"
      ]
     },
     "execution_count": 117,
     "metadata": {},
     "output_type": "execute_result"
    }
   ],
   "source": [
    "list(map(pow, [1, 2, 3], [2, 3, 4]))"
   ]
  },
  {
   "cell_type": "code",
   "execution_count": 118,
   "id": "539198fc-1b87-4d05-bf10-00a14d72bcac",
   "metadata": {},
   "outputs": [
    {
     "data": {
      "text/plain": [
       "[-5, -4, -3, -2, -1, 0, 1, 2, 3, 4]"
      ]
     },
     "execution_count": 118,
     "metadata": {},
     "output_type": "execute_result"
    }
   ],
   "source": [
    "list(range(-5, 5))"
   ]
  },
  {
   "cell_type": "code",
   "execution_count": 119,
   "id": "8b2803ab-5fb0-431b-bc55-9f8e755887fd",
   "metadata": {},
   "outputs": [
    {
     "data": {
      "text/plain": [
       "[1, 2, 3, 4]"
      ]
     },
     "execution_count": 119,
     "metadata": {},
     "output_type": "execute_result"
    }
   ],
   "source": [
    "list(filter((lambda x: x>0), range(-5,5)))"
   ]
  },
  {
   "cell_type": "code",
   "execution_count": 120,
   "id": "4b647b11-35a3-49cc-bf73-e2ba265f423b",
   "metadata": {},
   "outputs": [],
   "source": [
    "res = []"
   ]
  },
  {
   "cell_type": "code",
   "execution_count": 121,
   "id": "a3b8839e-5a26-4368-9517-b8dbaf4ef985",
   "metadata": {},
   "outputs": [],
   "source": [
    "for x in range(-5, 5):\n",
    "    if x > 0:\n",
    "        res.append(x)"
   ]
  },
  {
   "cell_type": "code",
   "execution_count": 122,
   "id": "ae0be5da-37d1-4445-b351-cbae14eff49b",
   "metadata": {},
   "outputs": [
    {
     "data": {
      "text/plain": [
       "[1, 2, 3, 4]"
      ]
     },
     "execution_count": 122,
     "metadata": {},
     "output_type": "execute_result"
    }
   ],
   "source": [
    "res"
   ]
  },
  {
   "cell_type": "code",
   "execution_count": 123,
   "id": "ff2c9415-c405-407d-9d6e-35d5f5ed1c7e",
   "metadata": {},
   "outputs": [
    {
     "data": {
      "text/plain": [
       "[1, 2, 3, 4]"
      ]
     },
     "execution_count": 123,
     "metadata": {},
     "output_type": "execute_result"
    }
   ],
   "source": [
    "[x for x in range(-5, 5) if x>0]"
   ]
  },
  {
   "cell_type": "code",
   "execution_count": 124,
   "id": "482804b9-13c4-4ed5-974c-b93ea21e8178",
   "metadata": {},
   "outputs": [],
   "source": [
    "from functools import reduce"
   ]
  },
  {
   "cell_type": "code",
   "execution_count": 125,
   "id": "e947abde-ae57-4936-9880-b4494ecb4591",
   "metadata": {},
   "outputs": [
    {
     "data": {
      "text/plain": [
       "10"
      ]
     },
     "execution_count": 125,
     "metadata": {},
     "output_type": "execute_result"
    }
   ],
   "source": [
    "reduce((lambda x, y: x+y), [1, 2, 3, 4])"
   ]
  },
  {
   "cell_type": "code",
   "execution_count": 126,
   "id": "2f624e3a-6682-4944-9735-756469eb309e",
   "metadata": {},
   "outputs": [
    {
     "name": "stdout",
     "output_type": "stream",
     "text": [
      "Help on built-in function reduce in module _functools:\n",
      "\n",
      "reduce(...)\n",
      "    reduce(function, sequence[, initial]) -> value\n",
      "    \n",
      "    Apply a function of two arguments cumulatively to the items of a sequence,\n",
      "    from left to right, so as to reduce the sequence to a single value.\n",
      "    For example, reduce(lambda x, y: x+y, [1, 2, 3, 4, 5]) calculates\n",
      "    ((((1+2)+3)+4)+5).  If initial is present, it is placed before the items\n",
      "    of the sequence in the calculation, and serves as a default when the\n",
      "    sequence is empty.\n",
      "\n"
     ]
    }
   ],
   "source": [
    "help(reduce)"
   ]
  },
  {
   "cell_type": "code",
   "execution_count": 127,
   "id": "879c8c8a-9474-48ed-82e5-31c455ebcf8f",
   "metadata": {},
   "outputs": [
    {
     "data": {
      "text/plain": [
       "24"
      ]
     },
     "execution_count": 127,
     "metadata": {},
     "output_type": "execute_result"
    }
   ],
   "source": [
    "reduce((lambda x, y: x*y), [1, 2, 3, 4])"
   ]
  },
  {
   "cell_type": "code",
   "execution_count": 128,
   "id": "c0d6da84-4140-4d71-8e1f-47b3a6988b89",
   "metadata": {},
   "outputs": [],
   "source": [
    "L = [1, 2, 3, 4]\n",
    "res = L[0]\n",
    "for x in L[1:]:\n",
    "    res = res + x"
   ]
  },
  {
   "cell_type": "code",
   "execution_count": 129,
   "id": "37cdc718-fae0-4520-be60-a969ce3607a4",
   "metadata": {},
   "outputs": [
    {
     "data": {
      "text/plain": [
       "10"
      ]
     },
     "execution_count": 129,
     "metadata": {},
     "output_type": "execute_result"
    }
   ],
   "source": [
    "res"
   ]
  },
  {
   "cell_type": "code",
   "execution_count": 130,
   "id": "72628bdd-3e9e-4114-bc44-b7b296c17fe7",
   "metadata": {},
   "outputs": [],
   "source": [
    "def myreduce(function, sequence):\n",
    "    tally = sequence[0]\n",
    "    for next in sequence[1:]:\n",
    "        tally = function(tally, next)\n",
    "    return tally"
   ]
  },
  {
   "cell_type": "code",
   "execution_count": 131,
   "id": "b0230cf6-2a2f-4348-99b3-313bc52a1dd8",
   "metadata": {},
   "outputs": [
    {
     "data": {
      "text/plain": [
       "15"
      ]
     },
     "execution_count": 131,
     "metadata": {},
     "output_type": "execute_result"
    }
   ],
   "source": [
    "myreduce((lambda x, y: x+y), [1,2,3,4,5])"
   ]
  },
  {
   "cell_type": "code",
   "execution_count": 132,
   "id": "2fc47e44-fdaf-4681-885f-52f83b9fa06a",
   "metadata": {},
   "outputs": [],
   "source": [
    "import operator, functools"
   ]
  },
  {
   "cell_type": "code",
   "execution_count": 133,
   "id": "d8b5deaa-0064-4c9a-8f9d-72c661bd9932",
   "metadata": {},
   "outputs": [
    {
     "data": {
      "text/plain": [
       "12"
      ]
     },
     "execution_count": 133,
     "metadata": {},
     "output_type": "execute_result"
    }
   ],
   "source": [
    "functools.reduce(operator.add, [2, 4, 6])"
   ]
  },
  {
   "cell_type": "code",
   "execution_count": 134,
   "id": "7e3606ca-76eb-4d9a-bcb3-955bfdfc1dc3",
   "metadata": {},
   "outputs": [
    {
     "data": {
      "text/plain": [
       "12"
      ]
     },
     "execution_count": 134,
     "metadata": {},
     "output_type": "execute_result"
    }
   ],
   "source": [
    "functools.reduce((lambda x, y: x+y), [2, 4, 6])"
   ]
  },
  {
   "cell_type": "code",
   "execution_count": null,
   "id": "2cd2556d-246c-4db9-9c24-706961ed23bd",
   "metadata": {},
   "outputs": [],
   "source": []
  }
 ],
 "metadata": {
  "kernelspec": {
   "display_name": "Python 3 (ipykernel)",
   "language": "python",
   "name": "python3"
  },
  "language_info": {
   "codemirror_mode": {
    "name": "ipython",
    "version": 3
   },
   "file_extension": ".py",
   "mimetype": "text/x-python",
   "name": "python",
   "nbconvert_exporter": "python",
   "pygments_lexer": "ipython3",
   "version": "3.9.13"
  }
 },
 "nbformat": 4,
 "nbformat_minor": 5
}
