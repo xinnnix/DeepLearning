{
 "cells": [
  {
   "cell_type": "code",
   "execution_count": 4,
   "id": "3bd47ec5-e233-4130-b869-68129d78984f",
   "metadata": {},
   "outputs": [],
   "source": [
    "import time\n",
    "def timer(func, *args):\n",
    "    start = time.time()\n",
    "    for i in range(1000):\n",
    "        func(*args)\n",
    "    return time.time() - start"
   ]
  },
  {
   "cell_type": "code",
   "execution_count": 5,
   "id": "0dda0f9f-e94b-4366-b9b7-86f8ac09c57d",
   "metadata": {},
   "outputs": [
    {
     "data": {
      "text/plain": [
       "0.0005040168762207031"
      ]
     },
     "execution_count": 5,
     "metadata": {},
     "output_type": "execute_result"
    }
   ],
   "source": [
    "timer(pow, 2, 1000)"
   ]
  },
  {
   "cell_type": "code",
   "execution_count": 7,
   "id": "6d6c6647-926c-4613-85c0-7c6c0eb17458",
   "metadata": {},
   "outputs": [
    {
     "data": {
      "text/plain": [
       "0.0"
      ]
     },
     "execution_count": 7,
     "metadata": {},
     "output_type": "execute_result"
    }
   ],
   "source": [
    "timer(str.upper, 'spam')"
   ]
  },
  {
   "cell_type": "code",
   "execution_count": null,
   "id": "87008aa4-5c80-4441-ac3e-d7fc7ef54833",
   "metadata": {},
   "outputs": [],
   "source": []
  }
 ],
 "metadata": {
  "kernelspec": {
   "display_name": "Python 3 (ipykernel)",
   "language": "python",
   "name": "python3"
  },
  "language_info": {
   "codemirror_mode": {
    "name": "ipython",
    "version": 3
   },
   "file_extension": ".py",
   "mimetype": "text/x-python",
   "name": "python",
   "nbconvert_exporter": "python",
   "pygments_lexer": "ipython3",
   "version": "3.9.13"
  }
 },
 "nbformat": 4,
 "nbformat_minor": 5
}
