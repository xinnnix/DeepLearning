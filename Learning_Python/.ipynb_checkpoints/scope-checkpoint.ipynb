{
 "cells": [
  {
   "cell_type": "code",
   "execution_count": 2,
   "id": "097182b5-6633-4a58-995b-86e22d02c2ac",
   "metadata": {},
   "outputs": [],
   "source": [
    "x = 99"
   ]
  },
  {
   "cell_type": "code",
   "execution_count": 4,
   "id": "b79ce975-3450-4ab1-b039-afe4abd8dada",
   "metadata": {},
   "outputs": [],
   "source": [
    "def func(y):\n",
    "    # local scope\n",
    "    z = x + y\n",
    "    return z"
   ]
  },
  {
   "cell_type": "code",
   "execution_count": 5,
   "id": "3d0b5d44-cccb-4825-b23c-bdc53898bbcb",
   "metadata": {},
   "outputs": [
    {
     "data": {
      "text/plain": [
       "100"
      ]
     },
     "execution_count": 5,
     "metadata": {},
     "output_type": "execute_result"
    }
   ],
   "source": [
    "func(1)"
   ]
  },
  {
   "cell_type": "code",
   "execution_count": 6,
   "id": "cbbc7665-a8d9-4e59-ba94-5619a5433c0b",
   "metadata": {},
   "outputs": [],
   "source": [
    "import builtins"
   ]
  },
  {
   "cell_type": "code",
   "execution_count": 7,
   "id": "98d0a35a-776e-4db0-932d-95a75974fadb",
   "metadata": {
    "scrolled": true,
    "tags": []
   },
   "outputs": [
    {
     "data": {
      "text/plain": [
       "['ArithmeticError',\n",
       " 'AssertionError',\n",
       " 'AttributeError',\n",
       " 'BaseException',\n",
       " 'BlockingIOError',\n",
       " 'BrokenPipeError',\n",
       " 'BufferError',\n",
       " 'BytesWarning',\n",
       " 'ChildProcessError',\n",
       " 'ConnectionAbortedError',\n",
       " 'ConnectionError',\n",
       " 'ConnectionRefusedError',\n",
       " 'ConnectionResetError',\n",
       " 'DeprecationWarning',\n",
       " 'EOFError',\n",
       " 'Ellipsis',\n",
       " 'EnvironmentError',\n",
       " 'Exception',\n",
       " 'False',\n",
       " 'FileExistsError',\n",
       " 'FileNotFoundError',\n",
       " 'FloatingPointError',\n",
       " 'FutureWarning',\n",
       " 'GeneratorExit',\n",
       " 'IOError',\n",
       " 'ImportError',\n",
       " 'ImportWarning',\n",
       " 'IndentationError',\n",
       " 'IndexError',\n",
       " 'InterruptedError',\n",
       " 'IsADirectoryError',\n",
       " 'KeyError',\n",
       " 'KeyboardInterrupt',\n",
       " 'LookupError',\n",
       " 'MemoryError',\n",
       " 'ModuleNotFoundError',\n",
       " 'NameError',\n",
       " 'None',\n",
       " 'NotADirectoryError',\n",
       " 'NotImplemented',\n",
       " 'NotImplementedError',\n",
       " 'OSError',\n",
       " 'OverflowError',\n",
       " 'PendingDeprecationWarning',\n",
       " 'PermissionError',\n",
       " 'ProcessLookupError',\n",
       " 'RecursionError',\n",
       " 'ReferenceError',\n",
       " 'ResourceWarning',\n",
       " 'RuntimeError',\n",
       " 'RuntimeWarning',\n",
       " 'StopAsyncIteration',\n",
       " 'StopIteration',\n",
       " 'SyntaxError',\n",
       " 'SyntaxWarning',\n",
       " 'SystemError',\n",
       " 'SystemExit',\n",
       " 'TabError',\n",
       " 'TimeoutError',\n",
       " 'True',\n",
       " 'TypeError',\n",
       " 'UnboundLocalError',\n",
       " 'UnicodeDecodeError',\n",
       " 'UnicodeEncodeError',\n",
       " 'UnicodeError',\n",
       " 'UnicodeTranslateError',\n",
       " 'UnicodeWarning',\n",
       " 'UserWarning',\n",
       " 'ValueError',\n",
       " 'Warning',\n",
       " 'WindowsError',\n",
       " 'ZeroDivisionError',\n",
       " '__IPYTHON__',\n",
       " '__build_class__',\n",
       " '__debug__',\n",
       " '__doc__',\n",
       " '__import__',\n",
       " '__loader__',\n",
       " '__name__',\n",
       " '__package__',\n",
       " '__spec__',\n",
       " 'abs',\n",
       " 'all',\n",
       " 'any',\n",
       " 'ascii',\n",
       " 'bin',\n",
       " 'bool',\n",
       " 'breakpoint',\n",
       " 'bytearray',\n",
       " 'bytes',\n",
       " 'callable',\n",
       " 'chr',\n",
       " 'classmethod',\n",
       " 'compile',\n",
       " 'complex',\n",
       " 'copyright',\n",
       " 'credits',\n",
       " 'delattr',\n",
       " 'dict',\n",
       " 'dir',\n",
       " 'display',\n",
       " 'divmod',\n",
       " 'enumerate',\n",
       " 'eval',\n",
       " 'exec',\n",
       " 'execfile',\n",
       " 'filter',\n",
       " 'float',\n",
       " 'format',\n",
       " 'frozenset',\n",
       " 'get_ipython',\n",
       " 'getattr',\n",
       " 'globals',\n",
       " 'hasattr',\n",
       " 'hash',\n",
       " 'help',\n",
       " 'hex',\n",
       " 'id',\n",
       " 'input',\n",
       " 'int',\n",
       " 'isinstance',\n",
       " 'issubclass',\n",
       " 'iter',\n",
       " 'len',\n",
       " 'license',\n",
       " 'list',\n",
       " 'locals',\n",
       " 'map',\n",
       " 'max',\n",
       " 'memoryview',\n",
       " 'min',\n",
       " 'next',\n",
       " 'object',\n",
       " 'oct',\n",
       " 'open',\n",
       " 'ord',\n",
       " 'pow',\n",
       " 'print',\n",
       " 'property',\n",
       " 'range',\n",
       " 'repr',\n",
       " 'reversed',\n",
       " 'round',\n",
       " 'runfile',\n",
       " 'set',\n",
       " 'setattr',\n",
       " 'slice',\n",
       " 'sorted',\n",
       " 'staticmethod',\n",
       " 'str',\n",
       " 'sum',\n",
       " 'super',\n",
       " 'tuple',\n",
       " 'type',\n",
       " 'vars',\n",
       " 'zip']"
      ]
     },
     "execution_count": 7,
     "metadata": {},
     "output_type": "execute_result"
    }
   ],
   "source": [
    "dir(builtins)"
   ]
  },
  {
   "cell_type": "code",
   "execution_count": 8,
   "id": "a3bf1cd7-1738-4ab6-b85b-b1c2ff642400",
   "metadata": {},
   "outputs": [
    {
     "data": {
      "text/plain": [
       "zip"
      ]
     },
     "execution_count": 8,
     "metadata": {},
     "output_type": "execute_result"
    }
   ],
   "source": [
    "zip"
   ]
  },
  {
   "cell_type": "code",
   "execution_count": 9,
   "id": "38eecf9c-894b-4917-831d-082e48dff999",
   "metadata": {},
   "outputs": [],
   "source": [
    "import builtins"
   ]
  },
  {
   "cell_type": "code",
   "execution_count": 10,
   "id": "f2ce6400-2bef-4b98-9164-b67ea8c2a97d",
   "metadata": {},
   "outputs": [
    {
     "data": {
      "text/plain": [
       "zip"
      ]
     },
     "execution_count": 10,
     "metadata": {},
     "output_type": "execute_result"
    }
   ],
   "source": [
    "builtins.zip"
   ]
  },
  {
   "cell_type": "code",
   "execution_count": 11,
   "id": "bbccf174-a092-4e83-887f-5aec6883bf52",
   "metadata": {},
   "outputs": [
    {
     "data": {
      "text/plain": [
       "True"
      ]
     },
     "execution_count": 11,
     "metadata": {},
     "output_type": "execute_result"
    }
   ],
   "source": [
    "zip is builtins.zip"
   ]
  },
  {
   "cell_type": "code",
   "execution_count": 12,
   "id": "4f22942e-419e-4832-81ed-ff53ced2fb91",
   "metadata": {},
   "outputs": [],
   "source": [
    "x = 88"
   ]
  },
  {
   "cell_type": "code",
   "execution_count": 14,
   "id": "bc66a10f-dafa-4beb-88a6-4dd307476f00",
   "metadata": {},
   "outputs": [],
   "source": [
    "def func():\n",
    "    global x\n",
    "    x = 99"
   ]
  },
  {
   "cell_type": "code",
   "execution_count": 15,
   "id": "06d56f3a-4f2e-4e56-8a6e-d66a32d66c47",
   "metadata": {},
   "outputs": [],
   "source": [
    "func()"
   ]
  },
  {
   "cell_type": "code",
   "execution_count": 16,
   "id": "77211e31-aa85-43eb-ad9a-b6a2d14e41f2",
   "metadata": {},
   "outputs": [
    {
     "name": "stdout",
     "output_type": "stream",
     "text": [
      "99\n"
     ]
    }
   ],
   "source": [
    "print(x)"
   ]
  },
  {
   "cell_type": "code",
   "execution_count": 17,
   "id": "5fa4c71f-5101-4e3d-801b-c62f82213f60",
   "metadata": {},
   "outputs": [],
   "source": [
    "y, z = 1, 2"
   ]
  },
  {
   "cell_type": "code",
   "execution_count": 18,
   "id": "4d92b88c-f630-4f77-ad55-55fe0ea97c88",
   "metadata": {},
   "outputs": [],
   "source": [
    "def all_global():\n",
    "    global x\n",
    "    x = y + z"
   ]
  },
  {
   "cell_type": "code",
   "execution_count": 24,
   "id": "925b8a6a-536e-42db-bfd7-6afc7e195ef4",
   "metadata": {},
   "outputs": [],
   "source": [
    "x = 99"
   ]
  },
  {
   "cell_type": "code",
   "execution_count": 25,
   "id": "51714cb2-b412-4c2c-bf03-4e61602c81e1",
   "metadata": {},
   "outputs": [],
   "source": [
    "def f1():\n",
    "    x = 88\n",
    "    def f2():\n",
    "        print(x)\n",
    "    f2()\n"
   ]
  },
  {
   "cell_type": "code",
   "execution_count": 26,
   "id": "0116d056-8c41-43ed-912f-4a9e1cd4aa2f",
   "metadata": {},
   "outputs": [
    {
     "name": "stdout",
     "output_type": "stream",
     "text": [
      "88\n"
     ]
    }
   ],
   "source": [
    "f1()"
   ]
  },
  {
   "cell_type": "code",
   "execution_count": 27,
   "id": "6124a5dd-404e-4e2b-98d5-4c6d72eb71c6",
   "metadata": {},
   "outputs": [],
   "source": [
    "def f1():\n",
    "    x = 88\n",
    "    def f2():\n",
    "        print(x)\n",
    "    return f2"
   ]
  },
  {
   "cell_type": "code",
   "execution_count": 28,
   "id": "a611ae11-bf01-4a90-b6df-b05d26b1748e",
   "metadata": {},
   "outputs": [],
   "source": [
    "action = f1()"
   ]
  },
  {
   "cell_type": "code",
   "execution_count": 29,
   "id": "c63105ee-6079-4ac7-a961-01adeb19ddb3",
   "metadata": {},
   "outputs": [
    {
     "data": {
      "text/plain": [
       "<function __main__.f1.<locals>.f2()>"
      ]
     },
     "execution_count": 29,
     "metadata": {},
     "output_type": "execute_result"
    }
   ],
   "source": [
    "action"
   ]
  },
  {
   "cell_type": "code",
   "execution_count": 30,
   "id": "17aebb95-ee22-40fc-822e-6b271ccdb4cc",
   "metadata": {},
   "outputs": [
    {
     "name": "stdout",
     "output_type": "stream",
     "text": [
      "88\n"
     ]
    }
   ],
   "source": [
    "action()"
   ]
  },
  {
   "cell_type": "code",
   "execution_count": 31,
   "id": "d87fd5e0-c02b-4347-a73c-88d56d167883",
   "metadata": {},
   "outputs": [],
   "source": [
    "def marker(N):\n",
    "    def action(X):\n",
    "        return X ** N\n",
    "    return action"
   ]
  },
  {
   "cell_type": "code",
   "execution_count": 32,
   "id": "2668a94a-201c-4095-a87a-bb1208bea104",
   "metadata": {},
   "outputs": [],
   "source": [
    "f = marker(2)"
   ]
  },
  {
   "cell_type": "code",
   "execution_count": 33,
   "id": "8edf42d1-1b4c-43f3-b26b-522041300e3c",
   "metadata": {},
   "outputs": [
    {
     "data": {
      "text/plain": [
       "<function __main__.marker.<locals>.action(X)>"
      ]
     },
     "execution_count": 33,
     "metadata": {},
     "output_type": "execute_result"
    }
   ],
   "source": [
    "f"
   ]
  },
  {
   "cell_type": "code",
   "execution_count": 34,
   "id": "34035264-519c-4bed-8e1d-9b28383f8634",
   "metadata": {},
   "outputs": [
    {
     "data": {
      "text/plain": [
       "9"
      ]
     },
     "execution_count": 34,
     "metadata": {},
     "output_type": "execute_result"
    }
   ],
   "source": [
    "f(3)"
   ]
  },
  {
   "cell_type": "code",
   "execution_count": 35,
   "id": "37bd6eff-1988-4739-be2f-8473333536c6",
   "metadata": {},
   "outputs": [
    {
     "data": {
      "text/plain": [
       "16"
      ]
     },
     "execution_count": 35,
     "metadata": {},
     "output_type": "execute_result"
    }
   ],
   "source": [
    "f(4)"
   ]
  },
  {
   "cell_type": "code",
   "execution_count": 36,
   "id": "ea099074-79df-4f0f-a070-ae1f2eee6f84",
   "metadata": {},
   "outputs": [],
   "source": [
    "g = marker(3)"
   ]
  },
  {
   "cell_type": "code",
   "execution_count": 37,
   "id": "5b064d82-7a83-4349-978a-d10adcb7f1cc",
   "metadata": {},
   "outputs": [
    {
     "data": {
      "text/plain": [
       "64"
      ]
     },
     "execution_count": 37,
     "metadata": {},
     "output_type": "execute_result"
    }
   ],
   "source": [
    "g(4)"
   ]
  },
  {
   "cell_type": "code",
   "execution_count": 38,
   "id": "e46dcb42-9cf1-4454-b82c-ae195fdd859a",
   "metadata": {},
   "outputs": [
    {
     "data": {
      "text/plain": [
       "16"
      ]
     },
     "execution_count": 38,
     "metadata": {},
     "output_type": "execute_result"
    }
   ],
   "source": [
    "f(4)"
   ]
  },
  {
   "cell_type": "code",
   "execution_count": 39,
   "id": "2dcbb09d-a354-42b0-8396-548ad5ced39a",
   "metadata": {},
   "outputs": [],
   "source": [
    "def maker(N):\n",
    "    return lambda X: X**N"
   ]
  },
  {
   "cell_type": "code",
   "execution_count": 40,
   "id": "fca56309-165f-4e08-bc07-04a5d1173783",
   "metadata": {},
   "outputs": [],
   "source": [
    "h = maker(3)"
   ]
  },
  {
   "cell_type": "code",
   "execution_count": 41,
   "id": "a60c4844-432c-4ef9-9b94-7574ca23732f",
   "metadata": {},
   "outputs": [
    {
     "data": {
      "text/plain": [
       "64"
      ]
     },
     "execution_count": 41,
     "metadata": {},
     "output_type": "execute_result"
    }
   ],
   "source": [
    "h(4)"
   ]
  },
  {
   "cell_type": "code",
   "execution_count": 42,
   "id": "b27f6a36-e1e3-4258-b33b-baf3f662ca71",
   "metadata": {},
   "outputs": [],
   "source": [
    "def f1():\n",
    "    x = 88\n",
    "    def f2(x=x):\n",
    "        print(x)\n",
    "    f2()"
   ]
  },
  {
   "cell_type": "code",
   "execution_count": 43,
   "id": "bd910ad5-37ad-4caa-a760-eecb8ac1b055",
   "metadata": {},
   "outputs": [
    {
     "name": "stdout",
     "output_type": "stream",
     "text": [
      "88\n"
     ]
    }
   ],
   "source": [
    "f1()"
   ]
  },
  {
   "cell_type": "code",
   "execution_count": 44,
   "id": "c3767003-1bd0-42f3-955c-682a69b07210",
   "metadata": {},
   "outputs": [],
   "source": [
    "def makeActions():\n",
    "    acts = []\n",
    "    for i in range(5):\n",
    "        acts.append(lambda x: i ** x)\n",
    "    return acts"
   ]
  },
  {
   "cell_type": "code",
   "execution_count": 45,
   "id": "542311e5-c0a9-43ab-b635-5e07c567194a",
   "metadata": {},
   "outputs": [],
   "source": [
    "acts = makeActions()"
   ]
  },
  {
   "cell_type": "code",
   "execution_count": 46,
   "id": "af91ebc8-d5ab-4e6d-90ef-c9933cca7192",
   "metadata": {},
   "outputs": [
    {
     "data": {
      "text/plain": [
       "<function __main__.makeActions.<locals>.<lambda>(x)>"
      ]
     },
     "execution_count": 46,
     "metadata": {},
     "output_type": "execute_result"
    }
   ],
   "source": [
    "acts[0]"
   ]
  },
  {
   "cell_type": "code",
   "execution_count": 47,
   "id": "8a6e2d15-9679-487d-95b5-3087df9ca2d7",
   "metadata": {},
   "outputs": [
    {
     "data": {
      "text/plain": [
       "16"
      ]
     },
     "execution_count": 47,
     "metadata": {},
     "output_type": "execute_result"
    }
   ],
   "source": [
    "acts[0](2)"
   ]
  },
  {
   "cell_type": "code",
   "execution_count": 48,
   "id": "04f3081e-312b-465c-8b84-2ad2fe53dba3",
   "metadata": {},
   "outputs": [
    {
     "data": {
      "text/plain": [
       "16"
      ]
     },
     "execution_count": 48,
     "metadata": {},
     "output_type": "execute_result"
    }
   ],
   "source": [
    "acts[1](2)"
   ]
  },
  {
   "cell_type": "code",
   "execution_count": 49,
   "id": "fb5b5e42-81f4-4348-8be5-00e90aeb9833",
   "metadata": {},
   "outputs": [],
   "source": [
    "def makeActions():\n",
    "    acts = []\n",
    "    for i in range(5):\n",
    "        acts.append(lambda x, i=i: i ** x)\n",
    "    return acts"
   ]
  },
  {
   "cell_type": "code",
   "execution_count": 50,
   "id": "c7e07c2a-359b-4983-a449-d5bdbe375025",
   "metadata": {},
   "outputs": [],
   "source": [
    "acts = makeActions()"
   ]
  },
  {
   "cell_type": "code",
   "execution_count": 51,
   "id": "5bc92a27-cfc2-445a-a57b-f4b2b67a5601",
   "metadata": {},
   "outputs": [
    {
     "data": {
      "text/plain": [
       "0"
      ]
     },
     "execution_count": 51,
     "metadata": {},
     "output_type": "execute_result"
    }
   ],
   "source": [
    "acts[0](2)"
   ]
  },
  {
   "cell_type": "code",
   "execution_count": 52,
   "id": "93915b22-760c-43b2-b945-759844e8d1cd",
   "metadata": {},
   "outputs": [
    {
     "data": {
      "text/plain": [
       "1"
      ]
     },
     "execution_count": 52,
     "metadata": {},
     "output_type": "execute_result"
    }
   ],
   "source": [
    "acts[1](2)"
   ]
  },
  {
   "cell_type": "code",
   "execution_count": 53,
   "id": "5d2f6014-581f-44e9-9dc6-c63f73f4f3d7",
   "metadata": {},
   "outputs": [
    {
     "data": {
      "text/plain": [
       "4"
      ]
     },
     "execution_count": 53,
     "metadata": {},
     "output_type": "execute_result"
    }
   ],
   "source": [
    "acts[2](2)"
   ]
  },
  {
   "cell_type": "code",
   "execution_count": 54,
   "id": "d0d3f068-ceb4-469a-b58e-442b5682cad6",
   "metadata": {},
   "outputs": [
    {
     "data": {
      "text/plain": [
       "16"
      ]
     },
     "execution_count": 54,
     "metadata": {},
     "output_type": "execute_result"
    }
   ],
   "source": [
    "acts[4](2)"
   ]
  },
  {
   "cell_type": "code",
   "execution_count": 55,
   "id": "54ec7eb1-ae15-48f3-977b-599c49ce8738",
   "metadata": {},
   "outputs": [],
   "source": [
    "def f1():\n",
    "    x = 99\n",
    "    def f2():\n",
    "        def f3():\n",
    "            print(x)\n",
    "        f3()\n",
    "    f2()"
   ]
  },
  {
   "cell_type": "code",
   "execution_count": 56,
   "id": "52ef5c54-5c38-46e9-bf7b-0ff315032085",
   "metadata": {},
   "outputs": [
    {
     "name": "stdout",
     "output_type": "stream",
     "text": [
      "99\n"
     ]
    }
   ],
   "source": [
    "f1()"
   ]
  },
  {
   "cell_type": "code",
   "execution_count": null,
   "id": "542e54fe-6756-45ee-8628-51f74e7a8d57",
   "metadata": {},
   "outputs": [],
   "source": []
  }
 ],
 "metadata": {
  "kernelspec": {
   "display_name": "Python 3 (ipykernel)",
   "language": "python",
   "name": "python3"
  },
  "language_info": {
   "codemirror_mode": {
    "name": "ipython",
    "version": 3
   },
   "file_extension": ".py",
   "mimetype": "text/x-python",
   "name": "python",
   "nbconvert_exporter": "python",
   "pygments_lexer": "ipython3",
   "version": "3.9.13"
  }
 },
 "nbformat": 4,
 "nbformat_minor": 5
}
