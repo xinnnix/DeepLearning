{
 "cells": [
  {
   "cell_type": "code",
   "execution_count": 1,
   "id": "1444adec-03cd-493c-b9a9-071721f88bd0",
   "metadata": {},
   "outputs": [
    {
     "data": {
      "text/plain": [
       "115"
      ]
     },
     "execution_count": 1,
     "metadata": {},
     "output_type": "execute_result"
    }
   ],
   "source": [
    "ord('s')"
   ]
  },
  {
   "cell_type": "code",
   "execution_count": 2,
   "id": "6d3e941e-5388-4e6f-9a29-f0fc40fe69f7",
   "metadata": {},
   "outputs": [],
   "source": [
    "res = []\n",
    "for x in 'spam':\n",
    "    res.append(ord(x))"
   ]
  },
  {
   "cell_type": "code",
   "execution_count": 3,
   "id": "e7803a3f-5a45-4fae-8ba0-91867ee2fa51",
   "metadata": {},
   "outputs": [
    {
     "data": {
      "text/plain": [
       "[115, 112, 97, 109]"
      ]
     },
     "execution_count": 3,
     "metadata": {},
     "output_type": "execute_result"
    }
   ],
   "source": [
    "res"
   ]
  },
  {
   "cell_type": "code",
   "execution_count": 4,
   "id": "a433e98b-9d22-405f-9c19-5c1f42ad8e83",
   "metadata": {},
   "outputs": [],
   "source": [
    "res = list(map(ord, 'spam'))"
   ]
  },
  {
   "cell_type": "code",
   "execution_count": 5,
   "id": "96d946ab-04d9-45d6-bac1-04a2edb03da6",
   "metadata": {},
   "outputs": [
    {
     "data": {
      "text/plain": [
       "[115, 112, 97, 109]"
      ]
     },
     "execution_count": 5,
     "metadata": {},
     "output_type": "execute_result"
    }
   ],
   "source": [
    "res"
   ]
  },
  {
   "cell_type": "code",
   "execution_count": 6,
   "id": "08a7784a-a073-464e-9419-100f96562dcb",
   "metadata": {},
   "outputs": [],
   "source": [
    "res = [ord(x) for x in 'spam']"
   ]
  },
  {
   "cell_type": "code",
   "execution_count": 7,
   "id": "8dcf0eeb-d0db-4202-bb17-0470dde5f550",
   "metadata": {},
   "outputs": [
    {
     "data": {
      "text/plain": [
       "[115, 112, 97, 109]"
      ]
     },
     "execution_count": 7,
     "metadata": {},
     "output_type": "execute_result"
    }
   ],
   "source": [
    "res"
   ]
  },
  {
   "cell_type": "code",
   "execution_count": 8,
   "id": "4ae8b98f-7327-41ec-bc65-a840342d37f6",
   "metadata": {},
   "outputs": [
    {
     "data": {
      "text/plain": [
       "[0, 1, 4, 9, 16, 25, 36, 49, 64, 81]"
      ]
     },
     "execution_count": 8,
     "metadata": {},
     "output_type": "execute_result"
    }
   ],
   "source": [
    "[x ** 2 for x in range(10)]"
   ]
  },
  {
   "cell_type": "code",
   "execution_count": 9,
   "id": "b04bb730-6178-49b7-8f91-c23e1d084d44",
   "metadata": {},
   "outputs": [
    {
     "data": {
      "text/plain": [
       "[0, 1, 4, 9, 16, 25, 36, 49, 64, 81]"
      ]
     },
     "execution_count": 9,
     "metadata": {},
     "output_type": "execute_result"
    }
   ],
   "source": [
    "list(map((lambda x: x**2), range(10)))"
   ]
  },
  {
   "cell_type": "code",
   "execution_count": 10,
   "id": "1686ea34-32ea-47a3-9912-a35683cf0ab9",
   "metadata": {},
   "outputs": [
    {
     "data": {
      "text/plain": [
       "[0, 2, 4]"
      ]
     },
     "execution_count": 10,
     "metadata": {},
     "output_type": "execute_result"
    }
   ],
   "source": [
    "[x for x in range(5) if x % 2 == 0]"
   ]
  },
  {
   "cell_type": "code",
   "execution_count": 11,
   "id": "e92fac7d-be9b-4762-859d-e306a9f04152",
   "metadata": {},
   "outputs": [
    {
     "data": {
      "text/plain": [
       "[0, 2, 4]"
      ]
     },
     "execution_count": 11,
     "metadata": {},
     "output_type": "execute_result"
    }
   ],
   "source": [
    "list(filter((lambda x: x % 2 ==0), range(5)))"
   ]
  },
  {
   "cell_type": "code",
   "execution_count": 12,
   "id": "04cde2a0-daeb-4d10-895a-13e44d969d67",
   "metadata": {},
   "outputs": [
    {
     "data": {
      "text/plain": [
       "[0, 2, 4]"
      ]
     },
     "execution_count": 12,
     "metadata": {},
     "output_type": "execute_result"
    }
   ],
   "source": [
    "res = []\n",
    "for x in range(5):\n",
    "    if x%2 == 0:\n",
    "        res.append(x)\n",
    "res"
   ]
  },
  {
   "cell_type": "code",
   "execution_count": 13,
   "id": "99dc34ed-8df4-4e29-91c0-9ac8ffe881a6",
   "metadata": {},
   "outputs": [
    {
     "data": {
      "text/plain": [
       "[0, 4, 16, 36, 64]"
      ]
     },
     "execution_count": 13,
     "metadata": {},
     "output_type": "execute_result"
    }
   ],
   "source": [
    "[x ** 2 for x in range(10) if x % 2 == 0]"
   ]
  },
  {
   "cell_type": "code",
   "execution_count": 14,
   "id": "2ea427ba-1e30-4d3f-802a-0222f186297d",
   "metadata": {},
   "outputs": [
    {
     "data": {
      "text/plain": [
       "[0, 4, 16, 36, 64]"
      ]
     },
     "execution_count": 14,
     "metadata": {},
     "output_type": "execute_result"
    }
   ],
   "source": [
    "list(map((lambda x: x**2), filter((lambda x: x%2==0), range(10))))"
   ]
  },
  {
   "cell_type": "code",
   "execution_count": 15,
   "id": "9d7a6f89-0d86-47f8-86f5-5aec1f7e0db2",
   "metadata": {},
   "outputs": [],
   "source": [
    "res = [x + y for x in [0, 1, 2] for y in [100, 200, 300]]"
   ]
  },
  {
   "cell_type": "code",
   "execution_count": 16,
   "id": "39dc5f26-5137-47c6-8ad4-6670044ebe49",
   "metadata": {},
   "outputs": [
    {
     "data": {
      "text/plain": [
       "[100, 200, 300, 101, 201, 301, 102, 202, 302]"
      ]
     },
     "execution_count": 16,
     "metadata": {},
     "output_type": "execute_result"
    }
   ],
   "source": [
    "res"
   ]
  },
  {
   "cell_type": "code",
   "execution_count": 17,
   "id": "60843e85-b355-4715-b1e8-fe5b9834493c",
   "metadata": {},
   "outputs": [
    {
     "data": {
      "text/plain": [
       "['sS',\n",
       " 'sP',\n",
       " 'sA',\n",
       " 'sM',\n",
       " 'pS',\n",
       " 'pP',\n",
       " 'pA',\n",
       " 'pM',\n",
       " 'aS',\n",
       " 'aP',\n",
       " 'aA',\n",
       " 'aM',\n",
       " 'mS',\n",
       " 'mP',\n",
       " 'mA',\n",
       " 'mM']"
      ]
     },
     "execution_count": 17,
     "metadata": {},
     "output_type": "execute_result"
    }
   ],
   "source": [
    "[x + y for x in 'spam' for y in 'SPAM']"
   ]
  },
  {
   "cell_type": "code",
   "execution_count": 18,
   "id": "dbf37fdb-892e-4f95-965a-ed2d9202ff6a",
   "metadata": {},
   "outputs": [
    {
     "data": {
      "text/plain": [
       "['sP', 'sA', 'mP', 'mA']"
      ]
     },
     "execution_count": 18,
     "metadata": {},
     "output_type": "execute_result"
    }
   ],
   "source": [
    "[x + y for x in 'spam' if x in 'sm' for y in 'SPAM' if y in ('P', 'A')]"
   ]
  },
  {
   "cell_type": "code",
   "execution_count": 19,
   "id": "e80cfd1c-f9ae-480b-8d1b-d299ca780c9e",
   "metadata": {},
   "outputs": [
    {
     "data": {
      "text/plain": [
       "['sP2', 'sP3', 'sA2', 'sA3', 'mP2', 'mP3', 'mA2', 'mA3']"
      ]
     },
     "execution_count": 19,
     "metadata": {},
     "output_type": "execute_result"
    }
   ],
   "source": [
    "[x + y + z for x in 'spam' if x in 'sm'\n",
    "           for y in 'SPAM' if y in ('P', 'A')\n",
    "           for z in '123' if z > '1']"
   ]
  },
  {
   "cell_type": "code",
   "execution_count": 20,
   "id": "23a20db5-3fc9-43c0-934c-bc7fc5947080",
   "metadata": {},
   "outputs": [
    {
     "data": {
      "text/plain": [
       "[(0, 1), (0, 3), (2, 1), (2, 3), (4, 1), (4, 3)]"
      ]
     },
     "execution_count": 20,
     "metadata": {},
     "output_type": "execute_result"
    }
   ],
   "source": [
    "[(x, y) for x in range(5) if x % 2 == 0 for y in range(5) if y % 2 == 1]"
   ]
  },
  {
   "cell_type": "code",
   "execution_count": 21,
   "id": "85772ba0-add4-4077-9248-0afbb31e7302",
   "metadata": {},
   "outputs": [],
   "source": [
    "M = [[1, 2, 3],\n",
    "     [4, 5, 6],\n",
    "     [7, 8, 9]]"
   ]
  },
  {
   "cell_type": "code",
   "execution_count": 22,
   "id": "0bf69966-f6fd-4087-bf8d-51bfdbaaebf7",
   "metadata": {},
   "outputs": [],
   "source": [
    "N = [[2, 2, 2],\n",
    "     [3, 3, 3],\n",
    "     [4, 4, 4]]"
   ]
  },
  {
   "cell_type": "code",
   "execution_count": 23,
   "id": "615e81f7-01a2-4db5-bd08-951abe6307c6",
   "metadata": {},
   "outputs": [
    {
     "data": {
      "text/plain": [
       "[4, 5, 6]"
      ]
     },
     "execution_count": 23,
     "metadata": {},
     "output_type": "execute_result"
    }
   ],
   "source": [
    "M[1]"
   ]
  },
  {
   "cell_type": "code",
   "execution_count": 24,
   "id": "0878bab6-fcb8-41a8-bd06-d8cf432093c9",
   "metadata": {},
   "outputs": [
    {
     "data": {
      "text/plain": [
       "6"
      ]
     },
     "execution_count": 24,
     "metadata": {},
     "output_type": "execute_result"
    }
   ],
   "source": [
    "M[1][2]"
   ]
  },
  {
   "cell_type": "code",
   "execution_count": 25,
   "id": "7da99502-9dc2-4bae-addc-1963800f1417",
   "metadata": {},
   "outputs": [
    {
     "data": {
      "text/plain": [
       "[2, 5, 8]"
      ]
     },
     "execution_count": 25,
     "metadata": {},
     "output_type": "execute_result"
    }
   ],
   "source": [
    "[row[1] for row in M]"
   ]
  },
  {
   "cell_type": "code",
   "execution_count": 26,
   "id": "eabc9915-0ec2-4bda-b986-72f34499803b",
   "metadata": {},
   "outputs": [
    {
     "data": {
      "text/plain": [
       "[2, 5, 8]"
      ]
     },
     "execution_count": 26,
     "metadata": {},
     "output_type": "execute_result"
    }
   ],
   "source": [
    "[M[row][1] for row in (0, 1, 2)]"
   ]
  },
  {
   "cell_type": "code",
   "execution_count": 27,
   "id": "edebbc96-78c5-41aa-ba76-5d8595fb753e",
   "metadata": {},
   "outputs": [
    {
     "data": {
      "text/plain": [
       "[1, 5, 9]"
      ]
     },
     "execution_count": 27,
     "metadata": {},
     "output_type": "execute_result"
    }
   ],
   "source": [
    "[M[i][i] for i in range(len(M))]"
   ]
  },
  {
   "cell_type": "code",
   "execution_count": 28,
   "id": "cff5bc9e-c302-4055-9537-110775c4034e",
   "metadata": {},
   "outputs": [
    {
     "data": {
      "text/plain": [
       "[3, 5, 7]"
      ]
     },
     "execution_count": 28,
     "metadata": {},
     "output_type": "execute_result"
    }
   ],
   "source": [
    "[M[i][len(M)-1-i] for i in range(len(M))]"
   ]
  },
  {
   "cell_type": "code",
   "execution_count": 29,
   "id": "c65a0231-2fcf-43d3-a656-2eca531a55e8",
   "metadata": {},
   "outputs": [],
   "source": [
    "L = [[1, 2, 3], [4, 5, 6]]"
   ]
  },
  {
   "cell_type": "code",
   "execution_count": 30,
   "id": "a8a516d6-c8a2-41d6-be03-5beb87a7f786",
   "metadata": {},
   "outputs": [],
   "source": [
    "for i in range(len(L)):\n",
    "    for j in range(len(L[i])):\n",
    "        L[i][j] += 10"
   ]
  },
  {
   "cell_type": "code",
   "execution_count": 31,
   "id": "57bf46f5-7235-4f41-a460-c491101f3db7",
   "metadata": {},
   "outputs": [
    {
     "data": {
      "text/plain": [
       "[[11, 12, 13], [14, 15, 16]]"
      ]
     },
     "execution_count": 31,
     "metadata": {},
     "output_type": "execute_result"
    }
   ],
   "source": [
    "L"
   ]
  },
  {
   "cell_type": "code",
   "execution_count": 32,
   "id": "503d43c8-d790-46ef-a652-7efcb598c523",
   "metadata": {},
   "outputs": [
    {
     "data": {
      "text/plain": [
       "[11, 12, 13, 14, 15, 16, 17, 18, 19]"
      ]
     },
     "execution_count": 32,
     "metadata": {},
     "output_type": "execute_result"
    }
   ],
   "source": [
    "[col + 10 for row in M for col in row]"
   ]
  },
  {
   "cell_type": "code",
   "execution_count": 33,
   "id": "29002bd5-3b61-4000-82e2-ed8322e0f78f",
   "metadata": {},
   "outputs": [
    {
     "data": {
      "text/plain": [
       "[[11, 12, 13], [14, 15, 16], [17, 18, 19]]"
      ]
     },
     "execution_count": 33,
     "metadata": {},
     "output_type": "execute_result"
    }
   ],
   "source": [
    "[[col + 10 for col in row] for row in M]"
   ]
  },
  {
   "cell_type": "code",
   "execution_count": 34,
   "id": "c0907cf8-dd9f-41d0-9d64-25b7293a5bd8",
   "metadata": {},
   "outputs": [
    {
     "data": {
      "text/plain": [
       "[11, 12, 13, 14, 15, 16, 17, 18, 19]"
      ]
     },
     "execution_count": 34,
     "metadata": {},
     "output_type": "execute_result"
    }
   ],
   "source": [
    "res = []\n",
    "for row in M:\n",
    "    for col in row:\n",
    "        res.append(col+10)\n",
    "res"
   ]
  },
  {
   "cell_type": "code",
   "execution_count": 35,
   "id": "d58268db-e6fc-4a15-bc01-b52d1a641d9b",
   "metadata": {},
   "outputs": [
    {
     "data": {
      "text/plain": [
       "[[11, 12, 13], [14, 15, 16], [17, 18, 19]]"
      ]
     },
     "execution_count": 35,
     "metadata": {},
     "output_type": "execute_result"
    }
   ],
   "source": [
    "res = []\n",
    "for row in M:\n",
    "    tmp = []\n",
    "    for col in row:\n",
    "        tmp.append(col+10)\n",
    "    res.append(tmp)\n",
    "res"
   ]
  },
  {
   "cell_type": "code",
   "execution_count": 36,
   "id": "e935fcbc-254a-4012-9037-d2e50aded239",
   "metadata": {},
   "outputs": [
    {
     "data": {
      "text/plain": [
       "[[1, 2, 3], [4, 5, 6], [7, 8, 9]]"
      ]
     },
     "execution_count": 36,
     "metadata": {},
     "output_type": "execute_result"
    }
   ],
   "source": [
    "M"
   ]
  },
  {
   "cell_type": "code",
   "execution_count": 37,
   "id": "4a9d618a-f959-4053-a668-6d5396e8c7e7",
   "metadata": {},
   "outputs": [
    {
     "data": {
      "text/plain": [
       "[[2, 2, 2], [3, 3, 3], [4, 4, 4]]"
      ]
     },
     "execution_count": 37,
     "metadata": {},
     "output_type": "execute_result"
    }
   ],
   "source": [
    "N"
   ]
  },
  {
   "cell_type": "code",
   "execution_count": 38,
   "id": "5c5d25fc-b8b5-4bb9-990e-a572354a78f2",
   "metadata": {},
   "outputs": [
    {
     "data": {
      "text/plain": [
       "[2, 4, 6, 12, 15, 18, 28, 32, 36]"
      ]
     },
     "execution_count": 38,
     "metadata": {},
     "output_type": "execute_result"
    }
   ],
   "source": [
    "[M[row][col] * N[row][col] for row in range(3) for col in range(3)]"
   ]
  },
  {
   "cell_type": "code",
   "execution_count": 39,
   "id": "ed1b6128-0a35-45d8-ab1f-8cbbdb317411",
   "metadata": {},
   "outputs": [
    {
     "data": {
      "text/plain": [
       "[[2, 4, 6], [12, 15, 18], [28, 32, 36]]"
      ]
     },
     "execution_count": 39,
     "metadata": {},
     "output_type": "execute_result"
    }
   ],
   "source": [
    "[[M[row][col] * N[row][col] for col in range(3)] for row in range(3)]"
   ]
  },
  {
   "cell_type": "code",
   "execution_count": 40,
   "id": "f1bde9b4-061c-4923-95fd-2579a8f8d5a4",
   "metadata": {},
   "outputs": [
    {
     "data": {
      "text/plain": [
       "[[2, 4, 6], [12, 15, 18], [28, 32, 36]]"
      ]
     },
     "execution_count": 40,
     "metadata": {},
     "output_type": "execute_result"
    }
   ],
   "source": [
    "[[col1 * col2 for (col1, col2) in zip(row1, row2)] for (row1, row2) in zip(M,N)]"
   ]
  },
  {
   "cell_type": "code",
   "execution_count": 42,
   "id": "4d4f8c38-a8f1-4ef0-8849-bd2079eb411f",
   "metadata": {},
   "outputs": [],
   "source": [
    "def gensquares(N):\n",
    "    for i in range(N):\n",
    "        yield i**2"
   ]
  },
  {
   "cell_type": "code",
   "execution_count": 43,
   "id": "3c5112da-5a33-420b-8c7c-0084e6431036",
   "metadata": {},
   "outputs": [
    {
     "name": "stdout",
     "output_type": "stream",
     "text": [
      "0 : 1 : 4 : 9 : 16 : "
     ]
    }
   ],
   "source": [
    "for i in gensquares(5):\n",
    "    print(i, end=' : ')"
   ]
  },
  {
   "cell_type": "code",
   "execution_count": 44,
   "id": "b68972c1-7064-4a26-947a-7c3d85103115",
   "metadata": {},
   "outputs": [],
   "source": [
    "x = gensquares(4)"
   ]
  },
  {
   "cell_type": "code",
   "execution_count": 45,
   "id": "45e5699e-deb5-41e9-9a28-f396225e08e4",
   "metadata": {},
   "outputs": [
    {
     "data": {
      "text/plain": [
       "<generator object gensquares at 0x00000146F0E94AC0>"
      ]
     },
     "execution_count": 45,
     "metadata": {},
     "output_type": "execute_result"
    }
   ],
   "source": [
    "x"
   ]
  },
  {
   "cell_type": "code",
   "execution_count": 46,
   "id": "81ea61b4-939a-4f46-aff1-d36686d6680b",
   "metadata": {},
   "outputs": [
    {
     "data": {
      "text/plain": [
       "0"
      ]
     },
     "execution_count": 46,
     "metadata": {},
     "output_type": "execute_result"
    }
   ],
   "source": [
    "next(x)"
   ]
  },
  {
   "cell_type": "code",
   "execution_count": 47,
   "id": "2470fac8-7d2d-4636-9a78-9e4c76eb692c",
   "metadata": {},
   "outputs": [
    {
     "data": {
      "text/plain": [
       "1"
      ]
     },
     "execution_count": 47,
     "metadata": {},
     "output_type": "execute_result"
    }
   ],
   "source": [
    "next(x)"
   ]
  },
  {
   "cell_type": "code",
   "execution_count": 48,
   "id": "49ef83eb-07e5-4458-aced-15de7eded2bf",
   "metadata": {},
   "outputs": [
    {
     "data": {
      "text/plain": [
       "4"
      ]
     },
     "execution_count": 48,
     "metadata": {},
     "output_type": "execute_result"
    }
   ],
   "source": [
    "next(x)"
   ]
  },
  {
   "cell_type": "code",
   "execution_count": 49,
   "id": "a712df23-4fd2-4cf2-a67f-6c4b40b7ff97",
   "metadata": {},
   "outputs": [
    {
     "data": {
      "text/plain": [
       "9"
      ]
     },
     "execution_count": 49,
     "metadata": {},
     "output_type": "execute_result"
    }
   ],
   "source": [
    "next(x)"
   ]
  },
  {
   "cell_type": "code",
   "execution_count": 50,
   "id": "d5443aa9-8915-4c96-b8ce-c5213d82ca9b",
   "metadata": {},
   "outputs": [
    {
     "ename": "StopIteration",
     "evalue": "",
     "output_type": "error",
     "traceback": [
      "\u001b[1;31m---------------------------------------------------------------------------\u001b[0m",
      "\u001b[1;31mStopIteration\u001b[0m                             Traceback (most recent call last)",
      "Cell \u001b[1;32mIn [50], line 1\u001b[0m\n\u001b[1;32m----> 1\u001b[0m \u001b[38;5;28;43mnext\u001b[39;49m\u001b[43m(\u001b[49m\u001b[43mx\u001b[49m\u001b[43m)\u001b[49m\n",
      "\u001b[1;31mStopIteration\u001b[0m: "
     ]
    }
   ],
   "source": [
    "next(x)"
   ]
  },
  {
   "cell_type": "code",
   "execution_count": 51,
   "id": "9ab2d5af-936d-4a87-8c33-aa0b4dec3caa",
   "metadata": {},
   "outputs": [],
   "source": [
    "y = gensquares(5)"
   ]
  },
  {
   "cell_type": "code",
   "execution_count": 52,
   "id": "00c2fd85-f0a7-4805-8428-cb68f07574f0",
   "metadata": {},
   "outputs": [
    {
     "data": {
      "text/plain": [
       "True"
      ]
     },
     "execution_count": 52,
     "metadata": {},
     "output_type": "execute_result"
    }
   ],
   "source": [
    "iter(y) is y"
   ]
  },
  {
   "cell_type": "code",
   "execution_count": 53,
   "id": "854adb4a-f616-4ea9-accc-375790b3c7cb",
   "metadata": {},
   "outputs": [
    {
     "data": {
      "text/plain": [
       "0"
      ]
     },
     "execution_count": 53,
     "metadata": {},
     "output_type": "execute_result"
    }
   ],
   "source": [
    "next(y)"
   ]
  },
  {
   "cell_type": "code",
   "execution_count": 54,
   "id": "a9ca0d55-6e6e-4176-a11a-a9e8707fd20b",
   "metadata": {},
   "outputs": [],
   "source": [
    "def buildsquares(n):\n",
    "    res = []\n",
    "    for i in range(n): res.append(i ** 2)\n",
    "    return res"
   ]
  },
  {
   "cell_type": "code",
   "execution_count": 55,
   "id": "601208f7-a4e0-4219-b02e-b960edc09ce5",
   "metadata": {},
   "outputs": [
    {
     "name": "stdout",
     "output_type": "stream",
     "text": [
      "0 : 1 : 4 : 9 : 16 : "
     ]
    }
   ],
   "source": [
    "for x in buildsquares(5): print(x, end=' : ')"
   ]
  },
  {
   "cell_type": "code",
   "execution_count": 57,
   "id": "2b856577-ff0c-439b-bbe6-007155bb68d2",
   "metadata": {},
   "outputs": [
    {
     "name": "stdout",
     "output_type": "stream",
     "text": [
      "0 : 1 : 4 : 9 : 16 : "
     ]
    }
   ],
   "source": [
    "for x in [n**2 for n in range(5)]:\n",
    "    print(x, end=' : ')"
   ]
  },
  {
   "cell_type": "code",
   "execution_count": 59,
   "id": "efd9f955-138b-4688-a6f8-3c51e836ccc1",
   "metadata": {},
   "outputs": [
    {
     "name": "stdout",
     "output_type": "stream",
     "text": [
      "0 : 1 : 4 : 9 : 16 : "
     ]
    }
   ],
   "source": [
    "for x in map((lambda n: n**2), range(5)):\n",
    "    print(x, end=' : ')"
   ]
  },
  {
   "cell_type": "code",
   "execution_count": 60,
   "id": "803f6d87-54f2-4645-8854-525424a880eb",
   "metadata": {},
   "outputs": [],
   "source": [
    "def ups(line):\n",
    "    for sub in line.split(','):\n",
    "        yield sub.upper()"
   ]
  },
  {
   "cell_type": "code",
   "execution_count": 61,
   "id": "dc65a4b6-518a-43e8-961a-d4ad14315ae0",
   "metadata": {},
   "outputs": [
    {
     "data": {
      "text/plain": [
       "('AAA', 'BBB', 'CCC')"
      ]
     },
     "execution_count": 61,
     "metadata": {},
     "output_type": "execute_result"
    }
   ],
   "source": [
    "tuple(ups('aaa,bbb,ccc'))"
   ]
  },
  {
   "cell_type": "code",
   "execution_count": 62,
   "id": "d0ea809d-e965-43a4-b80d-3682b42a57ac",
   "metadata": {},
   "outputs": [
    {
     "data": {
      "text/plain": [
       "{0: 'AAA', 1: 'BBB', 2: 'CCC'}"
      ]
     },
     "execution_count": 62,
     "metadata": {},
     "output_type": "execute_result"
    }
   ],
   "source": [
    "{i: s for (i, s) in enumerate(ups('aaa,bbb,ccc'))}"
   ]
  },
  {
   "cell_type": "code",
   "execution_count": 63,
   "id": "c4c52802-5675-4dac-873c-22dd9e8fc264",
   "metadata": {},
   "outputs": [],
   "source": [
    "def gen():\n",
    "    for i in range(10):\n",
    "        X = yield i\n",
    "        print(x)"
   ]
  },
  {
   "cell_type": "code",
   "execution_count": 64,
   "id": "67981f27-2128-465c-aa1d-34701ec358c6",
   "metadata": {},
   "outputs": [],
   "source": [
    "G = gen()"
   ]
  },
  {
   "cell_type": "code",
   "execution_count": 65,
   "id": "0e5a1790-49d8-4849-b551-3eace5081451",
   "metadata": {},
   "outputs": [
    {
     "data": {
      "text/plain": [
       "0"
      ]
     },
     "execution_count": 65,
     "metadata": {},
     "output_type": "execute_result"
    }
   ],
   "source": [
    "next(G)"
   ]
  },
  {
   "cell_type": "code",
   "execution_count": 66,
   "id": "3a640f6c-67af-4607-9390-faf236aab268",
   "metadata": {},
   "outputs": [
    {
     "name": "stdout",
     "output_type": "stream",
     "text": [
      "16\n"
     ]
    },
    {
     "data": {
      "text/plain": [
       "1"
      ]
     },
     "execution_count": 66,
     "metadata": {},
     "output_type": "execute_result"
    }
   ],
   "source": [
    "G.send(77)"
   ]
  },
  {
   "cell_type": "code",
   "execution_count": 67,
   "id": "fc96aae9-c659-47f2-a886-265060b522e6",
   "metadata": {},
   "outputs": [
    {
     "name": "stdout",
     "output_type": "stream",
     "text": [
      "16\n"
     ]
    },
    {
     "data": {
      "text/plain": [
       "2"
      ]
     },
     "execution_count": 67,
     "metadata": {},
     "output_type": "execute_result"
    }
   ],
   "source": [
    "G.send(88)"
   ]
  },
  {
   "cell_type": "code",
   "execution_count": 68,
   "id": "5eae3512-7bdc-4463-afed-4f92de553962",
   "metadata": {},
   "outputs": [
    {
     "name": "stdout",
     "output_type": "stream",
     "text": [
      "16\n"
     ]
    },
    {
     "data": {
      "text/plain": [
       "3"
      ]
     },
     "execution_count": 68,
     "metadata": {},
     "output_type": "execute_result"
    }
   ],
   "source": [
    "next(G)"
   ]
  },
  {
   "cell_type": "code",
   "execution_count": 69,
   "id": "af82d349-c534-4ca0-a086-a064531eb479",
   "metadata": {},
   "outputs": [
    {
     "name": "stdout",
     "output_type": "stream",
     "text": [
      "16\n"
     ]
    },
    {
     "data": {
      "text/plain": [
       "4"
      ]
     },
     "execution_count": 69,
     "metadata": {},
     "output_type": "execute_result"
    }
   ],
   "source": [
    "next(G)"
   ]
  },
  {
   "cell_type": "code",
   "execution_count": 70,
   "id": "743ff588-aa45-4ca3-88d7-74a2d02edec4",
   "metadata": {},
   "outputs": [
    {
     "data": {
      "text/plain": [
       "[0, 1, 4, 9]"
      ]
     },
     "execution_count": 70,
     "metadata": {},
     "output_type": "execute_result"
    }
   ],
   "source": [
    "[x **2 for x in range(4)]"
   ]
  },
  {
   "cell_type": "code",
   "execution_count": 71,
   "id": "426f38dc-e57b-4aaa-9788-e2ca3522dec1",
   "metadata": {},
   "outputs": [
    {
     "data": {
      "text/plain": [
       "<generator object <genexpr> at 0x00000146F0DAD190>"
      ]
     },
     "execution_count": 71,
     "metadata": {},
     "output_type": "execute_result"
    }
   ],
   "source": [
    "(x ** 2 for x in range(4))"
   ]
  },
  {
   "cell_type": "code",
   "execution_count": 72,
   "id": "cc211454-744e-49c8-ac94-e43e08c83d85",
   "metadata": {},
   "outputs": [
    {
     "data": {
      "text/plain": [
       "[0, 1, 4, 9]"
      ]
     },
     "execution_count": 72,
     "metadata": {},
     "output_type": "execute_result"
    }
   ],
   "source": [
    "list(x**2 for x in range(4))"
   ]
  },
  {
   "cell_type": "code",
   "execution_count": 73,
   "id": "7a32cd96-aeba-48d0-b95d-ad697f4e1a5f",
   "metadata": {},
   "outputs": [],
   "source": [
    "G = (x ** 2 for x in range(4))"
   ]
  },
  {
   "cell_type": "code",
   "execution_count": 74,
   "id": "a7d6e64d-78de-470b-93d2-44ae9a62f3d3",
   "metadata": {},
   "outputs": [
    {
     "data": {
      "text/plain": [
       "<generator object <genexpr> at 0x00000146F0DAD0B0>"
      ]
     },
     "execution_count": 74,
     "metadata": {},
     "output_type": "execute_result"
    }
   ],
   "source": [
    "G"
   ]
  },
  {
   "cell_type": "code",
   "execution_count": 75,
   "id": "7f0d725c-5bde-4bc7-a3b3-2aff01b06964",
   "metadata": {},
   "outputs": [
    {
     "data": {
      "text/plain": [
       "True"
      ]
     },
     "execution_count": 75,
     "metadata": {},
     "output_type": "execute_result"
    }
   ],
   "source": [
    "iter(G) is G"
   ]
  },
  {
   "cell_type": "code",
   "execution_count": 76,
   "id": "b3c18a40-db2f-4645-a58e-2e29e8a07e09",
   "metadata": {},
   "outputs": [
    {
     "data": {
      "text/plain": [
       "0"
      ]
     },
     "execution_count": 76,
     "metadata": {},
     "output_type": "execute_result"
    }
   ],
   "source": [
    "next(G)"
   ]
  },
  {
   "cell_type": "code",
   "execution_count": 77,
   "id": "626e11c2-8651-4971-be70-bca70c1dd13e",
   "metadata": {},
   "outputs": [
    {
     "data": {
      "text/plain": [
       "1"
      ]
     },
     "execution_count": 77,
     "metadata": {},
     "output_type": "execute_result"
    }
   ],
   "source": [
    "next(G)"
   ]
  },
  {
   "cell_type": "code",
   "execution_count": 78,
   "id": "b1e921ad-b851-43a1-928c-cea98db614e2",
   "metadata": {},
   "outputs": [
    {
     "data": {
      "text/plain": [
       "4"
      ]
     },
     "execution_count": 78,
     "metadata": {},
     "output_type": "execute_result"
    }
   ],
   "source": [
    "next(G)"
   ]
  },
  {
   "cell_type": "code",
   "execution_count": 79,
   "id": "1e2ed74c-8ab7-43c6-bfdc-2317767fd39b",
   "metadata": {},
   "outputs": [
    {
     "data": {
      "text/plain": [
       "9"
      ]
     },
     "execution_count": 79,
     "metadata": {},
     "output_type": "execute_result"
    }
   ],
   "source": [
    "next(G)"
   ]
  },
  {
   "cell_type": "code",
   "execution_count": 80,
   "id": "a5071d71-486a-4457-934c-41796d04d7b7",
   "metadata": {},
   "outputs": [
    {
     "ename": "StopIteration",
     "evalue": "",
     "output_type": "error",
     "traceback": [
      "\u001b[1;31m---------------------------------------------------------------------------\u001b[0m",
      "\u001b[1;31mStopIteration\u001b[0m                             Traceback (most recent call last)",
      "Cell \u001b[1;32mIn [80], line 1\u001b[0m\n\u001b[1;32m----> 1\u001b[0m \u001b[38;5;28;43mnext\u001b[39;49m\u001b[43m(\u001b[49m\u001b[43mG\u001b[49m\u001b[43m)\u001b[49m\n",
      "\u001b[1;31mStopIteration\u001b[0m: "
     ]
    }
   ],
   "source": [
    "next(G)"
   ]
  },
  {
   "cell_type": "code",
   "execution_count": 81,
   "id": "f4b4acd8-15ca-4d6b-9901-86b9f0eb0a82",
   "metadata": {},
   "outputs": [
    {
     "data": {
      "text/plain": [
       "<generator object <genexpr> at 0x00000146F0DAD0B0>"
      ]
     },
     "execution_count": 81,
     "metadata": {},
     "output_type": "execute_result"
    }
   ],
   "source": [
    "G"
   ]
  },
  {
   "cell_type": "code",
   "execution_count": 82,
   "id": "74909e78-9ae2-46d4-978c-ef600f41ce94",
   "metadata": {},
   "outputs": [
    {
     "name": "stdout",
     "output_type": "stream",
     "text": [
      "0, 0.0\n",
      "1, 0.5\n",
      "4, 2.0\n",
      "9, 4.5\n"
     ]
    }
   ],
   "source": [
    "for num in (x**2 for x in range(4)):\n",
    "    print('%s, %s' % (num, num/2.0))"
   ]
  },
  {
   "cell_type": "code",
   "execution_count": 83,
   "id": "fcb77f44-8fe7-48ab-bccd-93d5f28f127a",
   "metadata": {},
   "outputs": [
    {
     "data": {
      "text/plain": [
       "'AAABBBCCC'"
      ]
     },
     "execution_count": 83,
     "metadata": {},
     "output_type": "execute_result"
    }
   ],
   "source": [
    "''.join(x.upper() for x in 'aaa,bbb,ccc'.split(','))"
   ]
  },
  {
   "cell_type": "code",
   "execution_count": 84,
   "id": "f7afc1e8-3af5-443a-abf3-f2b77ee0e7f3",
   "metadata": {},
   "outputs": [],
   "source": [
    "a, b, c = (x + '\\n' for x in 'aaa,bbb,ccc'.split(','))"
   ]
  },
  {
   "cell_type": "code",
   "execution_count": 85,
   "id": "37d8852b-dfb2-4c3d-8397-0e753fd2793d",
   "metadata": {},
   "outputs": [
    {
     "data": {
      "text/plain": [
       "('aaa\\n', 'ccc\\n')"
      ]
     },
     "execution_count": 85,
     "metadata": {},
     "output_type": "execute_result"
    }
   ],
   "source": [
    "a, c"
   ]
  },
  {
   "cell_type": "code",
   "execution_count": 86,
   "id": "11ace416-d623-4628-b075-c7629d363f82",
   "metadata": {},
   "outputs": [
    {
     "data": {
      "text/plain": [
       "14"
      ]
     },
     "execution_count": 86,
     "metadata": {},
     "output_type": "execute_result"
    }
   ],
   "source": [
    "sum(x**2 for x in range(4))"
   ]
  },
  {
   "cell_type": "code",
   "execution_count": 87,
   "id": "cf6b53c8-98ac-4fee-ae48-815ebc420ea6",
   "metadata": {},
   "outputs": [
    {
     "data": {
      "text/plain": [
       "[0, 1, 4, 9]"
      ]
     },
     "execution_count": 87,
     "metadata": {},
     "output_type": "execute_result"
    }
   ],
   "source": [
    "sorted(x**2 for x in range(4))"
   ]
  },
  {
   "cell_type": "code",
   "execution_count": 88,
   "id": "8ca1afe4-a4c4-42ee-a8a4-5c7194541ea1",
   "metadata": {},
   "outputs": [
    {
     "data": {
      "text/plain": [
       "[9, 4, 1, 0]"
      ]
     },
     "execution_count": 88,
     "metadata": {},
     "output_type": "execute_result"
    }
   ],
   "source": [
    "sorted((x**2 for x in range(4)), reverse=True)"
   ]
  },
  {
   "cell_type": "code",
   "execution_count": null,
   "id": "9ca28a1b-17da-470f-96cf-29583818bd2a",
   "metadata": {},
   "outputs": [],
   "source": []
  }
 ],
 "metadata": {
  "kernelspec": {
   "display_name": "Python 3 (ipykernel)",
   "language": "python",
   "name": "python3"
  },
  "language_info": {
   "codemirror_mode": {
    "name": "ipython",
    "version": 3
   },
   "file_extension": ".py",
   "mimetype": "text/x-python",
   "name": "python",
   "nbconvert_exporter": "python",
   "pygments_lexer": "ipython3",
   "version": "3.9.13"
  }
 },
 "nbformat": 4,
 "nbformat_minor": 5
}
