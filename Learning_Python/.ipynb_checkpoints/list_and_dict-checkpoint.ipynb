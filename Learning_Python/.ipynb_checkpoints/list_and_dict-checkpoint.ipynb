{
 "cells": [
  {
   "cell_type": "code",
   "execution_count": 1,
   "id": "a4ba886d-6956-4642-bad2-5a6ab79e1d60",
   "metadata": {},
   "outputs": [
    {
     "data": {
      "text/plain": [
       "3"
      ]
     },
     "execution_count": 1,
     "metadata": {},
     "output_type": "execute_result"
    }
   ],
   "source": [
    "len([1,2,3])"
   ]
  },
  {
   "cell_type": "code",
   "execution_count": 2,
   "id": "7d5be9f0-586e-4022-b5d4-57016cce4c75",
   "metadata": {},
   "outputs": [
    {
     "data": {
      "text/plain": [
       "[1, 2, 3, 4, 5, 6]"
      ]
     },
     "execution_count": 2,
     "metadata": {},
     "output_type": "execute_result"
    }
   ],
   "source": [
    "[1,2,3] + [4,5,6]"
   ]
  },
  {
   "cell_type": "code",
   "execution_count": 3,
   "id": "6ff4b1ea-5a76-4147-8aa6-b4e8a626e4dc",
   "metadata": {},
   "outputs": [
    {
     "data": {
      "text/plain": [
       "['Ni!', 'Ni!', 'Ni!', 'Ni!']"
      ]
     },
     "execution_count": 3,
     "metadata": {},
     "output_type": "execute_result"
    }
   ],
   "source": [
    "['Ni!'] * 4"
   ]
  },
  {
   "cell_type": "code",
   "execution_count": 4,
   "id": "a0a19536-4ce2-46f8-a67b-68fd6619e374",
   "metadata": {},
   "outputs": [
    {
     "data": {
      "text/plain": [
       "'[1, 2]34'"
      ]
     },
     "execution_count": 4,
     "metadata": {},
     "output_type": "execute_result"
    }
   ],
   "source": [
    "str([1,2]) + '34'"
   ]
  },
  {
   "cell_type": "code",
   "execution_count": 5,
   "id": "48b43986-103a-4c2e-b816-e0765fa1c057",
   "metadata": {},
   "outputs": [
    {
     "data": {
      "text/plain": [
       "[1, 2, '3', '4']"
      ]
     },
     "execution_count": 5,
     "metadata": {},
     "output_type": "execute_result"
    }
   ],
   "source": [
    "[1,2] + list('34')"
   ]
  },
  {
   "cell_type": "code",
   "execution_count": 6,
   "id": "9812596a-ccad-4d7a-a805-80e3f7e330fb",
   "metadata": {},
   "outputs": [
    {
     "data": {
      "text/plain": [
       "True"
      ]
     },
     "execution_count": 6,
     "metadata": {},
     "output_type": "execute_result"
    }
   ],
   "source": [
    "3 in [1, 2, 3]"
   ]
  },
  {
   "cell_type": "code",
   "execution_count": 7,
   "id": "06577949-2c91-46f5-899e-eeb1b6f88962",
   "metadata": {},
   "outputs": [
    {
     "name": "stdout",
     "output_type": "stream",
     "text": [
      "1 2 3 "
     ]
    }
   ],
   "source": [
    "for x in [1, 2, 3]:\n",
    "    print(x, end=' ')"
   ]
  },
  {
   "cell_type": "code",
   "execution_count": 8,
   "id": "842d95ef-2184-4c4e-a596-b498ac8e62ba",
   "metadata": {},
   "outputs": [],
   "source": [
    "res = [c *4 for c in 'spam']"
   ]
  },
  {
   "cell_type": "code",
   "execution_count": 9,
   "id": "376827b7-57ad-45d4-9a0b-ae113466d222",
   "metadata": {},
   "outputs": [
    {
     "data": {
      "text/plain": [
       "['ssss', 'pppp', 'aaaa', 'mmmm']"
      ]
     },
     "execution_count": 9,
     "metadata": {},
     "output_type": "execute_result"
    }
   ],
   "source": [
    "res"
   ]
  },
  {
   "cell_type": "code",
   "execution_count": 10,
   "id": "b4bd6889-1845-41d1-82d8-6ac0b2334838",
   "metadata": {},
   "outputs": [],
   "source": [
    "res = []"
   ]
  },
  {
   "cell_type": "code",
   "execution_count": 11,
   "id": "ab099ff8-9a74-4c34-8c8a-139a99b996c2",
   "metadata": {},
   "outputs": [],
   "source": [
    "for c in 'spam':\n",
    "    res.append(c*4)"
   ]
  },
  {
   "cell_type": "code",
   "execution_count": 12,
   "id": "d3404537-6965-458f-b281-af4801f9354b",
   "metadata": {},
   "outputs": [
    {
     "data": {
      "text/plain": [
       "['ssss', 'pppp', 'aaaa', 'mmmm']"
      ]
     },
     "execution_count": 12,
     "metadata": {},
     "output_type": "execute_result"
    }
   ],
   "source": [
    "res"
   ]
  },
  {
   "cell_type": "code",
   "execution_count": 13,
   "id": "6dcb6c81-d30d-4e36-8fdd-3e83159a30ae",
   "metadata": {},
   "outputs": [
    {
     "data": {
      "text/plain": [
       "[1, 2, 0, 1, 3]"
      ]
     },
     "execution_count": 13,
     "metadata": {},
     "output_type": "execute_result"
    }
   ],
   "source": [
    "list(map(abs, [-1, -2, 0, 1, 3]))"
   ]
  },
  {
   "cell_type": "code",
   "execution_count": 14,
   "id": "39d5172b-1848-4b1c-9679-72d834f66308",
   "metadata": {},
   "outputs": [],
   "source": [
    "l = ['spam', 'Spam', 'SPAM']"
   ]
  },
  {
   "cell_type": "code",
   "execution_count": 15,
   "id": "fce12062-ed1d-4d09-aa51-4207f4ec908d",
   "metadata": {},
   "outputs": [
    {
     "data": {
      "text/plain": [
       "'SPAM'"
      ]
     },
     "execution_count": 15,
     "metadata": {},
     "output_type": "execute_result"
    }
   ],
   "source": [
    "l[2]"
   ]
  },
  {
   "cell_type": "code",
   "execution_count": 16,
   "id": "dddacc2e-2d45-4594-8b0c-0f3c51c80084",
   "metadata": {},
   "outputs": [
    {
     "data": {
      "text/plain": [
       "'Spam'"
      ]
     },
     "execution_count": 16,
     "metadata": {},
     "output_type": "execute_result"
    }
   ],
   "source": [
    "l[-2]"
   ]
  },
  {
   "cell_type": "code",
   "execution_count": 17,
   "id": "ae0e4c54-ffb8-45c1-8dd4-9c104c27dbea",
   "metadata": {},
   "outputs": [
    {
     "data": {
      "text/plain": [
       "['Spam', 'SPAM']"
      ]
     },
     "execution_count": 17,
     "metadata": {},
     "output_type": "execute_result"
    }
   ],
   "source": [
    "l[1:]"
   ]
  },
  {
   "cell_type": "code",
   "execution_count": 18,
   "id": "4970d72c-6f25-410c-a61e-2a6788bafdbe",
   "metadata": {},
   "outputs": [],
   "source": [
    "matrix = [[1,2,3], [4,5,6], [7,8,9]]"
   ]
  },
  {
   "cell_type": "code",
   "execution_count": 19,
   "id": "30795499-7b0a-42fb-97d0-365bb1911888",
   "metadata": {},
   "outputs": [
    {
     "data": {
      "text/plain": [
       "[4, 5, 6]"
      ]
     },
     "execution_count": 19,
     "metadata": {},
     "output_type": "execute_result"
    }
   ],
   "source": [
    "matrix[1]"
   ]
  },
  {
   "cell_type": "code",
   "execution_count": 21,
   "id": "85d1bdd6-6641-4808-a4d1-86f871151ea0",
   "metadata": {},
   "outputs": [
    {
     "data": {
      "text/plain": [
       "5"
      ]
     },
     "execution_count": 21,
     "metadata": {},
     "output_type": "execute_result"
    }
   ],
   "source": [
    "matrix[1][1]"
   ]
  },
  {
   "cell_type": "code",
   "execution_count": 22,
   "id": "a4b918f7-3ada-4d60-a4d8-5c2416b027cb",
   "metadata": {},
   "outputs": [
    {
     "data": {
      "text/plain": [
       "7"
      ]
     },
     "execution_count": 22,
     "metadata": {},
     "output_type": "execute_result"
    }
   ],
   "source": [
    "matrix[2][0]"
   ]
  },
  {
   "cell_type": "code",
   "execution_count": 1,
   "id": "6fb5e17a-beb4-4d58-8d38-55f79d488e7d",
   "metadata": {},
   "outputs": [],
   "source": [
    "matrix = [[1,2,3],\n",
    "          [4,5,6],\n",
    "          [7,8,9]]"
   ]
  },
  {
   "cell_type": "code",
   "execution_count": 2,
   "id": "696adcef-8cc2-4c99-b5eb-5a0ab6839ce0",
   "metadata": {},
   "outputs": [
    {
     "data": {
      "text/plain": [
       "5"
      ]
     },
     "execution_count": 2,
     "metadata": {},
     "output_type": "execute_result"
    }
   ],
   "source": [
    "matrix[1][1]"
   ]
  },
  {
   "cell_type": "code",
   "execution_count": 3,
   "id": "4e9b5722-aaee-4d59-bf16-3e026d6f10be",
   "metadata": {},
   "outputs": [],
   "source": [
    "L = ['spam', 'Spam', 'SPAM!']"
   ]
  },
  {
   "cell_type": "code",
   "execution_count": 4,
   "id": "2b4af4e4-879d-4c53-8b92-3cd9d1aed28a",
   "metadata": {},
   "outputs": [],
   "source": [
    "L[1] = 'eggs'"
   ]
  },
  {
   "cell_type": "code",
   "execution_count": 5,
   "id": "f0e1a503-c10a-4ef7-8cfa-86fece0be714",
   "metadata": {},
   "outputs": [
    {
     "data": {
      "text/plain": [
       "['spam', 'eggs', 'SPAM!']"
      ]
     },
     "execution_count": 5,
     "metadata": {},
     "output_type": "execute_result"
    }
   ],
   "source": [
    "L"
   ]
  },
  {
   "cell_type": "code",
   "execution_count": 6,
   "id": "ad9f90bd-8a1a-4f14-82f6-48df6587584c",
   "metadata": {},
   "outputs": [],
   "source": [
    "L[0:2] = ['eat', 'more']"
   ]
  },
  {
   "cell_type": "code",
   "execution_count": 7,
   "id": "e6381f49-c509-411b-a9c9-325c6398a15e",
   "metadata": {},
   "outputs": [
    {
     "data": {
      "text/plain": [
       "['eat', 'more', 'SPAM!']"
      ]
     },
     "execution_count": 7,
     "metadata": {},
     "output_type": "execute_result"
    }
   ],
   "source": [
    "L"
   ]
  },
  {
   "cell_type": "code",
   "execution_count": 8,
   "id": "114e09ad-45d2-45c7-aa2b-4d70274f3a82",
   "metadata": {},
   "outputs": [],
   "source": [
    "L = [1, 2, 3]"
   ]
  },
  {
   "cell_type": "code",
   "execution_count": 9,
   "id": "52063a7d-2177-4eec-b7ce-93c2c8b300a5",
   "metadata": {},
   "outputs": [
    {
     "data": {
      "text/plain": [
       "[2]"
      ]
     },
     "execution_count": 9,
     "metadata": {},
     "output_type": "execute_result"
    }
   ],
   "source": [
    "L[1:2]"
   ]
  },
  {
   "cell_type": "code",
   "execution_count": 10,
   "id": "2b63418b-e70c-4016-bddc-76d566901683",
   "metadata": {},
   "outputs": [],
   "source": [
    "L[1:2] = [4, 5]"
   ]
  },
  {
   "cell_type": "code",
   "execution_count": 11,
   "id": "5ed3a9d4-82f5-4c23-b60a-c7b9dc961331",
   "metadata": {},
   "outputs": [
    {
     "data": {
      "text/plain": [
       "[1, 4, 5, 3]"
      ]
     },
     "execution_count": 11,
     "metadata": {},
     "output_type": "execute_result"
    }
   ],
   "source": [
    "L"
   ]
  },
  {
   "cell_type": "code",
   "execution_count": 12,
   "id": "4b80f511-47c5-4bc5-a679-17e83ffc096f",
   "metadata": {},
   "outputs": [],
   "source": [
    "L[1:1] = [6, 7]"
   ]
  },
  {
   "cell_type": "code",
   "execution_count": 13,
   "id": "1232f679-0f46-4426-bb55-a9c84e8709d1",
   "metadata": {},
   "outputs": [
    {
     "data": {
      "text/plain": [
       "[1, 6, 7, 4, 5, 3]"
      ]
     },
     "execution_count": 13,
     "metadata": {},
     "output_type": "execute_result"
    }
   ],
   "source": [
    "L"
   ]
  },
  {
   "cell_type": "code",
   "execution_count": 14,
   "id": "6fb7c14f-96bc-49c1-bf6d-448cdfa996b1",
   "metadata": {},
   "outputs": [],
   "source": [
    "L[1:2] = []"
   ]
  },
  {
   "cell_type": "code",
   "execution_count": 15,
   "id": "8d37f527-f5ae-4130-a0fb-182416f349fd",
   "metadata": {},
   "outputs": [
    {
     "data": {
      "text/plain": [
       "[1, 7, 4, 5, 3]"
      ]
     },
     "execution_count": 15,
     "metadata": {},
     "output_type": "execute_result"
    }
   ],
   "source": [
    "L"
   ]
  },
  {
   "cell_type": "code",
   "execution_count": 16,
   "id": "8917d3e8-8f46-4103-8c66-890712910b80",
   "metadata": {},
   "outputs": [],
   "source": [
    "L = [1]"
   ]
  },
  {
   "cell_type": "code",
   "execution_count": 17,
   "id": "45c943b4-7b5b-4929-a356-88dfa1d371d2",
   "metadata": {},
   "outputs": [],
   "source": [
    "L[:0] = [2, 3, 4]"
   ]
  },
  {
   "cell_type": "code",
   "execution_count": 18,
   "id": "e5d60a05-1abc-434f-8e98-c09c6bf513d1",
   "metadata": {},
   "outputs": [
    {
     "data": {
      "text/plain": [
       "[2, 3, 4, 1]"
      ]
     },
     "execution_count": 18,
     "metadata": {},
     "output_type": "execute_result"
    }
   ],
   "source": [
    "L"
   ]
  },
  {
   "cell_type": "code",
   "execution_count": 19,
   "id": "100a1643-d8a1-4195-bfcb-d9e148809b6e",
   "metadata": {},
   "outputs": [],
   "source": [
    "L[len(L):] = [5, 6, 7]"
   ]
  },
  {
   "cell_type": "code",
   "execution_count": 20,
   "id": "43ae7483-663a-4af7-9cb1-0442d8945dcf",
   "metadata": {},
   "outputs": [
    {
     "data": {
      "text/plain": [
       "[2, 3, 4, 1, 5, 6, 7]"
      ]
     },
     "execution_count": 20,
     "metadata": {},
     "output_type": "execute_result"
    }
   ],
   "source": [
    "L"
   ]
  },
  {
   "cell_type": "code",
   "execution_count": 21,
   "id": "a4aad0df-06e6-4f1e-a2a5-43bb654fa35a",
   "metadata": {},
   "outputs": [],
   "source": [
    "L.extend([8,9,10])"
   ]
  },
  {
   "cell_type": "code",
   "execution_count": 22,
   "id": "7e2839cf-f9fa-4f1e-b5f5-20826d61de81",
   "metadata": {},
   "outputs": [
    {
     "data": {
      "text/plain": [
       "[2, 3, 4, 1, 5, 6, 7, 8, 9, 10]"
      ]
     },
     "execution_count": 22,
     "metadata": {},
     "output_type": "execute_result"
    }
   ],
   "source": [
    "L"
   ]
  },
  {
   "cell_type": "code",
   "execution_count": 23,
   "id": "e3dc2dce-6604-4f6c-b385-cb380df15a4c",
   "metadata": {},
   "outputs": [],
   "source": [
    "L = ['eat', 'more', 'spam!']"
   ]
  },
  {
   "cell_type": "code",
   "execution_count": 24,
   "id": "a113f358-b064-4c1d-b482-23018f27233b",
   "metadata": {},
   "outputs": [],
   "source": [
    "L.append('please')"
   ]
  },
  {
   "cell_type": "code",
   "execution_count": 25,
   "id": "363626e2-0f0f-44f0-a726-c81a499251a3",
   "metadata": {},
   "outputs": [
    {
     "data": {
      "text/plain": [
       "['eat', 'more', 'spam!', 'please']"
      ]
     },
     "execution_count": 25,
     "metadata": {},
     "output_type": "execute_result"
    }
   ],
   "source": [
    "L"
   ]
  },
  {
   "cell_type": "code",
   "execution_count": 26,
   "id": "a91028cb-88e1-4b63-88bd-51c3c1d5ec08",
   "metadata": {},
   "outputs": [],
   "source": [
    "L.sort()"
   ]
  },
  {
   "cell_type": "code",
   "execution_count": 27,
   "id": "4fa560ea-8ebf-4d6f-9a90-d60308dd409b",
   "metadata": {},
   "outputs": [
    {
     "data": {
      "text/plain": [
       "['eat', 'more', 'please', 'spam!']"
      ]
     },
     "execution_count": 27,
     "metadata": {},
     "output_type": "execute_result"
    }
   ],
   "source": [
    "L"
   ]
  },
  {
   "cell_type": "code",
   "execution_count": 28,
   "id": "780284cf-d965-4905-a478-d292a3c40cf5",
   "metadata": {},
   "outputs": [],
   "source": [
    "l = ['abc', 'ABD', 'aBe']"
   ]
  },
  {
   "cell_type": "code",
   "execution_count": 29,
   "id": "b0f82752-9f66-4da1-aa6a-f717f198c97a",
   "metadata": {},
   "outputs": [],
   "source": [
    "l.sort()"
   ]
  },
  {
   "cell_type": "code",
   "execution_count": 30,
   "id": "fd636422-bf0d-4bdd-8b30-aa643e7d4532",
   "metadata": {},
   "outputs": [
    {
     "data": {
      "text/plain": [
       "['ABD', 'aBe', 'abc']"
      ]
     },
     "execution_count": 30,
     "metadata": {},
     "output_type": "execute_result"
    }
   ],
   "source": [
    "l"
   ]
  },
  {
   "cell_type": "code",
   "execution_count": 31,
   "id": "7da3561b-a271-4751-8bc2-a10fefe1a27a",
   "metadata": {},
   "outputs": [],
   "source": [
    "l.sort(key=str.lower)"
   ]
  },
  {
   "cell_type": "code",
   "execution_count": 32,
   "id": "a6f3fb14-7f1a-44ee-8695-966a5351e08d",
   "metadata": {},
   "outputs": [
    {
     "data": {
      "text/plain": [
       "['abc', 'ABD', 'aBe']"
      ]
     },
     "execution_count": 32,
     "metadata": {},
     "output_type": "execute_result"
    }
   ],
   "source": [
    "l"
   ]
  },
  {
   "cell_type": "code",
   "execution_count": 33,
   "id": "e9a994ee-8cd5-4044-abba-d47bc5958476",
   "metadata": {},
   "outputs": [],
   "source": [
    "l.sort(key=str.lower, reverse=True)"
   ]
  },
  {
   "cell_type": "code",
   "execution_count": 34,
   "id": "77a8c5de-e6e4-4df1-98b2-19491d95840f",
   "metadata": {},
   "outputs": [
    {
     "data": {
      "text/plain": [
       "['aBe', 'ABD', 'abc']"
      ]
     },
     "execution_count": 34,
     "metadata": {},
     "output_type": "execute_result"
    }
   ],
   "source": [
    "l"
   ]
  },
  {
   "cell_type": "code",
   "execution_count": 35,
   "id": "e34cb64c-4537-463b-86fb-cf5a9c4b08ac",
   "metadata": {},
   "outputs": [],
   "source": [
    "l = ['abc', 'ABE', 'aBe']"
   ]
  },
  {
   "cell_type": "code",
   "execution_count": 36,
   "id": "91af43e7-ca20-47ed-84e8-d20014445c4a",
   "metadata": {},
   "outputs": [
    {
     "data": {
      "text/plain": [
       "['ABE', 'aBe', 'abc']"
      ]
     },
     "execution_count": 36,
     "metadata": {},
     "output_type": "execute_result"
    }
   ],
   "source": [
    "sorted(l, key=str.lower, reverse=True)"
   ]
  },
  {
   "cell_type": "code",
   "execution_count": 37,
   "id": "0096161f-27fb-4d96-a42d-319637c13e30",
   "metadata": {},
   "outputs": [],
   "source": [
    "l = ['abc', 'ABD', 'aBe']"
   ]
  },
  {
   "cell_type": "code",
   "execution_count": 38,
   "id": "05665d2c-ab78-450f-98ac-8e188a802e7b",
   "metadata": {},
   "outputs": [
    {
     "data": {
      "text/plain": [
       "['spam!', 'please', 'more', 'eat']"
      ]
     },
     "execution_count": 38,
     "metadata": {},
     "output_type": "execute_result"
    }
   ],
   "source": [
    "sorted([x.lower() for x in L], reverse=True)"
   ]
  },
  {
   "cell_type": "code",
   "execution_count": 39,
   "id": "f7dae3b7-a78b-4c14-a17d-55c75b4bc6e7",
   "metadata": {},
   "outputs": [
    {
     "data": {
      "text/plain": [
       "['abe', 'abd', 'abc']"
      ]
     },
     "execution_count": 39,
     "metadata": {},
     "output_type": "execute_result"
    }
   ],
   "source": [
    "sorted([x.lower() for x in l], reverse=True)"
   ]
  },
  {
   "cell_type": "code",
   "execution_count": 40,
   "id": "85c6478c-fe76-44dd-bc2e-64e879431845",
   "metadata": {},
   "outputs": [],
   "source": [
    "L = [1, 2]"
   ]
  },
  {
   "cell_type": "code",
   "execution_count": 41,
   "id": "3c4eda6f-c290-4c74-95ae-37cc1ea49142",
   "metadata": {},
   "outputs": [],
   "source": [
    "L.extend([3, 4, 5])"
   ]
  },
  {
   "cell_type": "code",
   "execution_count": 42,
   "id": "07d5fe0d-449c-4147-be6b-e10bb8afa7a5",
   "metadata": {},
   "outputs": [
    {
     "data": {
      "text/plain": [
       "[1, 2, 3, 4, 5]"
      ]
     },
     "execution_count": 42,
     "metadata": {},
     "output_type": "execute_result"
    }
   ],
   "source": [
    "L"
   ]
  },
  {
   "cell_type": "code",
   "execution_count": 43,
   "id": "34aaf568-3656-4920-8085-de2431adb408",
   "metadata": {},
   "outputs": [
    {
     "data": {
      "text/plain": [
       "5"
      ]
     },
     "execution_count": 43,
     "metadata": {},
     "output_type": "execute_result"
    }
   ],
   "source": [
    "L.pop()"
   ]
  },
  {
   "cell_type": "code",
   "execution_count": 44,
   "id": "cf59b532-6e52-4575-a0eb-3a0ef5c01432",
   "metadata": {},
   "outputs": [
    {
     "data": {
      "text/plain": [
       "[1, 2, 3, 4]"
      ]
     },
     "execution_count": 44,
     "metadata": {},
     "output_type": "execute_result"
    }
   ],
   "source": [
    "L"
   ]
  },
  {
   "cell_type": "code",
   "execution_count": 45,
   "id": "67d286af-9abb-4b92-b7e2-52ef9ede58a4",
   "metadata": {},
   "outputs": [],
   "source": [
    "L.reverse()"
   ]
  },
  {
   "cell_type": "code",
   "execution_count": 46,
   "id": "8eb81798-0bda-46c5-b7c7-04935982d481",
   "metadata": {},
   "outputs": [
    {
     "data": {
      "text/plain": [
       "[4, 3, 2, 1]"
      ]
     },
     "execution_count": 46,
     "metadata": {},
     "output_type": "execute_result"
    }
   ],
   "source": [
    "L"
   ]
  },
  {
   "cell_type": "code",
   "execution_count": 47,
   "id": "e9ff58e9-b599-4f00-8d5e-391c17228a12",
   "metadata": {},
   "outputs": [
    {
     "data": {
      "text/plain": [
       "[1, 2, 3, 4]"
      ]
     },
     "execution_count": 47,
     "metadata": {},
     "output_type": "execute_result"
    }
   ],
   "source": [
    "list(reversed(L))"
   ]
  },
  {
   "cell_type": "code",
   "execution_count": 48,
   "id": "9c1f4ec0-ebd7-4f30-9f3d-bdb4c6b67a8e",
   "metadata": {},
   "outputs": [],
   "source": [
    "L = []"
   ]
  },
  {
   "cell_type": "code",
   "execution_count": 49,
   "id": "e92aa908-44b9-4035-827f-f2860701e241",
   "metadata": {},
   "outputs": [],
   "source": [
    "L.append(1)"
   ]
  },
  {
   "cell_type": "code",
   "execution_count": 50,
   "id": "77ffc3a6-af58-4291-a5e1-0dac80ce8ded",
   "metadata": {},
   "outputs": [],
   "source": [
    "L.append(2)"
   ]
  },
  {
   "cell_type": "code",
   "execution_count": 51,
   "id": "c2d31837-5d2c-41b9-be9c-1c7305877c68",
   "metadata": {},
   "outputs": [
    {
     "data": {
      "text/plain": [
       "[1, 2]"
      ]
     },
     "execution_count": 51,
     "metadata": {},
     "output_type": "execute_result"
    }
   ],
   "source": [
    "L"
   ]
  },
  {
   "cell_type": "code",
   "execution_count": 53,
   "id": "8ad8de35-66f7-4a17-8216-d9e1509a468c",
   "metadata": {},
   "outputs": [
    {
     "data": {
      "text/plain": [
       "2"
      ]
     },
     "execution_count": 53,
     "metadata": {},
     "output_type": "execute_result"
    }
   ],
   "source": [
    "L.pop()"
   ]
  },
  {
   "cell_type": "code",
   "execution_count": 54,
   "id": "ad504422-2fbc-444a-b92d-638f1f552979",
   "metadata": {},
   "outputs": [
    {
     "data": {
      "text/plain": [
       "[1]"
      ]
     },
     "execution_count": 54,
     "metadata": {},
     "output_type": "execute_result"
    }
   ],
   "source": [
    "L"
   ]
  },
  {
   "cell_type": "code",
   "execution_count": 55,
   "id": "661b928c-93f7-4ba5-aa33-a36bd1b78bc4",
   "metadata": {},
   "outputs": [],
   "source": [
    "L = ['spam', 'eggs', 'ham']"
   ]
  },
  {
   "cell_type": "code",
   "execution_count": 56,
   "id": "e1c75839-9ad1-4ade-ae22-b979ce63a063",
   "metadata": {},
   "outputs": [
    {
     "data": {
      "text/plain": [
       "1"
      ]
     },
     "execution_count": 56,
     "metadata": {},
     "output_type": "execute_result"
    }
   ],
   "source": [
    "L.index('eggs')"
   ]
  },
  {
   "cell_type": "code",
   "execution_count": 57,
   "id": "4633ceb6-1afe-4d29-8309-1d926fe655b9",
   "metadata": {},
   "outputs": [],
   "source": [
    "L.insert(1, 'toast')"
   ]
  },
  {
   "cell_type": "code",
   "execution_count": 58,
   "id": "0155aec1-997b-4c3d-ad84-d12440132f29",
   "metadata": {},
   "outputs": [
    {
     "data": {
      "text/plain": [
       "['spam', 'toast', 'eggs', 'ham']"
      ]
     },
     "execution_count": 58,
     "metadata": {},
     "output_type": "execute_result"
    }
   ],
   "source": [
    "L"
   ]
  },
  {
   "cell_type": "code",
   "execution_count": 59,
   "id": "be7ebb8f-f3c2-45c3-be7d-b6ce3a0eacd0",
   "metadata": {},
   "outputs": [],
   "source": [
    "L.remove('eggs')"
   ]
  },
  {
   "cell_type": "code",
   "execution_count": 60,
   "id": "7f2b22fb-5a8a-497b-8bb2-bc4839efdc94",
   "metadata": {},
   "outputs": [
    {
     "data": {
      "text/plain": [
       "['spam', 'toast', 'ham']"
      ]
     },
     "execution_count": 60,
     "metadata": {},
     "output_type": "execute_result"
    }
   ],
   "source": [
    "L"
   ]
  },
  {
   "cell_type": "code",
   "execution_count": 61,
   "id": "4777a77a-4d70-4b6a-920d-0bf2258bfbb0",
   "metadata": {},
   "outputs": [
    {
     "data": {
      "text/plain": [
       "'toast'"
      ]
     },
     "execution_count": 61,
     "metadata": {},
     "output_type": "execute_result"
    }
   ],
   "source": [
    "L.pop(1)"
   ]
  },
  {
   "cell_type": "code",
   "execution_count": 62,
   "id": "20639eb2-c2f4-4eb3-b2b5-d44d0f8353f0",
   "metadata": {},
   "outputs": [
    {
     "data": {
      "text/plain": [
       "1"
      ]
     },
     "execution_count": 62,
     "metadata": {},
     "output_type": "execute_result"
    }
   ],
   "source": [
    "L.count('spam')"
   ]
  },
  {
   "cell_type": "code",
   "execution_count": 63,
   "id": "57685aae-6b78-4f5c-b69f-08bc1bf4a66d",
   "metadata": {},
   "outputs": [],
   "source": [
    "L = ['spam', 'eggs', 'ham', 'toast']"
   ]
  },
  {
   "cell_type": "code",
   "execution_count": 64,
   "id": "8ef5e8a8-ee84-42d8-b54b-6adb3efaf0a9",
   "metadata": {},
   "outputs": [],
   "source": [
    "del L[0]"
   ]
  },
  {
   "cell_type": "code",
   "execution_count": 65,
   "id": "8038b8f2-1e16-4ec2-bc4b-faf672dacd5d",
   "metadata": {},
   "outputs": [
    {
     "data": {
      "text/plain": [
       "['eggs', 'ham', 'toast']"
      ]
     },
     "execution_count": 65,
     "metadata": {},
     "output_type": "execute_result"
    }
   ],
   "source": [
    "L"
   ]
  },
  {
   "cell_type": "code",
   "execution_count": 66,
   "id": "2cb6cb20-5a6f-448e-86b6-70bb38c817b8",
   "metadata": {},
   "outputs": [],
   "source": [
    "del L[1:]"
   ]
  },
  {
   "cell_type": "code",
   "execution_count": 67,
   "id": "a162f033-3817-49b9-b415-3548f6ca3ee0",
   "metadata": {},
   "outputs": [
    {
     "data": {
      "text/plain": [
       "['eggs']"
      ]
     },
     "execution_count": 67,
     "metadata": {},
     "output_type": "execute_result"
    }
   ],
   "source": [
    "L"
   ]
  },
  {
   "cell_type": "code",
   "execution_count": 68,
   "id": "79820e41-35b5-442f-9ce8-10fc3eacffae",
   "metadata": {},
   "outputs": [],
   "source": [
    "L = ['Already', 'got', 'one']"
   ]
  },
  {
   "cell_type": "code",
   "execution_count": 69,
   "id": "b3b7c95a-e10a-4807-ae30-0554b24b4e5f",
   "metadata": {},
   "outputs": [],
   "source": [
    "L[1:] = []"
   ]
  },
  {
   "cell_type": "code",
   "execution_count": 70,
   "id": "639781d6-ba36-401a-8901-9458ba479948",
   "metadata": {},
   "outputs": [
    {
     "data": {
      "text/plain": [
       "['Already']"
      ]
     },
     "execution_count": 70,
     "metadata": {},
     "output_type": "execute_result"
    }
   ],
   "source": [
    "L"
   ]
  },
  {
   "cell_type": "code",
   "execution_count": 71,
   "id": "d93b3280-1f3a-4b7d-9ba7-f4fa40823b8d",
   "metadata": {},
   "outputs": [],
   "source": [
    "L[0] = []"
   ]
  },
  {
   "cell_type": "code",
   "execution_count": 72,
   "id": "dafddb63-2f40-4186-aa52-fcf2f9508d0a",
   "metadata": {},
   "outputs": [
    {
     "data": {
      "text/plain": [
       "[[]]"
      ]
     },
     "execution_count": 72,
     "metadata": {},
     "output_type": "execute_result"
    }
   ],
   "source": [
    "L"
   ]
  },
  {
   "cell_type": "code",
   "execution_count": 73,
   "id": "f268b6cb-3dd4-4ca7-bdaa-a9d65cd63388",
   "metadata": {},
   "outputs": [],
   "source": [
    "D = {'spam': 2, 'ham': 1, 'eggs': 3}"
   ]
  },
  {
   "cell_type": "code",
   "execution_count": 74,
   "id": "d7726cd1-d09f-4925-b2c8-a95b1f7b2c49",
   "metadata": {},
   "outputs": [
    {
     "data": {
      "text/plain": [
       "2"
      ]
     },
     "execution_count": 74,
     "metadata": {},
     "output_type": "execute_result"
    }
   ],
   "source": [
    "D['spam']"
   ]
  },
  {
   "cell_type": "code",
   "execution_count": 75,
   "id": "884e38d8-b6d7-4363-bd6f-683ab3356808",
   "metadata": {},
   "outputs": [
    {
     "data": {
      "text/plain": [
       "{'spam': 2, 'ham': 1, 'eggs': 3}"
      ]
     },
     "execution_count": 75,
     "metadata": {},
     "output_type": "execute_result"
    }
   ],
   "source": [
    "D"
   ]
  },
  {
   "cell_type": "code",
   "execution_count": 76,
   "id": "f7dc1ddb-d982-4c98-a242-de2cd9f971a7",
   "metadata": {},
   "outputs": [
    {
     "data": {
      "text/plain": [
       "3"
      ]
     },
     "execution_count": 76,
     "metadata": {},
     "output_type": "execute_result"
    }
   ],
   "source": [
    "len(D)"
   ]
  },
  {
   "cell_type": "code",
   "execution_count": 78,
   "id": "b05200f9-4ec8-4c9b-861d-91fb10bceeb5",
   "metadata": {},
   "outputs": [
    {
     "data": {
      "text/plain": [
       "True"
      ]
     },
     "execution_count": 78,
     "metadata": {},
     "output_type": "execute_result"
    }
   ],
   "source": [
    "'ham' in D"
   ]
  },
  {
   "cell_type": "code",
   "execution_count": 79,
   "id": "d1a98d0f-1e4d-4794-974c-4abe17b94e7b",
   "metadata": {},
   "outputs": [
    {
     "data": {
      "text/plain": [
       "['spam', 'ham', 'eggs']"
      ]
     },
     "execution_count": 79,
     "metadata": {},
     "output_type": "execute_result"
    }
   ],
   "source": [
    "list(D.keys())"
   ]
  },
  {
   "cell_type": "code",
   "execution_count": 80,
   "id": "f96ff3d1-0c06-4c04-b156-bdfce40ff3ed",
   "metadata": {},
   "outputs": [
    {
     "data": {
      "text/plain": [
       "{'spam': 2, 'ham': 1, 'eggs': 3}"
      ]
     },
     "execution_count": 80,
     "metadata": {},
     "output_type": "execute_result"
    }
   ],
   "source": [
    "D"
   ]
  },
  {
   "cell_type": "code",
   "execution_count": 81,
   "id": "b2a25840-c517-4f93-b177-a0575c8b1c5f",
   "metadata": {},
   "outputs": [],
   "source": [
    "D['ham'] = ['grill', 'bake', 'fry']"
   ]
  },
  {
   "cell_type": "code",
   "execution_count": 82,
   "id": "665687cf-34bf-451e-810d-986efe7cc919",
   "metadata": {},
   "outputs": [
    {
     "data": {
      "text/plain": [
       "{'spam': 2, 'ham': ['grill', 'bake', 'fry'], 'eggs': 3}"
      ]
     },
     "execution_count": 82,
     "metadata": {},
     "output_type": "execute_result"
    }
   ],
   "source": [
    "D"
   ]
  },
  {
   "cell_type": "code",
   "execution_count": 83,
   "id": "edc7f076-687b-4a0b-af9b-fef1a20be693",
   "metadata": {},
   "outputs": [],
   "source": [
    "del D['eggs']"
   ]
  },
  {
   "cell_type": "code",
   "execution_count": 84,
   "id": "17f8e007-53a7-40dc-9485-a514e99f0113",
   "metadata": {},
   "outputs": [
    {
     "data": {
      "text/plain": [
       "{'spam': 2, 'ham': ['grill', 'bake', 'fry']}"
      ]
     },
     "execution_count": 84,
     "metadata": {},
     "output_type": "execute_result"
    }
   ],
   "source": [
    "D"
   ]
  },
  {
   "cell_type": "code",
   "execution_count": 85,
   "id": "a3276ff0-8f7c-4fce-8e64-95c8f27c6e20",
   "metadata": {},
   "outputs": [],
   "source": [
    "D['brunch'] = 'Bacon'"
   ]
  },
  {
   "cell_type": "code",
   "execution_count": 86,
   "id": "c015f4ee-40d7-4b35-8477-ee31e364bc5d",
   "metadata": {},
   "outputs": [
    {
     "data": {
      "text/plain": [
       "{'spam': 2, 'ham': ['grill', 'bake', 'fry'], 'brunch': 'Bacon'}"
      ]
     },
     "execution_count": 86,
     "metadata": {},
     "output_type": "execute_result"
    }
   ],
   "source": [
    "D"
   ]
  },
  {
   "cell_type": "code",
   "execution_count": 87,
   "id": "151c7750-a7bd-4235-9fe0-2e081d64ba95",
   "metadata": {},
   "outputs": [],
   "source": [
    "D = {'spam': 2, 'ham': 1, 'eggs': 3}"
   ]
  },
  {
   "cell_type": "code",
   "execution_count": 88,
   "id": "e1a0181e-5c36-4a95-8469-ae2a636e0c88",
   "metadata": {},
   "outputs": [
    {
     "data": {
      "text/plain": [
       "[2, 1, 3]"
      ]
     },
     "execution_count": 88,
     "metadata": {},
     "output_type": "execute_result"
    }
   ],
   "source": [
    "list(D.values())"
   ]
  },
  {
   "cell_type": "code",
   "execution_count": 89,
   "id": "791f0e42-ea59-4773-8caa-62ef5d173e4b",
   "metadata": {},
   "outputs": [
    {
     "data": {
      "text/plain": [
       "[('spam', 2), ('ham', 1), ('eggs', 3)]"
      ]
     },
     "execution_count": 89,
     "metadata": {},
     "output_type": "execute_result"
    }
   ],
   "source": [
    "list(D.items())"
   ]
  },
  {
   "cell_type": "code",
   "execution_count": 90,
   "id": "62a7b00f-c1ac-4aa6-9c5f-12cac791dc5a",
   "metadata": {},
   "outputs": [
    {
     "data": {
      "text/plain": [
       "2"
      ]
     },
     "execution_count": 90,
     "metadata": {},
     "output_type": "execute_result"
    }
   ],
   "source": [
    "D.get('spam')"
   ]
  },
  {
   "cell_type": "code",
   "execution_count": 91,
   "id": "9b79b38f-704b-432d-8494-7051d881861f",
   "metadata": {},
   "outputs": [
    {
     "name": "stdout",
     "output_type": "stream",
     "text": [
      "None\n"
     ]
    }
   ],
   "source": [
    "print(D.get('toast'))"
   ]
  },
  {
   "cell_type": "code",
   "execution_count": 92,
   "id": "fd5a9883-7caa-404c-95d1-c1a9db3acd98",
   "metadata": {},
   "outputs": [
    {
     "data": {
      "text/plain": [
       "88"
      ]
     },
     "execution_count": 92,
     "metadata": {},
     "output_type": "execute_result"
    }
   ],
   "source": [
    "D.get('toast', 88)"
   ]
  },
  {
   "cell_type": "code",
   "execution_count": 93,
   "id": "8d2826f7-564d-4991-a394-33fd612b5752",
   "metadata": {},
   "outputs": [
    {
     "data": {
      "text/plain": [
       "{'spam': 2, 'ham': 1, 'eggs': 3}"
      ]
     },
     "execution_count": 93,
     "metadata": {},
     "output_type": "execute_result"
    }
   ],
   "source": [
    "D"
   ]
  },
  {
   "cell_type": "code",
   "execution_count": 94,
   "id": "5270cf10-38c3-409a-b0a7-4bd391c0dd6a",
   "metadata": {},
   "outputs": [],
   "source": [
    "D2 = {'toast': 4, 'muffin': 5}"
   ]
  },
  {
   "cell_type": "code",
   "execution_count": 95,
   "id": "49bfffe8-491a-46d0-81a5-96e16a8f9542",
   "metadata": {},
   "outputs": [],
   "source": [
    "D.update(D2)"
   ]
  },
  {
   "cell_type": "code",
   "execution_count": 96,
   "id": "acced56d-ad9a-4fd9-9ad3-abf3e2436ef6",
   "metadata": {},
   "outputs": [
    {
     "data": {
      "text/plain": [
       "{'spam': 2, 'ham': 1, 'eggs': 3, 'toast': 4, 'muffin': 5}"
      ]
     },
     "execution_count": 96,
     "metadata": {},
     "output_type": "execute_result"
    }
   ],
   "source": [
    "D"
   ]
  },
  {
   "cell_type": "code",
   "execution_count": 97,
   "id": "620f802f-b67e-46ca-9d39-953173ea20e3",
   "metadata": {},
   "outputs": [
    {
     "data": {
      "text/plain": [
       "{'spam': 2, 'ham': 1, 'eggs': 3, 'toast': 4, 'muffin': 5}"
      ]
     },
     "execution_count": 97,
     "metadata": {},
     "output_type": "execute_result"
    }
   ],
   "source": [
    "D"
   ]
  },
  {
   "cell_type": "code",
   "execution_count": 98,
   "id": "7ea969fc-d8b7-498b-a797-3b206a236a02",
   "metadata": {},
   "outputs": [
    {
     "data": {
      "text/plain": [
       "5"
      ]
     },
     "execution_count": 98,
     "metadata": {},
     "output_type": "execute_result"
    }
   ],
   "source": [
    "D.pop('muffin')"
   ]
  },
  {
   "cell_type": "code",
   "execution_count": 99,
   "id": "3e9c8a65-2257-47d9-a24e-12783ee712ce",
   "metadata": {},
   "outputs": [
    {
     "data": {
      "text/plain": [
       "4"
      ]
     },
     "execution_count": 99,
     "metadata": {},
     "output_type": "execute_result"
    }
   ],
   "source": [
    "D.pop('toast')"
   ]
  },
  {
   "cell_type": "code",
   "execution_count": 100,
   "id": "5fb1c62f-88fb-40d9-937a-2e5ef478b285",
   "metadata": {},
   "outputs": [
    {
     "data": {
      "text/plain": [
       "{'spam': 2, 'ham': 1, 'eggs': 3}"
      ]
     },
     "execution_count": 100,
     "metadata": {},
     "output_type": "execute_result"
    }
   ],
   "source": [
    "D"
   ]
  },
  {
   "cell_type": "code",
   "execution_count": 101,
   "id": "8b4b0ff1-7cab-491c-ae32-19c7a38f7303",
   "metadata": {},
   "outputs": [],
   "source": [
    "L = ['aa', 'bb', 'cc', 'dd']"
   ]
  },
  {
   "cell_type": "code",
   "execution_count": 102,
   "id": "349953b9-663c-431d-922d-ffe368930570",
   "metadata": {},
   "outputs": [
    {
     "data": {
      "text/plain": [
       "'dd'"
      ]
     },
     "execution_count": 102,
     "metadata": {},
     "output_type": "execute_result"
    }
   ],
   "source": [
    "L.pop()"
   ]
  },
  {
   "cell_type": "code",
   "execution_count": 103,
   "id": "9258eb9f-3c1e-499f-a661-44a4e995ac04",
   "metadata": {},
   "outputs": [
    {
     "data": {
      "text/plain": [
       "['aa', 'bb', 'cc']"
      ]
     },
     "execution_count": 103,
     "metadata": {},
     "output_type": "execute_result"
    }
   ],
   "source": [
    "L"
   ]
  },
  {
   "cell_type": "code",
   "execution_count": 104,
   "id": "31c85673-a09d-4ef8-98a2-9623ea3ad2a5",
   "metadata": {},
   "outputs": [
    {
     "data": {
      "text/plain": [
       "'bb'"
      ]
     },
     "execution_count": 104,
     "metadata": {},
     "output_type": "execute_result"
    }
   ],
   "source": [
    "L.pop(1)"
   ]
  },
  {
   "cell_type": "code",
   "execution_count": 105,
   "id": "f98e4f15-d702-4508-b0a3-eea9cf22ae2d",
   "metadata": {},
   "outputs": [
    {
     "data": {
      "text/plain": [
       "['aa', 'cc']"
      ]
     },
     "execution_count": 105,
     "metadata": {},
     "output_type": "execute_result"
    }
   ],
   "source": [
    "L"
   ]
  },
  {
   "cell_type": "code",
   "execution_count": 106,
   "id": "40c5e252-fb9b-4b5c-9b84-d920b5f3bad8",
   "metadata": {},
   "outputs": [],
   "source": [
    "table = {'1975': 'Holy Grail',\n",
    "         '1979': 'Life of Brian',\n",
    "         '1983': 'The Meaning of Life'}"
   ]
  },
  {
   "cell_type": "code",
   "execution_count": 107,
   "id": "b301e0e4-da01-49dc-866e-3eda2cf50638",
   "metadata": {},
   "outputs": [],
   "source": [
    "year = '1983'"
   ]
  },
  {
   "cell_type": "code",
   "execution_count": 108,
   "id": "cf34a285-bb94-4ac2-9720-1551a67e6392",
   "metadata": {},
   "outputs": [],
   "source": [
    "movie = table[year]"
   ]
  },
  {
   "cell_type": "code",
   "execution_count": 109,
   "id": "3cd94230-8ef4-4497-8cd2-ac10dd6bd09c",
   "metadata": {},
   "outputs": [
    {
     "data": {
      "text/plain": [
       "'The Meaning of Life'"
      ]
     },
     "execution_count": 109,
     "metadata": {},
     "output_type": "execute_result"
    }
   ],
   "source": [
    "movie"
   ]
  },
  {
   "cell_type": "code",
   "execution_count": 110,
   "id": "930a0268-7613-49f1-8c17-28e06c61364e",
   "metadata": {},
   "outputs": [
    {
     "name": "stdout",
     "output_type": "stream",
     "text": [
      "1975\tHoly Grail\n",
      "1979\tLife of Brian\n",
      "1983\tThe Meaning of Life\n"
     ]
    }
   ],
   "source": [
    "for year in table:\n",
    "    print(year + '\\t' + table[year])"
   ]
  },
  {
   "cell_type": "code",
   "execution_count": 111,
   "id": "5c398c42-4a3e-44d2-a544-b63b88d95680",
   "metadata": {},
   "outputs": [],
   "source": [
    "table = {'Holy Grail':              '1975',\n",
    "         'Life of Brian':           '1979',\n",
    "         'The meaning of Life':     '1983'}"
   ]
  },
  {
   "cell_type": "code",
   "execution_count": 112,
   "id": "a1b84ffb-c5b3-482d-910d-8ea6eab68bbf",
   "metadata": {},
   "outputs": [
    {
     "data": {
      "text/plain": [
       "'1975'"
      ]
     },
     "execution_count": 112,
     "metadata": {},
     "output_type": "execute_result"
    }
   ],
   "source": [
    "table['Holy Grail']"
   ]
  },
  {
   "cell_type": "code",
   "execution_count": 113,
   "id": "ac7dfcfa-a3c6-4696-86da-2653fb359ea7",
   "metadata": {},
   "outputs": [
    {
     "data": {
      "text/plain": [
       "[('Holy Grail', '1975'),\n",
       " ('Life of Brian', '1979'),\n",
       " ('The meaning of Life', '1983')]"
      ]
     },
     "execution_count": 113,
     "metadata": {},
     "output_type": "execute_result"
    }
   ],
   "source": [
    "list(table.items())"
   ]
  },
  {
   "cell_type": "code",
   "execution_count": 114,
   "id": "5a5e80c7-899a-4202-8e96-c1e1a14b5b7b",
   "metadata": {},
   "outputs": [
    {
     "data": {
      "text/plain": [
       "['Holy Grail']"
      ]
     },
     "execution_count": 114,
     "metadata": {},
     "output_type": "execute_result"
    }
   ],
   "source": [
    "[title for (title, year) in table.items() if year == '1975']"
   ]
  },
  {
   "cell_type": "code",
   "execution_count": 115,
   "id": "107068ae-5fa8-4c96-9644-79a82663f32a",
   "metadata": {},
   "outputs": [],
   "source": [
    "K = 'Holy Grail'"
   ]
  },
  {
   "cell_type": "code",
   "execution_count": 116,
   "id": "503d7421-23b2-4278-900f-d69f016646ac",
   "metadata": {},
   "outputs": [
    {
     "data": {
      "text/plain": [
       "'1975'"
      ]
     },
     "execution_count": 116,
     "metadata": {},
     "output_type": "execute_result"
    }
   ],
   "source": [
    "table[K]"
   ]
  },
  {
   "cell_type": "code",
   "execution_count": 117,
   "id": "43b075d8-0245-485d-9059-ff3e50c76759",
   "metadata": {},
   "outputs": [],
   "source": [
    "V = '1975'"
   ]
  },
  {
   "cell_type": "code",
   "execution_count": 118,
   "id": "87b2fead-1a07-4291-a2e1-be64c434a6da",
   "metadata": {},
   "outputs": [
    {
     "data": {
      "text/plain": [
       "['Holy Grail']"
      ]
     },
     "execution_count": 118,
     "metadata": {},
     "output_type": "execute_result"
    }
   ],
   "source": [
    "[key for (key, value) in table.items() if value == V]"
   ]
  },
  {
   "cell_type": "code",
   "execution_count": 119,
   "id": "09c4e725-b466-488e-894a-b4bb964f9219",
   "metadata": {},
   "outputs": [
    {
     "data": {
      "text/plain": [
       "['Holy Grail']"
      ]
     },
     "execution_count": 119,
     "metadata": {},
     "output_type": "execute_result"
    }
   ],
   "source": [
    "[key for key in table.keys() if table[key] == V]"
   ]
  },
  {
   "cell_type": "code",
   "execution_count": null,
   "id": "5435ee2b-5f8b-44ed-b1d1-64a840e2dfc0",
   "metadata": {},
   "outputs": [],
   "source": []
  }
 ],
 "metadata": {
  "kernelspec": {
   "display_name": "Python 3 (ipykernel)",
   "language": "python",
   "name": "python3"
  },
  "language_info": {
   "codemirror_mode": {
    "name": "ipython",
    "version": 3
   },
   "file_extension": ".py",
   "mimetype": "text/x-python",
   "name": "python",
   "nbconvert_exporter": "python",
   "pygments_lexer": "ipython3",
   "version": "3.9.13"
  }
 },
 "nbformat": 4,
 "nbformat_minor": 5
}
