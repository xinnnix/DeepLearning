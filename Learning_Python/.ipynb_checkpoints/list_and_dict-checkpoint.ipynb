{
 "cells": [
  {
   "cell_type": "code",
   "execution_count": 1,
   "id": "a4ba886d-6956-4642-bad2-5a6ab79e1d60",
   "metadata": {},
   "outputs": [
    {
     "data": {
      "text/plain": [
       "3"
      ]
     },
     "execution_count": 1,
     "metadata": {},
     "output_type": "execute_result"
    }
   ],
   "source": [
    "len([1,2,3])"
   ]
  },
  {
   "cell_type": "code",
   "execution_count": 2,
   "id": "7d5be9f0-586e-4022-b5d4-57016cce4c75",
   "metadata": {},
   "outputs": [
    {
     "data": {
      "text/plain": [
       "[1, 2, 3, 4, 5, 6]"
      ]
     },
     "execution_count": 2,
     "metadata": {},
     "output_type": "execute_result"
    }
   ],
   "source": [
    "[1,2,3] + [4,5,6]"
   ]
  },
  {
   "cell_type": "code",
   "execution_count": 3,
   "id": "6ff4b1ea-5a76-4147-8aa6-b4e8a626e4dc",
   "metadata": {},
   "outputs": [
    {
     "data": {
      "text/plain": [
       "['Ni!', 'Ni!', 'Ni!', 'Ni!']"
      ]
     },
     "execution_count": 3,
     "metadata": {},
     "output_type": "execute_result"
    }
   ],
   "source": [
    "['Ni!'] * 4"
   ]
  },
  {
   "cell_type": "code",
   "execution_count": 4,
   "id": "a0a19536-4ce2-46f8-a67b-68fd6619e374",
   "metadata": {},
   "outputs": [
    {
     "data": {
      "text/plain": [
       "'[1, 2]34'"
      ]
     },
     "execution_count": 4,
     "metadata": {},
     "output_type": "execute_result"
    }
   ],
   "source": [
    "str([1,2]) + '34'"
   ]
  },
  {
   "cell_type": "code",
   "execution_count": 5,
   "id": "48b43986-103a-4c2e-b816-e0765fa1c057",
   "metadata": {},
   "outputs": [
    {
     "data": {
      "text/plain": [
       "[1, 2, '3', '4']"
      ]
     },
     "execution_count": 5,
     "metadata": {},
     "output_type": "execute_result"
    }
   ],
   "source": [
    "[1,2] + list('34')"
   ]
  },
  {
   "cell_type": "code",
   "execution_count": 6,
   "id": "9812596a-ccad-4d7a-a805-80e3f7e330fb",
   "metadata": {},
   "outputs": [
    {
     "data": {
      "text/plain": [
       "True"
      ]
     },
     "execution_count": 6,
     "metadata": {},
     "output_type": "execute_result"
    }
   ],
   "source": [
    "3 in [1, 2, 3]"
   ]
  },
  {
   "cell_type": "code",
   "execution_count": 7,
   "id": "06577949-2c91-46f5-899e-eeb1b6f88962",
   "metadata": {},
   "outputs": [
    {
     "name": "stdout",
     "output_type": "stream",
     "text": [
      "1 2 3 "
     ]
    }
   ],
   "source": [
    "for x in [1, 2, 3]:\n",
    "    print(x, end=' ')"
   ]
  },
  {
   "cell_type": "code",
   "execution_count": 8,
   "id": "842d95ef-2184-4c4e-a596-b498ac8e62ba",
   "metadata": {},
   "outputs": [],
   "source": [
    "res = [c *4 for c in 'spam']"
   ]
  },
  {
   "cell_type": "code",
   "execution_count": 9,
   "id": "376827b7-57ad-45d4-9a0b-ae113466d222",
   "metadata": {},
   "outputs": [
    {
     "data": {
      "text/plain": [
       "['ssss', 'pppp', 'aaaa', 'mmmm']"
      ]
     },
     "execution_count": 9,
     "metadata": {},
     "output_type": "execute_result"
    }
   ],
   "source": [
    "res"
   ]
  },
  {
   "cell_type": "code",
   "execution_count": 10,
   "id": "b4bd6889-1845-41d1-82d8-6ac0b2334838",
   "metadata": {},
   "outputs": [],
   "source": [
    "res = []"
   ]
  },
  {
   "cell_type": "code",
   "execution_count": 11,
   "id": "ab099ff8-9a74-4c34-8c8a-139a99b996c2",
   "metadata": {},
   "outputs": [],
   "source": [
    "for c in 'spam':\n",
    "    res.append(c*4)"
   ]
  },
  {
   "cell_type": "code",
   "execution_count": 12,
   "id": "d3404537-6965-458f-b281-af4801f9354b",
   "metadata": {},
   "outputs": [
    {
     "data": {
      "text/plain": [
       "['ssss', 'pppp', 'aaaa', 'mmmm']"
      ]
     },
     "execution_count": 12,
     "metadata": {},
     "output_type": "execute_result"
    }
   ],
   "source": [
    "res"
   ]
  },
  {
   "cell_type": "code",
   "execution_count": 13,
   "id": "6dcb6c81-d30d-4e36-8fdd-3e83159a30ae",
   "metadata": {},
   "outputs": [
    {
     "data": {
      "text/plain": [
       "[1, 2, 0, 1, 3]"
      ]
     },
     "execution_count": 13,
     "metadata": {},
     "output_type": "execute_result"
    }
   ],
   "source": [
    "list(map(abs, [-1, -2, 0, 1, 3]))"
   ]
  },
  {
   "cell_type": "code",
   "execution_count": null,
   "id": "39d5172b-1848-4b1c-9679-72d834f66308",
   "metadata": {},
   "outputs": [],
   "source": []
  }
 ],
 "metadata": {
  "kernelspec": {
   "display_name": "Python 3 (ipykernel)",
   "language": "python",
   "name": "python3"
  },
  "language_info": {
   "codemirror_mode": {
    "name": "ipython",
    "version": 3
   },
   "file_extension": ".py",
   "mimetype": "text/x-python",
   "name": "python",
   "nbconvert_exporter": "python",
   "pygments_lexer": "ipython3",
   "version": "3.9.13"
  }
 },
 "nbformat": 4,
 "nbformat_minor": 5
}
