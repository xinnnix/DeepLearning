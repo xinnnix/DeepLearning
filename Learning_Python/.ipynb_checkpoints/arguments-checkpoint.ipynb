{
 "cells": [
  {
   "cell_type": "code",
   "execution_count": 1,
   "id": "47976621-4022-4622-93ca-327ff6f9c8f5",
   "metadata": {},
   "outputs": [],
   "source": [
    "def f(a):\n",
    "    a = 99"
   ]
  },
  {
   "cell_type": "code",
   "execution_count": 2,
   "id": "b90cbe6a-8faa-41ab-aa20-5e463bfc5f72",
   "metadata": {},
   "outputs": [],
   "source": [
    "b = 88"
   ]
  },
  {
   "cell_type": "code",
   "execution_count": 3,
   "id": "59b5f795-906f-441d-bba7-b7141723d4d0",
   "metadata": {},
   "outputs": [],
   "source": [
    "f(b)"
   ]
  },
  {
   "cell_type": "code",
   "execution_count": 4,
   "id": "9b15a057-5cfc-421e-b377-f6022530bd98",
   "metadata": {},
   "outputs": [
    {
     "name": "stdout",
     "output_type": "stream",
     "text": [
      "88\n"
     ]
    }
   ],
   "source": [
    "print(b)"
   ]
  },
  {
   "cell_type": "code",
   "execution_count": 5,
   "id": "1dc6bc61-b5cf-4945-9a4c-c6180c4d173c",
   "metadata": {},
   "outputs": [],
   "source": [
    "def changer(a, b):\n",
    "    a = 2\n",
    "    b[0] = 'spam'"
   ]
  },
  {
   "cell_type": "code",
   "execution_count": 6,
   "id": "47f3b4aa-acea-4fb4-8c33-03f05db97dfa",
   "metadata": {},
   "outputs": [],
   "source": [
    "x = 1"
   ]
  },
  {
   "cell_type": "code",
   "execution_count": 7,
   "id": "39686bf8-343c-4eca-8c2a-5a177b69f246",
   "metadata": {},
   "outputs": [],
   "source": [
    "L = [1, 2]"
   ]
  },
  {
   "cell_type": "code",
   "execution_count": 8,
   "id": "9267cdc2-dde1-49fe-8279-164a9892387e",
   "metadata": {},
   "outputs": [],
   "source": [
    "changer(x, L)"
   ]
  },
  {
   "cell_type": "code",
   "execution_count": 9,
   "id": "3b444f96-dbb7-4cd8-a2d4-9a4faff3de1f",
   "metadata": {},
   "outputs": [
    {
     "data": {
      "text/plain": [
       "(1, ['spam', 2])"
      ]
     },
     "execution_count": 9,
     "metadata": {},
     "output_type": "execute_result"
    }
   ],
   "source": [
    "x, L"
   ]
  },
  {
   "cell_type": "code",
   "execution_count": 10,
   "id": "faa861bb-d45a-4061-a59d-718bd08d4b73",
   "metadata": {},
   "outputs": [],
   "source": [
    "x = 1"
   ]
  },
  {
   "cell_type": "code",
   "execution_count": 11,
   "id": "0ddc289c-eb96-4b82-a638-0af1b11aea7e",
   "metadata": {},
   "outputs": [],
   "source": [
    "a = x"
   ]
  },
  {
   "cell_type": "code",
   "execution_count": 12,
   "id": "3b143281-a583-4a41-bb39-30af9a28835d",
   "metadata": {},
   "outputs": [],
   "source": [
    "a = 2"
   ]
  },
  {
   "cell_type": "code",
   "execution_count": 13,
   "id": "0dabc87a-c85d-48fb-977c-7c7b14816e3a",
   "metadata": {},
   "outputs": [
    {
     "name": "stdout",
     "output_type": "stream",
     "text": [
      "1\n"
     ]
    }
   ],
   "source": [
    "print(x)"
   ]
  },
  {
   "cell_type": "code",
   "execution_count": 14,
   "id": "848c749e-37d8-4f5d-b2b0-ed250f5ca1c1",
   "metadata": {},
   "outputs": [],
   "source": [
    "L = [1, 2]"
   ]
  },
  {
   "cell_type": "code",
   "execution_count": 15,
   "id": "801efc91-7b4c-455d-b148-33da20a1b99c",
   "metadata": {},
   "outputs": [],
   "source": [
    "b = L"
   ]
  },
  {
   "cell_type": "code",
   "execution_count": 16,
   "id": "a08f20c0-5995-403c-89d0-9f11ad99848e",
   "metadata": {},
   "outputs": [],
   "source": [
    "b[0] = 'spam'"
   ]
  },
  {
   "cell_type": "code",
   "execution_count": 17,
   "id": "f74e7442-0f52-49d1-a6e7-fdc0592fd69f",
   "metadata": {},
   "outputs": [
    {
     "name": "stdout",
     "output_type": "stream",
     "text": [
      "['spam', 2]\n"
     ]
    }
   ],
   "source": [
    "print(L)"
   ]
  },
  {
   "cell_type": "code",
   "execution_count": 18,
   "id": "a4818a5f-9971-4b7d-9ca2-dbad73e7e67f",
   "metadata": {},
   "outputs": [],
   "source": [
    "def multiple(x, y):\n",
    "    x = 2\n",
    "    y = [3, 4]\n",
    "    return x, y"
   ]
  },
  {
   "cell_type": "code",
   "execution_count": 19,
   "id": "69c17066-ea12-4a6d-bb3b-06e6f63b097b",
   "metadata": {},
   "outputs": [],
   "source": [
    "x = 1\n",
    "L = [1, 2]"
   ]
  },
  {
   "cell_type": "code",
   "execution_count": 20,
   "id": "14d50155-a2b4-4b0b-b4b4-cb96cb8bbe92",
   "metadata": {},
   "outputs": [],
   "source": [
    "x, L = multiple(x, L)"
   ]
  },
  {
   "cell_type": "code",
   "execution_count": 21,
   "id": "4a9b364a-6453-426d-9eec-ae7103ffd117",
   "metadata": {},
   "outputs": [
    {
     "data": {
      "text/plain": [
       "(2, [3, 4])"
      ]
     },
     "execution_count": 21,
     "metadata": {},
     "output_type": "execute_result"
    }
   ],
   "source": [
    "x, L"
   ]
  },
  {
   "cell_type": "code",
   "execution_count": 22,
   "id": "6cfb31c5-3a94-4183-b0c3-32538e1d1cee",
   "metadata": {},
   "outputs": [],
   "source": [
    "def f(a, b, c): print(a, b, c)"
   ]
  },
  {
   "cell_type": "code",
   "execution_count": 23,
   "id": "9325fd36-0a81-4827-8525-bd00cd41fb0e",
   "metadata": {},
   "outputs": [
    {
     "name": "stdout",
     "output_type": "stream",
     "text": [
      "1 2 3\n"
     ]
    }
   ],
   "source": [
    "f(1, 2, 3)"
   ]
  },
  {
   "cell_type": "code",
   "execution_count": 24,
   "id": "77bf24f5-629e-4ae2-b722-7ab77d325da0",
   "metadata": {},
   "outputs": [
    {
     "name": "stdout",
     "output_type": "stream",
     "text": [
      "1 2 3\n"
     ]
    }
   ],
   "source": [
    "f(c = 3, b = 2, a = 1)"
   ]
  },
  {
   "cell_type": "code",
   "execution_count": 25,
   "id": "db06fa7c-c0e1-43a1-9c1e-c47699ef191d",
   "metadata": {},
   "outputs": [
    {
     "name": "stdout",
     "output_type": "stream",
     "text": [
      "1 2 3\n"
     ]
    }
   ],
   "source": [
    "f(1, c=3, b=2)"
   ]
  },
  {
   "cell_type": "code",
   "execution_count": 26,
   "id": "c5c6209c-ac60-4147-930c-a6d3cbc0330f",
   "metadata": {},
   "outputs": [],
   "source": [
    "def f(a, b=2, c=3): print(a, b, c)"
   ]
  },
  {
   "cell_type": "code",
   "execution_count": 27,
   "id": "d0862bca-650f-4a39-9a01-fdd2ae84229a",
   "metadata": {},
   "outputs": [
    {
     "name": "stdout",
     "output_type": "stream",
     "text": [
      "1 2 3\n"
     ]
    }
   ],
   "source": [
    "f(1)"
   ]
  },
  {
   "cell_type": "code",
   "execution_count": 28,
   "id": "9c0ad8b0-c261-4ab8-9601-62c2af9ead28",
   "metadata": {},
   "outputs": [
    {
     "name": "stdout",
     "output_type": "stream",
     "text": [
      "1 2 3\n"
     ]
    }
   ],
   "source": [
    "f(a = 1)"
   ]
  },
  {
   "cell_type": "code",
   "execution_count": 29,
   "id": "a6fcb601-76d0-4415-8b6f-34436327c54e",
   "metadata": {},
   "outputs": [
    {
     "name": "stdout",
     "output_type": "stream",
     "text": [
      "1 4 3\n"
     ]
    }
   ],
   "source": [
    "f(1, 4)"
   ]
  },
  {
   "cell_type": "code",
   "execution_count": 30,
   "id": "a866a2fb-7b92-4922-a041-298c1fb2bd66",
   "metadata": {},
   "outputs": [
    {
     "name": "stdout",
     "output_type": "stream",
     "text": [
      "1 4 5\n"
     ]
    }
   ],
   "source": [
    "f(1, 4, 5)"
   ]
  },
  {
   "cell_type": "code",
   "execution_count": 31,
   "id": "319a2287-bbd0-47d1-a864-951e7744bf4e",
   "metadata": {},
   "outputs": [
    {
     "name": "stdout",
     "output_type": "stream",
     "text": [
      "1 2 6\n"
     ]
    }
   ],
   "source": [
    "f(1, c=6)"
   ]
  },
  {
   "cell_type": "code",
   "execution_count": 32,
   "id": "6bd34dfb-5276-48e0-b6bf-6ee3bef5cdb2",
   "metadata": {},
   "outputs": [],
   "source": [
    "def func(spam, eggs, toast=0, ham=0):\n",
    "    print((spam, eggs, toast, ham))"
   ]
  },
  {
   "cell_type": "code",
   "execution_count": 33,
   "id": "d3a81afd-3d72-47d7-8493-d9e461b8ae8f",
   "metadata": {},
   "outputs": [
    {
     "name": "stdout",
     "output_type": "stream",
     "text": [
      "(1, 2, 0, 0)\n"
     ]
    }
   ],
   "source": [
    "func(1,2)"
   ]
  },
  {
   "cell_type": "code",
   "execution_count": 34,
   "id": "f211d8bb-fa5b-4a11-94a2-0dccc39c0520",
   "metadata": {},
   "outputs": [
    {
     "name": "stdout",
     "output_type": "stream",
     "text": [
      "(1, 0, 0, 1)\n"
     ]
    }
   ],
   "source": [
    "func(1, ham=1, eggs=0)"
   ]
  },
  {
   "cell_type": "code",
   "execution_count": 35,
   "id": "94200fe8-526a-4c8a-bcf8-361af800565c",
   "metadata": {},
   "outputs": [
    {
     "name": "stdout",
     "output_type": "stream",
     "text": [
      "(1, 0, 0, 0)\n"
     ]
    }
   ],
   "source": [
    "func(spam=1, eggs=0)"
   ]
  },
  {
   "cell_type": "code",
   "execution_count": 36,
   "id": "35193b8e-247a-4d81-be9d-20d65c27dc6e",
   "metadata": {},
   "outputs": [
    {
     "name": "stdout",
     "output_type": "stream",
     "text": [
      "(3, 2, 1, 0)\n"
     ]
    }
   ],
   "source": [
    "func(toast=1, eggs=2, spam=3)"
   ]
  },
  {
   "cell_type": "code",
   "execution_count": 37,
   "id": "38ca2091-8cee-422c-936f-15a68e1bd53a",
   "metadata": {},
   "outputs": [
    {
     "name": "stdout",
     "output_type": "stream",
     "text": [
      "(1, 2, 3, 4)\n"
     ]
    }
   ],
   "source": [
    "func(1, 2, 3, 4)"
   ]
  },
  {
   "cell_type": "code",
   "execution_count": null,
   "id": "12157170-1a8e-4445-bc55-f5aafeff20c1",
   "metadata": {},
   "outputs": [],
   "source": []
  }
 ],
 "metadata": {
  "kernelspec": {
   "display_name": "Python 3 (ipykernel)",
   "language": "python",
   "name": "python3"
  },
  "language_info": {
   "codemirror_mode": {
    "name": "ipython",
    "version": 3
   },
   "file_extension": ".py",
   "mimetype": "text/x-python",
   "name": "python",
   "nbconvert_exporter": "python",
   "pygments_lexer": "ipython3",
   "version": "3.9.13"
  }
 },
 "nbformat": 4,
 "nbformat_minor": 5
}
