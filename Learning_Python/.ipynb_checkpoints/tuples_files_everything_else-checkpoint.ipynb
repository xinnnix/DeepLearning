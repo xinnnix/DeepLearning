{
 "cells": [
  {
   "cell_type": "code",
   "execution_count": 1,
   "id": "c7a0fb96-af06-47fc-b666-cfaea943af6a",
   "metadata": {},
   "outputs": [
    {
     "data": {
      "text/plain": [
       "(1, 2, 3, 4)"
      ]
     },
     "execution_count": 1,
     "metadata": {},
     "output_type": "execute_result"
    }
   ],
   "source": [
    "(1, 2) + (3, 4)"
   ]
  },
  {
   "cell_type": "code",
   "execution_count": 2,
   "id": "eb2515ae-b58b-441d-98c7-50c239dbe120",
   "metadata": {},
   "outputs": [
    {
     "data": {
      "text/plain": [
       "(1, 2, 1, 2, 1, 2, 1, 2)"
      ]
     },
     "execution_count": 2,
     "metadata": {},
     "output_type": "execute_result"
    }
   ],
   "source": [
    "(1, 2) * 4"
   ]
  },
  {
   "cell_type": "code",
   "execution_count": 3,
   "id": "d4c7e66f-2f57-4ea9-bab4-f40ad44a50b5",
   "metadata": {},
   "outputs": [],
   "source": [
    "T = (1, 2, 3, 4)"
   ]
  },
  {
   "cell_type": "code",
   "execution_count": 4,
   "id": "2955c06d-66f2-43aa-8393-bc8869b1f9b9",
   "metadata": {},
   "outputs": [
    {
     "data": {
      "text/plain": [
       "(1, (2, 3))"
      ]
     },
     "execution_count": 4,
     "metadata": {},
     "output_type": "execute_result"
    }
   ],
   "source": [
    "T[0], T[1:3]"
   ]
  },
  {
   "cell_type": "code",
   "execution_count": 5,
   "id": "8be14af7-9f47-4a36-a24d-77ab4af3832e",
   "metadata": {},
   "outputs": [],
   "source": [
    "x = (40)"
   ]
  },
  {
   "cell_type": "code",
   "execution_count": 6,
   "id": "b54eb69e-9e92-4483-859c-4648b27057e7",
   "metadata": {},
   "outputs": [
    {
     "data": {
      "text/plain": [
       "40"
      ]
     },
     "execution_count": 6,
     "metadata": {},
     "output_type": "execute_result"
    }
   ],
   "source": [
    "x"
   ]
  },
  {
   "cell_type": "code",
   "execution_count": 7,
   "id": "cda3f286-897d-4046-88a2-7c6d3750ee25",
   "metadata": {},
   "outputs": [],
   "source": [
    "y = (40,)"
   ]
  },
  {
   "cell_type": "code",
   "execution_count": 8,
   "id": "0085251d-48c5-4bed-bacc-2ab2eddea3ef",
   "metadata": {},
   "outputs": [
    {
     "data": {
      "text/plain": [
       "(40,)"
      ]
     },
     "execution_count": 8,
     "metadata": {},
     "output_type": "execute_result"
    }
   ],
   "source": [
    "y"
   ]
  },
  {
   "cell_type": "code",
   "execution_count": 9,
   "id": "7432a07a-b48f-4f38-a899-c1f1b5b5a02c",
   "metadata": {},
   "outputs": [],
   "source": [
    "T = ('cc', 'aa', 'dd', 'bb')"
   ]
  },
  {
   "cell_type": "code",
   "execution_count": 10,
   "id": "e9f4af4d-4d69-47c7-ae46-d24131e1fb4e",
   "metadata": {},
   "outputs": [],
   "source": [
    "tmp = list(T)"
   ]
  },
  {
   "cell_type": "code",
   "execution_count": 11,
   "id": "b8f98bd7-ab16-459c-b9e7-94ba529b518e",
   "metadata": {},
   "outputs": [
    {
     "data": {
      "text/plain": [
       "('cc', 'aa', 'dd', 'bb')"
      ]
     },
     "execution_count": 11,
     "metadata": {},
     "output_type": "execute_result"
    }
   ],
   "source": [
    "T"
   ]
  },
  {
   "cell_type": "code",
   "execution_count": 12,
   "id": "7378f6a0-e375-4e9e-ac70-603eb5f59f22",
   "metadata": {},
   "outputs": [
    {
     "data": {
      "text/plain": [
       "['cc', 'aa', 'dd', 'bb']"
      ]
     },
     "execution_count": 12,
     "metadata": {},
     "output_type": "execute_result"
    }
   ],
   "source": [
    "tmp"
   ]
  },
  {
   "cell_type": "code",
   "execution_count": 13,
   "id": "6f5119c0-1588-4c10-bf9b-a47ddf6670d4",
   "metadata": {},
   "outputs": [],
   "source": [
    "tmp.sort()"
   ]
  },
  {
   "cell_type": "code",
   "execution_count": 14,
   "id": "ee534f6e-0f38-459d-859e-678cb26740bb",
   "metadata": {},
   "outputs": [
    {
     "data": {
      "text/plain": [
       "['aa', 'bb', 'cc', 'dd']"
      ]
     },
     "execution_count": 14,
     "metadata": {},
     "output_type": "execute_result"
    }
   ],
   "source": [
    "tmp"
   ]
  },
  {
   "cell_type": "code",
   "execution_count": 15,
   "id": "bf7633c4-ff0e-4cff-a254-cb6b5fbb567f",
   "metadata": {},
   "outputs": [],
   "source": [
    "T = tuple(tmp)"
   ]
  },
  {
   "cell_type": "code",
   "execution_count": 16,
   "id": "03c7ebe1-a1e3-41e4-840f-264ca9fab691",
   "metadata": {},
   "outputs": [
    {
     "data": {
      "text/plain": [
       "('aa', 'bb', 'cc', 'dd')"
      ]
     },
     "execution_count": 16,
     "metadata": {},
     "output_type": "execute_result"
    }
   ],
   "source": [
    "T"
   ]
  },
  {
   "cell_type": "code",
   "execution_count": 17,
   "id": "ac04c50a-25e3-46b1-977a-cba06116c177",
   "metadata": {},
   "outputs": [
    {
     "data": {
      "text/plain": [
       "['aa', 'bb', 'cc', 'dd']"
      ]
     },
     "execution_count": 17,
     "metadata": {},
     "output_type": "execute_result"
    }
   ],
   "source": [
    "sorted(T)"
   ]
  },
  {
   "cell_type": "code",
   "execution_count": 18,
   "id": "abf178bf-e7f6-4be0-a660-643c5a61bf93",
   "metadata": {},
   "outputs": [],
   "source": [
    "T = (1, 2, 3, 4, 5)\n",
    "L = [x+20 for x in T]"
   ]
  },
  {
   "cell_type": "code",
   "execution_count": 19,
   "id": "1e154ee4-bbdb-4f98-87d0-e38a3af5b14b",
   "metadata": {},
   "outputs": [
    {
     "data": {
      "text/plain": [
       "[21, 22, 23, 24, 25]"
      ]
     },
     "execution_count": 19,
     "metadata": {},
     "output_type": "execute_result"
    }
   ],
   "source": [
    "L"
   ]
  },
  {
   "cell_type": "code",
   "execution_count": 20,
   "id": "4e4877b0-4f3c-4196-a65c-6c0e361397de",
   "metadata": {},
   "outputs": [],
   "source": [
    "T = (1, 2, 3, 3, 4, 2)"
   ]
  },
  {
   "cell_type": "code",
   "execution_count": 21,
   "id": "06515d97-deee-4050-9b56-595d93d61e50",
   "metadata": {},
   "outputs": [
    {
     "data": {
      "text/plain": [
       "(1, 2, 3, 3, 4, 2)"
      ]
     },
     "execution_count": 21,
     "metadata": {},
     "output_type": "execute_result"
    }
   ],
   "source": [
    "T"
   ]
  },
  {
   "cell_type": "code",
   "execution_count": 22,
   "id": "23a0b266-ddb4-4d58-95f5-2a213aa5bf3b",
   "metadata": {},
   "outputs": [
    {
     "data": {
      "text/plain": [
       "1"
      ]
     },
     "execution_count": 22,
     "metadata": {},
     "output_type": "execute_result"
    }
   ],
   "source": [
    "T.index(2)"
   ]
  },
  {
   "cell_type": "code",
   "execution_count": 23,
   "id": "aa6ed9d8-0933-4fec-bf92-e4aaf75b0150",
   "metadata": {},
   "outputs": [
    {
     "data": {
      "text/plain": [
       "3"
      ]
     },
     "execution_count": 23,
     "metadata": {},
     "output_type": "execute_result"
    }
   ],
   "source": [
    "T.index(3,3)"
   ]
  },
  {
   "cell_type": "code",
   "execution_count": 24,
   "id": "7fa4b1f0-790f-42dc-8f0f-28c26318dc93",
   "metadata": {},
   "outputs": [
    {
     "data": {
      "text/plain": [
       "5"
      ]
     },
     "execution_count": 24,
     "metadata": {},
     "output_type": "execute_result"
    }
   ],
   "source": [
    "T.index(2,2)"
   ]
  },
  {
   "cell_type": "code",
   "execution_count": 25,
   "id": "84b20511-595e-4d5f-8349-f5b0ec0c7cae",
   "metadata": {},
   "outputs": [
    {
     "data": {
      "text/plain": [
       "2"
      ]
     },
     "execution_count": 25,
     "metadata": {},
     "output_type": "execute_result"
    }
   ],
   "source": [
    "T.count(2)"
   ]
  },
  {
   "cell_type": "code",
   "execution_count": 26,
   "id": "88da5834-7f3d-412c-a8c2-a5e65fe44fe3",
   "metadata": {},
   "outputs": [],
   "source": [
    "T = (1, [2,3], 4)"
   ]
  },
  {
   "cell_type": "code",
   "execution_count": 27,
   "id": "485684e0-647f-49eb-8b56-f531a2db515a",
   "metadata": {},
   "outputs": [
    {
     "data": {
      "text/plain": [
       "(1, [2, 3], 4)"
      ]
     },
     "execution_count": 27,
     "metadata": {},
     "output_type": "execute_result"
    }
   ],
   "source": [
    "T"
   ]
  },
  {
   "cell_type": "code",
   "execution_count": 30,
   "id": "814bc86b-6f4b-4d29-a5a3-dafbafa55ab0",
   "metadata": {},
   "outputs": [],
   "source": [
    "T[1][0]= 'sma'"
   ]
  },
  {
   "cell_type": "code",
   "execution_count": 31,
   "id": "94b1fbef-bf2a-4fb8-b422-3d010f4e1d69",
   "metadata": {},
   "outputs": [
    {
     "data": {
      "text/plain": [
       "(1, ['sma', 3], 4)"
      ]
     },
     "execution_count": 31,
     "metadata": {},
     "output_type": "execute_result"
    }
   ],
   "source": [
    "T"
   ]
  },
  {
   "cell_type": "code",
   "execution_count": 32,
   "id": "6ffa6058-8a69-4b86-bc54-108c2cf9c5b0",
   "metadata": {},
   "outputs": [],
   "source": [
    "bob = ('Bob', 40.5, ['dev', 'mgr'])"
   ]
  },
  {
   "cell_type": "code",
   "execution_count": 33,
   "id": "3dbf7494-9812-46b6-ac6b-bb71893e46fd",
   "metadata": {},
   "outputs": [
    {
     "data": {
      "text/plain": [
       "('Bob', 40.5, ['dev', 'mgr'])"
      ]
     },
     "execution_count": 33,
     "metadata": {},
     "output_type": "execute_result"
    }
   ],
   "source": [
    "bob"
   ]
  },
  {
   "cell_type": "code",
   "execution_count": 34,
   "id": "ad98c383-afe7-479c-8209-ff29f32a06a3",
   "metadata": {},
   "outputs": [
    {
     "data": {
      "text/plain": [
       "('Bob', ['dev', 'mgr'])"
      ]
     },
     "execution_count": 34,
     "metadata": {},
     "output_type": "execute_result"
    }
   ],
   "source": [
    "bob[0], bob[2]"
   ]
  },
  {
   "cell_type": "code",
   "execution_count": 35,
   "id": "b3f2512a-9068-4267-8b9a-4e2e184a593c",
   "metadata": {},
   "outputs": [],
   "source": [
    "from collections import namedtuple"
   ]
  },
  {
   "cell_type": "code",
   "execution_count": 36,
   "id": "ed8561cc-faf1-4c36-b6f7-f08717a469b7",
   "metadata": {},
   "outputs": [],
   "source": [
    "Rec = namedtuple('Rec', ['name', 'age', 'jobs'])"
   ]
  },
  {
   "cell_type": "code",
   "execution_count": 37,
   "id": "063dc22c-ec85-4a50-ba9d-31b7fce9e502",
   "metadata": {},
   "outputs": [
    {
     "data": {
      "text/plain": [
       "__main__.Rec"
      ]
     },
     "execution_count": 37,
     "metadata": {},
     "output_type": "execute_result"
    }
   ],
   "source": [
    "Rec"
   ]
  },
  {
   "cell_type": "code",
   "execution_count": 38,
   "id": "236464f4-1b35-4f24-8053-a98d2c44299e",
   "metadata": {},
   "outputs": [],
   "source": [
    "bob = Rec('Bob', age=40.5, jobs=['dev', 'mgr'])"
   ]
  },
  {
   "cell_type": "code",
   "execution_count": 39,
   "id": "0d1e6a03-b527-4cb3-a17e-787cac87bcbe",
   "metadata": {},
   "outputs": [
    {
     "data": {
      "text/plain": [
       "Rec(name='Bob', age=40.5, jobs=['dev', 'mgr'])"
      ]
     },
     "execution_count": 39,
     "metadata": {},
     "output_type": "execute_result"
    }
   ],
   "source": [
    "bob"
   ]
  },
  {
   "cell_type": "code",
   "execution_count": 40,
   "id": "e2f93929-9a72-4cd0-ada4-dd4d054a8c5c",
   "metadata": {},
   "outputs": [
    {
     "data": {
      "text/plain": [
       "('Bob', ['dev', 'mgr'])"
      ]
     },
     "execution_count": 40,
     "metadata": {},
     "output_type": "execute_result"
    }
   ],
   "source": [
    "bob[0], bob[2]"
   ]
  },
  {
   "cell_type": "code",
   "execution_count": 41,
   "id": "f58eca7c-77cc-44ae-965e-bba0b6794975",
   "metadata": {},
   "outputs": [
    {
     "data": {
      "text/plain": [
       "'Bob'"
      ]
     },
     "execution_count": 41,
     "metadata": {},
     "output_type": "execute_result"
    }
   ],
   "source": [
    "bob.name"
   ]
  },
  {
   "cell_type": "code",
   "execution_count": 42,
   "id": "2453567a-dddf-4e58-abca-2b381f8878a9",
   "metadata": {},
   "outputs": [
    {
     "data": {
      "text/plain": [
       "['dev', 'mgr']"
      ]
     },
     "execution_count": 42,
     "metadata": {},
     "output_type": "execute_result"
    }
   ],
   "source": [
    "bob.jobs"
   ]
  },
  {
   "cell_type": "code",
   "execution_count": 43,
   "id": "23a4c280-6dde-4183-9268-47c8ad66c5c2",
   "metadata": {},
   "outputs": [
    {
     "data": {
      "text/plain": [
       "('Bob', ['dev', 'mgr'])"
      ]
     },
     "execution_count": 43,
     "metadata": {},
     "output_type": "execute_result"
    }
   ],
   "source": [
    "bob.name, bob.jobs"
   ]
  },
  {
   "cell_type": "code",
   "execution_count": 44,
   "id": "61920c01-8eb0-434e-9284-d1e968c28026",
   "metadata": {},
   "outputs": [],
   "source": [
    "O = bob._asdict()"
   ]
  },
  {
   "cell_type": "code",
   "execution_count": 45,
   "id": "76b54d3a-faa0-487a-83cd-3a5eb1213bdb",
   "metadata": {},
   "outputs": [
    {
     "data": {
      "text/plain": [
       "{'name': 'Bob', 'age': 40.5, 'jobs': ['dev', 'mgr']}"
      ]
     },
     "execution_count": 45,
     "metadata": {},
     "output_type": "execute_result"
    }
   ],
   "source": [
    "O"
   ]
  },
  {
   "cell_type": "code",
   "execution_count": 46,
   "id": "6fbeed06-bca6-48a6-bd5c-27f7dea3f735",
   "metadata": {},
   "outputs": [
    {
     "data": {
      "text/plain": [
       "('Bob', ['dev', 'mgr'])"
      ]
     },
     "execution_count": 46,
     "metadata": {},
     "output_type": "execute_result"
    }
   ],
   "source": [
    "O['name'], O['jobs']"
   ]
  },
  {
   "cell_type": "code",
   "execution_count": 47,
   "id": "dbbf2832-d9d6-4b10-8367-fa9f500d5efd",
   "metadata": {},
   "outputs": [],
   "source": [
    "myfile = open('myfile.txt', 'w')"
   ]
  },
  {
   "cell_type": "code",
   "execution_count": 48,
   "id": "e7dbcaf9-36c7-4751-ab85-4573b6718d3b",
   "metadata": {},
   "outputs": [
    {
     "data": {
      "text/plain": [
       "16"
      ]
     },
     "execution_count": 48,
     "metadata": {},
     "output_type": "execute_result"
    }
   ],
   "source": [
    "myfile.write('hello text file\\n')"
   ]
  },
  {
   "cell_type": "code",
   "execution_count": 49,
   "id": "67710e53-2fc3-4d2e-aceb-d48fff0fb2a2",
   "metadata": {},
   "outputs": [
    {
     "data": {
      "text/plain": [
       "18"
      ]
     },
     "execution_count": 49,
     "metadata": {},
     "output_type": "execute_result"
    }
   ],
   "source": [
    "myfile.write('goodbye text file\\n')"
   ]
  },
  {
   "cell_type": "code",
   "execution_count": 50,
   "id": "4ea42077-7041-4a6d-be9a-f842a622c09c",
   "metadata": {},
   "outputs": [],
   "source": [
    "myfile.close()"
   ]
  },
  {
   "cell_type": "code",
   "execution_count": 52,
   "id": "121a5874-f8c3-4328-8f1f-19e0c7b43bae",
   "metadata": {},
   "outputs": [],
   "source": [
    "myfile = open('myfile.txt')"
   ]
  },
  {
   "cell_type": "code",
   "execution_count": 53,
   "id": "f4f338f3-9405-4bbe-94a6-0ae265d7ec7f",
   "metadata": {},
   "outputs": [
    {
     "data": {
      "text/plain": [
       "'hello text file\\n'"
      ]
     },
     "execution_count": 53,
     "metadata": {},
     "output_type": "execute_result"
    }
   ],
   "source": [
    "myfile.readline()"
   ]
  },
  {
   "cell_type": "code",
   "execution_count": 54,
   "id": "01c93105-06b6-400d-af28-c5d67ee8caf3",
   "metadata": {},
   "outputs": [
    {
     "data": {
      "text/plain": [
       "'goodbye text file\\n'"
      ]
     },
     "execution_count": 54,
     "metadata": {},
     "output_type": "execute_result"
    }
   ],
   "source": [
    "myfile.readline()"
   ]
  },
  {
   "cell_type": "code",
   "execution_count": 55,
   "id": "9c37a421-38b0-403a-968b-2222c4de0768",
   "metadata": {},
   "outputs": [
    {
     "data": {
      "text/plain": [
       "''"
      ]
     },
     "execution_count": 55,
     "metadata": {},
     "output_type": "execute_result"
    }
   ],
   "source": [
    "myfile.readline()"
   ]
  },
  {
   "cell_type": "code",
   "execution_count": 56,
   "id": "c651f775-4378-4705-b9b1-8619216fe657",
   "metadata": {},
   "outputs": [
    {
     "data": {
      "text/plain": [
       "'hello text file\\ngoodbye text file\\n'"
      ]
     },
     "execution_count": 56,
     "metadata": {},
     "output_type": "execute_result"
    }
   ],
   "source": [
    "open('myfile.txt').read()"
   ]
  },
  {
   "cell_type": "code",
   "execution_count": 57,
   "id": "69f80607-1de9-46d8-a6ac-f7035efe14b8",
   "metadata": {},
   "outputs": [
    {
     "name": "stdout",
     "output_type": "stream",
     "text": [
      "hello text file\n",
      "goodbye text file\n",
      "\n"
     ]
    }
   ],
   "source": [
    "print(open('myfile.txt').read())"
   ]
  },
  {
   "cell_type": "code",
   "execution_count": 58,
   "id": "2b0cc2b1-0744-4665-9fd8-f5dd53a3d8c5",
   "metadata": {},
   "outputs": [
    {
     "name": "stdout",
     "output_type": "stream",
     "text": [
      "hello text file\n",
      "goodbye text file\n"
     ]
    }
   ],
   "source": [
    "for line in open('myfile.txt'):\n",
    "    print(line, end='')"
   ]
  },
  {
   "cell_type": "code",
   "execution_count": 59,
   "id": "e05625d1-e817-426b-bad1-534bffda5683",
   "metadata": {},
   "outputs": [],
   "source": [
    "data = open('data.bin', 'rb').read()"
   ]
  },
  {
   "cell_type": "code",
   "execution_count": 60,
   "id": "fa1bd904-f87b-43b8-9f35-d47aa15bdaa6",
   "metadata": {},
   "outputs": [
    {
     "data": {
      "text/plain": [
       "b'\\x00\\x00\\x00\\x07spam\\x00\\x08'"
      ]
     },
     "execution_count": 60,
     "metadata": {},
     "output_type": "execute_result"
    }
   ],
   "source": [
    "data"
   ]
  },
  {
   "cell_type": "code",
   "execution_count": 61,
   "id": "64e28b9e-efea-4707-b45e-3cefb8e143c9",
   "metadata": {},
   "outputs": [
    {
     "data": {
      "text/plain": [
       "b'spam'"
      ]
     },
     "execution_count": 61,
     "metadata": {},
     "output_type": "execute_result"
    }
   ],
   "source": [
    "data[4:8]"
   ]
  },
  {
   "cell_type": "code",
   "execution_count": 62,
   "id": "9f40aa24-977b-4380-841f-11c2b8568b2b",
   "metadata": {},
   "outputs": [
    {
     "data": {
      "text/plain": [
       "115"
      ]
     },
     "execution_count": 62,
     "metadata": {},
     "output_type": "execute_result"
    }
   ],
   "source": [
    "data[4:8][0]"
   ]
  },
  {
   "cell_type": "code",
   "execution_count": 63,
   "id": "2c186300-3dc8-4690-934f-0f47cb97e271",
   "metadata": {},
   "outputs": [
    {
     "data": {
      "text/plain": [
       "'0b1110011'"
      ]
     },
     "execution_count": 63,
     "metadata": {},
     "output_type": "execute_result"
    }
   ],
   "source": [
    "bin(data[4:8][0])"
   ]
  },
  {
   "cell_type": "code",
   "execution_count": 64,
   "id": "56ebead7-90b7-40e7-a564-506d002f4f5f",
   "metadata": {},
   "outputs": [],
   "source": [
    "X, Y, Z = 43,44, 45"
   ]
  },
  {
   "cell_type": "code",
   "execution_count": 65,
   "id": "61956e6f-9542-41f6-a5aa-b2ded2b76f4c",
   "metadata": {},
   "outputs": [],
   "source": [
    "S = 'Spam'"
   ]
  },
  {
   "cell_type": "code",
   "execution_count": 66,
   "id": "677896e3-cb57-4ff2-9cc0-243e4eb0706a",
   "metadata": {},
   "outputs": [],
   "source": [
    "D = {'a':1, 'b':2}"
   ]
  },
  {
   "cell_type": "code",
   "execution_count": 67,
   "id": "fb437cc3-8d8b-4897-a1eb-ed48172f21ee",
   "metadata": {},
   "outputs": [],
   "source": [
    "L = [1, 2, 3]"
   ]
  },
  {
   "cell_type": "code",
   "execution_count": 68,
   "id": "b6f62cf6-5cb2-4de3-afaa-89a3709b8045",
   "metadata": {},
   "outputs": [],
   "source": [
    "F = open('datafile.txt', 'w')"
   ]
  },
  {
   "cell_type": "code",
   "execution_count": 69,
   "id": "53a250a1-f8dc-47bf-af18-8468d6315740",
   "metadata": {},
   "outputs": [
    {
     "data": {
      "text/plain": [
       "5"
      ]
     },
     "execution_count": 69,
     "metadata": {},
     "output_type": "execute_result"
    }
   ],
   "source": [
    "F.write(S + '\\n')"
   ]
  },
  {
   "cell_type": "code",
   "execution_count": 70,
   "id": "5e1f2f43-536d-4da9-9a0a-940e105018c3",
   "metadata": {},
   "outputs": [
    {
     "data": {
      "text/plain": [
       "9"
      ]
     },
     "execution_count": 70,
     "metadata": {},
     "output_type": "execute_result"
    }
   ],
   "source": [
    "F.write('%s,%s,%s\\n' % (X, Y, Z))"
   ]
  },
  {
   "cell_type": "code",
   "execution_count": 71,
   "id": "7d1b0c18-af50-4ac9-9bb6-b250fd0e1c06",
   "metadata": {},
   "outputs": [
    {
     "data": {
      "text/plain": [
       "27"
      ]
     },
     "execution_count": 71,
     "metadata": {},
     "output_type": "execute_result"
    }
   ],
   "source": [
    "F.write(str(L) + '$' + str(D) + '\\n')"
   ]
  },
  {
   "cell_type": "code",
   "execution_count": 72,
   "id": "64b90d14-6e61-4366-be2a-9511e4efb0c6",
   "metadata": {},
   "outputs": [],
   "source": [
    "F.close()"
   ]
  },
  {
   "cell_type": "code",
   "execution_count": 73,
   "id": "8d47b49e-715b-43fa-8d22-599745c01fd6",
   "metadata": {},
   "outputs": [
    {
     "data": {
      "text/plain": [
       "<_io.TextIOWrapper name='datafile.txt' mode='w' encoding='cp936'>"
      ]
     },
     "execution_count": 73,
     "metadata": {},
     "output_type": "execute_result"
    }
   ],
   "source": [
    "F"
   ]
  },
  {
   "cell_type": "code",
   "execution_count": 74,
   "id": "5e5c47fc-c3a8-4a2b-a002-a4ce9da799e9",
   "metadata": {},
   "outputs": [],
   "source": [
    "chars = open('datafile.txt').read()"
   ]
  },
  {
   "cell_type": "code",
   "execution_count": 75,
   "id": "d94d0b1a-49d5-42a2-b13d-57aff7e4949f",
   "metadata": {},
   "outputs": [
    {
     "data": {
      "text/plain": [
       "\"Spam\\n43,44,45\\n[1, 2, 3]${'a': 1, 'b': 2}\\n\""
      ]
     },
     "execution_count": 75,
     "metadata": {},
     "output_type": "execute_result"
    }
   ],
   "source": [
    "chars"
   ]
  },
  {
   "cell_type": "code",
   "execution_count": 76,
   "id": "a55f4851-c6f9-4b68-aba3-a9463f6bd350",
   "metadata": {},
   "outputs": [
    {
     "name": "stdout",
     "output_type": "stream",
     "text": [
      "Spam\n",
      "43,44,45\n",
      "[1, 2, 3]${'a': 1, 'b': 2}\n",
      "\n"
     ]
    }
   ],
   "source": [
    "print(chars)"
   ]
  },
  {
   "cell_type": "code",
   "execution_count": 77,
   "id": "81013985-7f85-4f4f-87ff-bf0156664d7c",
   "metadata": {},
   "outputs": [],
   "source": [
    "F = open('datafile.txt')"
   ]
  },
  {
   "cell_type": "code",
   "execution_count": 78,
   "id": "6c5fb597-3b62-4615-88ad-1eef91984230",
   "metadata": {},
   "outputs": [],
   "source": [
    "line = F.readline()"
   ]
  },
  {
   "cell_type": "code",
   "execution_count": 79,
   "id": "4de42262-5f4d-429f-9f9d-dc97b86a803c",
   "metadata": {},
   "outputs": [
    {
     "data": {
      "text/plain": [
       "'Spam\\n'"
      ]
     },
     "execution_count": 79,
     "metadata": {},
     "output_type": "execute_result"
    }
   ],
   "source": [
    "line"
   ]
  },
  {
   "cell_type": "code",
   "execution_count": 80,
   "id": "b5260a2a-fe4f-41f8-94cc-5b861cac9e4d",
   "metadata": {},
   "outputs": [
    {
     "data": {
      "text/plain": [
       "'Spam'"
      ]
     },
     "execution_count": 80,
     "metadata": {},
     "output_type": "execute_result"
    }
   ],
   "source": [
    "line.rstrip()"
   ]
  },
  {
   "cell_type": "code",
   "execution_count": 81,
   "id": "f7266e3a-543a-4712-a995-447bf0fd6c12",
   "metadata": {},
   "outputs": [],
   "source": [
    "line = F.readline()"
   ]
  },
  {
   "cell_type": "code",
   "execution_count": 82,
   "id": "2124888d-fcb0-4bfc-a90e-a035b374bbf3",
   "metadata": {},
   "outputs": [
    {
     "data": {
      "text/plain": [
       "'43,44,45\\n'"
      ]
     },
     "execution_count": 82,
     "metadata": {},
     "output_type": "execute_result"
    }
   ],
   "source": [
    "line"
   ]
  },
  {
   "cell_type": "code",
   "execution_count": 83,
   "id": "638d15bc-6162-4c4b-a5e3-2dc6da776507",
   "metadata": {},
   "outputs": [],
   "source": [
    "parts = line.split(',')"
   ]
  },
  {
   "cell_type": "code",
   "execution_count": 84,
   "id": "0adf8614-e7fe-4a9b-be99-d6051a73c449",
   "metadata": {},
   "outputs": [
    {
     "data": {
      "text/plain": [
       "['43', '44', '45\\n']"
      ]
     },
     "execution_count": 84,
     "metadata": {},
     "output_type": "execute_result"
    }
   ],
   "source": [
    "parts"
   ]
  },
  {
   "cell_type": "code",
   "execution_count": 85,
   "id": "871f9024-f9ed-42ad-85f4-396a702e7a5c",
   "metadata": {},
   "outputs": [
    {
     "data": {
      "text/plain": [
       "44"
      ]
     },
     "execution_count": 85,
     "metadata": {},
     "output_type": "execute_result"
    }
   ],
   "source": [
    "int(parts[1])"
   ]
  },
  {
   "cell_type": "code",
   "execution_count": 86,
   "id": "0bb16135-14dc-4b19-a611-ec24b63269bf",
   "metadata": {},
   "outputs": [],
   "source": [
    "numbers = [int(p) for p in parts]"
   ]
  },
  {
   "cell_type": "code",
   "execution_count": 87,
   "id": "cee9a37d-7cd0-40ba-a8a4-25435624c9b7",
   "metadata": {},
   "outputs": [
    {
     "data": {
      "text/plain": [
       "[43, 44, 45]"
      ]
     },
     "execution_count": 87,
     "metadata": {},
     "output_type": "execute_result"
    }
   ],
   "source": [
    "numbers"
   ]
  },
  {
   "cell_type": "code",
   "execution_count": 88,
   "id": "5888f7bd-f79b-4f3d-8891-0be91df934c4",
   "metadata": {},
   "outputs": [],
   "source": [
    "line = F.readline()"
   ]
  },
  {
   "cell_type": "code",
   "execution_count": 90,
   "id": "73603026-c57f-4aad-99ec-d3bc24b313e8",
   "metadata": {},
   "outputs": [
    {
     "data": {
      "text/plain": [
       "\"[1, 2, 3]${'a': 1, 'b': 2}\\n\""
      ]
     },
     "execution_count": 90,
     "metadata": {},
     "output_type": "execute_result"
    }
   ],
   "source": [
    "line"
   ]
  },
  {
   "cell_type": "code",
   "execution_count": 91,
   "id": "720c4080-41e9-4e11-9162-66472c473ed3",
   "metadata": {},
   "outputs": [],
   "source": [
    "parts = line.split('$')"
   ]
  },
  {
   "cell_type": "code",
   "execution_count": 92,
   "id": "8bee2b83-fa06-4eaa-9bfd-8639f7b2e79b",
   "metadata": {},
   "outputs": [
    {
     "data": {
      "text/plain": [
       "['[1, 2, 3]', \"{'a': 1, 'b': 2}\\n\"]"
      ]
     },
     "execution_count": 92,
     "metadata": {},
     "output_type": "execute_result"
    }
   ],
   "source": [
    "parts"
   ]
  },
  {
   "cell_type": "code",
   "execution_count": 93,
   "id": "b1c21d84-dca1-4e67-b88c-c889db04ac2b",
   "metadata": {},
   "outputs": [
    {
     "data": {
      "text/plain": [
       "[1, 2, 3]"
      ]
     },
     "execution_count": 93,
     "metadata": {},
     "output_type": "execute_result"
    }
   ],
   "source": [
    "eval(parts[0])"
   ]
  },
  {
   "cell_type": "code",
   "execution_count": 94,
   "id": "332b4709-9b2f-4a19-9272-a39ad40298c1",
   "metadata": {},
   "outputs": [],
   "source": [
    "objects = [eval(p) for p in parts]"
   ]
  },
  {
   "cell_type": "code",
   "execution_count": 96,
   "id": "632eb73f-ef92-4f35-ab2b-db7678780944",
   "metadata": {},
   "outputs": [
    {
     "data": {
      "text/plain": [
       "[[1, 2, 3], {'a': 1, 'b': 2}]"
      ]
     },
     "execution_count": 96,
     "metadata": {},
     "output_type": "execute_result"
    }
   ],
   "source": [
    "objects"
   ]
  },
  {
   "cell_type": "code",
   "execution_count": null,
   "id": "5ec9c647-6840-4f5c-bbd0-f6f25aef9963",
   "metadata": {},
   "outputs": [],
   "source": []
  }
 ],
 "metadata": {
  "kernelspec": {
   "display_name": "Python 3 (ipykernel)",
   "language": "python",
   "name": "python3"
  },
  "language_info": {
   "codemirror_mode": {
    "name": "ipython",
    "version": 3
   },
   "file_extension": ".py",
   "mimetype": "text/x-python",
   "name": "python",
   "nbconvert_exporter": "python",
   "pygments_lexer": "ipython3",
   "version": "3.9.13"
  }
 },
 "nbformat": 4,
 "nbformat_minor": 5
}
