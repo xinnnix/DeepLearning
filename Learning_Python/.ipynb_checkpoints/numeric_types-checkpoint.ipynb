{
 "cells": [
  {
   "cell_type": "code",
   "execution_count": 1,
   "id": "b242792e-4f91-40de-9ea8-0dcf961095f8",
   "metadata": {},
   "outputs": [
    {
     "data": {
      "text/plain": [
       "'\\nInterger and floating-point objects\\nComplex number objects\\nDecimal: fixed-precision objects\\nFraction: rational number objects\\nSets: collections with numeric operations\\nBooleans: true and false\\nBuilt-in functions and modules: round, math, random, etc\\nExpressions; unlimited integer precision; bitwise operations; hex, octal, and binary formats\\nThrid-party extensions: vectors, libraries, visualization, plotting, etc\\n'"
      ]
     },
     "execution_count": 1,
     "metadata": {},
     "output_type": "execute_result"
    }
   ],
   "source": [
    "'''\n",
    "Interger and floating-point objects\n",
    "Complex number objects\n",
    "Decimal: fixed-precision objects\n",
    "Fraction: rational number objects\n",
    "Sets: collections with numeric operations\n",
    "Booleans: true and false\n",
    "Built-in functions and modules: round, math, random, etc\n",
    "Expressions; unlimited integer precision; bitwise operations; hex, octal, and binary formats\n",
    "Thrid-party extensions: vectors, libraries, visualization, plotting, etc\n",
    "'''"
   ]
  },
  {
   "cell_type": "code",
   "execution_count": null,
   "id": "763bb56e-d3cf-443c-80cd-95b5ddefd5d6",
   "metadata": {},
   "outputs": [],
   "source": []
  }
 ],
 "metadata": {
  "kernelspec": {
   "display_name": "Python 3 (ipykernel)",
   "language": "python",
   "name": "python3"
  },
  "language_info": {
   "codemirror_mode": {
    "name": "ipython",
    "version": 3
   },
   "file_extension": ".py",
   "mimetype": "text/x-python",
   "name": "python",
   "nbconvert_exporter": "python",
   "pygments_lexer": "ipython3",
   "version": "3.9.13"
  }
 },
 "nbformat": 4,
 "nbformat_minor": 5
}
