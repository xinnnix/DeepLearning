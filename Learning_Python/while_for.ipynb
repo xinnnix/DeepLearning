{
 "cells": [
  {
   "cell_type": "code",
   "execution_count": null,
   "id": "f77b10cc-5358-4f09-8554-7e5176cf664a",
   "metadata": {},
   "outputs": [],
   "source": [
    "while True:\n",
    "    print('Type Ctrl-C to step me!')"
   ]
  },
  {
   "cell_type": "code",
   "execution_count": 2,
   "id": "f5ee15db-85b7-46c3-9232-366bbf11c663",
   "metadata": {},
   "outputs": [
    {
     "name": "stdout",
     "output_type": "stream",
     "text": [
      "spam pam am m "
     ]
    }
   ],
   "source": [
    "x = 'spam'\n",
    "while x:\n",
    "    print(x, end=' ')\n",
    "    x = x[1:]"
   ]
  },
  {
   "cell_type": "code",
   "execution_count": 3,
   "id": "f1546314-128b-48f1-bef5-1fb1c9c3dade",
   "metadata": {},
   "outputs": [
    {
     "name": "stdout",
     "output_type": "stream",
     "text": [
      "0 1 2 3 4 5 6 7 8 9 "
     ]
    }
   ],
   "source": [
    "a = 0; b = 10\n",
    "while a<b:\n",
    "    print(a, end=' ')\n",
    "    a += 1"
   ]
  },
  {
   "cell_type": "code",
   "execution_count": 4,
   "id": "bf042b59-15d2-4c46-b5fa-5698b999dc94",
   "metadata": {},
   "outputs": [],
   "source": [
    "def function1():\n",
    "    ..."
   ]
  },
  {
   "cell_type": "code",
   "execution_count": 5,
   "id": "7306a9de-bd66-4f60-8648-37ce59782487",
   "metadata": {},
   "outputs": [],
   "source": [
    "function1()"
   ]
  },
  {
   "cell_type": "code",
   "execution_count": 6,
   "id": "20fa435b-86a9-4310-addc-0bfee094dbf7",
   "metadata": {},
   "outputs": [
    {
     "name": "stdout",
     "output_type": "stream",
     "text": [
      "8 6 4 2 0 "
     ]
    }
   ],
   "source": [
    "x = 10\n",
    "while x:\n",
    "    x = x - 1\n",
    "    if x % 2 != 0: continue\n",
    "    print(x, end=' ')"
   ]
  },
  {
   "cell_type": "code",
   "execution_count": 7,
   "id": "117e3067-be67-4ecd-9049-88105abc5a11",
   "metadata": {},
   "outputs": [
    {
     "name": "stdin",
     "output_type": "stream",
     "text": [
      "Enter name: zx\n",
      "Enter age:  78\n"
     ]
    },
    {
     "name": "stdout",
     "output_type": "stream",
     "text": [
      "Hello zx => 6084\n"
     ]
    },
    {
     "name": "stdin",
     "output_type": "stream",
     "text": [
      "Enter name: stop\n"
     ]
    }
   ],
   "source": [
    "while True:\n",
    "    name = input('Enter name:')\n",
    "    if name=='stop': break\n",
    "    age = input('Enter age: ')\n",
    "    print('Hello', name, '=>', int(age) ** 2)"
   ]
  },
  {
   "cell_type": "code",
   "execution_count": 1,
   "id": "924aa9a4-2fa5-43e7-be51-9e3429d5acfa",
   "metadata": {},
   "outputs": [
    {
     "name": "stdout",
     "output_type": "stream",
     "text": [
      "spam eggs ham "
     ]
    }
   ],
   "source": [
    "for x in ['spam', 'eggs', 'ham']:\n",
    "    print(x, end=' ')"
   ]
  },
  {
   "cell_type": "code",
   "execution_count": 2,
   "id": "39dd68c4-a308-40f7-a320-5b5ceffe42ed",
   "metadata": {},
   "outputs": [],
   "source": [
    "sum = 0"
   ]
  },
  {
   "cell_type": "code",
   "execution_count": 3,
   "id": "913c88cb-3135-4acb-99e6-236fd6d13075",
   "metadata": {},
   "outputs": [],
   "source": [
    "for x in [1, 2, 3, 4]:\n",
    "    sum = sum + x"
   ]
  },
  {
   "cell_type": "code",
   "execution_count": 4,
   "id": "585b9f4c-6604-4c3d-a4a8-618a03543cfe",
   "metadata": {},
   "outputs": [
    {
     "data": {
      "text/plain": [
       "10"
      ]
     },
     "execution_count": 4,
     "metadata": {},
     "output_type": "execute_result"
    }
   ],
   "source": [
    "sum"
   ]
  },
  {
   "cell_type": "code",
   "execution_count": 5,
   "id": "1e7d48ab-6150-420e-830d-3154b0001d9b",
   "metadata": {},
   "outputs": [],
   "source": [
    "prod = 1"
   ]
  },
  {
   "cell_type": "code",
   "execution_count": 6,
   "id": "e2c2cafd-d7f1-461d-a52c-235e9b2818d8",
   "metadata": {},
   "outputs": [],
   "source": [
    "for item in [1, 2, 3, 4]: prod *= item"
   ]
  },
  {
   "cell_type": "code",
   "execution_count": 7,
   "id": "f6c75c6a-2e8c-4c4d-80fb-5a179c639b5c",
   "metadata": {},
   "outputs": [
    {
     "data": {
      "text/plain": [
       "24"
      ]
     },
     "execution_count": 7,
     "metadata": {},
     "output_type": "execute_result"
    }
   ],
   "source": [
    "prod"
   ]
  },
  {
   "cell_type": "code",
   "execution_count": 8,
   "id": "043d7c21-a4d2-474b-93cb-d08d109ee60b",
   "metadata": {},
   "outputs": [],
   "source": [
    "s = 'lumberjack'"
   ]
  },
  {
   "cell_type": "code",
   "execution_count": 9,
   "id": "104eaa17-c2e6-4a60-98ac-336a212a42ef",
   "metadata": {},
   "outputs": [],
   "source": [
    "T = ('and', \"I'm\", 'okay')"
   ]
  },
  {
   "cell_type": "code",
   "execution_count": 10,
   "id": "0ff51e14-37fa-4e97-8a75-09f613e74ba3",
   "metadata": {},
   "outputs": [
    {
     "name": "stdout",
     "output_type": "stream",
     "text": [
      "l u m b e r j a c k "
     ]
    }
   ],
   "source": [
    "for x in s: print(x, end=' ')"
   ]
  },
  {
   "cell_type": "code",
   "execution_count": 11,
   "id": "37f42ca9-f9ad-4c8f-9c3d-47e29d03a03b",
   "metadata": {},
   "outputs": [
    {
     "name": "stdout",
     "output_type": "stream",
     "text": [
      "and I'm okay "
     ]
    }
   ],
   "source": [
    "for x in T: print(x, end=' ')"
   ]
  },
  {
   "cell_type": "code",
   "execution_count": 12,
   "id": "e3c5b964-8789-45a0-9eba-4c97bf0ce79c",
   "metadata": {},
   "outputs": [],
   "source": [
    "T = [(1,2), (3,4), (5, 6)]"
   ]
  },
  {
   "cell_type": "code",
   "execution_count": 13,
   "id": "50145fc4-ff82-4abd-82d7-251f645f217a",
   "metadata": {},
   "outputs": [
    {
     "name": "stdout",
     "output_type": "stream",
     "text": [
      "1 2\n",
      "3 4\n",
      "5 6\n"
     ]
    }
   ],
   "source": [
    "for (a,b) in T:\n",
    "    print(a, b)"
   ]
  },
  {
   "cell_type": "code",
   "execution_count": 14,
   "id": "fa66b6f9-7217-49cc-9160-132581f11f68",
   "metadata": {},
   "outputs": [],
   "source": [
    "D = {'a':1, 'b':2, 'c':3}"
   ]
  },
  {
   "cell_type": "code",
   "execution_count": 15,
   "id": "b81a3e9a-7623-4608-98cb-d0c79bdf6a00",
   "metadata": {},
   "outputs": [
    {
     "name": "stdout",
     "output_type": "stream",
     "text": [
      "a => 1\n",
      "b => 2\n",
      "c => 3\n"
     ]
    }
   ],
   "source": [
    "for key in D:\n",
    "    print(key, '=>', D[key])"
   ]
  },
  {
   "cell_type": "code",
   "execution_count": 16,
   "id": "f87c0cc5-48f1-4e0b-8889-e1b490e5c24c",
   "metadata": {},
   "outputs": [
    {
     "data": {
      "text/plain": [
       "[('a', 1), ('b', 2), ('c', 3)]"
      ]
     },
     "execution_count": 16,
     "metadata": {},
     "output_type": "execute_result"
    }
   ],
   "source": [
    "list(D.items())"
   ]
  },
  {
   "cell_type": "code",
   "execution_count": 17,
   "id": "5f838556-538f-411c-ad27-9d0a7f257006",
   "metadata": {},
   "outputs": [
    {
     "name": "stdout",
     "output_type": "stream",
     "text": [
      "a => 1\n",
      "b => 2\n",
      "c => 3\n"
     ]
    }
   ],
   "source": [
    "for (key, value) in D.items():\n",
    "    print(key, '=>', value)"
   ]
  },
  {
   "cell_type": "code",
   "execution_count": 18,
   "id": "5b30dba7-96b0-4609-9b75-88af5a2854a8",
   "metadata": {},
   "outputs": [
    {
     "data": {
      "text/plain": [
       "[(1, 2), (3, 4), (5, 6)]"
      ]
     },
     "execution_count": 18,
     "metadata": {},
     "output_type": "execute_result"
    }
   ],
   "source": [
    "T"
   ]
  },
  {
   "cell_type": "code",
   "execution_count": 19,
   "id": "96f2b5ff-1f27-44bc-8820-0250585f0b99",
   "metadata": {},
   "outputs": [
    {
     "name": "stdout",
     "output_type": "stream",
     "text": [
      "1 2\n",
      "3 4\n",
      "5 6\n"
     ]
    }
   ],
   "source": [
    "for both in T:\n",
    "    a, b = both\n",
    "    print(a, b)"
   ]
  },
  {
   "cell_type": "code",
   "execution_count": 20,
   "id": "53453ce3-d771-4ff4-8834-7f26b7519176",
   "metadata": {},
   "outputs": [],
   "source": [
    "((a, b), c) = ((1,2),3)"
   ]
  },
  {
   "cell_type": "code",
   "execution_count": 21,
   "id": "918b4fe6-f5a4-4226-9185-a0657f50b3d0",
   "metadata": {},
   "outputs": [
    {
     "data": {
      "text/plain": [
       "(1, 2, 3)"
      ]
     },
     "execution_count": 21,
     "metadata": {},
     "output_type": "execute_result"
    }
   ],
   "source": [
    "a, b, c"
   ]
  },
  {
   "cell_type": "code",
   "execution_count": 22,
   "id": "dfcb4698-5f48-425d-bdb5-de77f90daa23",
   "metadata": {},
   "outputs": [
    {
     "name": "stdout",
     "output_type": "stream",
     "text": [
      "1 2 3\n",
      "4 5 6\n"
     ]
    }
   ],
   "source": [
    "for ((a,b),c) in [((1,2),3), ((4,5),6)]: print(a, b, c)"
   ]
  },
  {
   "cell_type": "code",
   "execution_count": 23,
   "id": "94a871c1-6e63-43c4-a015-75eff76abf94",
   "metadata": {},
   "outputs": [
    {
     "name": "stdout",
     "output_type": "stream",
     "text": [
      "1 2 3\n",
      "x y 6\n"
     ]
    }
   ],
   "source": [
    "for ((a, b), c) in [([1, 2], 3), ['xy', 6]]: print(a, b, c)"
   ]
  },
  {
   "cell_type": "code",
   "execution_count": 24,
   "id": "ba2d11c0-aa03-4585-a924-c26efb9d4ac6",
   "metadata": {},
   "outputs": [],
   "source": [
    "a, b, c = (1, 2, 3)"
   ]
  },
  {
   "cell_type": "code",
   "execution_count": 25,
   "id": "a9cf2b07-3092-4b0e-ab6e-9a5955d3ae5d",
   "metadata": {},
   "outputs": [
    {
     "data": {
      "text/plain": [
       "(1, 2, 3)"
      ]
     },
     "execution_count": 25,
     "metadata": {},
     "output_type": "execute_result"
    }
   ],
   "source": [
    "a, b, c"
   ]
  },
  {
   "cell_type": "code",
   "execution_count": 26,
   "id": "5c81533e-1e17-409a-bf74-4837dcb5308f",
   "metadata": {},
   "outputs": [
    {
     "name": "stdout",
     "output_type": "stream",
     "text": [
      "1 2 3\n",
      "4 5 6\n"
     ]
    }
   ],
   "source": [
    "for (a, b, c) in [(1, 2, 3), (4, 5, 6)]:\n",
    "    print(a, b, c)"
   ]
  },
  {
   "cell_type": "code",
   "execution_count": 27,
   "id": "bde859fd-e4ba-421b-b3a4-08d34f45e3b0",
   "metadata": {},
   "outputs": [],
   "source": [
    "a, *b, c = (1, 2, 3, 4)"
   ]
  },
  {
   "cell_type": "code",
   "execution_count": 28,
   "id": "6ef2cacb-fc5d-4bcd-a88a-c23886cbe8eb",
   "metadata": {},
   "outputs": [
    {
     "data": {
      "text/plain": [
       "(1, [2, 3], 4)"
      ]
     },
     "execution_count": 28,
     "metadata": {},
     "output_type": "execute_result"
    }
   ],
   "source": [
    "a, b, c"
   ]
  },
  {
   "cell_type": "code",
   "execution_count": 29,
   "id": "2c8c55f5-2436-4e7a-8e12-1589576fc503",
   "metadata": {},
   "outputs": [
    {
     "name": "stdout",
     "output_type": "stream",
     "text": [
      "1 [2, 3] 4\n",
      "5 [6, 7] 8\n"
     ]
    }
   ],
   "source": [
    "for (a, *b, c) in [(1, 2, 3, 4), (5, 6, 7, 8)]:\n",
    "    print(a, b, c)"
   ]
  },
  {
   "cell_type": "code",
   "execution_count": 30,
   "id": "ac2092db-04e7-4509-bf90-607fb6f3a13f",
   "metadata": {},
   "outputs": [
    {
     "name": "stdout",
     "output_type": "stream",
     "text": [
      "1 (2, 3) 4\n",
      "5 (6, 7) 8\n"
     ]
    }
   ],
   "source": [
    "for all in [(1, 2, 3, 4), (5, 6, 7, 8)]:\n",
    "    a, b, c = all[0], all[1:3], all[3]\n",
    "    print(a, b, c)"
   ]
  },
  {
   "cell_type": "code",
   "execution_count": 31,
   "id": "42c4a838-5927-4262-8734-31db9017cf70",
   "metadata": {},
   "outputs": [],
   "source": [
    "items = ['aaa', 111, (4,5), 2.01]\n",
    "tests = [(4,5), 3.14]"
   ]
  },
  {
   "cell_type": "code",
   "execution_count": 33,
   "id": "ae471ae4-aa7a-494c-9ec1-c9f465c80afd",
   "metadata": {},
   "outputs": [
    {
     "name": "stdout",
     "output_type": "stream",
     "text": [
      "(4, 5) was found\n",
      "3.14 not found\n"
     ]
    }
   ],
   "source": [
    "for key in tests:\n",
    "    for item in items:\n",
    "        if item == key:\n",
    "            print(key, 'was found')\n",
    "            break\n",
    "    else:\n",
    "            print(key, 'not found')\n",
    "            "
   ]
  },
  {
   "cell_type": "code",
   "execution_count": 34,
   "id": "3eb8875b-b373-453c-8b46-9c3a4637a4ba",
   "metadata": {},
   "outputs": [],
   "source": [
    "seq1 = 'spam'\n",
    "seq2 = 'scam'"
   ]
  },
  {
   "cell_type": "code",
   "execution_count": 35,
   "id": "f90e3600-488f-4448-8f23-35d413e667d0",
   "metadata": {},
   "outputs": [],
   "source": [
    "res = []"
   ]
  },
  {
   "cell_type": "code",
   "execution_count": 36,
   "id": "629a2cfa-cde1-49ba-b9d5-2c4c5a813297",
   "metadata": {},
   "outputs": [],
   "source": [
    "for x in seq1:\n",
    "    if x in seq2:\n",
    "        res.append(x)"
   ]
  },
  {
   "cell_type": "code",
   "execution_count": 37,
   "id": "8e25a7c9-1b38-450b-9f52-1a09ce756d24",
   "metadata": {},
   "outputs": [
    {
     "data": {
      "text/plain": [
       "['s', 'a', 'm']"
      ]
     },
     "execution_count": 37,
     "metadata": {},
     "output_type": "execute_result"
    }
   ],
   "source": [
    "res"
   ]
  },
  {
   "cell_type": "code",
   "execution_count": 38,
   "id": "f3de2095-61cf-4b2d-8f74-89c7ea538e52",
   "metadata": {},
   "outputs": [
    {
     "data": {
      "text/plain": [
       "['s', 'a', 'm']"
      ]
     },
     "execution_count": 38,
     "metadata": {},
     "output_type": "execute_result"
    }
   ],
   "source": [
    "[x for x in seq1 if x in seq2]"
   ]
  },
  {
   "cell_type": "code",
   "execution_count": 39,
   "id": "d573cea3-a42a-4bed-a57b-dc84a2db502b",
   "metadata": {},
   "outputs": [
    {
     "data": {
      "text/plain": [
       "([0, 1, 2, 3, 4], [2, 3, 4], [0, 2, 4, 6, 8])"
      ]
     },
     "execution_count": 39,
     "metadata": {},
     "output_type": "execute_result"
    }
   ],
   "source": [
    "list(range(5)), list(range(2,5)), list(range(0,10,2))"
   ]
  },
  {
   "cell_type": "code",
   "execution_count": 40,
   "id": "6b8052c0-0d49-410d-b6cb-7dcb314da830",
   "metadata": {},
   "outputs": [
    {
     "data": {
      "text/plain": [
       "[-5, -4, -3, -2, -1, 0, 1, 2, 3, 4]"
      ]
     },
     "execution_count": 40,
     "metadata": {},
     "output_type": "execute_result"
    }
   ],
   "source": [
    "list(range(-5,5))"
   ]
  },
  {
   "cell_type": "code",
   "execution_count": 41,
   "id": "f32d2fb4-4f8d-43ae-82dd-880b2473851e",
   "metadata": {},
   "outputs": [
    {
     "data": {
      "text/plain": [
       "[5, 4, 3, 2, 1, 0, -1, -2, -3, -4]"
      ]
     },
     "execution_count": 41,
     "metadata": {},
     "output_type": "execute_result"
    }
   ],
   "source": [
    "list(range(5, -5, -1))"
   ]
  },
  {
   "cell_type": "code",
   "execution_count": 42,
   "id": "9a14a500-4ef3-433b-9d3a-fa4b4643fcf2",
   "metadata": {},
   "outputs": [
    {
     "name": "stdout",
     "output_type": "stream",
     "text": [
      "0 Pythons\n",
      "1 Pythons\n",
      "2 Pythons\n"
     ]
    }
   ],
   "source": [
    "for i in range(3):\n",
    "    print(i, 'Pythons')"
   ]
  },
  {
   "cell_type": "code",
   "execution_count": 43,
   "id": "642d721b-1068-4655-abab-34e6ff7bdfc0",
   "metadata": {},
   "outputs": [],
   "source": [
    "x = 'spam'"
   ]
  },
  {
   "cell_type": "code",
   "execution_count": 44,
   "id": "47eeadc2-027e-4a4c-abfa-1bdc2f007328",
   "metadata": {},
   "outputs": [
    {
     "name": "stdout",
     "output_type": "stream",
     "text": [
      "s p a m "
     ]
    }
   ],
   "source": [
    "for item in x: print(item, end=' ')"
   ]
  },
  {
   "cell_type": "code",
   "execution_count": 45,
   "id": "6795d70d-7e18-4563-b981-5d8286b8420b",
   "metadata": {},
   "outputs": [],
   "source": [
    "i = 0"
   ]
  },
  {
   "cell_type": "code",
   "execution_count": 46,
   "id": "17841f63-6023-402c-9bb3-09a23634bd8b",
   "metadata": {},
   "outputs": [
    {
     "name": "stdout",
     "output_type": "stream",
     "text": [
      "s p a m "
     ]
    }
   ],
   "source": [
    "while i< len(x):\n",
    "    print(x[i], end=' ')\n",
    "    i += 1"
   ]
  },
  {
   "cell_type": "code",
   "execution_count": 47,
   "id": "036740bf-8fc5-4987-b0e2-9885405cb40f",
   "metadata": {},
   "outputs": [
    {
     "data": {
      "text/plain": [
       "'spam'"
      ]
     },
     "execution_count": 47,
     "metadata": {},
     "output_type": "execute_result"
    }
   ],
   "source": [
    "x"
   ]
  },
  {
   "cell_type": "code",
   "execution_count": 48,
   "id": "f8ce6461-36ab-420a-aeff-e9b95a37f0a9",
   "metadata": {},
   "outputs": [
    {
     "data": {
      "text/plain": [
       "4"
      ]
     },
     "execution_count": 48,
     "metadata": {},
     "output_type": "execute_result"
    }
   ],
   "source": [
    "len(x)"
   ]
  },
  {
   "cell_type": "code",
   "execution_count": 50,
   "id": "b89d8625-4e79-4e9a-84f7-d59466c2e4ef",
   "metadata": {},
   "outputs": [
    {
     "data": {
      "text/plain": [
       "[0, 1, 2, 3]"
      ]
     },
     "execution_count": 50,
     "metadata": {},
     "output_type": "execute_result"
    }
   ],
   "source": [
    "list(range(len(x)))"
   ]
  },
  {
   "cell_type": "code",
   "execution_count": 51,
   "id": "2b2944e8-7334-4548-9c3f-a3ea27f8d510",
   "metadata": {},
   "outputs": [
    {
     "name": "stdout",
     "output_type": "stream",
     "text": [
      "s p a m "
     ]
    }
   ],
   "source": [
    "for i in range(len(x)): print(x[i], end=' ')"
   ]
  },
  {
   "cell_type": "code",
   "execution_count": 52,
   "id": "aabe99b3-93b8-4a6c-b947-fd940353ee30",
   "metadata": {},
   "outputs": [
    {
     "name": "stdout",
     "output_type": "stream",
     "text": [
      "s p a m "
     ]
    }
   ],
   "source": [
    "for item in x: print(item, end=' ')"
   ]
  },
  {
   "cell_type": "code",
   "execution_count": 53,
   "id": "9e4d3b94-2ee3-4fe9-a057-bf96b580f26c",
   "metadata": {},
   "outputs": [],
   "source": [
    "s = 'spam'"
   ]
  },
  {
   "cell_type": "code",
   "execution_count": 54,
   "id": "241c6179-8cb4-4767-ae09-261c0985ce68",
   "metadata": {},
   "outputs": [
    {
     "name": "stdout",
     "output_type": "stream",
     "text": [
      "pams amsp mspa spam "
     ]
    }
   ],
   "source": [
    "for i in range(len(s)):\n",
    "    s = s[1:] + s[:1]\n",
    "    print(s, end=' ')"
   ]
  },
  {
   "cell_type": "code",
   "execution_count": 55,
   "id": "87f45917-4774-4501-b484-61b9205bfb59",
   "metadata": {},
   "outputs": [
    {
     "data": {
      "text/plain": [
       "'spam'"
      ]
     },
     "execution_count": 55,
     "metadata": {},
     "output_type": "execute_result"
    }
   ],
   "source": [
    "s"
   ]
  },
  {
   "cell_type": "code",
   "execution_count": 56,
   "id": "bfa898e1-aa3e-41e2-98d2-2a417ca12e4d",
   "metadata": {},
   "outputs": [
    {
     "name": "stdout",
     "output_type": "stream",
     "text": [
      "spam pams amsp mspa "
     ]
    }
   ],
   "source": [
    "for i in range(len(s)):\n",
    "    x = s[i:] + s[:i]\n",
    "    print(x, end=' ')"
   ]
  },
  {
   "cell_type": "code",
   "execution_count": 57,
   "id": "32813055-e341-4dae-afb1-d7fa4d724b9c",
   "metadata": {},
   "outputs": [],
   "source": [
    "L = [1, 2, 3]"
   ]
  },
  {
   "cell_type": "code",
   "execution_count": 58,
   "id": "8387c7a1-b49b-4ee3-9a2f-399a32c634e0",
   "metadata": {},
   "outputs": [
    {
     "name": "stdout",
     "output_type": "stream",
     "text": [
      "[1, 2, 3] [2, 3, 1] [3, 1, 2] "
     ]
    }
   ],
   "source": [
    "for i in range(len(L)):\n",
    "    x = L[i:] + L[:i]\n",
    "    print(x, end=' ')"
   ]
  },
  {
   "cell_type": "code",
   "execution_count": 59,
   "id": "f5f9c20c-9105-4872-a90d-9c68df56ae3b",
   "metadata": {},
   "outputs": [],
   "source": [
    "s = 'abcdefghijk'"
   ]
  },
  {
   "cell_type": "code",
   "execution_count": 60,
   "id": "e2432f13-3891-4e33-b46a-ec6311f20c64",
   "metadata": {},
   "outputs": [
    {
     "data": {
      "text/plain": [
       "[0, 2, 4, 6, 8, 10]"
      ]
     },
     "execution_count": 60,
     "metadata": {},
     "output_type": "execute_result"
    }
   ],
   "source": [
    "list(range(0, len(s), 2))"
   ]
  },
  {
   "cell_type": "code",
   "execution_count": 61,
   "id": "50ed667c-e2e4-49e4-a0d8-f6f27569e382",
   "metadata": {},
   "outputs": [
    {
     "name": "stdout",
     "output_type": "stream",
     "text": [
      "a c e g i k "
     ]
    }
   ],
   "source": [
    "for i in range(0, len(s), 2): print(s[i], end=' ')"
   ]
  },
  {
   "cell_type": "code",
   "execution_count": 62,
   "id": "4e71d2c6-9b63-451e-848b-e267024c993f",
   "metadata": {},
   "outputs": [
    {
     "data": {
      "text/plain": [
       "'abcdefghijk'"
      ]
     },
     "execution_count": 62,
     "metadata": {},
     "output_type": "execute_result"
    }
   ],
   "source": [
    "s"
   ]
  },
  {
   "cell_type": "code",
   "execution_count": 64,
   "id": "b12183a3-6b81-4c73-83e7-bca6609b48d7",
   "metadata": {},
   "outputs": [
    {
     "name": "stdout",
     "output_type": "stream",
     "text": [
      "a c e g i k "
     ]
    }
   ],
   "source": [
    "for c in s[::2]: print(c, end=' ')"
   ]
  },
  {
   "cell_type": "code",
   "execution_count": 65,
   "id": "fb273016-b162-4c8a-83c8-7b0894f31da8",
   "metadata": {},
   "outputs": [],
   "source": [
    "L1 = [1,2,3,4]\n",
    "L2 = [5,6,7,8]"
   ]
  },
  {
   "cell_type": "code",
   "execution_count": 66,
   "id": "013093e6-55fc-467d-866e-40cc7e905cc2",
   "metadata": {},
   "outputs": [
    {
     "data": {
      "text/plain": [
       "<zip at 0x163bea87ec0>"
      ]
     },
     "execution_count": 66,
     "metadata": {},
     "output_type": "execute_result"
    }
   ],
   "source": [
    "zip(L1, L2)"
   ]
  },
  {
   "cell_type": "code",
   "execution_count": 67,
   "id": "896423a6-f1bb-4a49-8016-67eb6053a994",
   "metadata": {},
   "outputs": [
    {
     "data": {
      "text/plain": [
       "[(1, 5), (2, 6), (3, 7), (4, 8)]"
      ]
     },
     "execution_count": 67,
     "metadata": {},
     "output_type": "execute_result"
    }
   ],
   "source": [
    "list(zip(L1, L2))"
   ]
  },
  {
   "cell_type": "code",
   "execution_count": 68,
   "id": "eb02b246-d616-4721-9f27-21229ad631ba",
   "metadata": {},
   "outputs": [
    {
     "name": "stdout",
     "output_type": "stream",
     "text": [
      "1 5 -- 6\n",
      "2 6 -- 8\n",
      "3 7 -- 10\n",
      "4 8 -- 12\n"
     ]
    }
   ],
   "source": [
    "for (x, y) in zip(L1, L2):\n",
    "    print(x, y, '--', x+y)"
   ]
  },
  {
   "cell_type": "code",
   "execution_count": 69,
   "id": "a2eed270-06f2-465f-a621-72fa82eea5f6",
   "metadata": {},
   "outputs": [
    {
     "data": {
      "text/plain": [
       "[115, 112, 97, 109]"
      ]
     },
     "execution_count": 69,
     "metadata": {},
     "output_type": "execute_result"
    }
   ],
   "source": [
    "list(map(ord, 'spam'))"
   ]
  },
  {
   "cell_type": "code",
   "execution_count": 70,
   "id": "57023a17-51ee-4c70-830d-083a8b78dede",
   "metadata": {},
   "outputs": [],
   "source": [
    "D1 = {'spam':1, 'eggs':3, 'toast':5}"
   ]
  },
  {
   "cell_type": "code",
   "execution_count": 71,
   "id": "8e181e41-e32c-4e69-abd9-f60ebee13978",
   "metadata": {},
   "outputs": [
    {
     "data": {
      "text/plain": [
       "{'spam': 1, 'eggs': 3, 'toast': 5}"
      ]
     },
     "execution_count": 71,
     "metadata": {},
     "output_type": "execute_result"
    }
   ],
   "source": [
    "D1"
   ]
  },
  {
   "cell_type": "code",
   "execution_count": 72,
   "id": "f3df94f6-abae-400a-8a68-4cb391781bfa",
   "metadata": {},
   "outputs": [],
   "source": [
    "D1 = {}"
   ]
  },
  {
   "cell_type": "code",
   "execution_count": 73,
   "id": "22556137-0687-4a4c-974b-b2840b14b534",
   "metadata": {},
   "outputs": [],
   "source": [
    "D1['spam'] = 1"
   ]
  },
  {
   "cell_type": "code",
   "execution_count": 74,
   "id": "1b4e13a3-2d17-4179-a6ac-8cb18741a019",
   "metadata": {},
   "outputs": [],
   "source": [
    "D1['eggs'] = 4"
   ]
  },
  {
   "cell_type": "code",
   "execution_count": 75,
   "id": "dde7b873-bedc-4efb-a511-0ccac00d3992",
   "metadata": {},
   "outputs": [],
   "source": [
    "D1['toast'] = 6"
   ]
  },
  {
   "cell_type": "code",
   "execution_count": 76,
   "id": "4696c0cf-a1d4-44cb-9c59-094604d49a38",
   "metadata": {},
   "outputs": [
    {
     "data": {
      "text/plain": [
       "{'spam': 1, 'eggs': 4, 'toast': 6}"
      ]
     },
     "execution_count": 76,
     "metadata": {},
     "output_type": "execute_result"
    }
   ],
   "source": [
    "D1"
   ]
  },
  {
   "cell_type": "code",
   "execution_count": 77,
   "id": "9e788eea-f746-4e41-ba4d-5b5d18abeea1",
   "metadata": {},
   "outputs": [],
   "source": [
    "keys = ['spam', 'eggs', 'toast']"
   ]
  },
  {
   "cell_type": "code",
   "execution_count": 78,
   "id": "5d73d8bd-837b-4d84-a1ae-5691e04664bc",
   "metadata": {},
   "outputs": [],
   "source": [
    "vals = [1, 3, 5]"
   ]
  },
  {
   "cell_type": "code",
   "execution_count": 79,
   "id": "da4bd346-7318-4030-a81e-530a7021ce98",
   "metadata": {},
   "outputs": [
    {
     "data": {
      "text/plain": [
       "[('spam', 1), ('eggs', 3), ('toast', 5)]"
      ]
     },
     "execution_count": 79,
     "metadata": {},
     "output_type": "execute_result"
    }
   ],
   "source": [
    "list(zip(keys, vals))"
   ]
  },
  {
   "cell_type": "code",
   "execution_count": 80,
   "id": "d0e3745f-b56b-4ce4-9852-106adc559927",
   "metadata": {},
   "outputs": [],
   "source": [
    "D2 = {}"
   ]
  },
  {
   "cell_type": "code",
   "execution_count": 81,
   "id": "dec2142e-dd21-4d78-acf0-9968aa7c3bec",
   "metadata": {},
   "outputs": [],
   "source": [
    "for (k, v) in zip(keys, vals): D2[k] = v"
   ]
  },
  {
   "cell_type": "code",
   "execution_count": 82,
   "id": "ae38134c-2a56-412b-bb2b-2cf86e666731",
   "metadata": {},
   "outputs": [
    {
     "data": {
      "text/plain": [
       "{'spam': 1, 'eggs': 3, 'toast': 5}"
      ]
     },
     "execution_count": 82,
     "metadata": {},
     "output_type": "execute_result"
    }
   ],
   "source": [
    "D2"
   ]
  },
  {
   "cell_type": "code",
   "execution_count": 83,
   "id": "2e162c27-9b1a-4009-9e2c-4243e7bc2b78",
   "metadata": {},
   "outputs": [],
   "source": [
    "D3 = dict(zip(keys, vals))"
   ]
  },
  {
   "cell_type": "code",
   "execution_count": 84,
   "id": "78e2320d-9da4-4c7c-a105-def128dc1451",
   "metadata": {},
   "outputs": [
    {
     "data": {
      "text/plain": [
       "{'spam': 1, 'eggs': 3, 'toast': 5}"
      ]
     },
     "execution_count": 84,
     "metadata": {},
     "output_type": "execute_result"
    }
   ],
   "source": [
    "D2"
   ]
  },
  {
   "cell_type": "code",
   "execution_count": 85,
   "id": "cca694e6-f36c-47db-a174-34b79c23bbd8",
   "metadata": {},
   "outputs": [
    {
     "data": {
      "text/plain": [
       "{'spam': 1, 'eggs': 3, 'toast': 5}"
      ]
     },
     "execution_count": 85,
     "metadata": {},
     "output_type": "execute_result"
    }
   ],
   "source": [
    "D3"
   ]
  },
  {
   "cell_type": "code",
   "execution_count": 86,
   "id": "d1eaa322-c8e4-4841-83f7-84c5b06ed2df",
   "metadata": {},
   "outputs": [
    {
     "data": {
      "text/plain": [
       "{'spam': 1, 'eggs': 3, 'toast': 5}"
      ]
     },
     "execution_count": 86,
     "metadata": {},
     "output_type": "execute_result"
    }
   ],
   "source": [
    "{k:v for (k, v) in zip(keys, vals)}"
   ]
  },
  {
   "cell_type": "code",
   "execution_count": 87,
   "id": "700f44eb-a58b-4431-be0a-816fee10dc10",
   "metadata": {},
   "outputs": [],
   "source": [
    "s = 'apsm'"
   ]
  },
  {
   "cell_type": "code",
   "execution_count": 88,
   "id": "6f86f342-26a2-4cef-bc2a-08d92a22e738",
   "metadata": {},
   "outputs": [
    {
     "name": "stdout",
     "output_type": "stream",
     "text": [
      "a appears at offset 0\n",
      "p appears at offset 1\n",
      "s appears at offset 2\n",
      "m appears at offset 3\n"
     ]
    }
   ],
   "source": [
    "for (offset, item) in enumerate(s):\n",
    "    print(item, 'appears at offset', offset)"
   ]
  },
  {
   "cell_type": "code",
   "execution_count": 89,
   "id": "af36e1df-18c8-4551-96ab-30e2c5cb13b2",
   "metadata": {},
   "outputs": [],
   "source": [
    "e = enumerate(s)"
   ]
  },
  {
   "cell_type": "code",
   "execution_count": 90,
   "id": "b7ef6962-0528-489b-8f02-96db8210e275",
   "metadata": {},
   "outputs": [
    {
     "data": {
      "text/plain": [
       "<enumerate at 0x163c0c5e680>"
      ]
     },
     "execution_count": 90,
     "metadata": {},
     "output_type": "execute_result"
    }
   ],
   "source": [
    "e"
   ]
  },
  {
   "cell_type": "code",
   "execution_count": 91,
   "id": "133823c9-be61-43a3-86af-0c66a18e3e23",
   "metadata": {},
   "outputs": [
    {
     "data": {
      "text/plain": [
       "(0, 'a')"
      ]
     },
     "execution_count": 91,
     "metadata": {},
     "output_type": "execute_result"
    }
   ],
   "source": [
    "next(e)"
   ]
  },
  {
   "cell_type": "code",
   "execution_count": 92,
   "id": "0757a59b-d244-41e2-aef7-bad57cfbfcbb",
   "metadata": {},
   "outputs": [
    {
     "data": {
      "text/plain": [
       "(1, 'p')"
      ]
     },
     "execution_count": 92,
     "metadata": {},
     "output_type": "execute_result"
    }
   ],
   "source": [
    "next(e)"
   ]
  },
  {
   "cell_type": "code",
   "execution_count": 93,
   "id": "58bd14ee-453a-4cd7-b1ac-dfe2bfdea44b",
   "metadata": {},
   "outputs": [
    {
     "data": {
      "text/plain": [
       "(2, 's')"
      ]
     },
     "execution_count": 93,
     "metadata": {},
     "output_type": "execute_result"
    }
   ],
   "source": [
    "next(e)"
   ]
  },
  {
   "cell_type": "code",
   "execution_count": 94,
   "id": "3891e36c-55e2-4ddf-97a7-1e3bd568ce3c",
   "metadata": {},
   "outputs": [
    {
     "data": {
      "text/plain": [
       "['', 'p', 'ss', 'mmm']"
      ]
     },
     "execution_count": 94,
     "metadata": {},
     "output_type": "execute_result"
    }
   ],
   "source": [
    "[c * i for (i, c) in enumerate(s)]"
   ]
  },
  {
   "cell_type": "code",
   "execution_count": 95,
   "id": "ced88aac-14c3-4cb0-bc0d-6e1ab3acbfd6",
   "metadata": {},
   "outputs": [
    {
     "name": "stdout",
     "output_type": "stream",
     "text": [
      "0) spam...99...['eggs']\n"
     ]
    }
   ],
   "source": [
    "for (i, l) in enumerate(open('data.txt')):\n",
    "    print('%s) %s' % (i, l.rstrip()))"
   ]
  },
  {
   "cell_type": "code",
   "execution_count": 96,
   "id": "20cf7257-fd03-4202-bd83-612796ab73e5",
   "metadata": {},
   "outputs": [],
   "source": [
    "import os"
   ]
  },
  {
   "cell_type": "code",
   "execution_count": 97,
   "id": "507e9aa1-7b0e-400b-991a-05cea14e9a3a",
   "metadata": {},
   "outputs": [],
   "source": [
    "F = os.popen('dir')"
   ]
  },
  {
   "cell_type": "code",
   "execution_count": 98,
   "id": "8df8b705-5aca-46a7-a8fe-313e560b6e77",
   "metadata": {},
   "outputs": [
    {
     "data": {
      "text/plain": [
       "' Volume in drive C has no label.\\n'"
      ]
     },
     "execution_count": 98,
     "metadata": {},
     "output_type": "execute_result"
    }
   ],
   "source": [
    "F.readline()"
   ]
  },
  {
   "cell_type": "code",
   "execution_count": 99,
   "id": "5fbe14b9-f8a6-4fe0-ab1f-ee765c9be0b3",
   "metadata": {},
   "outputs": [],
   "source": [
    "F = os.popen('dir')"
   ]
  },
  {
   "cell_type": "code",
   "execution_count": 100,
   "id": "d26c3958-14b2-4bb6-ba07-36beab9a0b67",
   "metadata": {},
   "outputs": [
    {
     "data": {
      "text/plain": [
       "' Volume in drive C has no label.\\n Volume Serial Nu'"
      ]
     },
     "execution_count": 100,
     "metadata": {},
     "output_type": "execute_result"
    }
   ],
   "source": [
    "F.read(50)"
   ]
  },
  {
   "cell_type": "code",
   "execution_count": 101,
   "id": "0dd7e8ee-ad2a-4694-9220-be222dced723",
   "metadata": {},
   "outputs": [
    {
     "data": {
      "text/plain": [
       "' Volume in drive C has no label.\\n'"
      ]
     },
     "execution_count": 101,
     "metadata": {},
     "output_type": "execute_result"
    }
   ],
   "source": [
    "os.popen('dir').readlines()[0]"
   ]
  },
  {
   "cell_type": "code",
   "execution_count": 102,
   "id": "0d2e55a5-550d-4417-8688-7a39d4d376cc",
   "metadata": {},
   "outputs": [
    {
     "data": {
      "text/plain": [
       "' Volume in drive C has no label.\\n Volume Serial Nu'"
      ]
     },
     "execution_count": 102,
     "metadata": {},
     "output_type": "execute_result"
    }
   ],
   "source": [
    "os.popen('dir').read()[:50]"
   ]
  },
  {
   "cell_type": "code",
   "execution_count": 103,
   "id": "65655f54-fe64-4732-b021-ca00585d4292",
   "metadata": {},
   "outputs": [
    {
     "name": "stdout",
     "output_type": "stream",
     "text": [
      " Volume in drive C has no label.\n",
      " Volume Serial Number is E318-3D13\n",
      "\n",
      " Directory of C:\\Users\\admin\\Documents\\DeepLearning\\Learning_Python\n",
      "\n",
      "12/08/2022  03:34 AM    <DIR>          .\n",
      "11/26/2022  11:21 PM    <DIR>          ..\n",
      "12/07/2022  01:11 AM    <DIR>          .ipynb_checkpoints\n",
      "12/06/2022  02:02 AM            38,444 assignments_expressions.ipynb\n",
      "12/04/2022  06:20 PM                10 data.bin\n",
      "12/06/2022  01:47 AM                22 data.txt\n",
      "12/04/2022  06:09 PM                28 datafile.pkl\n",
      "12/04/2022  03:52 PM                44 datafile.txt\n",
      "11/27/2022  02:11 AM            10,540 dynamic_typing.ipynb\n",
      "12/07/2022  01:09 AM             8,890 if.ipynb\n",
      "11/13/2022  01:09 PM             1,670 intro.ipynb\n",
      "12/04/2022  03:01 PM            62,970 list_and_dict.ipynb\n",
      "12/06/2022  01:57 AM                14 log.txt\n",
      "12/04/2022  03:32 PM                36 myfile.txt\n",
      "11/26/2022  11:14 PM            83,684 numeric_types.ipynb\n",
      "11/23/2022  02:27 PM           115,582 object_types.ipynb\n",
      "12/04/2022  07:09 PM            11,400 statements.ipynb\n",
      "12/01/2022  08:16 PM            75,608 strings.ipynb\n",
      "12/06/2022  02:00 AM                 5 temp1\n",
      "12/06/2022  02:00 AM                 5 temp2\n",
      "12/04/2022  06:17 PM               147 testjson.txt\n",
      "12/04/2022  06:40 PM            68,059 tuples_files_everything_else.ipynb\n",
      "11/23/2022  02:03 PM                 5 unidata.txt\n",
      "12/08/2022  03:34 AM            31,567 while_for.ipynb\n",
      "              21 File(s)        508,730 bytes\n",
      "               3 Dir(s)  805,609,369,600 bytes free\n"
     ]
    }
   ],
   "source": [
    "for line in os.popen('dir'):\n",
    "    print(line.rstrip())"
   ]
  },
  {
   "cell_type": "code",
   "execution_count": 104,
   "id": "14c55a13-0fe3-43b6-a81b-5f98b73ee201",
   "metadata": {},
   "outputs": [
    {
     "data": {
      "text/plain": [
       "0"
      ]
     },
     "execution_count": 104,
     "metadata": {},
     "output_type": "execute_result"
    }
   ],
   "source": [
    "os.system('systeminfo')"
   ]
  },
  {
   "cell_type": "code",
   "execution_count": 105,
   "id": "49eb69f0-4e1b-4ea1-a27d-6e39afe9940b",
   "metadata": {},
   "outputs": [
    {
     "name": "stdout",
     "output_type": "stream",
     "text": [
      "\n",
      "Host Name:                 XIN-PC\n",
      "OS Name:                   Microsoft Windows 11 Pro\n",
      "OS Version:                10.0.22621 N/A Build 22621\n",
      "OS Manufacturer:           Microsoft Corporation\n",
      "OS Configuration:          Standalone Workstation\n",
      "OS Build Type:             Multiprocessor Free\n",
      "Registered Owner:          admin\n",
      "Registered Organization:   N/A\n",
      "Product ID:                00331-10000-00001-AA621\n",
      "Original Install Date:     11/6/2022, 1:13:46 PM\n",
      "System Boot Time:          12/7/2022, 5:22:48 PM\n",
      "System Manufacturer:       ASUS\n",
      "System Model:              System Product Name\n",
      "System Type:               x64-based PC\n",
      "Processor(s):              1 Processor(s) Installed.\n",
      "                           [01]: Intel64 Family 6 Model 151 Stepping 2 GenuineIntel ~2100 Mhz\n",
      "BIOS Version:              American Megatrends Inc. 1620, 8/12/2022\n",
      "Windows Directory:         C:\\WINDOWS\n",
      "System Directory:          C:\\WINDOWS\\system32\n",
      "Boot Device:               \\Device\\HarddiskVolume1\n",
      "System Locale:             zh-cn;Chinese (China)\n",
      "Input Locale:              en-us;English (United States)\n",
      "Time Zone:                 (UTC+08:00) Beijing, Chongqing, Hong Kong, Urumqi\n",
      "Total Physical Memory:     32,509 MB\n",
      "Available Physical Memory: 25,069 MB\n",
      "Virtual Memory: Max Size:  58,109 MB\n",
      "Virtual Memory: Available: 48,251 MB\n",
      "Virtual Memory: In Use:    9,858 MB\n",
      "Page File Location(s):     C:\\pagefile.sys\n",
      "Domain:                    WORKGROUP\n",
      "Logon Server:              \\\\XIN-PC\n",
      "Hotfix(s):                 4 Hotfix(s) Installed.\n",
      "                           [01]: KB5020622\n",
      "                           [02]: KB5012170\n",
      "                           [03]: KB5020044\n",
      "                           [04]: KB5020487\n",
      "Network Card(s):           3 NIC(s) Installed.\n",
      "                           [01]: Intel(R) Wi-Fi 6 AX201 160MHz\n",
      "                                 Connection Name: WLAN\n",
      "                                 DHCP Enabled:    Yes\n",
      "                                 DHCP Server:     192.168.2.1\n",
      "                                 IP address(es)\n",
      "                                 [01]: 192.168.2.3\n",
      "                                 [02]: fe80::d5cb:1369:e063:a4ff\n",
      "                           [02]: Realtek Gaming 2.5GbE Family Controller\n",
      "                                 Connection Name: 以太网 5\n",
      "                                 Status:          Media disconnected\n",
      "                           [03]: Bluetooth Device (Personal Area Network)\n",
      "                                 Connection Name: 蓝牙网络连接 3\n",
      "                                 Status:          Media disconnected\n",
      "Hyper-V Requirements:      A hypervisor has been detected. Features required for Hyper-V will not be displayed.\n"
     ]
    }
   ],
   "source": [
    "for line in os.popen('systeminfo'): print(line.rstrip())"
   ]
  },
  {
   "cell_type": "code",
   "execution_count": 106,
   "id": "384735b1-a481-442b-9858-fc90552bd364",
   "metadata": {},
   "outputs": [
    {
     "name": "stdout",
     "output_type": "stream",
     "text": [
      "00000) \n",
      "00001) Host Name:                 XIN-PC\n",
      "00002) OS Name:                   Microsoft Windows 11 Pro\n",
      "00003) OS Version:                10.0.22621 N/A Build 22621\n"
     ]
    }
   ],
   "source": [
    "for (i, line) in enumerate(os.popen('systeminfo')):\n",
    "    if i==4: break\n",
    "    print('%05d) %s' % (i, line.rstrip()))"
   ]
  },
  {
   "cell_type": "code",
   "execution_count": 107,
   "id": "ae9650bb-908d-4151-a5fc-b528d190abf9",
   "metadata": {},
   "outputs": [
    {
     "name": "stdout",
     "output_type": "stream",
     "text": [
      "               x64-based PC\n"
     ]
    }
   ],
   "source": [
    "for line in os.popen('systeminfo'):\n",
    "    parts = line.split(':')\n",
    "    if parts and parts[0].lower() == 'system type':\n",
    "        print(parts[1].rstrip())"
   ]
  },
  {
   "cell_type": "code",
   "execution_count": 108,
   "id": "35112b49-b30a-438d-8a87-5c074a605620",
   "metadata": {},
   "outputs": [],
   "source": [
    "from urllib.request import urlopen"
   ]
  },
  {
   "cell_type": "code",
   "execution_count": 110,
   "id": "184990c6-4daa-4197-9a22-7311809c9433",
   "metadata": {},
   "outputs": [
    {
     "name": "stdout",
     "output_type": "stream",
     "text": [
      "b'<html>\\n'\n",
      "b'<meta http-equiv=\"refresh\" content=\"0;url=http://www.baidu.com/\">\\n'\n",
      "b'</html>\\n'\n"
     ]
    }
   ],
   "source": [
    "for line in urlopen('http://baidu.com'):\n",
    "    print(line)"
   ]
  },
  {
   "cell_type": "code",
   "execution_count": null,
   "id": "cb985c43-f851-4d82-a2fa-1040d5776e0b",
   "metadata": {},
   "outputs": [],
   "source": []
  }
 ],
 "metadata": {
  "kernelspec": {
   "display_name": "Python 3 (ipykernel)",
   "language": "python",
   "name": "python3"
  },
  "language_info": {
   "codemirror_mode": {
    "name": "ipython",
    "version": 3
   },
   "file_extension": ".py",
   "mimetype": "text/x-python",
   "name": "python",
   "nbconvert_exporter": "python",
   "pygments_lexer": "ipython3",
   "version": "3.9.13"
  }
 },
 "nbformat": 4,
 "nbformat_minor": 5
}
