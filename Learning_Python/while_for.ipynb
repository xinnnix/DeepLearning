{
 "cells": [
  {
   "cell_type": "code",
   "execution_count": null,
   "id": "f77b10cc-5358-4f09-8554-7e5176cf664a",
   "metadata": {},
   "outputs": [],
   "source": [
    "while True:\n",
    "    print('Type Ctrl-C to step me!')"
   ]
  },
  {
   "cell_type": "code",
   "execution_count": 2,
   "id": "f5ee15db-85b7-46c3-9232-366bbf11c663",
   "metadata": {},
   "outputs": [
    {
     "name": "stdout",
     "output_type": "stream",
     "text": [
      "spam pam am m "
     ]
    }
   ],
   "source": [
    "x = 'spam'\n",
    "while x:\n",
    "    print(x, end=' ')\n",
    "    x = x[1:]"
   ]
  },
  {
   "cell_type": "code",
   "execution_count": 3,
   "id": "f1546314-128b-48f1-bef5-1fb1c9c3dade",
   "metadata": {},
   "outputs": [
    {
     "name": "stdout",
     "output_type": "stream",
     "text": [
      "0 1 2 3 4 5 6 7 8 9 "
     ]
    }
   ],
   "source": [
    "a = 0; b = 10\n",
    "while a<b:\n",
    "    print(a, end=' ')\n",
    "    a += 1"
   ]
  },
  {
   "cell_type": "code",
   "execution_count": 4,
   "id": "bf042b59-15d2-4c46-b5fa-5698b999dc94",
   "metadata": {},
   "outputs": [],
   "source": [
    "def function1():\n",
    "    ..."
   ]
  },
  {
   "cell_type": "code",
   "execution_count": 5,
   "id": "7306a9de-bd66-4f60-8648-37ce59782487",
   "metadata": {},
   "outputs": [],
   "source": [
    "function1()"
   ]
  },
  {
   "cell_type": "code",
   "execution_count": 6,
   "id": "20fa435b-86a9-4310-addc-0bfee094dbf7",
   "metadata": {},
   "outputs": [
    {
     "name": "stdout",
     "output_type": "stream",
     "text": [
      "8 6 4 2 0 "
     ]
    }
   ],
   "source": [
    "x = 10\n",
    "while x:\n",
    "    x = x - 1\n",
    "    if x % 2 != 0: continue\n",
    "    print(x, end=' ')"
   ]
  },
  {
   "cell_type": "code",
   "execution_count": 7,
   "id": "117e3067-be67-4ecd-9049-88105abc5a11",
   "metadata": {},
   "outputs": [
    {
     "name": "stdin",
     "output_type": "stream",
     "text": [
      "Enter name: zx\n",
      "Enter age:  78\n"
     ]
    },
    {
     "name": "stdout",
     "output_type": "stream",
     "text": [
      "Hello zx => 6084\n"
     ]
    },
    {
     "name": "stdin",
     "output_type": "stream",
     "text": [
      "Enter name: stop\n"
     ]
    }
   ],
   "source": [
    "while True:\n",
    "    name = input('Enter name:')\n",
    "    if name=='stop': break\n",
    "    age = input('Enter age: ')\n",
    "    print('Hello', name, '=>', int(age) ** 2)"
   ]
  },
  {
   "cell_type": "code",
   "execution_count": null,
   "id": "924aa9a4-2fa5-43e7-be51-9e3429d5acfa",
   "metadata": {},
   "outputs": [],
   "source": []
  }
 ],
 "metadata": {
  "kernelspec": {
   "display_name": "Python 3 (ipykernel)",
   "language": "python",
   "name": "python3"
  },
  "language_info": {
   "codemirror_mode": {
    "name": "ipython",
    "version": 3
   },
   "file_extension": ".py",
   "mimetype": "text/x-python",
   "name": "python",
   "nbconvert_exporter": "python",
   "pygments_lexer": "ipython3",
   "version": "3.9.13"
  }
 },
 "nbformat": 4,
 "nbformat_minor": 5
}
