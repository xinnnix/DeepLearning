{
 "cells": [
  {
   "cell_type": "code",
   "execution_count": 1,
   "id": "60ce5088-6c9e-4d59-a45f-e174d712a239",
   "metadata": {},
   "outputs": [],
   "source": [
    "nudge = 1"
   ]
  },
  {
   "cell_type": "code",
   "execution_count": 2,
   "id": "ce9eba9a-0146-4cc1-839a-a4f03e8186b8",
   "metadata": {},
   "outputs": [],
   "source": [
    "wink = 2"
   ]
  },
  {
   "cell_type": "code",
   "execution_count": 3,
   "id": "e1aeffa3-dc7a-4039-a2fb-ca28629f7565",
   "metadata": {},
   "outputs": [],
   "source": [
    "A, B = nudge, wink"
   ]
  },
  {
   "cell_type": "code",
   "execution_count": 4,
   "id": "d53efedf-2b1a-4289-92e8-a74893e32c1f",
   "metadata": {},
   "outputs": [
    {
     "data": {
      "text/plain": [
       "(1, 2)"
      ]
     },
     "execution_count": 4,
     "metadata": {},
     "output_type": "execute_result"
    }
   ],
   "source": [
    "A, B"
   ]
  },
  {
   "cell_type": "code",
   "execution_count": 5,
   "id": "e141828d-235f-40d4-8c3f-08039f7f46be",
   "metadata": {},
   "outputs": [],
   "source": [
    "[C, D] = [nudge, wink]"
   ]
  },
  {
   "cell_type": "code",
   "execution_count": 6,
   "id": "19e6ef18-a17e-4611-9ef0-3fc299117b04",
   "metadata": {},
   "outputs": [
    {
     "data": {
      "text/plain": [
       "(1, 2)"
      ]
     },
     "execution_count": 6,
     "metadata": {},
     "output_type": "execute_result"
    }
   ],
   "source": [
    "C, D"
   ]
  },
  {
   "cell_type": "code",
   "execution_count": 7,
   "id": "5ad489f3-c5e3-4f82-bbf4-6be7d6c550a0",
   "metadata": {},
   "outputs": [],
   "source": [
    "nudge = 1\n",
    "wink = 2\n",
    "nudge, wink = wink, nudge"
   ]
  },
  {
   "cell_type": "code",
   "execution_count": 8,
   "id": "b779bc25-0342-42c5-bd79-8717ec5a8c47",
   "metadata": {},
   "outputs": [
    {
     "data": {
      "text/plain": [
       "(2, 1)"
      ]
     },
     "execution_count": 8,
     "metadata": {},
     "output_type": "execute_result"
    }
   ],
   "source": [
    "nudge, wink"
   ]
  },
  {
   "cell_type": "code",
   "execution_count": 9,
   "id": "718e9e67-1399-4aae-9c20-5d080c3d16a1",
   "metadata": {},
   "outputs": [],
   "source": [
    "[a, b, c] = (1, 2, 3)"
   ]
  },
  {
   "cell_type": "code",
   "execution_count": 10,
   "id": "53709c4d-a3b2-4620-bde7-7f3b35edd395",
   "metadata": {},
   "outputs": [
    {
     "data": {
      "text/plain": [
       "(1, 3)"
      ]
     },
     "execution_count": 10,
     "metadata": {},
     "output_type": "execute_result"
    }
   ],
   "source": [
    "a, c"
   ]
  },
  {
   "cell_type": "code",
   "execution_count": 11,
   "id": "0a25152d-4063-45cd-a462-089a6e96774a",
   "metadata": {},
   "outputs": [
    {
     "data": {
      "text/plain": [
       "(1, 2, 3)"
      ]
     },
     "execution_count": 11,
     "metadata": {},
     "output_type": "execute_result"
    }
   ],
   "source": [
    "(a, b, c)"
   ]
  },
  {
   "cell_type": "code",
   "execution_count": 12,
   "id": "c3037de6-8000-4c06-8300-c33929b4f407",
   "metadata": {},
   "outputs": [],
   "source": [
    "(a, b, c) = 'ABC'"
   ]
  },
  {
   "cell_type": "code",
   "execution_count": 13,
   "id": "19954dea-6471-4eb8-bec3-d581f586af5c",
   "metadata": {},
   "outputs": [
    {
     "data": {
      "text/plain": [
       "('A', 'C')"
      ]
     },
     "execution_count": 13,
     "metadata": {},
     "output_type": "execute_result"
    }
   ],
   "source": [
    "a, c"
   ]
  },
  {
   "cell_type": "code",
   "execution_count": 14,
   "id": "c715b201-0674-4e78-a807-653cff29c0b6",
   "metadata": {},
   "outputs": [],
   "source": [
    "string = 'SPAM'"
   ]
  },
  {
   "cell_type": "code",
   "execution_count": 15,
   "id": "046b0a33-cd8c-4291-8e2e-08df58670ac4",
   "metadata": {},
   "outputs": [],
   "source": [
    "a, b, c, d = string"
   ]
  },
  {
   "cell_type": "code",
   "execution_count": 16,
   "id": "a7a47bc4-dc65-4d31-a4ea-7e515ccb4c5a",
   "metadata": {},
   "outputs": [
    {
     "data": {
      "text/plain": [
       "('S', 'M')"
      ]
     },
     "execution_count": 16,
     "metadata": {},
     "output_type": "execute_result"
    }
   ],
   "source": [
    "a, d"
   ]
  },
  {
   "cell_type": "code",
   "execution_count": 17,
   "id": "4980a07c-c19d-430d-9f2b-6ecb08d80bfd",
   "metadata": {},
   "outputs": [
    {
     "data": {
      "text/plain": [
       "('S', 'P', 'A')"
      ]
     },
     "execution_count": 17,
     "metadata": {},
     "output_type": "execute_result"
    }
   ],
   "source": [
    "a, b, c"
   ]
  },
  {
   "cell_type": "code",
   "execution_count": 18,
   "id": "f91e3796-6d87-40a8-bb02-4a815404742d",
   "metadata": {},
   "outputs": [],
   "source": [
    "a, b, c =string[0], string[1], string[2:]"
   ]
  },
  {
   "cell_type": "code",
   "execution_count": 19,
   "id": "81fcff03-6367-4b72-82b2-db8965a7aa7a",
   "metadata": {},
   "outputs": [
    {
     "data": {
      "text/plain": [
       "('S', 'P', 'AM')"
      ]
     },
     "execution_count": 19,
     "metadata": {},
     "output_type": "execute_result"
    }
   ],
   "source": [
    "a, b, c"
   ]
  },
  {
   "cell_type": "code",
   "execution_count": 20,
   "id": "bc9005f8-9ecf-4b26-ac33-ed4dfb89a056",
   "metadata": {},
   "outputs": [],
   "source": [
    "a, b, c = list(string[:2]) + [string[2:]]"
   ]
  },
  {
   "cell_type": "code",
   "execution_count": 21,
   "id": "e720657e-ce1d-4824-9243-3fc581be7a4b",
   "metadata": {},
   "outputs": [
    {
     "data": {
      "text/plain": [
       "('S', 'P', 'AM')"
      ]
     },
     "execution_count": 21,
     "metadata": {},
     "output_type": "execute_result"
    }
   ],
   "source": [
    "a, b, c"
   ]
  },
  {
   "cell_type": "code",
   "execution_count": 22,
   "id": "c2871407-92e2-4a88-a02c-3ca03f267fe0",
   "metadata": {},
   "outputs": [],
   "source": [
    "a, b = string[:2]"
   ]
  },
  {
   "cell_type": "code",
   "execution_count": 23,
   "id": "5ddab169-409a-4cef-9d99-def303ba6f01",
   "metadata": {},
   "outputs": [],
   "source": [
    "c = string[2:]"
   ]
  },
  {
   "cell_type": "code",
   "execution_count": 24,
   "id": "e67e0a96-e5ac-4547-80b2-2cf28b60a022",
   "metadata": {},
   "outputs": [
    {
     "data": {
      "text/plain": [
       "('S', 'P', 'AM')"
      ]
     },
     "execution_count": 24,
     "metadata": {},
     "output_type": "execute_result"
    }
   ],
   "source": [
    "a, b, c"
   ]
  },
  {
   "cell_type": "code",
   "execution_count": 25,
   "id": "72a8a77d-9e4e-482b-8dbd-db9ab30ae5c3",
   "metadata": {},
   "outputs": [],
   "source": [
    "(a, b), c = string[:2], string[2:]"
   ]
  },
  {
   "cell_type": "code",
   "execution_count": 26,
   "id": "ba4a8492-28d0-48b8-9930-25515bde8ebb",
   "metadata": {},
   "outputs": [
    {
     "data": {
      "text/plain": [
       "('S', 'P', 'AM')"
      ]
     },
     "execution_count": 26,
     "metadata": {},
     "output_type": "execute_result"
    }
   ],
   "source": [
    "a, b, c"
   ]
  },
  {
   "cell_type": "code",
   "execution_count": 27,
   "id": "17a41700-2085-4257-a0cd-2bbb7802fedf",
   "metadata": {},
   "outputs": [],
   "source": [
    "((a,b), c) = ('sp', 'am')"
   ]
  },
  {
   "cell_type": "code",
   "execution_count": 28,
   "id": "6e40c9a4-7c90-4539-a589-8811343ff1fc",
   "metadata": {},
   "outputs": [
    {
     "data": {
      "text/plain": [
       "('s', 'p', 'am')"
      ]
     },
     "execution_count": 28,
     "metadata": {},
     "output_type": "execute_result"
    }
   ],
   "source": [
    "a, b, c"
   ]
  },
  {
   "cell_type": "code",
   "execution_count": 29,
   "id": "dfeb7278-7040-40f5-89bf-5083928fcc70",
   "metadata": {},
   "outputs": [],
   "source": [
    "red, green, blue = range(3)"
   ]
  },
  {
   "cell_type": "code",
   "execution_count": 30,
   "id": "3e7aa10d-9f18-413b-b586-d5c389a673b2",
   "metadata": {},
   "outputs": [
    {
     "data": {
      "text/plain": [
       "(0, 2)"
      ]
     },
     "execution_count": 30,
     "metadata": {},
     "output_type": "execute_result"
    }
   ],
   "source": [
    "red, blue"
   ]
  },
  {
   "cell_type": "code",
   "execution_count": 31,
   "id": "4518591d-e3d4-4877-b441-942187b99b65",
   "metadata": {},
   "outputs": [
    {
     "data": {
      "text/plain": [
       "[0, 1, 2]"
      ]
     },
     "execution_count": 31,
     "metadata": {},
     "output_type": "execute_result"
    }
   ],
   "source": [
    "list(range(3))"
   ]
  },
  {
   "cell_type": "code",
   "execution_count": 32,
   "id": "b48f8d17-e8e9-439c-8633-2eefe8362a52",
   "metadata": {},
   "outputs": [],
   "source": [
    "L = [1, 2, 3, 4]"
   ]
  },
  {
   "cell_type": "code",
   "execution_count": 33,
   "id": "2485faaf-abd9-4a84-b634-05e869ccf8c8",
   "metadata": {},
   "outputs": [
    {
     "name": "stdout",
     "output_type": "stream",
     "text": [
      "1 [2, 3, 4]\n",
      "2 [3, 4]\n",
      "3 [4]\n",
      "4 []\n"
     ]
    }
   ],
   "source": [
    "while L:\n",
    "    front, L = L[0], L[1:]\n",
    "    print(front, L)"
   ]
  },
  {
   "cell_type": "code",
   "execution_count": 34,
   "id": "5b6031c0-3a84-4cb4-809e-6234f272624f",
   "metadata": {},
   "outputs": [],
   "source": [
    "seq = [1, 2, 3, 4]"
   ]
  },
  {
   "cell_type": "code",
   "execution_count": 35,
   "id": "bbddd822-8278-4f61-8970-4ce28ace7562",
   "metadata": {},
   "outputs": [],
   "source": [
    "a, b, c, d = seq"
   ]
  },
  {
   "cell_type": "code",
   "execution_count": 36,
   "id": "74a220a2-0e21-4944-986c-e88fc82bf321",
   "metadata": {},
   "outputs": [
    {
     "data": {
      "text/plain": [
       "(1, 2)"
      ]
     },
     "execution_count": 36,
     "metadata": {},
     "output_type": "execute_result"
    }
   ],
   "source": [
    "a, b"
   ]
  },
  {
   "cell_type": "code",
   "execution_count": 37,
   "id": "0ea6d90a-e689-4a70-a072-65c7f1d679c3",
   "metadata": {},
   "outputs": [],
   "source": [
    "a, *b = seq"
   ]
  },
  {
   "cell_type": "code",
   "execution_count": 38,
   "id": "cbc675dc-676c-4a2a-a134-38628f73ec33",
   "metadata": {},
   "outputs": [
    {
     "data": {
      "text/plain": [
       "1"
      ]
     },
     "execution_count": 38,
     "metadata": {},
     "output_type": "execute_result"
    }
   ],
   "source": [
    "a"
   ]
  },
  {
   "cell_type": "code",
   "execution_count": 39,
   "id": "11190a19-336e-426b-aa9d-091e5e895278",
   "metadata": {},
   "outputs": [
    {
     "data": {
      "text/plain": [
       "[2, 3, 4]"
      ]
     },
     "execution_count": 39,
     "metadata": {},
     "output_type": "execute_result"
    }
   ],
   "source": [
    "b"
   ]
  },
  {
   "cell_type": "code",
   "execution_count": 40,
   "id": "b4e4a9b3-1856-457c-bc95-e8bf1a06018a",
   "metadata": {},
   "outputs": [],
   "source": [
    "*a, b = seq"
   ]
  },
  {
   "cell_type": "code",
   "execution_count": 41,
   "id": "e672f553-cede-4b81-b53d-0d7043ceaf80",
   "metadata": {},
   "outputs": [
    {
     "data": {
      "text/plain": [
       "[1, 2, 3]"
      ]
     },
     "execution_count": 41,
     "metadata": {},
     "output_type": "execute_result"
    }
   ],
   "source": [
    "a "
   ]
  },
  {
   "cell_type": "code",
   "execution_count": 42,
   "id": "45cdaaec-f3c5-43b2-9e02-3134fb7356f8",
   "metadata": {},
   "outputs": [
    {
     "data": {
      "text/plain": [
       "4"
      ]
     },
     "execution_count": 42,
     "metadata": {},
     "output_type": "execute_result"
    }
   ],
   "source": [
    "b"
   ]
  },
  {
   "cell_type": "code",
   "execution_count": 43,
   "id": "60e419d7-8fee-4b0d-a30c-eb0088ced686",
   "metadata": {},
   "outputs": [],
   "source": [
    "a, *b, c = seq"
   ]
  },
  {
   "cell_type": "code",
   "execution_count": 44,
   "id": "2e93b898-7cfd-4821-a746-4770b2a545d5",
   "metadata": {},
   "outputs": [
    {
     "data": {
      "text/plain": [
       "(1, [2, 3], 4)"
      ]
     },
     "execution_count": 44,
     "metadata": {},
     "output_type": "execute_result"
    }
   ],
   "source": [
    "a, b, c"
   ]
  },
  {
   "cell_type": "code",
   "execution_count": 45,
   "id": "11721b21-7cfc-4c85-a3ab-03bdb0857474",
   "metadata": {},
   "outputs": [],
   "source": [
    "a, *b = 'spam'"
   ]
  },
  {
   "cell_type": "code",
   "execution_count": 46,
   "id": "7bcf3703-aeed-4757-b00f-0f78bd78e7f5",
   "metadata": {},
   "outputs": [
    {
     "data": {
      "text/plain": [
       "('s', ['p', 'a', 'm'])"
      ]
     },
     "execution_count": 46,
     "metadata": {},
     "output_type": "execute_result"
    }
   ],
   "source": [
    "a, b"
   ]
  },
  {
   "cell_type": "code",
   "execution_count": 47,
   "id": "33c995bf-557f-4f3f-81a4-fa7c5a9a1727",
   "metadata": {},
   "outputs": [],
   "source": [
    "a, *b, c = 'spam'"
   ]
  },
  {
   "cell_type": "code",
   "execution_count": 48,
   "id": "1bde27e8-7189-416b-be45-53149d4bd4b7",
   "metadata": {},
   "outputs": [
    {
     "data": {
      "text/plain": [
       "('s', ['p', 'a'], 'm')"
      ]
     },
     "execution_count": 48,
     "metadata": {},
     "output_type": "execute_result"
    }
   ],
   "source": [
    "a, b, c"
   ]
  },
  {
   "cell_type": "code",
   "execution_count": 49,
   "id": "315f85f7-4692-4331-9e43-beff0613e06c",
   "metadata": {},
   "outputs": [],
   "source": [
    "a, *b, c = range(4)"
   ]
  },
  {
   "cell_type": "code",
   "execution_count": 50,
   "id": "5d8d15fc-bbaf-43cf-b1b6-ada5aa32178f",
   "metadata": {},
   "outputs": [
    {
     "data": {
      "text/plain": [
       "(0, [1, 2], 3)"
      ]
     },
     "execution_count": 50,
     "metadata": {},
     "output_type": "execute_result"
    }
   ],
   "source": [
    "a, b, c"
   ]
  },
  {
   "cell_type": "code",
   "execution_count": 51,
   "id": "01bfa44d-8b46-4115-8ea6-c003e52ddc3b",
   "metadata": {},
   "outputs": [],
   "source": [
    "s = 'spam'"
   ]
  },
  {
   "cell_type": "code",
   "execution_count": 52,
   "id": "d9065bac-71b0-47ed-a92f-c6240aac1ddf",
   "metadata": {},
   "outputs": [
    {
     "data": {
      "text/plain": [
       "('s', 'pam')"
      ]
     },
     "execution_count": 52,
     "metadata": {},
     "output_type": "execute_result"
    }
   ],
   "source": [
    "s[0], s[1:]"
   ]
  },
  {
   "cell_type": "code",
   "execution_count": 53,
   "id": "37e06951-6f19-423c-a251-468b3714e760",
   "metadata": {},
   "outputs": [],
   "source": [
    "L = [1, 2, 3, 4]"
   ]
  },
  {
   "cell_type": "code",
   "execution_count": 54,
   "id": "3dd878d7-5f81-485f-ad94-5142ea0c66fb",
   "metadata": {},
   "outputs": [
    {
     "name": "stdout",
     "output_type": "stream",
     "text": [
      "1 [2, 3, 4]\n",
      "2 [3, 4]\n",
      "3 [4]\n",
      "4 []\n"
     ]
    }
   ],
   "source": [
    "while L:\n",
    "    front, *L = L\n",
    "    print(front, L)"
   ]
  },
  {
   "cell_type": "code",
   "execution_count": 55,
   "id": "96280979-cef5-4491-b768-d7a722437617",
   "metadata": {},
   "outputs": [],
   "source": [
    "seq  = [1, 2, 3, 4]"
   ]
  },
  {
   "cell_type": "code",
   "execution_count": 56,
   "id": "011acfd1-f30d-4e57-805f-37dd111841b4",
   "metadata": {},
   "outputs": [],
   "source": [
    "a, b, c, *d = seq"
   ]
  },
  {
   "cell_type": "code",
   "execution_count": 57,
   "id": "b10e6c36-68bf-44ca-a143-b241095cc1b4",
   "metadata": {},
   "outputs": [
    {
     "data": {
      "text/plain": [
       "(1, 3, 2, [4])"
      ]
     },
     "execution_count": 57,
     "metadata": {},
     "output_type": "execute_result"
    }
   ],
   "source": [
    "a, c, b, d"
   ]
  },
  {
   "cell_type": "code",
   "execution_count": 58,
   "id": "2bba1454-3406-4e77-906e-e42210c294b0",
   "metadata": {},
   "outputs": [],
   "source": [
    "a, b, c, d, *e = seq"
   ]
  },
  {
   "cell_type": "code",
   "execution_count": 59,
   "id": "4072be84-4771-4a6b-9a63-48129100e0fc",
   "metadata": {},
   "outputs": [
    {
     "name": "stdout",
     "output_type": "stream",
     "text": [
      "1 2 3 4 []\n"
     ]
    }
   ],
   "source": [
    "print(a, b, c, d, e)"
   ]
  },
  {
   "cell_type": "code",
   "execution_count": 60,
   "id": "256b3a5a-2308-402d-9934-f6da587225ca",
   "metadata": {},
   "outputs": [],
   "source": [
    "a = b = 0"
   ]
  },
  {
   "cell_type": "code",
   "execution_count": 61,
   "id": "cba610eb-372e-41b3-b90f-8bd49fc0fe53",
   "metadata": {},
   "outputs": [],
   "source": [
    "b = b + 1"
   ]
  },
  {
   "cell_type": "code",
   "execution_count": 62,
   "id": "4d4958e0-1e0a-453b-8f2f-77363f7bf093",
   "metadata": {},
   "outputs": [
    {
     "data": {
      "text/plain": [
       "(0, 1)"
      ]
     },
     "execution_count": 62,
     "metadata": {},
     "output_type": "execute_result"
    }
   ],
   "source": [
    "a, b"
   ]
  },
  {
   "cell_type": "code",
   "execution_count": 63,
   "id": "9c81c71d-7257-4fe5-8867-cd2838978589",
   "metadata": {},
   "outputs": [],
   "source": [
    "a = b = []"
   ]
  },
  {
   "cell_type": "code",
   "execution_count": 64,
   "id": "ccc39168-89c3-48a2-a73e-3874e016053f",
   "metadata": {},
   "outputs": [],
   "source": [
    "b.append(43)"
   ]
  },
  {
   "cell_type": "code",
   "execution_count": 65,
   "id": "4c375f6a-e724-40b5-b2f7-4ec9e6e41f8c",
   "metadata": {},
   "outputs": [
    {
     "data": {
      "text/plain": [
       "([43], [43])"
      ]
     },
     "execution_count": 65,
     "metadata": {},
     "output_type": "execute_result"
    }
   ],
   "source": [
    "a, b"
   ]
  },
  {
   "cell_type": "code",
   "execution_count": 66,
   "id": "0d1cf100-69a9-4699-bf6b-c5d15c7be51a",
   "metadata": {},
   "outputs": [],
   "source": [
    "a = []\n",
    "b = []\n",
    "b.append(32)"
   ]
  },
  {
   "cell_type": "code",
   "execution_count": 67,
   "id": "72ca8fce-393c-4fe3-9de1-bf5d040d57be",
   "metadata": {},
   "outputs": [
    {
     "data": {
      "text/plain": [
       "([], [32])"
      ]
     },
     "execution_count": 67,
     "metadata": {},
     "output_type": "execute_result"
    }
   ],
   "source": [
    "a, b "
   ]
  },
  {
   "cell_type": "code",
   "execution_count": 68,
   "id": "18c61b15-3610-4ce1-a7ed-7afa28e3c04e",
   "metadata": {},
   "outputs": [],
   "source": [
    "a, b = [], []"
   ]
  },
  {
   "cell_type": "code",
   "execution_count": 69,
   "id": "32c22a68-0eee-432f-9df6-ae20e337cece",
   "metadata": {},
   "outputs": [],
   "source": [
    "x = 1"
   ]
  },
  {
   "cell_type": "code",
   "execution_count": 70,
   "id": "b83d9a79-6dec-4221-8022-1da7b46137ef",
   "metadata": {},
   "outputs": [],
   "source": [
    "x = x + 1"
   ]
  },
  {
   "cell_type": "code",
   "execution_count": 71,
   "id": "8f53cdca-411a-4007-b54f-3454e2f665c2",
   "metadata": {},
   "outputs": [
    {
     "data": {
      "text/plain": [
       "2"
      ]
     },
     "execution_count": 71,
     "metadata": {},
     "output_type": "execute_result"
    }
   ],
   "source": [
    "x"
   ]
  },
  {
   "cell_type": "code",
   "execution_count": 72,
   "id": "1011e87f-d602-4873-8b00-c501744caa38",
   "metadata": {},
   "outputs": [],
   "source": [
    "x += 1"
   ]
  },
  {
   "cell_type": "code",
   "execution_count": 73,
   "id": "eab4f917-ed03-4e6b-bfe2-9b01c745f13b",
   "metadata": {},
   "outputs": [
    {
     "data": {
      "text/plain": [
       "3"
      ]
     },
     "execution_count": 73,
     "metadata": {},
     "output_type": "execute_result"
    }
   ],
   "source": [
    "x"
   ]
  },
  {
   "cell_type": "code",
   "execution_count": 74,
   "id": "0373b0b0-cd4e-4a88-9ffe-8dab2dc5606a",
   "metadata": {},
   "outputs": [],
   "source": [
    "s = 'spam'"
   ]
  },
  {
   "cell_type": "code",
   "execution_count": 75,
   "id": "62890876-6ff6-414d-a466-1e23b08ba4b4",
   "metadata": {},
   "outputs": [],
   "source": [
    "s += 'SPAM'"
   ]
  },
  {
   "cell_type": "code",
   "execution_count": 76,
   "id": "a6a3c24b-c337-437b-a43f-59418039c44d",
   "metadata": {},
   "outputs": [
    {
     "data": {
      "text/plain": [
       "'spamSPAM'"
      ]
     },
     "execution_count": 76,
     "metadata": {},
     "output_type": "execute_result"
    }
   ],
   "source": [
    "s"
   ]
  },
  {
   "cell_type": "code",
   "execution_count": 77,
   "id": "e657bcba-29cb-477f-8a69-728117da43e0",
   "metadata": {},
   "outputs": [],
   "source": [
    "L = [1, 2]"
   ]
  },
  {
   "cell_type": "code",
   "execution_count": 78,
   "id": "cbeb9014-19a6-4b22-992b-eaaf894cc669",
   "metadata": {},
   "outputs": [],
   "source": [
    "L = L + [3]"
   ]
  },
  {
   "cell_type": "code",
   "execution_count": 79,
   "id": "9867e42c-28bb-4148-b969-ac3ada60f822",
   "metadata": {},
   "outputs": [
    {
     "data": {
      "text/plain": [
       "[1, 2, 3]"
      ]
     },
     "execution_count": 79,
     "metadata": {},
     "output_type": "execute_result"
    }
   ],
   "source": [
    "L"
   ]
  },
  {
   "cell_type": "code",
   "execution_count": 80,
   "id": "15203ea6-226e-4578-a229-f16eb8dc3115",
   "metadata": {},
   "outputs": [],
   "source": [
    "L.append(4)"
   ]
  },
  {
   "cell_type": "code",
   "execution_count": 81,
   "id": "1488fdb1-521b-4620-a25c-893591b0ed3f",
   "metadata": {},
   "outputs": [
    {
     "data": {
      "text/plain": [
       "[1, 2, 3, 4]"
      ]
     },
     "execution_count": 81,
     "metadata": {},
     "output_type": "execute_result"
    }
   ],
   "source": [
    "L"
   ]
  },
  {
   "cell_type": "code",
   "execution_count": 82,
   "id": "7dd19914-7c35-4535-a1ca-a03b6a8ce1df",
   "metadata": {},
   "outputs": [],
   "source": [
    "L = L +[5, 6]"
   ]
  },
  {
   "cell_type": "code",
   "execution_count": 83,
   "id": "5d21c5ea-d8cb-4215-be8c-989f5a6cdd49",
   "metadata": {},
   "outputs": [
    {
     "data": {
      "text/plain": [
       "[1, 2, 3, 4, 5, 6]"
      ]
     },
     "execution_count": 83,
     "metadata": {},
     "output_type": "execute_result"
    }
   ],
   "source": [
    "L"
   ]
  },
  {
   "cell_type": "code",
   "execution_count": 84,
   "id": "a98468ee-0428-4ca4-bdd2-8e99c0238407",
   "metadata": {},
   "outputs": [],
   "source": [
    "L.extend([7, 8])"
   ]
  },
  {
   "cell_type": "code",
   "execution_count": 85,
   "id": "c6a3b8e5-fb0c-4c0d-b039-b36a1ac906ea",
   "metadata": {},
   "outputs": [
    {
     "data": {
      "text/plain": [
       "[1, 2, 3, 4, 5, 6, 7, 8]"
      ]
     },
     "execution_count": 85,
     "metadata": {},
     "output_type": "execute_result"
    }
   ],
   "source": [
    "L"
   ]
  },
  {
   "cell_type": "code",
   "execution_count": 86,
   "id": "69527e06-c74a-4d4f-883f-8dfe90af585e",
   "metadata": {},
   "outputs": [],
   "source": [
    "L += [9, 10]"
   ]
  },
  {
   "cell_type": "code",
   "execution_count": 87,
   "id": "0e829b7b-72fa-4281-8a78-6b7c54a1686b",
   "metadata": {},
   "outputs": [
    {
     "data": {
      "text/plain": [
       "[1, 2, 3, 4, 5, 6, 7, 8, 9, 10]"
      ]
     },
     "execution_count": 87,
     "metadata": {},
     "output_type": "execute_result"
    }
   ],
   "source": [
    "L"
   ]
  },
  {
   "cell_type": "code",
   "execution_count": 88,
   "id": "240d9807-760a-4233-91f9-236fb4edc708",
   "metadata": {},
   "outputs": [],
   "source": [
    "L = []"
   ]
  },
  {
   "cell_type": "code",
   "execution_count": 89,
   "id": "bb6dbc17-4208-4f30-9f0f-23926a62da75",
   "metadata": {},
   "outputs": [],
   "source": [
    "L += 'spam'"
   ]
  },
  {
   "cell_type": "code",
   "execution_count": 90,
   "id": "7c4ee0eb-9209-494e-a4c8-97d1cf1f4f7e",
   "metadata": {},
   "outputs": [
    {
     "data": {
      "text/plain": [
       "['s', 'p', 'a', 'm']"
      ]
     },
     "execution_count": 90,
     "metadata": {},
     "output_type": "execute_result"
    }
   ],
   "source": [
    "L"
   ]
  },
  {
   "cell_type": "code",
   "execution_count": 91,
   "id": "fe28ca04-e97a-4cbf-ae82-6f456d2305b6",
   "metadata": {},
   "outputs": [],
   "source": [
    "L = [1, 2]"
   ]
  },
  {
   "cell_type": "code",
   "execution_count": 92,
   "id": "3fef2c53-478d-4440-84e7-eab87c193425",
   "metadata": {},
   "outputs": [],
   "source": [
    "M = L"
   ]
  },
  {
   "cell_type": "code",
   "execution_count": 93,
   "id": "94903316-a0d1-44be-9428-42f364be5cd2",
   "metadata": {},
   "outputs": [],
   "source": [
    "L = L + [3,4]"
   ]
  },
  {
   "cell_type": "code",
   "execution_count": 94,
   "id": "34e97658-8db3-41f1-be7b-cdb8a16affe7",
   "metadata": {},
   "outputs": [
    {
     "data": {
      "text/plain": [
       "([1, 2, 3, 4], [1, 2])"
      ]
     },
     "execution_count": 94,
     "metadata": {},
     "output_type": "execute_result"
    }
   ],
   "source": [
    "L, M"
   ]
  },
  {
   "cell_type": "code",
   "execution_count": 95,
   "id": "dfdba584-6e54-408d-a202-f38bd5853d96",
   "metadata": {},
   "outputs": [],
   "source": [
    "L = [1, 2]\n",
    "M = L"
   ]
  },
  {
   "cell_type": "code",
   "execution_count": 96,
   "id": "2aaf6304-9a16-4c7f-b2c0-3d7f57497aa2",
   "metadata": {},
   "outputs": [],
   "source": [
    "L += [3, 4]"
   ]
  },
  {
   "cell_type": "code",
   "execution_count": 97,
   "id": "1a68741c-af87-478b-aeb3-4aeac5d83d6d",
   "metadata": {},
   "outputs": [
    {
     "data": {
      "text/plain": [
       "([1, 2, 3, 4], [1, 2, 3, 4])"
      ]
     },
     "execution_count": 97,
     "metadata": {},
     "output_type": "execute_result"
    }
   ],
   "source": [
    "L, M"
   ]
  },
  {
   "cell_type": "code",
   "execution_count": null,
   "id": "89bffe05-f563-41db-9ee6-573ee8b547c2",
   "metadata": {},
   "outputs": [],
   "source": []
  }
 ],
 "metadata": {
  "kernelspec": {
   "display_name": "Python 3 (ipykernel)",
   "language": "python",
   "name": "python3"
  },
  "language_info": {
   "codemirror_mode": {
    "name": "ipython",
    "version": 3
   },
   "file_extension": ".py",
   "mimetype": "text/x-python",
   "name": "python",
   "nbconvert_exporter": "python",
   "pygments_lexer": "ipython3",
   "version": "3.9.13"
  }
 },
 "nbformat": 4,
 "nbformat_minor": 5
}
