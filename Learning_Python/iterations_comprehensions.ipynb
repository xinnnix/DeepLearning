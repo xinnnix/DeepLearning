{
 "cells": [
  {
   "cell_type": "code",
   "execution_count": 1,
   "id": "88b68fb1-8b09-4b36-9508-6f822a554d5e",
   "metadata": {},
   "outputs": [
    {
     "name": "stdout",
     "output_type": "stream",
     "text": [
      "1 4 9 16 "
     ]
    }
   ],
   "source": [
    "for x in [1, 2, 3, 4]: print(x**2, end=' ')"
   ]
  },
  {
   "cell_type": "code",
   "execution_count": 2,
   "id": "110558ef-0128-4e3a-a830-8b550f382e0f",
   "metadata": {},
   "outputs": [
    {
     "name": "stdout",
     "output_type": "stream",
     "text": [
      "1 8 27 64 "
     ]
    }
   ],
   "source": [
    "for x in (1, 2, 3, 4): print(x**3, end=' ')"
   ]
  },
  {
   "cell_type": "code",
   "execution_count": 3,
   "id": "6e94f300-cc6b-438e-8b93-3b3744ec123d",
   "metadata": {},
   "outputs": [
    {
     "name": "stdout",
     "output_type": "stream",
     "text": [
      "ss pp aa mm "
     ]
    }
   ],
   "source": [
    "for x in 'spam': print( x*2, end=' ')"
   ]
  },
  {
   "cell_type": "code",
   "execution_count": 4,
   "id": "43cb4571-085d-4002-a567-35344966716c",
   "metadata": {},
   "outputs": [],
   "source": [
    "L = [1, 2, 3]"
   ]
  },
  {
   "cell_type": "code",
   "execution_count": 5,
   "id": "7ede0755-5c47-470f-a07e-441e3031afc0",
   "metadata": {},
   "outputs": [],
   "source": [
    "I = iter(L)"
   ]
  },
  {
   "cell_type": "code",
   "execution_count": 6,
   "id": "48b1cc05-486f-4de4-9d60-5437ca0dbca7",
   "metadata": {},
   "outputs": [
    {
     "data": {
      "text/plain": [
       "1"
      ]
     },
     "execution_count": 6,
     "metadata": {},
     "output_type": "execute_result"
    }
   ],
   "source": [
    "I.__next__()"
   ]
  },
  {
   "cell_type": "code",
   "execution_count": 7,
   "id": "05fce1d2-af7f-485c-bbd2-a3fb9a75e57c",
   "metadata": {},
   "outputs": [
    {
     "data": {
      "text/plain": [
       "2"
      ]
     },
     "execution_count": 7,
     "metadata": {},
     "output_type": "execute_result"
    }
   ],
   "source": [
    "I.__next__()"
   ]
  },
  {
   "cell_type": "code",
   "execution_count": 8,
   "id": "a8ec1291-0aa0-41dc-9d02-9d410575ef33",
   "metadata": {},
   "outputs": [
    {
     "data": {
      "text/plain": [
       "3"
      ]
     },
     "execution_count": 8,
     "metadata": {},
     "output_type": "execute_result"
    }
   ],
   "source": [
    "I.__next__()"
   ]
  },
  {
   "cell_type": "code",
   "execution_count": 9,
   "id": "7ee42005-4c17-483b-98da-44f7b1e48e64",
   "metadata": {},
   "outputs": [
    {
     "ename": "StopIteration",
     "evalue": "",
     "output_type": "error",
     "traceback": [
      "\u001b[1;31m---------------------------------------------------------------------------\u001b[0m",
      "\u001b[1;31mStopIteration\u001b[0m                             Traceback (most recent call last)",
      "Cell \u001b[1;32mIn [9], line 1\u001b[0m\n\u001b[1;32m----> 1\u001b[0m \u001b[43mI\u001b[49m\u001b[38;5;241;43m.\u001b[39;49m\u001b[38;5;21;43m__next__\u001b[39;49m\u001b[43m(\u001b[49m\u001b[43m)\u001b[49m\n",
      "\u001b[1;31mStopIteration\u001b[0m: "
     ]
    }
   ],
   "source": [
    "I.__next__()"
   ]
  },
  {
   "cell_type": "code",
   "execution_count": 10,
   "id": "7923865c-d1ca-49da-9c5a-a35e26ff51c4",
   "metadata": {},
   "outputs": [],
   "source": [
    "L = [1, 2, 3]"
   ]
  },
  {
   "cell_type": "code",
   "execution_count": 11,
   "id": "bb6c6ec6-a37f-45c2-b7ad-d492c812d3fe",
   "metadata": {},
   "outputs": [
    {
     "name": "stdout",
     "output_type": "stream",
     "text": [
      "1 4 9 "
     ]
    }
   ],
   "source": [
    "for x in L:\n",
    "    print(x**2, end=' ')"
   ]
  },
  {
   "cell_type": "code",
   "execution_count": 12,
   "id": "3106f664-db11-4922-8897-ef780fdbd9ae",
   "metadata": {},
   "outputs": [],
   "source": [
    "I = iter(L)"
   ]
  },
  {
   "cell_type": "code",
   "execution_count": 13,
   "id": "a41197fb-9af3-4c3a-bdb9-5e88dff1abfa",
   "metadata": {},
   "outputs": [
    {
     "name": "stdout",
     "output_type": "stream",
     "text": [
      "1 4 9 "
     ]
    }
   ],
   "source": [
    "while True:\n",
    "    try:\n",
    "        x = next(I)\n",
    "    except StopIteration:\n",
    "        break\n",
    "    print(x**2, end=' ')"
   ]
  },
  {
   "cell_type": "code",
   "execution_count": 14,
   "id": "c9e709a3-9aa5-40de-8883-93fe4ced5fc2",
   "metadata": {},
   "outputs": [],
   "source": [
    "D = {'a':1, 'b':2, 'c':3}"
   ]
  },
  {
   "cell_type": "code",
   "execution_count": 15,
   "id": "c1e90168-ea93-4ef9-ac0d-557a439f1533",
   "metadata": {},
   "outputs": [
    {
     "name": "stdout",
     "output_type": "stream",
     "text": [
      "a 1\n",
      "b 2\n",
      "c 3\n"
     ]
    }
   ],
   "source": [
    "for key in D.keys():\n",
    "    print(key, D[key])"
   ]
  },
  {
   "cell_type": "code",
   "execution_count": 16,
   "id": "1f2dca22-c458-4a7b-873f-1ac6e4bad44a",
   "metadata": {},
   "outputs": [],
   "source": [
    "I = iter(D)"
   ]
  },
  {
   "cell_type": "code",
   "execution_count": 17,
   "id": "ecc50a4d-0084-469e-9028-a0b305e1c2e2",
   "metadata": {},
   "outputs": [
    {
     "data": {
      "text/plain": [
       "'a'"
      ]
     },
     "execution_count": 17,
     "metadata": {},
     "output_type": "execute_result"
    }
   ],
   "source": [
    "next(I)"
   ]
  },
  {
   "cell_type": "code",
   "execution_count": 18,
   "id": "180b10b8-9649-4bf2-9db5-74489cf82502",
   "metadata": {},
   "outputs": [
    {
     "data": {
      "text/plain": [
       "'b'"
      ]
     },
     "execution_count": 18,
     "metadata": {},
     "output_type": "execute_result"
    }
   ],
   "source": [
    "next(I)"
   ]
  },
  {
   "cell_type": "code",
   "execution_count": 19,
   "id": "a806e2be-c155-4339-8e0b-1de9793af816",
   "metadata": {},
   "outputs": [
    {
     "data": {
      "text/plain": [
       "'c'"
      ]
     },
     "execution_count": 19,
     "metadata": {},
     "output_type": "execute_result"
    }
   ],
   "source": [
    "next(I)"
   ]
  },
  {
   "cell_type": "code",
   "execution_count": 20,
   "id": "6a402aa4-6076-44e4-bbc8-bece8777d9ff",
   "metadata": {},
   "outputs": [
    {
     "name": "stdout",
     "output_type": "stream",
     "text": [
      "a 1\n",
      "b 2\n",
      "c 3\n"
     ]
    }
   ],
   "source": [
    "for key in D:\n",
    "    print(key, D[key])"
   ]
  },
  {
   "cell_type": "code",
   "execution_count": 21,
   "id": "95f884b3-5e9e-4a7b-aa06-3623db0a439e",
   "metadata": {},
   "outputs": [],
   "source": [
    "import os"
   ]
  },
  {
   "cell_type": "code",
   "execution_count": 22,
   "id": "6e43adf1-3daa-40bc-bce2-29a2abc37066",
   "metadata": {},
   "outputs": [],
   "source": [
    "P = os.popen('dir')"
   ]
  },
  {
   "cell_type": "code",
   "execution_count": 23,
   "id": "154ba51d-31d3-4889-bf8f-3e6f4574d64f",
   "metadata": {},
   "outputs": [
    {
     "data": {
      "text/plain": [
       "' Volume in drive C has no label.\\n'"
      ]
     },
     "execution_count": 23,
     "metadata": {},
     "output_type": "execute_result"
    }
   ],
   "source": [
    "P.__next__()"
   ]
  },
  {
   "cell_type": "code",
   "execution_count": 24,
   "id": "485a69ca-2dff-455b-b27d-d681a44b72aa",
   "metadata": {},
   "outputs": [
    {
     "data": {
      "text/plain": [
       "' Volume Serial Number is E318-3D13\\n'"
      ]
     },
     "execution_count": 24,
     "metadata": {},
     "output_type": "execute_result"
    }
   ],
   "source": [
    "P.__next__()"
   ]
  },
  {
   "cell_type": "code",
   "execution_count": 25,
   "id": "6cb42be1-10e2-484c-9b45-5a90db0ab87c",
   "metadata": {},
   "outputs": [
    {
     "ename": "TypeError",
     "evalue": "'_wrap_close' object is not an iterator",
     "output_type": "error",
     "traceback": [
      "\u001b[1;31m---------------------------------------------------------------------------\u001b[0m",
      "\u001b[1;31mTypeError\u001b[0m                                 Traceback (most recent call last)",
      "Cell \u001b[1;32mIn [25], line 1\u001b[0m\n\u001b[1;32m----> 1\u001b[0m \u001b[38;5;28;43mnext\u001b[39;49m\u001b[43m(\u001b[49m\u001b[43mP\u001b[49m\u001b[43m)\u001b[49m\n",
      "\u001b[1;31mTypeError\u001b[0m: '_wrap_close' object is not an iterator"
     ]
    }
   ],
   "source": [
    "next(P)"
   ]
  },
  {
   "cell_type": "code",
   "execution_count": 26,
   "id": "f77cf6c8-84e8-4ea8-96bd-4851c6a0120a",
   "metadata": {},
   "outputs": [],
   "source": [
    "R = range(5)"
   ]
  },
  {
   "cell_type": "code",
   "execution_count": 27,
   "id": "ecba398f-3623-4dab-a014-0dfc18b474de",
   "metadata": {},
   "outputs": [
    {
     "data": {
      "text/plain": [
       "range(0, 5)"
      ]
     },
     "execution_count": 27,
     "metadata": {},
     "output_type": "execute_result"
    }
   ],
   "source": [
    "R"
   ]
  },
  {
   "cell_type": "code",
   "execution_count": 28,
   "id": "c6c89578-98be-4275-8177-b4b53fd0f5f3",
   "metadata": {},
   "outputs": [],
   "source": [
    "I = iter(R)"
   ]
  },
  {
   "cell_type": "code",
   "execution_count": 29,
   "id": "de90e069-2abd-452f-98d8-d90cce78de1d",
   "metadata": {},
   "outputs": [
    {
     "data": {
      "text/plain": [
       "0"
      ]
     },
     "execution_count": 29,
     "metadata": {},
     "output_type": "execute_result"
    }
   ],
   "source": [
    "next(I)"
   ]
  },
  {
   "cell_type": "code",
   "execution_count": 30,
   "id": "fa888c20-1979-4440-8907-7bf4a8370318",
   "metadata": {},
   "outputs": [
    {
     "data": {
      "text/plain": [
       "1"
      ]
     },
     "execution_count": 30,
     "metadata": {},
     "output_type": "execute_result"
    }
   ],
   "source": [
    "next(I)"
   ]
  },
  {
   "cell_type": "code",
   "execution_count": 31,
   "id": "e96557a5-8bee-4760-bbc1-a7840d79dbc1",
   "metadata": {},
   "outputs": [
    {
     "data": {
      "text/plain": [
       "[0, 1, 2, 3, 4]"
      ]
     },
     "execution_count": 31,
     "metadata": {},
     "output_type": "execute_result"
    }
   ],
   "source": [
    "list(range(5))"
   ]
  },
  {
   "cell_type": "code",
   "execution_count": 32,
   "id": "5e7a7490-d3eb-405d-9a8a-895c4e8b9a41",
   "metadata": {},
   "outputs": [],
   "source": [
    "E = enumerate('spam')"
   ]
  },
  {
   "cell_type": "code",
   "execution_count": 33,
   "id": "3cba8f3c-c0b7-4a5e-b5cd-a2d749663fd6",
   "metadata": {},
   "outputs": [
    {
     "data": {
      "text/plain": [
       "<enumerate at 0x1dd859cd300>"
      ]
     },
     "execution_count": 33,
     "metadata": {},
     "output_type": "execute_result"
    }
   ],
   "source": [
    "E"
   ]
  },
  {
   "cell_type": "code",
   "execution_count": 34,
   "id": "1cc74890-144d-4c13-8416-3e6f16de4819",
   "metadata": {},
   "outputs": [],
   "source": [
    "I = iter(E)"
   ]
  },
  {
   "cell_type": "code",
   "execution_count": 36,
   "id": "06b72593-733f-40b8-9dc1-6774cfdfee08",
   "metadata": {},
   "outputs": [
    {
     "data": {
      "text/plain": [
       "(0, 's')"
      ]
     },
     "execution_count": 36,
     "metadata": {},
     "output_type": "execute_result"
    }
   ],
   "source": [
    "next(I)"
   ]
  },
  {
   "cell_type": "code",
   "execution_count": 37,
   "id": "3d390231-4a57-4265-b1ae-31c9ea561339",
   "metadata": {},
   "outputs": [
    {
     "data": {
      "text/plain": [
       "(1, 'p')"
      ]
     },
     "execution_count": 37,
     "metadata": {},
     "output_type": "execute_result"
    }
   ],
   "source": [
    "next(I)"
   ]
  },
  {
   "cell_type": "code",
   "execution_count": 38,
   "id": "2cabbc9d-b5c7-4229-bbf8-9eae62b8f461",
   "metadata": {},
   "outputs": [
    {
     "data": {
      "text/plain": [
       "[(0, 's'), (1, 'p'), (2, 'a'), (3, 'm')]"
      ]
     },
     "execution_count": 38,
     "metadata": {},
     "output_type": "execute_result"
    }
   ],
   "source": [
    "list(enumerate('spam'))"
   ]
  },
  {
   "cell_type": "code",
   "execution_count": 39,
   "id": "f9507e15-c916-46f9-b5fb-1c20c156ee95",
   "metadata": {},
   "outputs": [],
   "source": [
    "L = [1, 2, 3, 4, 5]"
   ]
  },
  {
   "cell_type": "code",
   "execution_count": 40,
   "id": "ca44b755-80e0-4174-b50b-fabc6c601087",
   "metadata": {},
   "outputs": [],
   "source": [
    "for i in range(len(L)):\n",
    "    L[i] += 10"
   ]
  },
  {
   "cell_type": "code",
   "execution_count": 41,
   "id": "59100638-91ed-40c3-a33f-f017c0ac63ed",
   "metadata": {},
   "outputs": [
    {
     "data": {
      "text/plain": [
       "[11, 12, 13, 14, 15]"
      ]
     },
     "execution_count": 41,
     "metadata": {},
     "output_type": "execute_result"
    }
   ],
   "source": [
    "L"
   ]
  },
  {
   "cell_type": "code",
   "execution_count": 42,
   "id": "2e76fd09-dca4-4747-88cb-435ace027d99",
   "metadata": {},
   "outputs": [],
   "source": [
    "L = [x + 10 for x in L]"
   ]
  },
  {
   "cell_type": "code",
   "execution_count": 43,
   "id": "a196e526-2d03-4940-8fd1-f69170dc8b51",
   "metadata": {},
   "outputs": [
    {
     "data": {
      "text/plain": [
       "[21, 22, 23, 24, 25]"
      ]
     },
     "execution_count": 43,
     "metadata": {},
     "output_type": "execute_result"
    }
   ],
   "source": [
    "L"
   ]
  },
  {
   "cell_type": "code",
   "execution_count": 44,
   "id": "5bb6f8e0-8dfe-40bd-8387-b67cb3363f03",
   "metadata": {},
   "outputs": [],
   "source": [
    "res = []"
   ]
  },
  {
   "cell_type": "code",
   "execution_count": 45,
   "id": "7d271c37-6d25-4871-b246-467b38613bd2",
   "metadata": {},
   "outputs": [],
   "source": [
    "for x in L:\n",
    "    res.append(x+10)"
   ]
  },
  {
   "cell_type": "code",
   "execution_count": 46,
   "id": "a3ef5c37-01ea-49d7-8e9b-d1aa4ba5aa50",
   "metadata": {},
   "outputs": [
    {
     "data": {
      "text/plain": [
       "[31, 32, 33, 34, 35]"
      ]
     },
     "execution_count": 46,
     "metadata": {},
     "output_type": "execute_result"
    }
   ],
   "source": [
    "res"
   ]
  },
  {
   "cell_type": "code",
   "execution_count": 47,
   "id": "2f3d5ed3-0188-4542-90df-c40127ca7980",
   "metadata": {},
   "outputs": [
    {
     "data": {
      "text/plain": [
       "['al', 'am', 'an', 'bl', 'bm', 'bn', 'cl', 'cm', 'cn']"
      ]
     },
     "execution_count": 47,
     "metadata": {},
     "output_type": "execute_result"
    }
   ],
   "source": [
    "[x + y for x in 'abc' for y in 'lmn']"
   ]
  },
  {
   "cell_type": "code",
   "execution_count": 48,
   "id": "4d114e95-b80a-4f31-a239-70afe0ad4c71",
   "metadata": {},
   "outputs": [],
   "source": [
    "x = (1,2)\n",
    "y = (3, 4)"
   ]
  },
  {
   "cell_type": "code",
   "execution_count": 49,
   "id": "cc0bb489-a148-4e83-9ccf-ddb8f36659e9",
   "metadata": {},
   "outputs": [
    {
     "data": {
      "text/plain": [
       "[(1, 3), (2, 4)]"
      ]
     },
     "execution_count": 49,
     "metadata": {},
     "output_type": "execute_result"
    }
   ],
   "source": [
    "list(zip(x, y))"
   ]
  },
  {
   "cell_type": "code",
   "execution_count": 50,
   "id": "28ddff79-c536-4d92-a554-52a579d6c8ab",
   "metadata": {},
   "outputs": [],
   "source": [
    "a, b = zip(*zip(x, y))"
   ]
  },
  {
   "cell_type": "code",
   "execution_count": 51,
   "id": "15a100a7-912b-4573-9bec-14be693e7393",
   "metadata": {},
   "outputs": [
    {
     "data": {
      "text/plain": [
       "((1, 2), (3, 4))"
      ]
     },
     "execution_count": 51,
     "metadata": {},
     "output_type": "execute_result"
    }
   ],
   "source": [
    "a, b"
   ]
  },
  {
   "cell_type": "code",
   "execution_count": 52,
   "id": "bc1b0128-cb37-439e-8f6d-c10d1997fe95",
   "metadata": {},
   "outputs": [
    {
     "data": {
      "text/plain": [
       "(1, 2)"
      ]
     },
     "execution_count": 52,
     "metadata": {},
     "output_type": "execute_result"
    }
   ],
   "source": [
    "a"
   ]
  },
  {
   "cell_type": "code",
   "execution_count": 53,
   "id": "788223b1-6b67-4e09-878f-ee84b978ab5f",
   "metadata": {},
   "outputs": [
    {
     "data": {
      "text/plain": [
       "(3, 4)"
      ]
     },
     "execution_count": 53,
     "metadata": {},
     "output_type": "execute_result"
    }
   ],
   "source": [
    "b"
   ]
  },
  {
   "cell_type": "code",
   "execution_count": null,
   "id": "6fe2a7fb-4be9-4150-a311-5e598b130a46",
   "metadata": {},
   "outputs": [],
   "source": []
  }
 ],
 "metadata": {
  "kernelspec": {
   "display_name": "Python 3 (ipykernel)",
   "language": "python",
   "name": "python3"
  },
  "language_info": {
   "codemirror_mode": {
    "name": "ipython",
    "version": 3
   },
   "file_extension": ".py",
   "mimetype": "text/x-python",
   "name": "python",
   "nbconvert_exporter": "python",
   "pygments_lexer": "ipython3",
   "version": "3.9.13"
  }
 },
 "nbformat": 4,
 "nbformat_minor": 5
}
