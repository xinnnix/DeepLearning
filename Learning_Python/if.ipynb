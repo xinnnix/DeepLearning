{
 "cells": [
  {
   "cell_type": "code",
   "execution_count": 1,
   "id": "8c64d383-7352-4dd0-b890-5a9e656484cc",
   "metadata": {},
   "outputs": [
    {
     "name": "stdout",
     "output_type": "stream",
     "text": [
      "true\n"
     ]
    }
   ],
   "source": [
    "if 1:\n",
    "    print('true')"
   ]
  },
  {
   "cell_type": "code",
   "execution_count": 2,
   "id": "fe068b2e-c74c-4f27-a1c6-56fd5206d9bd",
   "metadata": {},
   "outputs": [
    {
     "name": "stdout",
     "output_type": "stream",
     "text": [
      "false\n"
     ]
    }
   ],
   "source": [
    "if not 1:\n",
    "    print('true')\n",
    "else:\n",
    "    print('false')"
   ]
  },
  {
   "cell_type": "code",
   "execution_count": 3,
   "id": "4dd7d72f-2db9-4942-98ef-04b600e09303",
   "metadata": {},
   "outputs": [],
   "source": [
    "x = 'killer rabbit'"
   ]
  },
  {
   "cell_type": "code",
   "execution_count": 4,
   "id": "c822dc97-ff56-4401-ad01-87f2bf992ad7",
   "metadata": {},
   "outputs": [
    {
     "name": "stdout",
     "output_type": "stream",
     "text": [
      "Run away! Run away!\n"
     ]
    }
   ],
   "source": [
    "if x == 'roger':\n",
    "    print('shave and a haircut')\n",
    "elif x == 'bugs':\n",
    "    print(\"what's up doc?\")\n",
    "else:\n",
    "    print('Run away! Run away!')"
   ]
  },
  {
   "cell_type": "code",
   "execution_count": 5,
   "id": "422cd8cd-57db-4423-8ff9-e54af4028b6e",
   "metadata": {},
   "outputs": [],
   "source": [
    "choice = 'ham'"
   ]
  },
  {
   "cell_type": "code",
   "execution_count": 6,
   "id": "f613e5e8-e1f8-4ba9-a9ac-05ce3e3a89d7",
   "metadata": {},
   "outputs": [
    {
     "name": "stdout",
     "output_type": "stream",
     "text": [
      "1.99\n"
     ]
    }
   ],
   "source": [
    "print({'spam': 1.25,\n",
    "       'ham':1.99,\n",
    "       'eggs':0.99,\n",
    "       'bacon':1.10}[choice])"
   ]
  },
  {
   "cell_type": "code",
   "execution_count": 7,
   "id": "09ea2369-a9dd-489b-9ae0-ed9d3c6726e7",
   "metadata": {},
   "outputs": [],
   "source": [
    "branch = {'spam': 1.25,\n",
    "          'ham': 1.99,\n",
    "          'eggs': 0.99}"
   ]
  },
  {
   "cell_type": "code",
   "execution_count": 8,
   "id": "2c398f19-1977-4098-82d9-1b0ef39d27b5",
   "metadata": {},
   "outputs": [
    {
     "name": "stdout",
     "output_type": "stream",
     "text": [
      "1.25\n"
     ]
    }
   ],
   "source": [
    "print(branch.get('spam', 'Bad choice'))"
   ]
  },
  {
   "cell_type": "code",
   "execution_count": 9,
   "id": "0a301b6a-38c9-44b8-8247-115b7f6e827e",
   "metadata": {},
   "outputs": [
    {
     "name": "stdout",
     "output_type": "stream",
     "text": [
      "Bad choice\n"
     ]
    }
   ],
   "source": [
    "print(branch.get('bacon', 'Bad choice'))"
   ]
  },
  {
   "cell_type": "code",
   "execution_count": 10,
   "id": "97d06154-fa52-4812-86fd-aebd00f204a7",
   "metadata": {},
   "outputs": [],
   "source": [
    "choice = 'bacon'"
   ]
  },
  {
   "cell_type": "code",
   "execution_count": 11,
   "id": "c7432594-3128-4356-8b4d-fbe73b17f185",
   "metadata": {},
   "outputs": [
    {
     "name": "stdout",
     "output_type": "stream",
     "text": [
      "Bad choice\n"
     ]
    }
   ],
   "source": [
    "if choice in branch:\n",
    "    print(branch[choice])\n",
    "else:\n",
    "    print('Bad choice')"
   ]
  },
  {
   "cell_type": "code",
   "execution_count": 12,
   "id": "b583b998-ed10-4c51-b8bc-9369eef165c3",
   "metadata": {},
   "outputs": [
    {
     "name": "stdout",
     "output_type": "stream",
     "text": [
      "Bad choice\n"
     ]
    }
   ],
   "source": [
    "try:\n",
    "    print(branch[choice])\n",
    "except KeyError:\n",
    "    print('Bad choice')"
   ]
  },
  {
   "cell_type": "code",
   "execution_count": 13,
   "id": "bb8ca521-ce69-45e7-9e17-aba474e80932",
   "metadata": {},
   "outputs": [
    {
     "name": "stdout",
     "output_type": "stream",
     "text": [
      "block2\n",
      "block1\n",
      "block0\n"
     ]
    }
   ],
   "source": [
    "x = 1\n",
    "if x:\n",
    "    y = 2\n",
    "    if y:\n",
    "        print('block2')\n",
    "    print('block1')\n",
    "print('block0')"
   ]
  },
  {
   "cell_type": "code",
   "execution_count": 14,
   "id": "5b72be73-455d-4733-89bd-67bc133a590e",
   "metadata": {},
   "outputs": [
    {
     "name": "stdout",
     "output_type": "stream",
     "text": [
      "spamspamspamspamspamspamspamspam\n",
      "spamNI!spamNI!\n"
     ]
    }
   ],
   "source": [
    "x = 'spam'\n",
    "if 'rubbery' in 'shrubbery':\n",
    "    print(x * 8)\n",
    "    x += 'NI!'\n",
    "    if x.endswith('NI!'):\n",
    "        x *= 2\n",
    "        print(x)"
   ]
  },
  {
   "cell_type": "code",
   "execution_count": 15,
   "id": "12f3f03c-8cae-4863-b224-094c9566f6f5",
   "metadata": {},
   "outputs": [
    {
     "data": {
      "text/plain": [
       "(True, False)"
      ]
     },
     "execution_count": 15,
     "metadata": {},
     "output_type": "execute_result"
    }
   ],
   "source": [
    "2<3, 3<2"
   ]
  },
  {
   "cell_type": "code",
   "execution_count": 16,
   "id": "16652fd3-4874-429c-8e40-4b65ff65e322",
   "metadata": {},
   "outputs": [
    {
     "data": {
      "text/plain": [
       "(2, 3)"
      ]
     },
     "execution_count": 16,
     "metadata": {},
     "output_type": "execute_result"
    }
   ],
   "source": [
    "2 or 3, 3 or 2"
   ]
  },
  {
   "cell_type": "code",
   "execution_count": 17,
   "id": "069dab4b-c97b-4864-8d6e-5c7ff1c1cc5e",
   "metadata": {},
   "outputs": [
    {
     "data": {
      "text/plain": [
       "3"
      ]
     },
     "execution_count": 17,
     "metadata": {},
     "output_type": "execute_result"
    }
   ],
   "source": [
    "[] or 3"
   ]
  },
  {
   "cell_type": "code",
   "execution_count": 18,
   "id": "a7ff7780-b8dd-44e6-b5c3-9039745d7679",
   "metadata": {},
   "outputs": [
    {
     "data": {
      "text/plain": [
       "{}"
      ]
     },
     "execution_count": 18,
     "metadata": {},
     "output_type": "execute_result"
    }
   ],
   "source": [
    "[] or {}"
   ]
  },
  {
   "cell_type": "code",
   "execution_count": 19,
   "id": "edeca8c7-6cd0-4bbe-a210-a1ff61bf3cb1",
   "metadata": {},
   "outputs": [
    {
     "data": {
      "text/plain": [
       "(3, 2)"
      ]
     },
     "execution_count": 19,
     "metadata": {},
     "output_type": "execute_result"
    }
   ],
   "source": [
    "2 and 3, 3 and 2"
   ]
  },
  {
   "cell_type": "code",
   "execution_count": 20,
   "id": "dbc030df-9343-46a4-baea-bdb959b875b8",
   "metadata": {},
   "outputs": [
    {
     "data": {
      "text/plain": [
       "[]"
      ]
     },
     "execution_count": 20,
     "metadata": {},
     "output_type": "execute_result"
    }
   ],
   "source": [
    "[] and {}"
   ]
  },
  {
   "cell_type": "code",
   "execution_count": 21,
   "id": "91452494-37a2-4617-8bbc-6536fa6e5dd9",
   "metadata": {},
   "outputs": [
    {
     "data": {
      "text/plain": [
       "[]"
      ]
     },
     "execution_count": 21,
     "metadata": {},
     "output_type": "execute_result"
    }
   ],
   "source": [
    "3 and []"
   ]
  },
  {
   "cell_type": "code",
   "execution_count": 22,
   "id": "d7d80888-748e-4440-8d10-2100e78280a8",
   "metadata": {},
   "outputs": [],
   "source": [
    "A = 't' if 'spam' else 'f'"
   ]
  },
  {
   "cell_type": "code",
   "execution_count": 23,
   "id": "6db2c9c6-7699-4910-96f1-4048aaf7616a",
   "metadata": {},
   "outputs": [
    {
     "data": {
      "text/plain": [
       "'t'"
      ]
     },
     "execution_count": 23,
     "metadata": {},
     "output_type": "execute_result"
    }
   ],
   "source": [
    "A"
   ]
  },
  {
   "cell_type": "code",
   "execution_count": 24,
   "id": "1b5ba52e-2219-40ec-baf2-1b44e5d458d9",
   "metadata": {},
   "outputs": [],
   "source": [
    "A = 't' if '' else 'f'"
   ]
  },
  {
   "cell_type": "code",
   "execution_count": 25,
   "id": "0bd5b9bb-2966-4510-990d-490a11c5c941",
   "metadata": {},
   "outputs": [
    {
     "data": {
      "text/plain": [
       "'f'"
      ]
     },
     "execution_count": 25,
     "metadata": {},
     "output_type": "execute_result"
    }
   ],
   "source": [
    "A"
   ]
  },
  {
   "cell_type": "code",
   "execution_count": null,
   "id": "188db57e-5ce6-4567-b507-25c7f57e276e",
   "metadata": {},
   "outputs": [],
   "source": []
  }
 ],
 "metadata": {
  "kernelspec": {
   "display_name": "Python 3 (ipykernel)",
   "language": "python",
   "name": "python3"
  },
  "language_info": {
   "codemirror_mode": {
    "name": "ipython",
    "version": 3
   },
   "file_extension": ".py",
   "mimetype": "text/x-python",
   "name": "python",
   "nbconvert_exporter": "python",
   "pygments_lexer": "ipython3",
   "version": "3.9.13"
  }
 },
 "nbformat": 4,
 "nbformat_minor": 5
}
