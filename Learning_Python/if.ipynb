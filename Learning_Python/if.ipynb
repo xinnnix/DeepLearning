{
 "cells": [
  {
   "cell_type": "code",
   "execution_count": 1,
   "id": "8c64d383-7352-4dd0-b890-5a9e656484cc",
   "metadata": {},
   "outputs": [
    {
     "name": "stdout",
     "output_type": "stream",
     "text": [
      "true\n"
     ]
    }
   ],
   "source": [
    "if 1:\n",
    "    print('true')"
   ]
  },
  {
   "cell_type": "code",
   "execution_count": 2,
   "id": "fe068b2e-c74c-4f27-a1c6-56fd5206d9bd",
   "metadata": {},
   "outputs": [
    {
     "name": "stdout",
     "output_type": "stream",
     "text": [
      "false\n"
     ]
    }
   ],
   "source": [
    "if not 1:\n",
    "    print('true')\n",
    "else:\n",
    "    print('false')"
   ]
  },
  {
   "cell_type": "code",
   "execution_count": 3,
   "id": "4dd7d72f-2db9-4942-98ef-04b600e09303",
   "metadata": {},
   "outputs": [],
   "source": [
    "x = 'killer rabbit'"
   ]
  },
  {
   "cell_type": "code",
   "execution_count": null,
   "id": "c822dc97-ff56-4401-ad01-87f2bf992ad7",
   "metadata": {},
   "outputs": [],
   "source": [
    "if x == 'roger':\n",
    "    print('shave and a haircut')\n",
    "elif x == 'bugs':\n",
    "    print(\"what's up doc?\")\n",
    "else:\n",
    "    print('Run away!"
   ]
  }
 ],
 "metadata": {
  "kernelspec": {
   "display_name": "Python 3 (ipykernel)",
   "language": "python",
   "name": "python3"
  },
  "language_info": {
   "codemirror_mode": {
    "name": "ipython",
    "version": 3
   },
   "file_extension": ".py",
   "mimetype": "text/x-python",
   "name": "python",
   "nbconvert_exporter": "python",
   "pygments_lexer": "ipython3",
   "version": "3.9.13"
  }
 },
 "nbformat": 4,
 "nbformat_minor": 5
}
