{
 "cells": [
  {
   "cell_type": "code",
   "execution_count": 1,
   "id": "8308ed10-f547-41a4-9f45-73c19ed86528",
   "metadata": {},
   "outputs": [],
   "source": [
    "def times(x, y):\n",
    "    return x*y"
   ]
  },
  {
   "cell_type": "code",
   "execution_count": 2,
   "id": "cf6f3466-dab5-465f-a32b-d519c1f4e575",
   "metadata": {},
   "outputs": [
    {
     "data": {
      "text/plain": [
       "8"
      ]
     },
     "execution_count": 2,
     "metadata": {},
     "output_type": "execute_result"
    }
   ],
   "source": [
    "times(2, 4)"
   ]
  },
  {
   "cell_type": "code",
   "execution_count": 3,
   "id": "4aa00d28-b7b4-46f7-96d6-b6702f6fb81b",
   "metadata": {},
   "outputs": [],
   "source": [
    "x = times(3.14, 4)"
   ]
  },
  {
   "cell_type": "code",
   "execution_count": 4,
   "id": "4c9fb971-b7cb-4c15-8349-cf3e288d76aa",
   "metadata": {},
   "outputs": [
    {
     "data": {
      "text/plain": [
       "12.56"
      ]
     },
     "execution_count": 4,
     "metadata": {},
     "output_type": "execute_result"
    }
   ],
   "source": [
    "x"
   ]
  },
  {
   "cell_type": "code",
   "execution_count": 5,
   "id": "a45792a3-f70c-425b-b4aa-714cd4e7bc1c",
   "metadata": {},
   "outputs": [
    {
     "data": {
      "text/plain": [
       "'NINININI'"
      ]
     },
     "execution_count": 5,
     "metadata": {},
     "output_type": "execute_result"
    }
   ],
   "source": [
    "times('NI', 4)"
   ]
  },
  {
   "cell_type": "code",
   "execution_count": 6,
   "id": "3e5044cb-bb48-4a6d-b981-b918e15c5c5c",
   "metadata": {},
   "outputs": [],
   "source": [
    "def intersect(seq1, seq2):\n",
    "    res = []\n",
    "    for x in seq1:\n",
    "        if x in seq2:\n",
    "            res.append(x)\n",
    "    return res"
   ]
  },
  {
   "cell_type": "code",
   "execution_count": 7,
   "id": "76eda4da-fb33-4fee-a5d6-1e37f3d6a1f3",
   "metadata": {},
   "outputs": [],
   "source": [
    "s1 = 'spam'\n",
    "s2 = 'scam'"
   ]
  },
  {
   "cell_type": "code",
   "execution_count": 8,
   "id": "02d3e8c2-4e5e-47d3-8499-b1b917e76356",
   "metadata": {},
   "outputs": [
    {
     "data": {
      "text/plain": [
       "['s', 'a', 'm']"
      ]
     },
     "execution_count": 8,
     "metadata": {},
     "output_type": "execute_result"
    }
   ],
   "source": [
    "intersect(s1, s2)"
   ]
  },
  {
   "cell_type": "code",
   "execution_count": 9,
   "id": "3d0acb5e-58f4-49f8-9297-7c803de1a4c3",
   "metadata": {},
   "outputs": [
    {
     "data": {
      "text/plain": [
       "['s', 'a', 'm']"
      ]
     },
     "execution_count": 9,
     "metadata": {},
     "output_type": "execute_result"
    }
   ],
   "source": [
    "[x for x in s1 if x in s2]"
   ]
  },
  {
   "cell_type": "code",
   "execution_count": 10,
   "id": "5e019649-ba88-4bd9-96ef-e9532d01656d",
   "metadata": {},
   "outputs": [],
   "source": [
    "x = intersect([1,2,3], [1,4])"
   ]
  },
  {
   "cell_type": "code",
   "execution_count": 11,
   "id": "7e8cc4fb-4017-4711-aafa-eaa065c7a12f",
   "metadata": {},
   "outputs": [
    {
     "data": {
      "text/plain": [
       "[1]"
      ]
     },
     "execution_count": 11,
     "metadata": {},
     "output_type": "execute_result"
    }
   ],
   "source": [
    "x"
   ]
  },
  {
   "cell_type": "code",
   "execution_count": null,
   "id": "4d35683c-7fb6-4212-81f2-157cdce5494e",
   "metadata": {},
   "outputs": [],
   "source": []
  }
 ],
 "metadata": {
  "kernelspec": {
   "display_name": "Python 3 (ipykernel)",
   "language": "python",
   "name": "python3"
  },
  "language_info": {
   "codemirror_mode": {
    "name": "ipython",
    "version": 3
   },
   "file_extension": ".py",
   "mimetype": "text/x-python",
   "name": "python",
   "nbconvert_exporter": "python",
   "pygments_lexer": "ipython3",
   "version": "3.9.13"
  }
 },
 "nbformat": 4,
 "nbformat_minor": 5
}
