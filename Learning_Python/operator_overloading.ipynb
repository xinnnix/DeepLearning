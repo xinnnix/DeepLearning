{
 "cells": [
  {
   "cell_type": "code",
   "execution_count": 2,
   "id": "ae66b361-76cd-436c-a3e4-b94cfeaa6176",
   "metadata": {},
   "outputs": [],
   "source": [
    "from number import Number"
   ]
  },
  {
   "cell_type": "code",
   "execution_count": 3,
   "id": "3eb1e602-c0fd-411b-9434-264e8314f7c4",
   "metadata": {},
   "outputs": [],
   "source": [
    "x = Number(5)"
   ]
  },
  {
   "cell_type": "code",
   "execution_count": 4,
   "id": "01861aef-03d3-4e2b-8cb4-48fc6195b37e",
   "metadata": {},
   "outputs": [],
   "source": [
    "y = x - 2"
   ]
  },
  {
   "cell_type": "code",
   "execution_count": 5,
   "id": "ec8eae9b-4cdf-4ecf-b81a-8c31e129fe70",
   "metadata": {},
   "outputs": [
    {
     "data": {
      "text/plain": [
       "3"
      ]
     },
     "execution_count": 5,
     "metadata": {},
     "output_type": "execute_result"
    }
   ],
   "source": [
    "y.data"
   ]
  },
  {
   "cell_type": "code",
   "execution_count": 6,
   "id": "01da624f-e467-4fd4-b293-e6aa36a68a66",
   "metadata": {},
   "outputs": [],
   "source": [
    "class Indexer:\n",
    "    def __getitem__(self, index):\n",
    "        return index ** 2"
   ]
  },
  {
   "cell_type": "code",
   "execution_count": 7,
   "id": "e8461544-e5de-4199-8284-a4b75679ba1d",
   "metadata": {},
   "outputs": [],
   "source": [
    "x = Indexer()"
   ]
  },
  {
   "cell_type": "code",
   "execution_count": 8,
   "id": "300fe85e-4e00-4512-80d0-11c537812677",
   "metadata": {},
   "outputs": [
    {
     "data": {
      "text/plain": [
       "4"
      ]
     },
     "execution_count": 8,
     "metadata": {},
     "output_type": "execute_result"
    }
   ],
   "source": [
    "x[2]"
   ]
  },
  {
   "cell_type": "code",
   "execution_count": 9,
   "id": "d8f9b872-30e7-40a0-88e6-47aca8760566",
   "metadata": {},
   "outputs": [
    {
     "name": "stdout",
     "output_type": "stream",
     "text": [
      "0 1 4 9 16 "
     ]
    }
   ],
   "source": [
    "for i in range(5):\n",
    "    print(x[i], end=' ')"
   ]
  },
  {
   "cell_type": "code",
   "execution_count": 10,
   "id": "2707e701-b13e-48c3-9134-16191defceae",
   "metadata": {},
   "outputs": [],
   "source": [
    "L = [5, 6, 7, 8, 9]"
   ]
  },
  {
   "cell_type": "code",
   "execution_count": 11,
   "id": "2d460a2d-b67b-4c32-8429-8a491a7ea18b",
   "metadata": {},
   "outputs": [
    {
     "data": {
      "text/plain": [
       "[7, 8]"
      ]
     },
     "execution_count": 11,
     "metadata": {},
     "output_type": "execute_result"
    }
   ],
   "source": [
    "L[2:4]"
   ]
  },
  {
   "cell_type": "code",
   "execution_count": 13,
   "id": "0a047ae2-78af-407d-9108-19fa49fdd9a6",
   "metadata": {},
   "outputs": [
    {
     "data": {
      "text/plain": [
       "[6, 7, 8, 9]"
      ]
     },
     "execution_count": 13,
     "metadata": {},
     "output_type": "execute_result"
    }
   ],
   "source": [
    "L[1:]"
   ]
  },
  {
   "cell_type": "code",
   "execution_count": 14,
   "id": "9101e4fc-988a-48a8-9ce9-4265d8a88582",
   "metadata": {},
   "outputs": [
    {
     "data": {
      "text/plain": [
       "[5, 6, 7, 8]"
      ]
     },
     "execution_count": 14,
     "metadata": {},
     "output_type": "execute_result"
    }
   ],
   "source": [
    "L[:-1]"
   ]
  },
  {
   "cell_type": "code",
   "execution_count": 15,
   "id": "30803dec-68ff-439f-b21b-316f2f808630",
   "metadata": {},
   "outputs": [
    {
     "data": {
      "text/plain": [
       "[5, 7, 9]"
      ]
     },
     "execution_count": 15,
     "metadata": {},
     "output_type": "execute_result"
    }
   ],
   "source": [
    "L[::2]"
   ]
  },
  {
   "cell_type": "code",
   "execution_count": 16,
   "id": "6b55d328-daee-4abb-aab9-6da4b4a03a22",
   "metadata": {},
   "outputs": [
    {
     "data": {
      "text/plain": [
       "[7, 8]"
      ]
     },
     "execution_count": 16,
     "metadata": {},
     "output_type": "execute_result"
    }
   ],
   "source": [
    "L[slice(2,4)]"
   ]
  },
  {
   "cell_type": "code",
   "execution_count": 17,
   "id": "2b2102d7-d5d4-4c18-9b78-a91c5c243d40",
   "metadata": {},
   "outputs": [
    {
     "data": {
      "text/plain": [
       "[6, 7, 8, 9]"
      ]
     },
     "execution_count": 17,
     "metadata": {},
     "output_type": "execute_result"
    }
   ],
   "source": [
    "L[slice(1, None)]"
   ]
  },
  {
   "cell_type": "code",
   "execution_count": 18,
   "id": "2535c676-4063-4302-90ec-42169a8edf26",
   "metadata": {},
   "outputs": [
    {
     "data": {
      "text/plain": [
       "[5, 6, 7, 8]"
      ]
     },
     "execution_count": 18,
     "metadata": {},
     "output_type": "execute_result"
    }
   ],
   "source": [
    "L[slice(None, -1)]"
   ]
  },
  {
   "cell_type": "code",
   "execution_count": 19,
   "id": "45d21b13-778c-4289-a90e-fe3175073d80",
   "metadata": {},
   "outputs": [
    {
     "data": {
      "text/plain": [
       "[5, 7, 9]"
      ]
     },
     "execution_count": 19,
     "metadata": {},
     "output_type": "execute_result"
    }
   ],
   "source": [
    "L[slice(None, None, 2)]"
   ]
  },
  {
   "cell_type": "code",
   "execution_count": 20,
   "id": "f0b27a19-29f4-419c-97f0-89c9bedcd0c3",
   "metadata": {},
   "outputs": [],
   "source": [
    "class Indexer:\n",
    "    data = [5, 6, 7, 8, 9]\n",
    "    def __getitem__(self, index):\n",
    "        print('getitem:', index)\n",
    "        return self.data[index]"
   ]
  },
  {
   "cell_type": "code",
   "execution_count": 21,
   "id": "13f0c10e-7b58-4e0c-848b-356aa007dc40",
   "metadata": {},
   "outputs": [],
   "source": [
    "x = Indexer()"
   ]
  },
  {
   "cell_type": "code",
   "execution_count": 22,
   "id": "ddd8330b-7e54-40e1-8fbc-c55a2b5c255c",
   "metadata": {},
   "outputs": [
    {
     "name": "stdout",
     "output_type": "stream",
     "text": [
      "getitem: 0\n"
     ]
    },
    {
     "data": {
      "text/plain": [
       "5"
      ]
     },
     "execution_count": 22,
     "metadata": {},
     "output_type": "execute_result"
    }
   ],
   "source": [
    "x[0]"
   ]
  },
  {
   "cell_type": "code",
   "execution_count": 23,
   "id": "51b31799-94d6-4c76-8e2a-7873a102aa25",
   "metadata": {},
   "outputs": [
    {
     "name": "stdout",
     "output_type": "stream",
     "text": [
      "getitem: 1\n"
     ]
    },
    {
     "data": {
      "text/plain": [
       "6"
      ]
     },
     "execution_count": 23,
     "metadata": {},
     "output_type": "execute_result"
    }
   ],
   "source": [
    "x[1]"
   ]
  },
  {
   "cell_type": "code",
   "execution_count": 24,
   "id": "9b0de96b-052e-4189-ae02-1698e190f48a",
   "metadata": {},
   "outputs": [
    {
     "name": "stdout",
     "output_type": "stream",
     "text": [
      "getitem: 2\n"
     ]
    },
    {
     "data": {
      "text/plain": [
       "7"
      ]
     },
     "execution_count": 24,
     "metadata": {},
     "output_type": "execute_result"
    }
   ],
   "source": [
    "x[2]"
   ]
  },
  {
   "cell_type": "code",
   "execution_count": 25,
   "id": "583dad74-d57f-4495-a013-d1cdb043047f",
   "metadata": {},
   "outputs": [
    {
     "name": "stdout",
     "output_type": "stream",
     "text": [
      "getitem: -1\n"
     ]
    },
    {
     "data": {
      "text/plain": [
       "9"
      ]
     },
     "execution_count": 25,
     "metadata": {},
     "output_type": "execute_result"
    }
   ],
   "source": [
    "x[-1]"
   ]
  },
  {
   "cell_type": "code",
   "execution_count": 26,
   "id": "1a668aa5-a6c9-4417-90de-4a3f8991b6c8",
   "metadata": {},
   "outputs": [
    {
     "name": "stdout",
     "output_type": "stream",
     "text": [
      "getitem: slice(2, 4, None)\n"
     ]
    },
    {
     "data": {
      "text/plain": [
       "[7, 8]"
      ]
     },
     "execution_count": 26,
     "metadata": {},
     "output_type": "execute_result"
    }
   ],
   "source": [
    "x[2:4]"
   ]
  },
  {
   "cell_type": "code",
   "execution_count": 27,
   "id": "bb9bdfe9-b938-44b1-a1f1-459f8021ebcb",
   "metadata": {},
   "outputs": [
    {
     "name": "stdout",
     "output_type": "stream",
     "text": [
      "getitem: slice(1, None, None)\n"
     ]
    },
    {
     "data": {
      "text/plain": [
       "[6, 7, 8, 9]"
      ]
     },
     "execution_count": 27,
     "metadata": {},
     "output_type": "execute_result"
    }
   ],
   "source": [
    "x[1:]"
   ]
  },
  {
   "cell_type": "code",
   "execution_count": 28,
   "id": "a90af5be-684a-4746-bcf9-fb63be348c65",
   "metadata": {},
   "outputs": [
    {
     "name": "stdout",
     "output_type": "stream",
     "text": [
      "getitem: slice(None, -1, None)\n"
     ]
    },
    {
     "data": {
      "text/plain": [
       "[5, 6, 7, 8]"
      ]
     },
     "execution_count": 28,
     "metadata": {},
     "output_type": "execute_result"
    }
   ],
   "source": [
    "x[:-1]"
   ]
  },
  {
   "cell_type": "code",
   "execution_count": 29,
   "id": "e20b61d5-07d1-438a-9c06-f97bd3dc1dc6",
   "metadata": {},
   "outputs": [
    {
     "name": "stdout",
     "output_type": "stream",
     "text": [
      "getitem: slice(None, None, 2)\n"
     ]
    },
    {
     "data": {
      "text/plain": [
       "[5, 7, 9]"
      ]
     },
     "execution_count": 29,
     "metadata": {},
     "output_type": "execute_result"
    }
   ],
   "source": [
    "x[::2]"
   ]
  },
  {
   "cell_type": "code",
   "execution_count": 30,
   "id": "b47fa906-766f-4af1-86e8-b21ae901be43",
   "metadata": {},
   "outputs": [],
   "source": [
    "class Indexer:\n",
    "    def __getitem__(self, index):\n",
    "        if isinstance(index, int):\n",
    "            print('indexing', index)\n",
    "        else:\n",
    "            print('slicing', index.start, index.stop, index.step)"
   ]
  },
  {
   "cell_type": "code",
   "execution_count": 31,
   "id": "5d5145f6-2076-433d-96bf-2889dfbddbe0",
   "metadata": {},
   "outputs": [],
   "source": [
    "x = Indexer()"
   ]
  },
  {
   "cell_type": "code",
   "execution_count": 32,
   "id": "253b4036-d281-4ce8-b3c3-1622245153a4",
   "metadata": {},
   "outputs": [
    {
     "name": "stdout",
     "output_type": "stream",
     "text": [
      "indexing 99\n"
     ]
    }
   ],
   "source": [
    "x[99]"
   ]
  },
  {
   "cell_type": "code",
   "execution_count": 33,
   "id": "0ec5f6da-b18f-43b1-85af-24a1fa0b9724",
   "metadata": {},
   "outputs": [
    {
     "name": "stdout",
     "output_type": "stream",
     "text": [
      "slicing 1 99 2\n"
     ]
    }
   ],
   "source": [
    "x[1:99:2]"
   ]
  },
  {
   "cell_type": "code",
   "execution_count": 34,
   "id": "22248437-58a6-4f3c-9437-ac181dfad3b4",
   "metadata": {},
   "outputs": [
    {
     "name": "stdout",
     "output_type": "stream",
     "text": [
      "slicing 1 None None\n"
     ]
    }
   ],
   "source": [
    "x[1:]"
   ]
  },
  {
   "cell_type": "code",
   "execution_count": null,
   "id": "77afb9ee-c0ee-4aec-8297-7827de4f3590",
   "metadata": {},
   "outputs": [],
   "source": [
    "class IndexSetter:\n",
    "    def __setitem__(self, index, value):\n",
    "        ...\n",
    "        self.data[index] = value"
   ]
  },
  {
   "cell_type": "code",
   "execution_count": 35,
   "id": "9e599dd1-596d-4218-901a-8cca89d663bc",
   "metadata": {},
   "outputs": [],
   "source": [
    "class C:\n",
    "    def __index__(self):\n",
    "        return 255"
   ]
  },
  {
   "cell_type": "code",
   "execution_count": 36,
   "id": "e353f335-5780-435d-90b5-3968b805866e",
   "metadata": {},
   "outputs": [],
   "source": [
    "x = C()"
   ]
  },
  {
   "cell_type": "code",
   "execution_count": 37,
   "id": "917ff44f-d824-4ed2-82af-92f315e000e3",
   "metadata": {},
   "outputs": [
    {
     "data": {
      "text/plain": [
       "'0xff'"
      ]
     },
     "execution_count": 37,
     "metadata": {},
     "output_type": "execute_result"
    }
   ],
   "source": [
    "hex(x)"
   ]
  },
  {
   "cell_type": "code",
   "execution_count": 38,
   "id": "fc8366fe-ccb5-4006-8791-81a58acb71b1",
   "metadata": {},
   "outputs": [
    {
     "data": {
      "text/plain": [
       "'0b11111111'"
      ]
     },
     "execution_count": 38,
     "metadata": {},
     "output_type": "execute_result"
    }
   ],
   "source": [
    "bin(x)"
   ]
  },
  {
   "cell_type": "code",
   "execution_count": 39,
   "id": "4f03800e-a92e-419d-a647-acd16fe3af24",
   "metadata": {},
   "outputs": [
    {
     "data": {
      "text/plain": [
       "'0o377'"
      ]
     },
     "execution_count": 39,
     "metadata": {},
     "output_type": "execute_result"
    }
   ],
   "source": [
    "oct(x)"
   ]
  },
  {
   "cell_type": "code",
   "execution_count": 40,
   "id": "773609c6-3d45-4bc4-a983-9128bcdb499e",
   "metadata": {},
   "outputs": [
    {
     "data": {
      "text/plain": [
       "'C'"
      ]
     },
     "execution_count": 40,
     "metadata": {},
     "output_type": "execute_result"
    }
   ],
   "source": [
    "('C' * 256)[255]"
   ]
  },
  {
   "cell_type": "code",
   "execution_count": 41,
   "id": "8c0ca661-33ae-426e-a855-2fdcabfc2922",
   "metadata": {},
   "outputs": [
    {
     "data": {
      "text/plain": [
       "'C'"
      ]
     },
     "execution_count": 41,
     "metadata": {},
     "output_type": "execute_result"
    }
   ],
   "source": [
    "('C' * 256)[x]"
   ]
  },
  {
   "cell_type": "code",
   "execution_count": 42,
   "id": "bbc00ed1-7a16-4b35-9917-322647e49cbf",
   "metadata": {},
   "outputs": [
    {
     "data": {
      "text/plain": [
       "'C'"
      ]
     },
     "execution_count": 42,
     "metadata": {},
     "output_type": "execute_result"
    }
   ],
   "source": [
    "('C' * 256)[x:]"
   ]
  },
  {
   "cell_type": "code",
   "execution_count": 43,
   "id": "6894b906-b1aa-4006-8f2d-4ee272352f33",
   "metadata": {},
   "outputs": [
    {
     "data": {
      "text/plain": [
       "255"
      ]
     },
     "execution_count": 43,
     "metadata": {},
     "output_type": "execute_result"
    }
   ],
   "source": [
    "int(x)"
   ]
  },
  {
   "cell_type": "code",
   "execution_count": 1,
   "id": "952ccd55-2f9b-4c9d-bd6e-8124857df453",
   "metadata": {},
   "outputs": [],
   "source": [
    "class StepperIndex:\n",
    "    def __getitem__(self, i):\n",
    "        return self.data[i]"
   ]
  },
  {
   "cell_type": "code",
   "execution_count": 2,
   "id": "5d06a13a-8b89-4100-a442-74901f053794",
   "metadata": {},
   "outputs": [],
   "source": [
    "x = StepperIndex()"
   ]
  },
  {
   "cell_type": "code",
   "execution_count": 3,
   "id": "d0998f02-4a1b-4437-9fe8-301bdf81603f",
   "metadata": {},
   "outputs": [],
   "source": [
    "x.data = 'spam'"
   ]
  },
  {
   "cell_type": "code",
   "execution_count": 4,
   "id": "8ceb2d3c-935d-4dec-bd03-7d157e44188d",
   "metadata": {},
   "outputs": [
    {
     "data": {
      "text/plain": [
       "'p'"
      ]
     },
     "execution_count": 4,
     "metadata": {},
     "output_type": "execute_result"
    }
   ],
   "source": [
    "x[1]"
   ]
  },
  {
   "cell_type": "code",
   "execution_count": 5,
   "id": "4005bf8c-bf6c-4525-9983-dc1d84b4fd02",
   "metadata": {},
   "outputs": [
    {
     "name": "stdout",
     "output_type": "stream",
     "text": [
      "s p a m "
     ]
    }
   ],
   "source": [
    "for item in x:\n",
    "    print(item, end=' ')"
   ]
  },
  {
   "cell_type": "code",
   "execution_count": 6,
   "id": "15bef941-7b6c-46a6-a508-212b7a44d1a9",
   "metadata": {},
   "outputs": [
    {
     "data": {
      "text/plain": [
       "True"
      ]
     },
     "execution_count": 6,
     "metadata": {},
     "output_type": "execute_result"
    }
   ],
   "source": [
    "'p' in x"
   ]
  },
  {
   "cell_type": "code",
   "execution_count": 7,
   "id": "74afb831-a85a-44bc-82c6-6acb75bfbded",
   "metadata": {},
   "outputs": [
    {
     "data": {
      "text/plain": [
       "['s', 'p', 'a', 'm']"
      ]
     },
     "execution_count": 7,
     "metadata": {},
     "output_type": "execute_result"
    }
   ],
   "source": [
    "[c for c in x]"
   ]
  },
  {
   "cell_type": "code",
   "execution_count": 8,
   "id": "8373b864-263d-45b4-9b00-84e058dbe038",
   "metadata": {},
   "outputs": [
    {
     "data": {
      "text/plain": [
       "['S', 'P', 'A', 'M']"
      ]
     },
     "execution_count": 8,
     "metadata": {},
     "output_type": "execute_result"
    }
   ],
   "source": [
    "list(map(str.upper, x))"
   ]
  },
  {
   "cell_type": "code",
   "execution_count": 9,
   "id": "2a002a11-2917-4ebf-b0e7-a1c3b841b0f4",
   "metadata": {},
   "outputs": [],
   "source": [
    "(a, b, c, d) = x"
   ]
  },
  {
   "cell_type": "code",
   "execution_count": 10,
   "id": "ab2919f6-c121-4efe-b0a7-2dc0d04be450",
   "metadata": {},
   "outputs": [
    {
     "data": {
      "text/plain": [
       "('s', 'a', 'm')"
      ]
     },
     "execution_count": 10,
     "metadata": {},
     "output_type": "execute_result"
    }
   ],
   "source": [
    "a, c, d"
   ]
  },
  {
   "cell_type": "code",
   "execution_count": 11,
   "id": "4e4990bf-b96e-4855-9e35-4f0a688d542d",
   "metadata": {},
   "outputs": [
    {
     "data": {
      "text/plain": [
       "(['s', 'p', 'a', 'm'], ('s', 'p', 'a', 'm'), 'spam')"
      ]
     },
     "execution_count": 11,
     "metadata": {},
     "output_type": "execute_result"
    }
   ],
   "source": [
    "list(x), tuple(x), ''.join(x)"
   ]
  },
  {
   "cell_type": "code",
   "execution_count": 12,
   "id": "e0d88fb4-b295-4d1c-89fa-a6da86b4ece9",
   "metadata": {},
   "outputs": [
    {
     "data": {
      "text/plain": [
       "<__main__.StepperIndex at 0x1ced524bac0>"
      ]
     },
     "execution_count": 12,
     "metadata": {},
     "output_type": "execute_result"
    }
   ],
   "source": [
    "x"
   ]
  },
  {
   "cell_type": "code",
   "execution_count": null,
   "id": "3edfbc8c-d743-4587-8488-474a519c03f9",
   "metadata": {},
   "outputs": [],
   "source": []
  }
 ],
 "metadata": {
  "kernelspec": {
   "display_name": "Python 3 (ipykernel)",
   "language": "python",
   "name": "python3"
  },
  "language_info": {
   "codemirror_mode": {
    "name": "ipython",
    "version": 3
   },
   "file_extension": ".py",
   "mimetype": "text/x-python",
   "name": "python",
   "nbconvert_exporter": "python",
   "pygments_lexer": "ipython3",
   "version": "3.9.13"
  }
 },
 "nbformat": 4,
 "nbformat_minor": 5
}
