{
 "cells": [
  {
   "cell_type": "code",
   "execution_count": 1,
   "id": "672ff78b-3cd0-4f55-9471-d66e93a599ec",
   "metadata": {},
   "outputs": [],
   "source": [
    "a = 3    # Assign a name to an object"
   ]
  },
  {
   "cell_type": "code",
   "execution_count": 2,
   "id": "ab773c15-5d53-4361-bad3-3b5eddfb0108",
   "metadata": {},
   "outputs": [],
   "source": [
    "a = 3"
   ]
  },
  {
   "cell_type": "code",
   "execution_count": 3,
   "id": "4a17a119-2415-4a48-bd79-64ae9dcc87b5",
   "metadata": {},
   "outputs": [],
   "source": [
    "a = 'spam'"
   ]
  },
  {
   "cell_type": "code",
   "execution_count": 4,
   "id": "ea594281-4052-4891-ac21-7677b168ebb0",
   "metadata": {},
   "outputs": [],
   "source": [
    "a = 1.23"
   ]
  },
  {
   "cell_type": "code",
   "execution_count": 5,
   "id": "c1914a7c-0dee-4b55-8e2b-ec8a803f3fa7",
   "metadata": {},
   "outputs": [],
   "source": [
    "a = 3"
   ]
  },
  {
   "cell_type": "code",
   "execution_count": 6,
   "id": "c41c17ef-1eb3-4304-a4a8-32ecbde9b95a",
   "metadata": {},
   "outputs": [],
   "source": [
    "b = a"
   ]
  },
  {
   "cell_type": "code",
   "execution_count": 7,
   "id": "0853fb2b-8cd4-4a3a-9898-e2626af81a47",
   "metadata": {},
   "outputs": [
    {
     "data": {
      "text/plain": [
       "3"
      ]
     },
     "execution_count": 7,
     "metadata": {},
     "output_type": "execute_result"
    }
   ],
   "source": [
    "b"
   ]
  },
  {
   "cell_type": "code",
   "execution_count": 8,
   "id": "0340c332-aed2-4361-9471-9801c3b31d02",
   "metadata": {},
   "outputs": [],
   "source": [
    "a = 'spam'"
   ]
  },
  {
   "cell_type": "code",
   "execution_count": 9,
   "id": "1e4bb552-43db-452e-9a76-94d03e71113c",
   "metadata": {},
   "outputs": [
    {
     "data": {
      "text/plain": [
       "3"
      ]
     },
     "execution_count": 9,
     "metadata": {},
     "output_type": "execute_result"
    }
   ],
   "source": [
    "b"
   ]
  },
  {
   "cell_type": "code",
   "execution_count": 10,
   "id": "ab46ce5f-e1dc-48ba-ac94-ff2406ac5cfd",
   "metadata": {},
   "outputs": [],
   "source": [
    "L1 = [2, 3, 4]"
   ]
  },
  {
   "cell_type": "code",
   "execution_count": 11,
   "id": "1b4cd781-9b9d-44c8-9ae8-fb05c90fcab4",
   "metadata": {},
   "outputs": [],
   "source": [
    "L2 = L1"
   ]
  },
  {
   "cell_type": "code",
   "execution_count": 12,
   "id": "dd2b1f17-2ec2-420e-b95f-a0aaaba1b8a2",
   "metadata": {},
   "outputs": [
    {
     "data": {
      "text/plain": [
       "[2, 3, 4]"
      ]
     },
     "execution_count": 12,
     "metadata": {},
     "output_type": "execute_result"
    }
   ],
   "source": [
    "L2"
   ]
  },
  {
   "cell_type": "code",
   "execution_count": 13,
   "id": "822edb33-7a0a-43e2-b42d-57dc293942e5",
   "metadata": {},
   "outputs": [],
   "source": [
    "L1 = 24"
   ]
  },
  {
   "cell_type": "code",
   "execution_count": 14,
   "id": "3bccf126-634f-4b22-8027-86e91f803192",
   "metadata": {},
   "outputs": [
    {
     "data": {
      "text/plain": [
       "[2, 3, 4]"
      ]
     },
     "execution_count": 14,
     "metadata": {},
     "output_type": "execute_result"
    }
   ],
   "source": [
    "L2"
   ]
  },
  {
   "cell_type": "code",
   "execution_count": 15,
   "id": "60ed0e15-dd4c-47f6-818c-7b28d6499b21",
   "metadata": {},
   "outputs": [],
   "source": [
    "L1 = [2, 3, 4]"
   ]
  },
  {
   "cell_type": "code",
   "execution_count": 16,
   "id": "71a05fac-4b0c-4287-982e-992105765833",
   "metadata": {},
   "outputs": [],
   "source": [
    "L2 = L1"
   ]
  },
  {
   "cell_type": "code",
   "execution_count": 17,
   "id": "30ce18b4-069c-40ab-a7ec-cd1b79d0e398",
   "metadata": {},
   "outputs": [],
   "source": [
    "L1[0] = 24"
   ]
  },
  {
   "cell_type": "code",
   "execution_count": 18,
   "id": "744d0c67-1fee-4fb6-855b-1a96a7a4bad7",
   "metadata": {},
   "outputs": [
    {
     "data": {
      "text/plain": [
       "[24, 3, 4]"
      ]
     },
     "execution_count": 18,
     "metadata": {},
     "output_type": "execute_result"
    }
   ],
   "source": [
    "L2"
   ]
  },
  {
   "cell_type": "code",
   "execution_count": 19,
   "id": "94c42e93-02f1-4976-8d17-bd8e0e8bb25d",
   "metadata": {},
   "outputs": [],
   "source": [
    "L1 = [2, 3, 4]"
   ]
  },
  {
   "cell_type": "code",
   "execution_count": 20,
   "id": "b4db1ef6-70e9-45ad-bb15-b97588e1913c",
   "metadata": {},
   "outputs": [],
   "source": [
    "L2 = L1[:]"
   ]
  },
  {
   "cell_type": "code",
   "execution_count": 21,
   "id": "8e943d50-c3cc-4abf-a965-9378f52575d4",
   "metadata": {},
   "outputs": [],
   "source": [
    "L1[0] = 24"
   ]
  },
  {
   "cell_type": "code",
   "execution_count": 22,
   "id": "dda24f0e-9734-4ab1-918c-3c74aaf8c235",
   "metadata": {},
   "outputs": [
    {
     "data": {
      "text/plain": [
       "[24, 3, 4]"
      ]
     },
     "execution_count": 22,
     "metadata": {},
     "output_type": "execute_result"
    }
   ],
   "source": [
    "L1"
   ]
  },
  {
   "cell_type": "code",
   "execution_count": 23,
   "id": "d42b8f37-639e-4cc8-9cf5-4639988e6336",
   "metadata": {},
   "outputs": [
    {
     "data": {
      "text/plain": [
       "[2, 3, 4]"
      ]
     },
     "execution_count": 23,
     "metadata": {},
     "output_type": "execute_result"
    }
   ],
   "source": [
    " L2"
   ]
  },
  {
   "cell_type": "code",
   "execution_count": 24,
   "id": "ac331c8d-94a4-47e6-8075-01a4e12b5be8",
   "metadata": {},
   "outputs": [],
   "source": [
    "import copy"
   ]
  },
  {
   "cell_type": "code",
   "execution_count": null,
   "id": "4e5721bb-b74c-406c-a658-52b4ef36bab7",
   "metadata": {},
   "outputs": [],
   "source": [
    "X = copy.copy(Y)  # Make top-level \"shallow\" copy of any object Y\n",
    "X = copy.deepcopy(Y)  # Make deep copy of any object Y: copy all nested parts"
   ]
  },
  {
   "cell_type": "code",
   "execution_count": 25,
   "id": "8badb628-6d9e-4539-868c-d412858534cb",
   "metadata": {},
   "outputs": [],
   "source": [
    "x = 42"
   ]
  },
  {
   "cell_type": "code",
   "execution_count": 26,
   "id": "0e20411d-a62e-49f0-9c77-8545785c4738",
   "metadata": {},
   "outputs": [],
   "source": [
    "x = 'shrubbery'"
   ]
  },
  {
   "cell_type": "code",
   "execution_count": 27,
   "id": "4252c257-d8bb-4159-b161-21a0e1254d8e",
   "metadata": {},
   "outputs": [],
   "source": [
    "L = [1, 2, 3]"
   ]
  },
  {
   "cell_type": "code",
   "execution_count": 28,
   "id": "39dfdbc0-dfc4-48f1-ac93-c12d7b689c3d",
   "metadata": {},
   "outputs": [],
   "source": [
    "M = L"
   ]
  },
  {
   "cell_type": "code",
   "execution_count": 29,
   "id": "18da1438-a21f-4b7d-9baa-189f9a31a821",
   "metadata": {},
   "outputs": [
    {
     "data": {
      "text/plain": [
       "True"
      ]
     },
     "execution_count": 29,
     "metadata": {},
     "output_type": "execute_result"
    }
   ],
   "source": [
    "L == M"
   ]
  },
  {
   "cell_type": "code",
   "execution_count": 30,
   "id": "b2122bd3-584c-4eda-94da-190e2508d956",
   "metadata": {},
   "outputs": [
    {
     "data": {
      "text/plain": [
       "True"
      ]
     },
     "execution_count": 30,
     "metadata": {},
     "output_type": "execute_result"
    }
   ],
   "source": [
    "L is M"
   ]
  },
  {
   "cell_type": "code",
   "execution_count": 31,
   "id": "0570ca5b-1879-4fc8-a825-b80594e0863d",
   "metadata": {},
   "outputs": [],
   "source": [
    "L = [1, 2, 3]"
   ]
  },
  {
   "cell_type": "code",
   "execution_count": 32,
   "id": "8f131cdf-64cd-40a1-ae33-99f727430940",
   "metadata": {},
   "outputs": [],
   "source": [
    "M = [1, 2, 3]"
   ]
  },
  {
   "cell_type": "code",
   "execution_count": 33,
   "id": "643a475f-daa2-40ff-80ef-dfeda8377ebf",
   "metadata": {},
   "outputs": [
    {
     "data": {
      "text/plain": [
       "True"
      ]
     },
     "execution_count": 33,
     "metadata": {},
     "output_type": "execute_result"
    }
   ],
   "source": [
    "L == M"
   ]
  },
  {
   "cell_type": "code",
   "execution_count": 34,
   "id": "94b15855-6f24-4ac2-a1b9-2624f72ba61f",
   "metadata": {},
   "outputs": [
    {
     "data": {
      "text/plain": [
       "False"
      ]
     },
     "execution_count": 34,
     "metadata": {},
     "output_type": "execute_result"
    }
   ],
   "source": [
    "L is M"
   ]
  },
  {
   "cell_type": "code",
   "execution_count": 35,
   "id": "dbeaa18d-96fc-4335-a9ba-fee80fd5faaf",
   "metadata": {},
   "outputs": [],
   "source": [
    "x = 42"
   ]
  },
  {
   "cell_type": "code",
   "execution_count": 36,
   "id": "af828da5-d8c9-4e74-8b1b-28278594fd41",
   "metadata": {},
   "outputs": [],
   "source": [
    "y = 42"
   ]
  },
  {
   "cell_type": "code",
   "execution_count": 37,
   "id": "792e5207-e935-4a1d-9da2-0ee6f54ba046",
   "metadata": {},
   "outputs": [
    {
     "data": {
      "text/plain": [
       "True"
      ]
     },
     "execution_count": 37,
     "metadata": {},
     "output_type": "execute_result"
    }
   ],
   "source": [
    "x == y"
   ]
  },
  {
   "cell_type": "code",
   "execution_count": 38,
   "id": "7ac9db6c-1b37-48cb-99e6-d0e5f6ea4159",
   "metadata": {},
   "outputs": [
    {
     "data": {
      "text/plain": [
       "True"
      ]
     },
     "execution_count": 38,
     "metadata": {},
     "output_type": "execute_result"
    }
   ],
   "source": [
    "x is y"
   ]
  },
  {
   "cell_type": "code",
   "execution_count": 39,
   "id": "55b742a7-673b-4092-81a1-bf9659e8ac63",
   "metadata": {},
   "outputs": [],
   "source": [
    "import sys"
   ]
  },
  {
   "cell_type": "code",
   "execution_count": 40,
   "id": "96149082-d615-4e20-995f-3f27a0557675",
   "metadata": {},
   "outputs": [
    {
     "data": {
      "text/plain": [
       "3127"
      ]
     },
     "execution_count": 40,
     "metadata": {},
     "output_type": "execute_result"
    }
   ],
   "source": [
    "sys.getrefcount(1)"
   ]
  },
  {
   "cell_type": "code",
   "execution_count": null,
   "id": "c0bde039-1b42-4d11-b537-4f8b7d773d4b",
   "metadata": {},
   "outputs": [],
   "source": []
  }
 ],
 "metadata": {
  "kernelspec": {
   "display_name": "Python 3 (ipykernel)",
   "language": "python",
   "name": "python3"
  },
  "language_info": {
   "codemirror_mode": {
    "name": "ipython",
    "version": 3
   },
   "file_extension": ".py",
   "mimetype": "text/x-python",
   "name": "python",
   "nbconvert_exporter": "python",
   "pygments_lexer": "ipython3",
   "version": "3.9.13"
  }
 },
 "nbformat": 4,
 "nbformat_minor": 5
}
