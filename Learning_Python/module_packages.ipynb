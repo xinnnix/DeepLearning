{
 "cells": [
  {
   "cell_type": "code",
   "execution_count": 1,
   "id": "143a6ef8-239f-40a9-9bcd-7599ac6c5573",
   "metadata": {},
   "outputs": [
    {
     "name": "stdout",
     "output_type": "stream",
     "text": [
      "dir1 init\n",
      "dir2 init\n",
      "in mod.py\n"
     ]
    }
   ],
   "source": [
    "import dir1.dir2.mod"
   ]
  },
  {
   "cell_type": "code",
   "execution_count": 2,
   "id": "1598094c-2dcb-45d2-88c0-c610d6ba4b3e",
   "metadata": {},
   "outputs": [],
   "source": [
    "import dir1.dir2.mod"
   ]
  },
  {
   "cell_type": "code",
   "execution_count": 5,
   "id": "b295f861-f23d-4474-845a-a2ea826361b2",
   "metadata": {},
   "outputs": [],
   "source": [
    "from importlib import reload"
   ]
  },
  {
   "cell_type": "code",
   "execution_count": 6,
   "id": "67b8ec00-aa68-417e-aef3-2e96d3a7883f",
   "metadata": {},
   "outputs": [
    {
     "name": "stdout",
     "output_type": "stream",
     "text": [
      "dir1 init\n"
     ]
    },
    {
     "data": {
      "text/plain": [
       "<module 'dir1' from 'C:\\\\Users\\\\admin\\\\Documents\\\\DeepLearning\\\\Learning_Python\\\\dir1\\\\__init__.py'>"
      ]
     },
     "execution_count": 6,
     "metadata": {},
     "output_type": "execute_result"
    }
   ],
   "source": [
    "reload(dir1)"
   ]
  },
  {
   "cell_type": "code",
   "execution_count": 7,
   "id": "86251281-7a79-4225-84e7-284eb10d487a",
   "metadata": {},
   "outputs": [
    {
     "name": "stdout",
     "output_type": "stream",
     "text": [
      "dir2 init\n"
     ]
    },
    {
     "data": {
      "text/plain": [
       "<module 'dir1.dir2' from 'C:\\\\Users\\\\admin\\\\Documents\\\\DeepLearning\\\\Learning_Python\\\\dir1\\\\dir2\\\\__init__.py'>"
      ]
     },
     "execution_count": 7,
     "metadata": {},
     "output_type": "execute_result"
    }
   ],
   "source": [
    "reload(dir1.dir2)"
   ]
  },
  {
   "cell_type": "code",
   "execution_count": 8,
   "id": "774fdfb3-da0f-4b14-87da-5f980a652155",
   "metadata": {},
   "outputs": [
    {
     "data": {
      "text/plain": [
       "<module 'dir1' from 'C:\\\\Users\\\\admin\\\\Documents\\\\DeepLearning\\\\Learning_Python\\\\dir1\\\\__init__.py'>"
      ]
     },
     "execution_count": 8,
     "metadata": {},
     "output_type": "execute_result"
    }
   ],
   "source": [
    "dir1"
   ]
  },
  {
   "cell_type": "code",
   "execution_count": 9,
   "id": "f7f5def3-bd54-4449-b20a-8f90c41a76f1",
   "metadata": {},
   "outputs": [
    {
     "data": {
      "text/plain": [
       "<module 'dir1.dir2' from 'C:\\\\Users\\\\admin\\\\Documents\\\\DeepLearning\\\\Learning_Python\\\\dir1\\\\dir2\\\\__init__.py'>"
      ]
     },
     "execution_count": 9,
     "metadata": {},
     "output_type": "execute_result"
    }
   ],
   "source": [
    "dir1.dir2"
   ]
  },
  {
   "cell_type": "code",
   "execution_count": 10,
   "id": "2cb94c76-a592-4df6-9538-9bba7739aca6",
   "metadata": {},
   "outputs": [
    {
     "data": {
      "text/plain": [
       "<module 'dir1.dir2.mod' from 'C:\\\\Users\\\\admin\\\\Documents\\\\DeepLearning\\\\Learning_Python\\\\dir1\\\\dir2\\\\mod.py'>"
      ]
     },
     "execution_count": 10,
     "metadata": {},
     "output_type": "execute_result"
    }
   ],
   "source": [
    "dir1.dir2.mod"
   ]
  },
  {
   "cell_type": "code",
   "execution_count": 11,
   "id": "f85cb509-aa41-4c23-80e9-c6fd684f0a5e",
   "metadata": {},
   "outputs": [
    {
     "data": {
      "text/plain": [
       "1"
      ]
     },
     "execution_count": 11,
     "metadata": {},
     "output_type": "execute_result"
    }
   ],
   "source": [
    "dir1.x"
   ]
  },
  {
   "cell_type": "code",
   "execution_count": 12,
   "id": "a950a85f-1577-452c-9adf-856ba254631a",
   "metadata": {},
   "outputs": [
    {
     "data": {
      "text/plain": [
       "2"
      ]
     },
     "execution_count": 12,
     "metadata": {},
     "output_type": "execute_result"
    }
   ],
   "source": [
    "dir1.dir2.y"
   ]
  },
  {
   "cell_type": "code",
   "execution_count": 14,
   "id": "61c4bf1e-31f0-4d9d-8182-d0e434b2c4e2",
   "metadata": {},
   "outputs": [
    {
     "data": {
      "text/plain": [
       "3"
      ]
     },
     "execution_count": 14,
     "metadata": {},
     "output_type": "execute_result"
    }
   ],
   "source": [
    "dir1.dir2.mod.z"
   ]
  },
  {
   "cell_type": "code",
   "execution_count": 15,
   "id": "00964e83-ca4b-4ae6-b82b-d2e4a931e86f",
   "metadata": {},
   "outputs": [],
   "source": [
    "from dir1.dir2 import mod"
   ]
  },
  {
   "cell_type": "code",
   "execution_count": 16,
   "id": "4260612c-64cf-43e7-9eb5-b37dc880837a",
   "metadata": {},
   "outputs": [
    {
     "data": {
      "text/plain": [
       "3"
      ]
     },
     "execution_count": 16,
     "metadata": {},
     "output_type": "execute_result"
    }
   ],
   "source": [
    "mod.z"
   ]
  },
  {
   "cell_type": "code",
   "execution_count": 17,
   "id": "aa8ff2d5-9cf7-46da-9e90-4a2dcc3be936",
   "metadata": {},
   "outputs": [],
   "source": [
    "from dir1.dir2.mod import z"
   ]
  },
  {
   "cell_type": "code",
   "execution_count": 18,
   "id": "085e58e4-1f7d-4043-a63d-a29d466db7a8",
   "metadata": {},
   "outputs": [
    {
     "data": {
      "text/plain": [
       "3"
      ]
     },
     "execution_count": 18,
     "metadata": {},
     "output_type": "execute_result"
    }
   ],
   "source": [
    "z"
   ]
  },
  {
   "cell_type": "code",
   "execution_count": 19,
   "id": "9229b3b4-69cb-4998-a613-07b9585a4123",
   "metadata": {},
   "outputs": [],
   "source": [
    "import dir1.dir2.mod as mod"
   ]
  },
  {
   "cell_type": "code",
   "execution_count": 20,
   "id": "3350b00b-6de1-4d7c-874c-ac563269a1a9",
   "metadata": {},
   "outputs": [
    {
     "data": {
      "text/plain": [
       "3"
      ]
     },
     "execution_count": 20,
     "metadata": {},
     "output_type": "execute_result"
    }
   ],
   "source": [
    "mod.z"
   ]
  },
  {
   "cell_type": "code",
   "execution_count": 21,
   "id": "df210026-b413-4a18-a1f3-26e91ea677d2",
   "metadata": {},
   "outputs": [],
   "source": [
    "from dir1.dir2.mod import z as modz"
   ]
  },
  {
   "cell_type": "code",
   "execution_count": 22,
   "id": "2f449670-c7e9-4e2f-99ef-ee0569be6408",
   "metadata": {},
   "outputs": [
    {
     "data": {
      "text/plain": [
       "3"
      ]
     },
     "execution_count": 22,
     "metadata": {},
     "output_type": "execute_result"
    }
   ],
   "source": [
    "modz"
   ]
  },
  {
   "cell_type": "code",
   "execution_count": null,
   "id": "6eef44ce-ff99-4634-8954-2f53908c7f21",
   "metadata": {},
   "outputs": [],
   "source": []
  }
 ],
 "metadata": {
  "kernelspec": {
   "display_name": "Python 3 (ipykernel)",
   "language": "python",
   "name": "python3"
  },
  "language_info": {
   "codemirror_mode": {
    "name": "ipython",
    "version": 3
   },
   "file_extension": ".py",
   "mimetype": "text/x-python",
   "name": "python",
   "nbconvert_exporter": "python",
   "pygments_lexer": "ipython3",
   "version": "3.9.13"
  }
 },
 "nbformat": 4,
 "nbformat_minor": 5
}
