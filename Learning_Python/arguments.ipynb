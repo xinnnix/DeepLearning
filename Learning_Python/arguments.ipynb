{
 "cells": [
  {
   "cell_type": "code",
   "execution_count": 1,
   "id": "47976621-4022-4622-93ca-327ff6f9c8f5",
   "metadata": {},
   "outputs": [],
   "source": [
    "def f(a):\n",
    "    a = 99"
   ]
  },
  {
   "cell_type": "code",
   "execution_count": 2,
   "id": "b90cbe6a-8faa-41ab-aa20-5e463bfc5f72",
   "metadata": {},
   "outputs": [],
   "source": [
    "b = 88"
   ]
  },
  {
   "cell_type": "code",
   "execution_count": 3,
   "id": "59b5f795-906f-441d-bba7-b7141723d4d0",
   "metadata": {},
   "outputs": [],
   "source": [
    "f(b)"
   ]
  },
  {
   "cell_type": "code",
   "execution_count": 4,
   "id": "9b15a057-5cfc-421e-b377-f6022530bd98",
   "metadata": {},
   "outputs": [
    {
     "name": "stdout",
     "output_type": "stream",
     "text": [
      "88\n"
     ]
    }
   ],
   "source": [
    "print(b)"
   ]
  },
  {
   "cell_type": "code",
   "execution_count": 5,
   "id": "1dc6bc61-b5cf-4945-9a4c-c6180c4d173c",
   "metadata": {},
   "outputs": [],
   "source": [
    "def changer(a, b):\n",
    "    a = 2\n",
    "    b[0] = 'spam'"
   ]
  },
  {
   "cell_type": "code",
   "execution_count": 6,
   "id": "47f3b4aa-acea-4fb4-8c33-03f05db97dfa",
   "metadata": {},
   "outputs": [],
   "source": [
    "x = 1"
   ]
  },
  {
   "cell_type": "code",
   "execution_count": 7,
   "id": "39686bf8-343c-4eca-8c2a-5a177b69f246",
   "metadata": {},
   "outputs": [],
   "source": [
    "L = [1, 2]"
   ]
  },
  {
   "cell_type": "code",
   "execution_count": 8,
   "id": "9267cdc2-dde1-49fe-8279-164a9892387e",
   "metadata": {},
   "outputs": [],
   "source": [
    "changer(x, L)"
   ]
  },
  {
   "cell_type": "code",
   "execution_count": 9,
   "id": "3b444f96-dbb7-4cd8-a2d4-9a4faff3de1f",
   "metadata": {},
   "outputs": [
    {
     "data": {
      "text/plain": [
       "(1, ['spam', 2])"
      ]
     },
     "execution_count": 9,
     "metadata": {},
     "output_type": "execute_result"
    }
   ],
   "source": [
    "x, L"
   ]
  },
  {
   "cell_type": "code",
   "execution_count": 10,
   "id": "faa861bb-d45a-4061-a59d-718bd08d4b73",
   "metadata": {},
   "outputs": [],
   "source": [
    "x = 1"
   ]
  },
  {
   "cell_type": "code",
   "execution_count": 11,
   "id": "0ddc289c-eb96-4b82-a638-0af1b11aea7e",
   "metadata": {},
   "outputs": [],
   "source": [
    "a = x"
   ]
  },
  {
   "cell_type": "code",
   "execution_count": 12,
   "id": "3b143281-a583-4a41-bb39-30af9a28835d",
   "metadata": {},
   "outputs": [],
   "source": [
    "a = 2"
   ]
  },
  {
   "cell_type": "code",
   "execution_count": 13,
   "id": "0dabc87a-c85d-48fb-977c-7c7b14816e3a",
   "metadata": {},
   "outputs": [
    {
     "name": "stdout",
     "output_type": "stream",
     "text": [
      "1\n"
     ]
    }
   ],
   "source": [
    "print(x)"
   ]
  },
  {
   "cell_type": "code",
   "execution_count": 14,
   "id": "848c749e-37d8-4f5d-b2b0-ed250f5ca1c1",
   "metadata": {},
   "outputs": [],
   "source": [
    "L = [1, 2]"
   ]
  },
  {
   "cell_type": "code",
   "execution_count": 15,
   "id": "801efc91-7b4c-455d-b148-33da20a1b99c",
   "metadata": {},
   "outputs": [],
   "source": [
    "b = L"
   ]
  },
  {
   "cell_type": "code",
   "execution_count": 16,
   "id": "a08f20c0-5995-403c-89d0-9f11ad99848e",
   "metadata": {},
   "outputs": [],
   "source": [
    "b[0] = 'spam'"
   ]
  },
  {
   "cell_type": "code",
   "execution_count": 17,
   "id": "f74e7442-0f52-49d1-a6e7-fdc0592fd69f",
   "metadata": {},
   "outputs": [
    {
     "name": "stdout",
     "output_type": "stream",
     "text": [
      "['spam', 2]\n"
     ]
    }
   ],
   "source": [
    "print(L)"
   ]
  },
  {
   "cell_type": "code",
   "execution_count": 18,
   "id": "a4818a5f-9971-4b7d-9ca2-dbad73e7e67f",
   "metadata": {},
   "outputs": [],
   "source": [
    "def multiple(x, y):\n",
    "    x = 2\n",
    "    y = [3, 4]\n",
    "    return x, y"
   ]
  },
  {
   "cell_type": "code",
   "execution_count": 19,
   "id": "69c17066-ea12-4a6d-bb3b-06e6f63b097b",
   "metadata": {},
   "outputs": [],
   "source": [
    "x = 1\n",
    "L = [1, 2]"
   ]
  },
  {
   "cell_type": "code",
   "execution_count": 20,
   "id": "14d50155-a2b4-4b0b-b4b4-cb96cb8bbe92",
   "metadata": {},
   "outputs": [],
   "source": [
    "x, L = multiple(x, L)"
   ]
  },
  {
   "cell_type": "code",
   "execution_count": 21,
   "id": "4a9b364a-6453-426d-9eec-ae7103ffd117",
   "metadata": {},
   "outputs": [
    {
     "data": {
      "text/plain": [
       "(2, [3, 4])"
      ]
     },
     "execution_count": 21,
     "metadata": {},
     "output_type": "execute_result"
    }
   ],
   "source": [
    "x, L"
   ]
  },
  {
   "cell_type": "code",
   "execution_count": 22,
   "id": "6cfb31c5-3a94-4183-b0c3-32538e1d1cee",
   "metadata": {},
   "outputs": [],
   "source": [
    "def f(a, b, c): print(a, b, c)"
   ]
  },
  {
   "cell_type": "code",
   "execution_count": 23,
   "id": "9325fd36-0a81-4827-8525-bd00cd41fb0e",
   "metadata": {},
   "outputs": [
    {
     "name": "stdout",
     "output_type": "stream",
     "text": [
      "1 2 3\n"
     ]
    }
   ],
   "source": [
    "f(1, 2, 3)"
   ]
  },
  {
   "cell_type": "code",
   "execution_count": 24,
   "id": "77bf24f5-629e-4ae2-b722-7ab77d325da0",
   "metadata": {},
   "outputs": [
    {
     "name": "stdout",
     "output_type": "stream",
     "text": [
      "1 2 3\n"
     ]
    }
   ],
   "source": [
    "f(c = 3, b = 2, a = 1)"
   ]
  },
  {
   "cell_type": "code",
   "execution_count": 25,
   "id": "db06fa7c-c0e1-43a1-9c1e-c47699ef191d",
   "metadata": {},
   "outputs": [
    {
     "name": "stdout",
     "output_type": "stream",
     "text": [
      "1 2 3\n"
     ]
    }
   ],
   "source": [
    "f(1, c=3, b=2)"
   ]
  },
  {
   "cell_type": "code",
   "execution_count": 26,
   "id": "c5c6209c-ac60-4147-930c-a6d3cbc0330f",
   "metadata": {},
   "outputs": [],
   "source": [
    "def f(a, b=2, c=3): print(a, b, c)"
   ]
  },
  {
   "cell_type": "code",
   "execution_count": 27,
   "id": "d0862bca-650f-4a39-9a01-fdd2ae84229a",
   "metadata": {},
   "outputs": [
    {
     "name": "stdout",
     "output_type": "stream",
     "text": [
      "1 2 3\n"
     ]
    }
   ],
   "source": [
    "f(1)"
   ]
  },
  {
   "cell_type": "code",
   "execution_count": 28,
   "id": "9c0ad8b0-c261-4ab8-9601-62c2af9ead28",
   "metadata": {},
   "outputs": [
    {
     "name": "stdout",
     "output_type": "stream",
     "text": [
      "1 2 3\n"
     ]
    }
   ],
   "source": [
    "f(a = 1)"
   ]
  },
  {
   "cell_type": "code",
   "execution_count": 29,
   "id": "a6fcb601-76d0-4415-8b6f-34436327c54e",
   "metadata": {},
   "outputs": [
    {
     "name": "stdout",
     "output_type": "stream",
     "text": [
      "1 4 3\n"
     ]
    }
   ],
   "source": [
    "f(1, 4)"
   ]
  },
  {
   "cell_type": "code",
   "execution_count": 30,
   "id": "a866a2fb-7b92-4922-a041-298c1fb2bd66",
   "metadata": {},
   "outputs": [
    {
     "name": "stdout",
     "output_type": "stream",
     "text": [
      "1 4 5\n"
     ]
    }
   ],
   "source": [
    "f(1, 4, 5)"
   ]
  },
  {
   "cell_type": "code",
   "execution_count": 31,
   "id": "319a2287-bbd0-47d1-a864-951e7744bf4e",
   "metadata": {},
   "outputs": [
    {
     "name": "stdout",
     "output_type": "stream",
     "text": [
      "1 2 6\n"
     ]
    }
   ],
   "source": [
    "f(1, c=6)"
   ]
  },
  {
   "cell_type": "code",
   "execution_count": 32,
   "id": "6bd34dfb-5276-48e0-b6bf-6ee3bef5cdb2",
   "metadata": {},
   "outputs": [],
   "source": [
    "def func(spam, eggs, toast=0, ham=0):\n",
    "    print((spam, eggs, toast, ham))"
   ]
  },
  {
   "cell_type": "code",
   "execution_count": 33,
   "id": "d3a81afd-3d72-47d7-8493-d9e461b8ae8f",
   "metadata": {},
   "outputs": [
    {
     "name": "stdout",
     "output_type": "stream",
     "text": [
      "(1, 2, 0, 0)\n"
     ]
    }
   ],
   "source": [
    "func(1,2)"
   ]
  },
  {
   "cell_type": "code",
   "execution_count": 34,
   "id": "f211d8bb-fa5b-4a11-94a2-0dccc39c0520",
   "metadata": {},
   "outputs": [
    {
     "name": "stdout",
     "output_type": "stream",
     "text": [
      "(1, 0, 0, 1)\n"
     ]
    }
   ],
   "source": [
    "func(1, ham=1, eggs=0)"
   ]
  },
  {
   "cell_type": "code",
   "execution_count": 35,
   "id": "94200fe8-526a-4c8a-bcf8-361af800565c",
   "metadata": {},
   "outputs": [
    {
     "name": "stdout",
     "output_type": "stream",
     "text": [
      "(1, 0, 0, 0)\n"
     ]
    }
   ],
   "source": [
    "func(spam=1, eggs=0)"
   ]
  },
  {
   "cell_type": "code",
   "execution_count": 36,
   "id": "35193b8e-247a-4d81-be9d-20d65c27dc6e",
   "metadata": {},
   "outputs": [
    {
     "name": "stdout",
     "output_type": "stream",
     "text": [
      "(3, 2, 1, 0)\n"
     ]
    }
   ],
   "source": [
    "func(toast=1, eggs=2, spam=3)"
   ]
  },
  {
   "cell_type": "code",
   "execution_count": 37,
   "id": "38ca2091-8cee-422c-936f-15a68e1bd53a",
   "metadata": {},
   "outputs": [
    {
     "name": "stdout",
     "output_type": "stream",
     "text": [
      "(1, 2, 3, 4)\n"
     ]
    }
   ],
   "source": [
    "func(1, 2, 3, 4)"
   ]
  },
  {
   "cell_type": "code",
   "execution_count": 39,
   "id": "12157170-1a8e-4445-bc55-f5aafeff20c1",
   "metadata": {},
   "outputs": [],
   "source": [
    "def f(*args): print(args)"
   ]
  },
  {
   "cell_type": "code",
   "execution_count": 40,
   "id": "705f5d9e-e5c8-4e9c-b7f7-e359cee54009",
   "metadata": {},
   "outputs": [
    {
     "name": "stdout",
     "output_type": "stream",
     "text": [
      "()\n"
     ]
    }
   ],
   "source": [
    "f()"
   ]
  },
  {
   "cell_type": "code",
   "execution_count": 41,
   "id": "0309db9a-f932-4528-80e9-ed1a8afb0ecd",
   "metadata": {},
   "outputs": [
    {
     "name": "stdout",
     "output_type": "stream",
     "text": [
      "(1,)\n"
     ]
    }
   ],
   "source": [
    "f(1)"
   ]
  },
  {
   "cell_type": "code",
   "execution_count": 42,
   "id": "ebc19c33-f36c-469b-8c8f-bfc661586e68",
   "metadata": {},
   "outputs": [
    {
     "name": "stdout",
     "output_type": "stream",
     "text": [
      "(1, 2, 3, 4)\n"
     ]
    }
   ],
   "source": [
    "f(1, 2, 3, 4)"
   ]
  },
  {
   "cell_type": "code",
   "execution_count": 43,
   "id": "81994c33-d1cd-46b4-a092-9eb4cede513a",
   "metadata": {},
   "outputs": [],
   "source": [
    "def f(**args): print(args)"
   ]
  },
  {
   "cell_type": "code",
   "execution_count": 44,
   "id": "fab79aa9-a558-409b-bde9-685c5d4d6c3b",
   "metadata": {},
   "outputs": [
    {
     "name": "stdout",
     "output_type": "stream",
     "text": [
      "{}\n"
     ]
    }
   ],
   "source": [
    "f()"
   ]
  },
  {
   "cell_type": "code",
   "execution_count": 45,
   "id": "ff1a6444-d712-47d1-9cfe-1c783e897611",
   "metadata": {},
   "outputs": [
    {
     "name": "stdout",
     "output_type": "stream",
     "text": [
      "{'a': 1, 'b': 2}\n"
     ]
    }
   ],
   "source": [
    "f(a=1, b=2)"
   ]
  },
  {
   "cell_type": "code",
   "execution_count": 46,
   "id": "201a35ad-ca8d-4289-9963-cc2c54ebf834",
   "metadata": {},
   "outputs": [],
   "source": [
    "def f(a, *pargs, **kargs): print(a, pargs, kargs)"
   ]
  },
  {
   "cell_type": "code",
   "execution_count": 47,
   "id": "17e925d2-2504-40c7-8f2b-194616a7231f",
   "metadata": {},
   "outputs": [
    {
     "name": "stdout",
     "output_type": "stream",
     "text": [
      "1 (2, 3) {'x': 1, 'y': 2}\n"
     ]
    }
   ],
   "source": [
    "f(1, 2, 3, x=1, y=2)"
   ]
  },
  {
   "cell_type": "code",
   "execution_count": 48,
   "id": "e36ddc93-2d36-4248-8374-f65cb1ab8d94",
   "metadata": {},
   "outputs": [],
   "source": [
    "def func(a, b, c, d): print(a, b, c, d)"
   ]
  },
  {
   "cell_type": "code",
   "execution_count": 49,
   "id": "aa0539a0-58fa-4ca2-b686-6caa90d2112c",
   "metadata": {},
   "outputs": [],
   "source": [
    "args = (1, 2)"
   ]
  },
  {
   "cell_type": "code",
   "execution_count": 50,
   "id": "1988c161-94da-4350-85f6-aa976fa5fc2c",
   "metadata": {},
   "outputs": [],
   "source": [
    "args += (3, 4)"
   ]
  },
  {
   "cell_type": "code",
   "execution_count": 51,
   "id": "fcbffb79-f6f2-46fa-b60f-28ec66aa246e",
   "metadata": {},
   "outputs": [
    {
     "name": "stdout",
     "output_type": "stream",
     "text": [
      "1 2 3 4\n"
     ]
    }
   ],
   "source": [
    "func(*args)"
   ]
  },
  {
   "cell_type": "code",
   "execution_count": 52,
   "id": "6b0a93e0-4d83-4076-8dc4-850f18ebe351",
   "metadata": {},
   "outputs": [],
   "source": [
    "args = {'a': 1, 'b': 2, 'c': 3}"
   ]
  },
  {
   "cell_type": "code",
   "execution_count": 53,
   "id": "bab258cd-74a7-4417-9ea1-4cfb3258989e",
   "metadata": {},
   "outputs": [],
   "source": [
    "args['d'] = 4"
   ]
  },
  {
   "cell_type": "code",
   "execution_count": 54,
   "id": "3b76b34d-1449-479b-b35d-579560d3af22",
   "metadata": {},
   "outputs": [
    {
     "name": "stdout",
     "output_type": "stream",
     "text": [
      "1 2 3 4\n"
     ]
    }
   ],
   "source": [
    "func(**args)"
   ]
  },
  {
   "cell_type": "code",
   "execution_count": 55,
   "id": "ea6fcc02-8986-46a5-8065-2cbe9d8f53cc",
   "metadata": {},
   "outputs": [
    {
     "name": "stdout",
     "output_type": "stream",
     "text": [
      "1 2 3 4\n"
     ]
    }
   ],
   "source": [
    "func(*(1,2), **{'d': 4, 'c': 3})"
   ]
  },
  {
   "cell_type": "code",
   "execution_count": 1,
   "id": "39cd1c2c-effa-4036-acee-903f854176f2",
   "metadata": {},
   "outputs": [],
   "source": [
    "def tracer(func, *pargs, **kargs):\n",
    "    print('calling:', func.__name__)\n",
    "    return func(*pargs, **kargs)"
   ]
  },
  {
   "cell_type": "code",
   "execution_count": 2,
   "id": "3d2b5315-0c81-4cc0-a919-8baf99ea82b8",
   "metadata": {},
   "outputs": [],
   "source": [
    "def func(a, b, c, d):\n",
    "    return a + b + c + d"
   ]
  },
  {
   "cell_type": "code",
   "execution_count": 4,
   "id": "7222365a-3197-4ff6-91b2-aedd8166fc8f",
   "metadata": {},
   "outputs": [
    {
     "name": "stdout",
     "output_type": "stream",
     "text": [
      "calling: func\n",
      "10\n"
     ]
    }
   ],
   "source": [
    "print(tracer(func,1,2, c=3, d=4))"
   ]
  },
  {
   "cell_type": "code",
   "execution_count": 5,
   "id": "8ab08a77-7566-480e-a3ae-08399c642f0c",
   "metadata": {},
   "outputs": [],
   "source": [
    "def kwonly(a, *b, c):\n",
    "    print(a, b, c)"
   ]
  },
  {
   "cell_type": "code",
   "execution_count": 6,
   "id": "755a3083-528a-4d4e-a46a-c64f03567188",
   "metadata": {},
   "outputs": [
    {
     "name": "stdout",
     "output_type": "stream",
     "text": [
      "1 (2,) 3\n"
     ]
    }
   ],
   "source": [
    "kwonly(1, 2, c=3)"
   ]
  },
  {
   "cell_type": "code",
   "execution_count": 7,
   "id": "9c0aa0da-b1b3-4f73-9b79-0283c846ba93",
   "metadata": {},
   "outputs": [
    {
     "name": "stdout",
     "output_type": "stream",
     "text": [
      "1 () 3\n"
     ]
    }
   ],
   "source": [
    "kwonly(a=1, c=3)"
   ]
  },
  {
   "cell_type": "code",
   "execution_count": 8,
   "id": "df89cd86-c696-4603-bfee-d34822a01816",
   "metadata": {},
   "outputs": [
    {
     "ename": "TypeError",
     "evalue": "kwonly() missing 1 required keyword-only argument: 'c'",
     "output_type": "error",
     "traceback": [
      "\u001b[1;31m---------------------------------------------------------------------------\u001b[0m",
      "\u001b[1;31mTypeError\u001b[0m                                 Traceback (most recent call last)",
      "Cell \u001b[1;32mIn [8], line 1\u001b[0m\n\u001b[1;32m----> 1\u001b[0m \u001b[43mkwonly\u001b[49m\u001b[43m(\u001b[49m\u001b[38;5;241;43m1\u001b[39;49m\u001b[43m,\u001b[49m\u001b[43m \u001b[49m\u001b[38;5;241;43m2\u001b[39;49m\u001b[43m,\u001b[49m\u001b[43m \u001b[49m\u001b[38;5;241;43m3\u001b[39;49m\u001b[43m)\u001b[49m\n",
      "\u001b[1;31mTypeError\u001b[0m: kwonly() missing 1 required keyword-only argument: 'c'"
     ]
    }
   ],
   "source": [
    "kwonly(1, 2, 3)"
   ]
  },
  {
   "cell_type": "code",
   "execution_count": 9,
   "id": "4b39c724-4aad-4b19-a2e6-7c2dda416110",
   "metadata": {},
   "outputs": [],
   "source": [
    "def kwonly(a, *, b, c):\n",
    "    print(a, b, c)"
   ]
  },
  {
   "cell_type": "code",
   "execution_count": 11,
   "id": "2908a552-5f23-446d-9bde-9b1013b97072",
   "metadata": {},
   "outputs": [
    {
     "name": "stdout",
     "output_type": "stream",
     "text": [
      "1 2 3\n"
     ]
    }
   ],
   "source": [
    "kwonly(1, c=3, b=2)"
   ]
  },
  {
   "cell_type": "code",
   "execution_count": 12,
   "id": "936b2202-6d8f-4357-8872-45e9935148da",
   "metadata": {},
   "outputs": [
    {
     "name": "stdout",
     "output_type": "stream",
     "text": [
      "1 2 3\n"
     ]
    }
   ],
   "source": [
    "kwonly(c=3, b=2, a=1)"
   ]
  },
  {
   "cell_type": "code",
   "execution_count": 13,
   "id": "c9913927-0895-4e16-b576-0cf368b85f16",
   "metadata": {},
   "outputs": [
    {
     "ename": "TypeError",
     "evalue": "kwonly() takes 1 positional argument but 3 were given",
     "output_type": "error",
     "traceback": [
      "\u001b[1;31m---------------------------------------------------------------------------\u001b[0m",
      "\u001b[1;31mTypeError\u001b[0m                                 Traceback (most recent call last)",
      "Cell \u001b[1;32mIn [13], line 1\u001b[0m\n\u001b[1;32m----> 1\u001b[0m \u001b[43mkwonly\u001b[49m\u001b[43m(\u001b[49m\u001b[38;5;241;43m1\u001b[39;49m\u001b[43m,\u001b[49m\u001b[43m \u001b[49m\u001b[38;5;241;43m2\u001b[39;49m\u001b[43m,\u001b[49m\u001b[43m \u001b[49m\u001b[38;5;241;43m3\u001b[39;49m\u001b[43m)\u001b[49m\n",
      "\u001b[1;31mTypeError\u001b[0m: kwonly() takes 1 positional argument but 3 were given"
     ]
    }
   ],
   "source": [
    "kwonly(1, 2, 3)"
   ]
  },
  {
   "cell_type": "code",
   "execution_count": 14,
   "id": "e4f3544c-1ff5-4878-b1f4-0e8393acd300",
   "metadata": {},
   "outputs": [
    {
     "ename": "TypeError",
     "evalue": "kwonly() missing 2 required keyword-only arguments: 'b' and 'c'",
     "output_type": "error",
     "traceback": [
      "\u001b[1;31m---------------------------------------------------------------------------\u001b[0m",
      "\u001b[1;31mTypeError\u001b[0m                                 Traceback (most recent call last)",
      "Cell \u001b[1;32mIn [14], line 1\u001b[0m\n\u001b[1;32m----> 1\u001b[0m \u001b[43mkwonly\u001b[49m\u001b[43m(\u001b[49m\u001b[38;5;241;43m1\u001b[39;49m\u001b[43m)\u001b[49m\n",
      "\u001b[1;31mTypeError\u001b[0m: kwonly() missing 2 required keyword-only arguments: 'b' and 'c'"
     ]
    }
   ],
   "source": [
    "kwonly(1)"
   ]
  },
  {
   "cell_type": "code",
   "execution_count": 15,
   "id": "ab26dd5e-b157-4499-89d8-aba76596c9ae",
   "metadata": {},
   "outputs": [],
   "source": [
    "def kwonly(a, *, b='spam', c='ham'):\n",
    "    print(a, b, c)"
   ]
  },
  {
   "cell_type": "code",
   "execution_count": 16,
   "id": "1617a0a3-f050-4600-a8b0-81ad1e193aa2",
   "metadata": {},
   "outputs": [
    {
     "name": "stdout",
     "output_type": "stream",
     "text": [
      "1 spam ham\n"
     ]
    }
   ],
   "source": [
    "kwonly(1)"
   ]
  },
  {
   "cell_type": "code",
   "execution_count": 17,
   "id": "aebc6bc6-2885-4df1-b749-a510cbcb8b2b",
   "metadata": {},
   "outputs": [
    {
     "name": "stdout",
     "output_type": "stream",
     "text": [
      "1 spam 3\n"
     ]
    }
   ],
   "source": [
    "kwonly(1, c=3)"
   ]
  },
  {
   "cell_type": "code",
   "execution_count": 18,
   "id": "bcaf83a0-b51a-4164-975f-911161daa3c0",
   "metadata": {},
   "outputs": [
    {
     "name": "stdout",
     "output_type": "stream",
     "text": [
      "1 spam ham\n"
     ]
    }
   ],
   "source": [
    "kwonly(a=1)"
   ]
  },
  {
   "cell_type": "code",
   "execution_count": 19,
   "id": "878de05f-a92a-4b1b-b5d5-94bb923f96ad",
   "metadata": {},
   "outputs": [
    {
     "name": "stdout",
     "output_type": "stream",
     "text": [
      "1 2 3\n"
     ]
    }
   ],
   "source": [
    "kwonly(c=3, b=2, a=1)"
   ]
  },
  {
   "cell_type": "code",
   "execution_count": 20,
   "id": "da0ec29d-7c5b-4f78-89e9-5ea929339338",
   "metadata": {},
   "outputs": [
    {
     "ename": "TypeError",
     "evalue": "kwonly() takes 1 positional argument but 2 were given",
     "output_type": "error",
     "traceback": [
      "\u001b[1;31m---------------------------------------------------------------------------\u001b[0m",
      "\u001b[1;31mTypeError\u001b[0m                                 Traceback (most recent call last)",
      "Cell \u001b[1;32mIn [20], line 1\u001b[0m\n\u001b[1;32m----> 1\u001b[0m \u001b[43mkwonly\u001b[49m\u001b[43m(\u001b[49m\u001b[38;5;241;43m1\u001b[39;49m\u001b[43m,\u001b[49m\u001b[43m \u001b[49m\u001b[38;5;241;43m2\u001b[39;49m\u001b[43m)\u001b[49m\n",
      "\u001b[1;31mTypeError\u001b[0m: kwonly() takes 1 positional argument but 2 were given"
     ]
    }
   ],
   "source": [
    "kwonly(1, 2)"
   ]
  },
  {
   "cell_type": "code",
   "execution_count": 21,
   "id": "5783977c-cf54-43a5-b1f0-802b6797c611",
   "metadata": {},
   "outputs": [],
   "source": [
    "def kwonly(a, *, b, c='spam'):\n",
    "    print(a, b, c)"
   ]
  },
  {
   "cell_type": "code",
   "execution_count": 22,
   "id": "c8ea2dd7-b42c-40af-9786-f2a411ae5e6f",
   "metadata": {},
   "outputs": [
    {
     "name": "stdout",
     "output_type": "stream",
     "text": [
      "1 eggs spam\n"
     ]
    }
   ],
   "source": [
    "kwonly(1, b='eggs')"
   ]
  },
  {
   "cell_type": "code",
   "execution_count": 23,
   "id": "25611bd8-9070-425b-85f3-f66a75628c8e",
   "metadata": {},
   "outputs": [
    {
     "ename": "TypeError",
     "evalue": "kwonly() missing 1 required keyword-only argument: 'b'",
     "output_type": "error",
     "traceback": [
      "\u001b[1;31m---------------------------------------------------------------------------\u001b[0m",
      "\u001b[1;31mTypeError\u001b[0m                                 Traceback (most recent call last)",
      "Cell \u001b[1;32mIn [23], line 1\u001b[0m\n\u001b[1;32m----> 1\u001b[0m \u001b[43mkwonly\u001b[49m\u001b[43m(\u001b[49m\u001b[38;5;241;43m1\u001b[39;49m\u001b[43m,\u001b[49m\u001b[43m \u001b[49m\u001b[43mc\u001b[49m\u001b[38;5;241;43m=\u001b[39;49m\u001b[38;5;124;43m'\u001b[39;49m\u001b[38;5;124;43meggs\u001b[39;49m\u001b[38;5;124;43m'\u001b[39;49m\u001b[43m)\u001b[49m\n",
      "\u001b[1;31mTypeError\u001b[0m: kwonly() missing 1 required keyword-only argument: 'b'"
     ]
    }
   ],
   "source": [
    "kwonly(1, c='eggs')"
   ]
  },
  {
   "cell_type": "code",
   "execution_count": 24,
   "id": "a9f5b5d0-2dcb-4f8d-a1ff-06b052c30e91",
   "metadata": {},
   "outputs": [
    {
     "ename": "TypeError",
     "evalue": "kwonly() takes 1 positional argument but 2 were given",
     "output_type": "error",
     "traceback": [
      "\u001b[1;31m---------------------------------------------------------------------------\u001b[0m",
      "\u001b[1;31mTypeError\u001b[0m                                 Traceback (most recent call last)",
      "Cell \u001b[1;32mIn [24], line 1\u001b[0m\n\u001b[1;32m----> 1\u001b[0m \u001b[43mkwonly\u001b[49m\u001b[43m(\u001b[49m\u001b[38;5;241;43m1\u001b[39;49m\u001b[43m,\u001b[49m\u001b[43m \u001b[49m\u001b[38;5;241;43m2\u001b[39;49m\u001b[43m)\u001b[49m\n",
      "\u001b[1;31mTypeError\u001b[0m: kwonly() takes 1 positional argument but 2 were given"
     ]
    }
   ],
   "source": [
    "kwonly(1, 2)"
   ]
  },
  {
   "cell_type": "code",
   "execution_count": 25,
   "id": "ccb321b8-bb22-4335-a8cf-64287efcb4ae",
   "metadata": {},
   "outputs": [],
   "source": [
    "def kwonly(a, *, b=1, c, d=2):\n",
    "    print(a, b, c, d)"
   ]
  },
  {
   "cell_type": "code",
   "execution_count": 26,
   "id": "807e03e0-890b-46e2-a0a0-464692eee6bd",
   "metadata": {},
   "outputs": [
    {
     "name": "stdout",
     "output_type": "stream",
     "text": [
      "3 1 4 2\n"
     ]
    }
   ],
   "source": [
    "kwonly(3, c=4)"
   ]
  },
  {
   "cell_type": "code",
   "execution_count": 27,
   "id": "37b70444-ce81-4b56-8fab-88fd14370db6",
   "metadata": {},
   "outputs": [
    {
     "name": "stdout",
     "output_type": "stream",
     "text": [
      "3 5 4 2\n"
     ]
    }
   ],
   "source": [
    "kwonly(3, c=4, b=5)"
   ]
  },
  {
   "cell_type": "code",
   "execution_count": 28,
   "id": "a383df2b-dcf8-4b02-b9d9-273b80e8edbd",
   "metadata": {},
   "outputs": [
    {
     "ename": "TypeError",
     "evalue": "kwonly() missing 1 required keyword-only argument: 'c'",
     "output_type": "error",
     "traceback": [
      "\u001b[1;31m---------------------------------------------------------------------------\u001b[0m",
      "\u001b[1;31mTypeError\u001b[0m                                 Traceback (most recent call last)",
      "Cell \u001b[1;32mIn [28], line 1\u001b[0m\n\u001b[1;32m----> 1\u001b[0m \u001b[43mkwonly\u001b[49m\u001b[43m(\u001b[49m\u001b[38;5;241;43m3\u001b[39;49m\u001b[43m)\u001b[49m\n",
      "\u001b[1;31mTypeError\u001b[0m: kwonly() missing 1 required keyword-only argument: 'c'"
     ]
    }
   ],
   "source": [
    "kwonly(3)"
   ]
  },
  {
   "cell_type": "code",
   "execution_count": 29,
   "id": "884410d6-299f-40f4-b3dc-4f6b27e5e783",
   "metadata": {},
   "outputs": [
    {
     "ename": "TypeError",
     "evalue": "kwonly() takes 1 positional argument but 3 were given",
     "output_type": "error",
     "traceback": [
      "\u001b[1;31m---------------------------------------------------------------------------\u001b[0m",
      "\u001b[1;31mTypeError\u001b[0m                                 Traceback (most recent call last)",
      "Cell \u001b[1;32mIn [29], line 1\u001b[0m\n\u001b[1;32m----> 1\u001b[0m \u001b[43mkwonly\u001b[49m\u001b[43m(\u001b[49m\u001b[38;5;241;43m1\u001b[39;49m\u001b[43m,\u001b[49m\u001b[38;5;241;43m2\u001b[39;49m\u001b[43m,\u001b[49m\u001b[38;5;241;43m3\u001b[39;49m\u001b[43m)\u001b[49m\n",
      "\u001b[1;31mTypeError\u001b[0m: kwonly() takes 1 positional argument but 3 were given"
     ]
    }
   ],
   "source": [
    "kwonly(1,2,3)"
   ]
  },
  {
   "cell_type": "code",
   "execution_count": 30,
   "id": "947d58b8-c2f6-4c19-b051-dc6ce4b56335",
   "metadata": {},
   "outputs": [
    {
     "ename": "SyntaxError",
     "evalue": "invalid syntax (1097199627.py, line 1)",
     "output_type": "error",
     "traceback": [
      "\u001b[1;36m  Cell \u001b[1;32mIn [30], line 1\u001b[1;36m\u001b[0m\n\u001b[1;33m    def kwonly(a, **pargs, b, c):\u001b[0m\n\u001b[1;37m                           ^\u001b[0m\n\u001b[1;31mSyntaxError\u001b[0m\u001b[1;31m:\u001b[0m invalid syntax\n"
     ]
    }
   ],
   "source": [
    "def kwonly(a, **pargs, b, c):"
   ]
  },
  {
   "cell_type": "code",
   "execution_count": 31,
   "id": "480c7654-7b4b-4e88-b332-403900945ba3",
   "metadata": {},
   "outputs": [],
   "source": [
    "def f(a, *b, c=6, **d):\n",
    "    print(a, b, c, d)"
   ]
  },
  {
   "cell_type": "code",
   "execution_count": 32,
   "id": "d99f780d-9cd9-4d1f-84cf-eaa238532f09",
   "metadata": {},
   "outputs": [
    {
     "name": "stdout",
     "output_type": "stream",
     "text": [
      "1 (2, 3) 6 {'x': 4, 'y': 5}\n"
     ]
    }
   ],
   "source": [
    "f(1, 2, 3, x=4, y=5)"
   ]
  },
  {
   "cell_type": "code",
   "execution_count": 33,
   "id": "87bcbca7-3b88-418d-9938-4c00c9898999",
   "metadata": {},
   "outputs": [
    {
     "name": "stdout",
     "output_type": "stream",
     "text": [
      "1 (2, 3) 7 {'x': 4, 'y': 5}\n"
     ]
    }
   ],
   "source": [
    "f(1, 2, 3, x=4, y=5, c=7)"
   ]
  },
  {
   "cell_type": "code",
   "execution_count": 34,
   "id": "3153ff56-84dd-4798-9aae-96de56b259af",
   "metadata": {},
   "outputs": [],
   "source": [
    "def f(a, *b, c=6, **d): print(a, b, c, d)"
   ]
  },
  {
   "cell_type": "code",
   "execution_count": 35,
   "id": "ac5c9067-0a26-45e7-b048-923c02dce324",
   "metadata": {},
   "outputs": [
    {
     "name": "stdout",
     "output_type": "stream",
     "text": [
      "1 (2, 3) 6 {'x': 4, 'y': 5}\n"
     ]
    }
   ],
   "source": [
    "f(1, *(2,3), **dict(x=4, y=5))"
   ]
  },
  {
   "cell_type": "code",
   "execution_count": 36,
   "id": "347e0455-cb2c-4ba7-8ca9-c6441c3c7cd5",
   "metadata": {},
   "outputs": [],
   "source": [
    "def min1(*args):\n",
    "    res = args[0]\n",
    "    for arg in args[1:]:\n",
    "        if arg < res:\n",
    "            res = arg\n",
    "    return res"
   ]
  },
  {
   "cell_type": "code",
   "execution_count": 37,
   "id": "5746e18a-0906-42a0-b390-d5187239dfee",
   "metadata": {},
   "outputs": [],
   "source": [
    "def min2(first, *rest):\n",
    "    for arg in rest:\n",
    "        if arg < first:\n",
    "            first = arg\n",
    "    return first"
   ]
  },
  {
   "cell_type": "code",
   "execution_count": 38,
   "id": "5adfb344-ecda-49d9-8cbb-d2b803eb3ffe",
   "metadata": {},
   "outputs": [],
   "source": [
    "def min3(*args):\n",
    "    tmp = list(args)\n",
    "    tmp.sort()\n",
    "    return tmp[0]"
   ]
  },
  {
   "cell_type": "code",
   "execution_count": 39,
   "id": "2a55b239-7c84-4ee9-8a1f-9c2e914aa704",
   "metadata": {},
   "outputs": [
    {
     "name": "stdout",
     "output_type": "stream",
     "text": [
      "1\n"
     ]
    }
   ],
   "source": [
    "print(min1(3, 4, 1, 2))"
   ]
  },
  {
   "cell_type": "code",
   "execution_count": 40,
   "id": "72cc951d-4ee0-485a-a17a-63f8fb1f8b49",
   "metadata": {},
   "outputs": [
    {
     "name": "stdout",
     "output_type": "stream",
     "text": [
      "aa\n"
     ]
    }
   ],
   "source": [
    "print(min2('bb','aa'))"
   ]
  },
  {
   "cell_type": "code",
   "execution_count": 41,
   "id": "d21f079b-ec0d-46a1-8fcd-12777ff6eac1",
   "metadata": {},
   "outputs": [
    {
     "name": "stdout",
     "output_type": "stream",
     "text": [
      "[1, 1]\n"
     ]
    }
   ],
   "source": [
    "print(min3([2,2], [1,1], [3,3]))"
   ]
  },
  {
   "cell_type": "code",
   "execution_count": 48,
   "id": "57dce1a9-833e-49dd-819c-a4476f6fdbc7",
   "metadata": {},
   "outputs": [],
   "source": [
    "def minmax(test, *args):\n",
    "    res = args[0]\n",
    "    for arg in args[1:]:\n",
    "        if test(arg, res):\n",
    "            res = arg\n",
    "    return res"
   ]
  },
  {
   "cell_type": "code",
   "execution_count": 43,
   "id": "cdfd921e-0c8c-4cb3-add2-00ef491e1b97",
   "metadata": {},
   "outputs": [],
   "source": [
    "def lessthan(x, y): return x<y"
   ]
  },
  {
   "cell_type": "code",
   "execution_count": 44,
   "id": "b5236cc9-500f-40fa-a5e7-d4308afa696c",
   "metadata": {},
   "outputs": [],
   "source": [
    "def grtrthan(x, y): return x>y"
   ]
  },
  {
   "cell_type": "code",
   "execution_count": 49,
   "id": "9972c198-b8fd-43b1-b5d2-183975022361",
   "metadata": {},
   "outputs": [
    {
     "name": "stdout",
     "output_type": "stream",
     "text": [
      "1\n"
     ]
    }
   ],
   "source": [
    "print(minmax(lessthan, 4, 2, 1, 5, 6, 3))"
   ]
  },
  {
   "cell_type": "code",
   "execution_count": 51,
   "id": "6653d006-76c5-4016-be6b-95bbbbc1c3cd",
   "metadata": {},
   "outputs": [
    {
     "name": "stdout",
     "output_type": "stream",
     "text": [
      "6\n"
     ]
    }
   ],
   "source": [
    "print(minmax(grtrthan, 4, 2, 1, 5, 6, 3))"
   ]
  },
  {
   "cell_type": "code",
   "execution_count": 52,
   "id": "0af57c97-ec85-49eb-bd0c-22e47296cbb0",
   "metadata": {},
   "outputs": [],
   "source": [
    "def intersect(*args):\n",
    "    res = []\n",
    "    for x in args[0]:\n",
    "        if x in res: continue\n",
    "        for other in args[1:]:\n",
    "            if x not in other: break\n",
    "        else:\n",
    "            res.append(x)\n",
    "    return res"
   ]
  },
  {
   "cell_type": "code",
   "execution_count": 53,
   "id": "ffcb0198-242c-4866-a140-bc82ab4ab516",
   "metadata": {},
   "outputs": [],
   "source": [
    "def union(*args):\n",
    "    res = []\n",
    "    for seq in args:\n",
    "        for x in seq:\n",
    "            if not x in res:\n",
    "                res.append(x)\n",
    "    return res"
   ]
  },
  {
   "cell_type": "code",
   "execution_count": 54,
   "id": "702199c8-dc81-49ab-90b1-14a47d838726",
   "metadata": {},
   "outputs": [],
   "source": [
    "s1, s2, s3 = 'spam', 'scam', 'slam'"
   ]
  },
  {
   "cell_type": "code",
   "execution_count": 55,
   "id": "a11899a1-c0f5-472c-af86-7c9fc551617a",
   "metadata": {},
   "outputs": [
    {
     "data": {
      "text/plain": [
       "(['s', 'a', 'm'], ['s', 'p', 'a', 'm', 'c'])"
      ]
     },
     "execution_count": 55,
     "metadata": {},
     "output_type": "execute_result"
    }
   ],
   "source": [
    "intersect(s1, s2), union(s1, s2)"
   ]
  },
  {
   "cell_type": "code",
   "execution_count": 56,
   "id": "a51046df-9fd0-4184-876c-3d8d9e42c983",
   "metadata": {},
   "outputs": [
    {
     "data": {
      "text/plain": [
       "[1]"
      ]
     },
     "execution_count": 56,
     "metadata": {},
     "output_type": "execute_result"
    }
   ],
   "source": [
    "intersect([1, 2, 3], (1,4))"
   ]
  },
  {
   "cell_type": "code",
   "execution_count": 57,
   "id": "b4083e28-e87a-4a00-901b-dcf877699a7b",
   "metadata": {},
   "outputs": [
    {
     "data": {
      "text/plain": [
       "['s', 'a', 'm']"
      ]
     },
     "execution_count": 57,
     "metadata": {},
     "output_type": "execute_result"
    }
   ],
   "source": [
    "intersect(s1, s2, s3)"
   ]
  },
  {
   "cell_type": "code",
   "execution_count": 58,
   "id": "074cc424-b29c-4b88-8439-1f00a5ef266c",
   "metadata": {},
   "outputs": [
    {
     "data": {
      "text/plain": [
       "['s', 'p', 'a', 'm', 'c', 'l']"
      ]
     },
     "execution_count": 58,
     "metadata": {},
     "output_type": "execute_result"
    }
   ],
   "source": [
    "union(s1, s2, s3)"
   ]
  },
  {
   "cell_type": "code",
   "execution_count": 59,
   "id": "e2c3ccad-c790-4c59-ad0c-076de6b76eea",
   "metadata": {},
   "outputs": [],
   "source": [
    "def tester(func, items, trace=True):\n",
    "    for i in range(len(items)):\n",
    "        items = items[1:] + items[:1]\n",
    "        if trace: print(items)\n",
    "        print(sorted(func(*items)))"
   ]
  },
  {
   "cell_type": "code",
   "execution_count": 60,
   "id": "1662e699-a8d6-4436-83c8-12e90e46afd7",
   "metadata": {},
   "outputs": [
    {
     "name": "stdout",
     "output_type": "stream",
     "text": [
      "('abcdefg', 'abdst', 'albmcnd', 'a')\n",
      "['a']\n",
      "('abdst', 'albmcnd', 'a', 'abcdefg')\n",
      "['a']\n",
      "('albmcnd', 'a', 'abcdefg', 'abdst')\n",
      "['a']\n",
      "('a', 'abcdefg', 'abdst', 'albmcnd')\n",
      "['a']\n"
     ]
    }
   ],
   "source": [
    "tester(intersect, ('a', 'abcdefg', 'abdst', 'albmcnd'))"
   ]
  },
  {
   "cell_type": "code",
   "execution_count": 61,
   "id": "7d1ad95c-9294-4f1e-988f-cd27a93bb55e",
   "metadata": {},
   "outputs": [
    {
     "name": "stdout",
     "output_type": "stream",
     "text": [
      "['a', 'b', 'c', 'd', 'e', 'f', 'g', 'l', 'm', 'n', 's', 't']\n",
      "['a', 'b', 'c', 'd', 'e', 'f', 'g', 'l', 'm', 'n', 's', 't']\n",
      "['a', 'b', 'c', 'd', 'e', 'f', 'g', 'l', 'm', 'n', 's', 't']\n",
      "['a', 'b', 'c', 'd', 'e', 'f', 'g', 'l', 'm', 'n', 's', 't']\n"
     ]
    }
   ],
   "source": [
    "tester(union, ('a', 'abcdefg', 'abdst', 'albmcnd'), False)"
   ]
  }
 ],
 "metadata": {
  "kernelspec": {
   "display_name": "Python 3 (ipykernel)",
   "language": "python",
   "name": "python3"
  },
  "language_info": {
   "codemirror_mode": {
    "name": "ipython",
    "version": 3
   },
   "file_extension": ".py",
   "mimetype": "text/x-python",
   "name": "python",
   "nbconvert_exporter": "python",
   "pygments_lexer": "ipython3",
   "version": "3.9.13"
  }
 },
 "nbformat": 4,
 "nbformat_minor": 5
}
