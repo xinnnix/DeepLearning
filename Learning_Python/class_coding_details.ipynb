{
 "cells": [
  {
   "cell_type": "code",
   "execution_count": 1,
   "id": "d46cb4f4-b468-4f6e-a6ae-277cd2bef1ed",
   "metadata": {},
   "outputs": [],
   "source": [
    "class SharedData:\n",
    "    spam = 42"
   ]
  },
  {
   "cell_type": "code",
   "execution_count": 2,
   "id": "4dcdbc6e-97bf-40ff-9b6c-72b41886f752",
   "metadata": {},
   "outputs": [],
   "source": [
    "x = SharedData()\n",
    "y = SharedData()"
   ]
  },
  {
   "cell_type": "code",
   "execution_count": 3,
   "id": "83143f6f-f930-47bd-8382-6baf6041e225",
   "metadata": {},
   "outputs": [
    {
     "data": {
      "text/plain": [
       "(42, 42)"
      ]
     },
     "execution_count": 3,
     "metadata": {},
     "output_type": "execute_result"
    }
   ],
   "source": [
    "x.spam, y.spam"
   ]
  },
  {
   "cell_type": "code",
   "execution_count": 4,
   "id": "fa063c4e-fa7b-45d3-b8e1-9f2da9c0ef27",
   "metadata": {},
   "outputs": [],
   "source": [
    "SharedData.spam = 99"
   ]
  },
  {
   "cell_type": "code",
   "execution_count": 5,
   "id": "10bf1f3c-1ba3-498f-b7db-51f60dce1976",
   "metadata": {},
   "outputs": [
    {
     "data": {
      "text/plain": [
       "(99, 99, 99)"
      ]
     },
     "execution_count": 5,
     "metadata": {},
     "output_type": "execute_result"
    }
   ],
   "source": [
    "x.spam, y.spam, SharedData.spam"
   ]
  },
  {
   "cell_type": "code",
   "execution_count": 6,
   "id": "cd2a07b9-919d-4b9c-989a-d1ee8a78fb31",
   "metadata": {},
   "outputs": [],
   "source": [
    "x.spam = 88"
   ]
  },
  {
   "cell_type": "code",
   "execution_count": 7,
   "id": "5e6c38eb-68b9-4a58-ad56-bb6ab52aa063",
   "metadata": {},
   "outputs": [
    {
     "data": {
      "text/plain": [
       "(88, 99, 99)"
      ]
     },
     "execution_count": 7,
     "metadata": {},
     "output_type": "execute_result"
    }
   ],
   "source": [
    "x.spam, y.spam, SharedData.spam"
   ]
  },
  {
   "cell_type": "code",
   "execution_count": 8,
   "id": "22925afd-6846-455f-a434-0addf75c5902",
   "metadata": {},
   "outputs": [],
   "source": [
    "class MixedNames:\n",
    "    data = 'spam'\n",
    "    def __init__(self, value):\n",
    "        self.data = value\n",
    "    def display(self):\n",
    "        print(self.data, MixedNames.data)"
   ]
  },
  {
   "cell_type": "code",
   "execution_count": 9,
   "id": "08b2c930-331b-4f62-b45a-f67e371f9d67",
   "metadata": {},
   "outputs": [],
   "source": [
    "x = MixedNames(1)\n",
    "y = MixedNames(2)"
   ]
  },
  {
   "cell_type": "code",
   "execution_count": 10,
   "id": "cfa71554-59e1-410e-94da-4e2bc4cf0b8a",
   "metadata": {},
   "outputs": [
    {
     "name": "stdout",
     "output_type": "stream",
     "text": [
      "1 spam\n",
      "2 spam\n"
     ]
    }
   ],
   "source": [
    "x.display(); y.display()"
   ]
  },
  {
   "cell_type": "code",
   "execution_count": null,
   "id": "7d52f102-26bd-425c-8c39-8c44a7b14da1",
   "metadata": {},
   "outputs": [],
   "source": [
    "instance.method(args...)\n",
    "class.method(instance, args...)"
   ]
  },
  {
   "cell_type": "code",
   "execution_count": 11,
   "id": "99da3bb2-68ed-4dd2-a850-07a834430f04",
   "metadata": {},
   "outputs": [],
   "source": [
    "class NextClass:\n",
    "    def printer(self, text):\n",
    "        self.message = text\n",
    "        print(self.message)"
   ]
  },
  {
   "cell_type": "code",
   "execution_count": 12,
   "id": "c8409e63-4fa1-411f-877b-015206a4371f",
   "metadata": {},
   "outputs": [],
   "source": [
    "x = NextClass()"
   ]
  },
  {
   "cell_type": "code",
   "execution_count": 13,
   "id": "26ef95b2-b11b-4f79-9a23-8a6c60e381ac",
   "metadata": {},
   "outputs": [
    {
     "name": "stdout",
     "output_type": "stream",
     "text": [
      "instance call\n"
     ]
    }
   ],
   "source": [
    "x .printer('instance call')"
   ]
  },
  {
   "cell_type": "code",
   "execution_count": 14,
   "id": "91109fdb-287f-45b8-88ae-dc1cbf63b93c",
   "metadata": {},
   "outputs": [
    {
     "data": {
      "text/plain": [
       "'instance call'"
      ]
     },
     "execution_count": 14,
     "metadata": {},
     "output_type": "execute_result"
    }
   ],
   "source": [
    "x.message"
   ]
  },
  {
   "cell_type": "code",
   "execution_count": 15,
   "id": "845364f5-43ee-4eca-b976-868b63f0ba0c",
   "metadata": {},
   "outputs": [
    {
     "name": "stdout",
     "output_type": "stream",
     "text": [
      "class call\n"
     ]
    }
   ],
   "source": [
    "NextClass.printer(x, 'class call')"
   ]
  },
  {
   "cell_type": "code",
   "execution_count": 16,
   "id": "0f57b3ae-b333-416e-99ae-b843262d5e35",
   "metadata": {},
   "outputs": [
    {
     "data": {
      "text/plain": [
       "'class call'"
      ]
     },
     "execution_count": 16,
     "metadata": {},
     "output_type": "execute_result"
    }
   ],
   "source": [
    "x.message"
   ]
  },
  {
   "cell_type": "code",
   "execution_count": null,
   "id": "cd936a05-cce9-492b-ba95-6112a79c4cc9",
   "metadata": {},
   "outputs": [],
   "source": [
    "class Super:\n",
    "    def __init__(self, x):\n",
    "        ...default code...\n",
    "        \n",
    "class Sub(Super):\n",
    "    def __init__(self, x, y):\n",
    "        Super.__init__(self, x)\n",
    "        ...custom code..."
   ]
  },
  {
   "cell_type": "code",
   "execution_count": 18,
   "id": "6612cddb-d91a-4f9e-a582-fdf15ec66940",
   "metadata": {},
   "outputs": [],
   "source": [
    "class Super:\n",
    "    def method(self):\n",
    "        print('in Super.method')"
   ]
  },
  {
   "cell_type": "code",
   "execution_count": 19,
   "id": "deedd93d-78b6-4baf-a365-92cbd32f74d9",
   "metadata": {},
   "outputs": [],
   "source": [
    "class Sub(Super):\n",
    "    def method(self):\n",
    "        print('starting: Sub.method')\n",
    "        Super.method(self)\n",
    "        print('ending Sub.method')"
   ]
  },
  {
   "cell_type": "code",
   "execution_count": 20,
   "id": "11178915-9cf6-406b-ac44-bbf0be576cf6",
   "metadata": {},
   "outputs": [],
   "source": [
    "x = Super()"
   ]
  },
  {
   "cell_type": "code",
   "execution_count": 21,
   "id": "ee73fa1d-4bb1-4604-8817-6640744b650a",
   "metadata": {},
   "outputs": [
    {
     "name": "stdout",
     "output_type": "stream",
     "text": [
      "in Super.method\n"
     ]
    }
   ],
   "source": [
    "x.method()"
   ]
  },
  {
   "cell_type": "code",
   "execution_count": 22,
   "id": "715b2b31-48b9-46b3-8b5a-74be25a6eb6d",
   "metadata": {},
   "outputs": [],
   "source": [
    "x = Sub()"
   ]
  },
  {
   "cell_type": "code",
   "execution_count": 23,
   "id": "45d4a6cf-b1ca-4cab-ba0c-aa356bae180a",
   "metadata": {},
   "outputs": [
    {
     "name": "stdout",
     "output_type": "stream",
     "text": [
      "starting: Sub.method\n",
      "in Super.method\n",
      "ending Sub.method\n"
     ]
    }
   ],
   "source": [
    "x.method()"
   ]
  },
  {
   "cell_type": "code",
   "execution_count": 24,
   "id": "ee5e6c94-be70-4741-bf09-61db9e93ecaa",
   "metadata": {},
   "outputs": [],
   "source": [
    "class Super:\n",
    "    def delegate(self):\n",
    "        self.action()\n",
    "    def action(self):\n",
    "        assert False, 'action must be defined!'"
   ]
  },
  {
   "cell_type": "code",
   "execution_count": 25,
   "id": "1c747397-83c9-4203-a9ca-1e08f5a8df6c",
   "metadata": {},
   "outputs": [],
   "source": [
    "X = Super()"
   ]
  },
  {
   "cell_type": "code",
   "execution_count": 26,
   "id": "39e5a7d5-6be5-4e64-ae17-999bc9573a58",
   "metadata": {},
   "outputs": [
    {
     "ename": "AssertionError",
     "evalue": "action must be defined!",
     "output_type": "error",
     "traceback": [
      "\u001b[1;31m---------------------------------------------------------------------------\u001b[0m",
      "\u001b[1;31mAssertionError\u001b[0m                            Traceback (most recent call last)",
      "Cell \u001b[1;32mIn [26], line 1\u001b[0m\n\u001b[1;32m----> 1\u001b[0m \u001b[43mX\u001b[49m\u001b[38;5;241;43m.\u001b[39;49m\u001b[43mdelegate\u001b[49m\u001b[43m(\u001b[49m\u001b[43m)\u001b[49m\n",
      "Cell \u001b[1;32mIn [24], line 3\u001b[0m, in \u001b[0;36mSuper.delegate\u001b[1;34m(self)\u001b[0m\n\u001b[0;32m      2\u001b[0m \u001b[38;5;28;01mdef\u001b[39;00m \u001b[38;5;21mdelegate\u001b[39m(\u001b[38;5;28mself\u001b[39m):\n\u001b[1;32m----> 3\u001b[0m     \u001b[38;5;28;43mself\u001b[39;49m\u001b[38;5;241;43m.\u001b[39;49m\u001b[43maction\u001b[49m\u001b[43m(\u001b[49m\u001b[43m)\u001b[49m\n",
      "Cell \u001b[1;32mIn [24], line 5\u001b[0m, in \u001b[0;36mSuper.action\u001b[1;34m(self)\u001b[0m\n\u001b[0;32m      4\u001b[0m \u001b[38;5;28;01mdef\u001b[39;00m \u001b[38;5;21maction\u001b[39m(\u001b[38;5;28mself\u001b[39m):\n\u001b[1;32m----> 5\u001b[0m     \u001b[38;5;28;01massert\u001b[39;00m \u001b[38;5;28;01mFalse\u001b[39;00m, \u001b[38;5;124m'\u001b[39m\u001b[38;5;124maction must be defined!\u001b[39m\u001b[38;5;124m'\u001b[39m\n",
      "\u001b[1;31mAssertionError\u001b[0m: action must be defined!"
     ]
    }
   ],
   "source": [
    "X.delegate()"
   ]
  },
  {
   "cell_type": "code",
   "execution_count": 27,
   "id": "da8e2f01-9169-444e-9ce7-220de65a1df3",
   "metadata": {},
   "outputs": [],
   "source": [
    "class Super:\n",
    "    def delegate(self):\n",
    "        self.action()\n",
    "    def action(self):\n",
    "        raise NotImplementedError('action must be defined!')"
   ]
  },
  {
   "cell_type": "code",
   "execution_count": 28,
   "id": "9ea45829-60a9-4a6a-bd94-53f8fb937aef",
   "metadata": {},
   "outputs": [],
   "source": [
    "X = Super()"
   ]
  },
  {
   "cell_type": "code",
   "execution_count": 29,
   "id": "3c9e64c3-14ef-4916-ad68-1fb30f960e23",
   "metadata": {},
   "outputs": [
    {
     "ename": "NotImplementedError",
     "evalue": "action must be defined!",
     "output_type": "error",
     "traceback": [
      "\u001b[1;31m---------------------------------------------------------------------------\u001b[0m",
      "\u001b[1;31mNotImplementedError\u001b[0m                       Traceback (most recent call last)",
      "Cell \u001b[1;32mIn [29], line 1\u001b[0m\n\u001b[1;32m----> 1\u001b[0m \u001b[43mX\u001b[49m\u001b[38;5;241;43m.\u001b[39;49m\u001b[43mdelegate\u001b[49m\u001b[43m(\u001b[49m\u001b[43m)\u001b[49m\n",
      "Cell \u001b[1;32mIn [27], line 3\u001b[0m, in \u001b[0;36mSuper.delegate\u001b[1;34m(self)\u001b[0m\n\u001b[0;32m      2\u001b[0m \u001b[38;5;28;01mdef\u001b[39;00m \u001b[38;5;21mdelegate\u001b[39m(\u001b[38;5;28mself\u001b[39m):\n\u001b[1;32m----> 3\u001b[0m     \u001b[38;5;28;43mself\u001b[39;49m\u001b[38;5;241;43m.\u001b[39;49m\u001b[43maction\u001b[49m\u001b[43m(\u001b[49m\u001b[43m)\u001b[49m\n",
      "Cell \u001b[1;32mIn [27], line 5\u001b[0m, in \u001b[0;36mSuper.action\u001b[1;34m(self)\u001b[0m\n\u001b[0;32m      4\u001b[0m \u001b[38;5;28;01mdef\u001b[39;00m \u001b[38;5;21maction\u001b[39m(\u001b[38;5;28mself\u001b[39m):\n\u001b[1;32m----> 5\u001b[0m     \u001b[38;5;28;01mraise\u001b[39;00m \u001b[38;5;167;01mNotImplementedError\u001b[39;00m(\u001b[38;5;124m'\u001b[39m\u001b[38;5;124maction must be defined!\u001b[39m\u001b[38;5;124m'\u001b[39m)\n",
      "\u001b[1;31mNotImplementedError\u001b[0m: action must be defined!"
     ]
    }
   ],
   "source": [
    "X.delegate()"
   ]
  },
  {
   "cell_type": "code",
   "execution_count": 30,
   "id": "f068f7ee-d35d-4fa8-99da-3e4c1743d36d",
   "metadata": {},
   "outputs": [],
   "source": [
    "class Sub(Super): pass"
   ]
  },
  {
   "cell_type": "code",
   "execution_count": 31,
   "id": "47025067-0fb7-46f5-906a-312dbb4249ad",
   "metadata": {},
   "outputs": [],
   "source": [
    "X = Sub()"
   ]
  },
  {
   "cell_type": "code",
   "execution_count": 32,
   "id": "1e415873-4b8b-47be-a741-cb15bbe05a61",
   "metadata": {},
   "outputs": [
    {
     "ename": "NotImplementedError",
     "evalue": "action must be defined!",
     "output_type": "error",
     "traceback": [
      "\u001b[1;31m---------------------------------------------------------------------------\u001b[0m",
      "\u001b[1;31mNotImplementedError\u001b[0m                       Traceback (most recent call last)",
      "Cell \u001b[1;32mIn [32], line 1\u001b[0m\n\u001b[1;32m----> 1\u001b[0m \u001b[43mX\u001b[49m\u001b[38;5;241;43m.\u001b[39;49m\u001b[43mdelegate\u001b[49m\u001b[43m(\u001b[49m\u001b[43m)\u001b[49m\n",
      "Cell \u001b[1;32mIn [27], line 3\u001b[0m, in \u001b[0;36mSuper.delegate\u001b[1;34m(self)\u001b[0m\n\u001b[0;32m      2\u001b[0m \u001b[38;5;28;01mdef\u001b[39;00m \u001b[38;5;21mdelegate\u001b[39m(\u001b[38;5;28mself\u001b[39m):\n\u001b[1;32m----> 3\u001b[0m     \u001b[38;5;28;43mself\u001b[39;49m\u001b[38;5;241;43m.\u001b[39;49m\u001b[43maction\u001b[49m\u001b[43m(\u001b[49m\u001b[43m)\u001b[49m\n",
      "Cell \u001b[1;32mIn [27], line 5\u001b[0m, in \u001b[0;36mSuper.action\u001b[1;34m(self)\u001b[0m\n\u001b[0;32m      4\u001b[0m \u001b[38;5;28;01mdef\u001b[39;00m \u001b[38;5;21maction\u001b[39m(\u001b[38;5;28mself\u001b[39m):\n\u001b[1;32m----> 5\u001b[0m     \u001b[38;5;28;01mraise\u001b[39;00m \u001b[38;5;167;01mNotImplementedError\u001b[39;00m(\u001b[38;5;124m'\u001b[39m\u001b[38;5;124maction must be defined!\u001b[39m\u001b[38;5;124m'\u001b[39m)\n",
      "\u001b[1;31mNotImplementedError\u001b[0m: action must be defined!"
     ]
    }
   ],
   "source": [
    "X.delegate()"
   ]
  },
  {
   "cell_type": "code",
   "execution_count": 33,
   "id": "fddd7470-0bbd-4c65-ad71-9e4ecad524c9",
   "metadata": {},
   "outputs": [],
   "source": [
    "class Sub(Super):\n",
    "    def action(self): print('sapm')"
   ]
  },
  {
   "cell_type": "code",
   "execution_count": 34,
   "id": "1c2e3385-9b8e-4134-9cda-13205123ba71",
   "metadata": {},
   "outputs": [],
   "source": [
    "X = Sub()"
   ]
  },
  {
   "cell_type": "code",
   "execution_count": 35,
   "id": "c68f958b-d389-4c99-80fa-38b075ac2396",
   "metadata": {},
   "outputs": [
    {
     "name": "stdout",
     "output_type": "stream",
     "text": [
      "sapm\n"
     ]
    }
   ],
   "source": [
    "X.delegate()"
   ]
  },
  {
   "cell_type": "code",
   "execution_count": 36,
   "id": "d2a6b02a-bef8-45c8-aee9-15138a8a3c14",
   "metadata": {},
   "outputs": [],
   "source": [
    "from abc import ABCMeta, abstractclassmethod"
   ]
  },
  {
   "cell_type": "code",
   "execution_count": null,
   "id": "c7424268-0cb3-42ae-bed3-018a95077637",
   "metadata": {},
   "outputs": [],
   "source": [
    "class Super(metaclass=ABCMeta):\n",
    "    @abstractmethod\n",
    "    def method(self, ...):\n",
    "        pass"
   ]
  },
  {
   "cell_type": "code",
   "execution_count": 38,
   "id": "003b8b1c-f24c-43d4-8121-06f58495e149",
   "metadata": {},
   "outputs": [],
   "source": [
    "from abc import ABCMeta, abstractmethod"
   ]
  },
  {
   "cell_type": "code",
   "execution_count": 39,
   "id": "cb6f34d4-a56b-4af5-87f2-567c7e93d241",
   "metadata": {},
   "outputs": [],
   "source": [
    "class Super(metaclass=ABCMeta):\n",
    "    def delegate(self):\n",
    "        self.action()\n",
    "    @abstractmethod\n",
    "    def action(self):\n",
    "        pass"
   ]
  },
  {
   "cell_type": "code",
   "execution_count": 40,
   "id": "9a2d4a82-33fc-4e6b-9944-a82eb134942a",
   "metadata": {},
   "outputs": [
    {
     "ename": "TypeError",
     "evalue": "Can't instantiate abstract class Super with abstract method action",
     "output_type": "error",
     "traceback": [
      "\u001b[1;31m---------------------------------------------------------------------------\u001b[0m",
      "\u001b[1;31mTypeError\u001b[0m                                 Traceback (most recent call last)",
      "Cell \u001b[1;32mIn [40], line 1\u001b[0m\n\u001b[1;32m----> 1\u001b[0m X \u001b[38;5;241m=\u001b[39m \u001b[43mSuper\u001b[49m\u001b[43m(\u001b[49m\u001b[43m)\u001b[49m\n",
      "\u001b[1;31mTypeError\u001b[0m: Can't instantiate abstract class Super with abstract method action"
     ]
    }
   ],
   "source": [
    "X = Super()"
   ]
  },
  {
   "cell_type": "code",
   "execution_count": 41,
   "id": "a06dff88-8a3f-4035-8dca-92d282d3bb3d",
   "metadata": {},
   "outputs": [],
   "source": [
    "class Sub(Super): pass"
   ]
  },
  {
   "cell_type": "code",
   "execution_count": 42,
   "id": "8a5e8989-bdcf-4b32-a44f-a0f59d149d53",
   "metadata": {},
   "outputs": [
    {
     "ename": "TypeError",
     "evalue": "Can't instantiate abstract class Sub with abstract method action",
     "output_type": "error",
     "traceback": [
      "\u001b[1;31m---------------------------------------------------------------------------\u001b[0m",
      "\u001b[1;31mTypeError\u001b[0m                                 Traceback (most recent call last)",
      "Cell \u001b[1;32mIn [42], line 1\u001b[0m\n\u001b[1;32m----> 1\u001b[0m X \u001b[38;5;241m=\u001b[39m \u001b[43mSub\u001b[49m\u001b[43m(\u001b[49m\u001b[43m)\u001b[49m\n",
      "\u001b[1;31mTypeError\u001b[0m: Can't instantiate abstract class Sub with abstract method action"
     ]
    }
   ],
   "source": [
    "X = Sub()"
   ]
  },
  {
   "cell_type": "code",
   "execution_count": 43,
   "id": "98f944fc-224d-4b4c-8c95-7c764f2cf47f",
   "metadata": {},
   "outputs": [],
   "source": [
    "class Sub(Super):\n",
    "    def action(self): print('spma')"
   ]
  },
  {
   "cell_type": "code",
   "execution_count": 44,
   "id": "f3c6001c-7f6b-498a-ab5b-8d82cd6a70b1",
   "metadata": {},
   "outputs": [],
   "source": [
    "X = Sub()"
   ]
  },
  {
   "cell_type": "code",
   "execution_count": 45,
   "id": "b85819d3-9396-4c4a-8a51-ad94f26341fe",
   "metadata": {},
   "outputs": [
    {
     "name": "stdout",
     "output_type": "stream",
     "text": [
      "spma\n"
     ]
    }
   ],
   "source": [
    "X.delegate()"
   ]
  },
  {
   "cell_type": "code",
   "execution_count": 1,
   "id": "926de730-680c-4dba-85a9-68e580fb9c83",
   "metadata": {},
   "outputs": [],
   "source": [
    "import manynames"
   ]
  },
  {
   "cell_type": "code",
   "execution_count": 2,
   "id": "b23708bd-0e32-4b78-ae09-8fe3c85e25a7",
   "metadata": {},
   "outputs": [],
   "source": [
    "X = 66"
   ]
  },
  {
   "cell_type": "code",
   "execution_count": 3,
   "id": "22e7e400-33a6-4122-adf4-2aad127d099b",
   "metadata": {},
   "outputs": [
    {
     "name": "stdout",
     "output_type": "stream",
     "text": [
      "66\n"
     ]
    }
   ],
   "source": [
    "print(X)"
   ]
  },
  {
   "cell_type": "code",
   "execution_count": 4,
   "id": "85d5423a-c5e0-47c7-8db1-f6516145f0a9",
   "metadata": {},
   "outputs": [
    {
     "name": "stdout",
     "output_type": "stream",
     "text": [
      "11\n"
     ]
    }
   ],
   "source": [
    "print(manynames.X)"
   ]
  },
  {
   "cell_type": "code",
   "execution_count": 5,
   "id": "0246994d-6c3c-4091-92b8-aef1b0d108e8",
   "metadata": {},
   "outputs": [
    {
     "name": "stdout",
     "output_type": "stream",
     "text": [
      "11\n"
     ]
    }
   ],
   "source": [
    "manynames.f()"
   ]
  },
  {
   "cell_type": "code",
   "execution_count": 6,
   "id": "334cb0f4-6f27-426b-be62-eaec4bf06da3",
   "metadata": {},
   "outputs": [
    {
     "name": "stdout",
     "output_type": "stream",
     "text": [
      "22\n"
     ]
    }
   ],
   "source": [
    "manynames.g()"
   ]
  },
  {
   "cell_type": "code",
   "execution_count": 7,
   "id": "1dd4b54a-b9db-463e-bfeb-58e5397609e2",
   "metadata": {},
   "outputs": [
    {
     "name": "stdout",
     "output_type": "stream",
     "text": [
      "33\n"
     ]
    }
   ],
   "source": [
    "print(manynames.C.X)"
   ]
  },
  {
   "cell_type": "code",
   "execution_count": 8,
   "id": "038106d3-2065-4188-bf4f-5937b81b6f50",
   "metadata": {},
   "outputs": [],
   "source": [
    "I = manynames.C()"
   ]
  },
  {
   "cell_type": "code",
   "execution_count": 9,
   "id": "33f29f29-8999-4e79-aa73-014ac6156d81",
   "metadata": {},
   "outputs": [
    {
     "name": "stdout",
     "output_type": "stream",
     "text": [
      "33\n"
     ]
    }
   ],
   "source": [
    "print(I.X)"
   ]
  },
  {
   "cell_type": "code",
   "execution_count": 10,
   "id": "39639ca3-d42a-4059-ba42-9c3c29ce50af",
   "metadata": {},
   "outputs": [],
   "source": [
    "I.m()"
   ]
  },
  {
   "cell_type": "code",
   "execution_count": 11,
   "id": "ba3795ce-3059-4585-9125-767fd4234479",
   "metadata": {},
   "outputs": [
    {
     "name": "stdout",
     "output_type": "stream",
     "text": [
      "55\n"
     ]
    }
   ],
   "source": [
    "print(I.X)"
   ]
  },
  {
   "cell_type": "code",
   "execution_count": 1,
   "id": "64e9318f-8fbd-4087-88d9-ba48df0e20ee",
   "metadata": {},
   "outputs": [],
   "source": [
    "class Super:\n",
    "    def hello(self):\n",
    "        self.data1 = 'spam'"
   ]
  },
  {
   "cell_type": "code",
   "execution_count": 2,
   "id": "b950261d-d2dd-402d-aa61-20162307f58e",
   "metadata": {},
   "outputs": [],
   "source": [
    "class Sub(Super):\n",
    "    def hola(self):\n",
    "        self.data2 = 'eggs'"
   ]
  },
  {
   "cell_type": "code",
   "execution_count": 3,
   "id": "8d950441-ea55-409a-8d65-69b730ec4400",
   "metadata": {},
   "outputs": [],
   "source": [
    "x = Sub()"
   ]
  },
  {
   "cell_type": "code",
   "execution_count": 4,
   "id": "7e9ccfc8-bfe8-4cbf-9477-52b887060beb",
   "metadata": {},
   "outputs": [
    {
     "data": {
      "text/plain": [
       "{}"
      ]
     },
     "execution_count": 4,
     "metadata": {},
     "output_type": "execute_result"
    }
   ],
   "source": [
    "x.__dict__"
   ]
  },
  {
   "cell_type": "code",
   "execution_count": 5,
   "id": "e74e98d8-c5c1-4af1-8485-18f0f3e67953",
   "metadata": {},
   "outputs": [
    {
     "data": {
      "text/plain": [
       "__main__.Sub"
      ]
     },
     "execution_count": 5,
     "metadata": {},
     "output_type": "execute_result"
    }
   ],
   "source": [
    "x.__class__"
   ]
  },
  {
   "cell_type": "code",
   "execution_count": 6,
   "id": "8d12a0a7-3262-456d-937a-aea063574274",
   "metadata": {},
   "outputs": [
    {
     "data": {
      "text/plain": [
       "(__main__.Super,)"
      ]
     },
     "execution_count": 6,
     "metadata": {},
     "output_type": "execute_result"
    }
   ],
   "source": [
    "Sub.__bases__"
   ]
  },
  {
   "cell_type": "code",
   "execution_count": 7,
   "id": "ac122093-0bc6-41c2-a416-0b3db127a12f",
   "metadata": {},
   "outputs": [
    {
     "data": {
      "text/plain": [
       "(object,)"
      ]
     },
     "execution_count": 7,
     "metadata": {},
     "output_type": "execute_result"
    }
   ],
   "source": [
    "Super.__bases__"
   ]
  },
  {
   "cell_type": "code",
   "execution_count": 8,
   "id": "a57b15d4-be47-4e1b-aad5-75bf0e9a419c",
   "metadata": {},
   "outputs": [],
   "source": [
    "y = Sub()"
   ]
  },
  {
   "cell_type": "code",
   "execution_count": 9,
   "id": "b9767bce-de12-4c3e-9dbb-21b1960e1840",
   "metadata": {},
   "outputs": [],
   "source": [
    "x.hello()"
   ]
  },
  {
   "cell_type": "code",
   "execution_count": 10,
   "id": "ef314eec-ad07-4e01-83db-23e9947c7aaf",
   "metadata": {},
   "outputs": [
    {
     "data": {
      "text/plain": [
       "{'data1': 'spam'}"
      ]
     },
     "execution_count": 10,
     "metadata": {},
     "output_type": "execute_result"
    }
   ],
   "source": [
    "x.__dict__"
   ]
  },
  {
   "cell_type": "code",
   "execution_count": 11,
   "id": "26a1fcd7-7de7-4593-a5d1-93ae1077635c",
   "metadata": {},
   "outputs": [],
   "source": [
    "x.hola()"
   ]
  },
  {
   "cell_type": "code",
   "execution_count": 13,
   "id": "6556ec5a-cfea-46ca-b7c7-12f911815b63",
   "metadata": {},
   "outputs": [
    {
     "data": {
      "text/plain": [
       "{'data1': 'spam', 'data2': 'eggs'}"
      ]
     },
     "execution_count": 13,
     "metadata": {},
     "output_type": "execute_result"
    }
   ],
   "source": [
    "x.__dict__"
   ]
  },
  {
   "cell_type": "code",
   "execution_count": 14,
   "id": "1c0ee1e8-41f7-4696-bbbb-5cee5770fe6e",
   "metadata": {},
   "outputs": [
    {
     "data": {
      "text/plain": [
       "['__module__', 'hola', '__doc__']"
      ]
     },
     "execution_count": 14,
     "metadata": {},
     "output_type": "execute_result"
    }
   ],
   "source": [
    "list(Sub.__dict__.keys())"
   ]
  },
  {
   "cell_type": "code",
   "execution_count": 15,
   "id": "e9b47a2b-9e5b-44ad-91bf-45a5b3c7afde",
   "metadata": {},
   "outputs": [
    {
     "data": {
      "text/plain": [
       "['__module__', 'hello', '__dict__', '__weakref__', '__doc__']"
      ]
     },
     "execution_count": 15,
     "metadata": {},
     "output_type": "execute_result"
    }
   ],
   "source": [
    "list(Super.__dict__.keys())"
   ]
  },
  {
   "cell_type": "code",
   "execution_count": 16,
   "id": "32be8fad-0d04-405b-840e-6a5db8257307",
   "metadata": {},
   "outputs": [
    {
     "data": {
      "text/plain": [
       "{}"
      ]
     },
     "execution_count": 16,
     "metadata": {},
     "output_type": "execute_result"
    }
   ],
   "source": [
    "y.__dict__"
   ]
  },
  {
   "cell_type": "code",
   "execution_count": 17,
   "id": "e5d12948-af2d-4c6c-b8e5-b4f328b283fc",
   "metadata": {},
   "outputs": [
    {
     "data": {
      "text/plain": [
       "('spam', 'spam')"
      ]
     },
     "execution_count": 17,
     "metadata": {},
     "output_type": "execute_result"
    }
   ],
   "source": [
    "x.data1, x.__dict__['data1']"
   ]
  },
  {
   "cell_type": "code",
   "execution_count": 20,
   "id": "8ed969aa-4953-4a71-b709-7bd3bf8b23ef",
   "metadata": {},
   "outputs": [],
   "source": [
    "x.data3 = 'toast'"
   ]
  },
  {
   "cell_type": "code",
   "execution_count": 21,
   "id": "d1c2aa0d-2587-4064-9177-966cda23fe51",
   "metadata": {},
   "outputs": [
    {
     "data": {
      "text/plain": [
       "{'data1': 'spam', 'data2': 'toast', 'data3': 'toast'}"
      ]
     },
     "execution_count": 21,
     "metadata": {},
     "output_type": "execute_result"
    }
   ],
   "source": [
    "x.__dict__"
   ]
  },
  {
   "cell_type": "code",
   "execution_count": 22,
   "id": "8f3612b2-76b2-457f-bc63-e03fcd2e2016",
   "metadata": {},
   "outputs": [],
   "source": [
    "x.__dict__['data3'] = 'ham'"
   ]
  },
  {
   "cell_type": "code",
   "execution_count": 23,
   "id": "c86c65fc-b349-4743-83f8-019dd127cfb1",
   "metadata": {},
   "outputs": [
    {
     "data": {
      "text/plain": [
       "'ham'"
      ]
     },
     "execution_count": 23,
     "metadata": {},
     "output_type": "execute_result"
    }
   ],
   "source": [
    "x.data3"
   ]
  },
  {
   "cell_type": "code",
   "execution_count": 24,
   "id": "4c0e75f3-9735-4aba-83ab-99e4d68280c2",
   "metadata": {},
   "outputs": [],
   "source": [
    "class Emp: pass"
   ]
  },
  {
   "cell_type": "code",
   "execution_count": 25,
   "id": "2a932516-71c1-47ac-98bb-ba3b42513816",
   "metadata": {},
   "outputs": [],
   "source": [
    "class Person(Emp): pass"
   ]
  },
  {
   "cell_type": "code",
   "execution_count": 26,
   "id": "a9243f19-bd51-499a-b1a5-8ae3416165a2",
   "metadata": {},
   "outputs": [],
   "source": [
    "bob = Person()"
   ]
  },
  {
   "cell_type": "code",
   "execution_count": 27,
   "id": "80b5097d-f4f0-4acb-879b-0d0826a303f1",
   "metadata": {},
   "outputs": [],
   "source": [
    "import classtree"
   ]
  },
  {
   "cell_type": "code",
   "execution_count": 28,
   "id": "21be228c-fb15-46f4-b7b7-fb0ab38932e6",
   "metadata": {},
   "outputs": [
    {
     "name": "stdout",
     "output_type": "stream",
     "text": [
      "Tree of <__main__.Person object at 0x0000029750FAF700>\n",
      "...Person\n",
      "......Emp\n",
      ".........object\n"
     ]
    }
   ],
   "source": [
    "classtree.instancetree(bob)"
   ]
  },
  {
   "cell_type": "code",
   "execution_count": 29,
   "id": "0d3bad3c-e916-45a6-b955-eea75a014387",
   "metadata": {},
   "outputs": [],
   "source": [
    "import docstr"
   ]
  },
  {
   "cell_type": "code",
   "execution_count": 30,
   "id": "697b2ed4-4f87-49b6-8fb9-5e4262c63fe3",
   "metadata": {},
   "outputs": [
    {
     "data": {
      "text/plain": [
       "'I am: docstr.__doc__'"
      ]
     },
     "execution_count": 30,
     "metadata": {},
     "output_type": "execute_result"
    }
   ],
   "source": [
    "docstr.__doc__"
   ]
  },
  {
   "cell_type": "code",
   "execution_count": 31,
   "id": "5cc076e5-0b4a-4e2e-be41-d5572ee28970",
   "metadata": {},
   "outputs": [
    {
     "data": {
      "text/plain": [
       "'I am: docstr.func.__doc__'"
      ]
     },
     "execution_count": 31,
     "metadata": {},
     "output_type": "execute_result"
    }
   ],
   "source": [
    "docstr.func.__doc__"
   ]
  },
  {
   "cell_type": "code",
   "execution_count": 32,
   "id": "863a76f7-589e-4210-a8d3-f70e8dab2fcd",
   "metadata": {},
   "outputs": [
    {
     "data": {
      "text/plain": [
       "'I am: spam.__doc__ or docstr.spam.__doc__ or self.__doc__'"
      ]
     },
     "execution_count": 32,
     "metadata": {},
     "output_type": "execute_result"
    }
   ],
   "source": [
    "docstr.spam.__doc__"
   ]
  },
  {
   "cell_type": "code",
   "execution_count": 33,
   "id": "67fee870-7ca9-44b0-b765-734280cb6331",
   "metadata": {},
   "outputs": [
    {
     "data": {
      "text/plain": [
       "'I am: spam.method.__doc__ or self.method.__doc__'"
      ]
     },
     "execution_count": 33,
     "metadata": {},
     "output_type": "execute_result"
    }
   ],
   "source": [
    "docstr.spam.method.__doc__"
   ]
  },
  {
   "cell_type": "code",
   "execution_count": 34,
   "id": "15b19f16-cee8-47fc-ab13-11ffd5a33990",
   "metadata": {},
   "outputs": [],
   "source": [
    "x = docstr.spam()"
   ]
  },
  {
   "cell_type": "code",
   "execution_count": 35,
   "id": "9d5fefda-b74a-45f4-b58d-4293d76ab979",
   "metadata": {},
   "outputs": [
    {
     "name": "stdout",
     "output_type": "stream",
     "text": [
      "I am: spam.__doc__ or docstr.spam.__doc__ or self.__doc__\n",
      "I am: spam.method.__doc__ or self.method.__doc__\n"
     ]
    }
   ],
   "source": [
    "x.method()"
   ]
  },
  {
   "cell_type": "code",
   "execution_count": 36,
   "id": "80911190-dba4-4bfc-ae6e-1a3c6caad471",
   "metadata": {},
   "outputs": [
    {
     "name": "stdout",
     "output_type": "stream",
     "text": [
      "Help on module docstr:\n",
      "\n",
      "NAME\n",
      "    docstr - I am: docstr.__doc__\n",
      "\n",
      "CLASSES\n",
      "    builtins.object\n",
      "        spam\n",
      "    \n",
      "    class spam(builtins.object)\n",
      "     |  I am: spam.__doc__ or docstr.spam.__doc__ or self.__doc__\n",
      "     |  \n",
      "     |  Methods defined here:\n",
      "     |  \n",
      "     |  method(self)\n",
      "     |      I am: spam.method.__doc__ or self.method.__doc__\n",
      "     |  \n",
      "     |  ----------------------------------------------------------------------\n",
      "     |  Data descriptors defined here:\n",
      "     |  \n",
      "     |  __dict__\n",
      "     |      dictionary for instance variables (if defined)\n",
      "     |  \n",
      "     |  __weakref__\n",
      "     |      list of weak references to the object (if defined)\n",
      "\n",
      "FUNCTIONS\n",
      "    func(args)\n",
      "        I am: docstr.func.__doc__\n",
      "\n",
      "FILE\n",
      "    c:\\users\\admin\\documents\\deeplearning\\learning_python\\docstr.py\n",
      "\n",
      "\n"
     ]
    }
   ],
   "source": [
    "help(docstr)"
   ]
  },
  {
   "cell_type": "code",
   "execution_count": null,
   "id": "0fe9c874-1836-47a8-82a6-135776927b6e",
   "metadata": {},
   "outputs": [],
   "source": []
  }
 ],
 "metadata": {
  "kernelspec": {
   "display_name": "Python 3 (ipykernel)",
   "language": "python",
   "name": "python3"
  },
  "language_info": {
   "codemirror_mode": {
    "name": "ipython",
    "version": 3
   },
   "file_extension": ".py",
   "mimetype": "text/x-python",
   "name": "python",
   "nbconvert_exporter": "python",
   "pygments_lexer": "ipython3",
   "version": "3.9.13"
  }
 },
 "nbformat": 4,
 "nbformat_minor": 5
}
