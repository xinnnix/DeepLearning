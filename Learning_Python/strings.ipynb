{
 "cells": [
  {
   "cell_type": "code",
   "execution_count": 1,
   "id": "30e294de-72ca-42ab-b8dc-9c644eca30ab",
   "metadata": {},
   "outputs": [
    {
     "data": {
      "text/plain": [
       "('shrubbery', 'shrubbery')"
      ]
     },
     "execution_count": 1,
     "metadata": {},
     "output_type": "execute_result"
    }
   ],
   "source": [
    "'shrubbery', \"shrubbery\""
   ]
  },
  {
   "cell_type": "code",
   "execution_count": 2,
   "id": "8d94c9b1-3ba1-4bf7-b838-973a8e65d57a",
   "metadata": {},
   "outputs": [
    {
     "data": {
      "text/plain": [
       "('knight\"s', \"knight's\")"
      ]
     },
     "execution_count": 2,
     "metadata": {},
     "output_type": "execute_result"
    }
   ],
   "source": [
    "'knight\"s', \"knight's\""
   ]
  },
  {
   "cell_type": "code",
   "execution_count": 3,
   "id": "2e40eee3-fd1e-4da2-b1a1-4aacbf1b4b59",
   "metadata": {},
   "outputs": [],
   "source": [
    "title = \"Meaning\" 'of' \" Life\""
   ]
  },
  {
   "cell_type": "code",
   "execution_count": 4,
   "id": "40cef3e8-1324-4e60-b087-0dadbc47d549",
   "metadata": {},
   "outputs": [
    {
     "data": {
      "text/plain": [
       "'Meaningof Life'"
      ]
     },
     "execution_count": 4,
     "metadata": {},
     "output_type": "execute_result"
    }
   ],
   "source": [
    "title"
   ]
  },
  {
   "cell_type": "code",
   "execution_count": 5,
   "id": "b14d7088-906a-4885-bf31-70dda2bd8ff5",
   "metadata": {},
   "outputs": [
    {
     "data": {
      "text/plain": [
       "(\"knight's\", 'knight\"s')"
      ]
     },
     "execution_count": 5,
     "metadata": {},
     "output_type": "execute_result"
    }
   ],
   "source": [
    "'knight\\'s', \"knight\\\"s\""
   ]
  },
  {
   "cell_type": "code",
   "execution_count": 6,
   "id": "505272f9-dca1-4627-a564-0d174253047f",
   "metadata": {},
   "outputs": [],
   "source": [
    "s = 'a\\n\\tc'"
   ]
  },
  {
   "cell_type": "code",
   "execution_count": 7,
   "id": "7654d762-9412-4af6-bfab-f43f0e835d96",
   "metadata": {},
   "outputs": [
    {
     "data": {
      "text/plain": [
       "'a\\n\\tc'"
      ]
     },
     "execution_count": 7,
     "metadata": {},
     "output_type": "execute_result"
    }
   ],
   "source": [
    "s"
   ]
  },
  {
   "cell_type": "code",
   "execution_count": 8,
   "id": "21f7781b-797a-4d00-ac47-60638f0a1b34",
   "metadata": {},
   "outputs": [
    {
     "name": "stdout",
     "output_type": "stream",
     "text": [
      "a\n",
      "\tc\n"
     ]
    }
   ],
   "source": [
    "print(s)"
   ]
  },
  {
   "cell_type": "code",
   "execution_count": 9,
   "id": "c4012ab9-f668-4bbb-a6c7-2a771b83dd91",
   "metadata": {},
   "outputs": [
    {
     "data": {
      "text/plain": [
       "4"
      ]
     },
     "execution_count": 9,
     "metadata": {},
     "output_type": "execute_result"
    }
   ],
   "source": [
    "len(s)"
   ]
  },
  {
   "cell_type": "code",
   "execution_count": 11,
   "id": "c0dadd9d-c61b-4fe8-b453-bbcc5f379933",
   "metadata": {},
   "outputs": [],
   "source": [
    "s = 'a\\0b\\bc'"
   ]
  },
  {
   "cell_type": "code",
   "execution_count": 12,
   "id": "d52985e1-21f8-429a-b280-611cfa9a522e",
   "metadata": {},
   "outputs": [
    {
     "data": {
      "text/plain": [
       "'a\\x00b\\x08c'"
      ]
     },
     "execution_count": 12,
     "metadata": {},
     "output_type": "execute_result"
    }
   ],
   "source": [
    "s"
   ]
  },
  {
   "cell_type": "code",
   "execution_count": 13,
   "id": "99cc8265-d938-41f2-bb73-cb14cde4d39c",
   "metadata": {},
   "outputs": [
    {
     "data": {
      "text/plain": [
       "5"
      ]
     },
     "execution_count": 13,
     "metadata": {},
     "output_type": "execute_result"
    }
   ],
   "source": [
    "len(s)"
   ]
  },
  {
   "cell_type": "code",
   "execution_count": 14,
   "id": "11fb61b9-9ad1-420e-8182-150988b9ed55",
   "metadata": {},
   "outputs": [],
   "source": [
    "s = '\\001\\002\\003'"
   ]
  },
  {
   "cell_type": "code",
   "execution_count": 15,
   "id": "326ad46a-fb4e-4bb1-bf13-2dff89411ac6",
   "metadata": {},
   "outputs": [
    {
     "data": {
      "text/plain": [
       "'\\x01\\x02\\x03'"
      ]
     },
     "execution_count": 15,
     "metadata": {},
     "output_type": "execute_result"
    }
   ],
   "source": [
    "s"
   ]
  },
  {
   "cell_type": "code",
   "execution_count": 16,
   "id": "83c50f8e-ef7f-4882-82d7-b0fdacd8e861",
   "metadata": {},
   "outputs": [
    {
     "data": {
      "text/plain": [
       "3"
      ]
     },
     "execution_count": 16,
     "metadata": {},
     "output_type": "execute_result"
    }
   ],
   "source": [
    "len(s)"
   ]
  },
  {
   "cell_type": "code",
   "execution_count": 17,
   "id": "bd405f83-3494-4e89-bdff-bda5d2f17dd1",
   "metadata": {},
   "outputs": [],
   "source": [
    "S = \"s\\tp\\na\\x00m\""
   ]
  },
  {
   "cell_type": "code",
   "execution_count": 18,
   "id": "feaec607-df78-46ed-a9c9-156a1eddccba",
   "metadata": {},
   "outputs": [
    {
     "data": {
      "text/plain": [
       "'s\\tp\\na\\x00m'"
      ]
     },
     "execution_count": 18,
     "metadata": {},
     "output_type": "execute_result"
    }
   ],
   "source": [
    "S"
   ]
  },
  {
   "cell_type": "code",
   "execution_count": 20,
   "id": "3f2abc07-9244-4d09-bb3c-3fc99fb6dbd6",
   "metadata": {},
   "outputs": [
    {
     "data": {
      "text/plain": [
       "7"
      ]
     },
     "execution_count": 20,
     "metadata": {},
     "output_type": "execute_result"
    }
   ],
   "source": [
    "len(S)"
   ]
  },
  {
   "cell_type": "code",
   "execution_count": 21,
   "id": "7f48f431-9981-4b9d-a3be-96dc028e9077",
   "metadata": {},
   "outputs": [
    {
     "name": "stdout",
     "output_type": "stream",
     "text": [
      "s\tp\n",
      "a\u0000m\n"
     ]
    }
   ],
   "source": [
    "print(S)"
   ]
  },
  {
   "cell_type": "code",
   "execution_count": 22,
   "id": "ee0a2d1a-2bc2-4122-b0c8-aa38770e9027",
   "metadata": {},
   "outputs": [],
   "source": [
    "x = \"c:\\py\\code\""
   ]
  },
  {
   "cell_type": "code",
   "execution_count": 23,
   "id": "3cd308ae-912e-46a6-a975-24082aa9f083",
   "metadata": {},
   "outputs": [
    {
     "data": {
      "text/plain": [
       "'c:\\\\py\\\\code'"
      ]
     },
     "execution_count": 23,
     "metadata": {},
     "output_type": "execute_result"
    }
   ],
   "source": [
    "x"
   ]
  },
  {
   "cell_type": "code",
   "execution_count": 24,
   "id": "3df8437a-53dd-49b0-a9b7-28e96b98a66e",
   "metadata": {},
   "outputs": [
    {
     "data": {
      "text/plain": [
       "10"
      ]
     },
     "execution_count": 24,
     "metadata": {},
     "output_type": "execute_result"
    }
   ],
   "source": [
    "len(x)"
   ]
  },
  {
   "cell_type": "code",
   "execution_count": null,
   "id": "7bcca40b-0c22-4fe1-80ef-16328c480b2b",
   "metadata": {},
   "outputs": [],
   "source": []
  }
 ],
 "metadata": {
  "kernelspec": {
   "display_name": "Python 3 (ipykernel)",
   "language": "python",
   "name": "python3"
  },
  "language_info": {
   "codemirror_mode": {
    "name": "ipython",
    "version": 3
   },
   "file_extension": ".py",
   "mimetype": "text/x-python",
   "name": "python",
   "nbconvert_exporter": "python",
   "pygments_lexer": "ipython3",
   "version": "3.9.13"
  }
 },
 "nbformat": 4,
 "nbformat_minor": 5
}
