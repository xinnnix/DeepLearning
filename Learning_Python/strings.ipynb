{
 "cells": [
  {
   "cell_type": "code",
   "execution_count": 1,
   "id": "30e294de-72ca-42ab-b8dc-9c644eca30ab",
   "metadata": {},
   "outputs": [
    {
     "data": {
      "text/plain": [
       "('shrubbery', 'shrubbery')"
      ]
     },
     "execution_count": 1,
     "metadata": {},
     "output_type": "execute_result"
    }
   ],
   "source": [
    "'shrubbery', \"shrubbery\""
   ]
  },
  {
   "cell_type": "code",
   "execution_count": 2,
   "id": "8d94c9b1-3ba1-4bf7-b838-973a8e65d57a",
   "metadata": {},
   "outputs": [
    {
     "data": {
      "text/plain": [
       "('knight\"s', \"knight's\")"
      ]
     },
     "execution_count": 2,
     "metadata": {},
     "output_type": "execute_result"
    }
   ],
   "source": [
    "'knight\"s', \"knight's\""
   ]
  },
  {
   "cell_type": "code",
   "execution_count": 3,
   "id": "2e40eee3-fd1e-4da2-b1a1-4aacbf1b4b59",
   "metadata": {},
   "outputs": [],
   "source": [
    "title = \"Meaning\" 'of' \" Life\""
   ]
  },
  {
   "cell_type": "code",
   "execution_count": 4,
   "id": "40cef3e8-1324-4e60-b087-0dadbc47d549",
   "metadata": {},
   "outputs": [
    {
     "data": {
      "text/plain": [
       "'Meaningof Life'"
      ]
     },
     "execution_count": 4,
     "metadata": {},
     "output_type": "execute_result"
    }
   ],
   "source": [
    "title"
   ]
  },
  {
   "cell_type": "code",
   "execution_count": 5,
   "id": "b14d7088-906a-4885-bf31-70dda2bd8ff5",
   "metadata": {},
   "outputs": [
    {
     "data": {
      "text/plain": [
       "(\"knight's\", 'knight\"s')"
      ]
     },
     "execution_count": 5,
     "metadata": {},
     "output_type": "execute_result"
    }
   ],
   "source": [
    "'knight\\'s', \"knight\\\"s\""
   ]
  },
  {
   "cell_type": "code",
   "execution_count": 6,
   "id": "505272f9-dca1-4627-a564-0d174253047f",
   "metadata": {},
   "outputs": [],
   "source": [
    "s = 'a\\n\\tc'"
   ]
  },
  {
   "cell_type": "code",
   "execution_count": 7,
   "id": "7654d762-9412-4af6-bfab-f43f0e835d96",
   "metadata": {},
   "outputs": [
    {
     "data": {
      "text/plain": [
       "'a\\n\\tc'"
      ]
     },
     "execution_count": 7,
     "metadata": {},
     "output_type": "execute_result"
    }
   ],
   "source": [
    "s"
   ]
  },
  {
   "cell_type": "code",
   "execution_count": 8,
   "id": "21f7781b-797a-4d00-ac47-60638f0a1b34",
   "metadata": {},
   "outputs": [
    {
     "name": "stdout",
     "output_type": "stream",
     "text": [
      "a\n",
      "\tc\n"
     ]
    }
   ],
   "source": [
    "print(s)"
   ]
  },
  {
   "cell_type": "code",
   "execution_count": 9,
   "id": "c4012ab9-f668-4bbb-a6c7-2a771b83dd91",
   "metadata": {},
   "outputs": [
    {
     "data": {
      "text/plain": [
       "4"
      ]
     },
     "execution_count": 9,
     "metadata": {},
     "output_type": "execute_result"
    }
   ],
   "source": [
    "len(s)"
   ]
  },
  {
   "cell_type": "code",
   "execution_count": 11,
   "id": "c0dadd9d-c61b-4fe8-b453-bbcc5f379933",
   "metadata": {},
   "outputs": [],
   "source": [
    "s = 'a\\0b\\bc'"
   ]
  },
  {
   "cell_type": "code",
   "execution_count": 12,
   "id": "d52985e1-21f8-429a-b280-611cfa9a522e",
   "metadata": {},
   "outputs": [
    {
     "data": {
      "text/plain": [
       "'a\\x00b\\x08c'"
      ]
     },
     "execution_count": 12,
     "metadata": {},
     "output_type": "execute_result"
    }
   ],
   "source": [
    "s"
   ]
  },
  {
   "cell_type": "code",
   "execution_count": 13,
   "id": "99cc8265-d938-41f2-bb73-cb14cde4d39c",
   "metadata": {},
   "outputs": [
    {
     "data": {
      "text/plain": [
       "5"
      ]
     },
     "execution_count": 13,
     "metadata": {},
     "output_type": "execute_result"
    }
   ],
   "source": [
    "len(s)"
   ]
  },
  {
   "cell_type": "code",
   "execution_count": 14,
   "id": "11fb61b9-9ad1-420e-8182-150988b9ed55",
   "metadata": {},
   "outputs": [],
   "source": [
    "s = '\\001\\002\\003'"
   ]
  },
  {
   "cell_type": "code",
   "execution_count": 15,
   "id": "326ad46a-fb4e-4bb1-bf13-2dff89411ac6",
   "metadata": {},
   "outputs": [
    {
     "data": {
      "text/plain": [
       "'\\x01\\x02\\x03'"
      ]
     },
     "execution_count": 15,
     "metadata": {},
     "output_type": "execute_result"
    }
   ],
   "source": [
    "s"
   ]
  },
  {
   "cell_type": "code",
   "execution_count": 16,
   "id": "83c50f8e-ef7f-4882-82d7-b0fdacd8e861",
   "metadata": {},
   "outputs": [
    {
     "data": {
      "text/plain": [
       "3"
      ]
     },
     "execution_count": 16,
     "metadata": {},
     "output_type": "execute_result"
    }
   ],
   "source": [
    "len(s)"
   ]
  },
  {
   "cell_type": "code",
   "execution_count": 17,
   "id": "bd405f83-3494-4e89-bdff-bda5d2f17dd1",
   "metadata": {},
   "outputs": [],
   "source": [
    "S = \"s\\tp\\na\\x00m\""
   ]
  },
  {
   "cell_type": "code",
   "execution_count": 18,
   "id": "feaec607-df78-46ed-a9c9-156a1eddccba",
   "metadata": {},
   "outputs": [
    {
     "data": {
      "text/plain": [
       "'s\\tp\\na\\x00m'"
      ]
     },
     "execution_count": 18,
     "metadata": {},
     "output_type": "execute_result"
    }
   ],
   "source": [
    "S"
   ]
  },
  {
   "cell_type": "code",
   "execution_count": 20,
   "id": "3f2abc07-9244-4d09-bb3c-3fc99fb6dbd6",
   "metadata": {},
   "outputs": [
    {
     "data": {
      "text/plain": [
       "7"
      ]
     },
     "execution_count": 20,
     "metadata": {},
     "output_type": "execute_result"
    }
   ],
   "source": [
    "len(S)"
   ]
  },
  {
   "cell_type": "code",
   "execution_count": 21,
   "id": "7f48f431-9981-4b9d-a3be-96dc028e9077",
   "metadata": {},
   "outputs": [
    {
     "name": "stdout",
     "output_type": "stream",
     "text": [
      "s\tp\n",
      "a\u0000m\n"
     ]
    }
   ],
   "source": [
    "print(S)"
   ]
  },
  {
   "cell_type": "code",
   "execution_count": 22,
   "id": "ee0a2d1a-2bc2-4122-b0c8-aa38770e9027",
   "metadata": {},
   "outputs": [],
   "source": [
    "x = \"c:\\py\\code\""
   ]
  },
  {
   "cell_type": "code",
   "execution_count": 23,
   "id": "3cd308ae-912e-46a6-a975-24082aa9f083",
   "metadata": {},
   "outputs": [
    {
     "data": {
      "text/plain": [
       "'c:\\\\py\\\\code'"
      ]
     },
     "execution_count": 23,
     "metadata": {},
     "output_type": "execute_result"
    }
   ],
   "source": [
    "x"
   ]
  },
  {
   "cell_type": "code",
   "execution_count": 24,
   "id": "3df8437a-53dd-49b0-a9b7-28e96b98a66e",
   "metadata": {},
   "outputs": [
    {
     "data": {
      "text/plain": [
       "10"
      ]
     },
     "execution_count": 24,
     "metadata": {},
     "output_type": "execute_result"
    }
   ],
   "source": [
    "len(x)"
   ]
  },
  {
   "cell_type": "code",
   "execution_count": 5,
   "id": "7bcca40b-0c22-4fe1-80ef-16328c480b2b",
   "metadata": {},
   "outputs": [],
   "source": [
    "mantra = \"\"\"Always look\n",
    "    on the bright\n",
    "side of life.\"\"\""
   ]
  },
  {
   "cell_type": "code",
   "execution_count": 6,
   "id": "65d85c4f-4359-4912-9ddf-a6cbe5b7a003",
   "metadata": {},
   "outputs": [
    {
     "data": {
      "text/plain": [
       "'Always look\\n    on the bright\\nside of life.'"
      ]
     },
     "execution_count": 6,
     "metadata": {},
     "output_type": "execute_result"
    }
   ],
   "source": [
    "mantra"
   ]
  },
  {
   "cell_type": "code",
   "execution_count": 7,
   "id": "f8740c62-2997-4a84-8ad4-5218dff535e6",
   "metadata": {},
   "outputs": [
    {
     "name": "stdout",
     "output_type": "stream",
     "text": [
      "Always look\n",
      "    on the bright\n",
      "side of life.\n"
     ]
    }
   ],
   "source": [
    "print(mantra)"
   ]
  },
  {
   "cell_type": "code",
   "execution_count": 8,
   "id": "4240ece1-74bc-4ac1-82e0-b4c9756736fe",
   "metadata": {},
   "outputs": [],
   "source": [
    "menu = '''spam    # comments here added to string!\n",
    "eggs              # ditto\n",
    "'''"
   ]
  },
  {
   "cell_type": "code",
   "execution_count": 9,
   "id": "68e2cf22-9204-4d60-b9b1-81e0bc49db35",
   "metadata": {},
   "outputs": [
    {
     "data": {
      "text/plain": [
       "'spam    # comments here added to string!\\neggs              # ditto\\n'"
      ]
     },
     "execution_count": 9,
     "metadata": {},
     "output_type": "execute_result"
    }
   ],
   "source": [
    "menu"
   ]
  },
  {
   "cell_type": "code",
   "execution_count": 11,
   "id": "913ec4af-3ac0-416b-bbf4-e98fcf854b20",
   "metadata": {},
   "outputs": [
    {
     "name": "stdout",
     "output_type": "stream",
     "text": [
      "spam    # comments here added to string!\n",
      "eggs              # ditto\n",
      "\n"
     ]
    }
   ],
   "source": [
    "print(menu)"
   ]
  },
  {
   "cell_type": "code",
   "execution_count": 12,
   "id": "0a645f98-7954-4109-9106-77fa4edb29a6",
   "metadata": {},
   "outputs": [],
   "source": [
    "menu = (\n",
    "    'spam\\n'     # comments here ignored\n",
    "    'eggs\\n'     # but newlines not automatic\n",
    ")"
   ]
  },
  {
   "cell_type": "code",
   "execution_count": 13,
   "id": "bbf0c6ae-6391-4265-9139-b497a6c74644",
   "metadata": {},
   "outputs": [
    {
     "data": {
      "text/plain": [
       "'spam\\neggs\\n'"
      ]
     },
     "execution_count": 13,
     "metadata": {},
     "output_type": "execute_result"
    }
   ],
   "source": [
    "menu"
   ]
  },
  {
   "cell_type": "code",
   "execution_count": 14,
   "id": "1b36e94a-38bb-4dc9-b112-7ebb88ff65f7",
   "metadata": {},
   "outputs": [
    {
     "name": "stdout",
     "output_type": "stream",
     "text": [
      "spam\n",
      "eggs\n",
      "\n"
     ]
    }
   ],
   "source": [
    "print(menu)"
   ]
  },
  {
   "cell_type": "code",
   "execution_count": 15,
   "id": "7a3bdc84-0617-4364-87b6-cef47add12c6",
   "metadata": {},
   "outputs": [],
   "source": [
    "x = 1\n",
    "'''\n",
    "import os\n",
    "print(os.getcwd())\n",
    "'''\n",
    "y = 2"
   ]
  },
  {
   "cell_type": "code",
   "execution_count": 16,
   "id": "33dbe506-f88c-4f7e-80c3-098e22967c9d",
   "metadata": {},
   "outputs": [
    {
     "data": {
      "text/plain": [
       "3"
      ]
     },
     "execution_count": 16,
     "metadata": {},
     "output_type": "execute_result"
    }
   ],
   "source": [
    "len('abc')"
   ]
  },
  {
   "cell_type": "code",
   "execution_count": 17,
   "id": "c624c38b-5cd1-4c2a-98af-551ac6aadc51",
   "metadata": {},
   "outputs": [
    {
     "data": {
      "text/plain": [
       "'abcdef'"
      ]
     },
     "execution_count": 17,
     "metadata": {},
     "output_type": "execute_result"
    }
   ],
   "source": [
    "'abc' + 'def'"
   ]
  },
  {
   "cell_type": "code",
   "execution_count": 18,
   "id": "ccf66675-ee94-4733-bc1e-ef5fb3cf7fdf",
   "metadata": {},
   "outputs": [
    {
     "data": {
      "text/plain": [
       "'Ni!Ni!Ni!Ni!'"
      ]
     },
     "execution_count": 18,
     "metadata": {},
     "output_type": "execute_result"
    }
   ],
   "source": [
    "'Ni!' * 4"
   ]
  },
  {
   "cell_type": "code",
   "execution_count": 19,
   "id": "3352a681-dee2-4a1c-9cd9-a656285e4b2f",
   "metadata": {},
   "outputs": [
    {
     "name": "stdout",
     "output_type": "stream",
     "text": [
      "--------------------------------------------------------------------------------\n"
     ]
    }
   ],
   "source": [
    "print('-' * 80)"
   ]
  },
  {
   "cell_type": "code",
   "execution_count": 20,
   "id": "ec129cd7-3146-4aa9-9fc8-8b71845eeef1",
   "metadata": {},
   "outputs": [],
   "source": [
    "myjob = 'hacker'"
   ]
  },
  {
   "cell_type": "code",
   "execution_count": 21,
   "id": "29cbdb30-dc23-4e8b-ae7c-6a35d4469135",
   "metadata": {},
   "outputs": [
    {
     "name": "stdout",
     "output_type": "stream",
     "text": [
      "h a c k e r "
     ]
    }
   ],
   "source": [
    "for c in myjob: print(c, end=' ')"
   ]
  },
  {
   "cell_type": "code",
   "execution_count": 22,
   "id": "55b0d89e-1634-40f7-a167-548d0fcd6c15",
   "metadata": {},
   "outputs": [
    {
     "data": {
      "text/plain": [
       "True"
      ]
     },
     "execution_count": 22,
     "metadata": {},
     "output_type": "execute_result"
    }
   ],
   "source": [
    "'k' in myjob"
   ]
  },
  {
   "cell_type": "code",
   "execution_count": 23,
   "id": "fc256cd1-3a9d-4a82-b89e-c07a1269a1e4",
   "metadata": {},
   "outputs": [
    {
     "data": {
      "text/plain": [
       "False"
      ]
     },
     "execution_count": 23,
     "metadata": {},
     "output_type": "execute_result"
    }
   ],
   "source": [
    "'z' in myjob"
   ]
  },
  {
   "cell_type": "code",
   "execution_count": 24,
   "id": "91c357c1-89bc-4db0-afc9-6074c5824330",
   "metadata": {},
   "outputs": [
    {
     "data": {
      "text/plain": [
       "True"
      ]
     },
     "execution_count": 24,
     "metadata": {},
     "output_type": "execute_result"
    }
   ],
   "source": [
    "'spam' in 'abcspamdef'"
   ]
  },
  {
   "cell_type": "code",
   "execution_count": 25,
   "id": "5863077b-3298-4031-8578-444ca4bcc4cd",
   "metadata": {},
   "outputs": [],
   "source": [
    "s = 'spam'"
   ]
  },
  {
   "cell_type": "code",
   "execution_count": 26,
   "id": "fb8ff77c-4965-478a-8ef1-3924820cee90",
   "metadata": {},
   "outputs": [
    {
     "data": {
      "text/plain": [
       "'s'"
      ]
     },
     "execution_count": 26,
     "metadata": {},
     "output_type": "execute_result"
    }
   ],
   "source": [
    "s[0]"
   ]
  },
  {
   "cell_type": "code",
   "execution_count": 27,
   "id": "ff3adf38-84ed-4b78-af78-360e22a17617",
   "metadata": {},
   "outputs": [
    {
     "data": {
      "text/plain": [
       "'a'"
      ]
     },
     "execution_count": 27,
     "metadata": {},
     "output_type": "execute_result"
    }
   ],
   "source": [
    "s[-2]"
   ]
  },
  {
   "cell_type": "code",
   "execution_count": 28,
   "id": "0bff7a23-78ea-4cee-838e-990c0608a805",
   "metadata": {},
   "outputs": [
    {
     "data": {
      "text/plain": [
       "('pa', 'pam', 'spa')"
      ]
     },
     "execution_count": 28,
     "metadata": {},
     "output_type": "execute_result"
    }
   ],
   "source": [
    "s[1:3], s[1:], s[:-1]"
   ]
  },
  {
   "cell_type": "code",
   "execution_count": 29,
   "id": "6ea176ea-4984-41e0-8046-68210b9fcfa6",
   "metadata": {},
   "outputs": [],
   "source": [
    "s  = 'abcdefghijklmnop'"
   ]
  },
  {
   "cell_type": "code",
   "execution_count": 30,
   "id": "f32246d4-0162-4df9-9954-286f69f76b90",
   "metadata": {},
   "outputs": [
    {
     "data": {
      "text/plain": [
       "'bdfhj'"
      ]
     },
     "execution_count": 30,
     "metadata": {},
     "output_type": "execute_result"
    }
   ],
   "source": [
    "s[1:10:2]"
   ]
  },
  {
   "cell_type": "code",
   "execution_count": 31,
   "id": "e4379908-fe4a-4b09-8778-e278f937f67e",
   "metadata": {},
   "outputs": [
    {
     "data": {
      "text/plain": [
       "'acegikmo'"
      ]
     },
     "execution_count": 31,
     "metadata": {},
     "output_type": "execute_result"
    }
   ],
   "source": [
    "s[::2]"
   ]
  },
  {
   "cell_type": "code",
   "execution_count": 32,
   "id": "5f33e2cc-b645-4a1c-8e91-21f615fe6ec0",
   "metadata": {},
   "outputs": [
    {
     "data": {
      "text/plain": [
       "'olleh'"
      ]
     },
     "execution_count": 32,
     "metadata": {},
     "output_type": "execute_result"
    }
   ],
   "source": [
    "'hello'[::-1]"
   ]
  },
  {
   "cell_type": "code",
   "execution_count": 33,
   "id": "d357c52f-367f-41fc-9291-6a49dd65a162",
   "metadata": {},
   "outputs": [],
   "source": [
    "s = 'abcdefg'"
   ]
  },
  {
   "cell_type": "code",
   "execution_count": 35,
   "id": "0b7daba4-5fac-48d1-bf0b-f0248f273095",
   "metadata": {},
   "outputs": [
    {
     "data": {
      "text/plain": [
       "'fedc'"
      ]
     },
     "execution_count": 35,
     "metadata": {},
     "output_type": "execute_result"
    }
   ],
   "source": [
    "s[5:1:-1]"
   ]
  },
  {
   "cell_type": "code",
   "execution_count": 36,
   "id": "bd71672e-402c-49cb-9728-5c801c339e78",
   "metadata": {},
   "outputs": [
    {
     "data": {
      "text/plain": [
       "'pa'"
      ]
     },
     "execution_count": 36,
     "metadata": {},
     "output_type": "execute_result"
    }
   ],
   "source": [
    "'spam'[1:3]"
   ]
  },
  {
   "cell_type": "code",
   "execution_count": 37,
   "id": "2848cd09-63f8-4f71-b1b3-532367fd1ac8",
   "metadata": {},
   "outputs": [
    {
     "data": {
      "text/plain": [
       "'pa'"
      ]
     },
     "execution_count": 37,
     "metadata": {},
     "output_type": "execute_result"
    }
   ],
   "source": [
    "'spam'[slice(1,3)]"
   ]
  },
  {
   "cell_type": "code",
   "execution_count": 38,
   "id": "213fd4f3-6f79-49a7-92ce-6ed3003efe94",
   "metadata": {},
   "outputs": [
    {
     "data": {
      "text/plain": [
       "'maps'"
      ]
     },
     "execution_count": 38,
     "metadata": {},
     "output_type": "execute_result"
    }
   ],
   "source": [
    "'spam'[::-1]"
   ]
  },
  {
   "cell_type": "code",
   "execution_count": 39,
   "id": "2a200cfd-cc96-4d15-a44d-b195777f358b",
   "metadata": {},
   "outputs": [
    {
     "data": {
      "text/plain": [
       "'maps'"
      ]
     },
     "execution_count": 39,
     "metadata": {},
     "output_type": "execute_result"
    }
   ],
   "source": [
    "'spam'[slice(None, None, -1)]"
   ]
  },
  {
   "cell_type": "code",
   "execution_count": 40,
   "id": "7abe919b-c7a3-41a8-9b7b-f47d372787d2",
   "metadata": {},
   "outputs": [
    {
     "name": "stdout",
     "output_type": "stream",
     "text": [
      "['C:\\\\Users\\\\admin\\\\anaconda3\\\\envs\\\\tf\\\\lib\\\\site-packages\\\\ipykernel_launcher.py', '-f', 'C:\\\\Users\\\\admin\\\\AppData\\\\Roaming\\\\jupyter\\\\runtime\\\\kernel-eb5afaf3-1335-43f7-85bd-37748416f276.json']\n"
     ]
    }
   ],
   "source": [
    "import sys\n",
    "print(sys.argv)"
   ]
  },
  {
   "cell_type": "code",
   "execution_count": 41,
   "id": "de71f501-11b4-43bf-8698-9c7143020bc4",
   "metadata": {},
   "outputs": [
    {
     "data": {
      "text/plain": [
       "(42, '42')"
      ]
     },
     "execution_count": 41,
     "metadata": {},
     "output_type": "execute_result"
    }
   ],
   "source": [
    "int('42'), str(42)"
   ]
  },
  {
   "cell_type": "code",
   "execution_count": 42,
   "id": "c8089870-c4a7-4137-8b75-c537c98e44b8",
   "metadata": {},
   "outputs": [
    {
     "data": {
      "text/plain": [
       "'42'"
      ]
     },
     "execution_count": 42,
     "metadata": {},
     "output_type": "execute_result"
    }
   ],
   "source": [
    "repr(42)"
   ]
  },
  {
   "cell_type": "code",
   "execution_count": 43,
   "id": "7b72895d-602f-4e2d-97e3-fa5236258d64",
   "metadata": {},
   "outputs": [
    {
     "name": "stdout",
     "output_type": "stream",
     "text": [
      "spam 'spam'\n"
     ]
    }
   ],
   "source": [
    "print(str('spam'), repr('spam'))"
   ]
  },
  {
   "cell_type": "code",
   "execution_count": 44,
   "id": "dab7ce94-0100-4534-b10c-356148fcc816",
   "metadata": {},
   "outputs": [
    {
     "data": {
      "text/plain": [
       "('spam', \"'spam'\")"
      ]
     },
     "execution_count": 44,
     "metadata": {},
     "output_type": "execute_result"
    }
   ],
   "source": [
    "str('spam'), repr('spam')"
   ]
  },
  {
   "cell_type": "code",
   "execution_count": 45,
   "id": "8a19ff6f-2952-4474-8855-ce8775cbf16b",
   "metadata": {},
   "outputs": [],
   "source": [
    "s = '42'\n",
    "i = 1"
   ]
  },
  {
   "cell_type": "code",
   "execution_count": 47,
   "id": "c129ea47-edab-4d06-ae3e-1c6776c7e78c",
   "metadata": {},
   "outputs": [
    {
     "data": {
      "text/plain": [
       "'421'"
      ]
     },
     "execution_count": 47,
     "metadata": {},
     "output_type": "execute_result"
    }
   ],
   "source": [
    "s + str(i)"
   ]
  },
  {
   "cell_type": "code",
   "execution_count": 48,
   "id": "d53c09f7-7c05-4d27-ba97-09bb7e31c51f",
   "metadata": {},
   "outputs": [
    {
     "data": {
      "text/plain": [
       "('3.1415', 1.5)"
      ]
     },
     "execution_count": 48,
     "metadata": {},
     "output_type": "execute_result"
    }
   ],
   "source": [
    "str(3.1415), float('1.5')"
   ]
  },
  {
   "cell_type": "code",
   "execution_count": 49,
   "id": "82bf997a-ee3e-4c9d-861a-e0b5579925be",
   "metadata": {},
   "outputs": [],
   "source": [
    "text = '1.234e-10'"
   ]
  },
  {
   "cell_type": "code",
   "execution_count": 50,
   "id": "c7d19bee-fd81-43f6-9787-3bc30b631127",
   "metadata": {},
   "outputs": [
    {
     "data": {
      "text/plain": [
       "1.234e-10"
      ]
     },
     "execution_count": 50,
     "metadata": {},
     "output_type": "execute_result"
    }
   ],
   "source": [
    "float(text)"
   ]
  },
  {
   "cell_type": "code",
   "execution_count": 51,
   "id": "da4f956f-62ec-4904-8924-ea9ce11bf155",
   "metadata": {},
   "outputs": [
    {
     "data": {
      "text/plain": [
       "115"
      ]
     },
     "execution_count": 51,
     "metadata": {},
     "output_type": "execute_result"
    }
   ],
   "source": [
    "ord('s')"
   ]
  },
  {
   "cell_type": "code",
   "execution_count": 52,
   "id": "f2695159-ac02-40c8-9a8d-c96f53458871",
   "metadata": {},
   "outputs": [
    {
     "data": {
      "text/plain": [
       "'s'"
      ]
     },
     "execution_count": 52,
     "metadata": {},
     "output_type": "execute_result"
    }
   ],
   "source": [
    "chr(115)"
   ]
  },
  {
   "cell_type": "code",
   "execution_count": 53,
   "id": "f481178d-96c7-4042-bc4c-8936616eb517",
   "metadata": {},
   "outputs": [],
   "source": [
    "s = '5'"
   ]
  },
  {
   "cell_type": "code",
   "execution_count": 54,
   "id": "457c2982-539d-4ab3-a665-4c865a1aea83",
   "metadata": {},
   "outputs": [],
   "source": [
    "s = chr(ord(s) + 1)"
   ]
  },
  {
   "cell_type": "code",
   "execution_count": 55,
   "id": "47b61721-26b8-4b7c-ad57-7e7e160433fa",
   "metadata": {},
   "outputs": [
    {
     "data": {
      "text/plain": [
       "'6'"
      ]
     },
     "execution_count": 55,
     "metadata": {},
     "output_type": "execute_result"
    }
   ],
   "source": [
    "s "
   ]
  },
  {
   "cell_type": "code",
   "execution_count": 56,
   "id": "1b3fa45e-f8ef-4060-917a-8afb045814d0",
   "metadata": {},
   "outputs": [],
   "source": [
    "s = chr(ord(s)+1)"
   ]
  },
  {
   "cell_type": "code",
   "execution_count": 57,
   "id": "21fd2543-bd52-418a-8bce-ee16c3dfd3fe",
   "metadata": {},
   "outputs": [
    {
     "data": {
      "text/plain": [
       "'7'"
      ]
     },
     "execution_count": 57,
     "metadata": {},
     "output_type": "execute_result"
    }
   ],
   "source": [
    "s"
   ]
  },
  {
   "cell_type": "code",
   "execution_count": 58,
   "id": "72fdb85c-dc43-4fde-bc39-1a48a78f3cdb",
   "metadata": {},
   "outputs": [
    {
     "data": {
      "text/plain": [
       "5"
      ]
     },
     "execution_count": 58,
     "metadata": {},
     "output_type": "execute_result"
    }
   ],
   "source": [
    "int('5')"
   ]
  },
  {
   "cell_type": "code",
   "execution_count": 59,
   "id": "dc758e83-37bf-4c6c-8f50-16b04b6a031b",
   "metadata": {},
   "outputs": [
    {
     "data": {
      "text/plain": [
       "5"
      ]
     },
     "execution_count": 59,
     "metadata": {},
     "output_type": "execute_result"
    }
   ],
   "source": [
    "ord('5') - ord('0')"
   ]
  },
  {
   "cell_type": "code",
   "execution_count": 60,
   "id": "64d7bb13-12a0-487f-8ed9-b608fb299793",
   "metadata": {},
   "outputs": [],
   "source": [
    "b = '1101'"
   ]
  },
  {
   "cell_type": "code",
   "execution_count": 61,
   "id": "61b92465-bea7-4209-89b0-39da9941254f",
   "metadata": {},
   "outputs": [],
   "source": [
    "i = 0"
   ]
  },
  {
   "cell_type": "code",
   "execution_count": 63,
   "id": "078ac23d-80a0-4916-8466-61a9bc73babd",
   "metadata": {},
   "outputs": [],
   "source": [
    "while b != '':\n",
    "    i = i*2 + (ord(b[0]) - ord('0'))\n",
    "    b = b[1:]\n",
    "    "
   ]
  },
  {
   "cell_type": "code",
   "execution_count": 64,
   "id": "d7ae0edb-7d9b-45f1-aa6c-31151b8c0055",
   "metadata": {},
   "outputs": [
    {
     "data": {
      "text/plain": [
       "7"
      ]
     },
     "execution_count": 64,
     "metadata": {},
     "output_type": "execute_result"
    }
   ],
   "source": [
    "i"
   ]
  },
  {
   "cell_type": "code",
   "execution_count": 65,
   "id": "288d437d-b3f8-4455-9d18-a3921c3297ec",
   "metadata": {},
   "outputs": [
    {
     "data": {
      "text/plain": [
       "13"
      ]
     },
     "execution_count": 65,
     "metadata": {},
     "output_type": "execute_result"
    }
   ],
   "source": [
    "int('1101', 2)"
   ]
  },
  {
   "cell_type": "code",
   "execution_count": 66,
   "id": "fe7bc6ab-57d9-47f8-afd7-f1f871d9165e",
   "metadata": {},
   "outputs": [
    {
     "data": {
      "text/plain": [
       "'0b1101'"
      ]
     },
     "execution_count": 66,
     "metadata": {},
     "output_type": "execute_result"
    }
   ],
   "source": [
    "bin(13)"
   ]
  },
  {
   "cell_type": "code",
   "execution_count": 67,
   "id": "e62369dd-3af5-4233-b3d6-46ff9ed7b54d",
   "metadata": {},
   "outputs": [],
   "source": [
    "s = 'spam'"
   ]
  },
  {
   "cell_type": "code",
   "execution_count": 68,
   "id": "7e99ad25-684e-41fa-b2a8-6a7961e10ecb",
   "metadata": {},
   "outputs": [
    {
     "data": {
      "text/plain": [
       "'s'"
      ]
     },
     "execution_count": 68,
     "metadata": {},
     "output_type": "execute_result"
    }
   ],
   "source": [
    "s[0]"
   ]
  },
  {
   "cell_type": "code",
   "execution_count": 69,
   "id": "569c13ec-3d37-4ff8-af28-067142e00535",
   "metadata": {},
   "outputs": [],
   "source": [
    "s = s + 'SPAM'"
   ]
  },
  {
   "cell_type": "code",
   "execution_count": 70,
   "id": "993d18dd-7458-42dc-a253-63ea44b2511c",
   "metadata": {},
   "outputs": [
    {
     "data": {
      "text/plain": [
       "'spamSPAM'"
      ]
     },
     "execution_count": 70,
     "metadata": {},
     "output_type": "execute_result"
    }
   ],
   "source": [
    "s "
   ]
  },
  {
   "cell_type": "code",
   "execution_count": 72,
   "id": "dad0f9d8-0062-49d3-aa91-78e57392441a",
   "metadata": {},
   "outputs": [],
   "source": [
    "s = s[:4] + 'Burger' + s[-1]"
   ]
  },
  {
   "cell_type": "code",
   "execution_count": 73,
   "id": "c6d00d36-5064-4c75-9feb-dbb968aedd94",
   "metadata": {},
   "outputs": [
    {
     "data": {
      "text/plain": [
       "'spamBurgerM'"
      ]
     },
     "execution_count": 73,
     "metadata": {},
     "output_type": "execute_result"
    }
   ],
   "source": [
    "s"
   ]
  },
  {
   "cell_type": "code",
   "execution_count": 74,
   "id": "eb3fd532-98a9-4ac2-8189-b8930acd8c72",
   "metadata": {},
   "outputs": [],
   "source": [
    "s = 'splot'"
   ]
  },
  {
   "cell_type": "code",
   "execution_count": 75,
   "id": "2f540faa-7f59-4f60-941c-52eebd450ecd",
   "metadata": {},
   "outputs": [],
   "source": [
    "s = s.replace('pl', 'pamal')"
   ]
  },
  {
   "cell_type": "code",
   "execution_count": 76,
   "id": "99ecb435-9557-4a00-b452-83f2c430d058",
   "metadata": {},
   "outputs": [
    {
     "data": {
      "text/plain": [
       "'spamalot'"
      ]
     },
     "execution_count": 76,
     "metadata": {},
     "output_type": "execute_result"
    }
   ],
   "source": [
    "s"
   ]
  },
  {
   "cell_type": "code",
   "execution_count": 77,
   "id": "00a892a9-aa6c-4f63-aa42-2257bd0d90a2",
   "metadata": {},
   "outputs": [
    {
     "data": {
      "text/plain": [
       "'That is 1 dead bird!'"
      ]
     },
     "execution_count": 77,
     "metadata": {},
     "output_type": "execute_result"
    }
   ],
   "source": [
    "'That is %d %s bird!' % (1, 'dead')"
   ]
  },
  {
   "cell_type": "code",
   "execution_count": 78,
   "id": "2f969bb5-c641-4a56-9638-1f51d8419f04",
   "metadata": {},
   "outputs": [
    {
     "data": {
      "text/plain": [
       "'That is 1 dead bird!'"
      ]
     },
     "execution_count": 78,
     "metadata": {},
     "output_type": "execute_result"
    }
   ],
   "source": [
    "'That is {0} {1} bird!'.format(1, 'dead')"
   ]
  },
  {
   "cell_type": "code",
   "execution_count": 79,
   "id": "55a81a90-4500-40df-bce2-4a7748a63837",
   "metadata": {},
   "outputs": [],
   "source": [
    "s = 'spam'"
   ]
  },
  {
   "cell_type": "code",
   "execution_count": 80,
   "id": "cb2e3658-0d0a-4707-9795-34f87b067b1f",
   "metadata": {},
   "outputs": [],
   "source": [
    "result = s.find('pa')"
   ]
  },
  {
   "cell_type": "code",
   "execution_count": 81,
   "id": "821d5099-a8e0-4a97-8bfd-00c61bbfda21",
   "metadata": {},
   "outputs": [
    {
     "data": {
      "text/plain": [
       "1"
      ]
     },
     "execution_count": 81,
     "metadata": {},
     "output_type": "execute_result"
    }
   ],
   "source": [
    "result"
   ]
  },
  {
   "cell_type": "code",
   "execution_count": 82,
   "id": "d727ce2f-a51f-4cb1-b7ff-0f8c76aceddc",
   "metadata": {},
   "outputs": [],
   "source": [
    "s = 'spammy'"
   ]
  },
  {
   "cell_type": "code",
   "execution_count": 83,
   "id": "79b0c5eb-169c-48e6-890b-a5e32a80febb",
   "metadata": {},
   "outputs": [],
   "source": [
    "s = s[:3] + 'xx' + s[5:]"
   ]
  },
  {
   "cell_type": "code",
   "execution_count": 84,
   "id": "f7a5141c-e745-45cd-a57a-3e989dbf28f1",
   "metadata": {},
   "outputs": [
    {
     "data": {
      "text/plain": [
       "'spaxxy'"
      ]
     },
     "execution_count": 84,
     "metadata": {},
     "output_type": "execute_result"
    }
   ],
   "source": [
    "s"
   ]
  },
  {
   "cell_type": "code",
   "execution_count": 85,
   "id": "8caf2245-1515-4d6c-b53f-278158ddeddb",
   "metadata": {},
   "outputs": [],
   "source": [
    "s = 'spammy'"
   ]
  },
  {
   "cell_type": "code",
   "execution_count": 86,
   "id": "ed2f0aac-c094-4814-bcb6-a9d66f5759e0",
   "metadata": {},
   "outputs": [],
   "source": [
    "s = s.replace('mm', 'xx')"
   ]
  },
  {
   "cell_type": "code",
   "execution_count": 87,
   "id": "f205447e-7bb7-49e3-9f47-6ed8ea486aef",
   "metadata": {},
   "outputs": [
    {
     "data": {
      "text/plain": [
       "'spaxxy'"
      ]
     },
     "execution_count": 87,
     "metadata": {},
     "output_type": "execute_result"
    }
   ],
   "source": [
    "s"
   ]
  },
  {
   "cell_type": "code",
   "execution_count": 88,
   "id": "a23860ca-54c6-4bc6-8bde-0f04b1243607",
   "metadata": {},
   "outputs": [
    {
     "data": {
      "text/plain": [
       "'aaSPAMbbSPAMccSPAMdd'"
      ]
     },
     "execution_count": 88,
     "metadata": {},
     "output_type": "execute_result"
    }
   ],
   "source": [
    "'aa$bb$cc$dd'.replace('$', 'SPAM')"
   ]
  },
  {
   "cell_type": "code",
   "execution_count": 89,
   "id": "c5ecc244-f45a-48d0-aab2-4d7af2fe4369",
   "metadata": {},
   "outputs": [],
   "source": [
    "s = 'xxxxSPAMxxxxSPAMxxxx'"
   ]
  },
  {
   "cell_type": "code",
   "execution_count": 90,
   "id": "da48fd18-09b1-4268-8777-9fdca794b9cd",
   "metadata": {},
   "outputs": [],
   "source": [
    "where = s.find('SPAM')"
   ]
  },
  {
   "cell_type": "code",
   "execution_count": 91,
   "id": "50422963-cbbb-494d-9a00-db660c3b0209",
   "metadata": {},
   "outputs": [
    {
     "data": {
      "text/plain": [
       "4"
      ]
     },
     "execution_count": 91,
     "metadata": {},
     "output_type": "execute_result"
    }
   ],
   "source": [
    "where"
   ]
  },
  {
   "cell_type": "code",
   "execution_count": 93,
   "id": "14d9c777-7420-49fc-b71a-b275f38ac946",
   "metadata": {},
   "outputs": [],
   "source": [
    "s = s[:where] + 'EGGS' +s[(where+4):]"
   ]
  },
  {
   "cell_type": "code",
   "execution_count": 94,
   "id": "125cc73d-a4fb-4110-85fd-7e7ea09ff571",
   "metadata": {},
   "outputs": [
    {
     "data": {
      "text/plain": [
       "'xxxxEGGSxxxxSPAMxxxx'"
      ]
     },
     "execution_count": 94,
     "metadata": {},
     "output_type": "execute_result"
    }
   ],
   "source": [
    "s"
   ]
  },
  {
   "cell_type": "code",
   "execution_count": 95,
   "id": "ac9101d1-954b-402c-8d1c-4c558a96f4dd",
   "metadata": {},
   "outputs": [],
   "source": [
    "s = 'spammy'"
   ]
  },
  {
   "cell_type": "code",
   "execution_count": 96,
   "id": "348670a3-8699-408c-a86c-f1a43966b4b9",
   "metadata": {},
   "outputs": [],
   "source": [
    "L = list(s)"
   ]
  },
  {
   "cell_type": "code",
   "execution_count": 97,
   "id": "6a7b086e-4713-4743-b30f-cca4c8b44cd8",
   "metadata": {},
   "outputs": [
    {
     "data": {
      "text/plain": [
       "['s', 'p', 'a', 'm', 'm', 'y']"
      ]
     },
     "execution_count": 97,
     "metadata": {},
     "output_type": "execute_result"
    }
   ],
   "source": [
    "L"
   ]
  },
  {
   "cell_type": "code",
   "execution_count": 98,
   "id": "b31da288-5be6-46ac-b0d1-09c51bcb8fec",
   "metadata": {},
   "outputs": [],
   "source": [
    "L[3] = 'x'"
   ]
  },
  {
   "cell_type": "code",
   "execution_count": 99,
   "id": "58f3e2c6-acb1-4287-9e73-c04e6b2be1c9",
   "metadata": {},
   "outputs": [],
   "source": [
    "L[4] = 'x'"
   ]
  },
  {
   "cell_type": "code",
   "execution_count": 100,
   "id": "e7c0f681-5361-4939-b3e6-0e779c244f5c",
   "metadata": {},
   "outputs": [
    {
     "data": {
      "text/plain": [
       "['s', 'p', 'a', 'x', 'x', 'y']"
      ]
     },
     "execution_count": 100,
     "metadata": {},
     "output_type": "execute_result"
    }
   ],
   "source": [
    "L"
   ]
  },
  {
   "cell_type": "code",
   "execution_count": 101,
   "id": "39153e55-3491-4b1b-80d3-5465626e1bf3",
   "metadata": {},
   "outputs": [],
   "source": [
    "s = ''.join(L)"
   ]
  },
  {
   "cell_type": "code",
   "execution_count": 102,
   "id": "42f67ecd-f8c2-4964-ae73-94aa4d3c877a",
   "metadata": {},
   "outputs": [
    {
     "data": {
      "text/plain": [
       "'spaxxy'"
      ]
     },
     "execution_count": 102,
     "metadata": {},
     "output_type": "execute_result"
    }
   ],
   "source": [
    "s"
   ]
  },
  {
   "cell_type": "code",
   "execution_count": 103,
   "id": "0a6c2658-be25-4a30-9501-7a86f5cb2e73",
   "metadata": {},
   "outputs": [
    {
     "data": {
      "text/plain": [
       "'eggsSPAMsausageSPAMhamSPAMtoast'"
      ]
     },
     "execution_count": 103,
     "metadata": {},
     "output_type": "execute_result"
    }
   ],
   "source": [
    "'SPAM'.join(['eggs', 'sausage', 'ham', 'toast'])"
   ]
  },
  {
   "cell_type": "code",
   "execution_count": 104,
   "id": "7556a28a-6762-4f10-ae13-a0f5e5e19d14",
   "metadata": {},
   "outputs": [],
   "source": [
    "line = 'aaa bbb ccc'"
   ]
  },
  {
   "cell_type": "code",
   "execution_count": 105,
   "id": "124c34e0-8c36-417f-a4db-971178f57bb9",
   "metadata": {},
   "outputs": [],
   "source": [
    "cols = line.split()"
   ]
  },
  {
   "cell_type": "code",
   "execution_count": 106,
   "id": "d52dcc84-240f-41dd-bbfa-96aba96eaf24",
   "metadata": {},
   "outputs": [
    {
     "data": {
      "text/plain": [
       "['aaa', 'bbb', 'ccc']"
      ]
     },
     "execution_count": 106,
     "metadata": {},
     "output_type": "execute_result"
    }
   ],
   "source": [
    "cols"
   ]
  },
  {
   "cell_type": "code",
   "execution_count": 107,
   "id": "1972b193-bca4-4ed4-a894-30cca3ef7dfb",
   "metadata": {},
   "outputs": [],
   "source": [
    "line = 'bob,hacker,40'"
   ]
  },
  {
   "cell_type": "code",
   "execution_count": 108,
   "id": "6e4e2cd8-b4fc-44dd-bb9c-5cd234591435",
   "metadata": {},
   "outputs": [
    {
     "data": {
      "text/plain": [
       "['bob', 'hacker', '40']"
      ]
     },
     "execution_count": 108,
     "metadata": {},
     "output_type": "execute_result"
    }
   ],
   "source": [
    "line.split(',')"
   ]
  },
  {
   "cell_type": "code",
   "execution_count": 109,
   "id": "e4fbe962-291b-4515-9838-6483fe98e099",
   "metadata": {},
   "outputs": [],
   "source": [
    "line = 'The knights who say Ni!\\n'"
   ]
  },
  {
   "cell_type": "code",
   "execution_count": 110,
   "id": "bf2cd893-0f52-4cd0-83c6-63ed7407c8dd",
   "metadata": {},
   "outputs": [
    {
     "data": {
      "text/plain": [
       "'The knights who say Ni!'"
      ]
     },
     "execution_count": 110,
     "metadata": {},
     "output_type": "execute_result"
    }
   ],
   "source": [
    "line.rstrip()"
   ]
  },
  {
   "cell_type": "code",
   "execution_count": 111,
   "id": "805cfafc-2be8-4598-8ed7-73dd9cb6cfa9",
   "metadata": {},
   "outputs": [
    {
     "data": {
      "text/plain": [
       "'THE KNIGHTS WHO SAY NI!\\n'"
      ]
     },
     "execution_count": 111,
     "metadata": {},
     "output_type": "execute_result"
    }
   ],
   "source": [
    "line.upper()"
   ]
  },
  {
   "cell_type": "code",
   "execution_count": 112,
   "id": "f3352974-a108-4f49-ae5f-66a0e416099b",
   "metadata": {},
   "outputs": [
    {
     "data": {
      "text/plain": [
       "False"
      ]
     },
     "execution_count": 112,
     "metadata": {},
     "output_type": "execute_result"
    }
   ],
   "source": [
    "line.isalpha()"
   ]
  },
  {
   "cell_type": "code",
   "execution_count": 113,
   "id": "9f67e8d5-bdba-420c-bb8c-463d2c8ffe79",
   "metadata": {},
   "outputs": [
    {
     "data": {
      "text/plain": [
       "True"
      ]
     },
     "execution_count": 113,
     "metadata": {},
     "output_type": "execute_result"
    }
   ],
   "source": [
    "line.endswith('Ni!\\n')"
   ]
  },
  {
   "cell_type": "code",
   "execution_count": 114,
   "id": "ba8fb814-4015-45d7-8376-316be0293674",
   "metadata": {},
   "outputs": [
    {
     "data": {
      "text/plain": [
       "True"
      ]
     },
     "execution_count": 114,
     "metadata": {},
     "output_type": "execute_result"
    }
   ],
   "source": [
    "line.startswith('The')"
   ]
  },
  {
   "cell_type": "code",
   "execution_count": 115,
   "id": "63772c1b-37ac-4d6d-bdeb-1a1f7f125cd2",
   "metadata": {},
   "outputs": [
    {
     "data": {
      "text/plain": [
       "'The knights who say Ni!\\n'"
      ]
     },
     "execution_count": 115,
     "metadata": {},
     "output_type": "execute_result"
    }
   ],
   "source": [
    "line"
   ]
  },
  {
   "cell_type": "code",
   "execution_count": 118,
   "id": "e011e651-5d41-4fd3-9225-8df15de3aa2c",
   "metadata": {},
   "outputs": [
    {
     "data": {
      "text/plain": [
       "True"
      ]
     },
     "execution_count": 118,
     "metadata": {},
     "output_type": "execute_result"
    }
   ],
   "source": [
    "line.find('Ni') != -1"
   ]
  },
  {
   "cell_type": "code",
   "execution_count": 119,
   "id": "228264f7-aef5-4ac3-a231-eae05897af69",
   "metadata": {},
   "outputs": [
    {
     "data": {
      "text/plain": [
       "True"
      ]
     },
     "execution_count": 119,
     "metadata": {},
     "output_type": "execute_result"
    }
   ],
   "source": [
    "'Ni' in line"
   ]
  },
  {
   "cell_type": "code",
   "execution_count": 120,
   "id": "2279e431-7923-4683-b394-a7c2e169f34d",
   "metadata": {},
   "outputs": [],
   "source": [
    "sub = 'Ni!\\n'"
   ]
  },
  {
   "cell_type": "code",
   "execution_count": 121,
   "id": "861dfc35-cdbe-48ba-8941-52c75cbda965",
   "metadata": {},
   "outputs": [
    {
     "data": {
      "text/plain": [
       "True"
      ]
     },
     "execution_count": 121,
     "metadata": {},
     "output_type": "execute_result"
    }
   ],
   "source": [
    "line.endswith(sub)"
   ]
  },
  {
   "cell_type": "code",
   "execution_count": 123,
   "id": "dec4861a-1713-4f9f-b28d-5b29e46759c4",
   "metadata": {},
   "outputs": [
    {
     "data": {
      "text/plain": [
       "True"
      ]
     },
     "execution_count": 123,
     "metadata": {},
     "output_type": "execute_result"
    }
   ],
   "source": [
    "line[-len(sub):] == sub"
   ]
  },
  {
   "cell_type": "code",
   "execution_count": 3,
   "id": "69d1b51c-8dd2-446a-8caa-93bcd42be963",
   "metadata": {},
   "outputs": [],
   "source": [
    "s = 'a+b+c+'"
   ]
  },
  {
   "cell_type": "code",
   "execution_count": 4,
   "id": "07c9df61-1c59-48fb-94c7-be49f2527e00",
   "metadata": {},
   "outputs": [],
   "source": [
    "x = s.replace('+', 'spam')"
   ]
  },
  {
   "cell_type": "code",
   "execution_count": 5,
   "id": "0d43a303-c056-44a3-ba64-8c3b48561738",
   "metadata": {},
   "outputs": [
    {
     "data": {
      "text/plain": [
       "'aspambspamcspam'"
      ]
     },
     "execution_count": 5,
     "metadata": {},
     "output_type": "execute_result"
    }
   ],
   "source": [
    "x"
   ]
  },
  {
   "cell_type": "code",
   "execution_count": 8,
   "id": "b46b7143-1fed-4c52-a9f6-6a5ecbfaa520",
   "metadata": {},
   "outputs": [
    {
     "name": "stdout",
     "output_type": "stream",
     "text": [
      "The Zen of Python, by Tim Peters\n",
      "\n",
      "Beautiful is better than ugly.\n",
      "Explicit is better than implicit.\n",
      "Simple is better than complex.\n",
      "Complex is better than complicated.\n",
      "Flat is better than nested.\n",
      "Sparse is better than dense.\n",
      "Readability counts.\n",
      "Special cases aren't special enough to break the rules.\n",
      "Although practicality beats purity.\n",
      "Errors should never pass silently.\n",
      "Unless explicitly silenced.\n",
      "In the face of ambiguity, refuse the temptation to guess.\n",
      "There should be one-- and preferably only one --obvious way to do it.\n",
      "Although that way may not be obvious at first unless you're Dutch.\n",
      "Now is better than never.\n",
      "Although never is often better than *right* now.\n",
      "If the implementation is hard to explain, it's a bad idea.\n",
      "If the implementation is easy to explain, it may be a good idea.\n",
      "Namespaces are one honking great idea -- let's do more of those!\n"
     ]
    }
   ],
   "source": [
    "import this"
   ]
  },
  {
   "cell_type": "code",
   "execution_count": 9,
   "id": "009deff5-4328-421f-a6dc-ba54a2290497",
   "metadata": {},
   "outputs": [
    {
     "data": {
      "text/plain": [
       "'That is 1 dead bird!'"
      ]
     },
     "execution_count": 9,
     "metadata": {},
     "output_type": "execute_result"
    }
   ],
   "source": [
    "'That is %d %s bird!' % (1, 'dead')"
   ]
  },
  {
   "cell_type": "code",
   "execution_count": 10,
   "id": "16f5fb14-632d-4c0a-bb01-da2f1f04d3a6",
   "metadata": {},
   "outputs": [],
   "source": [
    "exclamation = 'Ni'"
   ]
  },
  {
   "cell_type": "code",
   "execution_count": 11,
   "id": "23c2d455-c090-4704-b6ac-108e3bde0c4a",
   "metadata": {},
   "outputs": [
    {
     "data": {
      "text/plain": [
       "'The knights who say Ni!'"
      ]
     },
     "execution_count": 11,
     "metadata": {},
     "output_type": "execute_result"
    }
   ],
   "source": [
    "'The knights who say %s!' % exclamation"
   ]
  },
  {
   "cell_type": "code",
   "execution_count": 12,
   "id": "7fafdc6f-07a6-4a8e-b269-00dcdfeca8a1",
   "metadata": {},
   "outputs": [
    {
     "data": {
      "text/plain": [
       "'1 spam 4 you'"
      ]
     },
     "execution_count": 12,
     "metadata": {},
     "output_type": "execute_result"
    }
   ],
   "source": [
    "'%d %s %g you' % (1, 'spam', 4.0)"
   ]
  },
  {
   "cell_type": "code",
   "execution_count": 13,
   "id": "17eddcf1-427c-42e4-ad45-cd8c75bb71d0",
   "metadata": {},
   "outputs": [
    {
     "data": {
      "text/plain": [
       "'42 -- 3.14159 -- [1, 2, 3]'"
      ]
     },
     "execution_count": 13,
     "metadata": {},
     "output_type": "execute_result"
    }
   ],
   "source": [
    "'%s -- %s -- %s' % (42, 3.14159, [1, 2, 3])"
   ]
  },
  {
   "cell_type": "code",
   "execution_count": 14,
   "id": "e682e9f1-f8d0-46bb-b970-f733858dd172",
   "metadata": {},
   "outputs": [],
   "source": [
    "x = 1234"
   ]
  },
  {
   "cell_type": "code",
   "execution_count": 17,
   "id": "e30927ea-2c53-42ce-a463-29a2a468cb4e",
   "metadata": {},
   "outputs": [],
   "source": [
    "res = 'integers: ...%d...%-6d...%06d' % (x, x, x)"
   ]
  },
  {
   "cell_type": "code",
   "execution_count": 18,
   "id": "bafd9e52-8186-4b44-bdee-52de42f9633e",
   "metadata": {},
   "outputs": [
    {
     "data": {
      "text/plain": [
       "'integers: ...1234...1234  ...001234'"
      ]
     },
     "execution_count": 18,
     "metadata": {},
     "output_type": "execute_result"
    }
   ],
   "source": [
    "res"
   ]
  },
  {
   "cell_type": "code",
   "execution_count": 21,
   "id": "ce90425b-dacb-46a3-8a7a-7629bd41385c",
   "metadata": {},
   "outputs": [],
   "source": [
    "x = 1.23456789"
   ]
  },
  {
   "cell_type": "code",
   "execution_count": 22,
   "id": "8f3ef84f-ba47-462e-b444-69fbb0258e47",
   "metadata": {},
   "outputs": [
    {
     "data": {
      "text/plain": [
       "1.23456789"
      ]
     },
     "execution_count": 22,
     "metadata": {},
     "output_type": "execute_result"
    }
   ],
   "source": [
    "x"
   ]
  },
  {
   "cell_type": "code",
   "execution_count": 23,
   "id": "529cf59f-e61c-496c-8884-e8fee522fa52",
   "metadata": {},
   "outputs": [
    {
     "data": {
      "text/plain": [
       "'1.234568e+00 | 1.234568 | 1.23457'"
      ]
     },
     "execution_count": 23,
     "metadata": {},
     "output_type": "execute_result"
    }
   ],
   "source": [
    "'%e | %f | %g' % (x, x, x)"
   ]
  },
  {
   "cell_type": "code",
   "execution_count": 24,
   "id": "15f6c1fd-b1dc-4cf6-b7b6-ccd60e2e3ba1",
   "metadata": {},
   "outputs": [
    {
     "data": {
      "text/plain": [
       "'1.234568E+00'"
      ]
     },
     "execution_count": 24,
     "metadata": {},
     "output_type": "execute_result"
    }
   ],
   "source": [
    "'%E' % x"
   ]
  },
  {
   "cell_type": "code",
   "execution_count": 25,
   "id": "625f79c9-3bb0-494a-b570-bd156a86246c",
   "metadata": {},
   "outputs": [
    {
     "data": {
      "text/plain": [
       "'1.23   | 01.23 | +001.2'"
      ]
     },
     "execution_count": 25,
     "metadata": {},
     "output_type": "execute_result"
    }
   ],
   "source": [
    "'%-6.2f | %05.2f | %+06.1f' % (x, x, x)"
   ]
  },
  {
   "cell_type": "code",
   "execution_count": 26,
   "id": "5b76ed64-3204-4d12-a6d4-f37ea6f7d550",
   "metadata": {},
   "outputs": [
    {
     "data": {
      "text/plain": [
       "('1.23456789', '1.23456789')"
      ]
     },
     "execution_count": 26,
     "metadata": {},
     "output_type": "execute_result"
    }
   ],
   "source": [
    "'%s' % x, str(x)"
   ]
  },
  {
   "cell_type": "code",
   "execution_count": 28,
   "id": "97e75ddf-d5a4-4adc-aa89-e3780b54abcb",
   "metadata": {},
   "outputs": [
    {
     "data": {
      "text/plain": [
       "'0.333333, 0.33, 0.3333'"
      ]
     },
     "execution_count": 28,
     "metadata": {},
     "output_type": "execute_result"
    }
   ],
   "source": [
    "'%f, %.2f, %.*f' % (1/3.0, 1/3.0, 4, 1/3.0)"
   ]
  },
  {
   "cell_type": "code",
   "execution_count": 29,
   "id": "4440c5f1-0513-4343-8c90-a1e9ae421255",
   "metadata": {},
   "outputs": [
    {
     "data": {
      "text/plain": [
       "'1 more spam'"
      ]
     },
     "execution_count": 29,
     "metadata": {},
     "output_type": "execute_result"
    }
   ],
   "source": [
    "'%(qty)d more %(food)s' % {'qty': 1, 'food': 'spam'}"
   ]
  },
  {
   "cell_type": "code",
   "execution_count": 30,
   "id": "6bee51b3-5011-4a6b-860b-2e489de02d9c",
   "metadata": {},
   "outputs": [],
   "source": [
    "reply = '''\n",
    "Greetings...\n",
    "Hello %(name)s!\n",
    "Your age is %(age)s\n",
    "'''"
   ]
  },
  {
   "cell_type": "code",
   "execution_count": 32,
   "id": "05427e1b-c3ab-41cd-a813-cbed43f11ea7",
   "metadata": {},
   "outputs": [],
   "source": [
    "values = {'name': 'Bob', 'age':'40'}"
   ]
  },
  {
   "cell_type": "code",
   "execution_count": 33,
   "id": "108c9ab1-4bbe-4b88-a027-8395577df601",
   "metadata": {},
   "outputs": [
    {
     "name": "stdout",
     "output_type": "stream",
     "text": [
      "\n",
      "Greetings...\n",
      "Hello Bob!\n",
      "Your age is 40\n",
      "\n"
     ]
    }
   ],
   "source": [
    "print(reply % values)"
   ]
  },
  {
   "cell_type": "code",
   "execution_count": 34,
   "id": "d290c4d6-94d8-4c13-bfc1-b6b07833ad8b",
   "metadata": {},
   "outputs": [],
   "source": [
    "food = 'spam'"
   ]
  },
  {
   "cell_type": "code",
   "execution_count": 35,
   "id": "af26feae-9ab9-44e8-81b1-c43e9b3eb4d8",
   "metadata": {},
   "outputs": [],
   "source": [
    "qty = 10"
   ]
  },
  {
   "cell_type": "code",
   "execution_count": 36,
   "id": "2178af4a-b364-4f12-a904-5b08119f2c24",
   "metadata": {
    "scrolled": true,
    "tags": []
   },
   "outputs": [
    {
     "data": {
      "text/plain": [
       "{'__name__': '__main__',\n",
       " '__doc__': 'Automatically created module for IPython interactive environment',\n",
       " '__package__': None,\n",
       " '__loader__': None,\n",
       " '__spec__': None,\n",
       " '__builtin__': <module 'builtins' (built-in)>,\n",
       " '__builtins__': <module 'builtins' (built-in)>,\n",
       " '_ih': ['',\n",
       "  'import string',\n",
       "  \"x = s.replace('+', 'spam')\",\n",
       "  \"s = 'a+b+c+'\",\n",
       "  \"x = s.replace('+', 'spam')\",\n",
       "  'x',\n",
       "  'import string',\n",
       "  \"y = string.replace(s, '+', 'spam')\",\n",
       "  'import this',\n",
       "  \"'That is %d %s bird!' % (1, 'dead')\",\n",
       "  \"exclamation = 'Ni'\",\n",
       "  \"'The knights who say %s!' % exclamation\",\n",
       "  \"'%d %s %g you' % (1, 'spam', 4.0)\",\n",
       "  \"'%s -- %s -- %s' % (42, 3.14159, [1, 2, 3])\",\n",
       "  'x = 1234',\n",
       "  \"res = 'integers: ...%d...%-6d...^06d' % (x, x, x)\",\n",
       "  'res',\n",
       "  \"res = 'integers: ...%d...%-6d...%06d' % (x, x, x)\",\n",
       "  'res',\n",
       "  'x = 1.234556789',\n",
       "  'x',\n",
       "  'x = 1.23456789',\n",
       "  'x',\n",
       "  \"'%e | %f | %g' % (x, x, x)\",\n",
       "  \"'%E' % x\",\n",
       "  \"'%-6.2f | %05.2f | %+06.1f' % (x, x, x)\",\n",
       "  \"'%s' % x, str(x)\",\n",
       "  \"'%f, %.2f, %.*f' % (1/3.0, 1/3.0, 1/3.0)\",\n",
       "  \"'%f, %.2f, %.*f' % (1/3.0, 1/3.0, 4, 1/3.0)\",\n",
       "  \"'%(qty)d more %(food)s' % {'qty': 1, 'food': 'spam'}\",\n",
       "  \"reply = '''\\nGreetings...\\nHello %(name)s!\\nYour age is %(age)s\\n'''\",\n",
       "  \"values = {'name': 'Bob', 'age':'40}\",\n",
       "  \"values = {'name': 'Bob', 'age':'40'}\",\n",
       "  'print(reply % values)',\n",
       "  \"food = 'spam'\",\n",
       "  'qty = 10',\n",
       "  'vars()'],\n",
       " '_oh': {5: 'aspambspamcspam',\n",
       "  9: 'That is 1 dead bird!',\n",
       "  11: 'The knights who say Ni!',\n",
       "  12: '1 spam 4 you',\n",
       "  13: '42 -- 3.14159 -- [1, 2, 3]',\n",
       "  18: 'integers: ...1234...1234  ...001234',\n",
       "  20: 1.234556789,\n",
       "  22: 1.23456789,\n",
       "  23: '1.234568e+00 | 1.234568 | 1.23457',\n",
       "  24: '1.234568E+00',\n",
       "  25: '1.23   | 01.23 | +001.2',\n",
       "  26: ('1.23456789', '1.23456789'),\n",
       "  28: '0.333333, 0.33, 0.3333',\n",
       "  29: '1 more spam'},\n",
       " '_dh': [WindowsPath('C:/Users/admin/Documents/DeepLearning/Learning_Python')],\n",
       " 'In': ['',\n",
       "  'import string',\n",
       "  \"x = s.replace('+', 'spam')\",\n",
       "  \"s = 'a+b+c+'\",\n",
       "  \"x = s.replace('+', 'spam')\",\n",
       "  'x',\n",
       "  'import string',\n",
       "  \"y = string.replace(s, '+', 'spam')\",\n",
       "  'import this',\n",
       "  \"'That is %d %s bird!' % (1, 'dead')\",\n",
       "  \"exclamation = 'Ni'\",\n",
       "  \"'The knights who say %s!' % exclamation\",\n",
       "  \"'%d %s %g you' % (1, 'spam', 4.0)\",\n",
       "  \"'%s -- %s -- %s' % (42, 3.14159, [1, 2, 3])\",\n",
       "  'x = 1234',\n",
       "  \"res = 'integers: ...%d...%-6d...^06d' % (x, x, x)\",\n",
       "  'res',\n",
       "  \"res = 'integers: ...%d...%-6d...%06d' % (x, x, x)\",\n",
       "  'res',\n",
       "  'x = 1.234556789',\n",
       "  'x',\n",
       "  'x = 1.23456789',\n",
       "  'x',\n",
       "  \"'%e | %f | %g' % (x, x, x)\",\n",
       "  \"'%E' % x\",\n",
       "  \"'%-6.2f | %05.2f | %+06.1f' % (x, x, x)\",\n",
       "  \"'%s' % x, str(x)\",\n",
       "  \"'%f, %.2f, %.*f' % (1/3.0, 1/3.0, 1/3.0)\",\n",
       "  \"'%f, %.2f, %.*f' % (1/3.0, 1/3.0, 4, 1/3.0)\",\n",
       "  \"'%(qty)d more %(food)s' % {'qty': 1, 'food': 'spam'}\",\n",
       "  \"reply = '''\\nGreetings...\\nHello %(name)s!\\nYour age is %(age)s\\n'''\",\n",
       "  \"values = {'name': 'Bob', 'age':'40}\",\n",
       "  \"values = {'name': 'Bob', 'age':'40'}\",\n",
       "  'print(reply % values)',\n",
       "  \"food = 'spam'\",\n",
       "  'qty = 10',\n",
       "  'vars()'],\n",
       " 'Out': {5: 'aspambspamcspam',\n",
       "  9: 'That is 1 dead bird!',\n",
       "  11: 'The knights who say Ni!',\n",
       "  12: '1 spam 4 you',\n",
       "  13: '42 -- 3.14159 -- [1, 2, 3]',\n",
       "  18: 'integers: ...1234...1234  ...001234',\n",
       "  20: 1.234556789,\n",
       "  22: 1.23456789,\n",
       "  23: '1.234568e+00 | 1.234568 | 1.23457',\n",
       "  24: '1.234568E+00',\n",
       "  25: '1.23   | 01.23 | +001.2',\n",
       "  26: ('1.23456789', '1.23456789'),\n",
       "  28: '0.333333, 0.33, 0.3333',\n",
       "  29: '1 more spam'},\n",
       " 'get_ipython': <bound method InteractiveShell.get_ipython of <ipykernel.zmqshell.ZMQInteractiveShell object at 0x000002490C2CD5B0>>,\n",
       " 'exit': <IPython.core.autocall.ZMQExitAutocall at 0x2490c2ae700>,\n",
       " 'quit': <IPython.core.autocall.ZMQExitAutocall at 0x2490c2ae700>,\n",
       " 'open': <function io.open(file, mode='r', buffering=-1, encoding=None, errors=None, newline=None, closefd=True, opener=None)>,\n",
       " '_': '1 more spam',\n",
       " '__': '0.333333, 0.33, 0.3333',\n",
       " '___': ('1.23456789', '1.23456789'),\n",
       " '_i': 'qty = 10',\n",
       " '_ii': \"food = 'spam'\",\n",
       " '_iii': 'print(reply % values)',\n",
       " '_i1': 'import string',\n",
       " 'string': <module 'string' from 'C:\\\\Users\\\\admin\\\\anaconda3\\\\envs\\\\tf\\\\lib\\\\string.py'>,\n",
       " '_i2': \"x = s.replace('+', 'spam')\",\n",
       " '_i3': \"s = 'a+b+c+'\",\n",
       " 's': 'a+b+c+',\n",
       " '_i4': \"x = s.replace('+', 'spam')\",\n",
       " 'x': 1.23456789,\n",
       " '_i5': 'x',\n",
       " '_5': 'aspambspamcspam',\n",
       " '_i6': 'import string',\n",
       " '_i7': \"y = string.replace(s, '+', 'spam')\",\n",
       " '_i8': 'import this',\n",
       " 'this': <module 'this' from 'C:\\\\Users\\\\admin\\\\anaconda3\\\\envs\\\\tf\\\\lib\\\\this.py'>,\n",
       " '_i9': \"'That is %d %s bird!' % (1, 'dead')\",\n",
       " '_9': 'That is 1 dead bird!',\n",
       " '_i10': \"exclamation = 'Ni'\",\n",
       " 'exclamation': 'Ni',\n",
       " '_i11': \"'The knights who say %s!' % exclamation\",\n",
       " '_11': 'The knights who say Ni!',\n",
       " '_i12': \"'%d %s %g you' % (1, 'spam', 4.0)\",\n",
       " '_12': '1 spam 4 you',\n",
       " '_i13': \"'%s -- %s -- %s' % (42, 3.14159, [1, 2, 3])\",\n",
       " '_13': '42 -- 3.14159 -- [1, 2, 3]',\n",
       " '_i14': 'x = 1234',\n",
       " '_i15': \"res = 'integers: ...%d...%-6d...^06d' % (x, x, x)\",\n",
       " '_i16': 'res',\n",
       " '_i17': \"res = 'integers: ...%d...%-6d...%06d' % (x, x, x)\",\n",
       " 'res': 'integers: ...1234...1234  ...001234',\n",
       " '_i18': 'res',\n",
       " '_18': 'integers: ...1234...1234  ...001234',\n",
       " '_i19': 'x = 1.234556789',\n",
       " '_i20': 'x',\n",
       " '_20': 1.234556789,\n",
       " '_i21': 'x = 1.23456789',\n",
       " '_i22': 'x',\n",
       " '_22': 1.23456789,\n",
       " '_i23': \"'%e | %f | %g' % (x, x, x)\",\n",
       " '_23': '1.234568e+00 | 1.234568 | 1.23457',\n",
       " '_i24': \"'%E' % x\",\n",
       " '_24': '1.234568E+00',\n",
       " '_i25': \"'%-6.2f | %05.2f | %+06.1f' % (x, x, x)\",\n",
       " '_25': '1.23   | 01.23 | +001.2',\n",
       " '_i26': \"'%s' % x, str(x)\",\n",
       " '_26': ('1.23456789', '1.23456789'),\n",
       " '_i27': \"'%f, %.2f, %.*f' % (1/3.0, 1/3.0, 1/3.0)\",\n",
       " '_i28': \"'%f, %.2f, %.*f' % (1/3.0, 1/3.0, 4, 1/3.0)\",\n",
       " '_28': '0.333333, 0.33, 0.3333',\n",
       " '_i29': \"'%(qty)d more %(food)s' % {'qty': 1, 'food': 'spam'}\",\n",
       " '_29': '1 more spam',\n",
       " '_i30': \"reply = '''\\nGreetings...\\nHello %(name)s!\\nYour age is %(age)s\\n'''\",\n",
       " 'reply': '\\nGreetings...\\nHello %(name)s!\\nYour age is %(age)s\\n',\n",
       " '_i31': \"values = {'name': 'Bob', 'age':'40}\",\n",
       " '_i32': \"values = {'name': 'Bob', 'age':'40'}\",\n",
       " 'values': {'name': 'Bob', 'age': '40'},\n",
       " '_i33': 'print(reply % values)',\n",
       " '_i34': \"food = 'spam'\",\n",
       " 'food': 'spam',\n",
       " '_i35': 'qty = 10',\n",
       " 'qty': 10,\n",
       " '_i36': 'vars()'}"
      ]
     },
     "execution_count": 36,
     "metadata": {},
     "output_type": "execute_result"
    }
   ],
   "source": [
    "vars()"
   ]
  },
  {
   "cell_type": "code",
   "execution_count": 37,
   "id": "ed7b2eb0-4544-49d2-93be-a024929da327",
   "metadata": {},
   "outputs": [
    {
     "data": {
      "text/plain": [
       "'10 more spam'"
      ]
     },
     "execution_count": 37,
     "metadata": {},
     "output_type": "execute_result"
    }
   ],
   "source": [
    "'%(qty)d more %(food)s' % vars()"
   ]
  },
  {
   "cell_type": "code",
   "execution_count": 38,
   "id": "c4846b3b-b74c-4a3d-968c-ca6bee62ab58",
   "metadata": {},
   "outputs": [],
   "source": [
    "template = '{0}, {1}, and {2}'"
   ]
  },
  {
   "cell_type": "code",
   "execution_count": 39,
   "id": "f49b01e5-00a1-4d47-ae60-653deb26cac0",
   "metadata": {},
   "outputs": [
    {
     "data": {
      "text/plain": [
       "'spam, ham, and eggs'"
      ]
     },
     "execution_count": 39,
     "metadata": {},
     "output_type": "execute_result"
    }
   ],
   "source": [
    "template.format('spam', 'ham', 'eggs')"
   ]
  },
  {
   "cell_type": "code",
   "execution_count": 40,
   "id": "ffbc2c6e-c4d0-47df-a386-dc71058122ba",
   "metadata": {},
   "outputs": [],
   "source": [
    "template = '{motto}, {pork}, and {food}'"
   ]
  },
  {
   "cell_type": "code",
   "execution_count": 41,
   "id": "03284f1c-398d-4323-9004-b07902dcd015",
   "metadata": {},
   "outputs": [
    {
     "data": {
      "text/plain": [
       "'spam, ham, and eggs'"
      ]
     },
     "execution_count": 41,
     "metadata": {},
     "output_type": "execute_result"
    }
   ],
   "source": [
    "template.format(motto='spam', pork='ham', food='eggs')"
   ]
  },
  {
   "cell_type": "code",
   "execution_count": 42,
   "id": "47051b5e-1b15-4af6-afba-1115377ca1c9",
   "metadata": {},
   "outputs": [],
   "source": [
    "template = '{motto}, {0}, and {food}'"
   ]
  },
  {
   "cell_type": "code",
   "execution_count": 43,
   "id": "87c2d127-0211-493d-986c-927e781cd356",
   "metadata": {},
   "outputs": [
    {
     "data": {
      "text/plain": [
       "'spam, ham, and eggs'"
      ]
     },
     "execution_count": 43,
     "metadata": {},
     "output_type": "execute_result"
    }
   ],
   "source": [
    "template.format('ham', motto='spam', food='eggs')"
   ]
  },
  {
   "cell_type": "code",
   "execution_count": 44,
   "id": "5c5d2274-99f8-4ec0-a978-026bb865eb17",
   "metadata": {},
   "outputs": [],
   "source": [
    "template = '{} {} and {}'"
   ]
  },
  {
   "cell_type": "code",
   "execution_count": 45,
   "id": "bdd7fc55-c3d7-4ca6-9ebc-4171a5bc35a0",
   "metadata": {},
   "outputs": [
    {
     "data": {
      "text/plain": [
       "'smp ham and eggs'"
      ]
     },
     "execution_count": 45,
     "metadata": {},
     "output_type": "execute_result"
    }
   ],
   "source": [
    "template.format('smp', 'ham', 'eggs')"
   ]
  },
  {
   "cell_type": "code",
   "execution_count": 46,
   "id": "0686b099-8c4d-42af-b8a3-5058d2ea183a",
   "metadata": {},
   "outputs": [],
   "source": [
    "template = '%s, %s, and %s'"
   ]
  },
  {
   "cell_type": "code",
   "execution_count": 47,
   "id": "9c0c434b-6e87-40f3-86c2-cd6b013eb9b0",
   "metadata": {},
   "outputs": [
    {
     "data": {
      "text/plain": [
       "'spma, ham, and eggs'"
      ]
     },
     "execution_count": 47,
     "metadata": {},
     "output_type": "execute_result"
    }
   ],
   "source": [
    "template % ('spma', 'ham', 'eggs')"
   ]
  },
  {
   "cell_type": "code",
   "execution_count": 48,
   "id": "2c48d617-b568-41ab-90c8-6294ff230089",
   "metadata": {},
   "outputs": [],
   "source": [
    "template = '%(motto)s, %(pork)s, and %(food)s'"
   ]
  },
  {
   "cell_type": "code",
   "execution_count": 49,
   "id": "e3ce2f33-ff91-49f5-869e-f01b62b2796e",
   "metadata": {},
   "outputs": [
    {
     "data": {
      "text/plain": [
       "'spam, ham, and eggs'"
      ]
     },
     "execution_count": 49,
     "metadata": {},
     "output_type": "execute_result"
    }
   ],
   "source": [
    "template % dict(motto='spam', pork='ham', food='eggs')"
   ]
  },
  {
   "cell_type": "code",
   "execution_count": 50,
   "id": "f2d13707-8c03-4094-b802-f31d9269edb8",
   "metadata": {},
   "outputs": [
    {
     "data": {
      "text/plain": [
       "'3.14, 42, and [1, 2]'"
      ]
     },
     "execution_count": 50,
     "metadata": {},
     "output_type": "execute_result"
    }
   ],
   "source": [
    "'{motto}, {0}, and {food}'.format(42, motto=3.14, food=[1,2])"
   ]
  },
  {
   "cell_type": "code",
   "execution_count": 51,
   "id": "557c8de6-a2af-4c0f-9c23-3037bb12af7a",
   "metadata": {},
   "outputs": [],
   "source": [
    "x = '{motto}, {0} and {food}'.format(42, motto=3.14, food=[1,2])"
   ]
  },
  {
   "cell_type": "code",
   "execution_count": 52,
   "id": "399f5afd-421a-4915-99d5-f50c195a105e",
   "metadata": {},
   "outputs": [
    {
     "data": {
      "text/plain": [
       "'3.14, 42 and [1, 2]'"
      ]
     },
     "execution_count": 52,
     "metadata": {},
     "output_type": "execute_result"
    }
   ],
   "source": [
    "x"
   ]
  },
  {
   "cell_type": "code",
   "execution_count": 53,
   "id": "972f9f3a-e822-48ed-bced-ce1fe5a73036",
   "metadata": {},
   "outputs": [
    {
     "data": {
      "text/plain": [
       "['3.14, 42', '[1, 2]']"
      ]
     },
     "execution_count": 53,
     "metadata": {},
     "output_type": "execute_result"
    }
   ],
   "source": [
    "x.split(' and ')"
   ]
  },
  {
   "cell_type": "code",
   "execution_count": 54,
   "id": "1d2e5f2e-3da8-47f4-8539-abff464964c3",
   "metadata": {},
   "outputs": [],
   "source": [
    "y = x.replace('and', 'but under no circumstances')"
   ]
  },
  {
   "cell_type": "code",
   "execution_count": 55,
   "id": "7f849ef6-a4fa-4785-ac5e-55e74aaa5811",
   "metadata": {},
   "outputs": [
    {
     "data": {
      "text/plain": [
       "'3.14, 42 but under no circumstances [1, 2]'"
      ]
     },
     "execution_count": 55,
     "metadata": {},
     "output_type": "execute_result"
    }
   ],
   "source": [
    "y"
   ]
  },
  {
   "cell_type": "code",
   "execution_count": 56,
   "id": "121b39e0-8fa2-4d1c-a8b7-42c97c77dba4",
   "metadata": {},
   "outputs": [],
   "source": [
    "import sys"
   ]
  },
  {
   "cell_type": "code",
   "execution_count": 57,
   "id": "498a9552-de8b-416b-9b9a-c9d15f823992",
   "metadata": {},
   "outputs": [
    {
     "data": {
      "text/plain": [
       "'My laptop runs win32'"
      ]
     },
     "execution_count": 57,
     "metadata": {},
     "output_type": "execute_result"
    }
   ],
   "source": [
    "'My {1[kind]} runs {0.platform}'.format(sys, {'kind':'laptop'})"
   ]
  },
  {
   "cell_type": "code",
   "execution_count": 59,
   "id": "a9a008aa-9e06-42d5-8452-d115be736c78",
   "metadata": {},
   "outputs": [
    {
     "data": {
      "text/plain": [
       "'My laptop runs win32'"
      ]
     },
     "execution_count": 59,
     "metadata": {},
     "output_type": "execute_result"
    }
   ],
   "source": [
    "'My {map[kind]} runs {sys.platform}'.format(sys=sys, map={'kind':'laptop'})"
   ]
  },
  {
   "cell_type": "code",
   "execution_count": 60,
   "id": "01206c2a-f3b6-4175-bd64-952e44f34f2b",
   "metadata": {},
   "outputs": [],
   "source": [
    "somelist = list('spma')"
   ]
  },
  {
   "cell_type": "code",
   "execution_count": 61,
   "id": "b741d541-0531-4db3-8f4f-7b7d3568514f",
   "metadata": {},
   "outputs": [
    {
     "data": {
      "text/plain": [
       "['s', 'p', 'm', 'a']"
      ]
     },
     "execution_count": 61,
     "metadata": {},
     "output_type": "execute_result"
    }
   ],
   "source": [
    "somelist"
   ]
  },
  {
   "cell_type": "code",
   "execution_count": 62,
   "id": "e6b97711-6d5c-469f-9295-c22e231dd7ca",
   "metadata": {},
   "outputs": [
    {
     "data": {
      "text/plain": [
       "'first=s, third=m'"
      ]
     },
     "execution_count": 62,
     "metadata": {},
     "output_type": "execute_result"
    }
   ],
   "source": [
    "'first={0[0]}, third={0[2]}'.format(somelist)"
   ]
  },
  {
   "cell_type": "code",
   "execution_count": 63,
   "id": "db0c6559-ece4-4992-a1b0-ba7fdd052198",
   "metadata": {},
   "outputs": [
    {
     "data": {
      "text/plain": [
       "'first=s, last=a'"
      ]
     },
     "execution_count": 63,
     "metadata": {},
     "output_type": "execute_result"
    }
   ],
   "source": [
    "'first={0}, last={1}'.format(somelist[0], somelist[-1])"
   ]
  },
  {
   "cell_type": "code",
   "execution_count": 64,
   "id": "0fc358fc-54dc-474d-a74e-f170d4cca32d",
   "metadata": {},
   "outputs": [],
   "source": [
    "parts = somelist[0], somelist[-1], somelist[1:3]"
   ]
  },
  {
   "cell_type": "code",
   "execution_count": 65,
   "id": "d35f7ffc-02d2-49d1-aa67-34c5f330703f",
   "metadata": {},
   "outputs": [
    {
     "data": {
      "text/plain": [
       "('s', 'a', ['p', 'm'])"
      ]
     },
     "execution_count": 65,
     "metadata": {},
     "output_type": "execute_result"
    }
   ],
   "source": [
    "parts"
   ]
  },
  {
   "cell_type": "code",
   "execution_count": 66,
   "id": "f8aa0695-982c-4685-9056-24d60c3bbacb",
   "metadata": {},
   "outputs": [
    {
     "data": {
      "text/plain": [
       "\"first=s, last=a, middle=['p', 'm']\""
      ]
     },
     "execution_count": 66,
     "metadata": {},
     "output_type": "execute_result"
    }
   ],
   "source": [
    "'first={0}, last={1}, middle={2}'.format(*parts)"
   ]
  },
  {
   "cell_type": "code",
   "execution_count": 67,
   "id": "dfe91f0f-216a-4a9d-90c3-62b860cc1fd3",
   "metadata": {},
   "outputs": [
    {
     "data": {
      "text/plain": [
       "'spam       =   123.4567'"
      ]
     },
     "execution_count": 67,
     "metadata": {},
     "output_type": "execute_result"
    }
   ],
   "source": [
    "'{0:10} = {1:10}'.format('spam', 123.4567)"
   ]
  },
  {
   "cell_type": "code",
   "execution_count": 68,
   "id": "da5b5499-bf46-4af3-854c-fa13784ee1cf",
   "metadata": {},
   "outputs": [
    {
     "data": {
      "text/plain": [
       "'      spam = 123.4567  '"
      ]
     },
     "execution_count": 68,
     "metadata": {},
     "output_type": "execute_result"
    }
   ],
   "source": [
    "'{0:>10} = {1:<10}'.format('spam', 123.4567)"
   ]
  },
  {
   "cell_type": "code",
   "execution_count": 70,
   "id": "48e6760c-9e92-4338-a643-e97d20e2afb5",
   "metadata": {},
   "outputs": [
    {
     "data": {
      "text/plain": [
       "'     win32 = laptop    '"
      ]
     },
     "execution_count": 70,
     "metadata": {},
     "output_type": "execute_result"
    }
   ],
   "source": [
    "'{0.platform:>10} = {1[kind]:<10}'.format(sys, dict(kind='laptop'))"
   ]
  },
  {
   "cell_type": "code",
   "execution_count": 71,
   "id": "0c0124b2-1841-4876-a764-eaf4cc2f2882",
   "metadata": {},
   "outputs": [
    {
     "data": {
      "text/plain": [
       "'0.33'"
      ]
     },
     "execution_count": 71,
     "metadata": {},
     "output_type": "execute_result"
    }
   ],
   "source": [
    "'{0:.2f}'.format(1/3.0)"
   ]
  },
  {
   "cell_type": "code",
   "execution_count": 72,
   "id": "71d4dfe5-6ada-466b-97ac-2d692bba3e11",
   "metadata": {},
   "outputs": [
    {
     "data": {
      "text/plain": [
       "'0.333'"
      ]
     },
     "execution_count": 72,
     "metadata": {},
     "output_type": "execute_result"
    }
   ],
   "source": [
    "'%.3f' % (1/ 3.0)"
   ]
  },
  {
   "cell_type": "code",
   "execution_count": 73,
   "id": "2c1d608a-956c-4ad0-8958-adea2c81967e",
   "metadata": {},
   "outputs": [
    {
     "data": {
      "text/plain": [
       "'0.3333'"
      ]
     },
     "execution_count": 73,
     "metadata": {},
     "output_type": "execute_result"
    }
   ],
   "source": [
    "'{0:.{1}f}'.format(1 / 3.0, 4)"
   ]
  },
  {
   "cell_type": "code",
   "execution_count": 74,
   "id": "578a58b5-b5fd-4c3d-ac29-33fd41ea18d2",
   "metadata": {},
   "outputs": [
    {
     "data": {
      "text/plain": [
       "'0.3333'"
      ]
     },
     "execution_count": 74,
     "metadata": {},
     "output_type": "execute_result"
    }
   ],
   "source": [
    "'%.*f' % (4, 1 / 3.0)"
   ]
  },
  {
   "cell_type": "code",
   "execution_count": 75,
   "id": "9e54651f-dcc4-44df-9d5f-80c6a366cd1c",
   "metadata": {},
   "outputs": [
    {
     "data": {
      "text/plain": [
       "'1.23'"
      ]
     },
     "execution_count": 75,
     "metadata": {},
     "output_type": "execute_result"
    }
   ],
   "source": [
    "'{0:.2f}'.format(1.2345)"
   ]
  },
  {
   "cell_type": "code",
   "execution_count": 76,
   "id": "dcea88a9-3e25-49a7-95c0-3c2b747144d1",
   "metadata": {},
   "outputs": [
    {
     "data": {
      "text/plain": [
       "'1.23'"
      ]
     },
     "execution_count": 76,
     "metadata": {},
     "output_type": "execute_result"
    }
   ],
   "source": [
    "format(1.2345, '.2f')"
   ]
  },
  {
   "cell_type": "code",
   "execution_count": 77,
   "id": "7951451e-4314-4cc7-9882-8c9ce1fc2635",
   "metadata": {},
   "outputs": [
    {
     "data": {
      "text/plain": [
       "'1.23'"
      ]
     },
     "execution_count": 77,
     "metadata": {},
     "output_type": "execute_result"
    }
   ],
   "source": [
    "'%.2f' % 1.2345"
   ]
  },
  {
   "cell_type": "code",
   "execution_count": 78,
   "id": "d210a86c-755b-410f-af36-ee02ed12d659",
   "metadata": {},
   "outputs": [
    {
     "data": {
      "text/plain": [
       "'3.14, 42, and [1, 2]'"
      ]
     },
     "execution_count": 78,
     "metadata": {},
     "output_type": "execute_result"
    }
   ],
   "source": [
    "'%s, %s, and %s' % (3.14, 42, [1,2])"
   ]
  },
  {
   "cell_type": "code",
   "execution_count": 79,
   "id": "b49e2129-ac8c-4af1-8b0b-c8b9f4346a77",
   "metadata": {},
   "outputs": [
    {
     "data": {
      "text/plain": [
       "'My laptop runs win32'"
      ]
     },
     "execution_count": 79,
     "metadata": {},
     "output_type": "execute_result"
    }
   ],
   "source": [
    "'My %(kind)s runs %(platform)s' % {'kind': 'laptop', 'platform': sys.platform}"
   ]
  },
  {
   "cell_type": "code",
   "execution_count": 80,
   "id": "83d09dc5-d0c2-45ab-bf40-c4802ba3ef63",
   "metadata": {},
   "outputs": [
    {
     "data": {
      "text/plain": [
       "'My laptop runs win32'"
      ]
     },
     "execution_count": 80,
     "metadata": {},
     "output_type": "execute_result"
    }
   ],
   "source": [
    "'My %(kind)s runs %(platform)s' % dict(kind='laptop', platform=sys.platform)"
   ]
  },
  {
   "cell_type": "code",
   "execution_count": 81,
   "id": "e2874f8a-06f7-4815-b483-beb12cf17311",
   "metadata": {},
   "outputs": [],
   "source": [
    "somelist = list('spam')"
   ]
  },
  {
   "cell_type": "code",
   "execution_count": 82,
   "id": "d765b36f-e140-4eb5-9363-fb394f5da41d",
   "metadata": {},
   "outputs": [],
   "source": [
    "parts = somelist[0], somelist[-1], somelist[1:3]"
   ]
  },
  {
   "cell_type": "code",
   "execution_count": 83,
   "id": "28f547e1-2680-4037-a4b7-30fd7d134216",
   "metadata": {},
   "outputs": [
    {
     "data": {
      "text/plain": [
       "\"first=s, last=m, middle=['p', 'a']\""
      ]
     },
     "execution_count": 83,
     "metadata": {},
     "output_type": "execute_result"
    }
   ],
   "source": [
    "'first=%s, last=%s, middle=%s' % parts"
   ]
  },
  {
   "cell_type": "code",
   "execution_count": 84,
   "id": "0d69e8c0-a6ef-48d4-91e2-001864ba3192",
   "metadata": {},
   "outputs": [
    {
     "data": {
      "text/plain": [
       "'spam       =   123.4567'"
      ]
     },
     "execution_count": 84,
     "metadata": {},
     "output_type": "execute_result"
    }
   ],
   "source": [
    "'%-10s = %10s' % ('spam', 123.4567)"
   ]
  },
  {
   "cell_type": "code",
   "execution_count": 85,
   "id": "933fbcea-faf2-48a8-b13e-7210583baac4",
   "metadata": {},
   "outputs": [
    {
     "data": {
      "text/plain": [
       "'      spam = 123.4567  '"
      ]
     },
     "execution_count": 85,
     "metadata": {},
     "output_type": "execute_result"
    }
   ],
   "source": [
    "'%10s = %-10s' % ('spam', 123.4567)"
   ]
  },
  {
   "cell_type": "code",
   "execution_count": 86,
   "id": "029f452e-7ff1-4dd4-937d-fb83514a77f4",
   "metadata": {},
   "outputs": [
    {
     "data": {
      "text/plain": [
       "'     win32 = laptop    '"
      ]
     },
     "execution_count": 86,
     "metadata": {},
     "output_type": "execute_result"
    }
   ],
   "source": [
    "'%(plat)10s = %(kind)-10s' % dict(plat=sys.platform, kind='laptop')"
   ]
  },
  {
   "cell_type": "code",
   "execution_count": 87,
   "id": "275d42c9-71c2-4b22-b463-16ebb8aaea4c",
   "metadata": {},
   "outputs": [
    {
     "data": {
      "text/plain": [
       "'3.141590e+00, 3.142e+00, 3.14159'"
      ]
     },
     "execution_count": 87,
     "metadata": {},
     "output_type": "execute_result"
    }
   ],
   "source": [
    "'%e, %.3e, %g' % (3.14159, 3.14159, 3.14159)"
   ]
  },
  {
   "cell_type": "code",
   "execution_count": 88,
   "id": "040ab98d-54ab-42c6-b2eb-cb4156f79eda",
   "metadata": {},
   "outputs": [
    {
     "data": {
      "text/plain": [
       "'1111111111111111'"
      ]
     },
     "execution_count": 88,
     "metadata": {},
     "output_type": "execute_result"
    }
   ],
   "source": [
    "'{0:b}'.format((2**16)-1)"
   ]
  },
  {
   "cell_type": "code",
   "execution_count": null,
   "id": "916ce34a-ef8a-4d68-92c5-476e5e4f2d58",
   "metadata": {},
   "outputs": [],
   "source": []
  }
 ],
 "metadata": {
  "kernelspec": {
   "display_name": "Python 3 (ipykernel)",
   "language": "python",
   "name": "python3"
  },
  "language_info": {
   "codemirror_mode": {
    "name": "ipython",
    "version": 3
   },
   "file_extension": ".py",
   "mimetype": "text/x-python",
   "name": "python",
   "nbconvert_exporter": "python",
   "pygments_lexer": "ipython3",
   "version": "3.9.13"
  }
 },
 "nbformat": 4,
 "nbformat_minor": 5
}
