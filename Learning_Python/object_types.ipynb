{
 "cells": [
  {
   "cell_type": "code",
   "execution_count": 1,
   "id": "12974a4e-c03c-4ed8-9fd4-41449b3c8a68",
   "metadata": {},
   "outputs": [
    {
     "data": {
      "text/plain": [
       "345"
      ]
     },
     "execution_count": 1,
     "metadata": {},
     "output_type": "execute_result"
    }
   ],
   "source": [
    "123 + 222"
   ]
  },
  {
   "cell_type": "code",
   "execution_count": 2,
   "id": "57eb3ba7-711c-4aeb-9c0b-b1bb05691dee",
   "metadata": {},
   "outputs": [
    {
     "data": {
      "text/plain": [
       "6.0"
      ]
     },
     "execution_count": 2,
     "metadata": {},
     "output_type": "execute_result"
    }
   ],
   "source": [
    "1.5 * 4"
   ]
  },
  {
   "cell_type": "code",
   "execution_count": 3,
   "id": "26b35273-5432-4c5d-b25e-7b9a7342be98",
   "metadata": {},
   "outputs": [
    {
     "data": {
      "text/plain": [
       "1267650600228229401496703205376"
      ]
     },
     "execution_count": 3,
     "metadata": {},
     "output_type": "execute_result"
    }
   ],
   "source": [
    "2 ** 100"
   ]
  },
  {
   "cell_type": "code",
   "execution_count": 4,
   "id": "0b0f6e1b-d722-403b-a158-ccdca19f4271",
   "metadata": {},
   "outputs": [
    {
     "data": {
      "text/plain": [
       "31"
      ]
     },
     "execution_count": 4,
     "metadata": {},
     "output_type": "execute_result"
    }
   ],
   "source": [
    "len(str(2 ** 100))"
   ]
  },
  {
   "cell_type": "code",
   "execution_count": 5,
   "id": "36384c7a-e98b-41e6-9ec3-3090909f2077",
   "metadata": {},
   "outputs": [
    {
     "data": {
      "text/plain": [
       "301030"
      ]
     },
     "execution_count": 5,
     "metadata": {},
     "output_type": "execute_result"
    }
   ],
   "source": [
    "len(str(2 ** 1000000))"
   ]
  },
  {
   "cell_type": "code",
   "execution_count": 6,
   "id": "ed15f23a-247d-4ec0-86e1-e20aac98fd84",
   "metadata": {},
   "outputs": [
    {
     "data": {
      "text/plain": [
       "6.283"
      ]
     },
     "execution_count": 6,
     "metadata": {},
     "output_type": "execute_result"
    }
   ],
   "source": [
    "3.1415 * 2"
   ]
  },
  {
   "cell_type": "code",
   "execution_count": 7,
   "id": "b6d13108-7877-4f53-8ca9-ce9b9e4abec6",
   "metadata": {},
   "outputs": [],
   "source": [
    "import math"
   ]
  },
  {
   "cell_type": "code",
   "execution_count": 8,
   "id": "6f626b48-538a-49c9-865c-77a18ce1c537",
   "metadata": {},
   "outputs": [
    {
     "data": {
      "text/plain": [
       "3.141592653589793"
      ]
     },
     "execution_count": 8,
     "metadata": {},
     "output_type": "execute_result"
    }
   ],
   "source": [
    "math.pi"
   ]
  },
  {
   "cell_type": "code",
   "execution_count": 9,
   "id": "0306f59b-dc02-42fb-88a4-47b4bfdf344e",
   "metadata": {},
   "outputs": [
    {
     "data": {
      "text/plain": [
       "9.219544457292887"
      ]
     },
     "execution_count": 9,
     "metadata": {},
     "output_type": "execute_result"
    }
   ],
   "source": [
    "math.sqrt(85)"
   ]
  },
  {
   "cell_type": "code",
   "execution_count": 10,
   "id": "b975c329-651c-4c50-9f64-11d02bfb6a80",
   "metadata": {},
   "outputs": [
    {
     "data": {
      "text/plain": [
       "0.551507483556263"
      ]
     },
     "execution_count": 10,
     "metadata": {},
     "output_type": "execute_result"
    }
   ],
   "source": [
    "import random\n",
    "random.random()"
   ]
  },
  {
   "cell_type": "code",
   "execution_count": 11,
   "id": "93c6c19a-7149-45f3-9c5a-033a0ac0d4a4",
   "metadata": {},
   "outputs": [
    {
     "data": {
      "text/plain": [
       "3"
      ]
     },
     "execution_count": 11,
     "metadata": {},
     "output_type": "execute_result"
    }
   ],
   "source": [
    "random.choice([1, 2, 3, 4])"
   ]
  },
  {
   "cell_type": "code",
   "execution_count": 12,
   "id": "1ceb6136-6123-4ddc-a82b-a5279232e774",
   "metadata": {},
   "outputs": [],
   "source": [
    "S = 'Spam'"
   ]
  },
  {
   "cell_type": "code",
   "execution_count": 13,
   "id": "94aca919-5b2c-46a6-a8e1-cc16debbb56e",
   "metadata": {},
   "outputs": [
    {
     "data": {
      "text/plain": [
       "4"
      ]
     },
     "execution_count": 13,
     "metadata": {},
     "output_type": "execute_result"
    }
   ],
   "source": [
    "len(S)"
   ]
  },
  {
   "cell_type": "code",
   "execution_count": 14,
   "id": "a560cb2e-bfba-493a-8456-251cd7705453",
   "metadata": {},
   "outputs": [
    {
     "data": {
      "text/plain": [
       "'S'"
      ]
     },
     "execution_count": 14,
     "metadata": {},
     "output_type": "execute_result"
    }
   ],
   "source": [
    "S[0]"
   ]
  },
  {
   "cell_type": "code",
   "execution_count": 15,
   "id": "9af3000d-11b3-4689-bde1-8e05c48dd2a4",
   "metadata": {},
   "outputs": [
    {
     "data": {
      "text/plain": [
       "'p'"
      ]
     },
     "execution_count": 15,
     "metadata": {},
     "output_type": "execute_result"
    }
   ],
   "source": [
    "S[1]"
   ]
  },
  {
   "cell_type": "code",
   "execution_count": 16,
   "id": "d6f9c95a-7780-4c14-9969-933605a9220e",
   "metadata": {},
   "outputs": [
    {
     "data": {
      "text/plain": [
       "'m'"
      ]
     },
     "execution_count": 16,
     "metadata": {},
     "output_type": "execute_result"
    }
   ],
   "source": [
    "S[-1]"
   ]
  },
  {
   "cell_type": "code",
   "execution_count": 17,
   "id": "60171caf-23e9-4c4f-b514-2001bb2e9c14",
   "metadata": {},
   "outputs": [
    {
     "data": {
      "text/plain": [
       "'a'"
      ]
     },
     "execution_count": 17,
     "metadata": {},
     "output_type": "execute_result"
    }
   ],
   "source": [
    "S[-2]"
   ]
  },
  {
   "cell_type": "code",
   "execution_count": 18,
   "id": "5b1156ff-44cb-49d6-a9a0-c5dc60cde076",
   "metadata": {},
   "outputs": [
    {
     "data": {
      "text/plain": [
       "'pa'"
      ]
     },
     "execution_count": 18,
     "metadata": {},
     "output_type": "execute_result"
    }
   ],
   "source": [
    "S[1:3]"
   ]
  },
  {
   "cell_type": "code",
   "execution_count": 19,
   "id": "dfecf1e6-ee94-45d7-b095-48034c4401a7",
   "metadata": {},
   "outputs": [],
   "source": [
    "S = 'shrubbery'"
   ]
  },
  {
   "cell_type": "code",
   "execution_count": 20,
   "id": "58cd6dd0-02a8-4d22-af96-324ba7727213",
   "metadata": {},
   "outputs": [],
   "source": [
    "L = list(S)"
   ]
  },
  {
   "cell_type": "code",
   "execution_count": 21,
   "id": "986ef990-9ff3-4bf9-9069-6d1f4b0368ed",
   "metadata": {},
   "outputs": [
    {
     "data": {
      "text/plain": [
       "['s', 'h', 'r', 'u', 'b', 'b', 'e', 'r', 'y']"
      ]
     },
     "execution_count": 21,
     "metadata": {},
     "output_type": "execute_result"
    }
   ],
   "source": [
    "L"
   ]
  },
  {
   "cell_type": "code",
   "execution_count": 23,
   "id": "428f9bd7-d8ba-4977-9d5d-f246348d533e",
   "metadata": {},
   "outputs": [],
   "source": [
    "L[1] = 'c'"
   ]
  },
  {
   "cell_type": "code",
   "execution_count": 24,
   "id": "d2cf2cd4-af41-4619-a4e7-4c71ac3da849",
   "metadata": {},
   "outputs": [
    {
     "data": {
      "text/plain": [
       "'scrubbery'"
      ]
     },
     "execution_count": 24,
     "metadata": {},
     "output_type": "execute_result"
    }
   ],
   "source": [
    "''.join(L)"
   ]
  },
  {
   "cell_type": "code",
   "execution_count": 25,
   "id": "1743d63f-519c-4f10-9d9e-61e055978d8a",
   "metadata": {},
   "outputs": [],
   "source": [
    "B = bytearray(b'spam')\n",
    "B.extend(b'eggs')"
   ]
  },
  {
   "cell_type": "code",
   "execution_count": 27,
   "id": "e05b68ee-aa83-4d16-ba50-1a69001b111f",
   "metadata": {},
   "outputs": [
    {
     "data": {
      "text/plain": [
       "bytearray(b'spameggs')"
      ]
     },
     "execution_count": 27,
     "metadata": {},
     "output_type": "execute_result"
    }
   ],
   "source": [
    "B"
   ]
  },
  {
   "cell_type": "code",
   "execution_count": 28,
   "id": "f3a8fe0f-965f-4297-9581-f9a5e43aeb34",
   "metadata": {},
   "outputs": [],
   "source": [
    "S = 'Spam'"
   ]
  },
  {
   "cell_type": "code",
   "execution_count": 29,
   "id": "c3e9d206-b65c-4006-81c5-361c7dd9564a",
   "metadata": {},
   "outputs": [
    {
     "data": {
      "text/plain": [
       "1"
      ]
     },
     "execution_count": 29,
     "metadata": {},
     "output_type": "execute_result"
    }
   ],
   "source": [
    "S.find('pa')"
   ]
  },
  {
   "cell_type": "code",
   "execution_count": 30,
   "id": "a7ad25d8-b03a-4d44-86e4-8647a05a90fd",
   "metadata": {},
   "outputs": [
    {
     "data": {
      "text/plain": [
       "'Spam'"
      ]
     },
     "execution_count": 30,
     "metadata": {},
     "output_type": "execute_result"
    }
   ],
   "source": [
    "S"
   ]
  },
  {
   "cell_type": "code",
   "execution_count": 31,
   "id": "7a1a5c5f-73c9-4c7a-ad28-2a84e6246a40",
   "metadata": {},
   "outputs": [
    {
     "data": {
      "text/plain": [
       "'SXY&Zm'"
      ]
     },
     "execution_count": 31,
     "metadata": {},
     "output_type": "execute_result"
    }
   ],
   "source": [
    "S.replace('pa', 'XY&Z')"
   ]
  },
  {
   "cell_type": "code",
   "execution_count": 32,
   "id": "0c538080-a611-4187-9cd5-298cbf21e8f0",
   "metadata": {},
   "outputs": [
    {
     "data": {
      "text/plain": [
       "'Spam'"
      ]
     },
     "execution_count": 32,
     "metadata": {},
     "output_type": "execute_result"
    }
   ],
   "source": [
    "S"
   ]
  },
  {
   "cell_type": "code",
   "execution_count": 33,
   "id": "5d3d7160-cfbb-45ac-8353-0c0ba6954b74",
   "metadata": {},
   "outputs": [],
   "source": [
    "line = 'aaa,bbb,ccccc,dd'"
   ]
  },
  {
   "cell_type": "code",
   "execution_count": 34,
   "id": "5dd5f6fc-d2a6-47b6-8f16-0d6ac293c0cf",
   "metadata": {},
   "outputs": [
    {
     "data": {
      "text/plain": [
       "['aaa', 'bbb', 'ccccc', 'dd']"
      ]
     },
     "execution_count": 34,
     "metadata": {},
     "output_type": "execute_result"
    }
   ],
   "source": [
    "line.split(',')"
   ]
  },
  {
   "cell_type": "code",
   "execution_count": 35,
   "id": "0ab6085a-44ab-44ab-8e2a-63c5b7c91067",
   "metadata": {},
   "outputs": [],
   "source": [
    "S = 'spam'"
   ]
  },
  {
   "cell_type": "code",
   "execution_count": 36,
   "id": "502ba635-3f25-410d-aff4-7cf1a7a3f319",
   "metadata": {},
   "outputs": [
    {
     "data": {
      "text/plain": [
       "'SPAM'"
      ]
     },
     "execution_count": 36,
     "metadata": {},
     "output_type": "execute_result"
    }
   ],
   "source": [
    "S.upper()"
   ]
  },
  {
   "cell_type": "code",
   "execution_count": 37,
   "id": "3c99b7b6-2c4b-4ef6-a975-779b098d06d6",
   "metadata": {},
   "outputs": [
    {
     "data": {
      "text/plain": [
       "True"
      ]
     },
     "execution_count": 37,
     "metadata": {},
     "output_type": "execute_result"
    }
   ],
   "source": [
    "S.isalpha()"
   ]
  },
  {
   "cell_type": "code",
   "execution_count": 38,
   "id": "673f872f-3642-4549-863e-3f900b649f20",
   "metadata": {},
   "outputs": [],
   "source": [
    "line = 'aaa,bbb,ccccc,dd\\n'"
   ]
  },
  {
   "cell_type": "code",
   "execution_count": 39,
   "id": "8ccc30b8-be40-4401-94ee-2275e0e5bae9",
   "metadata": {},
   "outputs": [
    {
     "data": {
      "text/plain": [
       "'aaa,bbb,ccccc,dd\\n'"
      ]
     },
     "execution_count": 39,
     "metadata": {},
     "output_type": "execute_result"
    }
   ],
   "source": [
    "line"
   ]
  },
  {
   "cell_type": "code",
   "execution_count": 40,
   "id": "8eef3515-ae46-4528-b3fd-bf6d052afb7f",
   "metadata": {},
   "outputs": [
    {
     "data": {
      "text/plain": [
       "'aaa,bbb,ccccc,dd'"
      ]
     },
     "execution_count": 40,
     "metadata": {},
     "output_type": "execute_result"
    }
   ],
   "source": [
    "line.rstrip()"
   ]
  },
  {
   "cell_type": "code",
   "execution_count": 41,
   "id": "81b55275-e18c-4a07-9276-34d0da838b58",
   "metadata": {},
   "outputs": [
    {
     "data": {
      "text/plain": [
       "'aaa,bbb,ccccc,dd\\n'"
      ]
     },
     "execution_count": 41,
     "metadata": {},
     "output_type": "execute_result"
    }
   ],
   "source": [
    "line"
   ]
  },
  {
   "cell_type": "code",
   "execution_count": 42,
   "id": "66950277-52b7-4bfa-8ea0-c5616e9c5227",
   "metadata": {},
   "outputs": [
    {
     "data": {
      "text/plain": [
       "['aaa', 'bbb', 'ccccc', 'dd']"
      ]
     },
     "execution_count": 42,
     "metadata": {},
     "output_type": "execute_result"
    }
   ],
   "source": [
    "line.rstrip().split(',')"
   ]
  },
  {
   "cell_type": "code",
   "execution_count": 43,
   "id": "848e2012-a9b7-4465-9a2e-568f92591b26",
   "metadata": {},
   "outputs": [
    {
     "data": {
      "text/plain": [
       "'spam, eggs, and SPAM!'"
      ]
     },
     "execution_count": 43,
     "metadata": {},
     "output_type": "execute_result"
    }
   ],
   "source": [
    "'%s, eggs, and %s' % ('spam', 'SPAM!')"
   ]
  },
  {
   "cell_type": "code",
   "execution_count": 44,
   "id": "fd0fb3cd-c326-49f1-ba30-b61dabab0083",
   "metadata": {},
   "outputs": [
    {
     "data": {
      "text/plain": [
       "'spame, eggs, and SPAM!'"
      ]
     },
     "execution_count": 44,
     "metadata": {},
     "output_type": "execute_result"
    }
   ],
   "source": [
    "'{0}, eggs, and {1}'.format('spame', 'SPAM!')"
   ]
  },
  {
   "cell_type": "code",
   "execution_count": 45,
   "id": "9cd7eb66-9657-47b7-aa5a-634e2275dce5",
   "metadata": {},
   "outputs": [
    {
     "data": {
      "text/plain": [
       "'sapm, eggs, and SPAM!'"
      ]
     },
     "execution_count": 45,
     "metadata": {},
     "output_type": "execute_result"
    }
   ],
   "source": [
    "'{}, eggs, and {}'.format('sapm', 'SPAM!')"
   ]
  },
  {
   "cell_type": "code",
   "execution_count": 46,
   "id": "0bb094d1-2b0e-4b12-b7b7-20a48a9f44fe",
   "metadata": {},
   "outputs": [
    {
     "data": {
      "text/plain": [
       "'296,999.26'"
      ]
     },
     "execution_count": 46,
     "metadata": {},
     "output_type": "execute_result"
    }
   ],
   "source": [
    "'{:,.2f}'.format(296999.2567) # Separators, decimal digits"
   ]
  },
  {
   "cell_type": "code",
   "execution_count": 47,
   "id": "0b0e388c-d8ec-4aa8-be45-3eb4098ab4e4",
   "metadata": {},
   "outputs": [
    {
     "data": {
      "text/plain": [
       "'3.14 | -0042'"
      ]
     },
     "execution_count": 47,
     "metadata": {},
     "output_type": "execute_result"
    }
   ],
   "source": [
    "'%.2f | %+05d' % (3.14159, -42) # Digits, padding, signs"
   ]
  },
  {
   "cell_type": "code",
   "execution_count": 48,
   "id": "742e5fcd-c82b-4dde-b1f1-d42588b02679",
   "metadata": {},
   "outputs": [
    {
     "data": {
      "text/plain": [
       "['__add__',\n",
       " '__class__',\n",
       " '__contains__',\n",
       " '__delattr__',\n",
       " '__dir__',\n",
       " '__doc__',\n",
       " '__eq__',\n",
       " '__format__',\n",
       " '__ge__',\n",
       " '__getattribute__',\n",
       " '__getitem__',\n",
       " '__getnewargs__',\n",
       " '__gt__',\n",
       " '__hash__',\n",
       " '__init__',\n",
       " '__init_subclass__',\n",
       " '__iter__',\n",
       " '__le__',\n",
       " '__len__',\n",
       " '__lt__',\n",
       " '__mod__',\n",
       " '__mul__',\n",
       " '__ne__',\n",
       " '__new__',\n",
       " '__reduce__',\n",
       " '__reduce_ex__',\n",
       " '__repr__',\n",
       " '__rmod__',\n",
       " '__rmul__',\n",
       " '__setattr__',\n",
       " '__sizeof__',\n",
       " '__str__',\n",
       " '__subclasshook__',\n",
       " 'capitalize',\n",
       " 'casefold',\n",
       " 'center',\n",
       " 'count',\n",
       " 'encode',\n",
       " 'endswith',\n",
       " 'expandtabs',\n",
       " 'find',\n",
       " 'format',\n",
       " 'format_map',\n",
       " 'index',\n",
       " 'isalnum',\n",
       " 'isalpha',\n",
       " 'isascii',\n",
       " 'isdecimal',\n",
       " 'isdigit',\n",
       " 'isidentifier',\n",
       " 'islower',\n",
       " 'isnumeric',\n",
       " 'isprintable',\n",
       " 'isspace',\n",
       " 'istitle',\n",
       " 'isupper',\n",
       " 'join',\n",
       " 'ljust',\n",
       " 'lower',\n",
       " 'lstrip',\n",
       " 'maketrans',\n",
       " 'partition',\n",
       " 'removeprefix',\n",
       " 'removesuffix',\n",
       " 'replace',\n",
       " 'rfind',\n",
       " 'rindex',\n",
       " 'rjust',\n",
       " 'rpartition',\n",
       " 'rsplit',\n",
       " 'rstrip',\n",
       " 'split',\n",
       " 'splitlines',\n",
       " 'startswith',\n",
       " 'strip',\n",
       " 'swapcase',\n",
       " 'title',\n",
       " 'translate',\n",
       " 'upper',\n",
       " 'zfill']"
      ]
     },
     "execution_count": 48,
     "metadata": {},
     "output_type": "execute_result"
    }
   ],
   "source": [
    "dir(S)"
   ]
  },
  {
   "cell_type": "code",
   "execution_count": 49,
   "id": "7e3988ca-d152-418e-bd1e-4990f62a673a",
   "metadata": {},
   "outputs": [
    {
     "data": {
      "text/plain": [
       "'spamNI!'"
      ]
     },
     "execution_count": 49,
     "metadata": {},
     "output_type": "execute_result"
    }
   ],
   "source": [
    "S + 'NI!'"
   ]
  },
  {
   "cell_type": "code",
   "execution_count": 50,
   "id": "825b72bd-2381-48cb-bfbf-d6df743ac126",
   "metadata": {},
   "outputs": [
    {
     "data": {
      "text/plain": [
       "'spamNI!'"
      ]
     },
     "execution_count": 50,
     "metadata": {},
     "output_type": "execute_result"
    }
   ],
   "source": [
    "S.__add__('NI!')"
   ]
  },
  {
   "cell_type": "code",
   "execution_count": 52,
   "id": "efc61db9-5b2e-4b74-81ab-a4c657187b4c",
   "metadata": {},
   "outputs": [
    {
     "name": "stdout",
     "output_type": "stream",
     "text": [
      "66.7 ns ± 5.9 ns per loop (mean ± std. dev. of 7 runs, 10,000,000 loops each)\n"
     ]
    }
   ],
   "source": [
    "%%timeit\n",
    "S + 'NI!'"
   ]
  },
  {
   "cell_type": "code",
   "execution_count": 53,
   "id": "cf6d650d-1bd4-42fe-8641-8afbbd1ea3e3",
   "metadata": {},
   "outputs": [
    {
     "name": "stdout",
     "output_type": "stream",
     "text": [
      "118 ns ± 6.27 ns per loop (mean ± std. dev. of 7 runs, 10,000,000 loops each)\n"
     ]
    }
   ],
   "source": [
    "%%timeit\n",
    "S.__add__('NI!')"
   ]
  },
  {
   "cell_type": "code",
   "execution_count": 54,
   "id": "4ee39f9d-5c07-44da-842b-5af99207b6cf",
   "metadata": {},
   "outputs": [
    {
     "name": "stdout",
     "output_type": "stream",
     "text": [
      "CPU times: total: 0 ns\n",
      "Wall time: 0 ns\n"
     ]
    },
    {
     "data": {
      "text/plain": [
       "'spamNI!'"
      ]
     },
     "execution_count": 54,
     "metadata": {},
     "output_type": "execute_result"
    }
   ],
   "source": [
    "%time\n",
    "S + 'NI!'"
   ]
  },
  {
   "cell_type": "code",
   "execution_count": 56,
   "id": "928382d0-19a8-4300-a569-55124b96fd56",
   "metadata": {},
   "outputs": [
    {
     "name": "stdout",
     "output_type": "stream",
     "text": [
      "Help on built-in function replace:\n",
      "\n",
      "replace(old, new, count=-1, /) method of builtins.str instance\n",
      "    Return a copy with all occurrences of substring old replaced by new.\n",
      "    \n",
      "      count\n",
      "        Maximum number of occurrences to replace.\n",
      "        -1 (the default value) means replace all occurrences.\n",
      "    \n",
      "    If the optional argument count is given, only the first count occurrences are\n",
      "    replaced.\n",
      "\n"
     ]
    }
   ],
   "source": [
    "help(S.replace)"
   ]
  },
  {
   "cell_type": "code",
   "execution_count": 57,
   "id": "880a9155-eb0c-422d-920e-9d5c3209c382",
   "metadata": {},
   "outputs": [],
   "source": [
    "S = 'A\\nB\\tC'"
   ]
  },
  {
   "cell_type": "code",
   "execution_count": 58,
   "id": "00fb99cd-8e8e-4be1-8dfe-0b056ede248f",
   "metadata": {},
   "outputs": [
    {
     "data": {
      "text/plain": [
       "5"
      ]
     },
     "execution_count": 58,
     "metadata": {},
     "output_type": "execute_result"
    }
   ],
   "source": [
    "len(S)"
   ]
  },
  {
   "cell_type": "code",
   "execution_count": 59,
   "id": "8ba03f6c-20f1-48cb-88bc-8b6c8d8b4d4b",
   "metadata": {},
   "outputs": [
    {
     "data": {
      "text/plain": [
       "10"
      ]
     },
     "execution_count": 59,
     "metadata": {},
     "output_type": "execute_result"
    }
   ],
   "source": [
    "ord('\\n')"
   ]
  },
  {
   "cell_type": "code",
   "execution_count": 60,
   "id": "eb6cfa42-4443-42ad-addf-fc6b156a21fa",
   "metadata": {},
   "outputs": [
    {
     "name": "stdout",
     "output_type": "stream",
     "text": [
      "Help on built-in function ord in module builtins:\n",
      "\n",
      "ord(c, /)\n",
      "    Return the Unicode code point for a one-character string.\n",
      "\n"
     ]
    }
   ],
   "source": [
    "help(ord)"
   ]
  },
  {
   "cell_type": "code",
   "execution_count": 62,
   "id": "270d5809-2d8f-4ccc-a958-4b2dcaf5f000",
   "metadata": {
    "scrolled": true,
    "tags": []
   },
   "outputs": [
    {
     "name": "stdout",
     "output_type": "stream",
     "text": [
      "Help on class str in module builtins:\n",
      "\n",
      "class str(object)\n",
      " |  str(object='') -> str\n",
      " |  str(bytes_or_buffer[, encoding[, errors]]) -> str\n",
      " |  \n",
      " |  Create a new string object from the given object. If encoding or\n",
      " |  errors is specified, then the object must expose a data buffer\n",
      " |  that will be decoded using the given encoding and error handler.\n",
      " |  Otherwise, returns the result of object.__str__() (if defined)\n",
      " |  or repr(object).\n",
      " |  encoding defaults to sys.getdefaultencoding().\n",
      " |  errors defaults to 'strict'.\n",
      " |  \n",
      " |  Methods defined here:\n",
      " |  \n",
      " |  __add__(self, value, /)\n",
      " |      Return self+value.\n",
      " |  \n",
      " |  __contains__(self, key, /)\n",
      " |      Return key in self.\n",
      " |  \n",
      " |  __eq__(self, value, /)\n",
      " |      Return self==value.\n",
      " |  \n",
      " |  __format__(self, format_spec, /)\n",
      " |      Return a formatted version of the string as described by format_spec.\n",
      " |  \n",
      " |  __ge__(self, value, /)\n",
      " |      Return self>=value.\n",
      " |  \n",
      " |  __getattribute__(self, name, /)\n",
      " |      Return getattr(self, name).\n",
      " |  \n",
      " |  __getitem__(self, key, /)\n",
      " |      Return self[key].\n",
      " |  \n",
      " |  __getnewargs__(...)\n",
      " |  \n",
      " |  __gt__(self, value, /)\n",
      " |      Return self>value.\n",
      " |  \n",
      " |  __hash__(self, /)\n",
      " |      Return hash(self).\n",
      " |  \n",
      " |  __iter__(self, /)\n",
      " |      Implement iter(self).\n",
      " |  \n",
      " |  __le__(self, value, /)\n",
      " |      Return self<=value.\n",
      " |  \n",
      " |  __len__(self, /)\n",
      " |      Return len(self).\n",
      " |  \n",
      " |  __lt__(self, value, /)\n",
      " |      Return self<value.\n",
      " |  \n",
      " |  __mod__(self, value, /)\n",
      " |      Return self%value.\n",
      " |  \n",
      " |  __mul__(self, value, /)\n",
      " |      Return self*value.\n",
      " |  \n",
      " |  __ne__(self, value, /)\n",
      " |      Return self!=value.\n",
      " |  \n",
      " |  __repr__(self, /)\n",
      " |      Return repr(self).\n",
      " |  \n",
      " |  __rmod__(self, value, /)\n",
      " |      Return value%self.\n",
      " |  \n",
      " |  __rmul__(self, value, /)\n",
      " |      Return value*self.\n",
      " |  \n",
      " |  __sizeof__(self, /)\n",
      " |      Return the size of the string in memory, in bytes.\n",
      " |  \n",
      " |  __str__(self, /)\n",
      " |      Return str(self).\n",
      " |  \n",
      " |  capitalize(self, /)\n",
      " |      Return a capitalized version of the string.\n",
      " |      \n",
      " |      More specifically, make the first character have upper case and the rest lower\n",
      " |      case.\n",
      " |  \n",
      " |  casefold(self, /)\n",
      " |      Return a version of the string suitable for caseless comparisons.\n",
      " |  \n",
      " |  center(self, width, fillchar=' ', /)\n",
      " |      Return a centered string of length width.\n",
      " |      \n",
      " |      Padding is done using the specified fill character (default is a space).\n",
      " |  \n",
      " |  count(...)\n",
      " |      S.count(sub[, start[, end]]) -> int\n",
      " |      \n",
      " |      Return the number of non-overlapping occurrences of substring sub in\n",
      " |      string S[start:end].  Optional arguments start and end are\n",
      " |      interpreted as in slice notation.\n",
      " |  \n",
      " |  encode(self, /, encoding='utf-8', errors='strict')\n",
      " |      Encode the string using the codec registered for encoding.\n",
      " |      \n",
      " |      encoding\n",
      " |        The encoding in which to encode the string.\n",
      " |      errors\n",
      " |        The error handling scheme to use for encoding errors.\n",
      " |        The default is 'strict' meaning that encoding errors raise a\n",
      " |        UnicodeEncodeError.  Other possible values are 'ignore', 'replace' and\n",
      " |        'xmlcharrefreplace' as well as any other name registered with\n",
      " |        codecs.register_error that can handle UnicodeEncodeErrors.\n",
      " |  \n",
      " |  endswith(...)\n",
      " |      S.endswith(suffix[, start[, end]]) -> bool\n",
      " |      \n",
      " |      Return True if S ends with the specified suffix, False otherwise.\n",
      " |      With optional start, test S beginning at that position.\n",
      " |      With optional end, stop comparing S at that position.\n",
      " |      suffix can also be a tuple of strings to try.\n",
      " |  \n",
      " |  expandtabs(self, /, tabsize=8)\n",
      " |      Return a copy where all tab characters are expanded using spaces.\n",
      " |      \n",
      " |      If tabsize is not given, a tab size of 8 characters is assumed.\n",
      " |  \n",
      " |  find(...)\n",
      " |      S.find(sub[, start[, end]]) -> int\n",
      " |      \n",
      " |      Return the lowest index in S where substring sub is found,\n",
      " |      such that sub is contained within S[start:end].  Optional\n",
      " |      arguments start and end are interpreted as in slice notation.\n",
      " |      \n",
      " |      Return -1 on failure.\n",
      " |  \n",
      " |  format(...)\n",
      " |      S.format(*args, **kwargs) -> str\n",
      " |      \n",
      " |      Return a formatted version of S, using substitutions from args and kwargs.\n",
      " |      The substitutions are identified by braces ('{' and '}').\n",
      " |  \n",
      " |  format_map(...)\n",
      " |      S.format_map(mapping) -> str\n",
      " |      \n",
      " |      Return a formatted version of S, using substitutions from mapping.\n",
      " |      The substitutions are identified by braces ('{' and '}').\n",
      " |  \n",
      " |  index(...)\n",
      " |      S.index(sub[, start[, end]]) -> int\n",
      " |      \n",
      " |      Return the lowest index in S where substring sub is found,\n",
      " |      such that sub is contained within S[start:end].  Optional\n",
      " |      arguments start and end are interpreted as in slice notation.\n",
      " |      \n",
      " |      Raises ValueError when the substring is not found.\n",
      " |  \n",
      " |  isalnum(self, /)\n",
      " |      Return True if the string is an alpha-numeric string, False otherwise.\n",
      " |      \n",
      " |      A string is alpha-numeric if all characters in the string are alpha-numeric and\n",
      " |      there is at least one character in the string.\n",
      " |  \n",
      " |  isalpha(self, /)\n",
      " |      Return True if the string is an alphabetic string, False otherwise.\n",
      " |      \n",
      " |      A string is alphabetic if all characters in the string are alphabetic and there\n",
      " |      is at least one character in the string.\n",
      " |  \n",
      " |  isascii(self, /)\n",
      " |      Return True if all characters in the string are ASCII, False otherwise.\n",
      " |      \n",
      " |      ASCII characters have code points in the range U+0000-U+007F.\n",
      " |      Empty string is ASCII too.\n",
      " |  \n",
      " |  isdecimal(self, /)\n",
      " |      Return True if the string is a decimal string, False otherwise.\n",
      " |      \n",
      " |      A string is a decimal string if all characters in the string are decimal and\n",
      " |      there is at least one character in the string.\n",
      " |  \n",
      " |  isdigit(self, /)\n",
      " |      Return True if the string is a digit string, False otherwise.\n",
      " |      \n",
      " |      A string is a digit string if all characters in the string are digits and there\n",
      " |      is at least one character in the string.\n",
      " |  \n",
      " |  isidentifier(self, /)\n",
      " |      Return True if the string is a valid Python identifier, False otherwise.\n",
      " |      \n",
      " |      Call keyword.iskeyword(s) to test whether string s is a reserved identifier,\n",
      " |      such as \"def\" or \"class\".\n",
      " |  \n",
      " |  islower(self, /)\n",
      " |      Return True if the string is a lowercase string, False otherwise.\n",
      " |      \n",
      " |      A string is lowercase if all cased characters in the string are lowercase and\n",
      " |      there is at least one cased character in the string.\n",
      " |  \n",
      " |  isnumeric(self, /)\n",
      " |      Return True if the string is a numeric string, False otherwise.\n",
      " |      \n",
      " |      A string is numeric if all characters in the string are numeric and there is at\n",
      " |      least one character in the string.\n",
      " |  \n",
      " |  isprintable(self, /)\n",
      " |      Return True if the string is printable, False otherwise.\n",
      " |      \n",
      " |      A string is printable if all of its characters are considered printable in\n",
      " |      repr() or if it is empty.\n",
      " |  \n",
      " |  isspace(self, /)\n",
      " |      Return True if the string is a whitespace string, False otherwise.\n",
      " |      \n",
      " |      A string is whitespace if all characters in the string are whitespace and there\n",
      " |      is at least one character in the string.\n",
      " |  \n",
      " |  istitle(self, /)\n",
      " |      Return True if the string is a title-cased string, False otherwise.\n",
      " |      \n",
      " |      In a title-cased string, upper- and title-case characters may only\n",
      " |      follow uncased characters and lowercase characters only cased ones.\n",
      " |  \n",
      " |  isupper(self, /)\n",
      " |      Return True if the string is an uppercase string, False otherwise.\n",
      " |      \n",
      " |      A string is uppercase if all cased characters in the string are uppercase and\n",
      " |      there is at least one cased character in the string.\n",
      " |  \n",
      " |  join(self, iterable, /)\n",
      " |      Concatenate any number of strings.\n",
      " |      \n",
      " |      The string whose method is called is inserted in between each given string.\n",
      " |      The result is returned as a new string.\n",
      " |      \n",
      " |      Example: '.'.join(['ab', 'pq', 'rs']) -> 'ab.pq.rs'\n",
      " |  \n",
      " |  ljust(self, width, fillchar=' ', /)\n",
      " |      Return a left-justified string of length width.\n",
      " |      \n",
      " |      Padding is done using the specified fill character (default is a space).\n",
      " |  \n",
      " |  lower(self, /)\n",
      " |      Return a copy of the string converted to lowercase.\n",
      " |  \n",
      " |  lstrip(self, chars=None, /)\n",
      " |      Return a copy of the string with leading whitespace removed.\n",
      " |      \n",
      " |      If chars is given and not None, remove characters in chars instead.\n",
      " |  \n",
      " |  partition(self, sep, /)\n",
      " |      Partition the string into three parts using the given separator.\n",
      " |      \n",
      " |      This will search for the separator in the string.  If the separator is found,\n",
      " |      returns a 3-tuple containing the part before the separator, the separator\n",
      " |      itself, and the part after it.\n",
      " |      \n",
      " |      If the separator is not found, returns a 3-tuple containing the original string\n",
      " |      and two empty strings.\n",
      " |  \n",
      " |  removeprefix(self, prefix, /)\n",
      " |      Return a str with the given prefix string removed if present.\n",
      " |      \n",
      " |      If the string starts with the prefix string, return string[len(prefix):].\n",
      " |      Otherwise, return a copy of the original string.\n",
      " |  \n",
      " |  removesuffix(self, suffix, /)\n",
      " |      Return a str with the given suffix string removed if present.\n",
      " |      \n",
      " |      If the string ends with the suffix string and that suffix is not empty,\n",
      " |      return string[:-len(suffix)]. Otherwise, return a copy of the original\n",
      " |      string.\n",
      " |  \n",
      " |  replace(self, old, new, count=-1, /)\n",
      " |      Return a copy with all occurrences of substring old replaced by new.\n",
      " |      \n",
      " |        count\n",
      " |          Maximum number of occurrences to replace.\n",
      " |          -1 (the default value) means replace all occurrences.\n",
      " |      \n",
      " |      If the optional argument count is given, only the first count occurrences are\n",
      " |      replaced.\n",
      " |  \n",
      " |  rfind(...)\n",
      " |      S.rfind(sub[, start[, end]]) -> int\n",
      " |      \n",
      " |      Return the highest index in S where substring sub is found,\n",
      " |      such that sub is contained within S[start:end].  Optional\n",
      " |      arguments start and end are interpreted as in slice notation.\n",
      " |      \n",
      " |      Return -1 on failure.\n",
      " |  \n",
      " |  rindex(...)\n",
      " |      S.rindex(sub[, start[, end]]) -> int\n",
      " |      \n",
      " |      Return the highest index in S where substring sub is found,\n",
      " |      such that sub is contained within S[start:end].  Optional\n",
      " |      arguments start and end are interpreted as in slice notation.\n",
      " |      \n",
      " |      Raises ValueError when the substring is not found.\n",
      " |  \n",
      " |  rjust(self, width, fillchar=' ', /)\n",
      " |      Return a right-justified string of length width.\n",
      " |      \n",
      " |      Padding is done using the specified fill character (default is a space).\n",
      " |  \n",
      " |  rpartition(self, sep, /)\n",
      " |      Partition the string into three parts using the given separator.\n",
      " |      \n",
      " |      This will search for the separator in the string, starting at the end. If\n",
      " |      the separator is found, returns a 3-tuple containing the part before the\n",
      " |      separator, the separator itself, and the part after it.\n",
      " |      \n",
      " |      If the separator is not found, returns a 3-tuple containing two empty strings\n",
      " |      and the original string.\n",
      " |  \n",
      " |  rsplit(self, /, sep=None, maxsplit=-1)\n",
      " |      Return a list of the words in the string, using sep as the delimiter string.\n",
      " |      \n",
      " |        sep\n",
      " |          The delimiter according which to split the string.\n",
      " |          None (the default value) means split according to any whitespace,\n",
      " |          and discard empty strings from the result.\n",
      " |        maxsplit\n",
      " |          Maximum number of splits to do.\n",
      " |          -1 (the default value) means no limit.\n",
      " |      \n",
      " |      Splits are done starting at the end of the string and working to the front.\n",
      " |  \n",
      " |  rstrip(self, chars=None, /)\n",
      " |      Return a copy of the string with trailing whitespace removed.\n",
      " |      \n",
      " |      If chars is given and not None, remove characters in chars instead.\n",
      " |  \n",
      " |  split(self, /, sep=None, maxsplit=-1)\n",
      " |      Return a list of the words in the string, using sep as the delimiter string.\n",
      " |      \n",
      " |      sep\n",
      " |        The delimiter according which to split the string.\n",
      " |        None (the default value) means split according to any whitespace,\n",
      " |        and discard empty strings from the result.\n",
      " |      maxsplit\n",
      " |        Maximum number of splits to do.\n",
      " |        -1 (the default value) means no limit.\n",
      " |  \n",
      " |  splitlines(self, /, keepends=False)\n",
      " |      Return a list of the lines in the string, breaking at line boundaries.\n",
      " |      \n",
      " |      Line breaks are not included in the resulting list unless keepends is given and\n",
      " |      true.\n",
      " |  \n",
      " |  startswith(...)\n",
      " |      S.startswith(prefix[, start[, end]]) -> bool\n",
      " |      \n",
      " |      Return True if S starts with the specified prefix, False otherwise.\n",
      " |      With optional start, test S beginning at that position.\n",
      " |      With optional end, stop comparing S at that position.\n",
      " |      prefix can also be a tuple of strings to try.\n",
      " |  \n",
      " |  strip(self, chars=None, /)\n",
      " |      Return a copy of the string with leading and trailing whitespace removed.\n",
      " |      \n",
      " |      If chars is given and not None, remove characters in chars instead.\n",
      " |  \n",
      " |  swapcase(self, /)\n",
      " |      Convert uppercase characters to lowercase and lowercase characters to uppercase.\n",
      " |  \n",
      " |  title(self, /)\n",
      " |      Return a version of the string where each word is titlecased.\n",
      " |      \n",
      " |      More specifically, words start with uppercased characters and all remaining\n",
      " |      cased characters have lower case.\n",
      " |  \n",
      " |  translate(self, table, /)\n",
      " |      Replace each character in the string using the given translation table.\n",
      " |      \n",
      " |        table\n",
      " |          Translation table, which must be a mapping of Unicode ordinals to\n",
      " |          Unicode ordinals, strings, or None.\n",
      " |      \n",
      " |      The table must implement lookup/indexing via __getitem__, for instance a\n",
      " |      dictionary or list.  If this operation raises LookupError, the character is\n",
      " |      left untouched.  Characters mapped to None are deleted.\n",
      " |  \n",
      " |  upper(self, /)\n",
      " |      Return a copy of the string converted to uppercase.\n",
      " |  \n",
      " |  zfill(self, width, /)\n",
      " |      Pad a numeric string with zeros on the left, to fill a field of the given width.\n",
      " |      \n",
      " |      The string is never truncated.\n",
      " |  \n",
      " |  ----------------------------------------------------------------------\n",
      " |  Static methods defined here:\n",
      " |  \n",
      " |  __new__(*args, **kwargs) from builtins.type\n",
      " |      Create and return a new object.  See help(type) for accurate signature.\n",
      " |  \n",
      " |  maketrans(...)\n",
      " |      Return a translation table usable for str.translate().\n",
      " |      \n",
      " |      If there is only one argument, it must be a dictionary mapping Unicode\n",
      " |      ordinals (integers) or characters to Unicode ordinals, strings or None.\n",
      " |      Character keys will be then converted to ordinals.\n",
      " |      If there are two arguments, they must be strings of equal length, and\n",
      " |      in the resulting dictionary, each character in x will be mapped to the\n",
      " |      character at the same position in y. If there is a third argument, it\n",
      " |      must be a string, whose characters will be mapped to None in the result.\n",
      "\n"
     ]
    }
   ],
   "source": [
    "help('\\n')"
   ]
  },
  {
   "cell_type": "code",
   "execution_count": 64,
   "id": "a8738e78-edac-4952-a1ef-732c58d66f09",
   "metadata": {},
   "outputs": [],
   "source": [
    "msg = \"\"\"\n",
    "aaaaaaaaaa\n",
    "bbbb'''bbbbbbbbbbbbbbb\"\"bbbbbbbbbb'bbbbb\n",
    "ccccccccc\n",
    "\"\"\""
   ]
  },
  {
   "cell_type": "code",
   "execution_count": 65,
   "id": "7345ac44-2de3-4723-9dd8-66b3208d32ad",
   "metadata": {},
   "outputs": [
    {
     "data": {
      "text/plain": [
       "'\\naaaaaaaaaa\\nbbbb\\'\\'\\'bbbbbbbbbbbbbbb\"\"bbbbbbbbbb\\'bbbbb\\nccccccccc\\n'"
      ]
     },
     "execution_count": 65,
     "metadata": {},
     "output_type": "execute_result"
    }
   ],
   "source": [
    "msg"
   ]
  },
  {
   "cell_type": "code",
   "execution_count": 66,
   "id": "a077522c-09d0-4ea3-a546-37117e76ba85",
   "metadata": {},
   "outputs": [
    {
     "data": {
      "text/plain": [
       "'spÄm'"
      ]
     },
     "execution_count": 66,
     "metadata": {},
     "output_type": "execute_result"
    }
   ],
   "source": [
    "'sp\\xc4m' # normal str strings are Unicode text"
   ]
  },
  {
   "cell_type": "code",
   "execution_count": 67,
   "id": "a4c1d7ff-023c-44bd-aa22-c5f2e9b63b78",
   "metadata": {},
   "outputs": [
    {
     "data": {
      "text/plain": [
       "b'a\\x01c'"
      ]
     },
     "execution_count": 67,
     "metadata": {},
     "output_type": "execute_result"
    }
   ],
   "source": [
    "b'a\\x01c' # byte strings are byte-based data"
   ]
  },
  {
   "cell_type": "code",
   "execution_count": 69,
   "id": "22165c9d-0080-429d-824e-198c6f7294d3",
   "metadata": {},
   "outputs": [
    {
     "data": {
      "text/plain": [
       "'spÄm'"
      ]
     },
     "execution_count": 69,
     "metadata": {},
     "output_type": "execute_result"
    }
   ],
   "source": [
    "u'sp\\u00c4m'"
   ]
  },
  {
   "cell_type": "code",
   "execution_count": 71,
   "id": "97321a7a-4d5c-484d-b5c0-843ee86edf24",
   "metadata": {},
   "outputs": [
    {
     "name": "stdout",
     "output_type": "stream",
     "text": [
      "spÄm\n"
     ]
    }
   ],
   "source": [
    "print(u'sp\\xc4m')"
   ]
  },
  {
   "cell_type": "code",
   "execution_count": 72,
   "id": "8958e3de-89bd-477c-a920-c7efa75931de",
   "metadata": {},
   "outputs": [
    {
     "data": {
      "text/plain": [
       "b'spam'"
      ]
     },
     "execution_count": 72,
     "metadata": {},
     "output_type": "execute_result"
    }
   ],
   "source": [
    "'spam'.encode('utf8') # Encoded to 4 bytes in UTF-8 in files"
   ]
  },
  {
   "cell_type": "code",
   "execution_count": 73,
   "id": "cbbee4c2-eb9c-4013-918d-8de0573b1cbe",
   "metadata": {},
   "outputs": [
    {
     "data": {
      "text/plain": [
       "b'\\xff\\xfes\\x00p\\x00a\\x00m\\x00'"
      ]
     },
     "execution_count": 73,
     "metadata": {},
     "output_type": "execute_result"
    }
   ],
   "source": [
    "'spam'.encode('utf16') # Encoded to 10 bytts in UTF-16"
   ]
  },
  {
   "cell_type": "code",
   "execution_count": 74,
   "id": "c565bc06-a466-4d05-a979-9ae9d6dd00bd",
   "metadata": {},
   "outputs": [],
   "source": [
    "import re"
   ]
  },
  {
   "cell_type": "code",
   "execution_count": 75,
   "id": "ced95d84-aab1-4c43-8a94-4db43020577e",
   "metadata": {},
   "outputs": [],
   "source": [
    "match = re.match('Hello[ \\t]*(.*)world', 'Hello     Python world')"
   ]
  },
  {
   "cell_type": "code",
   "execution_count": 77,
   "id": "e6eb06ae-66b6-4e0f-ae28-d1903f69e7bd",
   "metadata": {},
   "outputs": [
    {
     "data": {
      "text/plain": [
       "'Python '"
      ]
     },
     "execution_count": 77,
     "metadata": {},
     "output_type": "execute_result"
    }
   ],
   "source": [
    "match.group(1)"
   ]
  },
  {
   "cell_type": "code",
   "execution_count": 78,
   "id": "be377d22-da16-4619-8262-814741a0b305",
   "metadata": {},
   "outputs": [
    {
     "data": {
      "text/plain": [
       "3"
      ]
     },
     "execution_count": 78,
     "metadata": {},
     "output_type": "execute_result"
    }
   ],
   "source": [
    "L = [123, 'spam', 1.23]  # A list of three different-type objects\n",
    "len(L)"
   ]
  },
  {
   "cell_type": "code",
   "execution_count": 79,
   "id": "f5fdd1eb-a5dd-45a2-9976-a029a0df3594",
   "metadata": {},
   "outputs": [
    {
     "data": {
      "text/plain": [
       "123"
      ]
     },
     "execution_count": 79,
     "metadata": {},
     "output_type": "execute_result"
    }
   ],
   "source": [
    "L[0]"
   ]
  },
  {
   "cell_type": "code",
   "execution_count": 80,
   "id": "aeca312f-e741-4b1a-9072-fa3c32f8452a",
   "metadata": {},
   "outputs": [
    {
     "data": {
      "text/plain": [
       "1.23"
      ]
     },
     "execution_count": 80,
     "metadata": {},
     "output_type": "execute_result"
    }
   ],
   "source": [
    "L[-1]"
   ]
  },
  {
   "cell_type": "code",
   "execution_count": 81,
   "id": "d56c1df1-ba35-4b69-9b38-f4039a36534a",
   "metadata": {},
   "outputs": [
    {
     "data": {
      "text/plain": [
       "[123, 'spam', 1.23, 4, 5, 6]"
      ]
     },
     "execution_count": 81,
     "metadata": {},
     "output_type": "execute_result"
    }
   ],
   "source": [
    "L + [4, 5, 6]"
   ]
  },
  {
   "cell_type": "code",
   "execution_count": 82,
   "id": "bcdaa5d9-d915-496c-90b9-ab7f1b42553a",
   "metadata": {},
   "outputs": [
    {
     "data": {
      "text/plain": [
       "[123, 'spam', 1.23, 123, 'spam', 1.23]"
      ]
     },
     "execution_count": 82,
     "metadata": {},
     "output_type": "execute_result"
    }
   ],
   "source": [
    "L * 2"
   ]
  },
  {
   "cell_type": "code",
   "execution_count": 83,
   "id": "c01fb929-3f8a-4032-a4ff-5173acb7f8f6",
   "metadata": {},
   "outputs": [
    {
     "data": {
      "text/plain": [
       "[123, 'spam', 1.23]"
      ]
     },
     "execution_count": 83,
     "metadata": {},
     "output_type": "execute_result"
    }
   ],
   "source": [
    "L"
   ]
  },
  {
   "cell_type": "code",
   "execution_count": 84,
   "id": "0266fb27-b833-40ac-9b32-8ac1b96699d0",
   "metadata": {},
   "outputs": [],
   "source": [
    "L.append('NI')"
   ]
  },
  {
   "cell_type": "code",
   "execution_count": 85,
   "id": "bf6fcefa-7d6d-40b6-a62d-be22d1f6a4ce",
   "metadata": {},
   "outputs": [
    {
     "data": {
      "text/plain": [
       "[123, 'spam', 1.23, 'NI']"
      ]
     },
     "execution_count": 85,
     "metadata": {},
     "output_type": "execute_result"
    }
   ],
   "source": [
    "L"
   ]
  },
  {
   "cell_type": "code",
   "execution_count": 91,
   "id": "f71b60fa-5f4e-4551-8d37-6ae86647311f",
   "metadata": {},
   "outputs": [
    {
     "data": {
      "text/plain": [
       "'NI'"
      ]
     },
     "execution_count": 91,
     "metadata": {},
     "output_type": "execute_result"
    }
   ],
   "source": [
    "L.pop()"
   ]
  },
  {
   "cell_type": "code",
   "execution_count": 92,
   "id": "b4054558-d6ee-4cb1-83d1-7e9ddf41d1b1",
   "metadata": {},
   "outputs": [
    {
     "data": {
      "text/plain": [
       "[123, 'spam', 1.23]"
      ]
     },
     "execution_count": 92,
     "metadata": {},
     "output_type": "execute_result"
    }
   ],
   "source": [
    "L"
   ]
  },
  {
   "cell_type": "code",
   "execution_count": 86,
   "id": "5b019286-3d92-4b80-8467-6ce45e9c72a1",
   "metadata": {},
   "outputs": [],
   "source": [
    "M = ['bb', 'aa', 'cc']"
   ]
  },
  {
   "cell_type": "code",
   "execution_count": 87,
   "id": "29c4f5ae-2607-4048-8c7e-26914ca14efa",
   "metadata": {},
   "outputs": [],
   "source": [
    "M.sort()"
   ]
  },
  {
   "cell_type": "code",
   "execution_count": 88,
   "id": "b9656d3f-85e2-4287-befd-3c1a22dd3d9c",
   "metadata": {},
   "outputs": [
    {
     "data": {
      "text/plain": [
       "['aa', 'bb', 'cc']"
      ]
     },
     "execution_count": 88,
     "metadata": {},
     "output_type": "execute_result"
    }
   ],
   "source": [
    "M"
   ]
  },
  {
   "cell_type": "code",
   "execution_count": 89,
   "id": "ad6bfd20-f4a8-47ed-a052-68d1a2271fb1",
   "metadata": {},
   "outputs": [],
   "source": [
    "M.reverse()"
   ]
  },
  {
   "cell_type": "code",
   "execution_count": 90,
   "id": "de640471-2cba-4912-b2a6-59da0cae41c3",
   "metadata": {},
   "outputs": [
    {
     "data": {
      "text/plain": [
       "['cc', 'bb', 'aa']"
      ]
     },
     "execution_count": 90,
     "metadata": {},
     "output_type": "execute_result"
    }
   ],
   "source": [
    "M"
   ]
  },
  {
   "cell_type": "code",
   "execution_count": 93,
   "id": "fc1e9fa7-81d3-4f7f-b020-322991e2d8d5",
   "metadata": {},
   "outputs": [
    {
     "data": {
      "text/plain": [
       "[123, 'spam', 1.23]"
      ]
     },
     "execution_count": 93,
     "metadata": {},
     "output_type": "execute_result"
    }
   ],
   "source": [
    "L"
   ]
  },
  {
   "cell_type": "code",
   "execution_count": 1,
   "id": "c03f1a31-b75e-4f24-8178-07c64ac2d984",
   "metadata": {},
   "outputs": [],
   "source": [
    "M = [[1, 2, 3],\n",
    "     [4, 5, 6],\n",
    "     [7, 8, 9]]"
   ]
  },
  {
   "cell_type": "code",
   "execution_count": 2,
   "id": "34be955c-ed80-4de8-845f-70a03cde065c",
   "metadata": {},
   "outputs": [
    {
     "data": {
      "text/plain": [
       "[[1, 2, 3], [4, 5, 6], [7, 8, 9]]"
      ]
     },
     "execution_count": 2,
     "metadata": {},
     "output_type": "execute_result"
    }
   ],
   "source": [
    "M"
   ]
  },
  {
   "cell_type": "code",
   "execution_count": 3,
   "id": "2fd1295c-629c-4df7-bad3-7d46bc700874",
   "metadata": {},
   "outputs": [
    {
     "data": {
      "text/plain": [
       "[4, 5, 6]"
      ]
     },
     "execution_count": 3,
     "metadata": {},
     "output_type": "execute_result"
    }
   ],
   "source": [
    "M[1]"
   ]
  },
  {
   "cell_type": "code",
   "execution_count": 4,
   "id": "668094d0-87b4-4147-88e5-b37bceab0508",
   "metadata": {},
   "outputs": [
    {
     "data": {
      "text/plain": [
       "6"
      ]
     },
     "execution_count": 4,
     "metadata": {},
     "output_type": "execute_result"
    }
   ],
   "source": [
    "M[1][2]"
   ]
  },
  {
   "cell_type": "code",
   "execution_count": 5,
   "id": "fbe2e1c5-a90c-4885-a137-bf59b1ac9c24",
   "metadata": {},
   "outputs": [],
   "source": [
    "col2 = [row[1] for row in M]"
   ]
  },
  {
   "cell_type": "code",
   "execution_count": 6,
   "id": "1480b3a2-ee8f-4059-85c0-bad677913b3e",
   "metadata": {},
   "outputs": [
    {
     "data": {
      "text/plain": [
       "[2, 5, 8]"
      ]
     },
     "execution_count": 6,
     "metadata": {},
     "output_type": "execute_result"
    }
   ],
   "source": [
    "col2"
   ]
  },
  {
   "cell_type": "code",
   "execution_count": 7,
   "id": "ecdcfb5f-cfc1-4472-a4e0-327b0e62e1c2",
   "metadata": {},
   "outputs": [
    {
     "data": {
      "text/plain": [
       "[3, 6, 9]"
      ]
     },
     "execution_count": 7,
     "metadata": {},
     "output_type": "execute_result"
    }
   ],
   "source": [
    "[row[1] + 1 for row in M]"
   ]
  },
  {
   "cell_type": "code",
   "execution_count": 8,
   "id": "718ce18f-59fb-4362-8fa9-67736251a5ff",
   "metadata": {},
   "outputs": [
    {
     "data": {
      "text/plain": [
       "[2, 8]"
      ]
     },
     "execution_count": 8,
     "metadata": {},
     "output_type": "execute_result"
    }
   ],
   "source": [
    "[row[1] for row in M if row[1]%2==0]"
   ]
  },
  {
   "cell_type": "code",
   "execution_count": 9,
   "id": "03c55dea-d1a9-4425-aa2f-023e2fee7077",
   "metadata": {},
   "outputs": [],
   "source": [
    "diag = [M[i][i] for i in [0,1,2]]"
   ]
  },
  {
   "cell_type": "code",
   "execution_count": 10,
   "id": "763e920c-be94-46eb-b027-a8f02fefc3cf",
   "metadata": {},
   "outputs": [
    {
     "data": {
      "text/plain": [
       "[1, 5, 9]"
      ]
     },
     "execution_count": 10,
     "metadata": {},
     "output_type": "execute_result"
    }
   ],
   "source": [
    "diag"
   ]
  },
  {
   "cell_type": "code",
   "execution_count": 11,
   "id": "be2e5f62-cc50-4c5b-a316-1488febb626b",
   "metadata": {},
   "outputs": [],
   "source": [
    "doubles = [c*2 for c in 'spam']"
   ]
  },
  {
   "cell_type": "code",
   "execution_count": 12,
   "id": "d3d22e7b-a2e2-4ea2-a096-f328a3d7da9c",
   "metadata": {},
   "outputs": [
    {
     "data": {
      "text/plain": [
       "['ss', 'pp', 'aa', 'mm']"
      ]
     },
     "execution_count": 12,
     "metadata": {},
     "output_type": "execute_result"
    }
   ],
   "source": [
    "doubles"
   ]
  },
  {
   "cell_type": "code",
   "execution_count": 13,
   "id": "20b452be-4992-46d9-9101-b3756e6c24a8",
   "metadata": {},
   "outputs": [
    {
     "data": {
      "text/plain": [
       "[0, 1, 2, 3]"
      ]
     },
     "execution_count": 13,
     "metadata": {},
     "output_type": "execute_result"
    }
   ],
   "source": [
    "list(range(4))"
   ]
  },
  {
   "cell_type": "code",
   "execution_count": 14,
   "id": "9175c294-0486-42fd-be6b-730a3c21b130",
   "metadata": {},
   "outputs": [
    {
     "data": {
      "text/plain": [
       "[-6, -4, -2, 0, 2, 4, 6]"
      ]
     },
     "execution_count": 14,
     "metadata": {},
     "output_type": "execute_result"
    }
   ],
   "source": [
    "list(range(-6, 7, 2))"
   ]
  },
  {
   "cell_type": "code",
   "execution_count": 15,
   "id": "f33b4da4-5bfe-4950-a786-319611949283",
   "metadata": {},
   "outputs": [
    {
     "data": {
      "text/plain": [
       "[[0, 0], [1, 1], [4, 8], [9, 27]]"
      ]
     },
     "execution_count": 15,
     "metadata": {},
     "output_type": "execute_result"
    }
   ],
   "source": [
    "[[x ** 2, x ** 3 ] for x in range(4)]"
   ]
  },
  {
   "cell_type": "code",
   "execution_count": 16,
   "id": "0cdc3d8f-aefc-4184-b0af-717007f771a4",
   "metadata": {},
   "outputs": [
    {
     "data": {
      "text/plain": [
       "[[2, 1.0, 4], [4, 2.0, 8], [6, 3.0, 12]]"
      ]
     },
     "execution_count": 16,
     "metadata": {},
     "output_type": "execute_result"
    }
   ],
   "source": [
    "[[x, x/2, x*2] for x in range(-6,7,2) if x>0]"
   ]
  },
  {
   "cell_type": "code",
   "execution_count": 17,
   "id": "df1fb4de-d0f7-482d-ba4a-eec45a39b0a5",
   "metadata": {},
   "outputs": [],
   "source": [
    "G = (sum(row) for row in M)"
   ]
  },
  {
   "cell_type": "code",
   "execution_count": 18,
   "id": "b7da12ca-98c5-49b0-b405-ca568b6ff5ee",
   "metadata": {},
   "outputs": [
    {
     "data": {
      "text/plain": [
       "<generator object <genexpr> at 0x00000245F3ACF970>"
      ]
     },
     "execution_count": 18,
     "metadata": {},
     "output_type": "execute_result"
    }
   ],
   "source": [
    "G"
   ]
  },
  {
   "cell_type": "code",
   "execution_count": 19,
   "id": "ad13da03-d9d6-45ef-991d-83895e00e9d8",
   "metadata": {},
   "outputs": [
    {
     "data": {
      "text/plain": [
       "6"
      ]
     },
     "execution_count": 19,
     "metadata": {},
     "output_type": "execute_result"
    }
   ],
   "source": [
    "next(G)"
   ]
  },
  {
   "cell_type": "code",
   "execution_count": 20,
   "id": "3567710a-9a84-48d0-98ae-31dff96be66b",
   "metadata": {},
   "outputs": [
    {
     "data": {
      "text/plain": [
       "15"
      ]
     },
     "execution_count": 20,
     "metadata": {},
     "output_type": "execute_result"
    }
   ],
   "source": [
    "next(G)"
   ]
  },
  {
   "cell_type": "code",
   "execution_count": 21,
   "id": "ff4d7b74-3cf2-46e3-bd49-423802b2e508",
   "metadata": {},
   "outputs": [
    {
     "data": {
      "text/plain": [
       "24"
      ]
     },
     "execution_count": 21,
     "metadata": {},
     "output_type": "execute_result"
    }
   ],
   "source": [
    "next(G)"
   ]
  },
  {
   "cell_type": "code",
   "execution_count": 22,
   "id": "a36e8275-8ec5-4d00-899d-f6297548b168",
   "metadata": {},
   "outputs": [
    {
     "data": {
      "text/plain": [
       "[6, 15, 24]"
      ]
     },
     "execution_count": 22,
     "metadata": {},
     "output_type": "execute_result"
    }
   ],
   "source": [
    "list(map(sum, M))"
   ]
  },
  {
   "cell_type": "code",
   "execution_count": 23,
   "id": "38676f55-ee60-41e3-a9ca-0dab3f379c10",
   "metadata": {},
   "outputs": [
    {
     "data": {
      "text/plain": [
       "{6, 15, 24}"
      ]
     },
     "execution_count": 23,
     "metadata": {},
     "output_type": "execute_result"
    }
   ],
   "source": [
    "{sum(row) for row in M}"
   ]
  },
  {
   "cell_type": "code",
   "execution_count": 26,
   "id": "b84c0c66-d845-40c7-a004-b3d173761165",
   "metadata": {},
   "outputs": [
    {
     "data": {
      "text/plain": [
       "{0: 6, 1: 15, 2: 24}"
      ]
     },
     "execution_count": 26,
     "metadata": {},
     "output_type": "execute_result"
    }
   ],
   "source": [
    "{i : sum(M[i]) for i in range(3)}"
   ]
  },
  {
   "cell_type": "code",
   "execution_count": 29,
   "id": "228fa3b6-6eeb-48d0-9e67-4aa5055fd13b",
   "metadata": {},
   "outputs": [
    {
     "data": {
      "text/plain": [
       "[115, 112, 97, 97, 109]"
      ]
     },
     "execution_count": 29,
     "metadata": {},
     "output_type": "execute_result"
    }
   ],
   "source": [
    "[ord(x) for x in 'spaam']"
   ]
  },
  {
   "cell_type": "code",
   "execution_count": 30,
   "id": "17a09e4c-b587-44f9-a256-936ffce810ef",
   "metadata": {},
   "outputs": [
    {
     "data": {
      "text/plain": [
       "{97, 109, 112, 115}"
      ]
     },
     "execution_count": 30,
     "metadata": {},
     "output_type": "execute_result"
    }
   ],
   "source": [
    "{ord(x) for x in 'spaam'}"
   ]
  },
  {
   "cell_type": "code",
   "execution_count": 31,
   "id": "2b1ba7e7-594e-4659-8ee7-df3815f62c4f",
   "metadata": {},
   "outputs": [
    {
     "data": {
      "text/plain": [
       "{'s': 115, 'p': 112, 'a': 97, 'm': 109}"
      ]
     },
     "execution_count": 31,
     "metadata": {},
     "output_type": "execute_result"
    }
   ],
   "source": [
    "{x:ord(x) for x in 'spaam'}"
   ]
  },
  {
   "cell_type": "code",
   "execution_count": 32,
   "id": "164065d1-ee83-4597-adab-d7c0054fbb14",
   "metadata": {},
   "outputs": [
    {
     "data": {
      "text/plain": [
       "<generator object <genexpr> at 0x00000245F5904430>"
      ]
     },
     "execution_count": 32,
     "metadata": {},
     "output_type": "execute_result"
    }
   ],
   "source": [
    "(ord(x) for x in 'spaam')"
   ]
  },
  {
   "cell_type": "code",
   "execution_count": 33,
   "id": "d731611f-1a76-445f-9360-f8e0ba02aa4f",
   "metadata": {},
   "outputs": [],
   "source": [
    "D = {'food':'spam', 'quantity':4, 'color':'pink'}"
   ]
  },
  {
   "cell_type": "code",
   "execution_count": 34,
   "id": "b4d01751-3b53-4f7f-92c0-96899844adae",
   "metadata": {},
   "outputs": [
    {
     "data": {
      "text/plain": [
       "'spam'"
      ]
     },
     "execution_count": 34,
     "metadata": {},
     "output_type": "execute_result"
    }
   ],
   "source": [
    "D['food']"
   ]
  },
  {
   "cell_type": "code",
   "execution_count": 35,
   "id": "07b67586-c640-4cca-9b9f-d4e23be0ada5",
   "metadata": {},
   "outputs": [
    {
     "data": {
      "text/plain": [
       "4"
      ]
     },
     "execution_count": 35,
     "metadata": {},
     "output_type": "execute_result"
    }
   ],
   "source": [
    "D['quantity']"
   ]
  },
  {
   "cell_type": "code",
   "execution_count": 36,
   "id": "9cc5d96f-923f-47af-8745-de9b849f5ad0",
   "metadata": {},
   "outputs": [
    {
     "data": {
      "text/plain": [
       "{'food': 'spam', 'quantity': 4, 'color': 'pink'}"
      ]
     },
     "execution_count": 36,
     "metadata": {},
     "output_type": "execute_result"
    }
   ],
   "source": [
    "D"
   ]
  },
  {
   "cell_type": "code",
   "execution_count": 39,
   "id": "03c2f9f5-908b-4c0a-b396-b62e3420dceb",
   "metadata": {},
   "outputs": [],
   "source": [
    "D['quantity'] += 1"
   ]
  },
  {
   "cell_type": "code",
   "execution_count": 40,
   "id": "76c5a396-f240-4d71-9b59-a066f3782445",
   "metadata": {},
   "outputs": [
    {
     "data": {
      "text/plain": [
       "{'food': 'spam', 'quantity': 5, 'color': 'pink'}"
      ]
     },
     "execution_count": 40,
     "metadata": {},
     "output_type": "execute_result"
    }
   ],
   "source": [
    "D"
   ]
  },
  {
   "cell_type": "code",
   "execution_count": 41,
   "id": "0a5a352a-4b46-48ce-97c3-1dd6a05f0341",
   "metadata": {},
   "outputs": [],
   "source": [
    "D = {}\n",
    "D['name'] = 'Bob'\n",
    "D['job'] = 'dev'\n",
    "D['age'] = 40"
   ]
  },
  {
   "cell_type": "code",
   "execution_count": 42,
   "id": "b7f08ed8-2425-4b79-9ac8-05f10bb2fa23",
   "metadata": {},
   "outputs": [
    {
     "data": {
      "text/plain": [
       "{'name': 'Bob', 'job': 'dev', 'age': 40}"
      ]
     },
     "execution_count": 42,
     "metadata": {},
     "output_type": "execute_result"
    }
   ],
   "source": [
    "D"
   ]
  },
  {
   "cell_type": "code",
   "execution_count": 43,
   "id": "74c86a2f-ec97-40f3-a118-0d69c96f7664",
   "metadata": {},
   "outputs": [
    {
     "name": "stdout",
     "output_type": "stream",
     "text": [
      "Bob\n"
     ]
    }
   ],
   "source": [
    "print(D['name'])"
   ]
  },
  {
   "cell_type": "code",
   "execution_count": 44,
   "id": "f145f677-d594-4255-a3b4-0ace56e3e569",
   "metadata": {},
   "outputs": [],
   "source": [
    "bob1 = dict(name='Bob', job='dev', age=40)"
   ]
  },
  {
   "cell_type": "code",
   "execution_count": 45,
   "id": "0ac7a773-0ab6-4097-92f4-db9bb9ac8ee3",
   "metadata": {},
   "outputs": [
    {
     "data": {
      "text/plain": [
       "{'name': 'Bob', 'job': 'dev', 'age': 40}"
      ]
     },
     "execution_count": 45,
     "metadata": {},
     "output_type": "execute_result"
    }
   ],
   "source": [
    "bob1"
   ]
  },
  {
   "cell_type": "code",
   "execution_count": 47,
   "id": "5a4f9ff9-c11a-4ef9-a0a4-a57b14fbc1a4",
   "metadata": {},
   "outputs": [],
   "source": [
    "bob2 = dict(zip(['name', 'job', 'age'], ['Bob', 'dev', 40]))"
   ]
  },
  {
   "cell_type": "code",
   "execution_count": 48,
   "id": "9f33c364-69e3-4447-93f1-81a363f5d63d",
   "metadata": {},
   "outputs": [
    {
     "data": {
      "text/plain": [
       "{'name': 'Bob', 'job': 'dev', 'age': 40}"
      ]
     },
     "execution_count": 48,
     "metadata": {},
     "output_type": "execute_result"
    }
   ],
   "source": [
    "bob2"
   ]
  },
  {
   "cell_type": "code",
   "execution_count": 49,
   "id": "474aa659-2ecd-47cf-a5eb-487082216ed5",
   "metadata": {},
   "outputs": [
    {
     "name": "stdout",
     "output_type": "stream",
     "text": [
      "Help on class zip in module builtins:\n",
      "\n",
      "class zip(object)\n",
      " |  zip(*iterables) --> A zip object yielding tuples until an input is exhausted.\n",
      " |  \n",
      " |     >>> list(zip('abcdefg', range(3), range(4)))\n",
      " |     [('a', 0, 0), ('b', 1, 1), ('c', 2, 2)]\n",
      " |  \n",
      " |  The zip object yields n-length tuples, where n is the number of iterables\n",
      " |  passed as positional arguments to zip().  The i-th element in every tuple\n",
      " |  comes from the i-th iterable argument to zip().  This continues until the\n",
      " |  shortest argument is exhausted.\n",
      " |  \n",
      " |  Methods defined here:\n",
      " |  \n",
      " |  __getattribute__(self, name, /)\n",
      " |      Return getattr(self, name).\n",
      " |  \n",
      " |  __iter__(self, /)\n",
      " |      Implement iter(self).\n",
      " |  \n",
      " |  __next__(self, /)\n",
      " |      Implement next(self).\n",
      " |  \n",
      " |  __reduce__(...)\n",
      " |      Return state information for pickling.\n",
      " |  \n",
      " |  ----------------------------------------------------------------------\n",
      " |  Static methods defined here:\n",
      " |  \n",
      " |  __new__(*args, **kwargs) from builtins.type\n",
      " |      Create and return a new object.  See help(type) for accurate signature.\n",
      "\n"
     ]
    }
   ],
   "source": [
    "help(zip)"
   ]
  },
  {
   "cell_type": "code",
   "execution_count": 1,
   "id": "8d66b4b8-0619-41f7-bc61-cc37d2209d35",
   "metadata": {},
   "outputs": [],
   "source": [
    "D = {'food':'spam', 'quantity':4, 'color':'pink'}"
   ]
  },
  {
   "cell_type": "code",
   "execution_count": 2,
   "id": "7e2d5675-54a9-4861-be10-d9e290bf4a14",
   "metadata": {},
   "outputs": [
    {
     "data": {
      "text/plain": [
       "{'food': 'spam', 'quantity': 4, 'color': 'pink'}"
      ]
     },
     "execution_count": 2,
     "metadata": {},
     "output_type": "execute_result"
    }
   ],
   "source": [
    "D"
   ]
  },
  {
   "cell_type": "code",
   "execution_count": 3,
   "id": "93b5708b-7332-4fe8-a28a-fea213b80d14",
   "metadata": {},
   "outputs": [
    {
     "data": {
      "text/plain": [
       "'spam'"
      ]
     },
     "execution_count": 3,
     "metadata": {},
     "output_type": "execute_result"
    }
   ],
   "source": [
    "D['food']"
   ]
  },
  {
   "cell_type": "code",
   "execution_count": 4,
   "id": "82bc17d8-f470-49d3-b04e-5e988a2e21e6",
   "metadata": {},
   "outputs": [],
   "source": [
    "D['quantity'] += 1"
   ]
  },
  {
   "cell_type": "code",
   "execution_count": 5,
   "id": "fb842602-960b-4f30-a021-29b22b9107fe",
   "metadata": {},
   "outputs": [
    {
     "data": {
      "text/plain": [
       "{'food': 'spam', 'quantity': 5, 'color': 'pink'}"
      ]
     },
     "execution_count": 5,
     "metadata": {},
     "output_type": "execute_result"
    }
   ],
   "source": [
    "D"
   ]
  },
  {
   "cell_type": "code",
   "execution_count": 6,
   "id": "38b6a8b3-335b-40cf-a4c8-c63a17e3228a",
   "metadata": {},
   "outputs": [],
   "source": [
    "D = {}"
   ]
  },
  {
   "cell_type": "code",
   "execution_count": 7,
   "id": "66ad86a4-007c-4a20-869d-dac0c33cee4b",
   "metadata": {},
   "outputs": [],
   "source": [
    "D['name'] = 'Bob'"
   ]
  },
  {
   "cell_type": "code",
   "execution_count": 8,
   "id": "a3daa87c-d0f5-4cd4-a9d5-9d7207dc146e",
   "metadata": {},
   "outputs": [],
   "source": [
    "D['job'] = 'dev'"
   ]
  },
  {
   "cell_type": "code",
   "execution_count": 9,
   "id": "bfcc5dc5-ad7e-4720-b96a-8b92aa079bfd",
   "metadata": {},
   "outputs": [],
   "source": [
    "D['age'] = 40"
   ]
  },
  {
   "cell_type": "code",
   "execution_count": 10,
   "id": "60ec03de-f541-4412-935f-b53e07fcbd3a",
   "metadata": {},
   "outputs": [
    {
     "data": {
      "text/plain": [
       "{'name': 'Bob', 'job': 'dev', 'age': 40}"
      ]
     },
     "execution_count": 10,
     "metadata": {},
     "output_type": "execute_result"
    }
   ],
   "source": [
    "D"
   ]
  },
  {
   "cell_type": "code",
   "execution_count": 11,
   "id": "3f3ae70d-bbc2-484f-bc13-7f04a9bebace",
   "metadata": {},
   "outputs": [
    {
     "name": "stdout",
     "output_type": "stream",
     "text": [
      "Bob\n"
     ]
    }
   ],
   "source": [
    "print(D['name'])"
   ]
  },
  {
   "cell_type": "code",
   "execution_count": 12,
   "id": "23bcda69-27a5-4416-b73b-09a71c6839cb",
   "metadata": {},
   "outputs": [],
   "source": [
    "bob1 = dict(name='Bob', job='dev', age=40)"
   ]
  },
  {
   "cell_type": "code",
   "execution_count": 13,
   "id": "321a36d2-f572-4d1e-ad7f-b30dc55af2d9",
   "metadata": {},
   "outputs": [
    {
     "data": {
      "text/plain": [
       "{'name': 'Bob', 'job': 'dev', 'age': 40}"
      ]
     },
     "execution_count": 13,
     "metadata": {},
     "output_type": "execute_result"
    }
   ],
   "source": [
    "bob1"
   ]
  },
  {
   "cell_type": "code",
   "execution_count": 14,
   "id": "9283cf3f-25b6-4727-9d94-c0b4f38ec126",
   "metadata": {},
   "outputs": [],
   "source": [
    "bob2 = dict(zip(['name', 'job', 'age'], ['Bob', 'dev', 40]))"
   ]
  },
  {
   "cell_type": "code",
   "execution_count": 15,
   "id": "a9ca0a9a-b58f-45f9-b759-d7c8e44a77f9",
   "metadata": {},
   "outputs": [
    {
     "data": {
      "text/plain": [
       "{'name': 'Bob', 'job': 'dev', 'age': 40}"
      ]
     },
     "execution_count": 15,
     "metadata": {},
     "output_type": "execute_result"
    }
   ],
   "source": [
    "bob2"
   ]
  },
  {
   "cell_type": "code",
   "execution_count": 16,
   "id": "f1c66e63-739b-4e8d-a66d-744e61e7f90e",
   "metadata": {},
   "outputs": [],
   "source": [
    "rec = {'name':{'first':'Bob', 'last':'Smith'},\n",
    "       'jobs':['dev', 'mgr'],\n",
    "       'age': 40.5}"
   ]
  },
  {
   "cell_type": "code",
   "execution_count": 17,
   "id": "38039c44-22be-488e-915f-b94d469a0cb3",
   "metadata": {},
   "outputs": [
    {
     "data": {
      "text/plain": [
       "{'name': {'first': 'Bob', 'last': 'Smith'},\n",
       " 'jobs': ['dev', 'mgr'],\n",
       " 'age': 40.5}"
      ]
     },
     "execution_count": 17,
     "metadata": {},
     "output_type": "execute_result"
    }
   ],
   "source": [
    "rec"
   ]
  },
  {
   "cell_type": "code",
   "execution_count": 18,
   "id": "7ffc8f60-2a3f-4048-b99a-2ba27c8d635e",
   "metadata": {},
   "outputs": [
    {
     "data": {
      "text/plain": [
       "{'first': 'Bob', 'last': 'Smith'}"
      ]
     },
     "execution_count": 18,
     "metadata": {},
     "output_type": "execute_result"
    }
   ],
   "source": [
    "rec['name']"
   ]
  },
  {
   "cell_type": "code",
   "execution_count": 19,
   "id": "d7c5d389-ffd6-4ad6-9e54-3c73ed27ae24",
   "metadata": {},
   "outputs": [
    {
     "data": {
      "text/plain": [
       "'Smith'"
      ]
     },
     "execution_count": 19,
     "metadata": {},
     "output_type": "execute_result"
    }
   ],
   "source": [
    "rec['name']['last']"
   ]
  },
  {
   "cell_type": "code",
   "execution_count": 20,
   "id": "a430ea9d-7b8e-4d01-a442-5e1911cc05c8",
   "metadata": {},
   "outputs": [
    {
     "data": {
      "text/plain": [
       "['dev', 'mgr']"
      ]
     },
     "execution_count": 20,
     "metadata": {},
     "output_type": "execute_result"
    }
   ],
   "source": [
    "rec['jobs']"
   ]
  },
  {
   "cell_type": "code",
   "execution_count": 21,
   "id": "788166cc-5a40-44ec-bd4e-f930718c4726",
   "metadata": {},
   "outputs": [
    {
     "data": {
      "text/plain": [
       "'mgr'"
      ]
     },
     "execution_count": 21,
     "metadata": {},
     "output_type": "execute_result"
    }
   ],
   "source": [
    "rec['jobs'][-1]"
   ]
  },
  {
   "cell_type": "code",
   "execution_count": 22,
   "id": "d5633347-aabf-4dd3-b5c7-ac57f79da75c",
   "metadata": {},
   "outputs": [],
   "source": [
    "rec['jobs'].append('janitor')"
   ]
  },
  {
   "cell_type": "code",
   "execution_count": 23,
   "id": "2e17157c-d856-491f-b238-05fff332cf88",
   "metadata": {},
   "outputs": [
    {
     "data": {
      "text/plain": [
       "{'name': {'first': 'Bob', 'last': 'Smith'},\n",
       " 'jobs': ['dev', 'mgr', 'janitor'],\n",
       " 'age': 40.5}"
      ]
     },
     "execution_count": 23,
     "metadata": {},
     "output_type": "execute_result"
    }
   ],
   "source": [
    "rec"
   ]
  },
  {
   "cell_type": "code",
   "execution_count": 24,
   "id": "2186e47e-2369-4997-97f7-cb9c1be1d628",
   "metadata": {},
   "outputs": [],
   "source": [
    "D = {'a':1, 'b':2, 'c':3}"
   ]
  },
  {
   "cell_type": "code",
   "execution_count": 25,
   "id": "a6730393-f7b4-4b6b-a2c4-07ae859c61d7",
   "metadata": {},
   "outputs": [
    {
     "data": {
      "text/plain": [
       "{'a': 1, 'b': 2, 'c': 3}"
      ]
     },
     "execution_count": 25,
     "metadata": {},
     "output_type": "execute_result"
    }
   ],
   "source": [
    "D"
   ]
  },
  {
   "cell_type": "code",
   "execution_count": 26,
   "id": "c5c1f62a-2c06-43a2-9e97-683e1b70d615",
   "metadata": {},
   "outputs": [],
   "source": [
    "D['e'] = 99"
   ]
  },
  {
   "cell_type": "code",
   "execution_count": 27,
   "id": "cb6d7c96-b8e1-44d0-8acf-05d584ca712d",
   "metadata": {},
   "outputs": [
    {
     "data": {
      "text/plain": [
       "{'a': 1, 'b': 2, 'c': 3, 'e': 99}"
      ]
     },
     "execution_count": 27,
     "metadata": {},
     "output_type": "execute_result"
    }
   ],
   "source": [
    "D"
   ]
  },
  {
   "cell_type": "code",
   "execution_count": 29,
   "id": "9e7e3abf-6a3e-43d3-a9bb-6fa9aae80c1f",
   "metadata": {},
   "outputs": [
    {
     "data": {
      "text/plain": [
       "False"
      ]
     },
     "execution_count": 29,
     "metadata": {},
     "output_type": "execute_result"
    }
   ],
   "source": [
    "'f' in D"
   ]
  },
  {
   "cell_type": "code",
   "execution_count": 30,
   "id": "b9cd2aee-51f6-4e1a-a74f-d48611c6e4d4",
   "metadata": {},
   "outputs": [
    {
     "name": "stdout",
     "output_type": "stream",
     "text": [
      "missing\n"
     ]
    }
   ],
   "source": [
    "if not 'f' in D:\n",
    "    print('missing')"
   ]
  },
  {
   "cell_type": "code",
   "execution_count": 31,
   "id": "d4dc7b66-0125-442d-8f68-60b6a88766ed",
   "metadata": {},
   "outputs": [
    {
     "name": "stdout",
     "output_type": "stream",
     "text": [
      "missing\n",
      "no, really...\n"
     ]
    }
   ],
   "source": [
    "if not 'f' in D:\n",
    "    print('missing')\n",
    "    print('no, really...')"
   ]
  },
  {
   "cell_type": "code",
   "execution_count": 32,
   "id": "1b133cad-3f63-4cb5-b9a2-c45cc062a3bd",
   "metadata": {},
   "outputs": [],
   "source": [
    "value = D.get('x', 0)"
   ]
  },
  {
   "cell_type": "code",
   "execution_count": 33,
   "id": "58a51320-155d-4429-9a95-43b4ca83b1c2",
   "metadata": {},
   "outputs": [
    {
     "data": {
      "text/plain": [
       "0"
      ]
     },
     "execution_count": 33,
     "metadata": {},
     "output_type": "execute_result"
    }
   ],
   "source": [
    "value"
   ]
  },
  {
   "cell_type": "code",
   "execution_count": 34,
   "id": "72451003-00e3-448d-8d61-a92839d22f8e",
   "metadata": {},
   "outputs": [],
   "source": [
    "value = D['x'] if 'x' in D else 0"
   ]
  },
  {
   "cell_type": "code",
   "execution_count": 35,
   "id": "440f4495-5766-4d28-a9a3-e330eaeff639",
   "metadata": {},
   "outputs": [
    {
     "data": {
      "text/plain": [
       "0"
      ]
     },
     "execution_count": 35,
     "metadata": {},
     "output_type": "execute_result"
    }
   ],
   "source": [
    "value"
   ]
  },
  {
   "cell_type": "code",
   "execution_count": 36,
   "id": "f453a031-9d73-4c7d-8fed-4781841c7f7f",
   "metadata": {},
   "outputs": [],
   "source": [
    "Ks = list(D.keys())"
   ]
  },
  {
   "cell_type": "code",
   "execution_count": 37,
   "id": "0096888b-268a-41dd-9dc8-9161695eda55",
   "metadata": {},
   "outputs": [
    {
     "data": {
      "text/plain": [
       "['a', 'b', 'c', 'e']"
      ]
     },
     "execution_count": 37,
     "metadata": {},
     "output_type": "execute_result"
    }
   ],
   "source": [
    "Ks"
   ]
  },
  {
   "cell_type": "code",
   "execution_count": 38,
   "id": "69303415-269f-47ee-ac6d-737b4f04ae17",
   "metadata": {},
   "outputs": [],
   "source": [
    "Ks.sort()"
   ]
  },
  {
   "cell_type": "code",
   "execution_count": 39,
   "id": "cc3596b1-3b09-4832-b150-b47a03d33055",
   "metadata": {},
   "outputs": [
    {
     "data": {
      "text/plain": [
       "['a', 'b', 'c', 'e']"
      ]
     },
     "execution_count": 39,
     "metadata": {},
     "output_type": "execute_result"
    }
   ],
   "source": [
    "Ks"
   ]
  },
  {
   "cell_type": "code",
   "execution_count": 40,
   "id": "c5ca556c-a43e-4b1d-98f3-0a91509f718d",
   "metadata": {},
   "outputs": [
    {
     "name": "stdout",
     "output_type": "stream",
     "text": [
      "a => 1\n",
      "b => 2\n",
      "c => 3\n",
      "e => 99\n"
     ]
    }
   ],
   "source": [
    "for key in Ks:\n",
    "    print(key, '=>', D[key])"
   ]
  },
  {
   "cell_type": "code",
   "execution_count": 41,
   "id": "ee6fd600-8219-40c1-b29f-31fa90a8e4c7",
   "metadata": {},
   "outputs": [
    {
     "name": "stdout",
     "output_type": "stream",
     "text": [
      "a => 1\n",
      "b => 2\n",
      "c => 3\n",
      "e => 99\n"
     ]
    }
   ],
   "source": [
    "for key in sorted(D):\n",
    "    print(key, '=>', D[key])"
   ]
  },
  {
   "cell_type": "code",
   "execution_count": 42,
   "id": "ce4aa9e0-4edc-4c1b-b20e-d0e961f727ef",
   "metadata": {},
   "outputs": [
    {
     "name": "stdout",
     "output_type": "stream",
     "text": [
      "S\n",
      "P\n",
      "A\n",
      "M\n"
     ]
    }
   ],
   "source": [
    "for c in 'spam':\n",
    "    print(c.upper())"
   ]
  },
  {
   "cell_type": "code",
   "execution_count": 43,
   "id": "bcb1a521-2df1-4e16-8b04-ef6912dfb627",
   "metadata": {},
   "outputs": [
    {
     "name": "stdout",
     "output_type": "stream",
     "text": [
      "spam!spam!spam!spam!\n",
      "spam!spam!spam!\n",
      "spam!spam!\n",
      "spam!\n"
     ]
    }
   ],
   "source": [
    "x = 4\n",
    "while x>0:\n",
    "    print('spam!' * x)\n",
    "    x -= 1"
   ]
  },
  {
   "cell_type": "code",
   "execution_count": 44,
   "id": "e80f396f-b9bd-4974-8db5-c974cd2d3260",
   "metadata": {},
   "outputs": [],
   "source": [
    "squares = [x ** 2 for x in [1, 2, 3, 4, 5]]"
   ]
  },
  {
   "cell_type": "code",
   "execution_count": 45,
   "id": "77b353aa-f69b-4e10-b510-2e3e0e6ba6a0",
   "metadata": {},
   "outputs": [
    {
     "data": {
      "text/plain": [
       "[1, 4, 9, 16, 25]"
      ]
     },
     "execution_count": 45,
     "metadata": {},
     "output_type": "execute_result"
    }
   ],
   "source": [
    "squares"
   ]
  },
  {
   "cell_type": "code",
   "execution_count": 46,
   "id": "d4d53e89-f01c-4fce-bdd9-b0d8af0a57f4",
   "metadata": {},
   "outputs": [],
   "source": [
    "squares = []"
   ]
  },
  {
   "cell_type": "code",
   "execution_count": 47,
   "id": "0ffb08a2-1a8e-4a1f-af7e-91a28ac6f436",
   "metadata": {},
   "outputs": [],
   "source": [
    "for x in [1, 2, 3, 4, 5]:\n",
    "    squares.append(x**2)"
   ]
  },
  {
   "cell_type": "code",
   "execution_count": 48,
   "id": "06dfaa33-11b7-4043-bf22-79d20d1906dd",
   "metadata": {},
   "outputs": [
    {
     "data": {
      "text/plain": [
       "[1, 4, 9, 16, 25]"
      ]
     },
     "execution_count": 48,
     "metadata": {},
     "output_type": "execute_result"
    }
   ],
   "source": [
    "squares"
   ]
  },
  {
   "cell_type": "code",
   "execution_count": 49,
   "id": "1d693575-aab4-401b-9f5c-9f2930bb3e5e",
   "metadata": {},
   "outputs": [],
   "source": [
    "T = (1, 2, 3, 4)"
   ]
  },
  {
   "cell_type": "code",
   "execution_count": 50,
   "id": "c9e6d3f9-51c7-4db2-bde4-afca340af8bd",
   "metadata": {},
   "outputs": [
    {
     "data": {
      "text/plain": [
       "4"
      ]
     },
     "execution_count": 50,
     "metadata": {},
     "output_type": "execute_result"
    }
   ],
   "source": [
    "len(T)"
   ]
  },
  {
   "cell_type": "code",
   "execution_count": 51,
   "id": "c806858e-5a13-44cf-b0bb-1ac239fd9bb4",
   "metadata": {},
   "outputs": [
    {
     "data": {
      "text/plain": [
       "(1, 2, 3, 4, 5, 6)"
      ]
     },
     "execution_count": 51,
     "metadata": {},
     "output_type": "execute_result"
    }
   ],
   "source": [
    "T + (5, 6)"
   ]
  },
  {
   "cell_type": "code",
   "execution_count": 52,
   "id": "66db1826-d576-40cc-8300-34469f4fad2b",
   "metadata": {},
   "outputs": [
    {
     "data": {
      "text/plain": [
       "1"
      ]
     },
     "execution_count": 52,
     "metadata": {},
     "output_type": "execute_result"
    }
   ],
   "source": [
    "T[0]"
   ]
  },
  {
   "cell_type": "code",
   "execution_count": 53,
   "id": "fff50fe3-3274-4779-a77b-bc2b39184a10",
   "metadata": {},
   "outputs": [
    {
     "data": {
      "text/plain": [
       "3"
      ]
     },
     "execution_count": 53,
     "metadata": {},
     "output_type": "execute_result"
    }
   ],
   "source": [
    "T.index(4)"
   ]
  },
  {
   "cell_type": "code",
   "execution_count": 54,
   "id": "45315726-33bd-4ab7-8ce3-2a1d04981a19",
   "metadata": {},
   "outputs": [
    {
     "data": {
      "text/plain": [
       "1"
      ]
     },
     "execution_count": 54,
     "metadata": {},
     "output_type": "execute_result"
    }
   ],
   "source": [
    "T.count(4)"
   ]
  },
  {
   "cell_type": "code",
   "execution_count": 56,
   "id": "92c29c48-8c33-4f3a-8b77-0301a2225164",
   "metadata": {},
   "outputs": [],
   "source": [
    "T = (2,) + T[1:]"
   ]
  },
  {
   "cell_type": "code",
   "execution_count": 57,
   "id": "98b856f9-2c5d-49d1-a6a3-7e127c3a2e35",
   "metadata": {},
   "outputs": [
    {
     "data": {
      "text/plain": [
       "(2, 2, 3, 4)"
      ]
     },
     "execution_count": 57,
     "metadata": {},
     "output_type": "execute_result"
    }
   ],
   "source": [
    "T"
   ]
  },
  {
   "cell_type": "code",
   "execution_count": 60,
   "id": "d803549e-5836-4177-8787-a3682e1b4037",
   "metadata": {},
   "outputs": [],
   "source": [
    "T = (1, 3, 2, 4, 5)"
   ]
  },
  {
   "cell_type": "code",
   "execution_count": 61,
   "id": "3ed828d2-f4c1-416b-a6af-1e85783fddc0",
   "metadata": {},
   "outputs": [
    {
     "data": {
      "text/plain": [
       "(1, 3, 2, 4, 5)"
      ]
     },
     "execution_count": 61,
     "metadata": {},
     "output_type": "execute_result"
    }
   ],
   "source": [
    "T"
   ]
  },
  {
   "cell_type": "code",
   "execution_count": 62,
   "id": "f3517189-df19-45c7-a12d-cc65b3b90b21",
   "metadata": {},
   "outputs": [
    {
     "data": {
      "text/plain": [
       "(2,)"
      ]
     },
     "execution_count": 62,
     "metadata": {},
     "output_type": "execute_result"
    }
   ],
   "source": [
    "(2,)"
   ]
  },
  {
   "cell_type": "code",
   "execution_count": 63,
   "id": "cf198bde-45d7-46be-90b2-8b465db36f6d",
   "metadata": {},
   "outputs": [
    {
     "data": {
      "text/plain": [
       "(3, 2, 4, 5)"
      ]
     },
     "execution_count": 63,
     "metadata": {},
     "output_type": "execute_result"
    }
   ],
   "source": [
    "T[1:]"
   ]
  },
  {
   "cell_type": "code",
   "execution_count": 64,
   "id": "4d6b5716-7e8f-410e-a4c7-86a5307da456",
   "metadata": {},
   "outputs": [],
   "source": [
    "T = (2,) + T[1:]"
   ]
  },
  {
   "cell_type": "code",
   "execution_count": 65,
   "id": "e03df295-2a0c-4c46-bf99-913594e01052",
   "metadata": {},
   "outputs": [
    {
     "data": {
      "text/plain": [
       "(2, 3, 2, 4, 5)"
      ]
     },
     "execution_count": 65,
     "metadata": {},
     "output_type": "execute_result"
    }
   ],
   "source": [
    "T"
   ]
  },
  {
   "cell_type": "code",
   "execution_count": 66,
   "id": "8e9feb67-642a-4279-987a-596b71c8aa2e",
   "metadata": {},
   "outputs": [],
   "source": [
    "T = 'spam', 3.0, [11, 22, 33]"
   ]
  },
  {
   "cell_type": "code",
   "execution_count": 68,
   "id": "9f9c4bfe-97f8-4192-8fdf-369f4f7ff40e",
   "metadata": {},
   "outputs": [
    {
     "data": {
      "text/plain": [
       "('spam', 3.0, [11, 22, 33])"
      ]
     },
     "execution_count": 68,
     "metadata": {},
     "output_type": "execute_result"
    }
   ],
   "source": [
    "T"
   ]
  },
  {
   "cell_type": "code",
   "execution_count": 69,
   "id": "a5db3ca1-a6c6-46c1-943e-e07ba251dd29",
   "metadata": {},
   "outputs": [
    {
     "data": {
      "text/plain": [
       "3.0"
      ]
     },
     "execution_count": 69,
     "metadata": {},
     "output_type": "execute_result"
    }
   ],
   "source": [
    "T[1]"
   ]
  },
  {
   "cell_type": "code",
   "execution_count": 70,
   "id": "d70ea84f-a847-4243-97a6-8ffab1fd4ea5",
   "metadata": {},
   "outputs": [
    {
     "data": {
      "text/plain": [
       "22"
      ]
     },
     "execution_count": 70,
     "metadata": {},
     "output_type": "execute_result"
    }
   ],
   "source": [
    "T[2][1]"
   ]
  },
  {
   "cell_type": "code",
   "execution_count": null,
   "id": "a2db7dc4-50f9-427e-8963-03e3c86e87f4",
   "metadata": {},
   "outputs": [],
   "source": []
  }
 ],
 "metadata": {
  "kernelspec": {
   "display_name": "Python 3 (ipykernel)",
   "language": "python",
   "name": "python3"
  },
  "language_info": {
   "codemirror_mode": {
    "name": "ipython",
    "version": 3
   },
   "file_extension": ".py",
   "mimetype": "text/x-python",
   "name": "python",
   "nbconvert_exporter": "python",
   "pygments_lexer": "ipython3",
   "version": "3.9.13"
  }
 },
 "nbformat": 4,
 "nbformat_minor": 5
}
