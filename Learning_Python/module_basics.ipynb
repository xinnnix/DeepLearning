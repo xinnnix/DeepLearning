{
 "cells": [
  {
   "cell_type": "code",
   "execution_count": 1,
   "id": "0dbc01cf-e9ca-469e-a5a1-7e91cd165649",
   "metadata": {},
   "outputs": [],
   "source": [
    "import sys"
   ]
  },
  {
   "cell_type": "code",
   "execution_count": 2,
   "id": "5cd75d50-7f6c-4346-8f6e-636b658c4917",
   "metadata": {},
   "outputs": [
    {
     "data": {
      "text/plain": [
       "['C:\\\\Users\\\\admin\\\\Documents\\\\DeepLearning\\\\Learning_Python',\n",
       " 'C:\\\\Users\\\\admin\\\\anaconda3\\\\envs\\\\tf\\\\python39.zip',\n",
       " 'C:\\\\Users\\\\admin\\\\anaconda3\\\\envs\\\\tf\\\\DLLs',\n",
       " 'C:\\\\Users\\\\admin\\\\anaconda3\\\\envs\\\\tf\\\\lib',\n",
       " 'C:\\\\Users\\\\admin\\\\anaconda3\\\\envs\\\\tf',\n",
       " '',\n",
       " 'C:\\\\Users\\\\admin\\\\anaconda3\\\\envs\\\\tf\\\\lib\\\\site-packages',\n",
       " 'C:\\\\Users\\\\admin\\\\anaconda3\\\\envs\\\\tf\\\\lib\\\\site-packages\\\\win32',\n",
       " 'C:\\\\Users\\\\admin\\\\anaconda3\\\\envs\\\\tf\\\\lib\\\\site-packages\\\\win32\\\\lib',\n",
       " 'C:\\\\Users\\\\admin\\\\anaconda3\\\\envs\\\\tf\\\\lib\\\\site-packages\\\\Pythonwin']"
      ]
     },
     "execution_count": 2,
     "metadata": {},
     "output_type": "execute_result"
    }
   ],
   "source": [
    "sys.path"
   ]
  },
  {
   "cell_type": "code",
   "execution_count": 3,
   "id": "4fd2de79-f280-4aa6-80aa-ce0432a0763c",
   "metadata": {},
   "outputs": [],
   "source": [
    "import module1"
   ]
  },
  {
   "cell_type": "code",
   "execution_count": 4,
   "id": "202ca1f5-88bb-40dd-a6f0-14174b677a11",
   "metadata": {},
   "outputs": [
    {
     "name": "stdout",
     "output_type": "stream",
     "text": [
      "Hello world!\n"
     ]
    }
   ],
   "source": [
    "module1.printer('Hello world!')"
   ]
  },
  {
   "cell_type": "code",
   "execution_count": 5,
   "id": "e00d37b6-f165-4928-b8d9-eb4b3a938a18",
   "metadata": {},
   "outputs": [],
   "source": [
    "from module1 import printer"
   ]
  },
  {
   "cell_type": "code",
   "execution_count": 6,
   "id": "7a6e1d74-6daa-45a8-812e-a9ccbb61a9bb",
   "metadata": {},
   "outputs": [
    {
     "name": "stdout",
     "output_type": "stream",
     "text": [
      "Hello world!\n"
     ]
    }
   ],
   "source": [
    "printer('Hello world!')"
   ]
  },
  {
   "cell_type": "code",
   "execution_count": 7,
   "id": "b6851b90-68d7-441d-82a5-e7561c08e0d8",
   "metadata": {},
   "outputs": [],
   "source": [
    "from module1 import *"
   ]
  },
  {
   "cell_type": "code",
   "execution_count": 8,
   "id": "86003fb2-a719-47b0-8485-fe15bd764df9",
   "metadata": {},
   "outputs": [
    {
     "name": "stdout",
     "output_type": "stream",
     "text": [
      "Hello world!\n"
     ]
    }
   ],
   "source": [
    "printer('Hello world!')"
   ]
  },
  {
   "cell_type": "code",
   "execution_count": 9,
   "id": "b0d8f30f-f3ee-4158-917b-02e96cd7fcc9",
   "metadata": {},
   "outputs": [
    {
     "name": "stdout",
     "output_type": "stream",
     "text": [
      "hello\n"
     ]
    }
   ],
   "source": [
    "import simple1"
   ]
  },
  {
   "cell_type": "code",
   "execution_count": 11,
   "id": "708bee49-39d0-4c4f-81d6-c7742e0ec681",
   "metadata": {},
   "outputs": [
    {
     "data": {
      "text/plain": [
       "1"
      ]
     },
     "execution_count": 11,
     "metadata": {},
     "output_type": "execute_result"
    }
   ],
   "source": [
    "simple1.spam"
   ]
  },
  {
   "cell_type": "code",
   "execution_count": 12,
   "id": "d68c91ff-722f-468d-8a38-431fe6aaf767",
   "metadata": {},
   "outputs": [],
   "source": [
    "simple1.spam = 2"
   ]
  },
  {
   "cell_type": "code",
   "execution_count": 13,
   "id": "84a4c8bc-43a2-43ad-8053-a8bac54f394c",
   "metadata": {},
   "outputs": [
    {
     "data": {
      "text/plain": [
       "2"
      ]
     },
     "execution_count": 13,
     "metadata": {},
     "output_type": "execute_result"
    }
   ],
   "source": [
    "simple1.spam"
   ]
  },
  {
   "cell_type": "code",
   "execution_count": 15,
   "id": "95f5e0d3-da8a-43ba-8ffe-4cbfb074d0bc",
   "metadata": {},
   "outputs": [],
   "source": [
    "import simple1"
   ]
  },
  {
   "cell_type": "code",
   "execution_count": 16,
   "id": "1410b9b8-1ccc-4deb-9b03-46c2115c3573",
   "metadata": {},
   "outputs": [
    {
     "data": {
      "text/plain": [
       "2"
      ]
     },
     "execution_count": 16,
     "metadata": {},
     "output_type": "execute_result"
    }
   ],
   "source": [
    "simple1.spam"
   ]
  },
  {
   "cell_type": "code",
   "execution_count": 17,
   "id": "ee6348f2-ca5e-4a32-8e97-589fc1154906",
   "metadata": {},
   "outputs": [],
   "source": [
    "from small import x, y"
   ]
  },
  {
   "cell_type": "code",
   "execution_count": 18,
   "id": "ef5a9ebf-2763-45b8-9ed6-a43c1140214f",
   "metadata": {},
   "outputs": [
    {
     "data": {
      "text/plain": [
       "1"
      ]
     },
     "execution_count": 18,
     "metadata": {},
     "output_type": "execute_result"
    }
   ],
   "source": [
    "x"
   ]
  },
  {
   "cell_type": "code",
   "execution_count": 19,
   "id": "bb67e06e-2d81-49f7-bc3e-8f8f340f19b7",
   "metadata": {},
   "outputs": [],
   "source": [
    "x = 42"
   ]
  },
  {
   "cell_type": "code",
   "execution_count": 20,
   "id": "6cf5a22c-fb34-4f93-8a96-ae3f007f05e1",
   "metadata": {},
   "outputs": [],
   "source": [
    "y[0] = 42"
   ]
  },
  {
   "cell_type": "code",
   "execution_count": 21,
   "id": "978ec42f-1b0e-4183-9a8e-49f4fd188cd4",
   "metadata": {},
   "outputs": [],
   "source": [
    "import small"
   ]
  },
  {
   "cell_type": "code",
   "execution_count": 22,
   "id": "1b95a325-8348-4d6d-8488-06e2916b87ce",
   "metadata": {},
   "outputs": [
    {
     "data": {
      "text/plain": [
       "1"
      ]
     },
     "execution_count": 22,
     "metadata": {},
     "output_type": "execute_result"
    }
   ],
   "source": [
    "small.x"
   ]
  },
  {
   "cell_type": "code",
   "execution_count": 23,
   "id": "ed2ff68b-c2dc-4688-b431-a69d926ce3b4",
   "metadata": {},
   "outputs": [
    {
     "data": {
      "text/plain": [
       "[42, 2]"
      ]
     },
     "execution_count": 23,
     "metadata": {},
     "output_type": "execute_result"
    }
   ],
   "source": [
    "small.y"
   ]
  },
  {
   "cell_type": "code",
   "execution_count": 24,
   "id": "3cf9d032-bb29-4730-9320-e6a46eae4950",
   "metadata": {},
   "outputs": [],
   "source": [
    "from small import x, y"
   ]
  },
  {
   "cell_type": "code",
   "execution_count": 25,
   "id": "799cd95b-bd8c-4ca0-ab54-c5235a50ecd1",
   "metadata": {},
   "outputs": [],
   "source": [
    "x = 42"
   ]
  },
  {
   "cell_type": "code",
   "execution_count": 26,
   "id": "ab7ebb3b-90c0-476f-8b7d-666e5387a4a8",
   "metadata": {},
   "outputs": [],
   "source": [
    "import small"
   ]
  },
  {
   "cell_type": "code",
   "execution_count": 27,
   "id": "011723fb-102a-468d-99fc-e87409e226b4",
   "metadata": {},
   "outputs": [],
   "source": [
    "small.x = 42"
   ]
  },
  {
   "cell_type": "code",
   "execution_count": 28,
   "id": "fa6aee20-2a86-4419-9789-95c7ea498316",
   "metadata": {},
   "outputs": [],
   "source": [
    "import small"
   ]
  },
  {
   "cell_type": "code",
   "execution_count": 29,
   "id": "0370817d-31f3-43b5-a054-2f1860989164",
   "metadata": {},
   "outputs": [
    {
     "data": {
      "text/plain": [
       "42"
      ]
     },
     "execution_count": 29,
     "metadata": {},
     "output_type": "execute_result"
    }
   ],
   "source": [
    "x"
   ]
  },
  {
   "cell_type": "code",
   "execution_count": 1,
   "id": "16b00400-8fef-48ba-96c1-c8110df60606",
   "metadata": {},
   "outputs": [
    {
     "name": "stdout",
     "output_type": "stream",
     "text": [
      "starting to load...\n",
      "done loading.\n"
     ]
    }
   ],
   "source": [
    "import module2"
   ]
  },
  {
   "cell_type": "code",
   "execution_count": 2,
   "id": "ae0984cc-b362-41a8-b533-54d668c9870a",
   "metadata": {},
   "outputs": [
    {
     "data": {
      "text/plain": [
       "<module 'sys' (built-in)>"
      ]
     },
     "execution_count": 2,
     "metadata": {},
     "output_type": "execute_result"
    }
   ],
   "source": [
    "module2.sys"
   ]
  },
  {
   "cell_type": "code",
   "execution_count": 3,
   "id": "f136f0a1-5edd-4d06-bf27-ea5c0d8fe129",
   "metadata": {},
   "outputs": [
    {
     "data": {
      "text/plain": [
       "42"
      ]
     },
     "execution_count": 3,
     "metadata": {},
     "output_type": "execute_result"
    }
   ],
   "source": [
    "module2.name"
   ]
  },
  {
   "cell_type": "code",
   "execution_count": 4,
   "id": "2b838e56-5c26-4455-90fe-020b5c530919",
   "metadata": {},
   "outputs": [
    {
     "data": {
      "text/plain": [
       "<function module2.func()>"
      ]
     },
     "execution_count": 4,
     "metadata": {},
     "output_type": "execute_result"
    }
   ],
   "source": [
    "module2.func"
   ]
  },
  {
   "cell_type": "code",
   "execution_count": 5,
   "id": "46886d8d-6ec0-47ba-9476-996e6bd40a3a",
   "metadata": {},
   "outputs": [
    {
     "data": {
      "text/plain": [
       "module2.klass"
      ]
     },
     "execution_count": 5,
     "metadata": {},
     "output_type": "execute_result"
    }
   ],
   "source": [
    "module2.klass"
   ]
  },
  {
   "cell_type": "code",
   "execution_count": 6,
   "id": "57adb47e-2dbc-4d4a-a1c6-973dabf57254",
   "metadata": {},
   "outputs": [
    {
     "data": {
      "text/plain": [
       "['__name__',\n",
       " '__doc__',\n",
       " '__package__',\n",
       " '__loader__',\n",
       " '__spec__',\n",
       " '__file__',\n",
       " '__cached__',\n",
       " '__builtins__',\n",
       " 'sys',\n",
       " 'name',\n",
       " 'func',\n",
       " 'klass']"
      ]
     },
     "execution_count": 6,
     "metadata": {},
     "output_type": "execute_result"
    }
   ],
   "source": [
    "list(module2.__dict__.keys())"
   ]
  },
  {
   "cell_type": "code",
   "execution_count": 7,
   "id": "93f8f257-16dd-4a21-b745-f2638e82d94c",
   "metadata": {},
   "outputs": [
    {
     "data": {
      "text/plain": [
       "['sys', 'name', 'func', 'klass']"
      ]
     },
     "execution_count": 7,
     "metadata": {},
     "output_type": "execute_result"
    }
   ],
   "source": [
    "list(name for name in module2.__dict__.keys() if not name.startswith('__'))"
   ]
  },
  {
   "cell_type": "code",
   "execution_count": 8,
   "id": "100c00df-42c1-4318-8574-e15e091dd004",
   "metadata": {},
   "outputs": [
    {
     "data": {
      "text/plain": [
       "['sys', 'name', 'func', 'klass']"
      ]
     },
     "execution_count": 8,
     "metadata": {},
     "output_type": "execute_result"
    }
   ],
   "source": [
    "list(name for name in module2.__dict__ if not name.startswith('__'))"
   ]
  },
  {
   "cell_type": "code",
   "execution_count": 9,
   "id": "2084adbb-d77a-4a91-8660-a38b9aad04f9",
   "metadata": {},
   "outputs": [
    {
     "data": {
      "text/plain": [
       "(42, 42)"
      ]
     },
     "execution_count": 9,
     "metadata": {},
     "output_type": "execute_result"
    }
   ],
   "source": [
    "module2.name, module2.__dict__['name']"
   ]
  },
  {
   "cell_type": "code",
   "execution_count": 1,
   "id": "4ab8346d-83c1-4b82-995e-df9e5ec2ad9f",
   "metadata": {},
   "outputs": [],
   "source": [
    "import changer"
   ]
  },
  {
   "cell_type": "code",
   "execution_count": 2,
   "id": "72c548be-2d74-4eeb-93ba-afc50ff15cb4",
   "metadata": {},
   "outputs": [
    {
     "name": "stdout",
     "output_type": "stream",
     "text": [
      "First version\n"
     ]
    }
   ],
   "source": [
    "changer.printer()"
   ]
  },
  {
   "cell_type": "code",
   "execution_count": null,
   "id": "31cb7f49-1984-4926-90bc-34c9b8c49e06",
   "metadata": {},
   "outputs": [],
   "source": []
  }
 ],
 "metadata": {
  "kernelspec": {
   "display_name": "Python 3 (ipykernel)",
   "language": "python",
   "name": "python3"
  },
  "language_info": {
   "codemirror_mode": {
    "name": "ipython",
    "version": 3
   },
   "file_extension": ".py",
   "mimetype": "text/x-python",
   "name": "python",
   "nbconvert_exporter": "python",
   "pygments_lexer": "ipython3",
   "version": "3.9.13"
  }
 },
 "nbformat": 4,
 "nbformat_minor": 5
}
