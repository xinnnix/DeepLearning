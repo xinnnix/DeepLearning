{
 "cells": [
  {
   "cell_type": "code",
   "execution_count": 1,
   "id": "0a4117e8-999e-4d5b-abfa-fb9226a1a97e",
   "metadata": {},
   "outputs": [],
   "source": [
    "from person import Person"
   ]
  },
  {
   "cell_type": "code",
   "execution_count": 2,
   "id": "620f3324-2238-4597-a524-997d3e70e48a",
   "metadata": {},
   "outputs": [],
   "source": [
    "bob = Person('Bob Smith')"
   ]
  },
  {
   "cell_type": "code",
   "execution_count": 3,
   "id": "2d46128d-7458-4fe9-915c-baebc63a1f84",
   "metadata": {},
   "outputs": [
    {
     "data": {
      "text/plain": [
       "[Person: Bob Smith, 0]"
      ]
     },
     "execution_count": 3,
     "metadata": {},
     "output_type": "execute_result"
    }
   ],
   "source": [
    "bob"
   ]
  },
  {
   "cell_type": "code",
   "execution_count": 4,
   "id": "3c0e36c7-fc48-4bc0-8a34-e3f5234fef68",
   "metadata": {},
   "outputs": [
    {
     "name": "stdout",
     "output_type": "stream",
     "text": [
      "[Person: Bob Smith, 0]\n"
     ]
    }
   ],
   "source": [
    "print(bob)"
   ]
  },
  {
   "cell_type": "code",
   "execution_count": 5,
   "id": "91db7cfb-8c5a-4150-b75e-ee55bcd138e5",
   "metadata": {},
   "outputs": [
    {
     "data": {
      "text/plain": [
       "person.Person"
      ]
     },
     "execution_count": 5,
     "metadata": {},
     "output_type": "execute_result"
    }
   ],
   "source": [
    "bob.__class__"
   ]
  },
  {
   "cell_type": "code",
   "execution_count": 6,
   "id": "a7876e98-0cd5-4d0e-b7af-bed1103c643d",
   "metadata": {},
   "outputs": [
    {
     "data": {
      "text/plain": [
       "'Person'"
      ]
     },
     "execution_count": 6,
     "metadata": {},
     "output_type": "execute_result"
    }
   ],
   "source": [
    "bob.__class__.__name__"
   ]
  },
  {
   "cell_type": "code",
   "execution_count": 7,
   "id": "ee2a188c-a3b5-4ba2-89f4-2b3172edb321",
   "metadata": {},
   "outputs": [
    {
     "data": {
      "text/plain": [
       "['name', 'job', 'pay']"
      ]
     },
     "execution_count": 7,
     "metadata": {},
     "output_type": "execute_result"
    }
   ],
   "source": [
    "list(bob.__dict__.keys())"
   ]
  },
  {
   "cell_type": "code",
   "execution_count": 8,
   "id": "b297d9da-380e-454b-97e3-baafcd6d7d66",
   "metadata": {},
   "outputs": [
    {
     "name": "stdout",
     "output_type": "stream",
     "text": [
      "name => Bob Smith\n",
      "job => None\n",
      "pay => 0\n"
     ]
    }
   ],
   "source": [
    "for key in bob.__dict__:\n",
    "    print(key, '=>', bob.__dict__[key])"
   ]
  },
  {
   "cell_type": "code",
   "execution_count": 9,
   "id": "355590b1-6af6-45fb-bb27-528338821a35",
   "metadata": {},
   "outputs": [
    {
     "name": "stdout",
     "output_type": "stream",
     "text": [
      "name => Bob Smith\n",
      "job => None\n",
      "pay => 0\n"
     ]
    }
   ],
   "source": [
    "for key in bob.__dict__:\n",
    "    print(key, '=>', getattr(bob, key))"
   ]
  },
  {
   "cell_type": "code",
   "execution_count": 10,
   "id": "e6d0416a-2ec8-4a28-9c69-98047bd42bf7",
   "metadata": {},
   "outputs": [
    {
     "data": {
      "text/plain": [
       "dict_keys(['name', 'job', 'pay'])"
      ]
     },
     "execution_count": 10,
     "metadata": {},
     "output_type": "execute_result"
    }
   ],
   "source": [
    "bob.__dict__.keys()"
   ]
  },
  {
   "cell_type": "code",
   "execution_count": 11,
   "id": "3d64bc94-2954-47ec-bbb4-a898372c0eaa",
   "metadata": {},
   "outputs": [
    {
     "data": {
      "text/plain": [
       "['__class__',\n",
       " '__delattr__',\n",
       " '__dict__',\n",
       " '__dir__',\n",
       " '__doc__',\n",
       " '__eq__',\n",
       " '__format__',\n",
       " '__ge__',\n",
       " '__getattribute__',\n",
       " '__gt__',\n",
       " '__hash__',\n",
       " '__init__',\n",
       " '__init_subclass__',\n",
       " '__le__',\n",
       " '__lt__',\n",
       " '__module__',\n",
       " '__ne__',\n",
       " '__new__',\n",
       " '__reduce__',\n",
       " '__reduce_ex__',\n",
       " '__repr__',\n",
       " '__setattr__',\n",
       " '__sizeof__',\n",
       " '__str__',\n",
       " '__subclasshook__',\n",
       " '__weakref__',\n",
       " 'giveRaise',\n",
       " 'job',\n",
       " 'lastName',\n",
       " 'name',\n",
       " 'pay']"
      ]
     },
     "execution_count": 11,
     "metadata": {},
     "output_type": "execute_result"
    }
   ],
   "source": [
    "dir(bob)"
   ]
  },
  {
   "cell_type": "code",
   "execution_count": 12,
   "id": "dea743a5-9104-4c9f-aa7e-9c8dd6f8c536",
   "metadata": {},
   "outputs": [
    {
     "data": {
      "text/plain": [
       "31"
      ]
     },
     "execution_count": 12,
     "metadata": {},
     "output_type": "execute_result"
    }
   ],
   "source": [
    "len(dir(bob))"
   ]
  },
  {
   "cell_type": "code",
   "execution_count": 13,
   "id": "62b94ec6-5787-42a8-999c-5cd346adee38",
   "metadata": {},
   "outputs": [
    {
     "data": {
      "text/plain": [
       "['giveRaise', 'job', 'lastName', 'name', 'pay']"
      ]
     },
     "execution_count": 13,
     "metadata": {},
     "output_type": "execute_result"
    }
   ],
   "source": [
    "list(name for name in dir(bob) if not name.startswith('__'))"
   ]
  },
  {
   "cell_type": "code",
   "execution_count": 1,
   "id": "e94e3351-1554-491b-968d-00595fe03658",
   "metadata": {},
   "outputs": [],
   "source": [
    "import glob"
   ]
  },
  {
   "cell_type": "code",
   "execution_count": 2,
   "id": "cbb56ccb-9b85-4843-b977-b38d68b1a9ee",
   "metadata": {},
   "outputs": [
    {
     "data": {
      "text/plain": [
       "['person.py',\n",
       " 'persondb.bak',\n",
       " 'persondb.dat',\n",
       " 'persondb.dir',\n",
       " 'person_composite.py']"
      ]
     },
     "execution_count": 2,
     "metadata": {},
     "output_type": "execute_result"
    }
   ],
   "source": [
    "glob.glob('person*')"
   ]
  },
  {
   "cell_type": "code",
   "execution_count": 3,
   "id": "69a21633-7478-49ff-921c-3b45855794e5",
   "metadata": {},
   "outputs": [
    {
     "name": "stdout",
     "output_type": "stream",
     "text": [
      "'Bob Smith', (0, 80)\n",
      "'Sue Jones', (512, 92)\n",
      "'Tom Jones', (1024, 91)\n",
      "\n"
     ]
    }
   ],
   "source": [
    "print(open('persondb.dir').read())"
   ]
  },
  {
   "cell_type": "code",
   "execution_count": 4,
   "id": "a01812c0-281b-41ac-adeb-dd67dc4f9a5c",
   "metadata": {},
   "outputs": [
    {
     "name": "stdout",
     "output_type": "stream",
     "text": [
      "b'\\x80\\x03cperson\\nPerson\\nq\\x00)\\x81q\\x01}q\\x02(X\\x04\\x00\\x00\\x00nameq\\x03X\\t\\x00\\x00\\x00Bob Smithq\\x04X\\x03\\x00\\x00\\x00jobq\\x05NX\\x03\\x00\\x00\\x00payq\\x06K\\x00ub.\\x00\\x00\\x00\\x00\\x00\\x00\\x00\\x00\\x00\\x00\\x00\\x00\\x00\\x00\\x00\\x00\\x00\\x00\\x00\\x00\\x00\\x00\\x00\\x00\\x00\\x00\\x00\\x00\\x00\\x00\\x00\\x00\\x00\\x00\\x00\\x00\\x00\\x00\\x00\\x00\\x00\\x00\\x00\\x00\\x00\\x00\\x00\\x00\\x00\\x00\\x00\\x00\\x00\\x00\\x00\\x00\\x00\\x00\\x00\\x00\\x00\\x00\\x00\\x00\\x00\\x00\\x00\\x00\\x00\\x00\\x00\\x00\\x00\\x00\\x00\\x00\\x00\\x00\\x00\\x00\\x00\\x00\\x00\\x00\\x00\\x00\\x00\\x00\\x00\\x00\\x00\\x00\\x00\\x00\\x00\\x00\\x00\\x00\\x00\\x00\\x00\\x00\\x00\\x00\\x00\\x00\\x00\\x00\\x00\\x00\\x00\\x00\\x00\\x00\\x00\\x00\\x00\\x00\\x00\\x00\\x00\\x00\\x00\\x00\\x00\\x00\\x00\\x00\\x00\\x00\\x00\\x00\\x00\\x00\\x00\\x00\\x00\\x00\\x00\\x00\\x00\\x00\\x00\\x00\\x00\\x00\\x00\\x00\\x00\\x00\\x00\\x00\\x00\\x00\\x00\\x00\\x00\\x00\\x00\\x00\\x00\\x00\\x00\\x00\\x00\\x00\\x00\\x00\\x00\\x00\\x00\\x00\\x00\\x00\\x00\\x00\\x00\\x00\\x00\\x00\\x00\\x00\\x00\\x00\\x00\\x00\\x00\\x00\\x00\\x00\\x00\\x00\\x00\\x00\\x00\\x00\\x00\\x00\\x00\\x00\\x00\\x00\\x00\\x00\\x00\\x00\\x00\\x00\\x00\\x00\\x00\\x00\\x00\\x00\\x00\\x00\\x00\\x00\\x00\\x00\\x00\\x00\\x00\\x00\\x00\\x00\\x00\\x00\\x00\\x00\\x00\\x00\\x00\\x00\\x00\\x00\\x00\\x00\\x00\\x00\\x00\\x00\\x00\\x00\\x00\\x00\\x00\\x00\\x00\\x00\\x00\\x00\\x00\\x00\\x00\\x00\\x00\\x00\\x00\\x00\\x00\\x00\\x00\\x00\\x00\\x00\\x00\\x00\\x00\\x00\\x00\\x00\\x00\\x00\\x00\\x00\\x00\\x00\\x00\\x00\\x00\\x00\\x00\\x00\\x00\\x00\\x00\\x00\\x00\\x00\\x00\\x00\\x00\\x00\\x00\\x00\\x00\\x00\\x00\\x00\\x00\\x00\\x00\\x00\\x00\\x00\\x00\\x00\\x00\\x00\\x00\\x00\\x00\\x00\\x00\\x00\\x00\\x00\\x00\\x00\\x00\\x00\\x00\\x00\\x00\\x00\\x00\\x00\\x00\\x00\\x00\\x00\\x00\\x00\\x00\\x00\\x00\\x00\\x00\\x00\\x00\\x00\\x00\\x00\\x00\\x00\\x00\\x00\\x00\\x00\\x00\\x00\\x00\\x00\\x00\\x00\\x00\\x00\\x00\\x00\\x00\\x00\\x00\\x00\\x00\\x00\\x00\\x00\\x00\\x00\\x00\\x00\\x00\\x00\\x00\\x00\\x00\\x00\\x00\\x00\\x00\\x00\\x00\\x00\\x00\\x00\\x00\\x00\\x00\\x00\\x00\\x00\\x00\\x00\\x00\\x00\\x00\\x00\\x00\\x00\\x00\\x00\\x00\\x00\\x00\\x00\\x00\\x00\\x00\\x00\\x00\\x00\\x00\\x00\\x00\\x00\\x00\\x00\\x00\\x00\\x00\\x00\\x00\\x00\\x00\\x00\\x00\\x00\\x00\\x00\\x00\\x00\\x80\\x03cperson\\nPerson\\nq\\x00)\\x81q\\x01}q\\x02(X\\x04\\x00\\x00\\x00nameq\\x03X\\t\\x00\\x00\\x00Sue Jonesq\\x04X\\x03\\x00\\x00\\x00jobq\\x05X\\x03\\x00\\x00\\x00devq\\x06X\\x03\\x00\\x00\\x00payq\\x07J\\xa0\\x86\\x01\\x00ub.\\x00\\x00\\x00\\x00\\x00\\x00\\x00\\x00\\x00\\x00\\x00\\x00\\x00\\x00\\x00\\x00\\x00\\x00\\x00\\x00\\x00\\x00\\x00\\x00\\x00\\x00\\x00\\x00\\x00\\x00\\x00\\x00\\x00\\x00\\x00\\x00\\x00\\x00\\x00\\x00\\x00\\x00\\x00\\x00\\x00\\x00\\x00\\x00\\x00\\x00\\x00\\x00\\x00\\x00\\x00\\x00\\x00\\x00\\x00\\x00\\x00\\x00\\x00\\x00\\x00\\x00\\x00\\x00\\x00\\x00\\x00\\x00\\x00\\x00\\x00\\x00\\x00\\x00\\x00\\x00\\x00\\x00\\x00\\x00\\x00\\x00\\x00\\x00\\x00\\x00\\x00\\x00\\x00\\x00\\x00\\x00\\x00\\x00\\x00\\x00\\x00\\x00\\x00\\x00\\x00\\x00\\x00\\x00\\x00\\x00\\x00\\x00\\x00\\x00\\x00\\x00\\x00\\x00\\x00\\x00\\x00\\x00\\x00\\x00\\x00\\x00\\x00\\x00\\x00\\x00\\x00\\x00\\x00\\x00\\x00\\x00\\x00\\x00\\x00\\x00\\x00\\x00\\x00\\x00\\x00\\x00\\x00\\x00\\x00\\x00\\x00\\x00\\x00\\x00\\x00\\x00\\x00\\x00\\x00\\x00\\x00\\x00\\x00\\x00\\x00\\x00\\x00\\x00\\x00\\x00\\x00\\x00\\x00\\x00\\x00\\x00\\x00\\x00\\x00\\x00\\x00\\x00\\x00\\x00\\x00\\x00\\x00\\x00\\x00\\x00\\x00\\x00\\x00\\x00\\x00\\x00\\x00\\x00\\x00\\x00\\x00\\x00\\x00\\x00\\x00\\x00\\x00\\x00\\x00\\x00\\x00\\x00\\x00\\x00\\x00\\x00\\x00\\x00\\x00\\x00\\x00\\x00\\x00\\x00\\x00\\x00\\x00\\x00\\x00\\x00\\x00\\x00\\x00\\x00\\x00\\x00\\x00\\x00\\x00\\x00\\x00\\x00\\x00\\x00\\x00\\x00\\x00\\x00\\x00\\x00\\x00\\x00\\x00\\x00\\x00\\x00\\x00\\x00\\x00\\x00\\x00\\x00\\x00\\x00\\x00\\x00\\x00\\x00\\x00\\x00\\x00\\x00\\x00\\x00\\x00\\x00\\x00\\x00\\x00\\x00\\x00\\x00\\x00\\x00\\x00\\x00\\x00\\x00\\x00\\x00\\x00\\x00\\x00\\x00\\x00\\x00\\x00\\x00\\x00\\x00\\x00\\x00\\x00\\x00\\x00\\x00\\x00\\x00\\x00\\x00\\x00\\x00\\x00\\x00\\x00\\x00\\x00\\x00\\x00\\x00\\x00\\x00\\x00\\x00\\x00\\x00\\x00\\x00\\x00\\x00\\x00\\x00\\x00\\x00\\x00\\x00\\x00\\x00\\x00\\x00\\x00\\x00\\x00\\x00\\x00\\x00\\x00\\x00\\x00\\x00\\x00\\x00\\x00\\x00\\x00\\x00\\x00\\x00\\x00\\x00\\x00\\x00\\x00\\x00\\x00\\x00\\x00\\x00\\x00\\x00\\x00\\x00\\x00\\x00\\x00\\x00\\x00\\x00\\x00\\x00\\x00\\x00\\x00\\x00\\x00\\x00\\x00\\x00\\x00\\x00\\x00\\x00\\x00\\x00\\x00\\x00\\x00\\x00\\x00\\x00\\x00\\x00\\x00\\x00\\x00\\x00\\x00\\x00\\x00\\x00\\x00\\x00\\x00\\x00\\x00\\x00\\x00\\x00\\x00\\x00\\x80\\x03cperson\\nManager\\nq\\x00)\\x81q\\x01}q\\x02(X\\x04\\x00\\x00\\x00nameq\\x03X\\t\\x00\\x00\\x00Tom Jonesq\\x04X\\x03\\x00\\x00\\x00jobq\\x05X\\x03\\x00\\x00\\x00mgrq\\x06X\\x03\\x00\\x00\\x00payq\\x07MP\\xc3ub.'\n"
     ]
    }
   ],
   "source": [
    "print(open('persondb.dat', 'rb').read())"
   ]
  },
  {
   "cell_type": "code",
   "execution_count": 5,
   "id": "aa690b74-fcd7-4f6e-96c6-c1ca8374daa9",
   "metadata": {},
   "outputs": [],
   "source": [
    "import shelve"
   ]
  },
  {
   "cell_type": "code",
   "execution_count": 6,
   "id": "c66c21a3-fd67-4bca-9cc3-772b468d4613",
   "metadata": {},
   "outputs": [],
   "source": [
    "db = shelve.open('persondb')"
   ]
  },
  {
   "cell_type": "code",
   "execution_count": 7,
   "id": "ee977e92-4480-4f3c-af00-d4c110cf0e83",
   "metadata": {},
   "outputs": [
    {
     "data": {
      "text/plain": [
       "3"
      ]
     },
     "execution_count": 7,
     "metadata": {},
     "output_type": "execute_result"
    }
   ],
   "source": [
    "len(db)"
   ]
  },
  {
   "cell_type": "code",
   "execution_count": 8,
   "id": "f79ebdcc-51cd-4ebf-bb86-2528e8a5c2ed",
   "metadata": {},
   "outputs": [
    {
     "data": {
      "text/plain": [
       "['Bob Smith', 'Sue Jones', 'Tom Jones']"
      ]
     },
     "execution_count": 8,
     "metadata": {},
     "output_type": "execute_result"
    }
   ],
   "source": [
    "list(db.keys())"
   ]
  },
  {
   "cell_type": "code",
   "execution_count": 9,
   "id": "ef29ffdf-6ac9-4ae8-9ba5-630e6b9aa495",
   "metadata": {},
   "outputs": [],
   "source": [
    "bob = db['Bob Smith']"
   ]
  },
  {
   "cell_type": "code",
   "execution_count": 10,
   "id": "2dae75e0-d1c6-4d50-bf28-10a10ba84bf6",
   "metadata": {},
   "outputs": [
    {
     "data": {
      "text/plain": [
       "[Person: job=None, name=Bob Smith, pay=0]"
      ]
     },
     "execution_count": 10,
     "metadata": {},
     "output_type": "execute_result"
    }
   ],
   "source": [
    "bob"
   ]
  },
  {
   "cell_type": "code",
   "execution_count": 11,
   "id": "35f0d793-b023-43f1-98fd-0089a2dc991a",
   "metadata": {},
   "outputs": [
    {
     "data": {
      "text/plain": [
       "'Smith'"
      ]
     },
     "execution_count": 11,
     "metadata": {},
     "output_type": "execute_result"
    }
   ],
   "source": [
    "bob.lastName()"
   ]
  },
  {
   "cell_type": "code",
   "execution_count": 12,
   "id": "31936964-1248-42c3-8903-6dc036efc268",
   "metadata": {},
   "outputs": [
    {
     "name": "stdout",
     "output_type": "stream",
     "text": [
      "Bob Smith => [Person: job=None, name=Bob Smith, pay=0]\n",
      "Sue Jones => [Person: job=dev, name=Sue Jones, pay=100000]\n",
      "Tom Jones => [Manager: job=mgr, name=Tom Jones, pay=50000]\n"
     ]
    }
   ],
   "source": [
    "for key in db:\n",
    "    print(key, '=>', db[key])"
   ]
  },
  {
   "cell_type": "code",
   "execution_count": 13,
   "id": "aad3e4d5-1d99-4e24-94eb-29a1581accd6",
   "metadata": {},
   "outputs": [
    {
     "name": "stdout",
     "output_type": "stream",
     "text": [
      "Bob Smith => [Person: job=None, name=Bob Smith, pay=0]\n",
      "Sue Jones => [Person: job=dev, name=Sue Jones, pay=100000]\n",
      "Tom Jones => [Manager: job=mgr, name=Tom Jones, pay=50000]\n"
     ]
    }
   ],
   "source": [
    "for key in sorted(db):\n",
    "    print(key, '=>', db[key])"
   ]
  },
  {
   "cell_type": "code",
   "execution_count": 14,
   "id": "5586dc75-a8e2-4daa-bb1e-a38dc75e852c",
   "metadata": {},
   "outputs": [],
   "source": [
    "import shelve"
   ]
  },
  {
   "cell_type": "code",
   "execution_count": 15,
   "id": "36f079c1-64f4-41b3-8b85-fbe4106734d2",
   "metadata": {},
   "outputs": [],
   "source": [
    "db = shelve.open('persondb')"
   ]
  },
  {
   "cell_type": "code",
   "execution_count": 16,
   "id": "9ecdd579-6255-4f9f-bddf-e76dd29b9a17",
   "metadata": {},
   "outputs": [],
   "source": [
    "rec = db['Sue Jones']"
   ]
  },
  {
   "cell_type": "code",
   "execution_count": 17,
   "id": "59970c61-7d20-4b2b-923f-73b30a7bd638",
   "metadata": {},
   "outputs": [
    {
     "data": {
      "text/plain": [
       "[Person: job=dev, name=Sue Jones, pay=161051]"
      ]
     },
     "execution_count": 17,
     "metadata": {},
     "output_type": "execute_result"
    }
   ],
   "source": [
    "rec"
   ]
  },
  {
   "cell_type": "code",
   "execution_count": 18,
   "id": "43d79b88-f79e-4f2e-861e-93eedf676cb4",
   "metadata": {},
   "outputs": [
    {
     "data": {
      "text/plain": [
       "'Jones'"
      ]
     },
     "execution_count": 18,
     "metadata": {},
     "output_type": "execute_result"
    }
   ],
   "source": [
    "rec.lastName()"
   ]
  },
  {
   "cell_type": "code",
   "execution_count": 19,
   "id": "d570d50a-b53c-4d75-9da1-17e8376c3bf9",
   "metadata": {},
   "outputs": [
    {
     "data": {
      "text/plain": [
       "161051"
      ]
     },
     "execution_count": 19,
     "metadata": {},
     "output_type": "execute_result"
    }
   ],
   "source": [
    "rec.pay"
   ]
  },
  {
   "cell_type": "code",
   "execution_count": null,
   "id": "a482c358-ce96-4a41-9f52-aeaddbf08f5f",
   "metadata": {},
   "outputs": [],
   "source": []
  }
 ],
 "metadata": {
  "kernelspec": {
   "display_name": "Python 3 (ipykernel)",
   "language": "python",
   "name": "python3"
  },
  "language_info": {
   "codemirror_mode": {
    "name": "ipython",
    "version": 3
   },
   "file_extension": ".py",
   "mimetype": "text/x-python",
   "name": "python",
   "nbconvert_exporter": "python",
   "pygments_lexer": "ipython3",
   "version": "3.9.13"
  }
 },
 "nbformat": 4,
 "nbformat_minor": 5
}
