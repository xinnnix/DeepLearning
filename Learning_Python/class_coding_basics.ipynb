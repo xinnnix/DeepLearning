{
 "cells": [
  {
   "cell_type": "code",
   "execution_count": 1,
   "id": "f125ff7b-ce6a-4872-9eaf-2ebc52cfdfdc",
   "metadata": {},
   "outputs": [],
   "source": [
    "class FirstClass:\n",
    "    def setdata(self, value):\n",
    "        self.data = value\n",
    "    def display(self):\n",
    "        print(self.data)"
   ]
  },
  {
   "cell_type": "code",
   "execution_count": 2,
   "id": "dc24607a-05b6-4696-acb5-1728f67eb290",
   "metadata": {},
   "outputs": [],
   "source": [
    "x = FirstClass()"
   ]
  },
  {
   "cell_type": "code",
   "execution_count": 3,
   "id": "617b7149-748f-480d-adef-7a85df59a45a",
   "metadata": {},
   "outputs": [],
   "source": [
    "y = FirstClass()"
   ]
  },
  {
   "cell_type": "code",
   "execution_count": 4,
   "id": "789c9777-008f-4fc4-a3a8-19ac84407025",
   "metadata": {},
   "outputs": [],
   "source": [
    "x.setdata('King Arthur')"
   ]
  },
  {
   "cell_type": "code",
   "execution_count": 5,
   "id": "6ad8e4f8-fc66-4c9f-91fb-e5191f539b90",
   "metadata": {},
   "outputs": [],
   "source": [
    "y.setdata(3.1415926)"
   ]
  },
  {
   "cell_type": "code",
   "execution_count": 6,
   "id": "ddcb67c8-b1a3-43b9-9f70-6a421e043175",
   "metadata": {},
   "outputs": [
    {
     "name": "stdout",
     "output_type": "stream",
     "text": [
      "King Arthur\n"
     ]
    }
   ],
   "source": [
    "x.display()"
   ]
  },
  {
   "cell_type": "code",
   "execution_count": 7,
   "id": "13a750d1-e806-4784-81b5-f65ff456c24c",
   "metadata": {},
   "outputs": [
    {
     "name": "stdout",
     "output_type": "stream",
     "text": [
      "3.1415926\n"
     ]
    }
   ],
   "source": [
    "y.display()"
   ]
  },
  {
   "cell_type": "code",
   "execution_count": 8,
   "id": "84a09dd2-ca62-4e79-bb03-e186bb37b617",
   "metadata": {},
   "outputs": [],
   "source": [
    "x.data = 'New Value'"
   ]
  },
  {
   "cell_type": "code",
   "execution_count": 9,
   "id": "8b9f1ec9-b93d-4f23-9b24-4ad311163f1e",
   "metadata": {},
   "outputs": [
    {
     "name": "stdout",
     "output_type": "stream",
     "text": [
      "New Value\n"
     ]
    }
   ],
   "source": [
    "x.display()"
   ]
  },
  {
   "cell_type": "code",
   "execution_count": 10,
   "id": "3b02017e-e9f8-4b46-be8a-70398dd78371",
   "metadata": {},
   "outputs": [],
   "source": [
    "x.anothername = 'spam'"
   ]
  },
  {
   "cell_type": "code",
   "execution_count": 11,
   "id": "f4a11d2f-1688-46c0-8eb9-b0a6877bcf09",
   "metadata": {},
   "outputs": [
    {
     "data": {
      "text/plain": [
       "'spam'"
      ]
     },
     "execution_count": 11,
     "metadata": {},
     "output_type": "execute_result"
    }
   ],
   "source": [
    "x.anothername"
   ]
  },
  {
   "cell_type": "code",
   "execution_count": 12,
   "id": "345917af-468b-4475-a19c-08c4b964fd6e",
   "metadata": {},
   "outputs": [],
   "source": [
    "class SecondClass(FirstClass):\n",
    "    def display(self):\n",
    "        print('Current value = \"%s\"' % self.data)"
   ]
  },
  {
   "cell_type": "code",
   "execution_count": 13,
   "id": "f52e268d-d96b-43a5-8e46-7fd3b8d10a8e",
   "metadata": {},
   "outputs": [],
   "source": [
    "z = SecondClass()"
   ]
  },
  {
   "cell_type": "code",
   "execution_count": 14,
   "id": "aab7417c-356a-4e04-9ccd-f8d9348207d8",
   "metadata": {},
   "outputs": [],
   "source": [
    "z.setdata(42)"
   ]
  },
  {
   "cell_type": "code",
   "execution_count": 15,
   "id": "4f1be1ab-6d77-46f9-ad81-d5ef95dcfe31",
   "metadata": {},
   "outputs": [
    {
     "name": "stdout",
     "output_type": "stream",
     "text": [
      "Current value = \"42\"\n"
     ]
    }
   ],
   "source": [
    "z.display()"
   ]
  },
  {
   "cell_type": "code",
   "execution_count": 16,
   "id": "249b0940-0e2c-4679-83de-e86bb4a1f780",
   "metadata": {},
   "outputs": [
    {
     "name": "stdout",
     "output_type": "stream",
     "text": [
      "New Value\n"
     ]
    }
   ],
   "source": [
    "x.display()"
   ]
  },
  {
   "cell_type": "code",
   "execution_count": 17,
   "id": "7aeb9e8b-43a4-4f7b-9086-dc14fcb8260a",
   "metadata": {},
   "outputs": [],
   "source": [
    "class ThirdClass(SecondClass):\n",
    "    def __init__(self, value):\n",
    "        self.data = value\n",
    "    def __add__(self, other):\n",
    "        return ThirdClass(self.data + other)\n",
    "    def __str__(self):\n",
    "        return '[ThirdClass: %s]' % self.data\n",
    "    def mul(self, other):\n",
    "        self.data *= other"
   ]
  },
  {
   "cell_type": "code",
   "execution_count": 18,
   "id": "6ac25f96-f0f3-4f73-ba64-e130e02c3172",
   "metadata": {},
   "outputs": [],
   "source": [
    "a = ThirdClass('abc')"
   ]
  },
  {
   "cell_type": "code",
   "execution_count": 19,
   "id": "7fe9d784-a30c-4500-ae2c-8f6beb7eabef",
   "metadata": {},
   "outputs": [
    {
     "name": "stdout",
     "output_type": "stream",
     "text": [
      "Current value = \"abc\"\n"
     ]
    }
   ],
   "source": [
    "a.display()"
   ]
  },
  {
   "cell_type": "code",
   "execution_count": 20,
   "id": "7ffac35e-4a75-4f95-80f4-45b68db0abf4",
   "metadata": {},
   "outputs": [
    {
     "name": "stdout",
     "output_type": "stream",
     "text": [
      "[ThirdClass: abc]\n"
     ]
    }
   ],
   "source": [
    "print(a)"
   ]
  },
  {
   "cell_type": "code",
   "execution_count": 21,
   "id": "afc2b3bf-3b34-4651-ba89-892582fe624f",
   "metadata": {},
   "outputs": [],
   "source": [
    "b = a + 'xyz'"
   ]
  },
  {
   "cell_type": "code",
   "execution_count": 22,
   "id": "f1f6ef94-8d3b-419c-a457-d51f2c7e4ddd",
   "metadata": {},
   "outputs": [
    {
     "name": "stdout",
     "output_type": "stream",
     "text": [
      "Current value = \"abcxyz\"\n"
     ]
    }
   ],
   "source": [
    "b.display()"
   ]
  },
  {
   "cell_type": "code",
   "execution_count": 23,
   "id": "5e3d0e09-53fe-493b-b5bd-6ff9fa83c442",
   "metadata": {},
   "outputs": [
    {
     "name": "stdout",
     "output_type": "stream",
     "text": [
      "[ThirdClass: abcxyz]\n"
     ]
    }
   ],
   "source": [
    "print(b)"
   ]
  },
  {
   "cell_type": "code",
   "execution_count": 24,
   "id": "c7cc0a07-1e65-46e4-9fb8-5d95a1c51dfb",
   "metadata": {},
   "outputs": [],
   "source": [
    "a.mul(3)"
   ]
  },
  {
   "cell_type": "code",
   "execution_count": 25,
   "id": "e419200a-97e2-4f97-9546-637f204ae932",
   "metadata": {},
   "outputs": [
    {
     "name": "stdout",
     "output_type": "stream",
     "text": [
      "[ThirdClass: abcabcabc]\n"
     ]
    }
   ],
   "source": [
    "print(a)"
   ]
  },
  {
   "cell_type": "code",
   "execution_count": 26,
   "id": "0beb91a6-ba4e-48ad-b1f4-598d259bdcc7",
   "metadata": {},
   "outputs": [],
   "source": [
    "class rec: pass"
   ]
  },
  {
   "cell_type": "code",
   "execution_count": 27,
   "id": "49e0cb91-44c7-4d04-9d7c-1d2a467caea1",
   "metadata": {},
   "outputs": [],
   "source": [
    "rec.name = 'Bob'"
   ]
  },
  {
   "cell_type": "code",
   "execution_count": 28,
   "id": "a5833081-7708-4da8-ae76-461d92da66a1",
   "metadata": {},
   "outputs": [],
   "source": [
    "rec.age = 40"
   ]
  },
  {
   "cell_type": "code",
   "execution_count": 29,
   "id": "52acbc7e-4320-4442-a73a-033d8e576adf",
   "metadata": {},
   "outputs": [
    {
     "name": "stdout",
     "output_type": "stream",
     "text": [
      "Bob\n"
     ]
    }
   ],
   "source": [
    "print(rec.name)"
   ]
  },
  {
   "cell_type": "code",
   "execution_count": 30,
   "id": "983e6d61-3909-4255-bcc4-b930cbea7e80",
   "metadata": {},
   "outputs": [],
   "source": [
    "x = rec()"
   ]
  },
  {
   "cell_type": "code",
   "execution_count": 31,
   "id": "7cd1912e-9617-4fa9-af2d-c2fcc7747330",
   "metadata": {},
   "outputs": [],
   "source": [
    "y = rec()"
   ]
  },
  {
   "cell_type": "code",
   "execution_count": 32,
   "id": "324b3b79-7791-4c62-bbbd-67e307e74f83",
   "metadata": {},
   "outputs": [
    {
     "data": {
      "text/plain": [
       "'Bob'"
      ]
     },
     "execution_count": 32,
     "metadata": {},
     "output_type": "execute_result"
    }
   ],
   "source": [
    "x.name"
   ]
  },
  {
   "cell_type": "code",
   "execution_count": 33,
   "id": "5d420510-603f-4f31-86ff-c31abcfffd7d",
   "metadata": {},
   "outputs": [
    {
     "data": {
      "text/plain": [
       "'Bob'"
      ]
     },
     "execution_count": 33,
     "metadata": {},
     "output_type": "execute_result"
    }
   ],
   "source": [
    "y.name"
   ]
  },
  {
   "cell_type": "code",
   "execution_count": 34,
   "id": "3a631506-6ce1-486b-86e3-895ad9c1dd50",
   "metadata": {},
   "outputs": [],
   "source": [
    "x.name = 'Sue'"
   ]
  },
  {
   "cell_type": "code",
   "execution_count": 35,
   "id": "29c22408-8f13-4ef3-ac81-acd74cf6b4ec",
   "metadata": {},
   "outputs": [
    {
     "data": {
      "text/plain": [
       "('Bob', 'Sue', 'Bob')"
      ]
     },
     "execution_count": 35,
     "metadata": {},
     "output_type": "execute_result"
    }
   ],
   "source": [
    "rec.name, x.name, y.name"
   ]
  },
  {
   "cell_type": "code",
   "execution_count": 36,
   "id": "99aa129c-13db-458e-aa4d-651e29bee591",
   "metadata": {},
   "outputs": [],
   "source": [
    "rec.name = 'lol'"
   ]
  },
  {
   "cell_type": "code",
   "execution_count": 37,
   "id": "7cd7e994-db48-4aeb-92df-891ed2f75e5f",
   "metadata": {},
   "outputs": [
    {
     "data": {
      "text/plain": [
       "('lol', 'Sue', 'lol')"
      ]
     },
     "execution_count": 37,
     "metadata": {},
     "output_type": "execute_result"
    }
   ],
   "source": [
    "rec.name, x.name, y.name"
   ]
  },
  {
   "cell_type": "code",
   "execution_count": 38,
   "id": "31747f0f-645d-48a4-9058-bfde3ba64857",
   "metadata": {},
   "outputs": [
    {
     "data": {
      "text/plain": [
       "['__module__', '__dict__', '__weakref__', '__doc__', 'name', 'age']"
      ]
     },
     "execution_count": 38,
     "metadata": {},
     "output_type": "execute_result"
    }
   ],
   "source": [
    "list(rec.__dict__.keys())"
   ]
  },
  {
   "cell_type": "code",
   "execution_count": 40,
   "id": "8fb8ac93-081a-472e-8bbf-08b11e013092",
   "metadata": {},
   "outputs": [
    {
     "data": {
      "text/plain": [
       "['name', 'age']"
      ]
     },
     "execution_count": 40,
     "metadata": {},
     "output_type": "execute_result"
    }
   ],
   "source": [
    "list(name for name in rec.__dict__ if not name.startswith('__'))"
   ]
  },
  {
   "cell_type": "code",
   "execution_count": 41,
   "id": "408be45a-dba1-443e-af71-96456b602b9a",
   "metadata": {},
   "outputs": [
    {
     "data": {
      "text/plain": [
       "['name']"
      ]
     },
     "execution_count": 41,
     "metadata": {},
     "output_type": "execute_result"
    }
   ],
   "source": [
    "list(x.__dict__.keys())"
   ]
  },
  {
   "cell_type": "code",
   "execution_count": 43,
   "id": "9bde1866-9a18-402f-b8c4-16b76d409d1d",
   "metadata": {},
   "outputs": [
    {
     "data": {
      "text/plain": [
       "[]"
      ]
     },
     "execution_count": 43,
     "metadata": {},
     "output_type": "execute_result"
    }
   ],
   "source": [
    "list(y.__dict__.keys())"
   ]
  },
  {
   "cell_type": "code",
   "execution_count": 44,
   "id": "e536ef3a-9d9d-48a1-bc0d-57c2fa4d02cf",
   "metadata": {},
   "outputs": [
    {
     "data": {
      "text/plain": [
       "['__module__', '__dict__', '__weakref__', '__doc__', 'name', 'age']"
      ]
     },
     "execution_count": 44,
     "metadata": {},
     "output_type": "execute_result"
    }
   ],
   "source": [
    "list(rec.__dict__)"
   ]
  },
  {
   "cell_type": "code",
   "execution_count": 45,
   "id": "86d726fd-373c-4e56-b338-f0e24d745c00",
   "metadata": {},
   "outputs": [
    {
     "data": {
      "text/plain": [
       "('Sue', 'Sue')"
      ]
     },
     "execution_count": 45,
     "metadata": {},
     "output_type": "execute_result"
    }
   ],
   "source": [
    "x.name, x.__dict__['name']"
   ]
  },
  {
   "cell_type": "code",
   "execution_count": 46,
   "id": "ae73842e-21e1-44f6-9409-e43c18fe4cc4",
   "metadata": {},
   "outputs": [
    {
     "data": {
      "text/plain": [
       "40"
      ]
     },
     "execution_count": 46,
     "metadata": {},
     "output_type": "execute_result"
    }
   ],
   "source": [
    "x.age"
   ]
  },
  {
   "cell_type": "code",
   "execution_count": 47,
   "id": "935a09c6-589d-4ee5-96f7-0a3c5a6867df",
   "metadata": {},
   "outputs": [
    {
     "ename": "KeyError",
     "evalue": "'age'",
     "output_type": "error",
     "traceback": [
      "\u001b[1;31m---------------------------------------------------------------------------\u001b[0m",
      "\u001b[1;31mKeyError\u001b[0m                                  Traceback (most recent call last)",
      "Cell \u001b[1;32mIn [47], line 1\u001b[0m\n\u001b[1;32m----> 1\u001b[0m \u001b[43mx\u001b[49m\u001b[38;5;241;43m.\u001b[39;49m\u001b[38;5;18;43m__dict__\u001b[39;49m\u001b[43m[\u001b[49m\u001b[38;5;124;43m'\u001b[39;49m\u001b[38;5;124;43mage\u001b[39;49m\u001b[38;5;124;43m'\u001b[39;49m\u001b[43m]\u001b[49m\n",
      "\u001b[1;31mKeyError\u001b[0m: 'age'"
     ]
    }
   ],
   "source": [
    "x.__dict__['age']"
   ]
  },
  {
   "cell_type": "code",
   "execution_count": 48,
   "id": "bd3ab3fc-3b23-4b80-b09c-1c25380a69bb",
   "metadata": {},
   "outputs": [
    {
     "data": {
      "text/plain": [
       "__main__.rec"
      ]
     },
     "execution_count": 48,
     "metadata": {},
     "output_type": "execute_result"
    }
   ],
   "source": [
    "x.__class__"
   ]
  },
  {
   "cell_type": "code",
   "execution_count": 49,
   "id": "37421af8-a305-4080-b9fe-be246f900682",
   "metadata": {},
   "outputs": [
    {
     "data": {
      "text/plain": [
       "(object,)"
      ]
     },
     "execution_count": 49,
     "metadata": {},
     "output_type": "execute_result"
    }
   ],
   "source": [
    "rec.__bases__"
   ]
  },
  {
   "cell_type": "code",
   "execution_count": 50,
   "id": "550814a6-e93c-435a-b4e9-c732afd284d2",
   "metadata": {},
   "outputs": [],
   "source": [
    "def uppername(obj):\n",
    "    return obj.name.upper()"
   ]
  },
  {
   "cell_type": "code",
   "execution_count": 51,
   "id": "11b5d162-a3fc-4e21-9901-ff6276cdffa6",
   "metadata": {},
   "outputs": [
    {
     "data": {
      "text/plain": [
       "'SUE'"
      ]
     },
     "execution_count": 51,
     "metadata": {},
     "output_type": "execute_result"
    }
   ],
   "source": [
    "uppername(x)"
   ]
  },
  {
   "cell_type": "code",
   "execution_count": 52,
   "id": "176311c1-1fed-472e-b26e-012d13036752",
   "metadata": {},
   "outputs": [],
   "source": [
    "rec.method = uppername"
   ]
  },
  {
   "cell_type": "code",
   "execution_count": 54,
   "id": "d1a02569-6e55-4056-8cc7-fabc7e30a5e9",
   "metadata": {},
   "outputs": [
    {
     "data": {
      "text/plain": [
       "'SUE'"
      ]
     },
     "execution_count": 54,
     "metadata": {},
     "output_type": "execute_result"
    }
   ],
   "source": [
    "x.method()"
   ]
  },
  {
   "cell_type": "code",
   "execution_count": 55,
   "id": "f07cc067-74d7-49e4-9d6e-b786bdccd4c2",
   "metadata": {},
   "outputs": [
    {
     "data": {
      "text/plain": [
       "'LOL'"
      ]
     },
     "execution_count": 55,
     "metadata": {},
     "output_type": "execute_result"
    }
   ],
   "source": [
    "y.method()"
   ]
  },
  {
   "cell_type": "code",
   "execution_count": 56,
   "id": "2bb54e84-d6b0-4d8b-ac32-7d73f306b546",
   "metadata": {},
   "outputs": [
    {
     "data": {
      "text/plain": [
       "'SUE'"
      ]
     },
     "execution_count": 56,
     "metadata": {},
     "output_type": "execute_result"
    }
   ],
   "source": [
    "rec.method(x)"
   ]
  },
  {
   "cell_type": "code",
   "execution_count": 57,
   "id": "b2844bc6-f2f2-4892-b0f7-98af53797e3d",
   "metadata": {},
   "outputs": [],
   "source": [
    "rec = ('Bob', 40.5, ['dev', 'mgr'])"
   ]
  },
  {
   "cell_type": "code",
   "execution_count": 58,
   "id": "26ceb5d7-0ef0-49d7-a03e-18d18e439def",
   "metadata": {},
   "outputs": [
    {
     "name": "stdout",
     "output_type": "stream",
     "text": [
      "Bob\n"
     ]
    }
   ],
   "source": [
    "print(rec[0])"
   ]
  },
  {
   "cell_type": "code",
   "execution_count": 59,
   "id": "b1965b85-37e6-4ada-a2f9-35819ed42103",
   "metadata": {},
   "outputs": [],
   "source": [
    "rec = {}"
   ]
  },
  {
   "cell_type": "code",
   "execution_count": 60,
   "id": "e02a0893-efb7-49cd-b9a8-7559bc255164",
   "metadata": {},
   "outputs": [],
   "source": [
    "rec['name'] = 'Bob'"
   ]
  },
  {
   "cell_type": "code",
   "execution_count": 61,
   "id": "93e53916-1032-430f-957a-c36d2399c401",
   "metadata": {},
   "outputs": [],
   "source": [
    "rec['age'] = 40.5"
   ]
  },
  {
   "cell_type": "code",
   "execution_count": 62,
   "id": "ff905ea9-85eb-4597-9495-4db64ab2222d",
   "metadata": {},
   "outputs": [],
   "source": [
    "rec['job'] = ['dev', 'mgr']"
   ]
  },
  {
   "cell_type": "code",
   "execution_count": 63,
   "id": "6ccf96ec-c056-4380-a751-56b771c5c360",
   "metadata": {},
   "outputs": [
    {
     "name": "stdout",
     "output_type": "stream",
     "text": [
      "Bob\n"
     ]
    }
   ],
   "source": [
    "print(rec['name'])"
   ]
  },
  {
   "cell_type": "code",
   "execution_count": 64,
   "id": "f9b49ad9-4a52-4704-a93b-eb02054f35f8",
   "metadata": {},
   "outputs": [],
   "source": [
    "class rec: pass"
   ]
  },
  {
   "cell_type": "code",
   "execution_count": 65,
   "id": "116b2c59-21fa-4cce-876a-1265485f0bde",
   "metadata": {},
   "outputs": [],
   "source": [
    "rec.name = 'Bob'\n",
    "rec.age = 40.5\n",
    "rec.jobs = ['dev', 'mgr']"
   ]
  },
  {
   "cell_type": "code",
   "execution_count": 66,
   "id": "ccc12c0a-771e-43d4-85e8-f73ec62b443f",
   "metadata": {},
   "outputs": [
    {
     "name": "stdout",
     "output_type": "stream",
     "text": [
      "Bob\n"
     ]
    }
   ],
   "source": [
    "print(rec.name)"
   ]
  },
  {
   "cell_type": "code",
   "execution_count": 67,
   "id": "6395b9b6-f9e5-4924-b6f5-48d7c5986598",
   "metadata": {},
   "outputs": [],
   "source": [
    "class rec: pass"
   ]
  },
  {
   "cell_type": "code",
   "execution_count": 68,
   "id": "e3e69386-86d2-4959-8f38-2d159e880bfa",
   "metadata": {},
   "outputs": [],
   "source": [
    "pers1 = rec()\n",
    "pers1.name = 'Bob'\n",
    "pers1.jobs = ['dev', 'mgr']\n",
    "pers1.age = 40.5"
   ]
  },
  {
   "cell_type": "code",
   "execution_count": 69,
   "id": "15263ff4-c346-4cd0-b444-5fdabe74530f",
   "metadata": {},
   "outputs": [],
   "source": [
    "pers2 = rec()\n",
    "pers2.name = 'Sue'\n",
    "pers2.jobs = ['dev', 'cto']"
   ]
  },
  {
   "cell_type": "code",
   "execution_count": 70,
   "id": "80dcdf8e-a8a2-4a6d-8cdb-c98c12238a10",
   "metadata": {},
   "outputs": [
    {
     "data": {
      "text/plain": [
       "('Bob', 'Sue')"
      ]
     },
     "execution_count": 70,
     "metadata": {},
     "output_type": "execute_result"
    }
   ],
   "source": [
    "pers1.name, pers2.name"
   ]
  },
  {
   "cell_type": "code",
   "execution_count": 71,
   "id": "7464f4c8-49f6-4a31-aa24-4b3b4706439f",
   "metadata": {},
   "outputs": [],
   "source": [
    "class Person:\n",
    "    def __init__(self, name, jobs, age=None):\n",
    "        self.name = name\n",
    "        self.jobs = jobs\n",
    "        self.age = age\n",
    "    def info(self):\n",
    "        return (self.name, self.jobs)"
   ]
  },
  {
   "cell_type": "code",
   "execution_count": 72,
   "id": "481d3814-6061-4dd2-8657-74a561e87f49",
   "metadata": {},
   "outputs": [],
   "source": [
    "rec1 = Person('Bob', ['dev', 'mgr'], 40.5)"
   ]
  },
  {
   "cell_type": "code",
   "execution_count": 73,
   "id": "d6f38c38-9dc2-49e3-9be6-1e67660ed8ff",
   "metadata": {},
   "outputs": [],
   "source": [
    "rec2 = Person('Sue', ['dev', 'cto'])"
   ]
  },
  {
   "cell_type": "code",
   "execution_count": 74,
   "id": "326250d5-930c-408e-91e3-0e3e8a32a8b8",
   "metadata": {},
   "outputs": [
    {
     "data": {
      "text/plain": [
       "(['dev', 'mgr'], ('Sue', ['dev', 'cto']))"
      ]
     },
     "execution_count": 74,
     "metadata": {},
     "output_type": "execute_result"
    }
   ],
   "source": [
    "rec1.jobs, rec2.info()"
   ]
  },
  {
   "cell_type": "code",
   "execution_count": null,
   "id": "fa12c0ed-3474-4a57-8e58-a6364448a0f1",
   "metadata": {},
   "outputs": [],
   "source": []
  }
 ],
 "metadata": {
  "kernelspec": {
   "display_name": "Python 3 (ipykernel)",
   "language": "python",
   "name": "python3"
  },
  "language_info": {
   "codemirror_mode": {
    "name": "ipython",
    "version": 3
   },
   "file_extension": ".py",
   "mimetype": "text/x-python",
   "name": "python",
   "nbconvert_exporter": "python",
   "pygments_lexer": "ipython3",
   "version": "3.9.13"
  }
 },
 "nbformat": 4,
 "nbformat_minor": 5
}
