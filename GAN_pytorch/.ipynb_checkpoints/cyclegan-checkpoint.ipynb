{
 "cells": [
  {
   "cell_type": "code",
   "execution_count": 1,
   "id": "c17f0b70-3dec-4f0e-a7ee-a648fc722492",
   "metadata": {},
   "outputs": [],
   "source": [
    "import torch\n",
    "import torch.nn as nn\n",
    "import torch.nn.functional as F\n",
    "import numpy as np"
   ]
  },
  {
   "cell_type": "code",
   "execution_count": 2,
   "id": "880a5123-0aa7-4279-8907-d651604e0bf0",
   "metadata": {},
   "outputs": [],
   "source": [
    "class ResidualBlock(nn.Module):\n",
    "    def __init__(self, channels):\n",
    "        super(ResidualBlock, self).__init__()\n",
    "        \n",
    "        block = [nn.ReflectionPad2d(1),\n",
    "                 nn.Conv2d(channels, channels, 3),\n",
    "                 nn.InstanceNorm2d(channels),\n",
    "                 nn.ReLU(inplace=True),\n",
    "                 nn.ReflectionPad2d(1),\n",
    "                 nn.Conv2d(channels, channels, 3),\n",
    "                 nn.InstanceNorm2d(channels)]\n",
    "        self.block = nn.Sequential(*block)\n",
    "        \n",
    "    def forward(self, x):\n",
    "        return x + self.block(x)"
   ]
  },
  {
   "cell_type": "code",
   "execution_count": 3,
   "id": "57356f94-1859-4943-8611-1bab2ee56f12",
   "metadata": {},
   "outputs": [],
   "source": [
    "class Generator(nn.Module):\n",
    "    def __init__(self, channels, num_blocks=9):\n",
    "        super(Generator, self).__init__()\n",
    "        self.channels = channels\n",
    "        \n",
    "        model = [nn.ReflectionPad2d(3)]\n",
    "        model += self._create_layer(self.channels, 64, 7, stride=1, padding=0, transposed=False)\n",
    "        # downsampling\n",
    "        model += self._create_layer(64, 128, 3, stride=2, padding=1, transposed=False)\n",
    "        model += self._create_layer(128, 256, 3, stride=2, padding=1, transposed=False)\n",
    "        # residual blocks\n",
    "        model += [ResidualBlock(256) for _ in range(num_blocks)]\n",
    "        # upsampling\n",
    "        model += self._create_layer(256, 128, 3, stride=2, padding=1, transposed=True)\n",
    "        model += self._create_layer(128, 64, 3, stride=2, padding=1, transposed=True)\n",
    "        # output\n",
    "        model += [nn.ReflectionPad2d(3),\n",
    "                  nn.Conv2d(64, self.channels, 7),\n",
    "                  nn.Tanh()]\n",
    "        self.model = nn.Sequential(*model)\n",
    "        \n",
    "    def _create_layer(self, size_in, size_out, kernel_size, stride=2, padding=1, transposed=False):\n",
    "        layers=[]\n",
    "        if transposed:\n",
    "            layers.append(nn.ConvTranspose2d(size_in, size_out, kernel_size, stride=stride, padding=padding, output_padding=1))\n",
    "        else:\n",
    "            layers.append(nn.Conv2d(size_in, size_out, kernel_size, stride=stride, padding=padding))\n",
    "        layers.append(nn.InstanceNorm2d(size_out))\n",
    "        layers.append(nn.ReLU(inplace=True))\n",
    "        return layers\n",
    "    \n",
    "    def forward(self, x):\n",
    "        return self.model(x)"
   ]
  },
  {
   "cell_type": "code",
   "execution_count": null,
   "id": "07cdaceb-861e-4aed-ad06-bb003643cbb1",
   "metadata": {},
   "outputs": [],
   "source": []
  }
 ],
 "metadata": {
  "kernelspec": {
   "display_name": "Python 3 (ipykernel)",
   "language": "python",
   "name": "python3"
  },
  "language_info": {
   "codemirror_mode": {
    "name": "ipython",
    "version": 3
   },
   "file_extension": ".py",
   "mimetype": "text/x-python",
   "name": "python",
   "nbconvert_exporter": "python",
   "pygments_lexer": "ipython3",
   "version": "3.9.16"
  }
 },
 "nbformat": 4,
 "nbformat_minor": 5
}
