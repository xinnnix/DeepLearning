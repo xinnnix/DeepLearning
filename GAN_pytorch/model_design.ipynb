{
 "cells": [
  {
   "cell_type": "code",
   "execution_count": 2,
   "id": "8d502ea9-ec98-4e40-9be4-3b3b456c7241",
   "metadata": {},
   "outputs": [],
   "source": [
    "import torch\n",
    "import torch.nn as nn"
   ]
  },
  {
   "cell_type": "code",
   "execution_count": 4,
   "id": "d4426ac3-ebb0-4b74-a24c-a7bc0a30acbf",
   "metadata": {},
   "outputs": [],
   "source": [
    "class ReLUConvBN(nn.Module):\n",
    "    def __init__(self, C_in, C_out, kernel_size, stride, padding, affine=True):\n",
    "        super(ReLUConvBN, self).__init__()\n",
    "        self.op = nn.Sequential(\n",
    "            nn.ReLU(inplace=False),\n",
    "            nn.Conv2d(C_in, C_out, kernel_size, stride=stride, padding=padding, bias=False),\n",
    "            nn.BatchNorm2d(C_out, affine=affine)\n",
    "        )\n",
    "    def forward(self, x):\n",
    "        return self.op(x)"
   ]
  },
  {
   "cell_type": "code",
   "execution_count": 5,
   "id": "b836d415-ebed-4498-8553-9c4905657eaf",
   "metadata": {},
   "outputs": [],
   "source": [
    "class SepConv(nn.Module):\n",
    "    def __init__(self, C_in, C_out, kernel_size, stride, padding, affine=True):\n",
    "        super(SepConv, self).__init__()\n",
    "        self.op = nn.Sequential(\n",
    "            nn.ReLU(inplace=False),\n",
    "            nn.Conv2d(C_in, C_in, kernel_size=kernel_size, stride=stride, padding=padding, groups=C_in, bias=False),\n",
    "            nn.Conv2d(C_in, C_in, kernel_size=1, padding=0, bias=False),\n",
    "            nn.BatchNorm2d(C_in, affine=affine),\n",
    "            nn.ReLU(inplace=False),\n",
    "            nn.Conv2d(C_in, C_in, kernel_size=kernel_size, stride=1, padding=padding, groups=C_in, bias=False),\n",
    "            nn.Conv2d(C_in, C_out, kernel_size=1, padding=0, bias=False),\n",
    "            nn.BatchNorm2d(C_out, affine=affine),\n",
    "        )\n",
    "        \n",
    "    def forward(self,x):\n",
    "        return self.op(x)"
   ]
  },
  {
   "cell_type": "code",
   "execution_count": 6,
   "id": "d94066eb-688b-495b-82bf-7270ac16d97e",
   "metadata": {},
   "outputs": [],
   "source": [
    "class DilConv(nn.Module):\n",
    "    def __init__(self, C_in, C_out, kernel_size, stride, padding, dilation, affine=True):\n",
    "        super(DilConv, self).__init__()\n",
    "        self.op = nn.Sequential(\n",
    "            nn.ReLU(inplace=False),\n",
    "            nn.Conv2d(C_in, C_in, kernel_size=kernel_size, stride=stride, padding=padding, dilation=dilation, groups=C_in, bias=False),\n",
    "            nn.Conv2d(C_in, C_out, kernel_size=1, padding=0, bias=False),\n",
    "            nn.BatchNorm2d(C_out, affine=affine),\n",
    "        )\n",
    "    def forward(self, x):\n",
    "        return self.op(x)"
   ]
  },
  {
   "cell_type": "code",
   "execution_count": 7,
   "id": "83e9c3cc-dc2b-4b60-acf4-a0c049ebc447",
   "metadata": {},
   "outputs": [],
   "source": [
    "class FactorizedReduce(nn.Module):\n",
    "    def __init__(self, C_in, C_out, affine=True):\n",
    "        super(FactorizedReduce, self).__init__()\n",
    "        assert C_out%2 == 0\n",
    "        self.relu = nn.ReLU(inplace=False)\n",
    "        self.conv_1 = nn.Conv2d(C_in, C_out//2, 1, stride=2, padding=0, bias=False)\n",
    "        self.conv_2 = nn.Conv2d(C_in, C_out//2, 1, stride=2, padding=0, bias=False)\n",
    "        self.bn = nn.BatchNorm2d(C_out, affine=affine)\n",
    "        \n",
    "    def forward(self, x):\n",
    "        x = self.relu(x)\n",
    "        out = torch.cat([self.conv_1(x), self.conv_2(x[:,:,1:,1:])], dim=1)\n",
    "        out = self.bn(out)\n",
    "        return out"
   ]
  },
  {
   "cell_type": "code",
   "execution_count": null,
   "id": "4a09a0f4-22f9-49e7-9f98-ed531b3ac466",
   "metadata": {},
   "outputs": [],
   "source": []
  }
 ],
 "metadata": {
  "kernelspec": {
   "display_name": "Python 3 (ipykernel)",
   "language": "python",
   "name": "python3"
  },
  "language_info": {
   "codemirror_mode": {
    "name": "ipython",
    "version": 3
   },
   "file_extension": ".py",
   "mimetype": "text/x-python",
   "name": "python",
   "nbconvert_exporter": "python",
   "pygments_lexer": "ipython3",
   "version": "3.9.16"
  }
 },
 "nbformat": 4,
 "nbformat_minor": 5
}
