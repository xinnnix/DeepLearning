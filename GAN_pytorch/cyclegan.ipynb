{
 "cells": [
  {
   "cell_type": "code",
   "execution_count": 1,
   "id": "c17f0b70-3dec-4f0e-a7ee-a648fc722492",
   "metadata": {},
   "outputs": [],
   "source": [
    "import torch\n",
    "import torch.nn as nn\n",
    "import torch.nn.functional as F\n",
    "import numpy as np"
   ]
  },
  {
   "cell_type": "code",
   "execution_count": 2,
   "id": "880a5123-0aa7-4279-8907-d651604e0bf0",
   "metadata": {},
   "outputs": [],
   "source": [
    "class ResidualBlock(nn.Module):\n",
    "    def __init__(self, channels):\n",
    "        super(ResidualBlock, self).__init__()\n",
    "        \n",
    "        block = [nn.ReflectionPad2d(1),\n",
    "                 nn.Conv2d(channels, channels, 3),\n",
    "                 nn.InstanceNorm2d(channels),\n",
    "                 nn.ReLU(inplace=True),\n",
    "                 nn.ReflectionPad2d(1),\n",
    "                 nn.Conv2d(channels, channels, 3),\n",
    "                 nn.InstanceNorm2d(channels)]\n",
    "        self.block = nn.Sequential(*block)\n",
    "        \n",
    "    def forward(self, x):\n",
    "        return x + self.block(x)"
   ]
  },
  {
   "cell_type": "code",
   "execution_count": null,
   "id": "57356f94-1859-4943-8611-1bab2ee56f12",
   "metadata": {},
   "outputs": [],
   "source": [
    "class Generator(nn.Module):\n",
    "    def __init__(self, channels, num_blocks=9):\n",
    "        super(Generator, self).__init__()\n",
    "        self.channels = channels\n",
    "        \n",
    "        model = [nn.ReflectionPad2d(3)]\n",
    "        model += self._create_layer(self.channels, 64, 7, stride=1, padding=0, transposed=False)\n",
    "        # downsmap"
   ]
  }
 ],
 "metadata": {
  "kernelspec": {
   "display_name": "Python 3 (ipykernel)",
   "language": "python",
   "name": "python3"
  },
  "language_info": {
   "codemirror_mode": {
    "name": "ipython",
    "version": 3
   },
   "file_extension": ".py",
   "mimetype": "text/x-python",
   "name": "python",
   "nbconvert_exporter": "python",
   "pygments_lexer": "ipython3",
   "version": "3.9.16"
  }
 },
 "nbformat": 4,
 "nbformat_minor": 5
}
