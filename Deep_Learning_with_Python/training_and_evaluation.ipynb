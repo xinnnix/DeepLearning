{
 "cells": [
  {
   "cell_type": "code",
   "execution_count": 1,
   "id": "704463b8-5395-4264-832b-3c3eda490d02",
   "metadata": {},
   "outputs": [],
   "source": [
    "from tensorflow.keras.datasets import mnist\n",
    "\n",
    "import tensorflow as tf\n",
    "from tensorflow import keras\n",
    "from tensorflow.keras import layers"
   ]
  },
  {
   "cell_type": "code",
   "execution_count": 2,
   "id": "ebc8a9b9-1d0e-4dbd-8f8f-884b44da147d",
   "metadata": {},
   "outputs": [],
   "source": [
    "def get_mnist_model():\n",
    "    inputs = keras.Input(shape=(28*28,))\n",
    "    features = layers.Dense(512, activation='relu')(inputs)\n",
    "    features = layers.Dropout(0.5)(features)\n",
    "    outputs = layers.Dense(10, activation='softmax')(features)\n",
    "    model = keras.Model(inputs, outputs)\n",
    "    return model"
   ]
  },
  {
   "cell_type": "code",
   "execution_count": 3,
   "id": "70813c0e-3551-43a7-95d4-4eb804e7f1b0",
   "metadata": {},
   "outputs": [],
   "source": [
    "(images, labels), (test_images, test_labels) = mnist.load_data()"
   ]
  },
  {
   "cell_type": "code",
   "execution_count": 4,
   "id": "ba9a621e-5e1b-4d50-9ca1-411accc9fba9",
   "metadata": {},
   "outputs": [],
   "source": [
    "images = images.reshape((60000, 28*28)).astype('float32')/255"
   ]
  },
  {
   "cell_type": "code",
   "execution_count": 5,
   "id": "2db328b3-ec9a-4b67-bbe0-d7714278ca91",
   "metadata": {},
   "outputs": [],
   "source": [
    "test_images = test_images.reshape((10000, 28*28)).astype('float32')/255"
   ]
  },
  {
   "cell_type": "code",
   "execution_count": 6,
   "id": "93aae8f1-cb5e-44d8-ac56-4a4178ac77e3",
   "metadata": {},
   "outputs": [],
   "source": [
    "train_images, val_images = images[10000:], images[:10000]\n",
    "train_labels, val_labels = labels[10000:], labels[:10000]"
   ]
  },
  {
   "cell_type": "code",
   "execution_count": 7,
   "id": "0f370092-3022-4f35-a954-3f23fb0d28fc",
   "metadata": {},
   "outputs": [],
   "source": [
    "model = get_mnist_model()\n",
    "model.compile(optimizer='rmsprop',\n",
    "              loss='sparse_categorical_crossentropy',\n",
    "              metrics=['accuracy'])"
   ]
  },
  {
   "cell_type": "code",
   "execution_count": 8,
   "id": "db48e331-8f13-492f-8f5f-fa6290debd9f",
   "metadata": {},
   "outputs": [
    {
     "name": "stdout",
     "output_type": "stream",
     "text": [
      "Epoch 1/3\n",
      "1563/1563 [==============================] - 5s 2ms/step - loss: 0.2951 - accuracy: 0.9124 - val_loss: 0.1547 - val_accuracy: 0.9552\n",
      "Epoch 2/3\n",
      "1563/1563 [==============================] - 3s 2ms/step - loss: 0.1647 - accuracy: 0.9534 - val_loss: 0.1214 - val_accuracy: 0.9650\n",
      "Epoch 3/3\n",
      "1563/1563 [==============================] - 3s 2ms/step - loss: 0.1428 - accuracy: 0.9619 - val_loss: 0.1214 - val_accuracy: 0.9698\n"
     ]
    },
    {
     "data": {
      "text/plain": [
       "<keras.callbacks.History at 0x2cd80497a30>"
      ]
     },
     "execution_count": 8,
     "metadata": {},
     "output_type": "execute_result"
    }
   ],
   "source": [
    "model.fit(train_images, train_labels,\n",
    "          epochs=3,\n",
    "          validation_data=(val_images, val_labels))"
   ]
  },
  {
   "cell_type": "code",
   "execution_count": 9,
   "id": "86c85cf6-6e4e-4834-97cb-db3fd6efc631",
   "metadata": {},
   "outputs": [
    {
     "name": "stdout",
     "output_type": "stream",
     "text": [
      "313/313 [==============================] - 0s 1ms/step - loss: 0.1111 - accuracy: 0.9701\n"
     ]
    }
   ],
   "source": [
    "test_metrics = model.evaluate(test_images, test_labels)"
   ]
  },
  {
   "cell_type": "code",
   "execution_count": 10,
   "id": "649a8613-4f73-4c19-b77d-6b3172c25b9f",
   "metadata": {},
   "outputs": [
    {
     "name": "stdout",
     "output_type": "stream",
     "text": [
      "313/313 [==============================] - 0s 796us/step\n"
     ]
    }
   ],
   "source": [
    "predictions = model.predict(test_images)"
   ]
  },
  {
   "cell_type": "code",
   "execution_count": 11,
   "id": "7534188c-e32c-4524-936b-ec26c841a933",
   "metadata": {},
   "outputs": [],
   "source": [
    "class RootMeanSquaredError(keras.metrics.Metric):\n",
    "    def __init__(self, name='rmse', **kwargs):\n",
    "        super().__init__(name=name, **kwargs)\n",
    "        self.mse_sum = self.add_weight(name='mse_sum', initializer='zeros')\n",
    "        self.total_samples = self.add_weight(\n",
    "            name='total_samples', initializer='zeros', dtype='int32')\n",
    "        \n",
    "    def update_state(self, y_true, y_pred, sample_weight=None):\n",
    "        y_true = tf.one_hot(y_true, depth=tf.shape(y_pred)[1])\n",
    "        mse = tf.reduce_sum(tf.square(y_true - y_pred))\n",
    "        self.mse_sum.assign_add(mse)\n",
    "        num_samples = tf.shape(y_pred)[0]\n",
    "        self.total_samples.assign_add(num_samples)\n",
    "        \n",
    "    def result(self):\n",
    "        return tf.sqrt(self.mse_sum / tf.cast(self.total_samples, tf.float32))\n",
    "    \n",
    "    def reset_state(self):\n",
    "        self.mse_sum.assign(0.)\n",
    "        self.total_samples.assign(0)"
   ]
  },
  {
   "cell_type": "code",
   "execution_count": 12,
   "id": "bddcc0e7-a100-45c1-874e-8083726740a0",
   "metadata": {},
   "outputs": [],
   "source": [
    "model = get_mnist_model()\n",
    "model.compile(optimizer='rmsprop',\n",
    "              loss='sparse_categorical_crossentropy',\n",
    "              metrics=['accuracy', RootMeanSquaredError()])"
   ]
  },
  {
   "cell_type": "code",
   "execution_count": 13,
   "id": "34d67212-bcbd-49e8-9f34-0533678ae147",
   "metadata": {},
   "outputs": [
    {
     "name": "stdout",
     "output_type": "stream",
     "text": [
      "Epoch 1/3\n",
      "1563/1563 [==============================] - 5s 3ms/step - loss: 0.2934 - accuracy: 0.9129 - rmse: 7.1886 - val_loss: 0.1573 - val_accuracy: 0.9554 - val_rmse: 7.3575\n",
      "Epoch 2/3\n",
      "1563/1563 [==============================] - 4s 3ms/step - loss: 0.1683 - accuracy: 0.9533 - rmse: 7.3543 - val_loss: 0.1164 - val_accuracy: 0.9676 - val_rmse: 7.4063\n",
      "Epoch 3/3\n",
      "1563/1563 [==============================] - 4s 3ms/step - loss: 0.1379 - accuracy: 0.9625 - rmse: 7.3880 - val_loss: 0.1080 - val_accuracy: 0.9720 - val_rmse: 7.4225\n"
     ]
    },
    {
     "data": {
      "text/plain": [
       "<keras.callbacks.History at 0x2cd89c0f0a0>"
      ]
     },
     "execution_count": 13,
     "metadata": {},
     "output_type": "execute_result"
    }
   ],
   "source": [
    "model.fit(train_images, train_labels,\n",
    "          epochs=3,\n",
    "          validation_data=(val_images, val_labels))"
   ]
  },
  {
   "cell_type": "code",
   "execution_count": 14,
   "id": "54e4ef9d-64b6-46d0-8095-2039b2a25f62",
   "metadata": {},
   "outputs": [
    {
     "name": "stdout",
     "output_type": "stream",
     "text": [
      "313/313 [==============================] - 1s 2ms/step - loss: 0.1004 - accuracy: 0.9734 - rmse: 7.4349\n"
     ]
    }
   ],
   "source": [
    "test_metrics = model.evaluate(test_images, test_labels)"
   ]
  },
  {
   "cell_type": "code",
   "execution_count": 16,
   "id": "4cadbb54-25d0-4add-8c75-f61864dd41b9",
   "metadata": {},
   "outputs": [],
   "source": [
    "callbacks_list = [\n",
    "    keras.callbacks.EarlyStopping(\n",
    "        monitor='val_accuracy',\n",
    "        patience=2),\n",
    "    keras.callbacks.ModelCheckpoint(\n",
    "        filepath='checkpoint_path.keras',\n",
    "        monitor='val_loss',\n",
    "        save_best_only = True)\n",
    "]"
   ]
  },
  {
   "cell_type": "code",
   "execution_count": 17,
   "id": "c210c670-d32d-4533-99d2-393fb0e50aeb",
   "metadata": {},
   "outputs": [
    {
     "name": "stdout",
     "output_type": "stream",
     "text": [
      "Epoch 1/10\n",
      "1563/1563 [==============================] - 5s 3ms/step - loss: 0.2967 - accuracy: 0.9128 - val_loss: 0.1490 - val_accuracy: 0.9568\n",
      "Epoch 2/10\n",
      "1563/1563 [==============================] - 4s 2ms/step - loss: 0.1662 - accuracy: 0.9537 - val_loss: 0.1211 - val_accuracy: 0.9677\n",
      "Epoch 3/10\n",
      "1563/1563 [==============================] - 4s 2ms/step - loss: 0.1421 - accuracy: 0.9618 - val_loss: 0.1283 - val_accuracy: 0.9677\n",
      "Epoch 4/10\n",
      "1563/1563 [==============================] - 4s 2ms/step - loss: 0.1266 - accuracy: 0.9678 - val_loss: 0.1087 - val_accuracy: 0.9754\n",
      "Epoch 5/10\n",
      "1563/1563 [==============================] - 4s 3ms/step - loss: 0.1192 - accuracy: 0.9709 - val_loss: 0.1223 - val_accuracy: 0.9725\n",
      "Epoch 6/10\n",
      "1563/1563 [==============================] - 4s 2ms/step - loss: 0.1115 - accuracy: 0.9734 - val_loss: 0.1142 - val_accuracy: 0.9763\n",
      "Epoch 7/10\n",
      "1563/1563 [==============================] - 4s 2ms/step - loss: 0.1044 - accuracy: 0.9748 - val_loss: 0.1220 - val_accuracy: 0.9756\n",
      "Epoch 8/10\n",
      "1563/1563 [==============================] - 4s 2ms/step - loss: 0.1062 - accuracy: 0.9758 - val_loss: 0.1118 - val_accuracy: 0.9774\n",
      "Epoch 9/10\n",
      "1563/1563 [==============================] - 4s 2ms/step - loss: 0.1009 - accuracy: 0.9774 - val_loss: 0.1188 - val_accuracy: 0.9775\n",
      "Epoch 10/10\n",
      "1563/1563 [==============================] - 4s 2ms/step - loss: 0.0956 - accuracy: 0.9789 - val_loss: 0.1124 - val_accuracy: 0.9787\n"
     ]
    },
    {
     "data": {
      "text/plain": [
       "<keras.callbacks.History at 0x2d34b73fb80>"
      ]
     },
     "execution_count": 17,
     "metadata": {},
     "output_type": "execute_result"
    }
   ],
   "source": [
    "model = get_mnist_model()\n",
    "model.compile(optimizer='rmsprop',\n",
    "              loss='sparse_categorical_crossentropy',\n",
    "              metrics=['accuracy'])\n",
    "model.fit(train_images, train_labels,\n",
    "          epochs=10,\n",
    "          callbacks=callbacks_list,\n",
    "          validation_data=(val_images, val_labels))"
   ]
  },
  {
   "cell_type": "code",
   "execution_count": 18,
   "id": "205d13a3-c32d-41c5-9a8d-eb0fd8ddd7a9",
   "metadata": {},
   "outputs": [],
   "source": [
    "# model.save('my_checkpoint_path')\n",
    "\n",
    "model = keras.models.load_model('checkpoint_path.keras')"
   ]
  },
  {
   "cell_type": "code",
   "execution_count": null,
   "id": "36880995-61ec-4e0b-a782-e11e27e03c1a",
   "metadata": {},
   "outputs": [],
   "source": [
    "on_epoch_begin(epoch, logs)\n",
    "on_epoch_end(epoch, logs)\n",
    "on_batch_begin(batch, logs)\n",
    "on_batch_end(batch, logs)\n",
    "on_train_begin(logs)\n",
    "on_train_end(logs)"
   ]
  },
  {
   "cell_type": "code",
   "execution_count": 20,
   "id": "7fb1e928-004c-4ae4-b0b7-50530bfb6734",
   "metadata": {},
   "outputs": [],
   "source": [
    "from  matplotlib import pyplot as plt"
   ]
  },
  {
   "cell_type": "code",
   "execution_count": 21,
   "id": "e128a9e3-5a45-4523-b57c-4bce60fe5199",
   "metadata": {},
   "outputs": [],
   "source": [
    "class LossHistory(keras.callbacks.Callback):\n",
    "    def on_train_begin(self, logs):\n",
    "        self.per_batch_losses = []\n",
    "        \n",
    "    def on_batch_end(self, batch, logs):\n",
    "        self.per_batch_losses.append(logs.get('loss'))\n",
    "        \n",
    "    def on_epoch_end(self, epoch, logs):\n",
    "        plt.clf()\n",
    "        plt.plot(range(len(self.per_batch_losses)), self.per_batch_losses,\n",
    "                 label='Training loss for each batch')\n",
    "        plt.xlabel(f'Batch (epoch {epoch})')\n",
    "        plt.ylabel('Loss')\n",
    "        plt.legend()\n",
    "        plt.savefig(f'plot_at_epoch_{epoch}')\n",
    "        self.per_batch_losses = []"
   ]
  },
  {
   "cell_type": "code",
   "execution_count": 22,
   "id": "383aa6c7-0fb2-423d-84dd-9e05c60ac6bd",
   "metadata": {},
   "outputs": [
    {
     "name": "stdout",
     "output_type": "stream",
     "text": [
      "Epoch 1/10\n",
      "1563/1563 [==============================] - 4s 3ms/step - loss: 0.2926 - accuracy: 0.9126 - val_loss: 0.1457 - val_accuracy: 0.9579\n",
      "Epoch 2/10\n",
      "1563/1563 [==============================] - 4s 3ms/step - loss: 0.1639 - accuracy: 0.9535 - val_loss: 0.1211 - val_accuracy: 0.9691\n",
      "Epoch 3/10\n",
      "1563/1563 [==============================] - 4s 2ms/step - loss: 0.1392 - accuracy: 0.9621 - val_loss: 0.1088 - val_accuracy: 0.9726\n",
      "Epoch 4/10\n",
      "1563/1563 [==============================] - 4s 2ms/step - loss: 0.1224 - accuracy: 0.9681 - val_loss: 0.1070 - val_accuracy: 0.9739\n",
      "Epoch 5/10\n",
      "1563/1563 [==============================] - 4s 2ms/step - loss: 0.1190 - accuracy: 0.9709 - val_loss: 0.1098 - val_accuracy: 0.9744\n",
      "Epoch 6/10\n",
      "1563/1563 [==============================] - 4s 3ms/step - loss: 0.1120 - accuracy: 0.9721 - val_loss: 0.1090 - val_accuracy: 0.9768\n",
      "Epoch 7/10\n",
      "1563/1563 [==============================] - 4s 2ms/step - loss: 0.1029 - accuracy: 0.9755 - val_loss: 0.1014 - val_accuracy: 0.9774\n",
      "Epoch 8/10\n",
      "1563/1563 [==============================] - 4s 2ms/step - loss: 0.1026 - accuracy: 0.9762 - val_loss: 0.1099 - val_accuracy: 0.9776\n",
      "Epoch 9/10\n",
      "1563/1563 [==============================] - 4s 3ms/step - loss: 0.0961 - accuracy: 0.9779 - val_loss: 0.1140 - val_accuracy: 0.9785\n",
      "Epoch 10/10\n",
      "1563/1563 [==============================] - 5s 3ms/step - loss: 0.0915 - accuracy: 0.9793 - val_loss: 0.1143 - val_accuracy: 0.9793\n"
     ]
    },
    {
     "data": {
      "text/plain": [
       "<keras.callbacks.History at 0x2d34d03a760>"
      ]
     },
     "execution_count": 22,
     "metadata": {},
     "output_type": "execute_result"
    },
    {
     "data": {
      "image/png": "[encoded data removed]",
      "text/plain": [
       "<Figure size 640x480 with 1 Axes>"
      ]
     },
     "metadata": {},
     "output_type": "display_data"
    }
   ],
   "source": [
    "model = get_mnist_model()\n",
    "\n",
    "model.compile(optimizer='rmsprop',\n",
    "              loss='sparse_categorical_crossentropy',\n",
    "              metrics=['accuracy'])\n",
    "\n",
    "model.fit(train_images, train_labels,\n",
    "          epochs=10,\n",
    "          callbacks=[LossHistory()],\n",
    "          validation_data=(val_images, val_labels))"
   ]
  },
  {
   "cell_type": "code",
   "execution_count": 30,
   "id": "2360e537-d4b3-478a-b550-46826e14b412",
   "metadata": {},
   "outputs": [
    {
     "name": "stdout",
     "output_type": "stream",
     "text": [
      "Epoch 1/10\n",
      "1563/1563 [==============================] - 5s 3ms/step - loss: 0.2904 - accuracy: 0.9155 - val_loss: 0.1531 - val_accuracy: 0.9562\n",
      "Epoch 2/10\n",
      "1563/1563 [==============================] - 4s 2ms/step - loss: 0.1630 - accuracy: 0.9524 - val_loss: 0.1151 - val_accuracy: 0.9696\n",
      "Epoch 3/10\n",
      "1563/1563 [==============================] - 4s 2ms/step - loss: 0.1389 - accuracy: 0.9630 - val_loss: 0.1137 - val_accuracy: 0.9705\n",
      "Epoch 4/10\n",
      "1563/1563 [==============================] - 4s 2ms/step - loss: 0.1247 - accuracy: 0.9682 - val_loss: 0.1044 - val_accuracy: 0.9735\n",
      "Epoch 5/10\n",
      "1563/1563 [==============================] - 4s 2ms/step - loss: 0.1155 - accuracy: 0.9706 - val_loss: 0.1138 - val_accuracy: 0.9748\n",
      "Epoch 6/10\n",
      "1563/1563 [==============================] - 4s 2ms/step - loss: 0.1096 - accuracy: 0.9728 - val_loss: 0.1098 - val_accuracy: 0.9750\n",
      "Epoch 7/10\n",
      "1563/1563 [==============================] - 4s 2ms/step - loss: 0.1043 - accuracy: 0.9754 - val_loss: 0.1087 - val_accuracy: 0.9774\n",
      "Epoch 8/10\n",
      "1563/1563 [==============================] - 4s 3ms/step - loss: 0.1036 - accuracy: 0.9762 - val_loss: 0.1121 - val_accuracy: 0.9772\n",
      "Epoch 9/10\n",
      "1563/1563 [==============================] - 4s 2ms/step - loss: 0.0937 - accuracy: 0.9779 - val_loss: 0.1110 - val_accuracy: 0.9783\n",
      "Epoch 10/10\n",
      "1563/1563 [==============================] - 4s 3ms/step - loss: 0.0925 - accuracy: 0.9791 - val_loss: 0.1175 - val_accuracy: 0.9779\n"
     ]
    },
    {
     "data": {
      "text/plain": [
       "<keras.callbacks.History at 0x2d34d3e3970>"
      ]
     },
     "execution_count": 30,
     "metadata": {},
     "output_type": "execute_result"
    }
   ],
   "source": [
    "model = get_mnist_model()\n",
    "model.compile(optimizer='rmsprop',\n",
    "              loss='sparse_categorical_crossentropy',\n",
    "              metrics=['accuracy'])\n",
    "tensorboard = keras.callbacks.TensorBoard(\n",
    "    log_dir='C:\\logs')\n",
    "model.fit(train_images, train_labels, epochs=10,\n",
    "          validation_data=(val_images, val_labels),\n",
    "          callbacks=[tensorboard])"
   ]
  },
  {
   "cell_type": "code",
   "execution_count": 31,
   "id": "2ec71e49-f733-41be-b455-f2badd278710",
   "metadata": {},
   "outputs": [
    {
     "name": "stdout",
     "output_type": "stream",
     "text": [
      "Epoch 1/20\n",
      "1563/1563 [==============================] - 5s 3ms/step - loss: 0.2964 - accuracy: 0.9128 - val_loss: 0.1448 - val_accuracy: 0.9592\n",
      "Epoch 2/20\n",
      "1563/1563 [==============================] - 3s 2ms/step - loss: 0.1674 - accuracy: 0.9521 - val_loss: 0.1217 - val_accuracy: 0.9675\n",
      "Epoch 3/20\n",
      "1563/1563 [==============================] - 4s 2ms/step - loss: 0.1388 - accuracy: 0.9624 - val_loss: 0.1128 - val_accuracy: 0.9716\n",
      "Epoch 4/20\n",
      "1563/1563 [==============================] - 4s 3ms/step - loss: 0.1269 - accuracy: 0.9677 - val_loss: 0.1087 - val_accuracy: 0.9735\n",
      "Epoch 5/20\n",
      "1563/1563 [==============================] - 4s 2ms/step - loss: 0.1153 - accuracy: 0.9711 - val_loss: 0.1035 - val_accuracy: 0.9754\n",
      "Epoch 6/20\n",
      "1563/1563 [==============================] - 4s 2ms/step - loss: 0.1100 - accuracy: 0.9734 - val_loss: 0.1199 - val_accuracy: 0.9739\n",
      "Epoch 7/20\n",
      "1563/1563 [==============================] - 3s 2ms/step - loss: 0.1050 - accuracy: 0.9758 - val_loss: 0.1122 - val_accuracy: 0.9766\n",
      "Epoch 8/20\n",
      "1563/1563 [==============================] - 3s 2ms/step - loss: 0.0991 - accuracy: 0.9765 - val_loss: 0.1129 - val_accuracy: 0.9771\n",
      "Epoch 9/20\n",
      "1563/1563 [==============================] - 4s 2ms/step - loss: 0.0964 - accuracy: 0.9777 - val_loss: 0.1091 - val_accuracy: 0.9797\n",
      "Epoch 10/20\n",
      "1563/1563 [==============================] - 3s 2ms/step - loss: 0.0955 - accuracy: 0.9788 - val_loss: 0.1123 - val_accuracy: 0.9802\n",
      "Epoch 11/20\n",
      "1563/1563 [==============================] - 4s 2ms/step - loss: 0.0962 - accuracy: 0.9790 - val_loss: 0.1275 - val_accuracy: 0.9780\n",
      "Epoch 12/20\n",
      "1563/1563 [==============================] - 4s 2ms/step - loss: 0.0886 - accuracy: 0.9806 - val_loss: 0.1176 - val_accuracy: 0.9790\n",
      "Epoch 13/20\n",
      "1563/1563 [==============================] - 4s 2ms/step - loss: 0.0841 - accuracy: 0.9816 - val_loss: 0.1209 - val_accuracy: 0.9794\n",
      "Epoch 14/20\n",
      "1563/1563 [==============================] - 4s 2ms/step - loss: 0.0836 - accuracy: 0.9826 - val_loss: 0.1306 - val_accuracy: 0.9787\n",
      "Epoch 15/20\n",
      "1563/1563 [==============================] - 4s 2ms/step - loss: 0.0802 - accuracy: 0.9835 - val_loss: 0.1338 - val_accuracy: 0.9783\n",
      "Epoch 16/20\n",
      "1563/1563 [==============================] - 4s 2ms/step - loss: 0.0783 - accuracy: 0.9836 - val_loss: 0.1295 - val_accuracy: 0.9795\n",
      "Epoch 17/20\n",
      "1563/1563 [==============================] - 4s 2ms/step - loss: 0.0782 - accuracy: 0.9832 - val_loss: 0.1268 - val_accuracy: 0.9798\n",
      "Epoch 18/20\n",
      "1563/1563 [==============================] - 4s 2ms/step - loss: 0.0742 - accuracy: 0.9852 - val_loss: 0.1327 - val_accuracy: 0.9811\n",
      "Epoch 19/20\n",
      "1563/1563 [==============================] - 4s 2ms/step - loss: 0.0703 - accuracy: 0.9848 - val_loss: 0.1381 - val_accuracy: 0.9794\n",
      "Epoch 20/20\n",
      "1563/1563 [==============================] - 4s 2ms/step - loss: 0.0729 - accuracy: 0.9850 - val_loss: 0.1377 - val_accuracy: 0.9808\n"
     ]
    },
    {
     "data": {
      "text/plain": [
       "<keras.callbacks.History at 0x2d3537ecc10>"
      ]
     },
     "execution_count": 31,
     "metadata": {},
     "output_type": "execute_result"
    }
   ],
   "source": [
    "model = get_mnist_model()\n",
    "model.compile(optimizer='rmsprop',\n",
    "              loss='sparse_categorical_crossentropy',\n",
    "              metrics=['accuracy'])\n",
    "tensorboard = keras.callbacks.TensorBoard(\n",
    "    log_dir='C:\\logs')\n",
    "model.fit(train_images, train_labels, epochs=20,\n",
    "          validation_data=(val_images, val_labels),\n",
    "          callbacks=[tensorboard])"
   ]
  },
  {
   "cell_type": "code",
   "execution_count": 32,
   "id": "3c97d803-f101-4215-b1ed-e8ebc1b0620a",
   "metadata": {},
   "outputs": [
    {
     "name": "stdout",
     "output_type": "stream",
     "text": [
      "Epoch 1/20\n",
      "1563/1563 [==============================] - 4s 2ms/step - loss: 0.2956 - accuracy: 0.9129 - val_loss: 0.1451 - val_accuracy: 0.9571\n",
      "Epoch 2/20\n",
      "1563/1563 [==============================] - 3s 2ms/step - loss: 0.1688 - accuracy: 0.9536 - val_loss: 0.1161 - val_accuracy: 0.9672\n",
      "Epoch 3/20\n",
      "1563/1563 [==============================] - 4s 2ms/step - loss: 0.1389 - accuracy: 0.9632 - val_loss: 0.1114 - val_accuracy: 0.9704\n",
      "Epoch 4/20\n",
      "1563/1563 [==============================] - 4s 2ms/step - loss: 0.1241 - accuracy: 0.9679 - val_loss: 0.1090 - val_accuracy: 0.9732\n",
      "Epoch 5/20\n",
      "1563/1563 [==============================] - 3s 2ms/step - loss: 0.1202 - accuracy: 0.9701 - val_loss: 0.1167 - val_accuracy: 0.9755\n",
      "Epoch 6/20\n",
      "1563/1563 [==============================] - 4s 2ms/step - loss: 0.1108 - accuracy: 0.9731 - val_loss: 0.1158 - val_accuracy: 0.9753\n",
      "Epoch 7/20\n",
      "1563/1563 [==============================] - 4s 2ms/step - loss: 0.1064 - accuracy: 0.9751 - val_loss: 0.1148 - val_accuracy: 0.9761\n",
      "Epoch 8/20\n",
      "1563/1563 [==============================] - 4s 2ms/step - loss: 0.0982 - accuracy: 0.9765 - val_loss: 0.1124 - val_accuracy: 0.9772\n",
      "Epoch 9/20\n",
      "1563/1563 [==============================] - 3s 2ms/step - loss: 0.0974 - accuracy: 0.9777 - val_loss: 0.1204 - val_accuracy: 0.9774\n",
      "Epoch 10/20\n",
      "1563/1563 [==============================] - 3s 2ms/step - loss: 0.0944 - accuracy: 0.9787 - val_loss: 0.1122 - val_accuracy: 0.9790\n",
      "Epoch 11/20\n",
      "1563/1563 [==============================] - 4s 2ms/step - loss: 0.0930 - accuracy: 0.9799 - val_loss: 0.1155 - val_accuracy: 0.9791\n",
      "Epoch 12/20\n",
      "1563/1563 [==============================] - 3s 2ms/step - loss: 0.0881 - accuracy: 0.9812 - val_loss: 0.1244 - val_accuracy: 0.9786\n",
      "Epoch 13/20\n",
      "1563/1563 [==============================] - 3s 2ms/step - loss: 0.0867 - accuracy: 0.9821 - val_loss: 0.1365 - val_accuracy: 0.9783\n",
      "Epoch 14/20\n",
      "1563/1563 [==============================] - 4s 2ms/step - loss: 0.0856 - accuracy: 0.9822 - val_loss: 0.1336 - val_accuracy: 0.9780\n",
      "Epoch 15/20\n",
      "1563/1563 [==============================] - 4s 2ms/step - loss: 0.0774 - accuracy: 0.9830 - val_loss: 0.1277 - val_accuracy: 0.9803\n",
      "Epoch 16/20\n",
      "1563/1563 [==============================] - 4s 2ms/step - loss: 0.0801 - accuracy: 0.9827 - val_loss: 0.1340 - val_accuracy: 0.9804\n",
      "Epoch 17/20\n",
      "1563/1563 [==============================] - 4s 2ms/step - loss: 0.0799 - accuracy: 0.9840 - val_loss: 0.1309 - val_accuracy: 0.9802\n",
      "Epoch 18/20\n",
      "1563/1563 [==============================] - 3s 2ms/step - loss: 0.0762 - accuracy: 0.9839 - val_loss: 0.1345 - val_accuracy: 0.9807\n",
      "Epoch 19/20\n",
      "1563/1563 [==============================] - 3s 2ms/step - loss: 0.0786 - accuracy: 0.9841 - val_loss: 0.1483 - val_accuracy: 0.9795\n",
      "Epoch 20/20\n",
      "1563/1563 [==============================] - 4s 2ms/step - loss: 0.0728 - accuracy: 0.9847 - val_loss: 0.1471 - val_accuracy: 0.9803\n"
     ]
    },
    {
     "data": {
      "text/plain": [
       "<keras.callbacks.History at 0x2d34ea8c100>"
      ]
     },
     "execution_count": 32,
     "metadata": {},
     "output_type": "execute_result"
    }
   ],
   "source": [
    "model = get_mnist_model()\n",
    "model.compile(optimizer='rmsprop',\n",
    "              loss='sparse_categorical_crossentropy',\n",
    "              metrics=['accuracy'])\n",
    "tensorboard = keras.callbacks.TensorBoard(\n",
    "    log_dir='C:\\logs')\n",
    "model.fit(train_images, train_labels, epochs=20,\n",
    "          validation_data=(val_images, val_labels),\n",
    "          callbacks=[tensorboard])"
   ]
  },
  {
   "cell_type": "code",
   "execution_count": 33,
   "id": "066b740e-c961-42a0-9d13-a7337b714163",
   "metadata": {},
   "outputs": [],
   "source": [
    "def train_step(inputs, targets):\n",
    "    with tf.GradientTape() as tape:\n",
    "        predictions = model(inputs, training=True)\n",
    "        loss = loss_fn(targets, predictions)\n",
    "        gradients = tape.gradients(loss, model.trainable_weights)\n",
    "        optimizer.apply_gradients(zip(model.trainable_weights, gradients))"
   ]
  },
  {
   "cell_type": "code",
   "execution_count": 34,
   "id": "5b727112-377c-4ccc-a831-98e5f39dc8cd",
   "metadata": {},
   "outputs": [
    {
     "name": "stdout",
     "output_type": "stream",
     "text": [
      "result: 1.00\n"
     ]
    }
   ],
   "source": [
    "metric = keras.metrics.SparseCategoricalAccuracy()\n",
    "targets = [0, 1, 2]\n",
    "predictions = [[1, 0, 0], [0, 1, 0], [0, 0, 1]]\n",
    "metric.update_state(targets, predictions)\n",
    "current_result = metric.result()\n",
    "print(f'result: {current_result:.2f}')"
   ]
  },
  {
   "cell_type": "code",
   "execution_count": 35,
   "id": "3b8e0e26-4e71-4a02-ae19-8e917cc9a451",
   "metadata": {},
   "outputs": [
    {
     "name": "stdout",
     "output_type": "stream",
     "text": [
      "Mean of values: 2.00\n"
     ]
    }
   ],
   "source": [
    "values = [0, 1, 2, 3, 4]\n",
    "mean_tracker = keras.metrics.Mean()\n",
    "for value in values:\n",
    "    mean_tracker.update_state(value)\n",
    "print(f'Mean of values: {mean_tracker.result():.2f}')"
   ]
  },
  {
   "cell_type": "code",
   "execution_count": 36,
   "id": "62900e2b-1ae1-4935-b206-fd0b1f49eac5",
   "metadata": {},
   "outputs": [],
   "source": [
    "model = get_mnist_model()\n",
    "\n",
    "loss_fn = keras.losses.SparseCategoricalCrossentropy()\n",
    "optimizer = keras.optimizers.RMSprop()\n",
    "metrics = [keras.metrics.SparseCategoricalAccuracy()]\n",
    "loss_tracking_metric = keras.metrics.Mean()\n",
    "\n",
    "def train_step(inputs, targets):\n",
    "    with tf.GradientTape() as tape:\n",
    "        predictions = model(inputs, training=True)\n",
    "        loss = loss_fn(targets, predictions)\n",
    "    gradients = tape.gradient(loss, model.trainable_weights)\n",
    "    optimizer.apply_gradients(zip(gradients, model.trainable_weights))\n",
    "    logs = {}\n",
    "    for metric in metrics:\n",
    "        metric.update_state(targets, predictions)\n",
    "        logs[metric.name] = metric.result()\n",
    "        \n",
    "    loss_tracking_metric.update_state(loss)\n",
    "    logs['loss'] = loss_tracking_metric.result()\n",
    "    return logs"
   ]
  },
  {
   "cell_type": "code",
   "execution_count": 37,
   "id": "3eb4acda-e043-4e22-b1a4-e46d17820f83",
   "metadata": {},
   "outputs": [],
   "source": [
    "def reset_metrics():\n",
    "    for metric in metrics:\n",
    "        metric.reset_state()\n",
    "    loss_tracking_metric.reset_state()"
   ]
  },
  {
   "cell_type": "code",
   "execution_count": 38,
   "id": "99befd48-6a72-41dd-abb9-b61b35fff40b",
   "metadata": {},
   "outputs": [
    {
     "name": "stdout",
     "output_type": "stream",
     "text": [
      "Results at the end of epoch 0\n",
      "...sparse_categorical_accuracy: 0.9161\n",
      "...loss: 0.2882\n",
      "Results at the end of epoch 1\n",
      "...sparse_categorical_accuracy: 0.9542\n",
      "...loss: 0.1641\n",
      "Results at the end of epoch 2\n",
      "...sparse_categorical_accuracy: 0.9631\n",
      "...loss: 0.1402\n"
     ]
    }
   ],
   "source": [
    "training_dataset = tf.data.Dataset.from_tensor_slices(\n",
    "    (train_images, train_labels))\n",
    "training_dataset = training_dataset.batch(32)\n",
    "epochs=3\n",
    "\n",
    "for epoch in range(epochs):\n",
    "    reset_metrics()\n",
    "    for inputs_batch, targets_batch in training_dataset:\n",
    "        logs = train_step(inputs_batch, targets_batch)\n",
    "    print(f'Results at the end of epoch {epoch}')\n",
    "    for key, value in logs.items():\n",
    "        print(f'...{key}: {value:.4f}')"
   ]
  },
  {
   "cell_type": "code",
   "execution_count": 39,
   "id": "2ac39edc-6714-483a-b0ca-faedf52e1d14",
   "metadata": {},
   "outputs": [],
   "source": [
    "def test_step(inputs, targets):\n",
    "    predictions = model(inputs, training=False)\n",
    "    loss = loss_fn(targets, predictions)\n",
    "    \n",
    "    logs = {}\n",
    "    \n",
    "    for metric in metrics:\n",
    "        metric.update_state(targets, predictions)\n",
    "        logs['val_' + metric.name] = metric.result()\n",
    "        loss_tracking_metric.update_state(loss)\n",
    "        logs['val_loss'] = loss_tracking_metric.result()"
   ]
  },
  {
   "cell_type": "code",
   "execution_count": null,
   "id": "de0be8d6-2699-481d-aeb3-080b628f8d65",
   "metadata": {},
   "outputs": [],
   "source": [
    "val_dataset = tf.data.Dataset.from_tensor_slices((val_images, val_labels))\n",
    "val_dataset = val_dataset.batch(32)\n",
    "reset_metrics()\n",
    "for inputs_batch, targets_batch in val_dataset:\n",
    "    logs = test_step(inputs_batch, targets_batch)\n",
    "print('Evaluation results:')\n",
    "for key, value in logs.items():\n",
    "    print(f'...{key}:{value:.4f}')"
   ]
  },
  {
   "cell_type": "code",
   "execution_count": 42,
   "id": "388db929-f0f0-4aae-a33c-63bb0c6a80f4",
   "metadata": {},
   "outputs": [],
   "source": [
    "@tf.function\n",
    "def test_step(inputs, targets):\n",
    "    predictions = model(inputs, training=False)\n",
    "    loss = loss_fn(targets, predictions)\n",
    "    \n",
    "    logs = {}\n",
    "    \n",
    "    for metric in metrics:\n",
    "        metric.update_state(targets, predictions)\n",
    "        logs['val_' + metric.name] = metric.result()\n",
    "        \n",
    "    loss_tracking_metric.update_state(loss)\n",
    "    logs['val_loss'] = loss_tracking_metric.result()\n",
    "    return logs"
   ]
  },
  {
   "cell_type": "code",
   "execution_count": 43,
   "id": "dad0b6c7-e2a6-4ca2-a6bd-ffac29d210fa",
   "metadata": {},
   "outputs": [
    {
     "name": "stdout",
     "output_type": "stream",
     "text": [
      "Evaluation results:\n",
      "...val_sparse_categorical_accuracy:0.9665\n",
      "...val_loss:0.1338\n"
     ]
    }
   ],
   "source": [
    "val_dataset = tf.data.Dataset.from_tensor_slices((val_images, val_labels))\n",
    "val_dataset = val_dataset.batch(32)\n",
    "reset_metrics()\n",
    "\n",
    "for inputs_batch, targets_batch in val_dataset:\n",
    "    logs = test_step(inputs_batch, targets_batch)\n",
    "print('Evaluation results:')\n",
    "for key, value in logs.items():\n",
    "    print(f'...{key}:{value:.4f}')"
   ]
  },
  {
   "cell_type": "code",
   "execution_count": 44,
   "id": "83db9f65-42ac-4f1a-969a-072392ba150d",
   "metadata": {},
   "outputs": [],
   "source": [
    "loss_fn = keras.losses.SparseCategoricalCrossentropy()\n",
    "loss_tracker = keras.metrics.Mean(name='loss')"
   ]
  },
  {
   "cell_type": "code",
   "execution_count": 45,
   "id": "14fdefb1-d61e-42fc-afbe-edbe3f6a3a1e",
   "metadata": {},
   "outputs": [],
   "source": [
    "class CustomModel(keras.Model):\n",
    "    def train_step(self, data):\n",
    "        inputs, targets = data\n",
    "        with tf.GradientTape() as tape:\n",
    "            predictions = self(inputs, training=True)\n",
    "            loss = loss_fn(targets, predictions)\n",
    "        gradients = tape.gradient(loss, model.trainable_weights)\n",
    "        optimizer.apply_gradients(zip(gradients, model.trainable_weights))\n",
    "            \n",
    "        loss_tracker.update_state(loss)\n",
    "        return {'loss': loss_tracker.result()}\n",
    "    @property\n",
    "    def metrics(self):\n",
    "        return [loss_tracker]"
   ]
  },
  {
   "cell_type": "code",
   "execution_count": 48,
   "id": "0411e06f-3d6f-471e-bbe3-e51497e9469f",
   "metadata": {},
   "outputs": [
    {
     "name": "stdout",
     "output_type": "stream",
     "text": [
      "Epoch 1/3\n",
      "1563/1563 [==============================] - 4s 3ms/step - loss: 0.2942\n",
      "Epoch 2/3\n",
      "1563/1563 [==============================] - 3s 2ms/step - loss: 0.1645\n",
      "Epoch 3/3\n",
      "1563/1563 [==============================] - 3s 2ms/step - loss: 0.1360\n"
     ]
    },
    {
     "data": {
      "text/plain": [
       "<keras.callbacks.History at 0x2d35081af10>"
      ]
     },
     "execution_count": 48,
     "metadata": {},
     "output_type": "execute_result"
    }
   ],
   "source": [
    "inputs = keras.Input(shape=(28*28,))\n",
    "features = layers.Dense(512, activation='relu')(inputs)\n",
    "features = layers.Dropout(0.5)(features)\n",
    "outputs = layers.Dense(10, activation='softmax')(features)\n",
    "model = CustomModel(inputs, outputs)\n",
    "\n",
    "model.compile(optimizer=keras.optimizers.RMSprop())\n",
    "model.fit(train_images, train_labels, epochs=3)"
   ]
  },
  {
   "cell_type": "code",
   "execution_count": 49,
   "id": "02b66717-9ccd-4cd6-98d6-4c394d7db7e2",
   "metadata": {},
   "outputs": [],
   "source": [
    "class CustomModel(keras.Model):\n",
    "    def train_step(self, data):\n",
    "        inputs, targets = data\n",
    "        with tf.GradientTape() as tape:\n",
    "            predictions = self(inputs, training=True)\n",
    "            loss = self.compiled_loss(targets, predictions)\n",
    "        gradients = tape.gradient(loss, model.trainable_weights)\n",
    "        optimizer.apply_gradients(zip(gradients, model.trainable_weights))\n",
    "        self.compiled_metrics.update_state(targets, predictions)\n",
    "        return {m.name:m.result() for m in self.metrics}"
   ]
  },
  {
   "cell_type": "code",
   "execution_count": 50,
   "id": "a2c7814e-6ef6-420f-9958-3fcd535d5ae1",
   "metadata": {},
   "outputs": [],
   "source": [
    "inputs = keras.Input(shape=(28*28,))\n",
    "features = layers.Dense(512, activation='relu')(inputs)\n",
    "features = layers.Dropout(0.5)(features)\n",
    "outputs = layers.Dense(10, activation='softmax')(features)\n",
    "model = CustomModel(inputs, outputs)"
   ]
  },
  {
   "cell_type": "code",
   "execution_count": 51,
   "id": "8ae411e7-1c94-418a-ba4a-d6dcb898b6f0",
   "metadata": {},
   "outputs": [],
   "source": [
    "model.compile(optimizer=keras.optimizers.RMSprop(),\n",
    "              loss=keras.losses.SparseCategoricalCrossentropy(),\n",
    "              metrics=[keras.metrics.SparseCategoricalAccuracy()])"
   ]
  },
  {
   "cell_type": "code",
   "execution_count": 52,
   "id": "dcbcafab-40cf-47a7-856a-d8e93d1949d6",
   "metadata": {},
   "outputs": [
    {
     "name": "stdout",
     "output_type": "stream",
     "text": [
      "Epoch 1/3\n",
      "1563/1563 [==============================] - 4s 2ms/step - loss: 0.2943 - sparse_categorical_accuracy: 0.9139\n",
      "Epoch 2/3\n",
      "1563/1563 [==============================] - 4s 2ms/step - loss: 0.1658 - sparse_categorical_accuracy: 0.9532\n",
      "Epoch 3/3\n",
      "1563/1563 [==============================] - 3s 2ms/step - loss: 0.1377 - sparse_categorical_accuracy: 0.9630\n"
     ]
    },
    {
     "data": {
      "text/plain": [
       "<keras.callbacks.History at 0x2d350818dc0>"
      ]
     },
     "execution_count": 52,
     "metadata": {},
     "output_type": "execute_result"
    }
   ],
   "source": [
    "model.fit(train_images, train_labels, \n",
    "          epochs=3)"
   ]
  },
  {
   "cell_type": "code",
   "execution_count": null,
   "id": "f36c95ae-d5b4-4235-b0af-be0d32e279e8",
   "metadata": {},
   "outputs": [],
   "source": []
  }
 ],
 "metadata": {
  "kernelspec": {
   "display_name": "Python 3 (ipykernel)",
   "language": "python",
   "name": "python3"
  },
  "language_info": {
   "codemirror_mode": {
    "name": "ipython",
    "version": 3
   },
   "file_extension": ".py",
   "mimetype": "text/x-python",
   "name": "python",
   "nbconvert_exporter": "python",
   "pygments_lexer": "ipython3",
   "version": "3.9.13"
  }
 },
 "nbformat": 4,
 "nbformat_minor": 5
}
