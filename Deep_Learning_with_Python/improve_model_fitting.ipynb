{
 "cells": [
  {
   "cell_type": "code",
   "execution_count": 4,
   "id": "40729160-df48-4a1b-ad8f-4c8731adeaf0",
   "metadata": {},
   "outputs": [],
   "source": [
    "import tensorflow as tf\n",
    "from tensorflow import keras\n",
    "from tensorflow.keras.datasets import mnist\n",
    "from tensorflow.keras import layers"
   ]
  },
  {
   "cell_type": "code",
   "execution_count": 2,
   "id": "bbdd646a-c7de-4301-94d1-d18bbe705731",
   "metadata": {},
   "outputs": [],
   "source": [
    "(train_images, train_labels), _ = mnist.load_data()"
   ]
  },
  {
   "cell_type": "code",
   "execution_count": 3,
   "id": "e6c8fa65-1fba-4275-b5c1-6fa5192040e4",
   "metadata": {},
   "outputs": [],
   "source": [
    "train_images = train_images.reshape((60000, 28*28))\n",
    "train_images = train_images.astype('float32')/255"
   ]
  },
  {
   "cell_type": "code",
   "execution_count": 5,
   "id": "a8dea65c-1c3b-4af3-bfb9-340bf8750c51",
   "metadata": {},
   "outputs": [],
   "source": [
    "model = keras.Sequential([\n",
    "    layers.Dense(512, activation='relu'),\n",
    "    layers.Dense(10, activation='softmax')\n",
    "])"
   ]
  },
  {
   "cell_type": "code",
   "execution_count": 6,
   "id": "6828c696-061a-4701-b48f-b384ab423afc",
   "metadata": {},
   "outputs": [],
   "source": [
    "model.compile(optimizer=keras.optimizers.RMSprop(1.),\n",
    "              loss='sparse_categorical_crossentropy',\n",
    "              metrics=['accuracy'])"
   ]
  },
  {
   "cell_type": "code",
   "execution_count": 7,
   "id": "263ad540-d6c6-42b7-bda7-96336e4cf0da",
   "metadata": {},
   "outputs": [
    {
     "name": "stdout",
     "output_type": "stream",
     "text": [
      "Epoch 1/10\n",
      "375/375 [==============================] - 2s 3ms/step - loss: 923.3006 - accuracy: 0.3906 - val_loss: 2.4012 - val_accuracy: 0.2127\n",
      "Epoch 2/10\n",
      "375/375 [==============================] - 1s 2ms/step - loss: 6.7445 - accuracy: 0.2609 - val_loss: 2.1172 - val_accuracy: 0.2603\n",
      "Epoch 3/10\n",
      "375/375 [==============================] - 1s 2ms/step - loss: 2.8734 - accuracy: 0.2483 - val_loss: 2.2023 - val_accuracy: 0.2031\n",
      "Epoch 4/10\n",
      "375/375 [==============================] - 1s 2ms/step - loss: 2.4810 - accuracy: 0.2254 - val_loss: 2.1579 - val_accuracy: 0.2402\n",
      "Epoch 5/10\n",
      "375/375 [==============================] - 1s 2ms/step - loss: 2.6103 - accuracy: 0.2386 - val_loss: 2.1011 - val_accuracy: 0.2517\n",
      "Epoch 6/10\n",
      "375/375 [==============================] - 1s 2ms/step - loss: 2.6199 - accuracy: 0.2361 - val_loss: 2.0755 - val_accuracy: 0.2483\n",
      "Epoch 7/10\n",
      "375/375 [==============================] - 1s 2ms/step - loss: 2.2963 - accuracy: 0.2308 - val_loss: 2.4218 - val_accuracy: 0.2463\n",
      "Epoch 8/10\n",
      "375/375 [==============================] - 1s 2ms/step - loss: 2.3349 - accuracy: 0.2498 - val_loss: 3.1060 - val_accuracy: 0.2470\n",
      "Epoch 9/10\n",
      "375/375 [==============================] - 1s 2ms/step - loss: 2.4547 - accuracy: 0.2396 - val_loss: 2.4898 - val_accuracy: 0.2337\n",
      "Epoch 10/10\n",
      "375/375 [==============================] - 1s 2ms/step - loss: 2.5038 - accuracy: 0.2409 - val_loss: 2.2796 - val_accuracy: 0.2439\n"
     ]
    },
    {
     "data": {
      "text/plain": [
       "<keras.callbacks.History at 0x1e134c37940>"
      ]
     },
     "execution_count": 7,
     "metadata": {},
     "output_type": "execute_result"
    }
   ],
   "source": [
    "model.fit(train_images, train_labels,\n",
    "          epochs=10,\n",
    "          batch_size=128,\n",
    "          validation_split=0.2)"
   ]
  },
  {
   "cell_type": "code",
   "execution_count": 8,
   "id": "ff9f75a5-2cbe-4577-b767-7c7d5de1f46d",
   "metadata": {},
   "outputs": [
    {
     "name": "stdout",
     "output_type": "stream",
     "text": [
      "Epoch 1/10\n",
      "375/375 [==============================] - 1s 3ms/step - loss: 0.3610 - accuracy: 0.9102 - val_loss: 0.1523 - val_accuracy: 0.9557\n",
      "Epoch 2/10\n",
      "375/375 [==============================] - 1s 2ms/step - loss: 0.1402 - accuracy: 0.9638 - val_loss: 0.1690 - val_accuracy: 0.9628\n",
      "Epoch 3/10\n",
      "375/375 [==============================] - 1s 2ms/step - loss: 0.1106 - accuracy: 0.9736 - val_loss: 0.1614 - val_accuracy: 0.9672\n",
      "Epoch 4/10\n",
      "375/375 [==============================] - 1s 2ms/step - loss: 0.0978 - accuracy: 0.9778 - val_loss: 0.2070 - val_accuracy: 0.9645\n",
      "Epoch 5/10\n",
      "375/375 [==============================] - 1s 2ms/step - loss: 0.0864 - accuracy: 0.9810 - val_loss: 0.2174 - val_accuracy: 0.9683\n",
      "Epoch 6/10\n",
      "375/375 [==============================] - 1s 2ms/step - loss: 0.0816 - accuracy: 0.9842 - val_loss: 0.2254 - val_accuracy: 0.9711\n",
      "Epoch 7/10\n",
      "375/375 [==============================] - 1s 2ms/step - loss: 0.0677 - accuracy: 0.9863 - val_loss: 0.2296 - val_accuracy: 0.9732\n",
      "Epoch 8/10\n",
      "375/375 [==============================] - 1s 2ms/step - loss: 0.0671 - accuracy: 0.9877 - val_loss: 0.2711 - val_accuracy: 0.9732\n",
      "Epoch 9/10\n",
      "375/375 [==============================] - 1s 2ms/step - loss: 0.0567 - accuracy: 0.9892 - val_loss: 0.2669 - val_accuracy: 0.9729\n",
      "Epoch 10/10\n",
      "375/375 [==============================] - 1s 2ms/step - loss: 0.0555 - accuracy: 0.9904 - val_loss: 0.2650 - val_accuracy: 0.9752\n"
     ]
    },
    {
     "data": {
      "text/plain": [
       "<keras.callbacks.History at 0x1e137e28d90>"
      ]
     },
     "execution_count": 8,
     "metadata": {},
     "output_type": "execute_result"
    }
   ],
   "source": [
    "model = keras.Sequential([\n",
    "    layers.Dense(512, activation='relu'),\n",
    "    layers.Dense(10, activation='softmax')\n",
    "])\n",
    "\n",
    "model.compile(optimizer=keras.optimizers.RMSprop(1e-2),\n",
    "              loss='sparse_categorical_crossentropy',\n",
    "              metrics=['accuracy'])\n",
    "\n",
    "model.fit(train_images, train_labels,\n",
    "          epochs=10,\n",
    "          batch_size=128,\n",
    "          validation_split=0.2)"
   ]
  },
  {
   "cell_type": "code",
   "execution_count": 9,
   "id": "f2e2f1df-e8f9-4065-9829-42739146d21a",
   "metadata": {},
   "outputs": [
    {
     "name": "stdout",
     "output_type": "stream",
     "text": [
      "Epoch 1/10\n",
      "94/94 [==============================] - 1s 7ms/step - loss: 0.7336 - accuracy: 0.8512 - val_loss: 0.1548 - val_accuracy: 0.9517\n",
      "Epoch 2/10\n",
      "94/94 [==============================] - 0s 3ms/step - loss: 0.1659 - accuracy: 0.9501 - val_loss: 0.1091 - val_accuracy: 0.9658\n",
      "Epoch 3/10\n",
      "94/94 [==============================] - 0s 3ms/step - loss: 0.1015 - accuracy: 0.9691 - val_loss: 0.1148 - val_accuracy: 0.9639\n",
      "Epoch 4/10\n",
      "94/94 [==============================] - 0s 3ms/step - loss: 0.0733 - accuracy: 0.9769 - val_loss: 0.1230 - val_accuracy: 0.9653\n",
      "Epoch 5/10\n",
      "94/94 [==============================] - 0s 4ms/step - loss: 0.0632 - accuracy: 0.9805 - val_loss: 0.1110 - val_accuracy: 0.9730\n",
      "Epoch 6/10\n",
      "94/94 [==============================] - 0s 3ms/step - loss: 0.0457 - accuracy: 0.9855 - val_loss: 0.1295 - val_accuracy: 0.9694\n",
      "Epoch 7/10\n",
      "94/94 [==============================] - 0s 3ms/step - loss: 0.0399 - accuracy: 0.9882 - val_loss: 0.1318 - val_accuracy: 0.9728\n",
      "Epoch 8/10\n",
      "94/94 [==============================] - 0s 3ms/step - loss: 0.0306 - accuracy: 0.9907 - val_loss: 0.1420 - val_accuracy: 0.9733\n",
      "Epoch 9/10\n",
      "94/94 [==============================] - 0s 3ms/step - loss: 0.0272 - accuracy: 0.9915 - val_loss: 0.1278 - val_accuracy: 0.9772\n",
      "Epoch 10/10\n",
      "94/94 [==============================] - 0s 4ms/step - loss: 0.0270 - accuracy: 0.9923 - val_loss: 0.1660 - val_accuracy: 0.9733\n"
     ]
    },
    {
     "data": {
      "text/plain": [
       "<keras.callbacks.History at 0x1e17476de20>"
      ]
     },
     "execution_count": 9,
     "metadata": {},
     "output_type": "execute_result"
    }
   ],
   "source": [
    "model = keras.Sequential([\n",
    "    layers.Dense(512, activation='relu'),\n",
    "    layers.Dense(10, activation='softmax')\n",
    "])\n",
    "\n",
    "model.compile(optimizer=keras.optimizers.RMSprop(1e-2),\n",
    "              loss='sparse_categorical_crossentropy',\n",
    "              metrics=['accuracy'])\n",
    "\n",
    "model.fit(train_images, train_labels,\n",
    "          epochs=10,\n",
    "          batch_size=512,\n",
    "          validation_split=0.2)"
   ]
  },
  {
   "cell_type": "code",
   "execution_count": 10,
   "id": "cd06b362-32f0-4fb5-ae06-ee857a3f1c16",
   "metadata": {},
   "outputs": [
    {
     "name": "stdout",
     "output_type": "stream",
     "text": [
      "Epoch 1/20\n",
      "375/375 [==============================] - 1s 3ms/step - loss: 0.6612 - accuracy: 0.8391 - val_loss: 0.3568 - val_accuracy: 0.9069\n",
      "Epoch 2/20\n",
      "375/375 [==============================] - 1s 2ms/step - loss: 0.3513 - accuracy: 0.9039 - val_loss: 0.3065 - val_accuracy: 0.9169\n",
      "Epoch 3/20\n",
      "375/375 [==============================] - 1s 2ms/step - loss: 0.3154 - accuracy: 0.9121 - val_loss: 0.2891 - val_accuracy: 0.9200\n",
      "Epoch 4/20\n",
      "375/375 [==============================] - 1s 2ms/step - loss: 0.2994 - accuracy: 0.9165 - val_loss: 0.2842 - val_accuracy: 0.9203\n",
      "Epoch 5/20\n",
      "375/375 [==============================] - 1s 2ms/step - loss: 0.2901 - accuracy: 0.9193 - val_loss: 0.2765 - val_accuracy: 0.9244\n",
      "Epoch 6/20\n",
      "375/375 [==============================] - 1s 2ms/step - loss: 0.2831 - accuracy: 0.9207 - val_loss: 0.2723 - val_accuracy: 0.9250\n",
      "Epoch 7/20\n",
      "375/375 [==============================] - 1s 2ms/step - loss: 0.2782 - accuracy: 0.9228 - val_loss: 0.2697 - val_accuracy: 0.9277\n",
      "Epoch 8/20\n",
      "375/375 [==============================] - 1s 2ms/step - loss: 0.2745 - accuracy: 0.9237 - val_loss: 0.2678 - val_accuracy: 0.9264\n",
      "Epoch 9/20\n",
      "375/375 [==============================] - 1s 2ms/step - loss: 0.2717 - accuracy: 0.9245 - val_loss: 0.2655 - val_accuracy: 0.9277\n",
      "Epoch 10/20\n",
      "375/375 [==============================] - 1s 2ms/step - loss: 0.2684 - accuracy: 0.9257 - val_loss: 0.2654 - val_accuracy: 0.9273\n",
      "Epoch 11/20\n",
      "375/375 [==============================] - 1s 2ms/step - loss: 0.2666 - accuracy: 0.9263 - val_loss: 0.2639 - val_accuracy: 0.9277\n",
      "Epoch 12/20\n",
      "375/375 [==============================] - 1s 2ms/step - loss: 0.2649 - accuracy: 0.9263 - val_loss: 0.2620 - val_accuracy: 0.9293\n",
      "Epoch 13/20\n",
      "375/375 [==============================] - 1s 2ms/step - loss: 0.2634 - accuracy: 0.9275 - val_loss: 0.2623 - val_accuracy: 0.9302\n",
      "Epoch 14/20\n",
      "375/375 [==============================] - 1s 2ms/step - loss: 0.2619 - accuracy: 0.9286 - val_loss: 0.2615 - val_accuracy: 0.9301\n",
      "Epoch 15/20\n",
      "375/375 [==============================] - 1s 2ms/step - loss: 0.2605 - accuracy: 0.9284 - val_loss: 0.2619 - val_accuracy: 0.9295\n",
      "Epoch 16/20\n",
      "375/375 [==============================] - 1s 2ms/step - loss: 0.2593 - accuracy: 0.9283 - val_loss: 0.2613 - val_accuracy: 0.9320\n",
      "Epoch 17/20\n",
      "375/375 [==============================] - 1s 2ms/step - loss: 0.2586 - accuracy: 0.9293 - val_loss: 0.2614 - val_accuracy: 0.9303\n",
      "Epoch 18/20\n",
      "375/375 [==============================] - 1s 2ms/step - loss: 0.2573 - accuracy: 0.9299 - val_loss: 0.2607 - val_accuracy: 0.9307\n",
      "Epoch 19/20\n",
      "375/375 [==============================] - 1s 2ms/step - loss: 0.2566 - accuracy: 0.9299 - val_loss: 0.2608 - val_accuracy: 0.9306\n",
      "Epoch 20/20\n",
      "375/375 [==============================] - 1s 2ms/step - loss: 0.2557 - accuracy: 0.9306 - val_loss: 0.2605 - val_accuracy: 0.9308\n"
     ]
    }
   ],
   "source": [
    "model = keras.Sequential([\n",
    "    layers.Dense(10, activation='softmax')])\n",
    "model.compile(optimizer='rmsprop',\n",
    "              loss='sparse_categorical_crossentropy',\n",
    "              metrics=['accuracy'])\n",
    "\n",
    "history_small_model = model.fit(\n",
    "    train_images, train_labels,\n",
    "    epochs=20,\n",
    "    batch_size=128,\n",
    "    validation_split=0.2)"
   ]
  },
  {
   "cell_type": "code",
   "execution_count": 11,
   "id": "8b0ed598-b813-4755-91ec-0180a2c4d300",
   "metadata": {},
   "outputs": [
    {
     "data": {
      "text/plain": [
       "<matplotlib.legend.Legend at 0x1e6cc64dfd0>"
      ]
     },
     "execution_count": 11,
     "metadata": {},
     "output_type": "execute_result"
    },
    {
     "data": {
      "image/png": "[encoded data removed]",
      "text/plain": [
       "<Figure size 640x480 with 1 Axes>"
      ]
     },
     "metadata": {},
     "output_type": "display_data"
    }
   ],
   "source": [
    "import matplotlib.pyplot as plt\n",
    "\n",
    "val_loss = history_small_model.history['val_loss']\n",
    "epochs = range(1,21)\n",
    "plt.plot(epochs, val_loss, 'b--', label='Validation loss')\n",
    "plt.title('Effect of insufficient model capacity on validation loss')\n",
    "plt.xlabel('Epochs')\n",
    "plt.ylabel('Loss')\n",
    "plt.legend()"
   ]
  },
  {
   "cell_type": "code",
   "execution_count": 12,
   "id": "7fcce5e9-0048-4b29-bad2-94331ba5db6a",
   "metadata": {},
   "outputs": [
    {
     "name": "stdout",
     "output_type": "stream",
     "text": [
      "Epoch 1/20\n",
      "375/375 [==============================] - 2s 4ms/step - loss: 0.3610 - accuracy: 0.8986 - val_loss: 0.1834 - val_accuracy: 0.9473\n",
      "Epoch 2/20\n",
      "375/375 [==============================] - 1s 3ms/step - loss: 0.1596 - accuracy: 0.9521 - val_loss: 0.1325 - val_accuracy: 0.9624\n",
      "Epoch 3/20\n",
      "375/375 [==============================] - 1s 3ms/step - loss: 0.1096 - accuracy: 0.9666 - val_loss: 0.1093 - val_accuracy: 0.9679\n",
      "Epoch 4/20\n",
      "375/375 [==============================] - 1s 3ms/step - loss: 0.0828 - accuracy: 0.9754 - val_loss: 0.1089 - val_accuracy: 0.9682\n",
      "Epoch 5/20\n",
      "375/375 [==============================] - 1s 2ms/step - loss: 0.0664 - accuracy: 0.9796 - val_loss: 0.1047 - val_accuracy: 0.9697\n",
      "Epoch 6/20\n",
      "375/375 [==============================] - 1s 2ms/step - loss: 0.0539 - accuracy: 0.9831 - val_loss: 0.0952 - val_accuracy: 0.9732\n",
      "Epoch 7/20\n",
      "375/375 [==============================] - 1s 3ms/step - loss: 0.0442 - accuracy: 0.9868 - val_loss: 0.0913 - val_accuracy: 0.9747\n",
      "Epoch 8/20\n",
      "375/375 [==============================] - 1s 3ms/step - loss: 0.0367 - accuracy: 0.9888 - val_loss: 0.0975 - val_accuracy: 0.9739\n",
      "Epoch 9/20\n",
      "375/375 [==============================] - 1s 2ms/step - loss: 0.0307 - accuracy: 0.9909 - val_loss: 0.0886 - val_accuracy: 0.9768\n",
      "Epoch 10/20\n",
      "375/375 [==============================] - 1s 2ms/step - loss: 0.0259 - accuracy: 0.9918 - val_loss: 0.1009 - val_accuracy: 0.9741\n",
      "Epoch 11/20\n",
      "375/375 [==============================] - 1s 2ms/step - loss: 0.0220 - accuracy: 0.9935 - val_loss: 0.0941 - val_accuracy: 0.9750\n",
      "Epoch 12/20\n",
      "375/375 [==============================] - 1s 3ms/step - loss: 0.0188 - accuracy: 0.9944 - val_loss: 0.1051 - val_accuracy: 0.9762\n",
      "Epoch 13/20\n",
      "375/375 [==============================] - 1s 2ms/step - loss: 0.0153 - accuracy: 0.9956 - val_loss: 0.1105 - val_accuracy: 0.9747\n",
      "Epoch 14/20\n",
      "375/375 [==============================] - 1s 3ms/step - loss: 0.0135 - accuracy: 0.9957 - val_loss: 0.1067 - val_accuracy: 0.9772\n",
      "Epoch 15/20\n",
      "375/375 [==============================] - 1s 3ms/step - loss: 0.0119 - accuracy: 0.9962 - val_loss: 0.1380 - val_accuracy: 0.9733\n",
      "Epoch 16/20\n",
      "375/375 [==============================] - 1s 3ms/step - loss: 0.0095 - accuracy: 0.9971 - val_loss: 0.1193 - val_accuracy: 0.9764\n",
      "Epoch 17/20\n",
      "375/375 [==============================] - 1s 2ms/step - loss: 0.0084 - accuracy: 0.9974 - val_loss: 0.1237 - val_accuracy: 0.9760\n",
      "Epoch 18/20\n",
      "375/375 [==============================] - 1s 2ms/step - loss: 0.0076 - accuracy: 0.9977 - val_loss: 0.1193 - val_accuracy: 0.9780\n",
      "Epoch 19/20\n",
      "375/375 [==============================] - 1s 3ms/step - loss: 0.0062 - accuracy: 0.9980 - val_loss: 0.1269 - val_accuracy: 0.9773\n",
      "Epoch 20/20\n",
      "375/375 [==============================] - 1s 3ms/step - loss: 0.0055 - accuracy: 0.9983 - val_loss: 0.1355 - val_accuracy: 0.9774\n"
     ]
    }
   ],
   "source": [
    "model = keras.Sequential([\n",
    "    layers.Dense(96, activation='relu'),\n",
    "    layers.Dense(96, activation='relu'),\n",
    "    layers.Dense(10, activation='softmax')])\n",
    "model.compile(optimizer='rmsprop',\n",
    "              loss='sparse_categorical_crossentropy',\n",
    "              metrics=['accuracy'])\n",
    "\n",
    "history_large_model = model.fit(\n",
    "    train_images, train_labels,\n",
    "    epochs=20,\n",
    "    batch_size=128,\n",
    "    validation_split=0.2)"
   ]
  },
  {
   "cell_type": "code",
   "execution_count": 13,
   "id": "bab9530c-9d41-4414-8c38-8787c7cece73",
   "metadata": {},
   "outputs": [
    {
     "data": {
      "text/plain": [
       "<matplotlib.legend.Legend at 0x1e6cce66fa0>"
      ]
     },
     "execution_count": 13,
     "metadata": {},
     "output_type": "execute_result"
    },
    {
     "data": {
      "image/png": "[encoded data removed]",
      "text/plain": [
       "<Figure size 640x480 with 1 Axes>"
      ]
     },
     "metadata": {},
     "output_type": "display_data"
    }
   ],
   "source": [
    "import matplotlib.pyplot as plt\n",
    "\n",
    "val_loss = history_large_model.history['val_loss']\n",
    "epochs = range(1,21)\n",
    "plt.plot(epochs, val_loss, 'b--', label='Validation loss')\n",
    "plt.title('Effect of large model capacity on validation loss')\n",
    "plt.xlabel('Epochs')\n",
    "plt.ylabel('Loss')\n",
    "plt.legend()"
   ]
  },
  {
   "cell_type": "code",
   "execution_count": null,
   "id": "a38ca690-6077-4ad4-8c99-9f4349078a53",
   "metadata": {},
   "outputs": [],
   "source": []
  }
 ],
 "metadata": {
  "kernelspec": {
   "display_name": "Python 3 (ipykernel)",
   "language": "python",
   "name": "python3"
  },
  "language_info": {
   "codemirror_mode": {
    "name": "ipython",
    "version": 3
   },
   "file_extension": ".py",
   "mimetype": "text/x-python",
   "name": "python",
   "nbconvert_exporter": "python",
   "pygments_lexer": "ipython3",
   "version": "3.9.13"
  }
 },
 "nbformat": 4,
 "nbformat_minor": 5
}
