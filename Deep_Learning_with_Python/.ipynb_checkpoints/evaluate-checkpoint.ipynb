{
 "cells": [
  {
   "cell_type": "code",
   "execution_count": 1,
   "id": "2f34dec3-5c75-4446-8fc1-daff360dce9b",
   "metadata": {},
   "outputs": [],
   "source": [
    "from tensorflow.keras.datasets import mnist"
   ]
  },
  {
   "cell_type": "code",
   "execution_count": 6,
   "id": "7ae59554-3487-4ced-a996-a3fa8cccb810",
   "metadata": {},
   "outputs": [],
   "source": [
    "import numpy as np"
   ]
  },
  {
   "cell_type": "code",
   "execution_count": 4,
   "id": "c498b61d-fe76-4d9d-bbb2-af26a435b3c1",
   "metadata": {},
   "outputs": [],
   "source": [
    "(train_images, train_labels), _ = mnist.load_data()"
   ]
  },
  {
   "cell_type": "code",
   "execution_count": 5,
   "id": "40750865-00a8-4a51-b3ce-edcbe304b64a",
   "metadata": {},
   "outputs": [],
   "source": [
    "train_images = train_images.reshape((60000, 28*28))\n",
    "train_images = train_images.astype('float32') / 255"
   ]
  },
  {
   "cell_type": "code",
   "execution_count": 7,
   "id": "f2637e64-416d-4ce6-b49c-30be6ca2853e",
   "metadata": {},
   "outputs": [],
   "source": [
    "train_images_with_noise_channels = np.concatenate(\n",
    "    [train_images, np.random.random((len(train_images), 784))], axis=1)"
   ]
  },
  {
   "cell_type": "code",
   "execution_count": 8,
   "id": "f13c0271-a955-4539-af38-860c2e3432e1",
   "metadata": {},
   "outputs": [],
   "source": [
    "train_images_with_zeros_channels = np.concatenate(\n",
    "    [train_images, np.zeros((len(train_images), 784))], axis=1)"
   ]
  },
  {
   "cell_type": "code",
   "execution_count": 9,
   "id": "1cad43e0-3515-48c2-a8da-e46eb8abfa64",
   "metadata": {},
   "outputs": [],
   "source": [
    "from tensorflow import keras\n",
    "from tensorflow.keras import layers"
   ]
  },
  {
   "cell_type": "code",
   "execution_count": 10,
   "id": "23c50232-d406-4a89-8522-f4617114c23b",
   "metadata": {},
   "outputs": [],
   "source": [
    " def get_model():\n",
    "        model = keras.Sequential([\n",
    "            layers.Dense(512, activation='relu'),\n",
    "            layers.Dense(10, activation='softmax')\n",
    "        ])\n",
    "        \n",
    "        model.compile(optimizer='rmsprop',\n",
    "                      loss='sparse_categorical_crossentropy',\n",
    "                      metrics=['accuracy'])\n",
    "        \n",
    "        return model"
   ]
  },
  {
   "cell_type": "code",
   "execution_count": 11,
   "id": "fd5e3053-afc6-4ac5-b1c2-e6fb533f0c8e",
   "metadata": {},
   "outputs": [
    {
     "name": "stdout",
     "output_type": "stream",
     "text": [
      "Epoch 1/10\n",
      "375/375 [==============================] - 2s 2ms/step - loss: 0.6180 - accuracy: 0.8109 - val_loss: 0.5338 - val_accuracy: 0.8513\n",
      "Epoch 2/10\n",
      "375/375 [==============================] - 1s 2ms/step - loss: 0.2486 - accuracy: 0.9220 - val_loss: 0.1787 - val_accuracy: 0.9472\n",
      "Epoch 3/10\n",
      "375/375 [==============================] - 1s 2ms/step - loss: 0.1617 - accuracy: 0.9495 - val_loss: 0.3250 - val_accuracy: 0.9051\n",
      "Epoch 4/10\n",
      "375/375 [==============================] - 1s 2ms/step - loss: 0.1160 - accuracy: 0.9644 - val_loss: 0.1448 - val_accuracy: 0.9588\n",
      "Epoch 5/10\n",
      "375/375 [==============================] - 1s 2ms/step - loss: 0.0838 - accuracy: 0.9737 - val_loss: 0.1334 - val_accuracy: 0.9619\n",
      "Epoch 6/10\n",
      "375/375 [==============================] - 1s 2ms/step - loss: 0.0616 - accuracy: 0.9804 - val_loss: 0.1262 - val_accuracy: 0.9632\n",
      "Epoch 7/10\n",
      "375/375 [==============================] - 1s 2ms/step - loss: 0.0466 - accuracy: 0.9851 - val_loss: 0.1149 - val_accuracy: 0.9702\n",
      "Epoch 8/10\n",
      "375/375 [==============================] - 1s 2ms/step - loss: 0.0346 - accuracy: 0.9888 - val_loss: 0.1380 - val_accuracy: 0.9650\n",
      "Epoch 9/10\n",
      "375/375 [==============================] - 1s 2ms/step - loss: 0.0256 - accuracy: 0.9919 - val_loss: 0.1304 - val_accuracy: 0.9669\n",
      "Epoch 10/10\n",
      "375/375 [==============================] - 1s 2ms/step - loss: 0.0204 - accuracy: 0.9933 - val_loss: 0.1342 - val_accuracy: 0.9699\n"
     ]
    }
   ],
   "source": [
    "model = get_model()\n",
    "history_noise = model.fit(\n",
    "    train_images_with_noise_channels, train_labels,\n",
    "    epochs=10,\n",
    "    batch_size=128,\n",
    "    validation_split=0.2)"
   ]
  },
  {
   "cell_type": "code",
   "execution_count": 12,
   "id": "041965ce-b694-426c-b78e-c36d2bd3df65",
   "metadata": {},
   "outputs": [
    {
     "name": "stdout",
     "output_type": "stream",
     "text": [
      "Epoch 1/10\n",
      "375/375 [==============================] - 2s 3ms/step - loss: 0.2885 - accuracy: 0.9155 - val_loss: 0.1404 - val_accuracy: 0.9594\n",
      "Epoch 2/10\n",
      "375/375 [==============================] - 1s 2ms/step - loss: 0.1197 - accuracy: 0.9644 - val_loss: 0.1130 - val_accuracy: 0.9673\n",
      "Epoch 3/10\n",
      "375/375 [==============================] - 1s 2ms/step - loss: 0.0794 - accuracy: 0.9767 - val_loss: 0.0911 - val_accuracy: 0.9733\n",
      "Epoch 4/10\n",
      "375/375 [==============================] - 1s 2ms/step - loss: 0.0569 - accuracy: 0.9834 - val_loss: 0.0840 - val_accuracy: 0.9765\n",
      "Epoch 5/10\n",
      "375/375 [==============================] - 1s 2ms/step - loss: 0.0430 - accuracy: 0.9874 - val_loss: 0.0787 - val_accuracy: 0.9778\n",
      "Epoch 6/10\n",
      "375/375 [==============================] - 1s 2ms/step - loss: 0.0317 - accuracy: 0.9909 - val_loss: 0.0910 - val_accuracy: 0.9747\n",
      "Epoch 7/10\n",
      "375/375 [==============================] - 1s 2ms/step - loss: 0.0246 - accuracy: 0.9935 - val_loss: 0.0851 - val_accuracy: 0.9770\n",
      "Epoch 8/10\n",
      "375/375 [==============================] - 1s 2ms/step - loss: 0.0190 - accuracy: 0.9949 - val_loss: 0.0894 - val_accuracy: 0.9775\n",
      "Epoch 9/10\n",
      "375/375 [==============================] - 1s 2ms/step - loss: 0.0146 - accuracy: 0.9957 - val_loss: 0.0889 - val_accuracy: 0.9785\n",
      "Epoch 10/10\n",
      "375/375 [==============================] - 1s 2ms/step - loss: 0.0114 - accuracy: 0.9967 - val_loss: 0.0882 - val_accuracy: 0.9789\n"
     ]
    }
   ],
   "source": [
    "model = get_model()\n",
    "history_zeros = model.fit(\n",
    "    train_images_with_zeros_channels, train_labels,\n",
    "    epochs=10,\n",
    "    batch_size=128,\n",
    "    validation_split=0.2)"
   ]
  },
  {
   "cell_type": "code",
   "execution_count": 13,
   "id": "9ef068a8-426d-4035-9176-62690dce9959",
   "metadata": {},
   "outputs": [],
   "source": [
    "import matplotlib.pyplot as plt"
   ]
  },
  {
   "cell_type": "code",
   "execution_count": 14,
   "id": "6d1db5c9-be75-4468-9757-4cb41000246a",
   "metadata": {},
   "outputs": [],
   "source": [
    "val_acc_noise = history_noise.history['val_accuracy']\n",
    "val_acc_zeros = history_zeros.history['val_accuracy']\n",
    "epochs = range(1,11)"
   ]
  },
  {
   "cell_type": "code",
   "execution_count": 15,
   "id": "7866bff6-0b6a-4c02-9542-e860053f508a",
   "metadata": {},
   "outputs": [
    {
     "data": {
      "text/plain": [
       "<matplotlib.legend.Legend at 0x1dbfa2cd550>"
      ]
     },
     "execution_count": 15,
     "metadata": {},
     "output_type": "execute_result"
    },
    {
     "data": {
      "image/png": "[encoded data removed]",
      "text/plain": [
       "<Figure size 640x480 with 1 Axes>"
      ]
     },
     "metadata": {},
     "output_type": "display_data"
    }
   ],
   "source": [
    "plt.plot(epochs, val_acc_noise, 'b-', label='Validation accuracy with noise channels')\n",
    "plt.plot(epochs, val_acc_zeros, 'b--', label='Validation accuracy with zeros channels')\n",
    "plt.title('Effect of noise channels on validation accuracy')\n",
    "plt.xlabel('Epochs')\n",
    "plt.ylabel('Accuracy')\n",
    "plt.legend()"
   ]
  },
  {
   "cell_type": "code",
   "execution_count": 16,
   "id": "64f3fab3-72fa-437d-9f41-eca63ee33829",
   "metadata": {},
   "outputs": [],
   "source": [
    "(train_images, train_labels), _ = mnist.load_data()\n",
    "train_images = train_images.reshape((60000, 28*28))\n",
    "train_images = train_images.astype('float32')/255"
   ]
  },
  {
   "cell_type": "code",
   "execution_count": 17,
   "id": "e7301c68-0bcd-4d2b-9311-aa383145d944",
   "metadata": {},
   "outputs": [],
   "source": [
    "random_train_labels = train_labels[:]"
   ]
  },
  {
   "cell_type": "code",
   "execution_count": 18,
   "id": "4fee4f88-2794-4d60-8ab7-f50651672347",
   "metadata": {},
   "outputs": [],
   "source": [
    "np.random.shuffle(random_train_labels)"
   ]
  },
  {
   "cell_type": "code",
   "execution_count": 19,
   "id": "bf82c4aa-627e-435d-9f95-d86d64cf6b94",
   "metadata": {},
   "outputs": [],
   "source": [
    "model = keras.Sequential([\n",
    "    layers.Dense(512, activation='relu'),\n",
    "    layers.Dense(10, activation='softmax')\n",
    "])\n",
    "model.compile(optimizer='rmsprop',\n",
    "              loss='sparse_categorical_crossentropy',\n",
    "              metrics=['accuracy'])"
   ]
  },
  {
   "cell_type": "code",
   "execution_count": 20,
   "id": "3036e640-ff42-4d89-b913-3f69d8b4aea4",
   "metadata": {
    "tags": []
   },
   "outputs": [
    {
     "name": "stdout",
     "output_type": "stream",
     "text": [
      "Epoch 1/100\n",
      "375/375 [==============================] - 1s 3ms/step - loss: 2.3163 - accuracy: 0.1031 - val_loss: 2.3059 - val_accuracy: 0.1025\n",
      "Epoch 2/100\n",
      "375/375 [==============================] - 1s 2ms/step - loss: 2.3002 - accuracy: 0.1131 - val_loss: 2.3113 - val_accuracy: 0.1123\n",
      "Epoch 3/100\n",
      "375/375 [==============================] - 1s 2ms/step - loss: 2.2898 - accuracy: 0.1275 - val_loss: 2.3204 - val_accuracy: 0.1008\n",
      "Epoch 4/100\n",
      "375/375 [==============================] - 1s 3ms/step - loss: 2.2757 - accuracy: 0.1408 - val_loss: 2.3258 - val_accuracy: 0.1062\n",
      "Epoch 5/100\n",
      "375/375 [==============================] - 1s 2ms/step - loss: 2.2587 - accuracy: 0.1533 - val_loss: 2.3427 - val_accuracy: 0.1037\n",
      "Epoch 6/100\n",
      "375/375 [==============================] - 1s 2ms/step - loss: 2.2368 - accuracy: 0.1683 - val_loss: 2.3498 - val_accuracy: 0.1018\n",
      "Epoch 7/100\n",
      "375/375 [==============================] - 1s 2ms/step - loss: 2.2125 - accuracy: 0.1838 - val_loss: 2.3619 - val_accuracy: 0.1004\n",
      "Epoch 8/100\n",
      "375/375 [==============================] - 1s 2ms/step - loss: 2.1850 - accuracy: 0.2010 - val_loss: 2.3807 - val_accuracy: 0.0997\n",
      "Epoch 9/100\n",
      "375/375 [==============================] - 1s 2ms/step - loss: 2.1558 - accuracy: 0.2168 - val_loss: 2.4018 - val_accuracy: 0.1007\n",
      "Epoch 10/100\n",
      "375/375 [==============================] - 1s 2ms/step - loss: 2.1230 - accuracy: 0.2327 - val_loss: 2.4203 - val_accuracy: 0.1009\n",
      "Epoch 11/100\n",
      "375/375 [==============================] - 1s 2ms/step - loss: 2.0895 - accuracy: 0.2474 - val_loss: 2.4367 - val_accuracy: 0.1049\n",
      "Epoch 12/100\n",
      "375/375 [==============================] - 1s 2ms/step - loss: 2.0559 - accuracy: 0.2645 - val_loss: 2.4700 - val_accuracy: 0.0978\n",
      "Epoch 13/100\n",
      "375/375 [==============================] - 1s 3ms/step - loss: 2.0216 - accuracy: 0.2789 - val_loss: 2.4924 - val_accuracy: 0.1018\n",
      "Epoch 14/100\n",
      "375/375 [==============================] - 1s 2ms/step - loss: 1.9850 - accuracy: 0.2939 - val_loss: 2.5177 - val_accuracy: 0.1032\n",
      "Epoch 15/100\n",
      "375/375 [==============================] - 1s 2ms/step - loss: 1.9503 - accuracy: 0.3106 - val_loss: 2.5715 - val_accuracy: 0.1045\n",
      "Epoch 16/100\n",
      "375/375 [==============================] - 1s 2ms/step - loss: 1.9148 - accuracy: 0.3256 - val_loss: 2.5812 - val_accuracy: 0.1037\n",
      "Epoch 17/100\n",
      "375/375 [==============================] - 1s 3ms/step - loss: 1.8798 - accuracy: 0.3381 - val_loss: 2.6170 - val_accuracy: 0.1063\n",
      "Epoch 18/100\n",
      "375/375 [==============================] - 1s 2ms/step - loss: 1.8460 - accuracy: 0.3553 - val_loss: 2.6622 - val_accuracy: 0.1032\n",
      "Epoch 19/100\n",
      "375/375 [==============================] - 1s 2ms/step - loss: 1.8117 - accuracy: 0.3660 - val_loss: 2.6849 - val_accuracy: 0.1005\n",
      "Epoch 20/100\n",
      "375/375 [==============================] - 1s 2ms/step - loss: 1.7769 - accuracy: 0.3789 - val_loss: 2.7322 - val_accuracy: 0.1049\n",
      "Epoch 21/100\n",
      "375/375 [==============================] - 1s 2ms/step - loss: 1.7454 - accuracy: 0.3919 - val_loss: 2.7641 - val_accuracy: 0.1056\n",
      "Epoch 22/100\n",
      "375/375 [==============================] - 1s 2ms/step - loss: 1.7130 - accuracy: 0.4056 - val_loss: 2.8030 - val_accuracy: 0.1009\n",
      "Epoch 23/100\n",
      "375/375 [==============================] - 1s 3ms/step - loss: 1.6812 - accuracy: 0.4170 - val_loss: 2.8363 - val_accuracy: 0.1018\n",
      "Epoch 24/100\n",
      "375/375 [==============================] - 1s 2ms/step - loss: 1.6509 - accuracy: 0.4279 - val_loss: 2.8923 - val_accuracy: 0.1052\n",
      "Epoch 25/100\n",
      "375/375 [==============================] - 1s 3ms/step - loss: 1.6208 - accuracy: 0.4395 - val_loss: 2.9254 - val_accuracy: 0.1057\n",
      "Epoch 26/100\n",
      "375/375 [==============================] - 1s 2ms/step - loss: 1.5927 - accuracy: 0.4542 - val_loss: 2.9596 - val_accuracy: 0.1032\n",
      "Epoch 27/100\n",
      "375/375 [==============================] - 1s 2ms/step - loss: 1.5640 - accuracy: 0.4610 - val_loss: 3.0268 - val_accuracy: 0.1037\n",
      "Epoch 28/100\n",
      "375/375 [==============================] - 1s 3ms/step - loss: 1.5354 - accuracy: 0.4733 - val_loss: 3.0393 - val_accuracy: 0.1080\n",
      "Epoch 29/100\n",
      "375/375 [==============================] - 1s 2ms/step - loss: 1.5082 - accuracy: 0.4852 - val_loss: 3.0879 - val_accuracy: 0.1043\n",
      "Epoch 30/100\n",
      "375/375 [==============================] - 1s 3ms/step - loss: 1.4813 - accuracy: 0.4948 - val_loss: 3.1398 - val_accuracy: 0.1058\n",
      "Epoch 31/100\n",
      "375/375 [==============================] - 1s 2ms/step - loss: 1.4561 - accuracy: 0.5015 - val_loss: 3.2218 - val_accuracy: 0.1045\n",
      "Epoch 32/100\n",
      "375/375 [==============================] - 1s 2ms/step - loss: 1.4297 - accuracy: 0.5147 - val_loss: 3.2492 - val_accuracy: 0.1025\n",
      "Epoch 33/100\n",
      "375/375 [==============================] - 1s 2ms/step - loss: 1.4053 - accuracy: 0.5237 - val_loss: 3.3024 - val_accuracy: 0.1044\n",
      "Epoch 34/100\n",
      "375/375 [==============================] - 1s 2ms/step - loss: 1.3799 - accuracy: 0.5294 - val_loss: 3.3330 - val_accuracy: 0.1037\n",
      "Epoch 35/100\n",
      "375/375 [==============================] - 1s 2ms/step - loss: 1.3582 - accuracy: 0.5365 - val_loss: 3.4243 - val_accuracy: 0.1007\n",
      "Epoch 36/100\n",
      "375/375 [==============================] - 1s 2ms/step - loss: 1.3330 - accuracy: 0.5479 - val_loss: 3.4643 - val_accuracy: 0.1076\n",
      "Epoch 37/100\n",
      "375/375 [==============================] - 1s 2ms/step - loss: 1.3118 - accuracy: 0.5555 - val_loss: 3.4811 - val_accuracy: 0.1073\n",
      "Epoch 38/100\n",
      "375/375 [==============================] - 1s 2ms/step - loss: 1.2882 - accuracy: 0.5633 - val_loss: 3.5310 - val_accuracy: 0.1055\n",
      "Epoch 39/100\n",
      "375/375 [==============================] - 1s 2ms/step - loss: 1.2688 - accuracy: 0.5703 - val_loss: 3.5720 - val_accuracy: 0.1077\n",
      "Epoch 40/100\n",
      "375/375 [==============================] - 1s 2ms/step - loss: 1.2449 - accuracy: 0.5797 - val_loss: 3.6531 - val_accuracy: 0.1043\n",
      "Epoch 41/100\n",
      "375/375 [==============================] - 1s 2ms/step - loss: 1.2230 - accuracy: 0.5865 - val_loss: 3.6820 - val_accuracy: 0.1076\n",
      "Epoch 42/100\n",
      "375/375 [==============================] - 1s 2ms/step - loss: 1.2044 - accuracy: 0.5916 - val_loss: 3.7742 - val_accuracy: 0.1051\n",
      "Epoch 43/100\n",
      "375/375 [==============================] - 1s 2ms/step - loss: 1.1850 - accuracy: 0.6011 - val_loss: 3.8373 - val_accuracy: 0.1042\n",
      "Epoch 44/100\n",
      "375/375 [==============================] - 1s 2ms/step - loss: 1.1618 - accuracy: 0.6098 - val_loss: 3.8885 - val_accuracy: 0.1059\n",
      "Epoch 45/100\n",
      "375/375 [==============================] - 1s 2ms/step - loss: 1.1468 - accuracy: 0.6144 - val_loss: 3.9086 - val_accuracy: 0.1059\n",
      "Epoch 46/100\n",
      "375/375 [==============================] - 1s 2ms/step - loss: 1.1261 - accuracy: 0.6209 - val_loss: 3.9629 - val_accuracy: 0.1047\n",
      "Epoch 47/100\n",
      "375/375 [==============================] - 1s 2ms/step - loss: 1.1070 - accuracy: 0.6298 - val_loss: 4.0405 - val_accuracy: 0.1033\n",
      "Epoch 48/100\n",
      "375/375 [==============================] - 1s 2ms/step - loss: 1.0909 - accuracy: 0.6361 - val_loss: 4.0873 - val_accuracy: 0.1004\n",
      "Epoch 49/100\n",
      "375/375 [==============================] - 1s 2ms/step - loss: 1.0737 - accuracy: 0.6414 - val_loss: 4.1284 - val_accuracy: 0.1040\n",
      "Epoch 50/100\n",
      "375/375 [==============================] - 1s 2ms/step - loss: 1.0547 - accuracy: 0.6468 - val_loss: 4.2326 - val_accuracy: 0.1047\n",
      "Epoch 51/100\n",
      "375/375 [==============================] - 1s 3ms/step - loss: 1.0393 - accuracy: 0.6540 - val_loss: 4.2630 - val_accuracy: 0.1020\n",
      "Epoch 52/100\n",
      "375/375 [==============================] - 1s 2ms/step - loss: 1.0229 - accuracy: 0.6580 - val_loss: 4.3339 - val_accuracy: 0.1045\n",
      "Epoch 53/100\n",
      "375/375 [==============================] - 1s 2ms/step - loss: 1.0052 - accuracy: 0.6654 - val_loss: 4.3760 - val_accuracy: 0.1071\n",
      "Epoch 54/100\n",
      "375/375 [==============================] - 1s 2ms/step - loss: 0.9875 - accuracy: 0.6717 - val_loss: 4.4342 - val_accuracy: 0.1014\n",
      "Epoch 55/100\n",
      "375/375 [==============================] - 1s 2ms/step - loss: 0.9726 - accuracy: 0.6776 - val_loss: 4.4807 - val_accuracy: 0.1037\n",
      "Epoch 56/100\n",
      "375/375 [==============================] - 1s 2ms/step - loss: 0.9573 - accuracy: 0.6828 - val_loss: 4.5586 - val_accuracy: 0.1025\n",
      "Epoch 57/100\n",
      "375/375 [==============================] - 1s 2ms/step - loss: 0.9438 - accuracy: 0.6860 - val_loss: 4.6230 - val_accuracy: 0.1030\n",
      "Epoch 58/100\n",
      "375/375 [==============================] - 1s 2ms/step - loss: 0.9277 - accuracy: 0.6912 - val_loss: 4.6775 - val_accuracy: 0.1027\n",
      "Epoch 59/100\n",
      "375/375 [==============================] - 1s 2ms/step - loss: 0.9116 - accuracy: 0.6974 - val_loss: 4.7022 - val_accuracy: 0.1023\n",
      "Epoch 60/100\n",
      "375/375 [==============================] - 1s 3ms/step - loss: 0.8974 - accuracy: 0.7034 - val_loss: 4.7926 - val_accuracy: 0.1018\n",
      "Epoch 61/100\n",
      "375/375 [==============================] - 1s 3ms/step - loss: 0.8856 - accuracy: 0.7078 - val_loss: 4.8522 - val_accuracy: 0.0988\n",
      "Epoch 62/100\n",
      "375/375 [==============================] - 1s 2ms/step - loss: 0.8707 - accuracy: 0.7118 - val_loss: 4.9017 - val_accuracy: 0.1034\n",
      "Epoch 63/100\n",
      "375/375 [==============================] - 1s 2ms/step - loss: 0.8561 - accuracy: 0.7175 - val_loss: 4.9775 - val_accuracy: 0.1023\n",
      "Epoch 64/100\n",
      "375/375 [==============================] - 1s 2ms/step - loss: 0.8441 - accuracy: 0.7218 - val_loss: 5.0392 - val_accuracy: 0.1028\n",
      "Epoch 65/100\n",
      "375/375 [==============================] - 1s 2ms/step - loss: 0.8296 - accuracy: 0.7262 - val_loss: 5.1160 - val_accuracy: 0.1010\n",
      "Epoch 66/100\n",
      "375/375 [==============================] - 1s 2ms/step - loss: 0.8187 - accuracy: 0.7298 - val_loss: 5.1722 - val_accuracy: 0.1007\n",
      "Epoch 67/100\n",
      "375/375 [==============================] - 1s 3ms/step - loss: 0.8049 - accuracy: 0.7351 - val_loss: 5.2736 - val_accuracy: 0.1023\n",
      "Epoch 68/100\n",
      "375/375 [==============================] - 1s 3ms/step - loss: 0.7931 - accuracy: 0.7415 - val_loss: 5.3130 - val_accuracy: 0.1026\n",
      "Epoch 69/100\n",
      "375/375 [==============================] - 1s 2ms/step - loss: 0.7808 - accuracy: 0.7416 - val_loss: 5.3740 - val_accuracy: 0.1038\n",
      "Epoch 70/100\n",
      "375/375 [==============================] - 1s 2ms/step - loss: 0.7682 - accuracy: 0.7470 - val_loss: 5.4425 - val_accuracy: 0.1025\n",
      "Epoch 71/100\n",
      "375/375 [==============================] - 1s 3ms/step - loss: 0.7555 - accuracy: 0.7532 - val_loss: 5.4920 - val_accuracy: 0.1017\n",
      "Epoch 72/100\n",
      "375/375 [==============================] - 1s 3ms/step - loss: 0.7451 - accuracy: 0.7549 - val_loss: 5.5684 - val_accuracy: 0.1017\n",
      "Epoch 73/100\n",
      "375/375 [==============================] - 1s 2ms/step - loss: 0.7332 - accuracy: 0.7591 - val_loss: 5.6645 - val_accuracy: 0.1023\n",
      "Epoch 74/100\n",
      "375/375 [==============================] - 1s 2ms/step - loss: 0.7237 - accuracy: 0.7629 - val_loss: 5.6980 - val_accuracy: 0.1023\n",
      "Epoch 75/100\n",
      "375/375 [==============================] - 1s 2ms/step - loss: 0.7130 - accuracy: 0.7678 - val_loss: 5.7279 - val_accuracy: 0.1053\n",
      "Epoch 76/100\n",
      "375/375 [==============================] - 1s 3ms/step - loss: 0.7006 - accuracy: 0.7727 - val_loss: 5.8190 - val_accuracy: 0.1027\n",
      "Epoch 77/100\n",
      "375/375 [==============================] - 1s 3ms/step - loss: 0.6899 - accuracy: 0.7746 - val_loss: 5.8843 - val_accuracy: 0.1024\n",
      "Epoch 78/100\n",
      "375/375 [==============================] - 1s 2ms/step - loss: 0.6808 - accuracy: 0.7787 - val_loss: 5.9616 - val_accuracy: 0.1028\n",
      "Epoch 79/100\n",
      "375/375 [==============================] - 1s 3ms/step - loss: 0.6717 - accuracy: 0.7804 - val_loss: 6.0049 - val_accuracy: 0.1005\n",
      "Epoch 80/100\n",
      "375/375 [==============================] - 1s 3ms/step - loss: 0.6607 - accuracy: 0.7853 - val_loss: 6.0737 - val_accuracy: 0.1047\n",
      "Epoch 81/100\n",
      "375/375 [==============================] - 1s 3ms/step - loss: 0.6518 - accuracy: 0.7869 - val_loss: 6.1659 - val_accuracy: 0.0988\n",
      "Epoch 82/100\n",
      "375/375 [==============================] - 1s 3ms/step - loss: 0.6387 - accuracy: 0.7924 - val_loss: 6.2251 - val_accuracy: 0.1031\n",
      "Epoch 83/100\n",
      "375/375 [==============================] - 1s 3ms/step - loss: 0.6303 - accuracy: 0.7944 - val_loss: 6.2728 - val_accuracy: 0.1010\n",
      "Epoch 84/100\n",
      "375/375 [==============================] - 1s 3ms/step - loss: 0.6208 - accuracy: 0.7990 - val_loss: 6.3329 - val_accuracy: 0.1020\n",
      "Epoch 85/100\n",
      "375/375 [==============================] - 1s 3ms/step - loss: 0.6133 - accuracy: 0.8012 - val_loss: 6.4875 - val_accuracy: 0.1029\n",
      "Epoch 86/100\n",
      "375/375 [==============================] - 1s 2ms/step - loss: 0.6018 - accuracy: 0.8040 - val_loss: 6.5040 - val_accuracy: 0.1008\n",
      "Epoch 87/100\n",
      "375/375 [==============================] - 1s 2ms/step - loss: 0.5952 - accuracy: 0.8059 - val_loss: 6.5680 - val_accuracy: 0.1013\n",
      "Epoch 88/100\n",
      "375/375 [==============================] - 1s 3ms/step - loss: 0.5870 - accuracy: 0.8095 - val_loss: 6.6617 - val_accuracy: 0.1036\n",
      "Epoch 89/100\n",
      "375/375 [==============================] - 1s 3ms/step - loss: 0.5769 - accuracy: 0.8138 - val_loss: 6.7372 - val_accuracy: 0.1033\n",
      "Epoch 90/100\n",
      "375/375 [==============================] - 1s 2ms/step - loss: 0.5688 - accuracy: 0.8162 - val_loss: 6.8262 - val_accuracy: 0.1048\n",
      "Epoch 91/100\n",
      "375/375 [==============================] - 1s 2ms/step - loss: 0.5634 - accuracy: 0.8184 - val_loss: 6.8628 - val_accuracy: 0.1037\n",
      "Epoch 92/100\n",
      "375/375 [==============================] - 1s 2ms/step - loss: 0.5509 - accuracy: 0.8235 - val_loss: 6.8834 - val_accuracy: 0.1020\n",
      "Epoch 93/100\n",
      "375/375 [==============================] - 1s 3ms/step - loss: 0.5449 - accuracy: 0.8245 - val_loss: 7.0201 - val_accuracy: 0.1013\n",
      "Epoch 94/100\n",
      "375/375 [==============================] - 1s 3ms/step - loss: 0.5378 - accuracy: 0.8290 - val_loss: 7.0291 - val_accuracy: 0.1007\n",
      "Epoch 95/100\n",
      "375/375 [==============================] - 1s 2ms/step - loss: 0.5293 - accuracy: 0.8306 - val_loss: 7.1651 - val_accuracy: 0.1036\n",
      "Epoch 96/100\n",
      "375/375 [==============================] - 1s 3ms/step - loss: 0.5223 - accuracy: 0.8334 - val_loss: 7.2236 - val_accuracy: 0.1007\n",
      "Epoch 97/100\n",
      "375/375 [==============================] - 1s 3ms/step - loss: 0.5150 - accuracy: 0.8355 - val_loss: 7.3123 - val_accuracy: 0.1048\n",
      "Epoch 98/100\n",
      "375/375 [==============================] - 1s 3ms/step - loss: 0.5071 - accuracy: 0.8388 - val_loss: 7.3122 - val_accuracy: 0.1019\n",
      "Epoch 99/100\n",
      "375/375 [==============================] - 1s 3ms/step - loss: 0.5004 - accuracy: 0.8393 - val_loss: 7.4114 - val_accuracy: 0.1000\n",
      "Epoch 100/100\n",
      "375/375 [==============================] - 1s 3ms/step - loss: 0.4921 - accuracy: 0.8428 - val_loss: 7.4936 - val_accuracy: 0.1026\n"
     ]
    },
    {
     "data": {
      "text/plain": [
       "<keras.callbacks.History at 0x1d5a70b4640>"
      ]
     },
     "execution_count": 20,
     "metadata": {},
     "output_type": "execute_result"
    }
   ],
   "source": [
    "model.fit(train_images, random_train_labels,\n",
    "          epochs=100,\n",
    "          batch_size=128,\n",
    "          validation_split=0.2)"
   ]
  }
 ],
 "metadata": {
  "kernelspec": {
   "display_name": "Python 3 (ipykernel)",
   "language": "python",
   "name": "python3"
  },
  "language_info": {
   "codemirror_mode": {
    "name": "ipython",
    "version": 3
   },
   "file_extension": ".py",
   "mimetype": "text/x-python",
   "name": "python",
   "nbconvert_exporter": "python",
   "pygments_lexer": "ipython3",
   "version": "3.9.13"
  }
 },
 "nbformat": 4,
 "nbformat_minor": 5
}
