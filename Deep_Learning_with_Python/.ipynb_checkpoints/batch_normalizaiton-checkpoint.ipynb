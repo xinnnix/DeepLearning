{
 "cells": [
  {
   "cell_type": "code",
   "execution_count": 7,
   "id": "c0856a47-78d8-4e02-8061-10d85fd0c6d6",
   "metadata": {},
   "outputs": [],
   "source": [
    "from tensorflow import keras\n",
    "from tensorflow.keras import layers\n",
    "\n",
    "import numpy as np"
   ]
  },
  {
   "cell_type": "code",
   "execution_count": null,
   "id": "f36018fc-2906-4953-a075-972950bdc3ec",
   "metadata": {},
   "outputs": [],
   "source": [
    "normalized_data = (data - np.mean(data, axis=...)) / np.std(data, axis=...)"
   ]
  },
  {
   "cell_type": "code",
   "execution_count": null,
   "id": "b6960527-e6c4-403a-8223-1622f24f9688",
   "metadata": {},
   "outputs": [],
   "source": [
    "x = ...\n",
    "x = layers.Conv2D(32, 3, use_bias=False)(x)\n",
    "x = layers.BatchNormalization()(x)"
   ]
  },
  {
   "cell_type": "code",
   "execution_count": null,
   "id": "d1a32c25-e81b-4d6b-8671-61e34a78a825",
   "metadata": {},
   "outputs": [],
   "source": [
    "# how not to use batch normalization\n",
    "\n",
    "x = layers.Conv2D(32, 3, activation='relu')(x)\n",
    "x = layers.BatchNormalization()(x)"
   ]
  },
  {
   "cell_type": "code",
   "execution_count": null,
   "id": "e9c11934-7083-4ef9-bd6a-5934f85816c6",
   "metadata": {},
   "outputs": [],
   "source": [
    "# how to use batch normalization: the activation comes last\n",
    "\n",
    "x = layers.Conv2D(32, 3, use_bias=False)(x)\n",
    "x = layers.BatchNormalization()(x)\n",
    "x = layers.Activation('relu')(x)"
   ]
  },
  {
   "cell_type": "code",
   "execution_count": null,
   "id": "5cfbc361-f414-497d-a3fa-a858ae50be9a",
   "metadata": {},
   "outputs": [],
   "source": []
  }
 ],
 "metadata": {
  "kernelspec": {
   "display_name": "Python 3 (ipykernel)",
   "language": "python",
   "name": "python3"
  },
  "language_info": {
   "codemirror_mode": {
    "name": "ipython",
    "version": 3
   },
   "file_extension": ".py",
   "mimetype": "text/x-python",
   "name": "python",
   "nbconvert_exporter": "python",
   "pygments_lexer": "ipython3",
   "version": "3.9.13"
  }
 },
 "nbformat": 4,
 "nbformat_minor": 5
}
