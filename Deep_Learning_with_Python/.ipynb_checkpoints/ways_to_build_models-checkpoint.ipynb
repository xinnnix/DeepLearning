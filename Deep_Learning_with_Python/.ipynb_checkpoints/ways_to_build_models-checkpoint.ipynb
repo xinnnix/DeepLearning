{
 "cells": [
  {
   "cell_type": "code",
   "execution_count": 1,
   "id": "5b157924-cb5e-44eb-9eb6-5883364b2976",
   "metadata": {},
   "outputs": [],
   "source": [
    "from tensorflow import keras\n",
    "from tensorflow.keras import layers"
   ]
  },
  {
   "cell_type": "code",
   "execution_count": 2,
   "id": "c5241557-b981-448c-8359-742c22a70087",
   "metadata": {},
   "outputs": [],
   "source": [
    "model = keras.Sequential([\n",
    "    layers.Dense(64, activation='relu'),\n",
    "    layers.Dense(10, activation='softmax')\n",
    "])"
   ]
  },
  {
   "cell_type": "code",
   "execution_count": 3,
   "id": "624774d8-5e91-4976-942c-7cef3234b4c7",
   "metadata": {},
   "outputs": [],
   "source": [
    "model = keras.Sequential()\n",
    "model.add(layers.Dense(64, activation='relu'))\n",
    "model.add(layers.Dense(10, activation='softmax'))"
   ]
  },
  {
   "cell_type": "code",
   "execution_count": 5,
   "id": "381a6f51-76ae-435d-b442-a04ebd2e66da",
   "metadata": {},
   "outputs": [],
   "source": [
    "model.build(input_shape=(None, 3))"
   ]
  },
  {
   "cell_type": "code",
   "execution_count": 6,
   "id": "3430ebe1-ee8e-4e16-b79b-dbfbe60b39df",
   "metadata": {},
   "outputs": [
    {
     "data": {
      "text/plain": [
       "[<tf.Variable 'dense_2/kernel:0' shape=(3, 64) dtype=float32, numpy=\n",
       " array([[-0.1316196 , -0.22702074, -0.17135012,  0.04435906,  0.09470114,\n",
       "          0.12952968,  0.01627156, -0.0159615 , -0.00059077,  0.03475982,\n",
       "          0.05586976, -0.2751801 , -0.01011086,  0.2150011 , -0.27753407,\n",
       "          0.13285133, -0.13497671, -0.18041325, -0.2071223 , -0.09888904,\n",
       "         -0.16544184, -0.1580633 , -0.11930767,  0.11501577,  0.08168325,\n",
       "          0.07666054,  0.10957012, -0.05614701,  0.06384069, -0.2837048 ,\n",
       "          0.17310756, -0.14141674, -0.11977892,  0.08102655,  0.02172473,\n",
       "         -0.07921676,  0.07008651,  0.23455077, -0.26119387,  0.15636244,\n",
       "         -0.12952027, -0.1376939 , -0.15998106,  0.15570912, -0.25329706,\n",
       "          0.2967605 ,  0.13766709,  0.14110538,  0.27981216, -0.07786109,\n",
       "         -0.20167185,  0.04599485, -0.03527632,  0.21001196,  0.24691623,\n",
       "          0.2088067 , -0.03133315, -0.1724172 , -0.06943546, -0.23653007,\n",
       "          0.25169927,  0.13459593, -0.10685684,  0.19080293],\n",
       "        [-0.11660953,  0.29526782, -0.04870567,  0.21581066,  0.08610043,\n",
       "         -0.01741397, -0.25948396, -0.17001086,  0.06341287, -0.16470626,\n",
       "          0.10771042, -0.18306173,  0.12972909, -0.13306125, -0.24280058,\n",
       "          0.19635898,  0.12235263, -0.13982947,  0.20811951, -0.27829394,\n",
       "          0.17703971, -0.14158933,  0.22287917,  0.01048288, -0.22584665,\n",
       "         -0.18811142,  0.2942142 , -0.05306572, -0.2821823 , -0.02303538,\n",
       "          0.06827065,  0.13415337, -0.0653352 , -0.28548005, -0.07123649,\n",
       "          0.21186769,  0.20889592, -0.11137377, -0.08146128, -0.00103861,\n",
       "         -0.02259153, -0.03489196, -0.24481536,  0.22637105, -0.28447255,\n",
       "         -0.14812355, -0.23699968, -0.20020247, -0.10766812, -0.08691894,\n",
       "          0.05837655,  0.03485629,  0.14192724,  0.16152751, -0.291614  ,\n",
       "         -0.29596817,  0.168437  , -0.208452  , -0.04560158, -0.0264594 ,\n",
       "          0.15914652, -0.0990674 ,  0.18484914, -0.11204708],\n",
       "        [-0.13801211,  0.22583044, -0.04210469,  0.02561849,  0.06586587,\n",
       "          0.2538631 , -0.0794607 , -0.23590814,  0.02507448,  0.1264537 ,\n",
       "         -0.0233877 , -0.01305965,  0.1474553 , -0.28088033, -0.1443965 ,\n",
       "          0.12561578,  0.2894687 , -0.17978069,  0.06968719, -0.20082119,\n",
       "         -0.19071567, -0.00364256, -0.14242809,  0.23025137, -0.17458573,\n",
       "          0.17243034, -0.10354531,  0.29432493,  0.18620387, -0.2530647 ,\n",
       "         -0.1712521 ,  0.10538787,  0.29674393, -0.2473248 , -0.23967001,\n",
       "          0.02061504, -0.22350803,  0.18273667,  0.2335434 ,  0.03909624,\n",
       "          0.09555653,  0.2190066 ,  0.10949889, -0.00739324,  0.12090912,\n",
       "          0.19996381,  0.26436812, -0.06223865, -0.06097645,  0.24774253,\n",
       "          0.11961946,  0.25936294, -0.15746485, -0.2469149 , -0.29244062,\n",
       "          0.12461156, -0.11552797,  0.18201056, -0.20227446, -0.22370815,\n",
       "          0.18433893, -0.12607604,  0.13465193,  0.02182162]],\n",
       "       dtype=float32)>,\n",
       " <tf.Variable 'dense_2/bias:0' shape=(64,) dtype=float32, numpy=\n",
       " array([0., 0., 0., 0., 0., 0., 0., 0., 0., 0., 0., 0., 0., 0., 0., 0., 0.,\n",
       "        0., 0., 0., 0., 0., 0., 0., 0., 0., 0., 0., 0., 0., 0., 0., 0., 0.,\n",
       "        0., 0., 0., 0., 0., 0., 0., 0., 0., 0., 0., 0., 0., 0., 0., 0., 0.,\n",
       "        0., 0., 0., 0., 0., 0., 0., 0., 0., 0., 0., 0., 0.], dtype=float32)>,\n",
       " <tf.Variable 'dense_3/kernel:0' shape=(64, 10) dtype=float32, numpy=\n",
       " array([[ 1.01125717e-01, -6.67383522e-02,  1.26323491e-01,\n",
       "         -2.10674584e-01,  3.61492336e-02, -2.03466594e-01,\n",
       "         -2.22433642e-01, -1.29414797e-02,  2.12921083e-01,\n",
       "          1.23818994e-01],\n",
       "        [-2.83993632e-01, -1.36480242e-01,  2.59846061e-01,\n",
       "          1.81500822e-01,  2.80860156e-01, -8.69644731e-02,\n",
       "          1.64633244e-01, -1.74112990e-01,  2.55496293e-01,\n",
       "          2.30040520e-01],\n",
       "        [ 8.27613175e-02, -2.60596663e-01,  3.96072865e-02,\n",
       "         -1.23409629e-01,  6.37358725e-02,  1.47591442e-01,\n",
       "         -1.92516223e-01,  1.08160526e-01,  1.08941853e-01,\n",
       "          2.21450955e-01],\n",
       "        [-1.45142749e-01, -5.17999083e-02,  2.10895896e-01,\n",
       "         -2.08172053e-01,  9.12473202e-02,  8.63923132e-02,\n",
       "         -1.75041229e-01, -2.61298656e-01, -9.64982659e-02,\n",
       "          7.63773620e-02],\n",
       "        [ 1.90034866e-01,  2.19532162e-01, -1.18399262e-02,\n",
       "         -1.54002890e-01,  2.03004271e-01, -9.46835279e-02,\n",
       "         -1.30596295e-01, -2.66095340e-01,  6.25701547e-02,\n",
       "         -8.53115022e-02],\n",
       "        [ 3.13536823e-02,  1.58618659e-01,  2.85169482e-02,\n",
       "          2.80705422e-01,  1.90992862e-01, -1.37292534e-01,\n",
       "         -2.24362776e-01,  1.68614715e-01,  7.21267760e-02,\n",
       "         -1.15146443e-01],\n",
       "        [ 1.98287934e-01,  1.49488002e-01, -6.79329187e-02,\n",
       "         -8.09795111e-02, -5.71291894e-02, -1.54314235e-01,\n",
       "         -1.10608339e-01, -2.00002074e-01,  2.17948467e-01,\n",
       "          1.18282229e-01],\n",
       "        [ 1.87436014e-01, -2.23320961e-01,  1.66234195e-01,\n",
       "          3.24340761e-02,  2.30206043e-01,  2.01699972e-01,\n",
       "          2.69694895e-01,  2.72771269e-01, -2.59614855e-01,\n",
       "         -1.50858462e-02],\n",
       "        [ 1.30578876e-03,  6.92123175e-03,  1.95538431e-01,\n",
       "          1.92628652e-01, -2.44859368e-01, -7.30949342e-02,\n",
       "          2.66910225e-01, -7.14699477e-02,  2.07698941e-01,\n",
       "         -6.33761436e-02],\n",
       "        [-5.98059893e-02, -2.25086138e-01,  2.81606227e-01,\n",
       "          6.03579283e-02,  2.41719872e-01, -1.50677413e-01,\n",
       "         -5.96477389e-02,  1.89476162e-01,  2.59041876e-01,\n",
       "          1.76602334e-01],\n",
       "        [-7.59280175e-02, -2.46434942e-01, -8.50087851e-02,\n",
       "          7.73991048e-02, -1.26174957e-01, -2.07558751e-01,\n",
       "         -2.70396322e-01,  2.74187595e-01, -5.60400486e-02,\n",
       "          1.13234282e-01],\n",
       "        [-1.28383324e-01,  2.74504095e-01,  1.24028027e-01,\n",
       "          2.70872563e-01,  1.57371759e-01,  1.96898937e-01,\n",
       "          8.01152885e-02, -2.28036046e-01,  1.86076671e-01,\n",
       "         -1.35203049e-01],\n",
       "        [ 1.14566475e-01, -1.72334090e-01, -1.12575218e-01,\n",
       "         -1.93069384e-01,  4.80122268e-02, -1.58014312e-01,\n",
       "         -2.46732712e-01,  1.34690225e-01,  1.74526900e-01,\n",
       "          1.52919710e-01],\n",
       "        [ 2.39848822e-01,  8.02022219e-03,  4.21311557e-02,\n",
       "          4.40359712e-02,  2.31981128e-01,  2.58002371e-01,\n",
       "         -2.69688785e-01, -1.89774662e-01,  2.14647859e-01,\n",
       "         -8.38888288e-02],\n",
       "        [ 5.92939854e-02,  2.39431351e-01,  3.06578875e-02,\n",
       "         -4.53174114e-04, -5.93032092e-02, -2.64821202e-01,\n",
       "          1.10869706e-02, -1.86982512e-01, -2.01341331e-01,\n",
       "          2.68767744e-01],\n",
       "        [ 2.48801798e-01,  2.28821337e-02,  3.32397819e-02,\n",
       "         -2.00171262e-01,  2.81666249e-01,  2.03016073e-01,\n",
       "         -9.03769135e-02,  7.11936355e-02,  2.56495744e-01,\n",
       "         -1.84918895e-01],\n",
       "        [-1.48169249e-01, -1.47214532e-01, -1.19157329e-01,\n",
       "         -2.38630146e-01,  1.13240540e-01, -2.44525015e-01,\n",
       "          4.72157001e-02, -1.97500169e-01, -2.30931729e-01,\n",
       "         -2.29968920e-01],\n",
       "        [-1.31741464e-02,  1.47505701e-01,  2.74238616e-01,\n",
       "          1.34775758e-01, -5.47798872e-02, -2.70847321e-01,\n",
       "         -3.68922055e-02,  1.77143484e-01, -2.04274952e-01,\n",
       "         -2.45385438e-01],\n",
       "        [-1.75988972e-02,  6.28053248e-02,  1.07250601e-01,\n",
       "          2.18347102e-01, -4.35936451e-03, -2.36380309e-01,\n",
       "          2.60936707e-01, -2.64005065e-02,  2.66992241e-01,\n",
       "         -2.74171352e-01],\n",
       "        [-4.43108529e-02,  1.74106866e-01,  7.39238560e-02,\n",
       "         -9.77520496e-02, -9.87839550e-02, -4.78423834e-02,\n",
       "          2.05550790e-01, -1.78860679e-01, -5.61188012e-02,\n",
       "          2.46391028e-01],\n",
       "        [-1.46892056e-01,  2.41830975e-01, -1.86879456e-01,\n",
       "          2.15238690e-01,  2.15474039e-01, -2.57282943e-01,\n",
       "          2.75989920e-01,  2.49952346e-01, -4.69617844e-02,\n",
       "         -1.57772154e-01],\n",
       "        [-2.40709588e-01, -1.47903860e-02,  3.58573198e-02,\n",
       "         -1.78304523e-01, -5.37952930e-02, -9.72424746e-02,\n",
       "          8.39501917e-02, -2.64908224e-01,  8.86014104e-02,\n",
       "          3.44946384e-02],\n",
       "        [-2.17203498e-02, -1.50219023e-01,  8.19679797e-02,\n",
       "         -1.78074792e-01,  9.15527642e-02, -9.96348858e-02,\n",
       "         -2.10908860e-01,  2.49596089e-01,  1.89910561e-01,\n",
       "          2.39016861e-01],\n",
       "        [ 1.52783394e-01,  2.36762434e-01, -2.52322227e-01,\n",
       "          1.27662420e-01,  9.87664461e-02,  1.88603789e-01,\n",
       "          2.52492756e-01, -1.46642223e-01,  2.83646733e-01,\n",
       "          3.14731002e-02],\n",
       "        [-1.83916375e-01,  2.74275690e-01, -1.68774873e-01,\n",
       "          1.37780875e-01,  1.25516355e-01, -1.36864230e-01,\n",
       "          1.47299856e-01,  2.24913865e-01, -7.75109231e-02,\n",
       "          1.52848631e-01],\n",
       "        [-1.40233904e-01, -8.62020254e-03,  1.99115038e-01,\n",
       "          8.84494781e-02, -4.02161330e-02,  1.93829209e-01,\n",
       "         -1.68747246e-01, -2.08397299e-01, -4.80680466e-02,\n",
       "          2.66409308e-01],\n",
       "        [-1.88309759e-01,  1.34843856e-01, -8.03195536e-02,\n",
       "         -2.18779653e-01,  6.50508404e-02, -1.73181951e-01,\n",
       "         -1.55900925e-01,  1.60603076e-01,  8.37213993e-02,\n",
       "          1.63719505e-01],\n",
       "        [-2.37947851e-01, -2.54723728e-02,  4.78445590e-02,\n",
       "          1.03594303e-01, -2.82281250e-01,  1.19304508e-01,\n",
       "          1.40467495e-01, -1.23664483e-01,  1.34727478e-01,\n",
       "         -2.23665759e-01],\n",
       "        [-1.16618276e-01, -1.52987808e-01, -2.14978009e-01,\n",
       "         -1.73405915e-01,  1.48565799e-01,  9.78115797e-02,\n",
       "          1.73255473e-01, -2.40571022e-01,  1.01634771e-01,\n",
       "         -6.44460768e-02],\n",
       "        [-1.94548965e-01, -2.00807244e-01, -6.29663020e-02,\n",
       "          7.40721226e-02,  9.55510139e-02,  1.54951036e-01,\n",
       "          2.43838757e-01, -2.66981363e-01, -1.05629861e-02,\n",
       "          1.54713750e-01],\n",
       "        [ 1.01081997e-01, -1.71988264e-01,  3.37392390e-02,\n",
       "          2.76977509e-01,  1.55705065e-01, -2.37228230e-01,\n",
       "          3.85344028e-03, -2.68791020e-01, -8.28423798e-02,\n",
       "          2.37952620e-01],\n",
       "        [-5.48464954e-02, -2.74720997e-01, -6.45125359e-02,\n",
       "          2.00260460e-01, -1.29520938e-01, -8.32237154e-02,\n",
       "         -1.67698964e-01, -5.21449149e-02, -4.21938747e-02,\n",
       "         -2.75113106e-01],\n",
       "        [ 2.67214090e-01, -2.47749001e-01, -1.73508972e-01,\n",
       "         -2.52517134e-01, -2.10442066e-01, -1.51645169e-01,\n",
       "          1.41996235e-01,  2.37816125e-01, -2.61772990e-01,\n",
       "         -7.83371925e-03],\n",
       "        [ 2.97969282e-02,  1.78531349e-01,  2.07065046e-02,\n",
       "          1.06931061e-01,  3.74700725e-02, -2.14013904e-01,\n",
       "         -2.35300869e-01,  1.01738274e-01, -2.83544064e-02,\n",
       "         -1.29452780e-01],\n",
       "        [ 3.98902595e-02,  1.46511614e-01,  1.69107735e-01,\n",
       "         -3.99739593e-02,  9.57438946e-02,  1.83647454e-01,\n",
       "          1.78656727e-01,  7.93918669e-02,  9.61771607e-03,\n",
       "         -1.24049425e-01],\n",
       "        [ 7.54029751e-02,  2.05927581e-01, -2.17341363e-01,\n",
       "         -2.30363637e-01, -2.07849234e-01,  1.41276866e-01,\n",
       "          1.29487455e-01,  8.88479054e-02,  1.94079041e-01,\n",
       "         -2.47532308e-01],\n",
       "        [-1.83028281e-02,  1.82132989e-01, -5.00990748e-02,\n",
       "         -2.54165471e-01, -1.30657747e-01,  1.60425454e-01,\n",
       "         -1.22701347e-01, -1.10511109e-01,  2.07777739e-01,\n",
       "         -1.07433438e-01],\n",
       "        [ 1.06150001e-01,  1.28221512e-03,  2.28749782e-01,\n",
       "          1.83584750e-01,  2.68506378e-01, -2.67713130e-01,\n",
       "         -8.77356976e-02, -1.36156082e-01,  3.16599309e-02,\n",
       "          2.72668511e-01],\n",
       "        [ 1.55654162e-01, -2.17449963e-02, -8.08036774e-02,\n",
       "          1.45289600e-01,  2.04159319e-02,  5.30101657e-02,\n",
       "          1.87342793e-01,  7.68246353e-02,  2.82655567e-01,\n",
       "         -1.72461927e-01],\n",
       "        [ 5.74638247e-02, -1.56683564e-01,  8.71107578e-02,\n",
       "         -1.38308838e-01, -2.83265769e-01, -2.58539617e-01,\n",
       "          2.10792840e-01,  9.60588157e-02, -1.43140972e-01,\n",
       "         -2.73469597e-01],\n",
       "        [ 2.14792877e-01,  2.33595520e-01,  2.57524341e-01,\n",
       "         -6.69779927e-02, -1.30892977e-01,  2.82695025e-01,\n",
       "          7.93143213e-02,  1.16832256e-02,  3.35096419e-02,\n",
       "          1.30964726e-01],\n",
       "        [ 3.14078033e-02,  9.62756574e-02,  5.21005094e-02,\n",
       "         -6.43730164e-06, -2.71668494e-01,  2.44741648e-01,\n",
       "          1.11392856e-01,  2.19836622e-01, -2.44899765e-01,\n",
       "         -1.37793154e-01],\n",
       "        [ 2.20756829e-02,  1.13341480e-01,  2.15789467e-01,\n",
       "         -1.58695921e-01, -2.18447596e-01, -2.10534453e-01,\n",
       "         -6.69926554e-02,  1.58180982e-01,  1.29778296e-01,\n",
       "          1.42619103e-01],\n",
       "        [-2.39412218e-01,  1.61067754e-01,  1.94252968e-01,\n",
       "          1.17930770e-01,  5.56262732e-02,  1.15934104e-01,\n",
       "         -1.09840438e-01,  1.85445637e-01, -1.50543064e-01,\n",
       "          2.46116251e-01],\n",
       "        [ 1.86561882e-01, -1.22470319e-01, -1.08885914e-01,\n",
       "         -1.90628082e-01,  1.85704857e-01,  1.31511450e-01,\n",
       "         -6.26165271e-02, -6.62699193e-02, -1.94971353e-01,\n",
       "         -1.45807266e-02],\n",
       "        [-2.74663478e-01,  2.17005700e-01, -2.26487637e-01,\n",
       "         -1.14349633e-01,  2.75122672e-01, -1.10864937e-02,\n",
       "         -2.06074074e-01, -8.65310431e-04, -2.50560224e-01,\n",
       "         -1.65394753e-01],\n",
       "        [-1.44753337e-01,  2.83969045e-02, -9.70507562e-02,\n",
       "          2.38777190e-01,  1.77819937e-01,  1.65450275e-01,\n",
       "         -1.44408196e-01,  6.83423579e-02, -2.19956100e-01,\n",
       "         -2.81284511e-01],\n",
       "        [-2.50981152e-02,  1.64517075e-01, -2.72538215e-01,\n",
       "         -1.36857435e-01,  1.54577374e-01,  1.87046885e-01,\n",
       "         -2.26920977e-01,  5.00318110e-02, -1.79766387e-01,\n",
       "         -1.17055491e-01],\n",
       "        [-8.60102177e-02,  3.80683243e-02,  8.40885639e-02,\n",
       "          9.74615514e-02, -3.54322493e-02,  2.72284180e-01,\n",
       "         -2.58069634e-01,  1.37239456e-01,  8.34140778e-02,\n",
       "          2.91494727e-02],\n",
       "        [-1.16949439e-01, -7.93087631e-02,  1.26021802e-02,\n",
       "         -1.78919330e-01,  6.65372610e-03,  6.40711784e-02,\n",
       "         -1.49641082e-01, -7.59956241e-03, -1.84512973e-01,\n",
       "          2.81762511e-01],\n",
       "        [ 2.65939385e-01, -1.77545518e-01, -1.12226203e-01,\n",
       "         -1.28822625e-01, -9.80689526e-02, -1.41450882e-01,\n",
       "          2.20173001e-02, -1.79593742e-01, -1.38605371e-01,\n",
       "          1.52945817e-02],\n",
       "        [ 1.28607750e-01, -1.03910193e-01,  5.16045094e-03,\n",
       "         -2.25562721e-01, -2.01179340e-01,  1.13765895e-02,\n",
       "          1.75431460e-01, -6.31281435e-02,  1.08789325e-01,\n",
       "         -9.99750644e-02],\n",
       "        [ 9.64030325e-02, -2.75355339e-01,  1.25510186e-01,\n",
       "         -1.65856123e-01,  3.61936986e-02, -4.09620255e-02,\n",
       "          1.25706524e-01, -1.93537474e-02, -1.50990918e-01,\n",
       "         -2.55402029e-02],\n",
       "        [-2.11901739e-01, -5.74198961e-02,  2.76901454e-01,\n",
       "          2.33264416e-01, -2.78232008e-01,  1.44898832e-01,\n",
       "          1.50414407e-02,  1.86527729e-01, -4.79646474e-02,\n",
       "         -1.41279936e-01],\n",
       "        [ 4.30734456e-02, -2.27211952e-01,  1.57482415e-01,\n",
       "          3.02972496e-02, -3.05495262e-02,  1.86558425e-01,\n",
       "          2.23460197e-02,  2.80865341e-01,  2.57369787e-01,\n",
       "         -1.68943852e-01],\n",
       "        [ 2.10188687e-01,  2.79602975e-01, -1.20030656e-01,\n",
       "          1.49590641e-01, -8.78700465e-02, -7.68703818e-02,\n",
       "          4.12461162e-03, -1.72961175e-01,  2.24895924e-01,\n",
       "         -1.10119462e-01],\n",
       "        [-2.10930452e-01, -5.01315892e-02, -1.52582720e-01,\n",
       "          9.76580977e-02,  2.83131301e-02,  1.94081545e-01,\n",
       "          2.78502077e-01, -2.79070318e-01,  1.60806865e-01,\n",
       "         -1.73100770e-01],\n",
       "        [-2.06249774e-01, -3.11145782e-02,  4.82823551e-02,\n",
       "          2.50864953e-01, -9.50998962e-02, -1.93534076e-01,\n",
       "          4.33032513e-02, -2.51254588e-01,  1.67903095e-01,\n",
       "         -6.73428327e-02],\n",
       "        [ 5.70868850e-02,  7.64292479e-02,  7.45159388e-02,\n",
       "         -2.62752146e-01,  8.94664526e-02, -1.97014078e-01,\n",
       "          2.56331354e-01,  7.08509386e-02, -9.43721831e-02,\n",
       "         -3.64551395e-02],\n",
       "        [-1.81261837e-01, -4.33052182e-02,  1.47061974e-01,\n",
       "          2.47216195e-01, -4.15523201e-02,  1.86792761e-01,\n",
       "          7.17040300e-02, -8.27378333e-02, -1.19878650e-02,\n",
       "         -2.50705242e-01],\n",
       "        [ 4.20407951e-02,  1.94878161e-01, -2.26535916e-01,\n",
       "          1.81522369e-02, -2.52646238e-01,  1.08439267e-01,\n",
       "          1.92229062e-01,  2.00101465e-01, -4.55384254e-02,\n",
       "          1.91274196e-01],\n",
       "        [ 1.08605057e-01,  2.08160281e-03, -1.68571472e-01,\n",
       "         -2.60930747e-01,  2.37522393e-01,  2.70311683e-01,\n",
       "         -4.84875888e-02, -9.79068875e-03,  1.29683524e-01,\n",
       "         -1.06966153e-01],\n",
       "        [ 1.54223114e-01,  1.19442940e-01, -4.44471091e-02,\n",
       "         -1.84037954e-01,  9.97365117e-02,  2.74736077e-01,\n",
       "         -1.12086415e-01, -2.37407535e-01,  4.81042266e-02,\n",
       "         -1.70681208e-01],\n",
       "        [-2.81289041e-01,  2.69198418e-02, -1.58877522e-01,\n",
       "         -2.41299003e-01, -1.80688649e-01,  1.27916515e-01,\n",
       "          1.46472424e-01,  2.63782293e-01,  2.21552581e-01,\n",
       "         -2.41076589e-01]], dtype=float32)>,\n",
       " <tf.Variable 'dense_3/bias:0' shape=(10,) dtype=float32, numpy=array([0., 0., 0., 0., 0., 0., 0., 0., 0., 0.], dtype=float32)>]"
      ]
     },
     "execution_count": 6,
     "metadata": {},
     "output_type": "execute_result"
    }
   ],
   "source": [
    "model.weights"
   ]
  },
  {
   "cell_type": "code",
   "execution_count": 7,
   "id": "17457f85-4637-49eb-9d46-6b105763cb73",
   "metadata": {},
   "outputs": [
    {
     "name": "stdout",
     "output_type": "stream",
     "text": [
      "Model: \"sequential_1\"\n",
      "_________________________________________________________________\n",
      " Layer (type)                Output Shape              Param #   \n",
      "=================================================================\n",
      " dense_2 (Dense)             (None, 64)                256       \n",
      "                                                                 \n",
      " dense_3 (Dense)             (None, 10)                650       \n",
      "                                                                 \n",
      "=================================================================\n",
      "Total params: 906\n",
      "Trainable params: 906\n",
      "Non-trainable params: 0\n",
      "_________________________________________________________________\n"
     ]
    }
   ],
   "source": [
    "model.summary()"
   ]
  },
  {
   "cell_type": "code",
   "execution_count": 8,
   "id": "039e8b10-07bd-4231-a69a-632902698ec0",
   "metadata": {},
   "outputs": [],
   "source": [
    "model = keras.Sequential(name='my_example_model')\n",
    "model.add(layers.Dense(64, activation='relu', name='my_first_layer'))\n",
    "model.add(layers.Dense(10, activation='softmax', name='my_last_layer'))\n",
    "model.build((None, 3))"
   ]
  },
  {
   "cell_type": "code",
   "execution_count": 9,
   "id": "6bcd221e-e169-48cb-b192-0b3d156f30fe",
   "metadata": {},
   "outputs": [
    {
     "name": "stdout",
     "output_type": "stream",
     "text": [
      "Model: \"my_example_model\"\n",
      "_________________________________________________________________\n",
      " Layer (type)                Output Shape              Param #   \n",
      "=================================================================\n",
      " my_first_layer (Dense)      (None, 64)                256       \n",
      "                                                                 \n",
      " my_last_layer (Dense)       (None, 10)                650       \n",
      "                                                                 \n",
      "=================================================================\n",
      "Total params: 906\n",
      "Trainable params: 906\n",
      "Non-trainable params: 0\n",
      "_________________________________________________________________\n"
     ]
    }
   ],
   "source": [
    "model.summary()"
   ]
  },
  {
   "cell_type": "code",
   "execution_count": 10,
   "id": "708ad752-358f-446a-b905-2102ef08379a",
   "metadata": {},
   "outputs": [],
   "source": [
    "model = keras.Sequential()\n",
    "model.add(keras.Input(shape=(3,)))\n",
    "model.add(layers.Dense(64, activation='relu'))"
   ]
  },
  {
   "cell_type": "code",
   "execution_count": 11,
   "id": "ef14e13c-8300-49fd-a41c-8ce4b36b4ce2",
   "metadata": {},
   "outputs": [
    {
     "name": "stdout",
     "output_type": "stream",
     "text": [
      "Model: \"sequential_2\"\n",
      "_________________________________________________________________\n",
      " Layer (type)                Output Shape              Param #   \n",
      "=================================================================\n",
      " dense_4 (Dense)             (None, 64)                256       \n",
      "                                                                 \n",
      "=================================================================\n",
      "Total params: 256\n",
      "Trainable params: 256\n",
      "Non-trainable params: 0\n",
      "_________________________________________________________________\n"
     ]
    }
   ],
   "source": [
    "model.summary()"
   ]
  },
  {
   "cell_type": "code",
   "execution_count": 12,
   "id": "13dec847-7031-4072-a715-09b49f217d82",
   "metadata": {},
   "outputs": [
    {
     "name": "stdout",
     "output_type": "stream",
     "text": [
      "Model: \"sequential_2\"\n",
      "_________________________________________________________________\n",
      " Layer (type)                Output Shape              Param #   \n",
      "=================================================================\n",
      " dense_4 (Dense)             (None, 64)                256       \n",
      "                                                                 \n",
      " dense_5 (Dense)             (None, 10)                650       \n",
      "                                                                 \n",
      "=================================================================\n",
      "Total params: 906\n",
      "Trainable params: 906\n",
      "Non-trainable params: 0\n",
      "_________________________________________________________________\n"
     ]
    }
   ],
   "source": [
    "model.add(layers.Dense(10, activation='softmax'))\n",
    "model.summary()"
   ]
  },
  {
   "cell_type": "code",
   "execution_count": 13,
   "id": "b7b4f717-ec2e-4c34-9cde-10562a88560c",
   "metadata": {},
   "outputs": [],
   "source": [
    "inputs = keras.Input(shape=(3,), name='my_input')\n",
    "features = layers.Dense(64, activation='relu')(inputs)\n",
    "outputs = layers.Dense(10, activation='softmax')(features)\n",
    "model = keras.Model(inputs=inputs, outputs=outputs)"
   ]
  },
  {
   "cell_type": "code",
   "execution_count": 14,
   "id": "e094e85e-92f4-457b-a088-7aa6e2b02a94",
   "metadata": {},
   "outputs": [
    {
     "data": {
      "text/plain": [
       "TensorShape([None, 3])"
      ]
     },
     "execution_count": 14,
     "metadata": {},
     "output_type": "execute_result"
    }
   ],
   "source": [
    "inputs.shape"
   ]
  },
  {
   "cell_type": "code",
   "execution_count": 15,
   "id": "8e18ee32-ec72-4092-b3e4-5e901659efdc",
   "metadata": {},
   "outputs": [
    {
     "data": {
      "text/plain": [
       "tf.float32"
      ]
     },
     "execution_count": 15,
     "metadata": {},
     "output_type": "execute_result"
    }
   ],
   "source": [
    "inputs.dtype"
   ]
  },
  {
   "cell_type": "code",
   "execution_count": 16,
   "id": "34887225-5b02-416f-bcdb-3b5198a70fc2",
   "metadata": {},
   "outputs": [
    {
     "data": {
      "text/plain": [
       "TensorShape([None, 64])"
      ]
     },
     "execution_count": 16,
     "metadata": {},
     "output_type": "execute_result"
    }
   ],
   "source": [
    "features.shape"
   ]
  },
  {
   "cell_type": "code",
   "execution_count": 17,
   "id": "6ab3955a-7067-4dfd-9ccb-a8ffdeefb651",
   "metadata": {},
   "outputs": [
    {
     "name": "stdout",
     "output_type": "stream",
     "text": [
      "Model: \"model\"\n",
      "_________________________________________________________________\n",
      " Layer (type)                Output Shape              Param #   \n",
      "=================================================================\n",
      " my_input (InputLayer)       [(None, 3)]               0         \n",
      "                                                                 \n",
      " dense_6 (Dense)             (None, 64)                256       \n",
      "                                                                 \n",
      " dense_7 (Dense)             (None, 10)                650       \n",
      "                                                                 \n",
      "=================================================================\n",
      "Total params: 906\n",
      "Trainable params: 906\n",
      "Non-trainable params: 0\n",
      "_________________________________________________________________\n"
     ]
    }
   ],
   "source": [
    "model.summary()"
   ]
  },
  {
   "cell_type": "code",
   "execution_count": 18,
   "id": "8779f816-94d4-4ed0-8bb0-4dbc46afd724",
   "metadata": {},
   "outputs": [],
   "source": [
    "vocabulary_size = 10000\n",
    "num_tags = 100\n",
    "num_departments = 4\n",
    "\n",
    "title = keras.Input(shape=(vocabulary_size,), name='title')\n",
    "text_body = keras.Input(shape=(vocabulary_size,), name='text_body')\n",
    "tags = keras.Input(shape=(vocabulary_size,), name='tags')\n",
    "\n",
    "features = layers.Concatenate()([title, text_body, tags])\n",
    "features = layers.Dense(64, activation='relu')(features)\n",
    "\n",
    "priority = layers.Dense(1, activation='sigmoid', name='priority')(features)\n",
    "department = layers.Dense(\n",
    "    num_departments, activation='softmax', name='department')(features)\n",
    "\n",
    "model = keras.Model(inputs=[title, text_body, tags],\n",
    "                    outputs=[priority, department])"
   ]
  },
  {
   "cell_type": "code",
   "execution_count": 19,
   "id": "f99f8b0d-d708-419a-9ae6-7306f4d967ab",
   "metadata": {},
   "outputs": [],
   "source": [
    "import numpy as np"
   ]
  },
  {
   "cell_type": "code",
   "execution_count": 20,
   "id": "32330d2b-1b48-4933-bddf-e4ac759230be",
   "metadata": {},
   "outputs": [],
   "source": [
    "num_samples = 1280\n",
    "\n",
    "title_data = np.random.randint(0, 2, size=(num_samples, vocabulary_size))\n",
    "text_body_data = np.random.randint(0, 2, size=(num_samples, vocabulary_size))\n",
    "tags_data = np.random.randint(0, 2, size=(num_samples, num_tags))"
   ]
  },
  {
   "cell_type": "code",
   "execution_count": 21,
   "id": "d4584574-243a-4527-9297-1b37bbfc6b66",
   "metadata": {},
   "outputs": [],
   "source": [
    "priority_data = np.random.random(size=(num_samples,1))\n",
    "department_data = np.random.randint(0, 2, size=(num_samples, num_departments))"
   ]
  },
  {
   "cell_type": "code",
   "execution_count": 22,
   "id": "fa922eee-1a10-4980-a091-fc409394d43a",
   "metadata": {},
   "outputs": [],
   "source": [
    "model.compile(optimizer='rmsprop', \n",
    "              loss=['mean_squared_error', 'categorical_crossentropy'],\n",
    "              metrics=[['mean_absolute_error'],['accuracy']])"
   ]
  },
  {
   "cell_type": "code",
   "execution_count": null,
   "id": "b648f240-f3e5-49ed-8ddd-a2878111ff46",
   "metadata": {},
   "outputs": [],
   "source": [
    "model.fit([title_data, text_body_data, tags_data],\n",
    "          [priority_data, department_data],\n",
    "          epochs=1)"
   ]
  },
  {
   "cell_type": "code",
   "execution_count": 34,
   "id": "865b8d8d-2cd1-482c-a8d8-ce0611b31540",
   "metadata": {},
   "outputs": [
    {
     "name": "stdout",
     "output_type": "stream",
     "text": [
      "You must install pydot (`pip install pydot`) and install graphviz (see instructions at https://graphviz.gitlab.io/download/) for plot_model to work.\n"
     ]
    }
   ],
   "source": [
    "keras.utils.plot_model(model, 'ticket_classifier.png')"
   ]
  },
  {
   "cell_type": "code",
   "execution_count": 35,
   "id": "90f97a94-02ce-48f9-87c7-2651679ede97",
   "metadata": {},
   "outputs": [
    {
     "data": {
      "text/plain": [
       "[<keras.engine.input_layer.InputLayer at 0x1fabe6224c0>,\n",
       " <keras.engine.input_layer.InputLayer at 0x1fabe622790>,\n",
       " <keras.engine.input_layer.InputLayer at 0x1fabe622430>,\n",
       " <keras.layers.merging.concatenate.Concatenate at 0x1fabe668e80>,\n",
       " <keras.layers.core.dense.Dense at 0x1fabd22ed00>,\n",
       " <keras.layers.core.dense.Dense at 0x1fabd22e310>,\n",
       " <keras.layers.core.dense.Dense at 0x1f54116b5e0>]"
      ]
     },
     "execution_count": 35,
     "metadata": {},
     "output_type": "execute_result"
    }
   ],
   "source": [
    "model.layers"
   ]
  },
  {
   "cell_type": "code",
   "execution_count": 36,
   "id": "09083dfa-0c39-4886-a65e-74aeb0965203",
   "metadata": {},
   "outputs": [
    {
     "data": {
      "text/plain": [
       "[<KerasTensor: shape=(None, 10000) dtype=float32 (created by layer 'title')>,\n",
       " <KerasTensor: shape=(None, 10000) dtype=float32 (created by layer 'text_body')>,\n",
       " <KerasTensor: shape=(None, 10000) dtype=float32 (created by layer 'tags')>]"
      ]
     },
     "execution_count": 36,
     "metadata": {},
     "output_type": "execute_result"
    }
   ],
   "source": [
    "model.layers[3].input"
   ]
  },
  {
   "cell_type": "code",
   "execution_count": 37,
   "id": "b2d3d325-e652-4163-b83d-e246633c5014",
   "metadata": {},
   "outputs": [],
   "source": [
    "features = model.layers[4].output"
   ]
  },
  {
   "cell_type": "code",
   "execution_count": 38,
   "id": "9c0954fe-526f-4021-a3c7-120824563f05",
   "metadata": {},
   "outputs": [],
   "source": [
    "difficulty = layers.Dense(3, activation='softmax', name='difficulty')(features)"
   ]
  },
  {
   "cell_type": "code",
   "execution_count": 39,
   "id": "70e6670b-c7c9-444e-a004-e7b04eb63d60",
   "metadata": {},
   "outputs": [],
   "source": [
    "new_model = keras.Model(inputs=[title, text_body, tags],\n",
    "                        outputs=[priority, department, difficulty])"
   ]
  },
  {
   "cell_type": "code",
   "execution_count": null,
   "id": "fd9a8a5b-7c33-448c-b08b-26b285c5bd07",
   "metadata": {},
   "outputs": [],
   "source": [
    "keras.utils.plot_model(\n",
    "    new_model, 'updated_ticket_classifier.png', show_shapes=True)"
   ]
  },
  {
   "cell_type": "code",
   "execution_count": 40,
   "id": "4eb59165-102a-4c18-8ff2-068901f9385c",
   "metadata": {},
   "outputs": [],
   "source": [
    "class CustomerTicketModel(keras.Model):\n",
    "    \n",
    "    def __init__(self, num_departments):\n",
    "        super().__init__()\n",
    "        self.concat_layer = layers.Concatenate()\n",
    "        self.mixing_layer = layers.Dense(64, activation='relu')\n",
    "        self.priority_scorer = layers.Dense(1, activation='sigmoid')\n",
    "        self.department_classifier = layers.Dense(\n",
    "            num_departments, activation='softmax')\n",
    "        \n",
    "    def call(self, inputs):\n",
    "        title = inputs['title']\n",
    "        text_body = inputs['text_body']\n",
    "        tags = inputs['tags']\n",
    "        \n",
    "        features = self.concat_layer([title, text_body, tags])\n",
    "        features = self.mixing_layer(features)\n",
    "        priority = self.priority_scorer(features)\n",
    "        department = self.department_classifier(features)\n",
    "        return priority, department"
   ]
  },
  {
   "cell_type": "code",
   "execution_count": 41,
   "id": "c0d35677-4612-4a56-9e12-491b208eb93e",
   "metadata": {},
   "outputs": [],
   "source": [
    "model = CustomerTicketModel(num_departments=4)"
   ]
  },
  {
   "cell_type": "code",
   "execution_count": null,
   "id": "cdd67daa-c6db-4752-9395-566f1ff63bc5",
   "metadata": {},
   "outputs": [],
   "source": [
    "priority, department = model({'title': title_data, 'text_body': text_body_data, 'tags': tags_data})"
   ]
  },
  {
   "cell_type": "code",
   "execution_count": 42,
   "id": "a818960d-a1bb-46b2-a767-76b43198c38b",
   "metadata": {},
   "outputs": [],
   "source": [
    "class Classifier(keras.Model):\n",
    "    \n",
    "    def __init__(self, num_classes=2):\n",
    "        super().__init__()\n",
    "        if num_classes == 2:\n",
    "            num_units = 1\n",
    "            activation = 'sigmoid'\n",
    "        else:\n",
    "            num_units = num_classes\n",
    "            activation = 'softmax'\n",
    "        self.dense = layers.Dense(num_units, activation=activation)\n",
    "        \n",
    "    def call(self, inputs):\n",
    "        return self.dense(inputs)\n",
    "    \n",
    "inputs = keras.Input(shape=(3,))\n",
    "features = layers.Dense(64, activation='relu')(inputs)\n",
    "outputs = Classifier(num_classes=10)(features)\n",
    "model = keras.Model(inputs=inputs, outputs=outputs)"
   ]
  },
  {
   "cell_type": "code",
   "execution_count": 43,
   "id": "61ae6bdd-bb33-4e90-ac37-d6da359700ad",
   "metadata": {},
   "outputs": [],
   "source": [
    "inputs = keras.Input(shape=(64,))\n",
    "outputs = layers.Dense(1, activation='sigmoid')(inputs)\n",
    "binary_classifier = keras.Model(inputs=inputs, outputs=outputs)\n",
    "\n",
    "class MyModel(keras.Model):\n",
    "    \n",
    "    def __init__(self, num_classes=2):\n",
    "        super().__init__()\n",
    "        self.dense = layers.Dense(64, activation='relu')\n",
    "        self.classifier = binary_classifier\n",
    "        \n",
    "    def call(self, inputs):\n",
    "        features = self.dense(inputs)\n",
    "        return self.classifier(features)\n",
    "    \n",
    "model = MyModel()"
   ]
  },
  {
   "cell_type": "code",
   "execution_count": null,
   "id": "0d45338b-e587-45ae-98cc-117df7b48a25",
   "metadata": {},
   "outputs": [],
   "source": []
  }
 ],
 "metadata": {
  "kernelspec": {
   "display_name": "Python 3 (ipykernel)",
   "language": "python",
   "name": "python3"
  },
  "language_info": {
   "codemirror_mode": {
    "name": "ipython",
    "version": 3
   },
   "file_extension": ".py",
   "mimetype": "text/x-python",
   "name": "python",
   "nbconvert_exporter": "python",
   "pygments_lexer": "ipython3",
   "version": "3.9.13"
  }
 },
 "nbformat": 4,
 "nbformat_minor": 5
}
