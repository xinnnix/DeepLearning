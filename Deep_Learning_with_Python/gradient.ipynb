{
 "cells": [
  {
   "cell_type": "code",
   "execution_count": 1,
   "id": "9fda0867-ec52-401d-9ed6-bc9a36c66b1a",
   "metadata": {},
   "outputs": [],
   "source": [
    "import tensorflow as tf"
   ]
  },
  {
   "cell_type": "code",
   "execution_count": 2,
   "id": "a5a48232-ba55-45ed-8007-ea77169cbb4c",
   "metadata": {},
   "outputs": [],
   "source": [
    "x = tf.Variable(0.)"
   ]
  },
  {
   "cell_type": "code",
   "execution_count": 3,
   "id": "4e9ec26d-bc7e-4794-8311-17e2eb7dd38b",
   "metadata": {},
   "outputs": [],
   "source": [
    "with tf.GradientTape() as tape:\n",
    "    y = 2 * x + 3"
   ]
  },
  {
   "cell_type": "code",
   "execution_count": 4,
   "id": "d625194f-ae57-4264-a028-2378eb53b5ed",
   "metadata": {},
   "outputs": [],
   "source": [
    "grad_of_y_wrt_x = tape.gradient(y, x)"
   ]
  },
  {
   "cell_type": "code",
   "execution_count": 5,
   "id": "55dbbc0c-b33d-4265-a59e-b61344217071",
   "metadata": {},
   "outputs": [
    {
     "data": {
      "text/plain": [
       "<tf.Tensor: shape=(), dtype=float32, numpy=2.0>"
      ]
     },
     "execution_count": 5,
     "metadata": {},
     "output_type": "execute_result"
    }
   ],
   "source": [
    "grad_of_y_wrt_x"
   ]
  },
  {
   "cell_type": "code",
   "execution_count": 6,
   "id": "2a1ca002-8eae-48b5-ba28-9e0486ae404a",
   "metadata": {},
   "outputs": [],
   "source": [
    "x = tf.Variable(tf.random.uniform((2, 2)))"
   ]
  },
  {
   "cell_type": "code",
   "execution_count": 7,
   "id": "4d0c1f71-2a8c-4753-8235-3789fd2fb3b7",
   "metadata": {},
   "outputs": [
    {
     "data": {
      "text/plain": [
       "<tf.Variable 'Variable:0' shape=(2, 2) dtype=float32, numpy=\n",
       "array([[0.21918619, 0.8435168 ],\n",
       "       [0.38318253, 0.43405223]], dtype=float32)>"
      ]
     },
     "execution_count": 7,
     "metadata": {},
     "output_type": "execute_result"
    }
   ],
   "source": [
    "x"
   ]
  },
  {
   "cell_type": "code",
   "execution_count": 8,
   "id": "70346ef4-7b8e-471b-9393-bd8fc6a37490",
   "metadata": {},
   "outputs": [],
   "source": [
    "with tf.GradientTape() as tape:\n",
    "    y = 2 * x + 3"
   ]
  },
  {
   "cell_type": "code",
   "execution_count": 9,
   "id": "0e8b07a6-ca9a-4001-9362-8f059293739a",
   "metadata": {},
   "outputs": [],
   "source": [
    "grad_of_y_wrt_x = tape.gradient(y, x)"
   ]
  },
  {
   "cell_type": "code",
   "execution_count": 10,
   "id": "b80b1c49-4867-471f-bd1b-ad37b3001d56",
   "metadata": {},
   "outputs": [
    {
     "data": {
      "text/plain": [
       "<tf.Tensor: shape=(2, 2), dtype=float32, numpy=\n",
       "array([[2., 2.],\n",
       "       [2., 2.]], dtype=float32)>"
      ]
     },
     "execution_count": 10,
     "metadata": {},
     "output_type": "execute_result"
    }
   ],
   "source": [
    "grad_of_y_wrt_x"
   ]
  },
  {
   "cell_type": "code",
   "execution_count": 11,
   "id": "cd3b2589-2f8a-4e06-8731-11e077e8e394",
   "metadata": {},
   "outputs": [],
   "source": [
    "W = tf.Variable(tf.random.uniform((2,2)))\n",
    "b = tf.Variable(tf.zeros((2,)))\n",
    "x = tf.random.uniform((2, 2))"
   ]
  },
  {
   "cell_type": "code",
   "execution_count": 12,
   "id": "ce3e9d5d-903f-4ee6-b361-b28841174c08",
   "metadata": {},
   "outputs": [],
   "source": [
    "with tf.GradientTape() as tape:\n",
    "    y = tf.matmul(x, W) + b"
   ]
  },
  {
   "cell_type": "code",
   "execution_count": 13,
   "id": "39a3b729-7f12-4d40-a80e-3f07f689d53b",
   "metadata": {},
   "outputs": [],
   "source": [
    "grad_of_y_wrt_W_and_b = tape.gradient(y, [W, b])"
   ]
  },
  {
   "cell_type": "code",
   "execution_count": 14,
   "id": "86b09e99-c928-4021-ac84-4f06e8192f9c",
   "metadata": {},
   "outputs": [
    {
     "data": {
      "text/plain": [
       "[<tf.Tensor: shape=(2, 2), dtype=float32, numpy=\n",
       " array([[1.0247803, 1.0247803],\n",
       "        [0.9001465, 0.9001465]], dtype=float32)>,\n",
       " <tf.Tensor: shape=(2,), dtype=float32, numpy=array([2., 2.], dtype=float32)>]"
      ]
     },
     "execution_count": 14,
     "metadata": {},
     "output_type": "execute_result"
    }
   ],
   "source": [
    "grad_of_y_wrt_W_and_b"
   ]
  },
  {
   "cell_type": "code",
   "execution_count": null,
   "id": "077e27a0-eec9-45e3-b35a-b5b7dadc447a",
   "metadata": {},
   "outputs": [],
   "source": []
  }
 ],
 "metadata": {
  "kernelspec": {
   "display_name": "Python 3 (ipykernel)",
   "language": "python",
   "name": "python3"
  },
  "language_info": {
   "codemirror_mode": {
    "name": "ipython",
    "version": 3
   },
   "file_extension": ".py",
   "mimetype": "text/x-python",
   "name": "python",
   "nbconvert_exporter": "python",
   "pygments_lexer": "ipython3",
   "version": "3.9.13"
  }
 },
 "nbformat": 4,
 "nbformat_minor": 5
}
