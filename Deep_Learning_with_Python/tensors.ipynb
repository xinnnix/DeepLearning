{
 "cells": [
  {
   "cell_type": "code",
   "execution_count": 1,
   "id": "19b756b8-c8d4-49ea-a8c8-b862552a7a69",
   "metadata": {},
   "outputs": [],
   "source": [
    "import tensorflow as tf"
   ]
  },
  {
   "cell_type": "code",
   "execution_count": 2,
   "id": "f0375f1a-d205-4d87-b982-1747782b2c31",
   "metadata": {},
   "outputs": [],
   "source": [
    "x = tf.ones(shape=(2,1))"
   ]
  },
  {
   "cell_type": "code",
   "execution_count": 3,
   "id": "d5801b27-219d-441e-8271-5b7b811ce513",
   "metadata": {},
   "outputs": [
    {
     "data": {
      "text/plain": [
       "<tf.Tensor: shape=(2, 1), dtype=float32, numpy=\n",
       "array([[1.],\n",
       "       [1.]], dtype=float32)>"
      ]
     },
     "execution_count": 3,
     "metadata": {},
     "output_type": "execute_result"
    }
   ],
   "source": [
    "x"
   ]
  },
  {
   "cell_type": "code",
   "execution_count": 4,
   "id": "91d85a4a-357e-419d-9e47-b967e03194b3",
   "metadata": {},
   "outputs": [
    {
     "name": "stdout",
     "output_type": "stream",
     "text": [
      "tf.Tensor(\n",
      "[[1.]\n",
      " [1.]], shape=(2, 1), dtype=float32)\n"
     ]
    }
   ],
   "source": [
    "print(x)"
   ]
  },
  {
   "cell_type": "code",
   "execution_count": 5,
   "id": "812c3334-7bde-4e01-984e-0a704b237545",
   "metadata": {},
   "outputs": [],
   "source": [
    "x = tf.zeros(shape=(2,1))"
   ]
  },
  {
   "cell_type": "code",
   "execution_count": 6,
   "id": "e5514563-2ff1-4803-a3d9-1223b3446aaa",
   "metadata": {},
   "outputs": [
    {
     "name": "stdout",
     "output_type": "stream",
     "text": [
      "tf.Tensor(\n",
      "[[0.]\n",
      " [0.]], shape=(2, 1), dtype=float32)\n"
     ]
    }
   ],
   "source": [
    "print(x)"
   ]
  },
  {
   "cell_type": "code",
   "execution_count": 7,
   "id": "bbc1bae7-a5df-4dfa-b591-4a6a4fb721c4",
   "metadata": {},
   "outputs": [],
   "source": [
    "x = tf.random.normal(shape=(3,1), mean=0., stddev=1.)"
   ]
  },
  {
   "cell_type": "code",
   "execution_count": 8,
   "id": "b0609873-9f9c-4875-aa16-a81078c48dc9",
   "metadata": {},
   "outputs": [
    {
     "name": "stdout",
     "output_type": "stream",
     "text": [
      "tf.Tensor(\n",
      "[[ 1.1646358 ]\n",
      " [-0.26050988]\n",
      " [-0.545091  ]], shape=(3, 1), dtype=float32)\n"
     ]
    }
   ],
   "source": [
    "print(x)"
   ]
  },
  {
   "cell_type": "code",
   "execution_count": 9,
   "id": "dac1ff43-6f5a-4ef3-baf9-c16843105cc7",
   "metadata": {},
   "outputs": [],
   "source": [
    "x = tf.random.uniform(shape=(3,1), minval=0., maxval=1.)"
   ]
  },
  {
   "cell_type": "code",
   "execution_count": 10,
   "id": "7a9fc12b-b736-46ff-bc95-3cb4cba5b088",
   "metadata": {},
   "outputs": [
    {
     "name": "stdout",
     "output_type": "stream",
     "text": [
      "tf.Tensor(\n",
      "[[0.82160354]\n",
      " [0.2840973 ]\n",
      " [0.33239448]], shape=(3, 1), dtype=float32)\n"
     ]
    }
   ],
   "source": [
    "print(x)"
   ]
  },
  {
   "cell_type": "code",
   "execution_count": 11,
   "id": "f75f497f-177b-464a-9793-d287ae7f1082",
   "metadata": {},
   "outputs": [],
   "source": [
    "import numpy as np"
   ]
  },
  {
   "cell_type": "code",
   "execution_count": 12,
   "id": "e33f43b1-c63d-404e-98e2-0b4c0a47f6af",
   "metadata": {},
   "outputs": [],
   "source": [
    "x = np.ones(shape=(2,2))"
   ]
  },
  {
   "cell_type": "code",
   "execution_count": 13,
   "id": "29dabf3d-b797-46f2-b03b-a5cb317ec85e",
   "metadata": {},
   "outputs": [
    {
     "data": {
      "text/plain": [
       "array([[1., 1.],\n",
       "       [1., 1.]])"
      ]
     },
     "execution_count": 13,
     "metadata": {},
     "output_type": "execute_result"
    }
   ],
   "source": [
    "x"
   ]
  },
  {
   "cell_type": "code",
   "execution_count": 14,
   "id": "a6b5a5f8-520e-4559-8d5e-711a9a61c222",
   "metadata": {},
   "outputs": [],
   "source": [
    "x[0,0] = 0."
   ]
  },
  {
   "cell_type": "code",
   "execution_count": 15,
   "id": "c13b768f-c0a7-481e-b39e-3c1a081a76fb",
   "metadata": {},
   "outputs": [
    {
     "data": {
      "text/plain": [
       "array([[0., 1.],\n",
       "       [1., 1.]])"
      ]
     },
     "execution_count": 15,
     "metadata": {},
     "output_type": "execute_result"
    }
   ],
   "source": [
    "x"
   ]
  },
  {
   "cell_type": "code",
   "execution_count": 16,
   "id": "945f338f-9f54-4445-905c-96314bf6a37e",
   "metadata": {},
   "outputs": [],
   "source": [
    "x = tf.ones(shape=(2,2))"
   ]
  },
  {
   "cell_type": "code",
   "execution_count": 18,
   "id": "722afa77-4bc5-4bf4-aa40-07fe0ef44bec",
   "metadata": {},
   "outputs": [],
   "source": [
    "v = tf.Variable(initial_value=tf.random.normal(shape=(3,1)))"
   ]
  },
  {
   "cell_type": "code",
   "execution_count": 19,
   "id": "58b2b230-dcd5-495d-ae16-70a90ec9eb6b",
   "metadata": {},
   "outputs": [
    {
     "name": "stdout",
     "output_type": "stream",
     "text": [
      "<tf.Variable 'Variable:0' shape=(3, 1) dtype=float32, numpy=\n",
      "array([[ 1.2538614],\n",
      "       [-0.2763538],\n",
      "       [ 0.0343635]], dtype=float32)>\n"
     ]
    }
   ],
   "source": [
    "print(v)"
   ]
  },
  {
   "cell_type": "code",
   "execution_count": 20,
   "id": "ccf5b495-34d8-4e02-b912-7106243bc811",
   "metadata": {},
   "outputs": [
    {
     "data": {
      "text/plain": [
       "<tf.Variable 'UnreadVariable' shape=(3, 1) dtype=float32, numpy=\n",
       "array([[1.],\n",
       "       [1.],\n",
       "       [1.]], dtype=float32)>"
      ]
     },
     "execution_count": 20,
     "metadata": {},
     "output_type": "execute_result"
    }
   ],
   "source": [
    "v.assign(tf.ones((3,1)))"
   ]
  },
  {
   "cell_type": "code",
   "execution_count": 21,
   "id": "a68081e4-aa81-483f-a1a2-5a727f782d94",
   "metadata": {},
   "outputs": [
    {
     "data": {
      "text/plain": [
       "<tf.Variable 'UnreadVariable' shape=(3, 1) dtype=float32, numpy=\n",
       "array([[3.],\n",
       "       [1.],\n",
       "       [1.]], dtype=float32)>"
      ]
     },
     "execution_count": 21,
     "metadata": {},
     "output_type": "execute_result"
    }
   ],
   "source": [
    "v[0,0].assign(3.)"
   ]
  },
  {
   "cell_type": "code",
   "execution_count": 22,
   "id": "7e959fad-dfe4-4555-a435-32111afb644d",
   "metadata": {},
   "outputs": [
    {
     "data": {
      "text/plain": [
       "<tf.Variable 'UnreadVariable' shape=(3, 1) dtype=float32, numpy=\n",
       "array([[4.],\n",
       "       [2.],\n",
       "       [2.]], dtype=float32)>"
      ]
     },
     "execution_count": 22,
     "metadata": {},
     "output_type": "execute_result"
    }
   ],
   "source": [
    "v.assign_add(tf.ones((3,1)))"
   ]
  },
  {
   "cell_type": "code",
   "execution_count": 23,
   "id": "d2523658-b177-4011-a317-c1c14edef960",
   "metadata": {},
   "outputs": [],
   "source": [
    "a = tf.ones((2,2))\n",
    "b = tf.square(a)\n",
    "c = tf.sqrt(a)\n",
    "d = b + c"
   ]
  },
  {
   "cell_type": "code",
   "execution_count": 24,
   "id": "04917c42-e333-4454-971a-96ae53c5699a",
   "metadata": {},
   "outputs": [],
   "source": [
    "e = tf.matmul(a, b)"
   ]
  },
  {
   "cell_type": "code",
   "execution_count": 25,
   "id": "0e5e67bb-5c9c-4b20-b1f0-eb26654f8b42",
   "metadata": {},
   "outputs": [],
   "source": [
    "e *= d"
   ]
  },
  {
   "cell_type": "code",
   "execution_count": 26,
   "id": "c8dea59b-a85b-4cac-9237-a0865454dad1",
   "metadata": {},
   "outputs": [],
   "source": [
    "input_var = tf.Variable(initial_value=3.)\n",
    "with tf.GradientTape() as tape:\n",
    "    result = tf.square(input_var)\n",
    "gradient = tape.gradient(result, input_var)"
   ]
  },
  {
   "cell_type": "code",
   "execution_count": 27,
   "id": "70c31833-9856-43af-b6fb-51c5b93503a5",
   "metadata": {},
   "outputs": [
    {
     "data": {
      "text/plain": [
       "<tf.Tensor: shape=(), dtype=float32, numpy=6.0>"
      ]
     },
     "execution_count": 27,
     "metadata": {},
     "output_type": "execute_result"
    }
   ],
   "source": [
    "gradient"
   ]
  },
  {
   "cell_type": "code",
   "execution_count": 28,
   "id": "dfa8b239-3b0d-41ac-8be9-b32565889e22",
   "metadata": {},
   "outputs": [],
   "source": [
    "input_const = tf.constant(3.)\n",
    "with tf.GradientTape() as tape:\n",
    "    tape.watch(input_const)\n",
    "    result = tf.square(input_const)\n",
    "gradient = tape.gradient(result, input_const)"
   ]
  },
  {
   "cell_type": "code",
   "execution_count": 29,
   "id": "e7458847-0296-42c4-af52-f761c380a055",
   "metadata": {},
   "outputs": [
    {
     "data": {
      "text/plain": [
       "<tf.Tensor: shape=(), dtype=float32, numpy=6.0>"
      ]
     },
     "execution_count": 29,
     "metadata": {},
     "output_type": "execute_result"
    }
   ],
   "source": [
    "gradient"
   ]
  },
  {
   "cell_type": "code",
   "execution_count": 30,
   "id": "ce983826-c3b7-4b43-b911-803a8a7ff00a",
   "metadata": {},
   "outputs": [],
   "source": [
    "time = tf.Variable(0.)\n",
    "with tf.GradientTape() as outer_tape:\n",
    "    with tf.GradientTape() as inner_tape:\n",
    "        position = 4.9 * time ** 2\n",
    "    speed = inner_tape.gradient(position, time)\n",
    "acceleration = outer_tape.gradient(speed, time)"
   ]
  },
  {
   "cell_type": "code",
   "execution_count": 31,
   "id": "4c100a10-428c-4f7b-8ab8-e3db1394b781",
   "metadata": {},
   "outputs": [
    {
     "data": {
      "text/plain": [
       "<tf.Tensor: shape=(), dtype=float32, numpy=9.8>"
      ]
     },
     "execution_count": 31,
     "metadata": {},
     "output_type": "execute_result"
    }
   ],
   "source": [
    "acceleration"
   ]
  },
  {
   "cell_type": "code",
   "execution_count": null,
   "id": "842e20f2-a575-4fd6-8210-41091f95ee8d",
   "metadata": {},
   "outputs": [],
   "source": []
  }
 ],
 "metadata": {
  "kernelspec": {
   "display_name": "Python 3 (ipykernel)",
   "language": "python",
   "name": "python3"
  },
  "language_info": {
   "codemirror_mode": {
    "name": "ipython",
    "version": 3
   },
   "file_extension": ".py",
   "mimetype": "text/x-python",
   "name": "python",
   "nbconvert_exporter": "python",
   "pygments_lexer": "ipython3",
   "version": "3.9.13"
  }
 },
 "nbformat": 4,
 "nbformat_minor": 5
}
